{
 "cells": [
  {
   "cell_type": "markdown",
   "metadata": {
    "id": "GNIwe5N7s0e_"
   },
   "source": [
    "# Real-world Data Wrangling"
   ]
  },
  {
   "cell_type": "markdown",
   "metadata": {
    "id": "_BG63Tpg8ep_"
   },
   "source": [
    "In this project, you will apply the skills you acquired in the course to gather and wrangle real-world data with two datasets of your choice.\n",
    "\n",
    "You will retrieve and extract the data, assess the data programmatically and visually, accross elements of data quality and structure, and implement a cleaning strategy for the data. You will then store the updated data into your selected database/data store, combine the data, and answer a research question with the datasets.\n",
    "\n",
    "Throughout the process, you are expected to:\n",
    "\n",
    "1. Explain your decisions towards methods used for gathering, assessing, cleaning, storing, and answering the research question\n",
    "2. Write code comments so your code is more readable"
   ]
  },
  {
   "cell_type": "markdown",
   "metadata": {
    "id": "lDYDkH-Zs7Nn"
   },
   "source": [
    "## 1. Gather data\n",
    "\n",
    "In this section, you will extract data using two different data gathering methods and combine the data. Use at least two different types of data-gathering methods."
   ]
  },
  {
   "cell_type": "markdown",
   "metadata": {
    "id": "LbN7z7rcuqpO"
   },
   "source": [
    "### **1.1.** Problem Statement"
   ]
  },
  {
   "cell_type": "markdown",
   "metadata": {
    "id": "gi6swhjSYqu2"
   },
   "source": [
    " *The City of Vancouver tracks not only every animal that comes into its shelters, but also those that are reported as lost by their owners. While the city does track those that are matched back to their owner, is it possible that an animal still tracked as lost has possibly been accounted for? If so, is it possible to find somewhat reliable means to match animals based on data entered into a report for lost ones?*"
   ]
  },
  {
   "cell_type": "markdown",
   "metadata": {
    "id": "8AQfBAdUypMm"
   },
   "source": [
    "### **1.2.** Gather at least two datasets using two different data gathering methods\n",
    "\n",
    "List of data gathering methods:\n",
    "\n",
    "- Download data manually\n",
    "- Programmatically downloading files [ X ]\n",
    "- Gather data by accessing APIs [ X ]\n",
    "- Gather and extract data from HTML files using BeautifulSoup\n",
    "- Extract data from a SQL database\n",
    "\n",
    "Each dataset must have at least two variables, and have greater than 500 data samples within each dataset.\n",
    "\n",
    "For each dataset, briefly describe why you picked the dataset and the gathering method (2-3 full sentences), including the names and significance of the variables in the dataset. Show your work (e.g., if using an API to download the data, please include a snippet of your code). \n",
    "\n",
    "Load the dataset programmtically into this notebook."
   ]
  },
  {
   "cell_type": "markdown",
   "metadata": {
    "id": "7e6gS0wL1KTu"
   },
   "source": [
    "#### City of Vancouver Animal Control Inventory - Lost and Found\n",
    "\n",
    "This dataset is information from the City of Vancouver where an owner of an animal has reported them as lost. It also tracks those that were either reported as found or were matched by the shelter back to the owner. \n",
    "\n",
    "I chose this dataset because it will address what animals were reported as lost within the city. This does not cover every animal that was lost, however it does provide a large sample size for this metro area.\n",
    "\n",
    "Further information on the dataset can be found [here](https://opendata.vancouver.ca/explore/dataset/animal-control-inventory-lost-and-found/information).\n",
    "\n",
    "Type: JSON\n",
    "\n",
    "Method: This data was gathered by querying the City of Vancouver's database with the standard Opendatasoft API. I am doing it this way because the data is updated daily, and this guarantees that the most up-to-date information will be used.\n",
    "\n",
    "Dataset variables:\n",
    "\n",
    "- *breed* - type of animal or breed that fits best.\n",
    "- *color* - color of the animal's coat/fur.\n",
    "- *date* - date that the animal was lost\n",
    "- *name* - the given name of the animal being tracked (if known).\n",
    "- *sex* - used to label the biological sex of the animal, as well as if they are spayed or neutered (marked with `F/S` or `M/N` accordingly). `X` = unknown\n",
    "- *state* - the last state of being for the animal, i.e. `matched` or `lost`.\n",
    "\n",
    "After some poking around, I found out that without a `group by` statement, the server only returns 100 results. By including a `group by` statement for all of the fields, this should theoretically drop duplicate values. I'm also filtering out anything before `1998-10-03`, as this is the earliest `DateImpounded` timestamp in the other dataset that will be used."
   ]
  },
  {
   "cell_type": "code",
   "execution_count": null,
   "metadata": {
    "id": "Su8E0uLuYkHU"
   },
   "outputs": [],
   "source": [
    "import requests\n",
    "import pandas as pd\n",
    "import datetime\n",
    "\n",
    "# \"lf\" is for *l*ost and *f*ound\n",
    "lf_api_query = \"https://opendata.vancouver.ca/api/explore/v2.1/catalog/datasets/animal-control-inventory-lost-and-found/records?where=date%20%3E%20%221998-10-02%22&group_by=date%2C%20breed%2C%20color%2C%20name%2C%20sex%2C%20state&order_by=date&limit=-1\"\n",
    "lf_data = requests.get(lf_api_query)\n",
    "lf_data.raise_for_status()"
   ]
  },
  {
   "cell_type": "code",
   "execution_count": 2,
   "metadata": {},
   "outputs": [
    {
     "name": "stdout",
     "output_type": "stream",
     "text": [
      "dict_keys(['total_count', 'results'])\n",
      "17837\n",
      "<class 'list'>\n",
      "<class 'dict'>\n"
     ]
    }
   ],
   "source": [
    "lf_json = lf_data.json()\n",
    "\n",
    "print(lf_json.keys())\n",
    "print(lf_json['total_count'])\n",
    "\n",
    "lf_json['results'][0:3]\n",
    "print(type(lf_json['results']))     # all elements\n",
    "print(type(lf_json['results'][0]))  # individual element"
   ]
  },
  {
   "cell_type": "markdown",
   "metadata": {},
   "source": [
    "Based on our mild digging above, we would want to load specifically the data in the `results` key as a Pandas DataFrame, since `results` is simply a `list` of `dict`'s, which Pandas.DataFrame's constructor can handle."
   ]
  },
  {
   "cell_type": "code",
   "execution_count": 3,
   "metadata": {},
   "outputs": [],
   "source": [
    "lf_df = pd.DataFrame(lf_json['results'])"
   ]
  },
  {
   "cell_type": "markdown",
   "metadata": {
    "id": "hoUjq1tPzz7P"
   },
   "source": [
    "#### City of Vancouver Animal Control Inventory - Register\n",
    "\n",
    "This dataset is a \"general record of each animal that has come into the custody\" the City of Vancouver's animal control service.\n",
    "\n",
    "I chose this dataset to have a record to compare all of the lost and found animals to in the event an animal is reported as lost and the City of Vancouver happens to have them, or someone very much like them, already processed into their database.\n",
    "\n",
    "Like with the lost and found dataset, this data is updated daily. Because I must choose a different method to pull this data, I will download it programatically, as well as in CSV format just to make sure I cover all bases for this project.\n",
    "\n",
    "Type: Semicolon (`;`) delimited \"CSV\" file.\n",
    "\n",
    "Method: Programatic download via HTTP GET request\n",
    "\n",
    "Dataset variables:\n",
    "\n",
    "- *AnimalID* - Unique sequential number given to each entry.\n",
    "- *Breed* - Type of animal.\n",
    "- *ShotsDate* - Date when vaccinated.\n",
    "- *Sex* - M = Male, F = Female, M/N = Male Neutered, F/S = Female Spayed.\n",
    "- *ReceiptNumber* - Point of sales system of record receipt number.\n",
    "- *DateImpounded* - Date first in custody of the City of Vancouver.\n",
    "- *PitNumber* - Number identifying animal kennel, does not change while in custody of the city.\n",
    "- *Name* - Name if known.\n",
    "- *KennelNumber* - Kennel number displayed at the top of each kennel.\n",
    "- *DispositionDate* - Date when animal was no longer under the control of the city.\n",
    "- *Color* - Color of coat.\n",
    "- *Code* - Walk-ability index (*Green = easy, Yellow = moderate, Blue = hard*).\n",
    "- *ApproxWeight* - Approximate weight of animal.\n",
    "- *Age category* - Rough estimate of age - puppy, young adult, adult, senior.\n",
    "- *Source* - Where the animal came from (Brought-in, Holding stray, Transferred).\n",
    "- *Status* - Current state/disposition of animal.\n",
    "- *ACO* - Animal control officer number or initials of employee."
   ]
  },
  {
   "cell_type": "code",
   "execution_count": 4,
   "metadata": {
    "id": "6zT0QxRyYmm7"
   },
   "outputs": [],
   "source": [
    "# \"reg\" is for registry\n",
    "reg_url = \"https://opendata.vancouver.ca/api/explore/v2.1/catalog/datasets/animal-control-inventory-register/exports/csv?lang=en&timezone=America%2FChicago&use_labels=true&delimiter=%3B\"\n",
    "reg_data = requests.get(reg_url)\n",
    "reg_data.raise_for_status()"
   ]
  },
  {
   "cell_type": "code",
   "execution_count": null,
   "metadata": {},
   "outputs": [],
   "source": [
    "# Save contents to a file labeled with today's date.\n",
    "file_dl_date = datetime.date.today()\n",
    "filename = f\"vancouver-ac-registry_{file_dl_date.strftime('%Y%m%d')}.csv\"\n",
    "relativepath = \"./datasets/\" + filename\n",
    "\n",
    "# Write dataset JSON stored as binary to target file\n",
    "with open(relativepath, mode=\"wb\") as f:\n",
    "    f.write(reg_data.content)"
   ]
  },
  {
   "cell_type": "markdown",
   "metadata": {},
   "source": [
    "We'll make the `AnimalID` column our index column for our DataFrame since it's essentially a built-in order for the animals. Following this, we'll start assessing our data."
   ]
  },
  {
   "cell_type": "code",
   "execution_count": 6,
   "metadata": {},
   "outputs": [],
   "source": [
    "reg_df = pd.read_csv(relativepath, sep=\";\", index_col='AnimalID')"
   ]
  },
  {
   "cell_type": "markdown",
   "metadata": {
    "id": "QwSWIVmotLgV"
   },
   "source": [
    "## 2. Assess data\n",
    "\n",
    "When we are assessing data, we are on the lookout for **quality** and **tidiness** (structural) issues.\n",
    "\n",
    "**Quality Issues:**\n",
    "- Completeness - The collected data is sufficient for addressing specific problems.\n",
    "- Validity - Data conforms to the defined schema.\n",
    "- Accuracy - Data accurately represents the reality it is describing.\n",
    "- Consistency - A standard format is followed. Data matches that which can be found in other sources.\n",
    "- Uniqueness - non-duplicate or overlapping values in the data.\n",
    "\n",
    "**Tidiness Issues:**\n",
    "- Each variable forms an individual column, i.e. color, name, birth year, etc. \n",
    "  - This also means that each column only contains one variable, or \"factor that varies.\"\n",
    "- Each observation forms an individual row, i.e. red, Scott, 1997, etc.\n",
    "  - As with columns, only a single observation per row.\n",
    "- Each type of observational unit forms a table, i.e. a table of immediate family members."
   ]
  },
  {
   "cell_type": "markdown",
   "metadata": {
    "id": "adaK2iPNzVu4"
   },
   "source": [
    "### Quality Issue 1:"
   ]
  },
  {
   "cell_type": "markdown",
   "metadata": {},
   "source": [
    "We'll use the `.head()` and `.tail()` methods to quickly browse the dataset for anything that sticks out. This helps us ensure completeness to some degree, as well as validity and consistency."
   ]
  },
  {
   "cell_type": "code",
   "execution_count": null,
   "metadata": {
    "id": "SpW59kh-zl8d"
   },
   "outputs": [
    {
     "data": {
      "text/html": [
       "<div>\n",
       "<style scoped>\n",
       "    .dataframe tbody tr th:only-of-type {\n",
       "        vertical-align: middle;\n",
       "    }\n",
       "\n",
       "    .dataframe tbody tr th {\n",
       "        vertical-align: top;\n",
       "    }\n",
       "\n",
       "    .dataframe thead th {\n",
       "        text-align: right;\n",
       "    }\n",
       "</style>\n",
       "<table border=\"1\" class=\"dataframe\">\n",
       "  <thead>\n",
       "    <tr style=\"text-align: right;\">\n",
       "      <th></th>\n",
       "      <th>date</th>\n",
       "      <th>breed</th>\n",
       "      <th>color</th>\n",
       "      <th>name</th>\n",
       "      <th>sex</th>\n",
       "      <th>state</th>\n",
       "    </tr>\n",
       "  </thead>\n",
       "  <tbody>\n",
       "    <tr>\n",
       "      <th>0</th>\n",
       "      <td>1999-01-03T00:00:00+00:00</td>\n",
       "      <td>Rotty X Shep</td>\n",
       "      <td>Black &amp; Tan</td>\n",
       "      <td>Tex</td>\n",
       "      <td>M/N</td>\n",
       "      <td>Lost</td>\n",
       "    </tr>\n",
       "    <tr>\n",
       "      <th>1</th>\n",
       "      <td>1999-01-04T00:00:00+00:00</td>\n",
       "      <td>Dog</td>\n",
       "      <td>Light Colour</td>\n",
       "      <td>None</td>\n",
       "      <td>M/N</td>\n",
       "      <td>Found</td>\n",
       "    </tr>\n",
       "    <tr>\n",
       "      <th>2</th>\n",
       "      <td>1999-01-04T00:00:00+00:00</td>\n",
       "      <td>Golden Lab X</td>\n",
       "      <td>Black &amp; Tan</td>\n",
       "      <td>Oscar</td>\n",
       "      <td>M</td>\n",
       "      <td>Lost</td>\n",
       "    </tr>\n",
       "    <tr>\n",
       "      <th>3</th>\n",
       "      <td>1999-01-04T00:00:00+00:00</td>\n",
       "      <td>Shep X</td>\n",
       "      <td>Black &amp; Tan</td>\n",
       "      <td>None</td>\n",
       "      <td>F</td>\n",
       "      <td>Found</td>\n",
       "    </tr>\n",
       "    <tr>\n",
       "      <th>4</th>\n",
       "      <td>1999-01-04T00:00:00+00:00</td>\n",
       "      <td>Shep X Collie</td>\n",
       "      <td>Black &amp; Tan</td>\n",
       "      <td>Angel</td>\n",
       "      <td>F</td>\n",
       "      <td>Lost</td>\n",
       "    </tr>\n",
       "  </tbody>\n",
       "</table>\n",
       "</div>"
      ],
      "text/plain": [
       "                        date          breed         color   name  sex  state\n",
       "0  1999-01-03T00:00:00+00:00   Rotty X Shep   Black & Tan    Tex  M/N   Lost\n",
       "1  1999-01-04T00:00:00+00:00            Dog  Light Colour   None  M/N  Found\n",
       "2  1999-01-04T00:00:00+00:00   Golden Lab X   Black & Tan  Oscar    M   Lost\n",
       "3  1999-01-04T00:00:00+00:00         Shep X   Black & Tan   None    F  Found\n",
       "4  1999-01-04T00:00:00+00:00  Shep X Collie   Black & Tan  Angel    F   Lost"
      ]
     },
     "execution_count": 7,
     "metadata": {},
     "output_type": "execute_result"
    }
   ],
   "source": [
    "# Inspecting the dataframe visually\n",
    "lf_df.head()"
   ]
  },
  {
   "cell_type": "code",
   "execution_count": 8,
   "metadata": {},
   "outputs": [
    {
     "data": {
      "text/html": [
       "<div>\n",
       "<style scoped>\n",
       "    .dataframe tbody tr th:only-of-type {\n",
       "        vertical-align: middle;\n",
       "    }\n",
       "\n",
       "    .dataframe tbody tr th {\n",
       "        vertical-align: top;\n",
       "    }\n",
       "\n",
       "    .dataframe thead th {\n",
       "        text-align: right;\n",
       "    }\n",
       "</style>\n",
       "<table border=\"1\" class=\"dataframe\">\n",
       "  <thead>\n",
       "    <tr style=\"text-align: right;\">\n",
       "      <th></th>\n",
       "      <th>date</th>\n",
       "      <th>breed</th>\n",
       "      <th>color</th>\n",
       "      <th>name</th>\n",
       "      <th>sex</th>\n",
       "      <th>state</th>\n",
       "    </tr>\n",
       "  </thead>\n",
       "  <tbody>\n",
       "    <tr>\n",
       "      <th>17832</th>\n",
       "      <td>2025-07-19T00:00:00+00:00</td>\n",
       "      <td>Cat- DSH</td>\n",
       "      <td>Grey</td>\n",
       "      <td>Sissy</td>\n",
       "      <td>F/S</td>\n",
       "      <td>Lost</td>\n",
       "    </tr>\n",
       "    <tr>\n",
       "      <th>17833</th>\n",
       "      <td>2025-07-20T00:00:00+00:00</td>\n",
       "      <td>Cat - DSH - British Shorthair</td>\n",
       "      <td>Grey and white</td>\n",
       "      <td>Sleepy</td>\n",
       "      <td>F/S</td>\n",
       "      <td>Lost</td>\n",
       "    </tr>\n",
       "    <tr>\n",
       "      <th>17834</th>\n",
       "      <td>2025-07-20T00:00:00+00:00</td>\n",
       "      <td>Cat - DSH - Devon Rex</td>\n",
       "      <td>Grey w/brown</td>\n",
       "      <td>Trixie</td>\n",
       "      <td>F/S</td>\n",
       "      <td>Lost</td>\n",
       "    </tr>\n",
       "    <tr>\n",
       "      <th>17835</th>\n",
       "      <td>2025-07-21T00:00:00+00:00</td>\n",
       "      <td>Cat - DSH</td>\n",
       "      <td>Creamy white/brown</td>\n",
       "      <td>Hylia</td>\n",
       "      <td>F/S</td>\n",
       "      <td>Lost</td>\n",
       "    </tr>\n",
       "    <tr>\n",
       "      <th>17836</th>\n",
       "      <td>2025-07-22T00:00:00+00:00</td>\n",
       "      <td>.Unknown Breed Mix</td>\n",
       "      <td>Cream</td>\n",
       "      <td>Bebe</td>\n",
       "      <td>F/S</td>\n",
       "      <td>Lost</td>\n",
       "    </tr>\n",
       "  </tbody>\n",
       "</table>\n",
       "</div>"
      ],
      "text/plain": [
       "                            date                          breed  \\\n",
       "17832  2025-07-19T00:00:00+00:00                       Cat- DSH   \n",
       "17833  2025-07-20T00:00:00+00:00  Cat - DSH - British Shorthair   \n",
       "17834  2025-07-20T00:00:00+00:00          Cat - DSH - Devon Rex   \n",
       "17835  2025-07-21T00:00:00+00:00                      Cat - DSH   \n",
       "17836  2025-07-22T00:00:00+00:00             .Unknown Breed Mix   \n",
       "\n",
       "                    color    name  sex state  \n",
       "17832                Grey   Sissy  F/S  Lost  \n",
       "17833      Grey and white  Sleepy  F/S  Lost  \n",
       "17834        Grey w/brown  Trixie  F/S  Lost  \n",
       "17835  Creamy white/brown   Hylia  F/S  Lost  \n",
       "17836               Cream    Bebe  F/S  Lost  "
      ]
     },
     "execution_count": 8,
     "metadata": {},
     "output_type": "execute_result"
    }
   ],
   "source": [
    "lf_df.tail()"
   ]
  },
  {
   "cell_type": "code",
   "execution_count": 78,
   "metadata": {},
   "outputs": [
    {
     "data": {
      "text/html": [
       "<div>\n",
       "<style scoped>\n",
       "    .dataframe tbody tr th:only-of-type {\n",
       "        vertical-align: middle;\n",
       "    }\n",
       "\n",
       "    .dataframe tbody tr th {\n",
       "        vertical-align: top;\n",
       "    }\n",
       "\n",
       "    .dataframe thead th {\n",
       "        text-align: right;\n",
       "    }\n",
       "</style>\n",
       "<table border=\"1\" class=\"dataframe\">\n",
       "  <thead>\n",
       "    <tr style=\"text-align: right;\">\n",
       "      <th></th>\n",
       "      <th>date</th>\n",
       "      <th>breed</th>\n",
       "      <th>color</th>\n",
       "      <th>name</th>\n",
       "      <th>sex</th>\n",
       "      <th>state</th>\n",
       "    </tr>\n",
       "  </thead>\n",
       "  <tbody>\n",
       "    <tr>\n",
       "      <th>16282</th>\n",
       "      <td>2022-10-31T00:00:00+00:00</td>\n",
       "      <td>Golden Retriever</td>\n",
       "      <td>Cream</td>\n",
       "      <td>Kyra</td>\n",
       "      <td>F</td>\n",
       "      <td>Matched</td>\n",
       "    </tr>\n",
       "    <tr>\n",
       "      <th>4696</th>\n",
       "      <td>2003-05-22T00:00:00+00:00</td>\n",
       "      <td>Akita</td>\n",
       "      <td>Grey</td>\n",
       "      <td>None</td>\n",
       "      <td>F</td>\n",
       "      <td>Matched</td>\n",
       "    </tr>\n",
       "    <tr>\n",
       "      <th>15383</th>\n",
       "      <td>2021-08-21T00:00:00+00:00</td>\n",
       "      <td>Pit Bull</td>\n",
       "      <td>Black</td>\n",
       "      <td>Not Provided</td>\n",
       "      <td>X</td>\n",
       "      <td>Lost</td>\n",
       "    </tr>\n",
       "    <tr>\n",
       "      <th>12013</th>\n",
       "      <td>2016-05-19T00:00:00+00:00</td>\n",
       "      <td>Cat - DLH x 2</td>\n",
       "      <td>Blk/White &amp; Siamese</td>\n",
       "      <td>Trixie (F) &amp; Mike (M)</td>\n",
       "      <td>F</td>\n",
       "      <td>Matched</td>\n",
       "    </tr>\n",
       "    <tr>\n",
       "      <th>1120</th>\n",
       "      <td>2000-01-29T00:00:00+00:00</td>\n",
       "      <td>German Shepherd</td>\n",
       "      <td>Brown &amp; Black</td>\n",
       "      <td>Shiva</td>\n",
       "      <td>F</td>\n",
       "      <td>Lost</td>\n",
       "    </tr>\n",
       "  </tbody>\n",
       "</table>\n",
       "</div>"
      ],
      "text/plain": [
       "                            date             breed                color  \\\n",
       "16282  2022-10-31T00:00:00+00:00  Golden Retriever                Cream   \n",
       "4696   2003-05-22T00:00:00+00:00             Akita                 Grey   \n",
       "15383  2021-08-21T00:00:00+00:00          Pit Bull                Black   \n",
       "12013  2016-05-19T00:00:00+00:00     Cat - DLH x 2  Blk/White & Siamese   \n",
       "1120   2000-01-29T00:00:00+00:00   German Shepherd        Brown & Black   \n",
       "\n",
       "                        name sex    state  \n",
       "16282                   Kyra   F  Matched  \n",
       "4696                    None   F  Matched  \n",
       "15383           Not Provided   X     Lost  \n",
       "12013  Trixie (F) & Mike (M)   F  Matched  \n",
       "1120                   Shiva   F     Lost  "
      ]
     },
     "execution_count": 78,
     "metadata": {},
     "output_type": "execute_result"
    }
   ],
   "source": [
    "lf_df.sample(5)  # random sampling to see if anything else jumps out"
   ]
  },
  {
   "cell_type": "markdown",
   "metadata": {},
   "source": [
    "Thankfully, there are no duplicate entries in this data (as of 20250723), indicating each row has \"uniqueness.\""
   ]
  },
  {
   "cell_type": "code",
   "execution_count": 9,
   "metadata": {},
   "outputs": [
    {
     "data": {
      "text/plain": [
       "False    17837\n",
       "Name: count, dtype: int64"
      ]
     },
     "execution_count": 9,
     "metadata": {},
     "output_type": "execute_result"
    }
   ],
   "source": [
    "lf_df.duplicated().value_counts()"
   ]
  },
  {
   "cell_type": "markdown",
   "metadata": {},
   "source": [
    "There are a lot of colors in the `color` column, which indicates potential a lack of consistency and validity."
   ]
  },
  {
   "cell_type": "code",
   "execution_count": 56,
   "metadata": {},
   "outputs": [
    {
     "name": "stdout",
     "output_type": "stream",
     "text": [
      "There are 3399 unique strings in the color column.\n"
     ]
    }
   ],
   "source": [
    "print(\"There are\", lf_df['color'].unique().shape[0], \"unique strings in the color column.\")"
   ]
  },
  {
   "cell_type": "markdown",
   "metadata": {},
   "source": [
    "One prime example is this hamster, which has `Golden/Blonde` fur. This indicates there is not a standardized process for determining and labeling fur color."
   ]
  },
  {
   "cell_type": "code",
   "execution_count": 71,
   "metadata": {},
   "outputs": [
    {
     "data": {
      "text/plain": [
       "date     2023-06-26T00:00:00+00:00\n",
       "breed                      Hamster\n",
       "color                Golden/Blonde\n",
       "name                        Chivis\n",
       "sex                              M\n",
       "state                         Lost\n",
       "Name: 16633, dtype: object"
      ]
     },
     "execution_count": 71,
     "metadata": {},
     "output_type": "execute_result"
    }
   ],
   "source": [
    "lf_df.iloc[16633]"
   ]
  },
  {
   "cell_type": "markdown",
   "metadata": {},
   "source": [
    "I am also curious about how many of those colors have consistency issues, for example using an ampersand instead of an \"and\". The use of slashes may also indicate `color` labeling similar to `Chivis`, as seen immediately above."
   ]
  },
  {
   "cell_type": "code",
   "execution_count": 88,
   "metadata": {},
   "outputs": [
    {
     "name": "stdout",
     "output_type": "stream",
     "text": [
      "1151 unique color strings contain '&' in the color description while 191 contain 'and'.\n",
      "1341  unique colors contain a forward slash (/).\n"
     ]
    }
   ],
   "source": [
    "num_colors_amp = pd.Series(lf_df.color.unique()).str.contains(r'&', na=False).value_counts().iloc[1]\n",
    "num_colors_and = pd.Series(lf_df.color.unique()).str.contains(r' and ', na=False).value_counts().iloc[1]\n",
    "num_colors_fwdsl = pd.Series(lf_df.color.unique()).str.contains(r'/', na=False).value_counts().iloc[1]\n",
    "\n",
    "print(num_colors_amp, \"unique color strings contain '&' in the color description while\", num_colors_and, \"contain 'and'.\")\n",
    "print(num_colors_fwdsl, \" unique colors contain a forward slash (/).\")"
   ]
  },
  {
   "cell_type": "markdown",
   "metadata": {},
   "source": [
    "Issue and justification: Aside from lacking completeness, a lot of the columns do not have a consistent format:\n",
    "Currently, \"&\" is primarily used in place of \"and\" in the `color` column. This matters when trying to answer our question as this means that matching based on `color` will different approaches (fuzzy matching, tokenization, etc.). \n",
    "\n",
    "As a side note, the formatting in the `breed` column is also quite inconsistent, but this is addressed further in the tidiness section."
   ]
  },
  {
   "cell_type": "markdown",
   "metadata": {
    "id": "8Be77N4I1AmE"
   },
   "source": [
    "### Quality Issue 2:"
   ]
  },
  {
   "cell_type": "markdown",
   "metadata": {},
   "source": [
    "We'll do a head, tail, and sample again."
   ]
  },
  {
   "cell_type": "code",
   "execution_count": 13,
   "metadata": {
    "id": "iMhHyiyLM2I3"
   },
   "outputs": [
    {
     "data": {
      "text/html": [
       "<div>\n",
       "<style scoped>\n",
       "    .dataframe tbody tr th:only-of-type {\n",
       "        vertical-align: middle;\n",
       "    }\n",
       "\n",
       "    .dataframe tbody tr th {\n",
       "        vertical-align: top;\n",
       "    }\n",
       "\n",
       "    .dataframe thead th {\n",
       "        text-align: right;\n",
       "    }\n",
       "</style>\n",
       "<table border=\"1\" class=\"dataframe\">\n",
       "  <thead>\n",
       "    <tr style=\"text-align: right;\">\n",
       "      <th></th>\n",
       "      <th>Breed</th>\n",
       "      <th>ShotsDate</th>\n",
       "      <th>Sex</th>\n",
       "      <th>ReceiptNumber</th>\n",
       "      <th>DateImpounded</th>\n",
       "      <th>PitNumber</th>\n",
       "      <th>Name</th>\n",
       "      <th>KennelNumber</th>\n",
       "      <th>DispositionDate</th>\n",
       "      <th>Color</th>\n",
       "      <th>Code</th>\n",
       "      <th>ApproxWeight</th>\n",
       "      <th>Age category</th>\n",
       "      <th>Source</th>\n",
       "      <th>Status</th>\n",
       "      <th>ACO</th>\n",
       "    </tr>\n",
       "    <tr>\n",
       "      <th>AnimalID</th>\n",
       "      <th></th>\n",
       "      <th></th>\n",
       "      <th></th>\n",
       "      <th></th>\n",
       "      <th></th>\n",
       "      <th></th>\n",
       "      <th></th>\n",
       "      <th></th>\n",
       "      <th></th>\n",
       "      <th></th>\n",
       "      <th></th>\n",
       "      <th></th>\n",
       "      <th></th>\n",
       "      <th></th>\n",
       "      <th></th>\n",
       "      <th></th>\n",
       "    </tr>\n",
       "  </thead>\n",
       "  <tbody>\n",
       "    <tr>\n",
       "      <th>28066</th>\n",
       "      <td>Rat, Fancy x 1 Male</td>\n",
       "      <td>NaN</td>\n",
       "      <td>M</td>\n",
       "      <td>n/c</td>\n",
       "      <td>2017-04-13</td>\n",
       "      <td>NaN</td>\n",
       "      <td>Obi-Wan</td>\n",
       "      <td>200</td>\n",
       "      <td>2018-01-04</td>\n",
       "      <td>White/Brown</td>\n",
       "      <td>NaN</td>\n",
       "      <td>NaN</td>\n",
       "      <td>Adult</td>\n",
       "      <td>HOLDING STRAY</td>\n",
       "      <td>Sold</td>\n",
       "      <td>40</td>\n",
       "    </tr>\n",
       "    <tr>\n",
       "      <th>28070</th>\n",
       "      <td>Doberman Pinscher</td>\n",
       "      <td>NaN</td>\n",
       "      <td>M</td>\n",
       "      <td>DI 17-213469</td>\n",
       "      <td>2017-04-14</td>\n",
       "      <td>NaN</td>\n",
       "      <td>Loki</td>\n",
       "      <td>200</td>\n",
       "      <td>2017-04-15</td>\n",
       "      <td>Black</td>\n",
       "      <td>NaN</td>\n",
       "      <td>NaN</td>\n",
       "      <td>Young Adult</td>\n",
       "      <td>HOLDING STRAY</td>\n",
       "      <td>Redeemed</td>\n",
       "      <td>32</td>\n",
       "    </tr>\n",
       "    <tr>\n",
       "      <th>28072</th>\n",
       "      <td>Chihuahua</td>\n",
       "      <td>NaN</td>\n",
       "      <td>M</td>\n",
       "      <td>DI 17-213705</td>\n",
       "      <td>2017-04-15</td>\n",
       "      <td>NaN</td>\n",
       "      <td>Hugo</td>\n",
       "      <td>200</td>\n",
       "      <td>2017-04-16</td>\n",
       "      <td>Black</td>\n",
       "      <td>NaN</td>\n",
       "      <td>NaN</td>\n",
       "      <td>Young Adult</td>\n",
       "      <td>HOLDING STRAY</td>\n",
       "      <td>Redeemed</td>\n",
       "      <td>42</td>\n",
       "    </tr>\n",
       "    <tr>\n",
       "      <th>28074</th>\n",
       "      <td>Chihuahua</td>\n",
       "      <td>NaN</td>\n",
       "      <td>F</td>\n",
       "      <td>DI 17-214366 DB</td>\n",
       "      <td>2017-04-16</td>\n",
       "      <td>NaN</td>\n",
       "      <td>ChiChi</td>\n",
       "      <td>200</td>\n",
       "      <td>2017-04-18</td>\n",
       "      <td>Cream</td>\n",
       "      <td>NaN</td>\n",
       "      <td>NaN</td>\n",
       "      <td>Adult</td>\n",
       "      <td>HOLDING STRAY</td>\n",
       "      <td>Redeemed</td>\n",
       "      <td>12/26</td>\n",
       "    </tr>\n",
       "    <tr>\n",
       "      <th>28077</th>\n",
       "      <td>Chihuahua</td>\n",
       "      <td>NaN</td>\n",
       "      <td>F</td>\n",
       "      <td>NaN</td>\n",
       "      <td>2017-04-16</td>\n",
       "      <td>NaN</td>\n",
       "      <td>Oreo</td>\n",
       "      <td>200</td>\n",
       "      <td>2017-04-18</td>\n",
       "      <td>Black</td>\n",
       "      <td>NaN</td>\n",
       "      <td>NaN</td>\n",
       "      <td>Senior</td>\n",
       "      <td>POLICE-EMERGENCY</td>\n",
       "      <td>Redeemed</td>\n",
       "      <td>NaN</td>\n",
       "    </tr>\n",
       "  </tbody>\n",
       "</table>\n",
       "</div>"
      ],
      "text/plain": [
       "                        Breed ShotsDate Sex    ReceiptNumber DateImpounded  \\\n",
       "AnimalID                                                                     \n",
       "28066     Rat, Fancy x 1 Male       NaN   M              n/c    2017-04-13   \n",
       "28070       Doberman Pinscher       NaN   M     DI 17-213469    2017-04-14   \n",
       "28072               Chihuahua       NaN   M     DI 17-213705    2017-04-15   \n",
       "28074               Chihuahua       NaN   F  DI 17-214366 DB    2017-04-16   \n",
       "28077               Chihuahua       NaN   F              NaN    2017-04-16   \n",
       "\n",
       "          PitNumber     Name KennelNumber DispositionDate        Color Code  \\\n",
       "AnimalID                                                                      \n",
       "28066           NaN  Obi-Wan          200      2018-01-04  White/Brown  NaN   \n",
       "28070           NaN     Loki          200      2017-04-15        Black  NaN   \n",
       "28072           NaN     Hugo          200      2017-04-16        Black  NaN   \n",
       "28074           NaN   ChiChi          200      2017-04-18        Cream  NaN   \n",
       "28077           NaN     Oreo          200      2017-04-18        Black  NaN   \n",
       "\n",
       "         ApproxWeight Age category            Source    Status    ACO  \n",
       "AnimalID                                                               \n",
       "28066             NaN        Adult     HOLDING STRAY      Sold     40  \n",
       "28070             NaN  Young Adult     HOLDING STRAY  Redeemed     32  \n",
       "28072             NaN  Young Adult     HOLDING STRAY  Redeemed     42  \n",
       "28074             NaN        Adult     HOLDING STRAY  Redeemed  12/26  \n",
       "28077             NaN       Senior  POLICE-EMERGENCY  Redeemed    NaN  "
      ]
     },
     "execution_count": 13,
     "metadata": {},
     "output_type": "execute_result"
    }
   ],
   "source": [
    "reg_df.head()"
   ]
  },
  {
   "cell_type": "code",
   "execution_count": 101,
   "metadata": {},
   "outputs": [
    {
     "data": {
      "text/html": [
       "<div>\n",
       "<style scoped>\n",
       "    .dataframe tbody tr th:only-of-type {\n",
       "        vertical-align: middle;\n",
       "    }\n",
       "\n",
       "    .dataframe tbody tr th {\n",
       "        vertical-align: top;\n",
       "    }\n",
       "\n",
       "    .dataframe thead th {\n",
       "        text-align: right;\n",
       "    }\n",
       "</style>\n",
       "<table border=\"1\" class=\"dataframe\">\n",
       "  <thead>\n",
       "    <tr style=\"text-align: right;\">\n",
       "      <th></th>\n",
       "      <th>Breed</th>\n",
       "      <th>ShotsDate</th>\n",
       "      <th>Sex</th>\n",
       "      <th>ReceiptNumber</th>\n",
       "      <th>DateImpounded</th>\n",
       "      <th>PitNumber</th>\n",
       "      <th>Name</th>\n",
       "      <th>KennelNumber</th>\n",
       "      <th>DispositionDate</th>\n",
       "      <th>Color</th>\n",
       "      <th>Code</th>\n",
       "      <th>ApproxWeight</th>\n",
       "      <th>Age category</th>\n",
       "      <th>Source</th>\n",
       "      <th>Status</th>\n",
       "      <th>ACO</th>\n",
       "    </tr>\n",
       "    <tr>\n",
       "      <th>AnimalID</th>\n",
       "      <th></th>\n",
       "      <th></th>\n",
       "      <th></th>\n",
       "      <th></th>\n",
       "      <th></th>\n",
       "      <th></th>\n",
       "      <th></th>\n",
       "      <th></th>\n",
       "      <th></th>\n",
       "      <th></th>\n",
       "      <th></th>\n",
       "      <th></th>\n",
       "      <th></th>\n",
       "      <th></th>\n",
       "      <th></th>\n",
       "      <th></th>\n",
       "    </tr>\n",
       "  </thead>\n",
       "  <tbody>\n",
       "    <tr>\n",
       "      <th>27972</th>\n",
       "      <td>Terrier X</td>\n",
       "      <td>2017-03-09</td>\n",
       "      <td>M/N</td>\n",
       "      <td>DA 17-199342 KW</td>\n",
       "      <td>2017-03-05</td>\n",
       "      <td>NaN</td>\n",
       "      <td>Wallaby (new name)</td>\n",
       "      <td>200</td>\n",
       "      <td>2017-03-14</td>\n",
       "      <td>Brown</td>\n",
       "      <td>Yellow</td>\n",
       "      <td>NaN</td>\n",
       "      <td>Young Adult</td>\n",
       "      <td>HOLDING STRAY</td>\n",
       "      <td>Sold</td>\n",
       "      <td>42</td>\n",
       "    </tr>\n",
       "    <tr>\n",
       "      <th>27973</th>\n",
       "      <td>Guinea Pig, baby</td>\n",
       "      <td>NaN</td>\n",
       "      <td>M</td>\n",
       "      <td>DA 17-196342</td>\n",
       "      <td>2017-03-05</td>\n",
       "      <td>NaN</td>\n",
       "      <td>NaN</td>\n",
       "      <td>200</td>\n",
       "      <td>2017-03-10</td>\n",
       "      <td>Red</td>\n",
       "      <td>NaN</td>\n",
       "      <td>NaN</td>\n",
       "      <td>Puppy</td>\n",
       "      <td>TRANSFERRED</td>\n",
       "      <td>Sold</td>\n",
       "      <td>rb</td>\n",
       "    </tr>\n",
       "    <tr>\n",
       "      <th>27977</th>\n",
       "      <td>Germ. Shepherd</td>\n",
       "      <td>NaN</td>\n",
       "      <td>M/N</td>\n",
       "      <td>DI 17-196766 -MA</td>\n",
       "      <td>2017-03-07</td>\n",
       "      <td>NaN</td>\n",
       "      <td>Murphy</td>\n",
       "      <td>200</td>\n",
       "      <td>2017-03-07</td>\n",
       "      <td>Black</td>\n",
       "      <td>NaN</td>\n",
       "      <td>NaN</td>\n",
       "      <td>Adult</td>\n",
       "      <td>COMPLAINT</td>\n",
       "      <td>Redeemed</td>\n",
       "      <td>12</td>\n",
       "    </tr>\n",
       "    <tr>\n",
       "      <th>27983</th>\n",
       "      <td>Maltese X</td>\n",
       "      <td>NaN</td>\n",
       "      <td>M/N</td>\n",
       "      <td>NaN</td>\n",
       "      <td>2017-03-08</td>\n",
       "      <td>NaN</td>\n",
       "      <td>Yogui</td>\n",
       "      <td>200</td>\n",
       "      <td>2017-03-09</td>\n",
       "      <td>Cream w/black/tan</td>\n",
       "      <td>NaN</td>\n",
       "      <td>NaN</td>\n",
       "      <td>Adult</td>\n",
       "      <td>BROUGHT-IN</td>\n",
       "      <td>Redeemed</td>\n",
       "      <td>NaN</td>\n",
       "    </tr>\n",
       "    <tr>\n",
       "      <th>27984</th>\n",
       "      <td>Husky</td>\n",
       "      <td>NaN</td>\n",
       "      <td>M</td>\n",
       "      <td>DI 17-198335 -EL</td>\n",
       "      <td>2017-03-08</td>\n",
       "      <td>NaN</td>\n",
       "      <td>Hei Hei</td>\n",
       "      <td>200</td>\n",
       "      <td>2017-03-12</td>\n",
       "      <td>Black/White</td>\n",
       "      <td>NaN</td>\n",
       "      <td>NaN</td>\n",
       "      <td>Adult</td>\n",
       "      <td>HOLDING STRAY</td>\n",
       "      <td>Redeemed</td>\n",
       "      <td>40</td>\n",
       "    </tr>\n",
       "  </tbody>\n",
       "</table>\n",
       "</div>"
      ],
      "text/plain": [
       "                     Breed   ShotsDate  Sex     ReceiptNumber DateImpounded  \\\n",
       "AnimalID                                                                      \n",
       "27972            Terrier X  2017-03-09  M/N   DA 17-199342 KW    2017-03-05   \n",
       "27973     Guinea Pig, baby         NaN    M      DA 17-196342    2017-03-05   \n",
       "27977       Germ. Shepherd         NaN  M/N  DI 17-196766 -MA    2017-03-07   \n",
       "27983            Maltese X         NaN  M/N               NaN    2017-03-08   \n",
       "27984                Husky         NaN    M  DI 17-198335 -EL    2017-03-08   \n",
       "\n",
       "          PitNumber                Name KennelNumber DispositionDate  \\\n",
       "AnimalID                                                               \n",
       "27972           NaN  Wallaby (new name)          200      2017-03-14   \n",
       "27973           NaN                 NaN          200      2017-03-10   \n",
       "27977           NaN              Murphy          200      2017-03-07   \n",
       "27983           NaN               Yogui          200      2017-03-09   \n",
       "27984           NaN             Hei Hei          200      2017-03-12   \n",
       "\n",
       "                      Color    Code ApproxWeight Age category         Source  \\\n",
       "AnimalID                                                                       \n",
       "27972                 Brown  Yellow          NaN  Young Adult  HOLDING STRAY   \n",
       "27973                   Red     NaN          NaN        Puppy    TRANSFERRED   \n",
       "27977                 Black     NaN          NaN        Adult      COMPLAINT   \n",
       "27983     Cream w/black/tan     NaN          NaN        Adult     BROUGHT-IN   \n",
       "27984           Black/White     NaN          NaN        Adult  HOLDING STRAY   \n",
       "\n",
       "            Status  ACO  \n",
       "AnimalID                 \n",
       "27972         Sold   42  \n",
       "27973         Sold   rb  \n",
       "27977     Redeemed   12  \n",
       "27983     Redeemed  NaN  \n",
       "27984     Redeemed   40  "
      ]
     },
     "execution_count": 101,
     "metadata": {},
     "output_type": "execute_result"
    }
   ],
   "source": [
    "reg_df.tail()"
   ]
  },
  {
   "cell_type": "code",
   "execution_count": 100,
   "metadata": {},
   "outputs": [
    {
     "data": {
      "text/html": [
       "<div>\n",
       "<style scoped>\n",
       "    .dataframe tbody tr th:only-of-type {\n",
       "        vertical-align: middle;\n",
       "    }\n",
       "\n",
       "    .dataframe tbody tr th {\n",
       "        vertical-align: top;\n",
       "    }\n",
       "\n",
       "    .dataframe thead th {\n",
       "        text-align: right;\n",
       "    }\n",
       "</style>\n",
       "<table border=\"1\" class=\"dataframe\">\n",
       "  <thead>\n",
       "    <tr style=\"text-align: right;\">\n",
       "      <th></th>\n",
       "      <th>Breed</th>\n",
       "      <th>ShotsDate</th>\n",
       "      <th>Sex</th>\n",
       "      <th>ReceiptNumber</th>\n",
       "      <th>DateImpounded</th>\n",
       "      <th>PitNumber</th>\n",
       "      <th>Name</th>\n",
       "      <th>KennelNumber</th>\n",
       "      <th>DispositionDate</th>\n",
       "      <th>Color</th>\n",
       "      <th>Code</th>\n",
       "      <th>ApproxWeight</th>\n",
       "      <th>Age category</th>\n",
       "      <th>Source</th>\n",
       "      <th>Status</th>\n",
       "      <th>ACO</th>\n",
       "    </tr>\n",
       "    <tr>\n",
       "      <th>AnimalID</th>\n",
       "      <th></th>\n",
       "      <th></th>\n",
       "      <th></th>\n",
       "      <th></th>\n",
       "      <th></th>\n",
       "      <th></th>\n",
       "      <th></th>\n",
       "      <th></th>\n",
       "      <th></th>\n",
       "      <th></th>\n",
       "      <th></th>\n",
       "      <th></th>\n",
       "      <th></th>\n",
       "      <th></th>\n",
       "      <th></th>\n",
       "      <th></th>\n",
       "    </tr>\n",
       "  </thead>\n",
       "  <tbody>\n",
       "    <tr>\n",
       "      <th>20829</th>\n",
       "      <td>Mini Aussie Shepherd</td>\n",
       "      <td>NaN</td>\n",
       "      <td>F</td>\n",
       "      <td>10-193435DI - TU</td>\n",
       "      <td>2010-06-16</td>\n",
       "      <td>20082.0</td>\n",
       "      <td>Lacey</td>\n",
       "      <td>200</td>\n",
       "      <td>2010-06-17</td>\n",
       "      <td>Tri Colour</td>\n",
       "      <td>NaN</td>\n",
       "      <td>30 lbs.</td>\n",
       "      <td>NaN</td>\n",
       "      <td>COMPLAINT</td>\n",
       "      <td>Redeemed</td>\n",
       "      <td>20</td>\n",
       "    </tr>\n",
       "    <tr>\n",
       "      <th>1538</th>\n",
       "      <td>Rottweiler</td>\n",
       "      <td>2000-01-19</td>\n",
       "      <td>M/N</td>\n",
       "      <td>9886,BE</td>\n",
       "      <td>2000-01-04</td>\n",
       "      <td>20089.0</td>\n",
       "      <td>Jonah</td>\n",
       "      <td>200</td>\n",
       "      <td>NaN</td>\n",
       "      <td>Black &amp; Tan</td>\n",
       "      <td>NaN</td>\n",
       "      <td>NaN</td>\n",
       "      <td>NaN</td>\n",
       "      <td>NaN</td>\n",
       "      <td>Sold</td>\n",
       "      <td>5</td>\n",
       "    </tr>\n",
       "    <tr>\n",
       "      <th>33787</th>\n",
       "      <td>Labradoodle</td>\n",
       "      <td>NaN</td>\n",
       "      <td>F</td>\n",
       "      <td>RHF</td>\n",
       "      <td>2022-09-08</td>\n",
       "      <td>NaN</td>\n",
       "      <td>Lucky</td>\n",
       "      <td>400</td>\n",
       "      <td>2022-09-08</td>\n",
       "      <td>Black&amp;White</td>\n",
       "      <td>NaN</td>\n",
       "      <td>NaN</td>\n",
       "      <td>Adult</td>\n",
       "      <td>BROUGHT-IN</td>\n",
       "      <td>Ride Home Free</td>\n",
       "      <td>NaN</td>\n",
       "    </tr>\n",
       "    <tr>\n",
       "      <th>4616</th>\n",
       "      <td>Min Pin X</td>\n",
       "      <td>NaN</td>\n",
       "      <td>F/S</td>\n",
       "      <td>12247 - #4</td>\n",
       "      <td>2001-07-24</td>\n",
       "      <td>20063.0</td>\n",
       "      <td>Hula</td>\n",
       "      <td>200</td>\n",
       "      <td>NaN</td>\n",
       "      <td>Tan</td>\n",
       "      <td>NaN</td>\n",
       "      <td>NaN</td>\n",
       "      <td>NaN</td>\n",
       "      <td>HOLDING STRAY</td>\n",
       "      <td>Redeemed</td>\n",
       "      <td>4</td>\n",
       "    </tr>\n",
       "    <tr>\n",
       "      <th>12693</th>\n",
       "      <td>Chow X</td>\n",
       "      <td>NaN</td>\n",
       "      <td>M/N</td>\n",
       "      <td>16900 -  skj</td>\n",
       "      <td>2005-08-24</td>\n",
       "      <td>20085.0</td>\n",
       "      <td>Nikita</td>\n",
       "      <td>200</td>\n",
       "      <td>NaN</td>\n",
       "      <td>Gold with Black</td>\n",
       "      <td>NaN</td>\n",
       "      <td>110 lbs.</td>\n",
       "      <td>NaN</td>\n",
       "      <td>HOLDING STRAY</td>\n",
       "      <td>Redeemed</td>\n",
       "      <td>14</td>\n",
       "    </tr>\n",
       "  </tbody>\n",
       "</table>\n",
       "</div>"
      ],
      "text/plain": [
       "                         Breed   ShotsDate  Sex     ReceiptNumber  \\\n",
       "AnimalID                                                            \n",
       "20829     Mini Aussie Shepherd         NaN    F  10-193435DI - TU   \n",
       "1538                Rottweiler  2000-01-19  M/N           9886,BE   \n",
       "33787              Labradoodle         NaN    F               RHF   \n",
       "4616                 Min Pin X         NaN  F/S        12247 - #4   \n",
       "12693                   Chow X         NaN  M/N      16900 -  skj   \n",
       "\n",
       "         DateImpounded  PitNumber    Name KennelNumber DispositionDate  \\\n",
       "AnimalID                                                                 \n",
       "20829       2010-06-16    20082.0   Lacey          200      2010-06-17   \n",
       "1538        2000-01-04    20089.0   Jonah          200             NaN   \n",
       "33787       2022-09-08        NaN   Lucky          400      2022-09-08   \n",
       "4616        2001-07-24    20063.0    Hula          200             NaN   \n",
       "12693       2005-08-24    20085.0  Nikita          200             NaN   \n",
       "\n",
       "                    Color Code ApproxWeight Age category         Source  \\\n",
       "AnimalID                                                                  \n",
       "20829          Tri Colour  NaN      30 lbs.          NaN      COMPLAINT   \n",
       "1538          Black & Tan  NaN          NaN          NaN            NaN   \n",
       "33787         Black&White  NaN          NaN        Adult     BROUGHT-IN   \n",
       "4616                  Tan  NaN          NaN          NaN  HOLDING STRAY   \n",
       "12693     Gold with Black  NaN     110 lbs.          NaN  HOLDING STRAY   \n",
       "\n",
       "                  Status  ACO  \n",
       "AnimalID                       \n",
       "20829           Redeemed   20  \n",
       "1538                Sold    5  \n",
       "33787     Ride Home Free  NaN  \n",
       "4616            Redeemed    4  \n",
       "12693           Redeemed   14  "
      ]
     },
     "execution_count": 100,
     "metadata": {},
     "output_type": "execute_result"
    }
   ],
   "source": [
    "reg_df.sample(5)"
   ]
  },
  {
   "cell_type": "markdown",
   "metadata": {},
   "source": [
    "Since there are duplicates, we will need to drop those."
   ]
  },
  {
   "cell_type": "code",
   "execution_count": 14,
   "metadata": {},
   "outputs": [
    {
     "data": {
      "text/plain": [
       "False    26038\n",
       "True        41\n",
       "Name: count, dtype: int64"
      ]
     },
     "execution_count": 14,
     "metadata": {},
     "output_type": "execute_result"
    }
   ],
   "source": [
    "reg_df.duplicated().value_counts()"
   ]
  },
  {
   "cell_type": "markdown",
   "metadata": {},
   "source": [
    "Using the results from the `.info()` method, we can quickly visually parse about how many null values there are per column."
   ]
  },
  {
   "cell_type": "code",
   "execution_count": 15,
   "metadata": {
    "id": "bnviRCUI-bb7"
   },
   "outputs": [
    {
     "name": "stdout",
     "output_type": "stream",
     "text": [
      "<class 'pandas.core.frame.DataFrame'>\n",
      "Index: 26079 entries, 28066 to 27984\n",
      "Data columns (total 16 columns):\n",
      " #   Column           Non-Null Count  Dtype  \n",
      "---  ------           --------------  -----  \n",
      " 0   Breed            26071 non-null  object \n",
      " 1   ShotsDate        3752 non-null   object \n",
      " 2   Sex              25793 non-null  object \n",
      " 3   ReceiptNumber    21680 non-null  object \n",
      " 4   DateImpounded    26079 non-null  object \n",
      " 5   PitNumber        17763 non-null  float64\n",
      " 6   Name             23330 non-null  object \n",
      " 7   KennelNumber     26058 non-null  object \n",
      " 8   DispositionDate  12313 non-null  object \n",
      " 9   Color            26034 non-null  object \n",
      " 10  Code             1173 non-null   object \n",
      " 11  ApproxWeight     11643 non-null  object \n",
      " 12  Age category     8028 non-null   object \n",
      " 13  Source           24105 non-null  object \n",
      " 14  Status           26070 non-null  object \n",
      " 15  ACO              21311 non-null  object \n",
      "dtypes: float64(1), object(15)\n",
      "memory usage: 3.4+ MB\n"
     ]
    }
   ],
   "source": [
    "reg_df.info()"
   ]
  },
  {
   "cell_type": "markdown",
   "metadata": {},
   "source": [
    "`Age category` is the only column with a space character, as well as not being in `CamelCase`. Additionally, these columns are `CamelCase` instead of all lowercase, like the column labels in the `lost and found` dataset."
   ]
  },
  {
   "cell_type": "code",
   "execution_count": 16,
   "metadata": {},
   "outputs": [
    {
     "data": {
      "text/plain": [
       "Age category\n",
       "Adult          4909\n",
       "Young Adult    1543\n",
       "Senior         1132\n",
       "Puppy           444\n",
       "Name: count, dtype: int64"
      ]
     },
     "execution_count": 16,
     "metadata": {},
     "output_type": "execute_result"
    }
   ],
   "source": [
    "reg_df['Age category'].value_counts()   # Puppy being a category assumes the animal is a dog"
   ]
  },
  {
   "cell_type": "markdown",
   "metadata": {},
   "source": [
    "Issue and justification: Immediately, we can see that there are a lot of null values, especially for `Code`, `ShotsDate`, and `Age category` columns. Each of those have no more than about 30% of the values filled. It would be difficult, however, to infer anything to answer our question using any of these columns. \n",
    "\n",
    "The best columns would probably be `name`, `color`, `sex`, and `breed` for making inferences, so this means we can probably just drop the columns that are mostly null. For `name` and the other column.s previousy mentioned, we can probably just replace the null values with something like \"Unknown\"\n",
    "\n",
    "All of these null values make correlating animals together based on similar factors less reliable, especially if something critical like the name isn't disclosed or the color is not reported as the staff intaking animals would describe. Names are also likely the highest differentiator between two animals with similar breeds and coat colors, as well.\n",
    "\n",
    "There are also duplicate values, but those will be easy to handle. The biggest issue I feel is the insane abundance of missing values."
   ]
  },
  {
   "cell_type": "markdown",
   "metadata": {
    "id": "lXhGiYyiwwKN"
   },
   "source": [
    "### Tidiness Issue 1:"
   ]
  },
  {
   "cell_type": "markdown",
   "metadata": {},
   "source": [
    "I'm of the opinion that validating the 3 qualities of tidiness is most easily began visually with `.head()/.tail()`, then drilling down programatically with `.value_counts()`, queries, `.columns`, and more. "
   ]
  },
  {
   "cell_type": "code",
   "execution_count": null,
   "metadata": {
    "id": "fleC5rORI0Xl"
   },
   "outputs": [
    {
     "data": {
      "text/html": [
       "<div>\n",
       "<style scoped>\n",
       "    .dataframe tbody tr th:only-of-type {\n",
       "        vertical-align: middle;\n",
       "    }\n",
       "\n",
       "    .dataframe tbody tr th {\n",
       "        vertical-align: top;\n",
       "    }\n",
       "\n",
       "    .dataframe thead th {\n",
       "        text-align: right;\n",
       "    }\n",
       "</style>\n",
       "<table border=\"1\" class=\"dataframe\">\n",
       "  <thead>\n",
       "    <tr style=\"text-align: right;\">\n",
       "      <th></th>\n",
       "      <th>date</th>\n",
       "      <th>breed</th>\n",
       "      <th>color</th>\n",
       "      <th>name</th>\n",
       "      <th>sex</th>\n",
       "      <th>state</th>\n",
       "    </tr>\n",
       "  </thead>\n",
       "  <tbody>\n",
       "    <tr>\n",
       "      <th>0</th>\n",
       "      <td>1999-01-03T00:00:00+00:00</td>\n",
       "      <td>Rotty X Shep</td>\n",
       "      <td>Black &amp; Tan</td>\n",
       "      <td>Tex</td>\n",
       "      <td>M/N</td>\n",
       "      <td>Lost</td>\n",
       "    </tr>\n",
       "    <tr>\n",
       "      <th>1</th>\n",
       "      <td>1999-01-04T00:00:00+00:00</td>\n",
       "      <td>Dog</td>\n",
       "      <td>Light Colour</td>\n",
       "      <td>None</td>\n",
       "      <td>M/N</td>\n",
       "      <td>Found</td>\n",
       "    </tr>\n",
       "    <tr>\n",
       "      <th>2</th>\n",
       "      <td>1999-01-04T00:00:00+00:00</td>\n",
       "      <td>Golden Lab X</td>\n",
       "      <td>Black &amp; Tan</td>\n",
       "      <td>Oscar</td>\n",
       "      <td>M</td>\n",
       "      <td>Lost</td>\n",
       "    </tr>\n",
       "    <tr>\n",
       "      <th>3</th>\n",
       "      <td>1999-01-04T00:00:00+00:00</td>\n",
       "      <td>Shep X</td>\n",
       "      <td>Black &amp; Tan</td>\n",
       "      <td>None</td>\n",
       "      <td>F</td>\n",
       "      <td>Found</td>\n",
       "    </tr>\n",
       "    <tr>\n",
       "      <th>4</th>\n",
       "      <td>1999-01-04T00:00:00+00:00</td>\n",
       "      <td>Shep X Collie</td>\n",
       "      <td>Black &amp; Tan</td>\n",
       "      <td>Angel</td>\n",
       "      <td>F</td>\n",
       "      <td>Lost</td>\n",
       "    </tr>\n",
       "  </tbody>\n",
       "</table>\n",
       "</div>"
      ],
      "text/plain": [
       "                        date          breed         color   name  sex  state\n",
       "0  1999-01-03T00:00:00+00:00   Rotty X Shep   Black & Tan    Tex  M/N   Lost\n",
       "1  1999-01-04T00:00:00+00:00            Dog  Light Colour   None  M/N  Found\n",
       "2  1999-01-04T00:00:00+00:00   Golden Lab X   Black & Tan  Oscar    M   Lost\n",
       "3  1999-01-04T00:00:00+00:00         Shep X   Black & Tan   None    F  Found\n",
       "4  1999-01-04T00:00:00+00:00  Shep X Collie   Black & Tan  Angel    F   Lost"
      ]
     },
     "execution_count": 17,
     "metadata": {},
     "output_type": "execute_result"
    }
   ],
   "source": [
    "lf_df.head()  # lets ground overselves in the data again"
   ]
  },
  {
   "cell_type": "code",
   "execution_count": 103,
   "metadata": {},
   "outputs": [
    {
     "data": {
      "text/html": [
       "<div>\n",
       "<style scoped>\n",
       "    .dataframe tbody tr th:only-of-type {\n",
       "        vertical-align: middle;\n",
       "    }\n",
       "\n",
       "    .dataframe tbody tr th {\n",
       "        vertical-align: top;\n",
       "    }\n",
       "\n",
       "    .dataframe thead th {\n",
       "        text-align: right;\n",
       "    }\n",
       "</style>\n",
       "<table border=\"1\" class=\"dataframe\">\n",
       "  <thead>\n",
       "    <tr style=\"text-align: right;\">\n",
       "      <th></th>\n",
       "      <th>date</th>\n",
       "      <th>breed</th>\n",
       "      <th>color</th>\n",
       "      <th>name</th>\n",
       "      <th>sex</th>\n",
       "      <th>state</th>\n",
       "    </tr>\n",
       "  </thead>\n",
       "  <tbody>\n",
       "    <tr>\n",
       "      <th>17832</th>\n",
       "      <td>2025-07-19T00:00:00+00:00</td>\n",
       "      <td>Cat- DSH</td>\n",
       "      <td>Grey</td>\n",
       "      <td>Sissy</td>\n",
       "      <td>F/S</td>\n",
       "      <td>Lost</td>\n",
       "    </tr>\n",
       "    <tr>\n",
       "      <th>17833</th>\n",
       "      <td>2025-07-20T00:00:00+00:00</td>\n",
       "      <td>Cat - DSH - British Shorthair</td>\n",
       "      <td>Grey and white</td>\n",
       "      <td>Sleepy</td>\n",
       "      <td>F/S</td>\n",
       "      <td>Lost</td>\n",
       "    </tr>\n",
       "    <tr>\n",
       "      <th>17834</th>\n",
       "      <td>2025-07-20T00:00:00+00:00</td>\n",
       "      <td>Cat - DSH - Devon Rex</td>\n",
       "      <td>Grey w/brown</td>\n",
       "      <td>Trixie</td>\n",
       "      <td>F/S</td>\n",
       "      <td>Lost</td>\n",
       "    </tr>\n",
       "    <tr>\n",
       "      <th>17835</th>\n",
       "      <td>2025-07-21T00:00:00+00:00</td>\n",
       "      <td>Cat - DSH</td>\n",
       "      <td>Creamy white/brown</td>\n",
       "      <td>Hylia</td>\n",
       "      <td>F/S</td>\n",
       "      <td>Lost</td>\n",
       "    </tr>\n",
       "    <tr>\n",
       "      <th>17836</th>\n",
       "      <td>2025-07-22T00:00:00+00:00</td>\n",
       "      <td>.Unknown Breed Mix</td>\n",
       "      <td>Cream</td>\n",
       "      <td>Bebe</td>\n",
       "      <td>F/S</td>\n",
       "      <td>Lost</td>\n",
       "    </tr>\n",
       "  </tbody>\n",
       "</table>\n",
       "</div>"
      ],
      "text/plain": [
       "                            date                          breed  \\\n",
       "17832  2025-07-19T00:00:00+00:00                       Cat- DSH   \n",
       "17833  2025-07-20T00:00:00+00:00  Cat - DSH - British Shorthair   \n",
       "17834  2025-07-20T00:00:00+00:00          Cat - DSH - Devon Rex   \n",
       "17835  2025-07-21T00:00:00+00:00                      Cat - DSH   \n",
       "17836  2025-07-22T00:00:00+00:00             .Unknown Breed Mix   \n",
       "\n",
       "                    color    name  sex state  \n",
       "17832                Grey   Sissy  F/S  Lost  \n",
       "17833      Grey and white  Sleepy  F/S  Lost  \n",
       "17834        Grey w/brown  Trixie  F/S  Lost  \n",
       "17835  Creamy white/brown   Hylia  F/S  Lost  \n",
       "17836               Cream    Bebe  F/S  Lost  "
      ]
     },
     "execution_count": 103,
     "metadata": {},
     "output_type": "execute_result"
    }
   ],
   "source": [
    "lf_df.tail()"
   ]
  },
  {
   "cell_type": "markdown",
   "metadata": {},
   "source": [
    "Based on the output above, the columns are each a distinct type of variable. It does seem, however, some columns store multiple variables in a single datapoint, especially `sex`, which indicates the reproductive sterility of an animal. This column, and another to be investigated further below, can be split into additional columns."
   ]
  },
  {
   "cell_type": "code",
   "execution_count": 104,
   "metadata": {},
   "outputs": [
    {
     "data": {
      "text/plain": [
       "sex\n",
       "M      5099\n",
       "M/N    4551\n",
       "F      3899\n",
       "F/S    3681\n",
       "X       216\n",
       "Name: count, dtype: int64"
      ]
     },
     "execution_count": 104,
     "metadata": {},
     "output_type": "execute_result"
    }
   ],
   "source": [
    "lf_df.sex.value_counts()"
   ]
  },
  {
   "cell_type": "code",
   "execution_count": 19,
   "metadata": {},
   "outputs": [
    {
     "name": "stdout",
     "output_type": "stream",
     "text": [
      "There are 4041 unique breeds in the dataset.\n"
     ]
    },
    {
     "data": {
      "text/plain": [
       "0                            None\n",
       "1          (Miniature) Pomeranian\n",
       "2              .Unknown Breed Mix\n",
       "3      1 Pit Bull & 1 Terrier mix\n",
       "4    1 Pitbull & 1 Bernese/Poodle\n",
       "5             1/2 Pit & 1/2 Presa\n",
       "6                      2 Dachunds\n",
       "7                2 Great Pyrenese\n",
       "8                       2 Husky X\n",
       "9                 2 Labs & 1 Shep\n",
       "dtype: object"
      ]
     },
     "execution_count": 19,
     "metadata": {},
     "output_type": "execute_result"
    }
   ],
   "source": [
    "print(\"There are\", lf_df.breed.unique().shape[0], \"unique breeds in the dataset.\")\n",
    "\n",
    "breed_s = pd.Series(lf_df.breed.unique()).sort_values(na_position='first', ignore_index=True)\n",
    "breed_s.head(10)"
   ]
  },
  {
   "cell_type": "code",
   "execution_count": 20,
   "metadata": {},
   "outputs": [
    {
     "data": {
      "text/plain": [
       "4031    stratfordshire terrier\n",
       "4032                     tabby\n",
       "4033    tabby Grey black brown\n",
       "4034       tabby short haireds\n",
       "4035               terrier (?)\n",
       "4036                 terrier X\n",
       "4037             terrier X pug\n",
       "4038      very small ( 5 lbs )\n",
       "4039             westy terrier\n",
       "4040              yorkie cross\n",
       "dtype: object"
      ]
     },
     "execution_count": 20,
     "metadata": {},
     "output_type": "execute_result"
    }
   ],
   "source": [
    "breed_s.tail(10)"
   ]
  },
  {
   "cell_type": "code",
   "execution_count": 21,
   "metadata": {},
   "outputs": [
    {
     "data": {
      "text/html": [
       "<div>\n",
       "<style scoped>\n",
       "    .dataframe tbody tr th:only-of-type {\n",
       "        vertical-align: middle;\n",
       "    }\n",
       "\n",
       "    .dataframe tbody tr th {\n",
       "        vertical-align: top;\n",
       "    }\n",
       "\n",
       "    .dataframe thead th {\n",
       "        text-align: right;\n",
       "    }\n",
       "</style>\n",
       "<table border=\"1\" class=\"dataframe\">\n",
       "  <thead>\n",
       "    <tr style=\"text-align: right;\">\n",
       "      <th></th>\n",
       "      <th></th>\n",
       "      <th>0</th>\n",
       "    </tr>\n",
       "    <tr>\n",
       "      <th></th>\n",
       "      <th>match</th>\n",
       "      <th></th>\n",
       "    </tr>\n",
       "  </thead>\n",
       "  <tbody>\n",
       "    <tr>\n",
       "      <th>3</th>\n",
       "      <th>0</th>\n",
       "      <td>1 Pit Bull &amp; 1 Terrier mix</td>\n",
       "    </tr>\n",
       "    <tr>\n",
       "      <th>4</th>\n",
       "      <th>0</th>\n",
       "      <td>1 Pitbull &amp; 1 Bernese/Poodle</td>\n",
       "    </tr>\n",
       "    <tr>\n",
       "      <th>5</th>\n",
       "      <th>0</th>\n",
       "      <td>1/2 Pit &amp; 1/2 Presa</td>\n",
       "    </tr>\n",
       "    <tr>\n",
       "      <th>6</th>\n",
       "      <th>0</th>\n",
       "      <td>2 Dachunds</td>\n",
       "    </tr>\n",
       "    <tr>\n",
       "      <th>7</th>\n",
       "      <th>0</th>\n",
       "      <td>2 Great Pyrenese</td>\n",
       "    </tr>\n",
       "    <tr>\n",
       "      <th>...</th>\n",
       "      <th>...</th>\n",
       "      <td>...</td>\n",
       "    </tr>\n",
       "    <tr>\n",
       "      <th>3640</th>\n",
       "      <th>0</th>\n",
       "      <td>Staff Terrier #2</td>\n",
       "    </tr>\n",
       "    <tr>\n",
       "      <th>3662</th>\n",
       "      <th>0</th>\n",
       "      <td>Stafforshire Terrier 14 months</td>\n",
       "    </tr>\n",
       "    <tr>\n",
       "      <th>3973</th>\n",
       "      <th>0</th>\n",
       "      <td>lab  and 2nd dog German Sheper</td>\n",
       "    </tr>\n",
       "    <tr>\n",
       "      <th>4029</th>\n",
       "      <th>0</th>\n",
       "      <td>small dog Benji type (10lbs)</td>\n",
       "    </tr>\n",
       "    <tr>\n",
       "      <th>4038</th>\n",
       "      <th>0</th>\n",
       "      <td>very small ( 5 lbs )</td>\n",
       "    </tr>\n",
       "  </tbody>\n",
       "</table>\n",
       "<p>121 rows × 1 columns</p>\n",
       "</div>"
      ],
      "text/plain": [
       "                                         0\n",
       "     match                                \n",
       "3    0          1 Pit Bull & 1 Terrier mix\n",
       "4    0        1 Pitbull & 1 Bernese/Poodle\n",
       "5    0                 1/2 Pit & 1/2 Presa\n",
       "6    0                          2 Dachunds\n",
       "7    0                    2 Great Pyrenese\n",
       "...                                    ...\n",
       "3640 0                    Staff Terrier #2\n",
       "3662 0      Stafforshire Terrier 14 months\n",
       "3973 0      lab  and 2nd dog German Sheper\n",
       "4029 0        small dog Benji type (10lbs)\n",
       "4038 0                very small ( 5 lbs )\n",
       "\n",
       "[121 rows x 1 columns]"
      ]
     },
     "execution_count": 21,
     "metadata": {},
     "output_type": "execute_result"
    }
   ],
   "source": [
    "breed_s.str.extractall(\"(.*\\d.*)\")"
   ]
  },
  {
   "cell_type": "markdown",
   "metadata": {},
   "source": [
    "Issue and justification: It seems the `breed` column could be useful for finding single rows with multiple animals reported (e.g., `1 Pit Bull & 1 Terrier mix`). A more tidy way to do this would be splitting those out into separate rows. If the report needs to be associated with those from the same report, there can be a report ID that all applicable reports share, however I will not need that information to answer my question.\n",
    "\n",
    "By having multiple animals in one row, this not only inaccurately represents the number of animals reported missing, but also makes grouping or filtering by the reported breed unreliable.\n",
    "\n",
    "The `sex` column could also be split into two columns, where one solely stores the biological sex of the animal and the other stores if they are neutered or spayed. This can just be a boolean value for simplicity's sake."
   ]
  },
  {
   "cell_type": "markdown",
   "metadata": {
    "id": "4ffMoRGSwzYj"
   },
   "source": [
    "### Tidiness Issue 2: "
   ]
  },
  {
   "cell_type": "code",
   "execution_count": 102,
   "metadata": {
    "id": "XUpeoqokw5Qt"
   },
   "outputs": [
    {
     "data": {
      "text/html": [
       "<div>\n",
       "<style scoped>\n",
       "    .dataframe tbody tr th:only-of-type {\n",
       "        vertical-align: middle;\n",
       "    }\n",
       "\n",
       "    .dataframe tbody tr th {\n",
       "        vertical-align: top;\n",
       "    }\n",
       "\n",
       "    .dataframe thead th {\n",
       "        text-align: right;\n",
       "    }\n",
       "</style>\n",
       "<table border=\"1\" class=\"dataframe\">\n",
       "  <thead>\n",
       "    <tr style=\"text-align: right;\">\n",
       "      <th></th>\n",
       "      <th>Breed</th>\n",
       "      <th>ShotsDate</th>\n",
       "      <th>Sex</th>\n",
       "      <th>ReceiptNumber</th>\n",
       "      <th>DateImpounded</th>\n",
       "      <th>PitNumber</th>\n",
       "      <th>Name</th>\n",
       "      <th>KennelNumber</th>\n",
       "      <th>DispositionDate</th>\n",
       "      <th>Color</th>\n",
       "      <th>Code</th>\n",
       "      <th>ApproxWeight</th>\n",
       "      <th>Age category</th>\n",
       "      <th>Source</th>\n",
       "      <th>Status</th>\n",
       "      <th>ACO</th>\n",
       "    </tr>\n",
       "    <tr>\n",
       "      <th>AnimalID</th>\n",
       "      <th></th>\n",
       "      <th></th>\n",
       "      <th></th>\n",
       "      <th></th>\n",
       "      <th></th>\n",
       "      <th></th>\n",
       "      <th></th>\n",
       "      <th></th>\n",
       "      <th></th>\n",
       "      <th></th>\n",
       "      <th></th>\n",
       "      <th></th>\n",
       "      <th></th>\n",
       "      <th></th>\n",
       "      <th></th>\n",
       "      <th></th>\n",
       "    </tr>\n",
       "  </thead>\n",
       "  <tbody>\n",
       "    <tr>\n",
       "      <th>28066</th>\n",
       "      <td>Rat, Fancy x 1 Male</td>\n",
       "      <td>NaN</td>\n",
       "      <td>M</td>\n",
       "      <td>n/c</td>\n",
       "      <td>2017-04-13</td>\n",
       "      <td>NaN</td>\n",
       "      <td>Obi-Wan</td>\n",
       "      <td>200</td>\n",
       "      <td>2018-01-04</td>\n",
       "      <td>White/Brown</td>\n",
       "      <td>NaN</td>\n",
       "      <td>NaN</td>\n",
       "      <td>Adult</td>\n",
       "      <td>HOLDING STRAY</td>\n",
       "      <td>Sold</td>\n",
       "      <td>40</td>\n",
       "    </tr>\n",
       "    <tr>\n",
       "      <th>28070</th>\n",
       "      <td>Doberman Pinscher</td>\n",
       "      <td>NaN</td>\n",
       "      <td>M</td>\n",
       "      <td>DI 17-213469</td>\n",
       "      <td>2017-04-14</td>\n",
       "      <td>NaN</td>\n",
       "      <td>Loki</td>\n",
       "      <td>200</td>\n",
       "      <td>2017-04-15</td>\n",
       "      <td>Black</td>\n",
       "      <td>NaN</td>\n",
       "      <td>NaN</td>\n",
       "      <td>Young Adult</td>\n",
       "      <td>HOLDING STRAY</td>\n",
       "      <td>Redeemed</td>\n",
       "      <td>32</td>\n",
       "    </tr>\n",
       "    <tr>\n",
       "      <th>28072</th>\n",
       "      <td>Chihuahua</td>\n",
       "      <td>NaN</td>\n",
       "      <td>M</td>\n",
       "      <td>DI 17-213705</td>\n",
       "      <td>2017-04-15</td>\n",
       "      <td>NaN</td>\n",
       "      <td>Hugo</td>\n",
       "      <td>200</td>\n",
       "      <td>2017-04-16</td>\n",
       "      <td>Black</td>\n",
       "      <td>NaN</td>\n",
       "      <td>NaN</td>\n",
       "      <td>Young Adult</td>\n",
       "      <td>HOLDING STRAY</td>\n",
       "      <td>Redeemed</td>\n",
       "      <td>42</td>\n",
       "    </tr>\n",
       "    <tr>\n",
       "      <th>28074</th>\n",
       "      <td>Chihuahua</td>\n",
       "      <td>NaN</td>\n",
       "      <td>F</td>\n",
       "      <td>DI 17-214366 DB</td>\n",
       "      <td>2017-04-16</td>\n",
       "      <td>NaN</td>\n",
       "      <td>ChiChi</td>\n",
       "      <td>200</td>\n",
       "      <td>2017-04-18</td>\n",
       "      <td>Cream</td>\n",
       "      <td>NaN</td>\n",
       "      <td>NaN</td>\n",
       "      <td>Adult</td>\n",
       "      <td>HOLDING STRAY</td>\n",
       "      <td>Redeemed</td>\n",
       "      <td>12/26</td>\n",
       "    </tr>\n",
       "    <tr>\n",
       "      <th>28077</th>\n",
       "      <td>Chihuahua</td>\n",
       "      <td>NaN</td>\n",
       "      <td>F</td>\n",
       "      <td>NaN</td>\n",
       "      <td>2017-04-16</td>\n",
       "      <td>NaN</td>\n",
       "      <td>Oreo</td>\n",
       "      <td>200</td>\n",
       "      <td>2017-04-18</td>\n",
       "      <td>Black</td>\n",
       "      <td>NaN</td>\n",
       "      <td>NaN</td>\n",
       "      <td>Senior</td>\n",
       "      <td>POLICE-EMERGENCY</td>\n",
       "      <td>Redeemed</td>\n",
       "      <td>NaN</td>\n",
       "    </tr>\n",
       "    <tr>\n",
       "      <th>28079</th>\n",
       "      <td>Budgie</td>\n",
       "      <td>NaN</td>\n",
       "      <td>F</td>\n",
       "      <td>NaN</td>\n",
       "      <td>2017-04-18</td>\n",
       "      <td>NaN</td>\n",
       "      <td>NaN</td>\n",
       "      <td>100</td>\n",
       "      <td>2017-04-19</td>\n",
       "      <td>Green/Yellow/Black</td>\n",
       "      <td>NaN</td>\n",
       "      <td>NaN</td>\n",
       "      <td>Young Adult</td>\n",
       "      <td>BROUGHT-IN</td>\n",
       "      <td>Passed Away</td>\n",
       "      <td>NaN</td>\n",
       "    </tr>\n",
       "    <tr>\n",
       "      <th>28083</th>\n",
       "      <td>Guinea Pig</td>\n",
       "      <td>NaN</td>\n",
       "      <td>F</td>\n",
       "      <td>NaN</td>\n",
       "      <td>2017-04-18</td>\n",
       "      <td>NaN</td>\n",
       "      <td>Penny</td>\n",
       "      <td>200</td>\n",
       "      <td>2017-06-07</td>\n",
       "      <td>Tri colored - Large</td>\n",
       "      <td>NaN</td>\n",
       "      <td>NaN</td>\n",
       "      <td>Young Adult</td>\n",
       "      <td>COMPLAINT</td>\n",
       "      <td>Sold</td>\n",
       "      <td>NaN</td>\n",
       "    </tr>\n",
       "    <tr>\n",
       "      <th>28086</th>\n",
       "      <td>Lab X</td>\n",
       "      <td>NaN</td>\n",
       "      <td>M/N</td>\n",
       "      <td>NaN</td>\n",
       "      <td>2017-04-18</td>\n",
       "      <td>NaN</td>\n",
       "      <td>Farley</td>\n",
       "      <td>400</td>\n",
       "      <td>2017-04-19</td>\n",
       "      <td>Yellow</td>\n",
       "      <td>NaN</td>\n",
       "      <td>NaN</td>\n",
       "      <td>Senior</td>\n",
       "      <td>HOLDING STRAY</td>\n",
       "      <td>Ride Home Free</td>\n",
       "      <td>35</td>\n",
       "    </tr>\n",
       "    <tr>\n",
       "      <th>28093</th>\n",
       "      <td>Shih Tzu</td>\n",
       "      <td>NaN</td>\n",
       "      <td>M/N</td>\n",
       "      <td>DI 17-216041</td>\n",
       "      <td>2017-04-23</td>\n",
       "      <td>NaN</td>\n",
       "      <td>TT</td>\n",
       "      <td>200</td>\n",
       "      <td>2017-04-23</td>\n",
       "      <td>Cream</td>\n",
       "      <td>NaN</td>\n",
       "      <td>NaN</td>\n",
       "      <td>Senior</td>\n",
       "      <td>HOLDING STRAY</td>\n",
       "      <td>Redeemed</td>\n",
       "      <td>26/34</td>\n",
       "    </tr>\n",
       "    <tr>\n",
       "      <th>28094</th>\n",
       "      <td>Spaniel</td>\n",
       "      <td>NaN</td>\n",
       "      <td>M</td>\n",
       "      <td>17-216822</td>\n",
       "      <td>2017-04-23</td>\n",
       "      <td>NaN</td>\n",
       "      <td>Illy</td>\n",
       "      <td>200</td>\n",
       "      <td>2017-04-25</td>\n",
       "      <td>Brown</td>\n",
       "      <td>NaN</td>\n",
       "      <td>NaN</td>\n",
       "      <td>Adult</td>\n",
       "      <td>BROUGHT-IN</td>\n",
       "      <td>Redeemed</td>\n",
       "      <td>maria</td>\n",
       "    </tr>\n",
       "  </tbody>\n",
       "</table>\n",
       "</div>"
      ],
      "text/plain": [
       "                        Breed ShotsDate  Sex    ReceiptNumber DateImpounded  \\\n",
       "AnimalID                                                                      \n",
       "28066     Rat, Fancy x 1 Male       NaN    M              n/c    2017-04-13   \n",
       "28070       Doberman Pinscher       NaN    M     DI 17-213469    2017-04-14   \n",
       "28072               Chihuahua       NaN    M     DI 17-213705    2017-04-15   \n",
       "28074               Chihuahua       NaN    F  DI 17-214366 DB    2017-04-16   \n",
       "28077               Chihuahua       NaN    F              NaN    2017-04-16   \n",
       "28079                  Budgie       NaN    F              NaN    2017-04-18   \n",
       "28083              Guinea Pig       NaN    F              NaN    2017-04-18   \n",
       "28086                   Lab X       NaN  M/N              NaN    2017-04-18   \n",
       "28093                Shih Tzu       NaN  M/N     DI 17-216041    2017-04-23   \n",
       "28094                 Spaniel       NaN    M        17-216822    2017-04-23   \n",
       "\n",
       "          PitNumber     Name KennelNumber DispositionDate  \\\n",
       "AnimalID                                                    \n",
       "28066           NaN  Obi-Wan          200      2018-01-04   \n",
       "28070           NaN     Loki          200      2017-04-15   \n",
       "28072           NaN     Hugo          200      2017-04-16   \n",
       "28074           NaN   ChiChi          200      2017-04-18   \n",
       "28077           NaN     Oreo          200      2017-04-18   \n",
       "28079           NaN      NaN          100      2017-04-19   \n",
       "28083           NaN    Penny          200      2017-06-07   \n",
       "28086           NaN   Farley          400      2017-04-19   \n",
       "28093           NaN       TT          200      2017-04-23   \n",
       "28094           NaN     Illy          200      2017-04-25   \n",
       "\n",
       "                        Color Code ApproxWeight Age category  \\\n",
       "AnimalID                                                       \n",
       "28066             White/Brown  NaN          NaN        Adult   \n",
       "28070                   Black  NaN          NaN  Young Adult   \n",
       "28072                   Black  NaN          NaN  Young Adult   \n",
       "28074                   Cream  NaN          NaN        Adult   \n",
       "28077                   Black  NaN          NaN       Senior   \n",
       "28079      Green/Yellow/Black  NaN          NaN  Young Adult   \n",
       "28083     Tri colored - Large  NaN          NaN  Young Adult   \n",
       "28086                  Yellow  NaN          NaN       Senior   \n",
       "28093                   Cream  NaN          NaN       Senior   \n",
       "28094                   Brown  NaN          NaN        Adult   \n",
       "\n",
       "                    Source          Status    ACO  \n",
       "AnimalID                                           \n",
       "28066        HOLDING STRAY            Sold     40  \n",
       "28070        HOLDING STRAY        Redeemed     32  \n",
       "28072        HOLDING STRAY        Redeemed     42  \n",
       "28074        HOLDING STRAY        Redeemed  12/26  \n",
       "28077     POLICE-EMERGENCY        Redeemed    NaN  \n",
       "28079           BROUGHT-IN     Passed Away    NaN  \n",
       "28083            COMPLAINT            Sold    NaN  \n",
       "28086        HOLDING STRAY  Ride Home Free     35  \n",
       "28093        HOLDING STRAY        Redeemed  26/34  \n",
       "28094           BROUGHT-IN        Redeemed  maria  "
      ]
     },
     "execution_count": 102,
     "metadata": {},
     "output_type": "execute_result"
    }
   ],
   "source": [
    "reg_df.head(10)"
   ]
  },
  {
   "cell_type": "code",
   "execution_count": 106,
   "metadata": {},
   "outputs": [
    {
     "data": {
      "text/html": [
       "<div>\n",
       "<style scoped>\n",
       "    .dataframe tbody tr th:only-of-type {\n",
       "        vertical-align: middle;\n",
       "    }\n",
       "\n",
       "    .dataframe tbody tr th {\n",
       "        vertical-align: top;\n",
       "    }\n",
       "\n",
       "    .dataframe thead th {\n",
       "        text-align: right;\n",
       "    }\n",
       "</style>\n",
       "<table border=\"1\" class=\"dataframe\">\n",
       "  <thead>\n",
       "    <tr style=\"text-align: right;\">\n",
       "      <th></th>\n",
       "      <th>Breed</th>\n",
       "      <th>ShotsDate</th>\n",
       "      <th>Sex</th>\n",
       "      <th>ReceiptNumber</th>\n",
       "      <th>DateImpounded</th>\n",
       "      <th>PitNumber</th>\n",
       "      <th>Name</th>\n",
       "      <th>KennelNumber</th>\n",
       "      <th>DispositionDate</th>\n",
       "      <th>Color</th>\n",
       "      <th>Code</th>\n",
       "      <th>ApproxWeight</th>\n",
       "      <th>Age category</th>\n",
       "      <th>Source</th>\n",
       "      <th>Status</th>\n",
       "      <th>ACO</th>\n",
       "    </tr>\n",
       "    <tr>\n",
       "      <th>AnimalID</th>\n",
       "      <th></th>\n",
       "      <th></th>\n",
       "      <th></th>\n",
       "      <th></th>\n",
       "      <th></th>\n",
       "      <th></th>\n",
       "      <th></th>\n",
       "      <th></th>\n",
       "      <th></th>\n",
       "      <th></th>\n",
       "      <th></th>\n",
       "      <th></th>\n",
       "      <th></th>\n",
       "      <th></th>\n",
       "      <th></th>\n",
       "      <th></th>\n",
       "    </tr>\n",
       "  </thead>\n",
       "  <tbody>\n",
       "    <tr>\n",
       "      <th>1</th>\n",
       "      <td>Pit Bull</td>\n",
       "      <td>2005-06-18</td>\n",
       "      <td>M/N</td>\n",
       "      <td>17057 ks</td>\n",
       "      <td>2005-06-12</td>\n",
       "      <td>20038.0</td>\n",
       "      <td>Taz</td>\n",
       "      <td>200</td>\n",
       "      <td>NaN</td>\n",
       "      <td>Tan</td>\n",
       "      <td>NaN</td>\n",
       "      <td>45</td>\n",
       "      <td>NaN</td>\n",
       "      <td>HOLDING STRAY</td>\n",
       "      <td>Sold</td>\n",
       "      <td>3</td>\n",
       "    </tr>\n",
       "    <tr>\n",
       "      <th>2</th>\n",
       "      <td>English Setter</td>\n",
       "      <td>NaN</td>\n",
       "      <td>M/N</td>\n",
       "      <td>20372 BC3</td>\n",
       "      <td>2006-03-19</td>\n",
       "      <td>20041.0</td>\n",
       "      <td>Dudley</td>\n",
       "      <td>200</td>\n",
       "      <td>NaN</td>\n",
       "      <td>White &amp; Brown</td>\n",
       "      <td>NaN</td>\n",
       "      <td>100lbs</td>\n",
       "      <td>NaN</td>\n",
       "      <td>HOLDING STRAY</td>\n",
       "      <td>Redeemed</td>\n",
       "      <td>NaN</td>\n",
       "    </tr>\n",
       "    <tr>\n",
       "      <th>3</th>\n",
       "      <td>Lab X</td>\n",
       "      <td>NaN</td>\n",
       "      <td>M/N</td>\n",
       "      <td>N/C BC</td>\n",
       "      <td>2006-07-24</td>\n",
       "      <td>40041.0</td>\n",
       "      <td>Evander</td>\n",
       "      <td>400</td>\n",
       "      <td>NaN</td>\n",
       "      <td>Black</td>\n",
       "      <td>NaN</td>\n",
       "      <td>NaN</td>\n",
       "      <td>NaN</td>\n",
       "      <td>HOLDING STRAY</td>\n",
       "      <td>Ride Home Free</td>\n",
       "      <td>5</td>\n",
       "    </tr>\n",
       "    <tr>\n",
       "      <th>4</th>\n",
       "      <td>Pomeranian</td>\n",
       "      <td>NaN</td>\n",
       "      <td>M</td>\n",
       "      <td>22171,MC</td>\n",
       "      <td>2006-09-08</td>\n",
       "      <td>20017.0</td>\n",
       "      <td>Chewbaca</td>\n",
       "      <td>200</td>\n",
       "      <td>NaN</td>\n",
       "      <td>Brown</td>\n",
       "      <td>NaN</td>\n",
       "      <td>10 lbs.</td>\n",
       "      <td>NaN</td>\n",
       "      <td>HOLDING STRAY</td>\n",
       "      <td>Redeemed</td>\n",
       "      <td>14</td>\n",
       "    </tr>\n",
       "    <tr>\n",
       "      <th>5</th>\n",
       "      <td>American Bulldog X</td>\n",
       "      <td>2006-10-07</td>\n",
       "      <td>M/N</td>\n",
       "      <td>22565 - skj</td>\n",
       "      <td>2006-09-06</td>\n",
       "      <td>20053.0</td>\n",
       "      <td>Cadillac</td>\n",
       "      <td>200</td>\n",
       "      <td>NaN</td>\n",
       "      <td>White with Brown Patch on Eye</td>\n",
       "      <td>NaN</td>\n",
       "      <td>80 lbs</td>\n",
       "      <td>NaN</td>\n",
       "      <td>HOLDING STRAY</td>\n",
       "      <td>Sold</td>\n",
       "      <td>22</td>\n",
       "    </tr>\n",
       "  </tbody>\n",
       "</table>\n",
       "</div>"
      ],
      "text/plain": [
       "                       Breed   ShotsDate  Sex ReceiptNumber DateImpounded  \\\n",
       "AnimalID                                                                    \n",
       "1                   Pit Bull  2005-06-18  M/N      17057 ks    2005-06-12   \n",
       "2             English Setter         NaN  M/N     20372 BC3    2006-03-19   \n",
       "3                      Lab X         NaN  M/N        N/C BC    2006-07-24   \n",
       "4                 Pomeranian         NaN    M      22171,MC    2006-09-08   \n",
       "5         American Bulldog X  2006-10-07  M/N   22565 - skj    2006-09-06   \n",
       "\n",
       "          PitNumber      Name KennelNumber DispositionDate  \\\n",
       "AnimalID                                                     \n",
       "1           20038.0       Taz          200             NaN   \n",
       "2           20041.0    Dudley          200             NaN   \n",
       "3           40041.0   Evander          400             NaN   \n",
       "4           20017.0  Chewbaca          200             NaN   \n",
       "5           20053.0  Cadillac          200             NaN   \n",
       "\n",
       "                                  Color Code ApproxWeight Age category  \\\n",
       "AnimalID                                                                 \n",
       "1                                   Tan  NaN           45          NaN   \n",
       "2                         White & Brown  NaN       100lbs          NaN   \n",
       "3                                 Black  NaN          NaN          NaN   \n",
       "4                                 Brown  NaN      10 lbs.          NaN   \n",
       "5         White with Brown Patch on Eye  NaN       80 lbs          NaN   \n",
       "\n",
       "                 Source          Status  ACO  \n",
       "AnimalID                                      \n",
       "1         HOLDING STRAY            Sold    3  \n",
       "2         HOLDING STRAY        Redeemed  NaN  \n",
       "3         HOLDING STRAY  Ride Home Free    5  \n",
       "4         HOLDING STRAY        Redeemed   14  \n",
       "5         HOLDING STRAY            Sold   22  "
      ]
     },
     "execution_count": 106,
     "metadata": {},
     "output_type": "execute_result"
    }
   ],
   "source": [
    "reg_df.sort_index().head()"
   ]
  },
  {
   "cell_type": "markdown",
   "metadata": {},
   "source": [
    "Skimming through the breed column revealed multiple occurrences of a string like \"`<breed-name> X`\". Immediately, I am unsure what this may indicate, but I have a presumption that I will elaborate upon shortly."
   ]
  },
  {
   "cell_type": "code",
   "execution_count": 125,
   "metadata": {},
   "outputs": [
    {
     "data": {
      "text/plain": [
       "Breed                       Lab X\n",
       "ShotsDate                     NaN\n",
       "Sex                           M/N\n",
       "ReceiptNumber              N/C BC\n",
       "DateImpounded          2006-07-24\n",
       "PitNumber                 40041.0\n",
       "Name                      Evander\n",
       "KennelNumber                  400\n",
       "DispositionDate               NaN\n",
       "Color                       Black\n",
       "Code                          NaN\n",
       "ApproxWeight                  NaN\n",
       "Age category                  NaN\n",
       "Source              HOLDING STRAY\n",
       "Status             Ride Home Free\n",
       "ACO                             5\n",
       "Name: 3, dtype: object"
      ]
     },
     "execution_count": 125,
     "metadata": {},
     "output_type": "execute_result"
    }
   ],
   "source": [
    "reg_df.query('AnimalID == 3').iloc[0]  # iloc will return a series, which is a bit easier to read for a single row"
   ]
  },
  {
   "cell_type": "markdown",
   "metadata": {},
   "source": [
    "Looking a little further, it looks like `Lab X` is incredibly common."
   ]
  },
  {
   "cell_type": "code",
   "execution_count": 25,
   "metadata": {},
   "outputs": [
    {
     "data": {
      "text/plain": [
       "0                     \n",
       "Lab X                     872\n",
       "Lab                       571\n",
       "Labrador                  495\n",
       "Labrador X                 78\n",
       "Shep X Lab                 78\n",
       "                         ... \n",
       "Black Lab X Pit             1\n",
       "Black Lab/GSD               1\n",
       "Black X Lab                 1\n",
       "Heeler X Lab X Bassett      1\n",
       "rotty X lab                 1\n",
       "Name: count, Length: 490, dtype: int64"
      ]
     },
     "execution_count": 25,
     "metadata": {},
     "output_type": "execute_result"
    }
   ],
   "source": [
    "reg_df['Breed'].str.extractall(\"(.*[lL]ab.*)\").value_counts()"
   ]
  },
  {
   "cell_type": "markdown",
   "metadata": {},
   "source": [
    "Issue and justification: There are a few places where some improvements can be made. \n",
    "- `Name` - Some rows contain \"`(New name)`,\" which is tracking two factors of data in a single column.\n",
    "  - This could be resolved with another column of boolean values, but I do not think it will be entirely necessary for our cause. Therefore, we will remove occurrences of `(New name)`\n",
    "- `Breed` - Some breeds have \"`mix`\" while others have \"`X`\". Presumably, `X` is also for \"mix,\" but this is merely an assumption. Additionally, `Black Lab` is not a breed, the breed is Labrador Retriever. \n",
    "  - One way to handle this is to see if the `Breed` field contains the `Color` of the animal, then trimming that out if it does.\n",
    "\n",
    "Another general issue is that this field has inconsistent capitalization. Eventually, I will normalize all of the string fields so that they are all in lowercase."
   ]
  },
  {
   "cell_type": "markdown",
   "metadata": {
    "id": "D6gmLnBttpCh"
   },
   "source": [
    "## 3. Clean data\n",
    "Clean the data to solve the 4 issues corresponding to data quality and tidiness found in the assessing step. **Make sure you include justifications for your cleaning decisions.**\n",
    "\n",
    "After the cleaning for each issue, please use **either** the visually or programatical method to validate the cleaning was succesful.\n",
    "\n",
    "At this stage, you are also expected to remove variables that are unnecessary for your analysis and combine your datasets. Depending on your datasets, you may choose to perform variable combination and elimination before or after the cleaning stage. Your dataset must have **at least** 4 variables after combining the data."
   ]
  },
  {
   "cell_type": "code",
   "execution_count": 26,
   "metadata": {},
   "outputs": [],
   "source": [
    "# Make copies of the datasets to ensure the raw dataframes are not impacted\n",
    "lf_df_clean = lf_df.copy()\n",
    "reg_df_clean = reg_df.copy()"
   ]
  },
  {
   "cell_type": "markdown",
   "metadata": {
    "id": "FmFhN52Yyn3l"
   },
   "source": [
    "### **Quality Issue 1: FILL IN**"
   ]
  },
  {
   "cell_type": "markdown",
   "metadata": {},
   "source": [
    "For the issue of ______ I will"
   ]
  },
  {
   "cell_type": "code",
   "execution_count": 27,
   "metadata": {
    "id": "9UejDWrNMW4a"
   },
   "outputs": [],
   "source": [
    "# FILL IN - Apply the cleaning strategy.\n"
   ]
  },
  {
   "cell_type": "code",
   "execution_count": 28,
   "metadata": {
    "id": "oUBee-LPytkv"
   },
   "outputs": [],
   "source": [
    "# FILL IN - Validate the cleaning was successful"
   ]
  },
  {
   "cell_type": "markdown",
   "metadata": {},
   "source": [
    "Justification: *FILL IN*"
   ]
  },
  {
   "cell_type": "markdown",
   "metadata": {
    "id": "n_DAUbJrymBL"
   },
   "source": [
    "### **Quality Issue 2: FILL IN**"
   ]
  },
  {
   "cell_type": "code",
   "execution_count": 29,
   "metadata": {
    "id": "5Yfb-Yu5MTuE"
   },
   "outputs": [],
   "source": [
    "#FILL IN - Apply the cleaning strategy"
   ]
  },
  {
   "cell_type": "code",
   "execution_count": 30,
   "metadata": {
    "id": "ionB2sRaMUmY"
   },
   "outputs": [],
   "source": [
    "#FILL IN - Validate the cleaning was successful"
   ]
  },
  {
   "cell_type": "markdown",
   "metadata": {},
   "source": [
    "Justification: *FILL IN*"
   ]
  },
  {
   "cell_type": "markdown",
   "metadata": {
    "id": "bIUrrfSNyOPR"
   },
   "source": [
    "### **Tidiness Issue 1: FILL IN**"
   ]
  },
  {
   "cell_type": "code",
   "execution_count": 31,
   "metadata": {
    "id": "fib0zAm333bn"
   },
   "outputs": [],
   "source": [
    "#FILL IN - Apply the cleaning strategy"
   ]
  },
  {
   "cell_type": "code",
   "execution_count": 32,
   "metadata": {
    "id": "yhrnUGY_Nk8B"
   },
   "outputs": [],
   "source": [
    "#FILL IN - Validate the cleaning was successful"
   ]
  },
  {
   "cell_type": "markdown",
   "metadata": {},
   "source": [
    "Justification: *FILL IN*"
   ]
  },
  {
   "cell_type": "markdown",
   "metadata": {
    "id": "o51Bt8kwyTzk"
   },
   "source": [
    "### **Tidiness Issue 2: FILL IN**"
   ]
  },
  {
   "cell_type": "code",
   "execution_count": 33,
   "metadata": {
    "id": "7zW8O5yx4Y9O"
   },
   "outputs": [],
   "source": [
    "#FILL IN - Apply the cleaning strategy"
   ]
  },
  {
   "cell_type": "code",
   "execution_count": 34,
   "metadata": {
    "id": "q6I_Sr7lxXi5"
   },
   "outputs": [],
   "source": [
    "#FILL IN - Validate the cleaning was successful"
   ]
  },
  {
   "cell_type": "markdown",
   "metadata": {},
   "source": [
    "Justification: *FILL IN*"
   ]
  },
  {
   "cell_type": "markdown",
   "metadata": {},
   "source": [
    "### **Remove unnecessary variables and combine datasets**\n",
    "\n",
    "Depending on the datasets, you can also peform the combination before the cleaning steps."
   ]
  },
  {
   "cell_type": "code",
   "execution_count": 35,
   "metadata": {},
   "outputs": [],
   "source": [
    "#FILL IN - Remove unnecessary variables and combine datasets"
   ]
  },
  {
   "cell_type": "markdown",
   "metadata": {
    "id": "F42urHuzttjF"
   },
   "source": [
    "## 4. Update your data store\n",
    "Update your local database/data store with the cleaned data, following best practices for storing your cleaned data:\n",
    "\n",
    "- Must maintain different instances / versions of data (raw and cleaned data)\n",
    "- Must name the dataset files informatively\n",
    "- Ensure both the raw and cleaned data is saved to your database/data store"
   ]
  },
  {
   "cell_type": "code",
   "execution_count": 36,
   "metadata": {
    "id": "V3uay7EJUV_L"
   },
   "outputs": [],
   "source": [
    "#FILL IN - saving data"
   ]
  },
  {
   "cell_type": "markdown",
   "metadata": {
    "id": "cGy_yddGtzhM"
   },
   "source": [
    "## 5. Answer the research question\n",
    "\n",
    "### **5.1:** Define and answer the research question \n",
    "Going back to the problem statement in step 1, use the cleaned data to answer the question you raised. Produce **at least** two visualizations using the cleaned data and explain how they help you answer the question."
   ]
  },
  {
   "cell_type": "markdown",
   "metadata": {
    "id": "gjedE4s4ZkEd"
   },
   "source": [
    "*Research question:* FILL IN from answer to Step 1"
   ]
  },
  {
   "cell_type": "code",
   "execution_count": 37,
   "metadata": {
    "id": "Lkw3rW9kZmOm"
   },
   "outputs": [],
   "source": [
    "#Visual 1 - FILL IN"
   ]
  },
  {
   "cell_type": "markdown",
   "metadata": {},
   "source": [
    "*Answer to research question:* FILL IN"
   ]
  }
 ],
 "metadata": {
  "colab": {
   "provenance": []
  },
  "kernelspec": {
   "display_name": "Python 3",
   "language": "python",
   "name": "python3"
  },
  "language_info": {
   "codemirror_mode": {
    "name": "ipython",
    "version": 3
   },
   "file_extension": ".py",
   "mimetype": "text/x-python",
   "name": "python",
   "nbconvert_exporter": "python",
   "pygments_lexer": "ipython3",
   "version": "3.10.7"
  }
 },
 "nbformat": 4,
 "nbformat_minor": 1
}
