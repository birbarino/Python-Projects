{
 "cells": [
  {
   "cell_type": "markdown",
   "metadata": {
    "id": "GNIwe5N7s0e_"
   },
   "source": [
    "# Real-world Data Wrangling"
   ]
  },
  {
   "cell_type": "markdown",
   "metadata": {
    "id": "lDYDkH-Zs7Nn"
   },
   "source": [
    "## 1. Gather data"
   ]
  },
  {
   "cell_type": "markdown",
   "metadata": {
    "id": "LbN7z7rcuqpO"
   },
   "source": [
    "### **1.1.** Problem Statement"
   ]
  },
  {
   "cell_type": "markdown",
   "metadata": {
    "id": "gi6swhjSYqu2"
   },
   "source": [
    " *The City of Vancouver tracks not only every animal that comes into its shelters, but also those that are reported as lost by their owners. While the city does track those that are matched back to their owner, is it possible that an animal still tracked as lost has possibly been accounted for? If so, is it possible to find somewhat reliable means to match animals based on data entered into a report for lost ones?*"
   ]
  },
  {
   "cell_type": "markdown",
   "metadata": {
    "id": "8AQfBAdUypMm"
   },
   "source": [
    "### **1.2.** Gather at least two datasets using two different data gathering methods\n"
   ]
  },
  {
   "cell_type": "markdown",
   "metadata": {
    "id": "7e6gS0wL1KTu"
   },
   "source": [
    "#### City of Vancouver Animal Control Inventory - Lost and Found"
   ]
  },
  {
   "cell_type": "markdown",
   "metadata": {},
   "source": [
    "This dataset is information from the City of Vancouver where an owner of an animal has reported them as lost. It also tracks those that were either reported as found or were matched by the shelter back to the owner. \n",
    "\n",
    "I chose this dataset because it will address what animals were reported as lost within the city. This does not cover every animal that was lost, however it does provide a large sample size for this metro area.\n",
    "\n",
    "Further information on the dataset can be found [here](https://opendata.vancouver.ca/explore/dataset/animal-control-inventory-lost-and-found/information).\n",
    "\n",
    "Type: JSON\n",
    "\n",
    "Method: This data was gathered by querying the City of Vancouver's database with the standard Opendatasoft API. I am doing it this way because the data is updated daily, and this guarantees that the most up-to-date information will be used.\n",
    "\n",
    "Dataset variables:\n",
    "\n",
    "- *breed* - type of animal or breed that fits best.\n",
    "- *color* - color of the animal's coat/fur.\n",
    "- *date* - date that the animal was lost\n",
    "- *name* - the given name of the animal being tracked (if known).\n",
    "- *sex* - used to label the biological sex of the animal, as well as if they are spayed or neutered (marked with `F/S` or `M/N` accordingly). `X` = unknown\n",
    "- *state* - the last state of being for the animal, i.e. `matched` or `lost`.\n",
    "\n",
    "After some poking around, I found out that without a `group by` statement, the server only returns 100 results. By including a `group by` statement for all of the fields, this should theoretically drop duplicate values. I'm also filtering out anything before `1998-10-03`, as this is the earliest `DateImpounded` timestamp in the other dataset that will be used."
   ]
  },
  {
   "cell_type": "code",
   "execution_count": 1669,
   "metadata": {
    "id": "Su8E0uLuYkHU"
   },
   "outputs": [],
   "source": [
    "import requests\n",
    "import pandas as pd\n",
    "import datetime\n",
    "\n",
    "# \"lf\" is for *l*ost and *f*ound\n",
    "lf_api_query = \"https://opendata.vancouver.ca/api/explore/v2.1/catalog/datasets/animal-control-inventory-lost-and-found/records?where=date%20%3E%20%221998-10-02%22&group_by=date%2C%20breed%2C%20color%2C%20name%2C%20sex%2C%20state&order_by=date&limit=-1\"\n",
    "lf_data = requests.get(lf_api_query)\n",
    "lf_data.raise_for_status()"
   ]
  },
  {
   "cell_type": "code",
   "execution_count": 1670,
   "metadata": {},
   "outputs": [
    {
     "name": "stdout",
     "output_type": "stream",
     "text": [
      "dict_keys(['total_count', 'results'])\n",
      "17855\n",
      "<class 'list'>\n",
      "<class 'dict'>\n"
     ]
    }
   ],
   "source": [
    "lf_json = lf_data.json()\n",
    "\n",
    "print(lf_json.keys())\n",
    "print(lf_json['total_count'])\n",
    "\n",
    "lf_json['results'][0:3]\n",
    "print(type(lf_json['results']))     # all elements\n",
    "print(type(lf_json['results'][0]))  # individual element"
   ]
  },
  {
   "cell_type": "markdown",
   "metadata": {},
   "source": [
    "Based on our mild digging above, we would want to load specifically the data in the `results` key as a Pandas DataFrame, since `results` is simply a `list` of `dict`'s, which Pandas.DataFrame's constructor can handle."
   ]
  },
  {
   "cell_type": "code",
   "execution_count": 1671,
   "metadata": {},
   "outputs": [],
   "source": [
    "lf_df = pd.DataFrame(lf_json['results'])"
   ]
  },
  {
   "cell_type": "markdown",
   "metadata": {
    "id": "hoUjq1tPzz7P"
   },
   "source": [
    "#### City of Vancouver Animal Control Inventory - Register"
   ]
  },
  {
   "cell_type": "markdown",
   "metadata": {},
   "source": [
    "This dataset is a \"general record of each animal that has come into the custody\" the City of Vancouver's animal control service.\n",
    "\n",
    "I chose this dataset to have a record to compare all of the lost and found animals to in the event an animal is reported as lost and the City of Vancouver happens to have them, or someone very much like them, already processed into their database.\n",
    "\n",
    "Like with the lost and found dataset, this data is updated daily. Because I must choose a different method to pull this data, I will download it programatically, as well as in CSV format just to make sure I cover all bases for this project.\n",
    "\n",
    "Type: Semicolon (`;`) delimited \"CSV\" file.\n",
    "\n",
    "Method: Programatic download via HTTP GET request\n",
    "\n",
    "Dataset variables:\n",
    "\n",
    "- *AnimalID* - Unique sequential number given to each entry.\n",
    "- *Breed* - Type of animal.\n",
    "- *ShotsDate* - Date when vaccinated.\n",
    "- *Sex* - M = Male, F = Female, M/N = Male Neutered, F/S = Female Spayed.\n",
    "- *ReceiptNumber* - Point of sales system of record receipt number.\n",
    "- *DateImpounded* - Date first in custody of the City of Vancouver.\n",
    "- *PitNumber* - Number identifying animal kennel, does not change while in custody of the city.\n",
    "- *Name* - Name if known.\n",
    "- *KennelNumber* - Kennel number displayed at the top of each kennel.\n",
    "- *DispositionDate* - Date when animal was no longer under the control of the city.\n",
    "- *Color* - Color of coat.\n",
    "- *Code* - Walk-ability index (*Green = easy, Yellow = moderate, Blue = hard*).\n",
    "- *ApproxWeight* - Approximate weight of animal.\n",
    "- *Age category* - Rough estimate of age - puppy, young adult, adult, senior.\n",
    "- *Source* - Where the animal came from (Brought-in, Holding stray, Transferred).\n",
    "- *Status* - Current state/disposition of animal.\n",
    "- *ACO* - Animal control officer number or initials of employee."
   ]
  },
  {
   "cell_type": "code",
   "execution_count": 1672,
   "metadata": {
    "id": "6zT0QxRyYmm7"
   },
   "outputs": [],
   "source": [
    "# \"reg\" is for registry\n",
    "reg_url = \"https://opendata.vancouver.ca/api/explore/v2.1/catalog/datasets/animal-control-inventory-register/exports/csv?lang=en&timezone=America%2FChicago&use_labels=true&delimiter=%3B\"\n",
    "reg_data = requests.get(reg_url)\n",
    "reg_data.raise_for_status()"
   ]
  },
  {
   "cell_type": "code",
   "execution_count": 1673,
   "metadata": {},
   "outputs": [],
   "source": [
    "# Save contents to a file labeled with today's date.\n",
    "file_dl_date = datetime.date.today()\n",
    "filename = f\"vancouver-ac-registry_{file_dl_date.strftime('%Y%m%d')}.csv\"\n",
    "relativepath = \"./datasets/\" + filename\n",
    "\n",
    "# Write dataset JSON stored as binary to target file\n",
    "with open(relativepath, mode=\"wb\") as f:\n",
    "    f.write(reg_data.content)"
   ]
  },
  {
   "cell_type": "markdown",
   "metadata": {},
   "source": [
    "We'll make the `AnimalID` column our index column for our DataFrame since it's essentially a built-in order for the animals. Following this, we'll start assessing our data."
   ]
  },
  {
   "cell_type": "code",
   "execution_count": 1674,
   "metadata": {},
   "outputs": [],
   "source": [
    "reg_df = pd.read_csv(relativepath, sep=\";\", index_col='AnimalID')"
   ]
  },
  {
   "cell_type": "markdown",
   "metadata": {
    "id": "QwSWIVmotLgV"
   },
   "source": [
    "## 2. Assess data\n",
    "\n",
    "When we are assessing data, we are on the lookout for **quality** and **tidiness** (structural) issues.\n",
    "\n",
    "**Quality Issues:**\n",
    "- Completeness - The collected data is sufficient for addressing specific problems.\n",
    "- Validity - Data conforms to the defined schema.\n",
    "- Accuracy - Data accurately represents the reality it is describing.\n",
    "- Consistency - A standard format is followed. Data matches that which can be found in other sources.\n",
    "- Uniqueness - non-duplicate or overlapping values in the data.\n",
    "\n",
    "**Tidiness Issues:**\n",
    "- Each variable forms an individual column, i.e. color, name, birth year, etc. \n",
    "  - This also means that each column only contains one variable, or \"factor that varies.\"\n",
    "- Each observation forms an individual row, i.e. red, Scott, 1997, etc.\n",
    "  - As with columns, only a single observation per row.\n",
    "- Each type of observational unit forms a table, i.e. a table of immediate family members."
   ]
  },
  {
   "cell_type": "markdown",
   "metadata": {
    "id": "adaK2iPNzVu4"
   },
   "source": [
    "### Quality Issue 1:"
   ]
  },
  {
   "cell_type": "markdown",
   "metadata": {},
   "source": [
    "We'll use the `.head()` and `.tail()` methods to quickly browse the dataset for anything that sticks out. This helps us ensure completeness to some degree, as well as validity and consistency."
   ]
  },
  {
   "cell_type": "code",
   "execution_count": 1675,
   "metadata": {
    "id": "SpW59kh-zl8d"
   },
   "outputs": [
    {
     "data": {
      "text/html": [
       "<div>\n",
       "<style scoped>\n",
       "    .dataframe tbody tr th:only-of-type {\n",
       "        vertical-align: middle;\n",
       "    }\n",
       "\n",
       "    .dataframe tbody tr th {\n",
       "        vertical-align: top;\n",
       "    }\n",
       "\n",
       "    .dataframe thead th {\n",
       "        text-align: right;\n",
       "    }\n",
       "</style>\n",
       "<table border=\"1\" class=\"dataframe\">\n",
       "  <thead>\n",
       "    <tr style=\"text-align: right;\">\n",
       "      <th></th>\n",
       "      <th>date</th>\n",
       "      <th>breed</th>\n",
       "      <th>color</th>\n",
       "      <th>name</th>\n",
       "      <th>sex</th>\n",
       "      <th>state</th>\n",
       "    </tr>\n",
       "  </thead>\n",
       "  <tbody>\n",
       "    <tr>\n",
       "      <th>0</th>\n",
       "      <td>1999-01-03T00:00:00+00:00</td>\n",
       "      <td>Rotty X Shep</td>\n",
       "      <td>Black &amp; Tan</td>\n",
       "      <td>Tex</td>\n",
       "      <td>M/N</td>\n",
       "      <td>Lost</td>\n",
       "    </tr>\n",
       "    <tr>\n",
       "      <th>1</th>\n",
       "      <td>1999-01-04T00:00:00+00:00</td>\n",
       "      <td>Dog</td>\n",
       "      <td>Light Colour</td>\n",
       "      <td>None</td>\n",
       "      <td>M/N</td>\n",
       "      <td>Found</td>\n",
       "    </tr>\n",
       "    <tr>\n",
       "      <th>2</th>\n",
       "      <td>1999-01-04T00:00:00+00:00</td>\n",
       "      <td>Golden Lab X</td>\n",
       "      <td>Black &amp; Tan</td>\n",
       "      <td>Oscar</td>\n",
       "      <td>M</td>\n",
       "      <td>Lost</td>\n",
       "    </tr>\n",
       "    <tr>\n",
       "      <th>3</th>\n",
       "      <td>1999-01-04T00:00:00+00:00</td>\n",
       "      <td>Shep X</td>\n",
       "      <td>Black &amp; Tan</td>\n",
       "      <td>None</td>\n",
       "      <td>F</td>\n",
       "      <td>Found</td>\n",
       "    </tr>\n",
       "    <tr>\n",
       "      <th>4</th>\n",
       "      <td>1999-01-04T00:00:00+00:00</td>\n",
       "      <td>Shep X Collie</td>\n",
       "      <td>Black &amp; Tan</td>\n",
       "      <td>Angel</td>\n",
       "      <td>F</td>\n",
       "      <td>Lost</td>\n",
       "    </tr>\n",
       "  </tbody>\n",
       "</table>\n",
       "</div>"
      ],
      "text/plain": [
       "                        date          breed         color   name  sex  state\n",
       "0  1999-01-03T00:00:00+00:00   Rotty X Shep   Black & Tan    Tex  M/N   Lost\n",
       "1  1999-01-04T00:00:00+00:00            Dog  Light Colour   None  M/N  Found\n",
       "2  1999-01-04T00:00:00+00:00   Golden Lab X   Black & Tan  Oscar    M   Lost\n",
       "3  1999-01-04T00:00:00+00:00         Shep X   Black & Tan   None    F  Found\n",
       "4  1999-01-04T00:00:00+00:00  Shep X Collie   Black & Tan  Angel    F   Lost"
      ]
     },
     "execution_count": 1675,
     "metadata": {},
     "output_type": "execute_result"
    }
   ],
   "source": [
    "# Inspecting the dataframe visually\n",
    "lf_df.head()"
   ]
  },
  {
   "cell_type": "code",
   "execution_count": 1676,
   "metadata": {},
   "outputs": [
    {
     "data": {
      "text/html": [
       "<div>\n",
       "<style scoped>\n",
       "    .dataframe tbody tr th:only-of-type {\n",
       "        vertical-align: middle;\n",
       "    }\n",
       "\n",
       "    .dataframe tbody tr th {\n",
       "        vertical-align: top;\n",
       "    }\n",
       "\n",
       "    .dataframe thead th {\n",
       "        text-align: right;\n",
       "    }\n",
       "</style>\n",
       "<table border=\"1\" class=\"dataframe\">\n",
       "  <thead>\n",
       "    <tr style=\"text-align: right;\">\n",
       "      <th></th>\n",
       "      <th>date</th>\n",
       "      <th>breed</th>\n",
       "      <th>color</th>\n",
       "      <th>name</th>\n",
       "      <th>sex</th>\n",
       "      <th>state</th>\n",
       "    </tr>\n",
       "  </thead>\n",
       "  <tbody>\n",
       "    <tr>\n",
       "      <th>17850</th>\n",
       "      <td>2025-07-29T00:00:00+00:00</td>\n",
       "      <td>Basenji</td>\n",
       "      <td>Black &amp; White body</td>\n",
       "      <td>Winston</td>\n",
       "      <td>M/N</td>\n",
       "      <td>Matched</td>\n",
       "    </tr>\n",
       "    <tr>\n",
       "      <th>17851</th>\n",
       "      <td>2025-07-29T00:00:00+00:00</td>\n",
       "      <td>Cat - DLH - Orange Tabby</td>\n",
       "      <td>Orange</td>\n",
       "      <td>Celia</td>\n",
       "      <td>F</td>\n",
       "      <td>Lost</td>\n",
       "    </tr>\n",
       "    <tr>\n",
       "      <th>17852</th>\n",
       "      <td>2025-07-29T00:00:00+00:00</td>\n",
       "      <td>Pug/Chihuahua X</td>\n",
       "      <td>Tan</td>\n",
       "      <td>Opie</td>\n",
       "      <td>M</td>\n",
       "      <td>Lost</td>\n",
       "    </tr>\n",
       "    <tr>\n",
       "      <th>17853</th>\n",
       "      <td>2025-07-30T00:00:00+00:00</td>\n",
       "      <td>CAT - DLH - Calico</td>\n",
       "      <td>Orange/white/black</td>\n",
       "      <td>Olive</td>\n",
       "      <td>F/S</td>\n",
       "      <td>Lost</td>\n",
       "    </tr>\n",
       "    <tr>\n",
       "      <th>17854</th>\n",
       "      <td>2025-07-30T00:00:00+00:00</td>\n",
       "      <td>Cat - DSH - Tuxedo</td>\n",
       "      <td>Black &amp; White</td>\n",
       "      <td>Socks</td>\n",
       "      <td>M/N</td>\n",
       "      <td>Lost</td>\n",
       "    </tr>\n",
       "  </tbody>\n",
       "</table>\n",
       "</div>"
      ],
      "text/plain": [
       "                            date                     breed  \\\n",
       "17850  2025-07-29T00:00:00+00:00                   Basenji   \n",
       "17851  2025-07-29T00:00:00+00:00  Cat - DLH - Orange Tabby   \n",
       "17852  2025-07-29T00:00:00+00:00           Pug/Chihuahua X   \n",
       "17853  2025-07-30T00:00:00+00:00        CAT - DLH - Calico   \n",
       "17854  2025-07-30T00:00:00+00:00        Cat - DSH - Tuxedo   \n",
       "\n",
       "                    color     name  sex    state  \n",
       "17850  Black & White body  Winston  M/N  Matched  \n",
       "17851              Orange    Celia    F     Lost  \n",
       "17852                 Tan     Opie    M     Lost  \n",
       "17853  Orange/white/black    Olive  F/S     Lost  \n",
       "17854       Black & White    Socks  M/N     Lost  "
      ]
     },
     "execution_count": 1676,
     "metadata": {},
     "output_type": "execute_result"
    }
   ],
   "source": [
    "lf_df.tail()"
   ]
  },
  {
   "cell_type": "code",
   "execution_count": 1677,
   "metadata": {},
   "outputs": [
    {
     "data": {
      "text/html": [
       "<div>\n",
       "<style scoped>\n",
       "    .dataframe tbody tr th:only-of-type {\n",
       "        vertical-align: middle;\n",
       "    }\n",
       "\n",
       "    .dataframe tbody tr th {\n",
       "        vertical-align: top;\n",
       "    }\n",
       "\n",
       "    .dataframe thead th {\n",
       "        text-align: right;\n",
       "    }\n",
       "</style>\n",
       "<table border=\"1\" class=\"dataframe\">\n",
       "  <thead>\n",
       "    <tr style=\"text-align: right;\">\n",
       "      <th></th>\n",
       "      <th>date</th>\n",
       "      <th>breed</th>\n",
       "      <th>color</th>\n",
       "      <th>name</th>\n",
       "      <th>sex</th>\n",
       "      <th>state</th>\n",
       "    </tr>\n",
       "  </thead>\n",
       "  <tbody>\n",
       "    <tr>\n",
       "      <th>5482</th>\n",
       "      <td>2004-02-10T00:00:00+00:00</td>\n",
       "      <td>Shep X Malamute</td>\n",
       "      <td>White</td>\n",
       "      <td>Tamu</td>\n",
       "      <td>M/N</td>\n",
       "      <td>Matched</td>\n",
       "    </tr>\n",
       "    <tr>\n",
       "      <th>13120</th>\n",
       "      <td>2017-10-19T00:00:00+00:00</td>\n",
       "      <td>Cat - DLH</td>\n",
       "      <td>Black w/white paws &amp; chest</td>\n",
       "      <td>Kiki or Pippin</td>\n",
       "      <td>M/N</td>\n",
       "      <td>Lost</td>\n",
       "    </tr>\n",
       "    <tr>\n",
       "      <th>10702</th>\n",
       "      <td>2014-09-24T00:00:00+00:00</td>\n",
       "      <td>Tabby cat</td>\n",
       "      <td>Grey</td>\n",
       "      <td>Petey</td>\n",
       "      <td>F</td>\n",
       "      <td>Lost</td>\n",
       "    </tr>\n",
       "    <tr>\n",
       "      <th>269</th>\n",
       "      <td>1999-04-25T00:00:00+00:00</td>\n",
       "      <td>Pom</td>\n",
       "      <td>Orange</td>\n",
       "      <td>Popeye</td>\n",
       "      <td>M/N</td>\n",
       "      <td>Lost</td>\n",
       "    </tr>\n",
       "    <tr>\n",
       "      <th>7654</th>\n",
       "      <td>2006-07-14T00:00:00+00:00</td>\n",
       "      <td>Lab</td>\n",
       "      <td>Black</td>\n",
       "      <td>Frankie</td>\n",
       "      <td>M/N</td>\n",
       "      <td>Matched</td>\n",
       "    </tr>\n",
       "  </tbody>\n",
       "</table>\n",
       "</div>"
      ],
      "text/plain": [
       "                            date            breed                       color  \\\n",
       "5482   2004-02-10T00:00:00+00:00  Shep X Malamute                       White   \n",
       "13120  2017-10-19T00:00:00+00:00        Cat - DLH  Black w/white paws & chest   \n",
       "10702  2014-09-24T00:00:00+00:00        Tabby cat                        Grey   \n",
       "269    1999-04-25T00:00:00+00:00              Pom                      Orange   \n",
       "7654   2006-07-14T00:00:00+00:00              Lab                       Black   \n",
       "\n",
       "                 name  sex    state  \n",
       "5482             Tamu  M/N  Matched  \n",
       "13120  Kiki or Pippin  M/N     Lost  \n",
       "10702           Petey    F     Lost  \n",
       "269            Popeye  M/N     Lost  \n",
       "7654          Frankie  M/N  Matched  "
      ]
     },
     "execution_count": 1677,
     "metadata": {},
     "output_type": "execute_result"
    }
   ],
   "source": [
    "lf_df.sample(5)  # random sampling to see if anything else jumps out"
   ]
  },
  {
   "cell_type": "markdown",
   "metadata": {},
   "source": [
    "Thankfully, there are no duplicate entries in this data (as of 20250723), indicating each row has \"uniqueness.\""
   ]
  },
  {
   "cell_type": "code",
   "execution_count": 1678,
   "metadata": {},
   "outputs": [
    {
     "data": {
      "text/plain": [
       "False    17855\n",
       "Name: count, dtype: int64"
      ]
     },
     "execution_count": 1678,
     "metadata": {},
     "output_type": "execute_result"
    }
   ],
   "source": [
    "lf_df.duplicated().value_counts()"
   ]
  },
  {
   "cell_type": "markdown",
   "metadata": {},
   "source": [
    "There are a lot of colors in the `color` column, which indicates potential a lack of consistency and validity."
   ]
  },
  {
   "cell_type": "code",
   "execution_count": 1679,
   "metadata": {},
   "outputs": [
    {
     "name": "stdout",
     "output_type": "stream",
     "text": [
      "There are 3407 unique strings in the color column.\n"
     ]
    }
   ],
   "source": [
    "print(\"There are\", lf_df['color'].unique().shape[0], \"unique strings in the color column.\")"
   ]
  },
  {
   "cell_type": "markdown",
   "metadata": {},
   "source": [
    "One prime example is this hamster, which has `Golden/Blonde` fur. This indicates there is not a standardized process for determining and labeling fur color."
   ]
  },
  {
   "cell_type": "code",
   "execution_count": 1680,
   "metadata": {},
   "outputs": [
    {
     "data": {
      "text/plain": [
       "date     2023-06-26T00:00:00+00:00\n",
       "breed                      Hamster\n",
       "color                Golden/Blonde\n",
       "name                        Chivis\n",
       "sex                              M\n",
       "state                         Lost\n",
       "Name: 16633, dtype: object"
      ]
     },
     "execution_count": 1680,
     "metadata": {},
     "output_type": "execute_result"
    }
   ],
   "source": [
    "lf_df.iloc[16633]"
   ]
  },
  {
   "cell_type": "markdown",
   "metadata": {},
   "source": [
    "I am also curious about how many of those colors have consistency issues, for example using an ampersand instead of an \"and\". The use of slashes may also indicate `color` labeling similar to `Chivis`, as seen immediately above."
   ]
  },
  {
   "cell_type": "code",
   "execution_count": 1681,
   "metadata": {},
   "outputs": [
    {
     "name": "stdout",
     "output_type": "stream",
     "text": [
      "1152 unique color strings contain '&' in the color description while 191 contain 'and'.\n",
      "1344  unique colors contain a forward slash (/).\n"
     ]
    }
   ],
   "source": [
    "num_colors_amp = pd.Series(lf_df.color.unique()).str.contains(r'&', na=False).value_counts().iloc[1]\n",
    "num_colors_and = pd.Series(lf_df.color.unique()).str.contains(r' and ', na=False).value_counts().iloc[1]\n",
    "num_colors_fwdsl = pd.Series(lf_df.color.unique()).str.contains(r'/', na=False).value_counts().iloc[1]\n",
    "\n",
    "print(num_colors_amp, \"unique color strings contain '&' in the color description while\", num_colors_and, \"contain 'and'.\")\n",
    "print(num_colors_fwdsl, \" unique colors contain a forward slash (/).\")"
   ]
  },
  {
   "cell_type": "markdown",
   "metadata": {},
   "source": [
    "Issue and justification: Aside from lacking completeness, a lot of the columns do not have a consistent format:\n",
    "Currently, \"&\" is primarily used in place of \"and\" in the `color` column. This matters when trying to answer our question as this means that matching based on `color` will different approaches (fuzzy matching, tokenization, etc.). \n",
    "\n",
    "As a side note, the formatting in the `breed` column is also quite inconsistent, but this is addressed further in the tidiness section."
   ]
  },
  {
   "cell_type": "markdown",
   "metadata": {
    "id": "8Be77N4I1AmE"
   },
   "source": [
    "### Quality Issue 2:"
   ]
  },
  {
   "cell_type": "markdown",
   "metadata": {},
   "source": [
    "We'll do a head, tail, and sample again."
   ]
  },
  {
   "cell_type": "code",
   "execution_count": 1682,
   "metadata": {
    "id": "iMhHyiyLM2I3"
   },
   "outputs": [
    {
     "data": {
      "text/html": [
       "<div>\n",
       "<style scoped>\n",
       "    .dataframe tbody tr th:only-of-type {\n",
       "        vertical-align: middle;\n",
       "    }\n",
       "\n",
       "    .dataframe tbody tr th {\n",
       "        vertical-align: top;\n",
       "    }\n",
       "\n",
       "    .dataframe thead th {\n",
       "        text-align: right;\n",
       "    }\n",
       "</style>\n",
       "<table border=\"1\" class=\"dataframe\">\n",
       "  <thead>\n",
       "    <tr style=\"text-align: right;\">\n",
       "      <th></th>\n",
       "      <th>Breed</th>\n",
       "      <th>ShotsDate</th>\n",
       "      <th>Sex</th>\n",
       "      <th>ReceiptNumber</th>\n",
       "      <th>DateImpounded</th>\n",
       "      <th>PitNumber</th>\n",
       "      <th>Name</th>\n",
       "      <th>KennelNumber</th>\n",
       "      <th>DispositionDate</th>\n",
       "      <th>Color</th>\n",
       "      <th>Code</th>\n",
       "      <th>ApproxWeight</th>\n",
       "      <th>Age category</th>\n",
       "      <th>Source</th>\n",
       "      <th>Status</th>\n",
       "      <th>ACO</th>\n",
       "    </tr>\n",
       "    <tr>\n",
       "      <th>AnimalID</th>\n",
       "      <th></th>\n",
       "      <th></th>\n",
       "      <th></th>\n",
       "      <th></th>\n",
       "      <th></th>\n",
       "      <th></th>\n",
       "      <th></th>\n",
       "      <th></th>\n",
       "      <th></th>\n",
       "      <th></th>\n",
       "      <th></th>\n",
       "      <th></th>\n",
       "      <th></th>\n",
       "      <th></th>\n",
       "      <th></th>\n",
       "      <th></th>\n",
       "    </tr>\n",
       "  </thead>\n",
       "  <tbody>\n",
       "    <tr>\n",
       "      <th>1893</th>\n",
       "      <td>Terrier X</td>\n",
       "      <td>NaN</td>\n",
       "      <td>M/N</td>\n",
       "      <td>10322wrs</td>\n",
       "      <td>2000-04-11</td>\n",
       "      <td>20073.0</td>\n",
       "      <td>Toby</td>\n",
       "      <td>200</td>\n",
       "      <td>NaN</td>\n",
       "      <td>Tan</td>\n",
       "      <td>NaN</td>\n",
       "      <td>NaN</td>\n",
       "      <td>NaN</td>\n",
       "      <td>HOLDING STRAY</td>\n",
       "      <td>Redeemed</td>\n",
       "      <td>22</td>\n",
       "    </tr>\n",
       "    <tr>\n",
       "      <th>1894</th>\n",
       "      <td>Shep</td>\n",
       "      <td>NaN</td>\n",
       "      <td>M</td>\n",
       "      <td>NaN</td>\n",
       "      <td>2000-04-11</td>\n",
       "      <td>20018.0</td>\n",
       "      <td>Adolf</td>\n",
       "      <td>200</td>\n",
       "      <td>NaN</td>\n",
       "      <td>Tan Black</td>\n",
       "      <td>NaN</td>\n",
       "      <td>NaN</td>\n",
       "      <td>NaN</td>\n",
       "      <td>POLICE-NIGHT</td>\n",
       "      <td>Owner Request - Signed Over</td>\n",
       "      <td>5</td>\n",
       "    </tr>\n",
       "    <tr>\n",
       "      <th>1895</th>\n",
       "      <td>Shepherd</td>\n",
       "      <td>NaN</td>\n",
       "      <td>F/S</td>\n",
       "      <td>10325-TU</td>\n",
       "      <td>2000-04-12</td>\n",
       "      <td>20068.0</td>\n",
       "      <td>Pepsi</td>\n",
       "      <td>200</td>\n",
       "      <td>NaN</td>\n",
       "      <td>Black</td>\n",
       "      <td>NaN</td>\n",
       "      <td>NaN</td>\n",
       "      <td>NaN</td>\n",
       "      <td>HOLDING STRAY</td>\n",
       "      <td>Redeemed</td>\n",
       "      <td>1</td>\n",
       "    </tr>\n",
       "    <tr>\n",
       "      <th>1903</th>\n",
       "      <td>Chow</td>\n",
       "      <td>NaN</td>\n",
       "      <td>M</td>\n",
       "      <td>10335,MC</td>\n",
       "      <td>2000-04-13</td>\n",
       "      <td>20071.0</td>\n",
       "      <td>Chewy</td>\n",
       "      <td>200</td>\n",
       "      <td>NaN</td>\n",
       "      <td>Tan</td>\n",
       "      <td>NaN</td>\n",
       "      <td>NaN</td>\n",
       "      <td>NaN</td>\n",
       "      <td>HOLDING STRAY</td>\n",
       "      <td>Redeemed</td>\n",
       "      <td>8</td>\n",
       "    </tr>\n",
       "    <tr>\n",
       "      <th>1925</th>\n",
       "      <td>Shep X</td>\n",
       "      <td>NaN</td>\n",
       "      <td>F</td>\n",
       "      <td>no charge</td>\n",
       "      <td>2000-04-19</td>\n",
       "      <td>20048.0</td>\n",
       "      <td>NaN</td>\n",
       "      <td>200</td>\n",
       "      <td>NaN</td>\n",
       "      <td>Black</td>\n",
       "      <td>NaN</td>\n",
       "      <td>NaN</td>\n",
       "      <td>NaN</td>\n",
       "      <td>HOLDING STRAY</td>\n",
       "      <td>Redeemed</td>\n",
       "      <td>15</td>\n",
       "    </tr>\n",
       "  </tbody>\n",
       "</table>\n",
       "</div>"
      ],
      "text/plain": [
       "              Breed ShotsDate  Sex ReceiptNumber DateImpounded  PitNumber  \\\n",
       "AnimalID                                                                    \n",
       "1893      Terrier X       NaN  M/N      10322wrs    2000-04-11    20073.0   \n",
       "1894           Shep       NaN    M           NaN    2000-04-11    20018.0   \n",
       "1895       Shepherd       NaN  F/S      10325-TU    2000-04-12    20068.0   \n",
       "1903           Chow       NaN    M      10335,MC    2000-04-13    20071.0   \n",
       "1925         Shep X       NaN    F     no charge    2000-04-19    20048.0   \n",
       "\n",
       "           Name KennelNumber DispositionDate      Color Code ApproxWeight  \\\n",
       "AnimalID                                                                    \n",
       "1893       Toby          200             NaN        Tan  NaN          NaN   \n",
       "1894      Adolf          200             NaN  Tan Black  NaN          NaN   \n",
       "1895      Pepsi          200             NaN      Black  NaN          NaN   \n",
       "1903      Chewy          200             NaN        Tan  NaN          NaN   \n",
       "1925        NaN          200             NaN      Black  NaN          NaN   \n",
       "\n",
       "         Age category         Source                       Status ACO  \n",
       "AnimalID                                                               \n",
       "1893              NaN  HOLDING STRAY                     Redeemed  22  \n",
       "1894              NaN   POLICE-NIGHT  Owner Request - Signed Over   5  \n",
       "1895              NaN  HOLDING STRAY                     Redeemed   1  \n",
       "1903              NaN  HOLDING STRAY                     Redeemed   8  \n",
       "1925              NaN  HOLDING STRAY                     Redeemed  15  "
      ]
     },
     "execution_count": 1682,
     "metadata": {},
     "output_type": "execute_result"
    }
   ],
   "source": [
    "reg_df.head()"
   ]
  },
  {
   "cell_type": "code",
   "execution_count": 1683,
   "metadata": {},
   "outputs": [
    {
     "data": {
      "text/html": [
       "<div>\n",
       "<style scoped>\n",
       "    .dataframe tbody tr th:only-of-type {\n",
       "        vertical-align: middle;\n",
       "    }\n",
       "\n",
       "    .dataframe tbody tr th {\n",
       "        vertical-align: top;\n",
       "    }\n",
       "\n",
       "    .dataframe thead th {\n",
       "        text-align: right;\n",
       "    }\n",
       "</style>\n",
       "<table border=\"1\" class=\"dataframe\">\n",
       "  <thead>\n",
       "    <tr style=\"text-align: right;\">\n",
       "      <th></th>\n",
       "      <th>Breed</th>\n",
       "      <th>ShotsDate</th>\n",
       "      <th>Sex</th>\n",
       "      <th>ReceiptNumber</th>\n",
       "      <th>DateImpounded</th>\n",
       "      <th>PitNumber</th>\n",
       "      <th>Name</th>\n",
       "      <th>KennelNumber</th>\n",
       "      <th>DispositionDate</th>\n",
       "      <th>Color</th>\n",
       "      <th>Code</th>\n",
       "      <th>ApproxWeight</th>\n",
       "      <th>Age category</th>\n",
       "      <th>Source</th>\n",
       "      <th>Status</th>\n",
       "      <th>ACO</th>\n",
       "    </tr>\n",
       "    <tr>\n",
       "      <th>AnimalID</th>\n",
       "      <th></th>\n",
       "      <th></th>\n",
       "      <th></th>\n",
       "      <th></th>\n",
       "      <th></th>\n",
       "      <th></th>\n",
       "      <th></th>\n",
       "      <th></th>\n",
       "      <th></th>\n",
       "      <th></th>\n",
       "      <th></th>\n",
       "      <th></th>\n",
       "      <th></th>\n",
       "      <th></th>\n",
       "      <th></th>\n",
       "      <th></th>\n",
       "    </tr>\n",
       "  </thead>\n",
       "  <tbody>\n",
       "    <tr>\n",
       "      <th>14665</th>\n",
       "      <td>Akita</td>\n",
       "      <td>2008-11-12</td>\n",
       "      <td>F/S</td>\n",
       "      <td>N/C</td>\n",
       "      <td>2006-12-13</td>\n",
       "      <td>20005.0</td>\n",
       "      <td>Jojo</td>\n",
       "      <td>200</td>\n",
       "      <td>NaN</td>\n",
       "      <td>Brown &amp; Grey</td>\n",
       "      <td>NaN</td>\n",
       "      <td>60lb</td>\n",
       "      <td>NaN</td>\n",
       "      <td>BROUGHT-IN</td>\n",
       "      <td>Redeemed</td>\n",
       "      <td>NaN</td>\n",
       "    </tr>\n",
       "    <tr>\n",
       "      <th>14667</th>\n",
       "      <td>Terrier X</td>\n",
       "      <td>2006-12-30</td>\n",
       "      <td>M/N</td>\n",
       "      <td>23124dk</td>\n",
       "      <td>2006-12-19</td>\n",
       "      <td>20029.0</td>\n",
       "      <td>Sandy</td>\n",
       "      <td>200</td>\n",
       "      <td>NaN</td>\n",
       "      <td>White &amp; Black</td>\n",
       "      <td>NaN</td>\n",
       "      <td>15 lbs</td>\n",
       "      <td>NaN</td>\n",
       "      <td>POLICE-NIGHT</td>\n",
       "      <td>Redeemed</td>\n",
       "      <td>12</td>\n",
       "    </tr>\n",
       "    <tr>\n",
       "      <th>14668</th>\n",
       "      <td>Guinea Pig</td>\n",
       "      <td>NaN</td>\n",
       "      <td>M</td>\n",
       "      <td>N/C</td>\n",
       "      <td>2006-12-21</td>\n",
       "      <td>10000.0</td>\n",
       "      <td>Red Eye Jack</td>\n",
       "      <td>100</td>\n",
       "      <td>NaN</td>\n",
       "      <td>Brown &amp; White</td>\n",
       "      <td>NaN</td>\n",
       "      <td>2 lbs</td>\n",
       "      <td>NaN</td>\n",
       "      <td>HOLDING STRAY</td>\n",
       "      <td>Transferred</td>\n",
       "      <td>22</td>\n",
       "    </tr>\n",
       "    <tr>\n",
       "      <th>14671</th>\n",
       "      <td>German Shepherd  X Lab</td>\n",
       "      <td>2006-12-28</td>\n",
       "      <td>F/S</td>\n",
       "      <td>22976 - skj</td>\n",
       "      <td>2006-12-24</td>\n",
       "      <td>20077.0</td>\n",
       "      <td>Cane  (light pink collar)</td>\n",
       "      <td>200</td>\n",
       "      <td>NaN</td>\n",
       "      <td>Tan w Black Muzzle</td>\n",
       "      <td>NaN</td>\n",
       "      <td>15 lbs</td>\n",
       "      <td>NaN</td>\n",
       "      <td>HOLDING STRAY</td>\n",
       "      <td>Sold</td>\n",
       "      <td>12</td>\n",
       "    </tr>\n",
       "    <tr>\n",
       "      <th>14676</th>\n",
       "      <td>German Shepherd</td>\n",
       "      <td>NaN</td>\n",
       "      <td>F</td>\n",
       "      <td>23046 Jn12</td>\n",
       "      <td>2007-01-01</td>\n",
       "      <td>20082.0</td>\n",
       "      <td>Ruby</td>\n",
       "      <td>200</td>\n",
       "      <td>NaN</td>\n",
       "      <td>Black &amp; Tan</td>\n",
       "      <td>NaN</td>\n",
       "      <td>65 lbs</td>\n",
       "      <td>NaN</td>\n",
       "      <td>HOLDING STRAY</td>\n",
       "      <td>Redeemed</td>\n",
       "      <td>NaN</td>\n",
       "    </tr>\n",
       "  </tbody>\n",
       "</table>\n",
       "</div>"
      ],
      "text/plain": [
       "                           Breed   ShotsDate  Sex ReceiptNumber DateImpounded  \\\n",
       "AnimalID                                                                        \n",
       "14665                      Akita  2008-11-12  F/S           N/C    2006-12-13   \n",
       "14667                  Terrier X  2006-12-30  M/N       23124dk    2006-12-19   \n",
       "14668                 Guinea Pig         NaN    M           N/C    2006-12-21   \n",
       "14671     German Shepherd  X Lab  2006-12-28  F/S   22976 - skj    2006-12-24   \n",
       "14676            German Shepherd         NaN    F    23046 Jn12    2007-01-01   \n",
       "\n",
       "          PitNumber                       Name KennelNumber DispositionDate  \\\n",
       "AnimalID                                                                      \n",
       "14665       20005.0                       Jojo          200             NaN   \n",
       "14667       20029.0                      Sandy          200             NaN   \n",
       "14668       10000.0               Red Eye Jack          100             NaN   \n",
       "14671       20077.0  Cane  (light pink collar)          200             NaN   \n",
       "14676       20082.0                       Ruby          200             NaN   \n",
       "\n",
       "                       Color Code ApproxWeight Age category         Source  \\\n",
       "AnimalID                                                                     \n",
       "14665           Brown & Grey  NaN         60lb          NaN     BROUGHT-IN   \n",
       "14667          White & Black  NaN       15 lbs          NaN   POLICE-NIGHT   \n",
       "14668          Brown & White  NaN        2 lbs          NaN  HOLDING STRAY   \n",
       "14671     Tan w Black Muzzle  NaN       15 lbs          NaN  HOLDING STRAY   \n",
       "14676            Black & Tan  NaN       65 lbs          NaN  HOLDING STRAY   \n",
       "\n",
       "               Status  ACO  \n",
       "AnimalID                    \n",
       "14665        Redeemed  NaN  \n",
       "14667        Redeemed   12  \n",
       "14668     Transferred   22  \n",
       "14671            Sold   12  \n",
       "14676        Redeemed  NaN  "
      ]
     },
     "execution_count": 1683,
     "metadata": {},
     "output_type": "execute_result"
    }
   ],
   "source": [
    "reg_df.tail()"
   ]
  },
  {
   "cell_type": "code",
   "execution_count": 1684,
   "metadata": {},
   "outputs": [
    {
     "data": {
      "text/html": [
       "<div>\n",
       "<style scoped>\n",
       "    .dataframe tbody tr th:only-of-type {\n",
       "        vertical-align: middle;\n",
       "    }\n",
       "\n",
       "    .dataframe tbody tr th {\n",
       "        vertical-align: top;\n",
       "    }\n",
       "\n",
       "    .dataframe thead th {\n",
       "        text-align: right;\n",
       "    }\n",
       "</style>\n",
       "<table border=\"1\" class=\"dataframe\">\n",
       "  <thead>\n",
       "    <tr style=\"text-align: right;\">\n",
       "      <th></th>\n",
       "      <th>Breed</th>\n",
       "      <th>ShotsDate</th>\n",
       "      <th>Sex</th>\n",
       "      <th>ReceiptNumber</th>\n",
       "      <th>DateImpounded</th>\n",
       "      <th>PitNumber</th>\n",
       "      <th>Name</th>\n",
       "      <th>KennelNumber</th>\n",
       "      <th>DispositionDate</th>\n",
       "      <th>Color</th>\n",
       "      <th>Code</th>\n",
       "      <th>ApproxWeight</th>\n",
       "      <th>Age category</th>\n",
       "      <th>Source</th>\n",
       "      <th>Status</th>\n",
       "      <th>ACO</th>\n",
       "    </tr>\n",
       "    <tr>\n",
       "      <th>AnimalID</th>\n",
       "      <th></th>\n",
       "      <th></th>\n",
       "      <th></th>\n",
       "      <th></th>\n",
       "      <th></th>\n",
       "      <th></th>\n",
       "      <th></th>\n",
       "      <th></th>\n",
       "      <th></th>\n",
       "      <th></th>\n",
       "      <th></th>\n",
       "      <th></th>\n",
       "      <th></th>\n",
       "      <th></th>\n",
       "      <th></th>\n",
       "      <th></th>\n",
       "    </tr>\n",
       "  </thead>\n",
       "  <tbody>\n",
       "    <tr>\n",
       "      <th>21776</th>\n",
       "      <td>Lab cross</td>\n",
       "      <td>NaN</td>\n",
       "      <td>F</td>\n",
       "      <td>NaN</td>\n",
       "      <td>2011-03-24</td>\n",
       "      <td>200.0</td>\n",
       "      <td>Meagan</td>\n",
       "      <td>26</td>\n",
       "      <td>2011-03-25</td>\n",
       "      <td>Black</td>\n",
       "      <td>NaN</td>\n",
       "      <td>40</td>\n",
       "      <td>NaN</td>\n",
       "      <td>HOLDING STRAY</td>\n",
       "      <td>Ride Home Free</td>\n",
       "      <td>3</td>\n",
       "    </tr>\n",
       "    <tr>\n",
       "      <th>7211</th>\n",
       "      <td>Husky X</td>\n",
       "      <td>NaN</td>\n",
       "      <td>M/N</td>\n",
       "      <td>14347 ks</td>\n",
       "      <td>2002-12-08</td>\n",
       "      <td>20066.0</td>\n",
       "      <td>Rocky (Tyrone)</td>\n",
       "      <td>200</td>\n",
       "      <td>NaN</td>\n",
       "      <td>Brown &amp; Black</td>\n",
       "      <td>NaN</td>\n",
       "      <td>NaN</td>\n",
       "      <td>NaN</td>\n",
       "      <td>HOLDING STRAY</td>\n",
       "      <td>Sold</td>\n",
       "      <td>9</td>\n",
       "    </tr>\n",
       "    <tr>\n",
       "      <th>8713</th>\n",
       "      <td>Shep X</td>\n",
       "      <td>NaN</td>\n",
       "      <td>M/N</td>\n",
       "      <td>NaN</td>\n",
       "      <td>2004-05-02</td>\n",
       "      <td>40002.0</td>\n",
       "      <td>NaN</td>\n",
       "      <td>400</td>\n",
       "      <td>NaN</td>\n",
       "      <td>Tan &amp; Black &amp; White</td>\n",
       "      <td>NaN</td>\n",
       "      <td>70 lbs</td>\n",
       "      <td>NaN</td>\n",
       "      <td>HOLDING STRAY</td>\n",
       "      <td>Ride Home Free</td>\n",
       "      <td>17</td>\n",
       "    </tr>\n",
       "    <tr>\n",
       "      <th>7060</th>\n",
       "      <td>NaN</td>\n",
       "      <td>NaN</td>\n",
       "      <td>NaN</td>\n",
       "      <td>NaN</td>\n",
       "      <td>1998-10-03</td>\n",
       "      <td>0.0</td>\n",
       "      <td>NaN</td>\n",
       "      <td>0</td>\n",
       "      <td>NaN</td>\n",
       "      <td>NaN</td>\n",
       "      <td>NaN</td>\n",
       "      <td>NaN</td>\n",
       "      <td>NaN</td>\n",
       "      <td>NaN</td>\n",
       "      <td>NaN</td>\n",
       "      <td>0</td>\n",
       "    </tr>\n",
       "    <tr>\n",
       "      <th>25153</th>\n",
       "      <td>Bichon Frise</td>\n",
       "      <td>NaN</td>\n",
       "      <td>M/N</td>\n",
       "      <td>14-221716 - DIAK</td>\n",
       "      <td>2014-04-19</td>\n",
       "      <td>NaN</td>\n",
       "      <td>Phin</td>\n",
       "      <td>200</td>\n",
       "      <td>2014-04-20</td>\n",
       "      <td>Brown</td>\n",
       "      <td>NaN</td>\n",
       "      <td>NaN</td>\n",
       "      <td>Adult</td>\n",
       "      <td>HOLDING STRAY</td>\n",
       "      <td>Redeemed</td>\n",
       "      <td>27</td>\n",
       "    </tr>\n",
       "  </tbody>\n",
       "</table>\n",
       "</div>"
      ],
      "text/plain": [
       "                 Breed ShotsDate  Sex     ReceiptNumber DateImpounded  \\\n",
       "AnimalID                                                                \n",
       "21776        Lab cross       NaN    F               NaN    2011-03-24   \n",
       "7211           Husky X       NaN  M/N          14347 ks    2002-12-08   \n",
       "8713            Shep X       NaN  M/N               NaN    2004-05-02   \n",
       "7060               NaN       NaN  NaN               NaN    1998-10-03   \n",
       "25153     Bichon Frise       NaN  M/N  14-221716 - DIAK    2014-04-19   \n",
       "\n",
       "          PitNumber            Name KennelNumber DispositionDate  \\\n",
       "AnimalID                                                           \n",
       "21776         200.0          Meagan           26      2011-03-25   \n",
       "7211        20066.0  Rocky (Tyrone)          200             NaN   \n",
       "8713        40002.0             NaN          400             NaN   \n",
       "7060            0.0             NaN            0             NaN   \n",
       "25153           NaN            Phin          200      2014-04-20   \n",
       "\n",
       "                        Color Code ApproxWeight Age category         Source  \\\n",
       "AnimalID                                                                      \n",
       "21776                   Black  NaN           40          NaN  HOLDING STRAY   \n",
       "7211            Brown & Black  NaN          NaN          NaN  HOLDING STRAY   \n",
       "8713      Tan & Black & White  NaN       70 lbs          NaN  HOLDING STRAY   \n",
       "7060                      NaN  NaN          NaN          NaN            NaN   \n",
       "25153                   Brown  NaN          NaN        Adult  HOLDING STRAY   \n",
       "\n",
       "                  Status ACO  \n",
       "AnimalID                      \n",
       "21776     Ride Home Free   3  \n",
       "7211                Sold   9  \n",
       "8713      Ride Home Free  17  \n",
       "7060                 NaN   0  \n",
       "25153           Redeemed  27  "
      ]
     },
     "execution_count": 1684,
     "metadata": {},
     "output_type": "execute_result"
    }
   ],
   "source": [
    "reg_df.sample(5)"
   ]
  },
  {
   "cell_type": "markdown",
   "metadata": {},
   "source": [
    "Since there are duplicates, we will need to drop those."
   ]
  },
  {
   "cell_type": "code",
   "execution_count": 1685,
   "metadata": {},
   "outputs": [
    {
     "data": {
      "text/plain": [
       "False    26059\n",
       "True        41\n",
       "Name: count, dtype: int64"
      ]
     },
     "execution_count": 1685,
     "metadata": {},
     "output_type": "execute_result"
    }
   ],
   "source": [
    "reg_df.duplicated().value_counts()"
   ]
  },
  {
   "cell_type": "markdown",
   "metadata": {},
   "source": [
    "Using the results from the `.info()` method, we can quickly visually parse about how many null values there are per column."
   ]
  },
  {
   "cell_type": "code",
   "execution_count": 1686,
   "metadata": {
    "id": "bnviRCUI-bb7"
   },
   "outputs": [
    {
     "name": "stdout",
     "output_type": "stream",
     "text": [
      "<class 'pandas.core.frame.DataFrame'>\n",
      "Index: 26100 entries, 1893 to 14676\n",
      "Data columns (total 16 columns):\n",
      " #   Column           Non-Null Count  Dtype  \n",
      "---  ------           --------------  -----  \n",
      " 0   Breed            26092 non-null  object \n",
      " 1   ShotsDate        3753 non-null   object \n",
      " 2   Sex              25813 non-null  object \n",
      " 3   ReceiptNumber    21694 non-null  object \n",
      " 4   DateImpounded    26100 non-null  object \n",
      " 5   PitNumber        17763 non-null  float64\n",
      " 6   Name             23348 non-null  object \n",
      " 7   KennelNumber     26079 non-null  object \n",
      " 8   DispositionDate  12333 non-null  object \n",
      " 9   Color            26055 non-null  object \n",
      " 10  Code             1173 non-null   object \n",
      " 11  ApproxWeight     11644 non-null  object \n",
      " 12  Age category     8049 non-null   object \n",
      " 13  Source           24126 non-null  object \n",
      " 14  Status           26091 non-null  object \n",
      " 15  ACO              21322 non-null  object \n",
      "dtypes: float64(1), object(15)\n",
      "memory usage: 3.4+ MB\n"
     ]
    }
   ],
   "source": [
    "reg_df.info()"
   ]
  },
  {
   "cell_type": "markdown",
   "metadata": {},
   "source": [
    "`Age category` is the only column with a space character, as well as not being in `CamelCase`. Additionally, these columns are `CamelCase` instead of all lowercase, like the column labels in the `lost and found` dataset."
   ]
  },
  {
   "cell_type": "code",
   "execution_count": 1687,
   "metadata": {},
   "outputs": [
    {
     "name": "stderr",
     "output_type": "stream",
     "text": [
      "C:\\Users\\Ethan\\AppData\\Roaming\\Python\\Python310\\site-packages\\IPython\\core\\displayhook.py:281: UserWarning: Output cache limit (currently 1000 entries) hit.\n",
      "Flushing oldest 200 entries.\n",
      "  warn('Output cache limit (currently {sz} entries) hit.\\n'\n"
     ]
    },
    {
     "data": {
      "text/plain": [
       "Age category\n",
       "Adult          4916\n",
       "Young Adult    1552\n",
       "Senior         1133\n",
       "Puppy           448\n",
       "Name: count, dtype: int64"
      ]
     },
     "execution_count": 1687,
     "metadata": {},
     "output_type": "execute_result"
    }
   ],
   "source": [
    "reg_df['Age category'].value_counts()   # Puppy being a category assumes the animal is a dog"
   ]
  },
  {
   "cell_type": "markdown",
   "metadata": {},
   "source": [
    "Issue and justification: Immediately, we can see that there are a lot of null values, especially for `Code`, `ShotsDate`, and `Age category` columns. Each of those have no more than about 30% of the values filled. It would be difficult, however, to infer anything to answer our question using any of these columns. \n",
    "\n",
    "The best columns would probably be `name`, `color`, `sex`, and `breed` for making inferences, so this means we can probably just drop the columns that are mostly null. For `name` and the other column.s previousy mentioned, we can probably just replace the null values with something like \"Unknown\"\n",
    "\n",
    "All of these null values make correlating animals together based on similar factors less reliable, especially if something critical like the name isn't disclosed or the color is not reported as the staff intaking animals would describe. Names are also likely the highest differentiator between two animals with similar breeds and coat colors, as well.\n",
    "\n",
    "There are also duplicate values, but those will be easy to handle. The biggest issue I feel is the insane abundance of missing values."
   ]
  },
  {
   "cell_type": "markdown",
   "metadata": {
    "id": "lXhGiYyiwwKN"
   },
   "source": [
    "### Tidiness Issue 1:"
   ]
  },
  {
   "cell_type": "markdown",
   "metadata": {},
   "source": [
    "I'm of the opinion that validating the 3 qualities of tidiness is most easily began visually with `.head()/.tail()`, then drilling down programatically with `.value_counts()`, queries, `.columns`, and more. "
   ]
  },
  {
   "cell_type": "code",
   "execution_count": 1688,
   "metadata": {
    "id": "fleC5rORI0Xl"
   },
   "outputs": [
    {
     "data": {
      "text/html": [
       "<div>\n",
       "<style scoped>\n",
       "    .dataframe tbody tr th:only-of-type {\n",
       "        vertical-align: middle;\n",
       "    }\n",
       "\n",
       "    .dataframe tbody tr th {\n",
       "        vertical-align: top;\n",
       "    }\n",
       "\n",
       "    .dataframe thead th {\n",
       "        text-align: right;\n",
       "    }\n",
       "</style>\n",
       "<table border=\"1\" class=\"dataframe\">\n",
       "  <thead>\n",
       "    <tr style=\"text-align: right;\">\n",
       "      <th></th>\n",
       "      <th>date</th>\n",
       "      <th>breed</th>\n",
       "      <th>color</th>\n",
       "      <th>name</th>\n",
       "      <th>sex</th>\n",
       "      <th>state</th>\n",
       "    </tr>\n",
       "  </thead>\n",
       "  <tbody>\n",
       "    <tr>\n",
       "      <th>0</th>\n",
       "      <td>1999-01-03T00:00:00+00:00</td>\n",
       "      <td>Rotty X Shep</td>\n",
       "      <td>Black &amp; Tan</td>\n",
       "      <td>Tex</td>\n",
       "      <td>M/N</td>\n",
       "      <td>Lost</td>\n",
       "    </tr>\n",
       "    <tr>\n",
       "      <th>1</th>\n",
       "      <td>1999-01-04T00:00:00+00:00</td>\n",
       "      <td>Dog</td>\n",
       "      <td>Light Colour</td>\n",
       "      <td>None</td>\n",
       "      <td>M/N</td>\n",
       "      <td>Found</td>\n",
       "    </tr>\n",
       "    <tr>\n",
       "      <th>2</th>\n",
       "      <td>1999-01-04T00:00:00+00:00</td>\n",
       "      <td>Golden Lab X</td>\n",
       "      <td>Black &amp; Tan</td>\n",
       "      <td>Oscar</td>\n",
       "      <td>M</td>\n",
       "      <td>Lost</td>\n",
       "    </tr>\n",
       "    <tr>\n",
       "      <th>3</th>\n",
       "      <td>1999-01-04T00:00:00+00:00</td>\n",
       "      <td>Shep X</td>\n",
       "      <td>Black &amp; Tan</td>\n",
       "      <td>None</td>\n",
       "      <td>F</td>\n",
       "      <td>Found</td>\n",
       "    </tr>\n",
       "    <tr>\n",
       "      <th>4</th>\n",
       "      <td>1999-01-04T00:00:00+00:00</td>\n",
       "      <td>Shep X Collie</td>\n",
       "      <td>Black &amp; Tan</td>\n",
       "      <td>Angel</td>\n",
       "      <td>F</td>\n",
       "      <td>Lost</td>\n",
       "    </tr>\n",
       "  </tbody>\n",
       "</table>\n",
       "</div>"
      ],
      "text/plain": [
       "                        date          breed         color   name  sex  state\n",
       "0  1999-01-03T00:00:00+00:00   Rotty X Shep   Black & Tan    Tex  M/N   Lost\n",
       "1  1999-01-04T00:00:00+00:00            Dog  Light Colour   None  M/N  Found\n",
       "2  1999-01-04T00:00:00+00:00   Golden Lab X   Black & Tan  Oscar    M   Lost\n",
       "3  1999-01-04T00:00:00+00:00         Shep X   Black & Tan   None    F  Found\n",
       "4  1999-01-04T00:00:00+00:00  Shep X Collie   Black & Tan  Angel    F   Lost"
      ]
     },
     "execution_count": 1688,
     "metadata": {},
     "output_type": "execute_result"
    }
   ],
   "source": [
    "lf_df.head()  # lets ground overselves in the data again"
   ]
  },
  {
   "cell_type": "code",
   "execution_count": 1689,
   "metadata": {},
   "outputs": [
    {
     "data": {
      "text/html": [
       "<div>\n",
       "<style scoped>\n",
       "    .dataframe tbody tr th:only-of-type {\n",
       "        vertical-align: middle;\n",
       "    }\n",
       "\n",
       "    .dataframe tbody tr th {\n",
       "        vertical-align: top;\n",
       "    }\n",
       "\n",
       "    .dataframe thead th {\n",
       "        text-align: right;\n",
       "    }\n",
       "</style>\n",
       "<table border=\"1\" class=\"dataframe\">\n",
       "  <thead>\n",
       "    <tr style=\"text-align: right;\">\n",
       "      <th></th>\n",
       "      <th>date</th>\n",
       "      <th>breed</th>\n",
       "      <th>color</th>\n",
       "      <th>name</th>\n",
       "      <th>sex</th>\n",
       "      <th>state</th>\n",
       "    </tr>\n",
       "  </thead>\n",
       "  <tbody>\n",
       "    <tr>\n",
       "      <th>17850</th>\n",
       "      <td>2025-07-29T00:00:00+00:00</td>\n",
       "      <td>Basenji</td>\n",
       "      <td>Black &amp; White body</td>\n",
       "      <td>Winston</td>\n",
       "      <td>M/N</td>\n",
       "      <td>Matched</td>\n",
       "    </tr>\n",
       "    <tr>\n",
       "      <th>17851</th>\n",
       "      <td>2025-07-29T00:00:00+00:00</td>\n",
       "      <td>Cat - DLH - Orange Tabby</td>\n",
       "      <td>Orange</td>\n",
       "      <td>Celia</td>\n",
       "      <td>F</td>\n",
       "      <td>Lost</td>\n",
       "    </tr>\n",
       "    <tr>\n",
       "      <th>17852</th>\n",
       "      <td>2025-07-29T00:00:00+00:00</td>\n",
       "      <td>Pug/Chihuahua X</td>\n",
       "      <td>Tan</td>\n",
       "      <td>Opie</td>\n",
       "      <td>M</td>\n",
       "      <td>Lost</td>\n",
       "    </tr>\n",
       "    <tr>\n",
       "      <th>17853</th>\n",
       "      <td>2025-07-30T00:00:00+00:00</td>\n",
       "      <td>CAT - DLH - Calico</td>\n",
       "      <td>Orange/white/black</td>\n",
       "      <td>Olive</td>\n",
       "      <td>F/S</td>\n",
       "      <td>Lost</td>\n",
       "    </tr>\n",
       "    <tr>\n",
       "      <th>17854</th>\n",
       "      <td>2025-07-30T00:00:00+00:00</td>\n",
       "      <td>Cat - DSH - Tuxedo</td>\n",
       "      <td>Black &amp; White</td>\n",
       "      <td>Socks</td>\n",
       "      <td>M/N</td>\n",
       "      <td>Lost</td>\n",
       "    </tr>\n",
       "  </tbody>\n",
       "</table>\n",
       "</div>"
      ],
      "text/plain": [
       "                            date                     breed  \\\n",
       "17850  2025-07-29T00:00:00+00:00                   Basenji   \n",
       "17851  2025-07-29T00:00:00+00:00  Cat - DLH - Orange Tabby   \n",
       "17852  2025-07-29T00:00:00+00:00           Pug/Chihuahua X   \n",
       "17853  2025-07-30T00:00:00+00:00        CAT - DLH - Calico   \n",
       "17854  2025-07-30T00:00:00+00:00        Cat - DSH - Tuxedo   \n",
       "\n",
       "                    color     name  sex    state  \n",
       "17850  Black & White body  Winston  M/N  Matched  \n",
       "17851              Orange    Celia    F     Lost  \n",
       "17852                 Tan     Opie    M     Lost  \n",
       "17853  Orange/white/black    Olive  F/S     Lost  \n",
       "17854       Black & White    Socks  M/N     Lost  "
      ]
     },
     "execution_count": 1689,
     "metadata": {},
     "output_type": "execute_result"
    }
   ],
   "source": [
    "lf_df.tail()"
   ]
  },
  {
   "cell_type": "markdown",
   "metadata": {},
   "source": [
    "Based on the output above, the columns are each a distinct type of variable. It does seem, however, some columns store multiple variables in a single datapoint, especially `sex`, which indicates the reproductive sterility of an animal. This column, and another to be investigated further below, can be split into additional columns."
   ]
  },
  {
   "cell_type": "code",
   "execution_count": 1690,
   "metadata": {},
   "outputs": [
    {
     "data": {
      "text/plain": [
       "sex\n",
       "M      5103\n",
       "M/N    4558\n",
       "F      3902\n",
       "F/S    3684\n",
       "X       216\n",
       "Name: count, dtype: int64"
      ]
     },
     "execution_count": 1690,
     "metadata": {},
     "output_type": "execute_result"
    }
   ],
   "source": [
    "lf_df.sex.value_counts()"
   ]
  },
  {
   "cell_type": "code",
   "execution_count": 1691,
   "metadata": {},
   "outputs": [
    {
     "name": "stdout",
     "output_type": "stream",
     "text": [
      "There are 4046 unique breeds in the dataset.\n"
     ]
    },
    {
     "data": {
      "text/plain": [
       "0                            None\n",
       "1          (Miniature) Pomeranian\n",
       "2              .Unknown Breed Mix\n",
       "3      1 Pit Bull & 1 Terrier mix\n",
       "4    1 Pitbull & 1 Bernese/Poodle\n",
       "dtype: object"
      ]
     },
     "execution_count": 1691,
     "metadata": {},
     "output_type": "execute_result"
    }
   ],
   "source": [
    "print(\"There are\", lf_df.breed.unique().shape[0], \"unique breeds in the dataset.\")\n",
    "\n",
    "breed_s = pd.Series(lf_df.breed.unique()).sort_values(na_position='first', ignore_index=True)\n",
    "breed_s.head()"
   ]
  },
  {
   "cell_type": "code",
   "execution_count": 1692,
   "metadata": {},
   "outputs": [
    {
     "data": {
      "text/plain": [
       "4036    stratfordshire terrier\n",
       "4037                     tabby\n",
       "4038    tabby Grey black brown\n",
       "4039       tabby short haireds\n",
       "4040               terrier (?)\n",
       "4041                 terrier X\n",
       "4042             terrier X pug\n",
       "4043      very small ( 5 lbs )\n",
       "4044             westy terrier\n",
       "4045              yorkie cross\n",
       "dtype: object"
      ]
     },
     "execution_count": 1692,
     "metadata": {},
     "output_type": "execute_result"
    }
   ],
   "source": [
    "breed_s.tail(10)"
   ]
  },
  {
   "cell_type": "code",
   "execution_count": 1693,
   "metadata": {},
   "outputs": [
    {
     "data": {
      "text/html": [
       "<div>\n",
       "<style scoped>\n",
       "    .dataframe tbody tr th:only-of-type {\n",
       "        vertical-align: middle;\n",
       "    }\n",
       "\n",
       "    .dataframe tbody tr th {\n",
       "        vertical-align: top;\n",
       "    }\n",
       "\n",
       "    .dataframe thead th {\n",
       "        text-align: right;\n",
       "    }\n",
       "</style>\n",
       "<table border=\"1\" class=\"dataframe\">\n",
       "  <thead>\n",
       "    <tr style=\"text-align: right;\">\n",
       "      <th></th>\n",
       "      <th></th>\n",
       "      <th>0</th>\n",
       "    </tr>\n",
       "    <tr>\n",
       "      <th></th>\n",
       "      <th>match</th>\n",
       "      <th></th>\n",
       "    </tr>\n",
       "  </thead>\n",
       "  <tbody>\n",
       "    <tr>\n",
       "      <th>3</th>\n",
       "      <th>0</th>\n",
       "      <td>1 Pit Bull &amp; 1 Terrier mix</td>\n",
       "    </tr>\n",
       "    <tr>\n",
       "      <th>4</th>\n",
       "      <th>0</th>\n",
       "      <td>1 Pitbull &amp; 1 Bernese/Poodle</td>\n",
       "    </tr>\n",
       "    <tr>\n",
       "      <th>5</th>\n",
       "      <th>0</th>\n",
       "      <td>1/2 Pit &amp; 1/2 Presa</td>\n",
       "    </tr>\n",
       "    <tr>\n",
       "      <th>6</th>\n",
       "      <th>0</th>\n",
       "      <td>2 Dachunds</td>\n",
       "    </tr>\n",
       "    <tr>\n",
       "      <th>7</th>\n",
       "      <th>0</th>\n",
       "      <td>2 Great Pyrenese</td>\n",
       "    </tr>\n",
       "    <tr>\n",
       "      <th>...</th>\n",
       "      <th>...</th>\n",
       "      <td>...</td>\n",
       "    </tr>\n",
       "    <tr>\n",
       "      <th>3645</th>\n",
       "      <th>0</th>\n",
       "      <td>Staff Terrier #2</td>\n",
       "    </tr>\n",
       "    <tr>\n",
       "      <th>3667</th>\n",
       "      <th>0</th>\n",
       "      <td>Stafforshire Terrier 14 months</td>\n",
       "    </tr>\n",
       "    <tr>\n",
       "      <th>3978</th>\n",
       "      <th>0</th>\n",
       "      <td>lab  and 2nd dog German Sheper</td>\n",
       "    </tr>\n",
       "    <tr>\n",
       "      <th>4034</th>\n",
       "      <th>0</th>\n",
       "      <td>small dog Benji type (10lbs)</td>\n",
       "    </tr>\n",
       "    <tr>\n",
       "      <th>4043</th>\n",
       "      <th>0</th>\n",
       "      <td>very small ( 5 lbs )</td>\n",
       "    </tr>\n",
       "  </tbody>\n",
       "</table>\n",
       "<p>121 rows × 1 columns</p>\n",
       "</div>"
      ],
      "text/plain": [
       "                                         0\n",
       "     match                                \n",
       "3    0          1 Pit Bull & 1 Terrier mix\n",
       "4    0        1 Pitbull & 1 Bernese/Poodle\n",
       "5    0                 1/2 Pit & 1/2 Presa\n",
       "6    0                          2 Dachunds\n",
       "7    0                    2 Great Pyrenese\n",
       "...                                    ...\n",
       "3645 0                    Staff Terrier #2\n",
       "3667 0      Stafforshire Terrier 14 months\n",
       "3978 0      lab  and 2nd dog German Sheper\n",
       "4034 0        small dog Benji type (10lbs)\n",
       "4043 0                very small ( 5 lbs )\n",
       "\n",
       "[121 rows x 1 columns]"
      ]
     },
     "execution_count": 1693,
     "metadata": {},
     "output_type": "execute_result"
    }
   ],
   "source": [
    "breed_s.str.extractall(\"(.*\\d.*)\")"
   ]
  },
  {
   "cell_type": "markdown",
   "metadata": {},
   "source": [
    "Issue and justification: It seems the `breed` column could be useful for finding single rows with multiple animals reported (e.g., `1 Pit Bull & 1 Terrier mix`). A more tidy way to do this would be splitting those out into separate rows. If the report needs to be associated with those from the same report, there can be a report ID that all applicable reports share, however I will not need that information to answer my question.\n",
    "\n",
    "By having multiple animals in one row, this not only inaccurately represents the number of animals reported missing, but also makes grouping or filtering by the reported breed unreliable.\n",
    "\n",
    "The `sex` column could also be split into two columns, where one solely stores the biological sex of the animal and the other stores if they are neutered or spayed. This can just be a boolean value for simplicity's sake."
   ]
  },
  {
   "cell_type": "markdown",
   "metadata": {
    "id": "4ffMoRGSwzYj"
   },
   "source": [
    "### Tidiness Issue 2: "
   ]
  },
  {
   "cell_type": "code",
   "execution_count": 1694,
   "metadata": {
    "id": "XUpeoqokw5Qt"
   },
   "outputs": [
    {
     "data": {
      "text/html": [
       "<div>\n",
       "<style scoped>\n",
       "    .dataframe tbody tr th:only-of-type {\n",
       "        vertical-align: middle;\n",
       "    }\n",
       "\n",
       "    .dataframe tbody tr th {\n",
       "        vertical-align: top;\n",
       "    }\n",
       "\n",
       "    .dataframe thead th {\n",
       "        text-align: right;\n",
       "    }\n",
       "</style>\n",
       "<table border=\"1\" class=\"dataframe\">\n",
       "  <thead>\n",
       "    <tr style=\"text-align: right;\">\n",
       "      <th></th>\n",
       "      <th>Breed</th>\n",
       "      <th>ShotsDate</th>\n",
       "      <th>Sex</th>\n",
       "      <th>ReceiptNumber</th>\n",
       "      <th>DateImpounded</th>\n",
       "      <th>PitNumber</th>\n",
       "      <th>Name</th>\n",
       "      <th>KennelNumber</th>\n",
       "      <th>DispositionDate</th>\n",
       "      <th>Color</th>\n",
       "      <th>Code</th>\n",
       "      <th>ApproxWeight</th>\n",
       "      <th>Age category</th>\n",
       "      <th>Source</th>\n",
       "      <th>Status</th>\n",
       "      <th>ACO</th>\n",
       "    </tr>\n",
       "    <tr>\n",
       "      <th>AnimalID</th>\n",
       "      <th></th>\n",
       "      <th></th>\n",
       "      <th></th>\n",
       "      <th></th>\n",
       "      <th></th>\n",
       "      <th></th>\n",
       "      <th></th>\n",
       "      <th></th>\n",
       "      <th></th>\n",
       "      <th></th>\n",
       "      <th></th>\n",
       "      <th></th>\n",
       "      <th></th>\n",
       "      <th></th>\n",
       "      <th></th>\n",
       "      <th></th>\n",
       "    </tr>\n",
       "  </thead>\n",
       "  <tbody>\n",
       "    <tr>\n",
       "      <th>1893</th>\n",
       "      <td>Terrier X</td>\n",
       "      <td>NaN</td>\n",
       "      <td>M/N</td>\n",
       "      <td>10322wrs</td>\n",
       "      <td>2000-04-11</td>\n",
       "      <td>20073.0</td>\n",
       "      <td>Toby</td>\n",
       "      <td>200</td>\n",
       "      <td>NaN</td>\n",
       "      <td>Tan</td>\n",
       "      <td>NaN</td>\n",
       "      <td>NaN</td>\n",
       "      <td>NaN</td>\n",
       "      <td>HOLDING STRAY</td>\n",
       "      <td>Redeemed</td>\n",
       "      <td>22</td>\n",
       "    </tr>\n",
       "    <tr>\n",
       "      <th>1894</th>\n",
       "      <td>Shep</td>\n",
       "      <td>NaN</td>\n",
       "      <td>M</td>\n",
       "      <td>NaN</td>\n",
       "      <td>2000-04-11</td>\n",
       "      <td>20018.0</td>\n",
       "      <td>Adolf</td>\n",
       "      <td>200</td>\n",
       "      <td>NaN</td>\n",
       "      <td>Tan Black</td>\n",
       "      <td>NaN</td>\n",
       "      <td>NaN</td>\n",
       "      <td>NaN</td>\n",
       "      <td>POLICE-NIGHT</td>\n",
       "      <td>Owner Request - Signed Over</td>\n",
       "      <td>5</td>\n",
       "    </tr>\n",
       "    <tr>\n",
       "      <th>1895</th>\n",
       "      <td>Shepherd</td>\n",
       "      <td>NaN</td>\n",
       "      <td>F/S</td>\n",
       "      <td>10325-TU</td>\n",
       "      <td>2000-04-12</td>\n",
       "      <td>20068.0</td>\n",
       "      <td>Pepsi</td>\n",
       "      <td>200</td>\n",
       "      <td>NaN</td>\n",
       "      <td>Black</td>\n",
       "      <td>NaN</td>\n",
       "      <td>NaN</td>\n",
       "      <td>NaN</td>\n",
       "      <td>HOLDING STRAY</td>\n",
       "      <td>Redeemed</td>\n",
       "      <td>1</td>\n",
       "    </tr>\n",
       "    <tr>\n",
       "      <th>1903</th>\n",
       "      <td>Chow</td>\n",
       "      <td>NaN</td>\n",
       "      <td>M</td>\n",
       "      <td>10335,MC</td>\n",
       "      <td>2000-04-13</td>\n",
       "      <td>20071.0</td>\n",
       "      <td>Chewy</td>\n",
       "      <td>200</td>\n",
       "      <td>NaN</td>\n",
       "      <td>Tan</td>\n",
       "      <td>NaN</td>\n",
       "      <td>NaN</td>\n",
       "      <td>NaN</td>\n",
       "      <td>HOLDING STRAY</td>\n",
       "      <td>Redeemed</td>\n",
       "      <td>8</td>\n",
       "    </tr>\n",
       "    <tr>\n",
       "      <th>1925</th>\n",
       "      <td>Shep X</td>\n",
       "      <td>NaN</td>\n",
       "      <td>F</td>\n",
       "      <td>no charge</td>\n",
       "      <td>2000-04-19</td>\n",
       "      <td>20048.0</td>\n",
       "      <td>NaN</td>\n",
       "      <td>200</td>\n",
       "      <td>NaN</td>\n",
       "      <td>Black</td>\n",
       "      <td>NaN</td>\n",
       "      <td>NaN</td>\n",
       "      <td>NaN</td>\n",
       "      <td>HOLDING STRAY</td>\n",
       "      <td>Redeemed</td>\n",
       "      <td>15</td>\n",
       "    </tr>\n",
       "  </tbody>\n",
       "</table>\n",
       "</div>"
      ],
      "text/plain": [
       "              Breed ShotsDate  Sex ReceiptNumber DateImpounded  PitNumber  \\\n",
       "AnimalID                                                                    \n",
       "1893      Terrier X       NaN  M/N      10322wrs    2000-04-11    20073.0   \n",
       "1894           Shep       NaN    M           NaN    2000-04-11    20018.0   \n",
       "1895       Shepherd       NaN  F/S      10325-TU    2000-04-12    20068.0   \n",
       "1903           Chow       NaN    M      10335,MC    2000-04-13    20071.0   \n",
       "1925         Shep X       NaN    F     no charge    2000-04-19    20048.0   \n",
       "\n",
       "           Name KennelNumber DispositionDate      Color Code ApproxWeight  \\\n",
       "AnimalID                                                                    \n",
       "1893       Toby          200             NaN        Tan  NaN          NaN   \n",
       "1894      Adolf          200             NaN  Tan Black  NaN          NaN   \n",
       "1895      Pepsi          200             NaN      Black  NaN          NaN   \n",
       "1903      Chewy          200             NaN        Tan  NaN          NaN   \n",
       "1925        NaN          200             NaN      Black  NaN          NaN   \n",
       "\n",
       "         Age category         Source                       Status ACO  \n",
       "AnimalID                                                               \n",
       "1893              NaN  HOLDING STRAY                     Redeemed  22  \n",
       "1894              NaN   POLICE-NIGHT  Owner Request - Signed Over   5  \n",
       "1895              NaN  HOLDING STRAY                     Redeemed   1  \n",
       "1903              NaN  HOLDING STRAY                     Redeemed   8  \n",
       "1925              NaN  HOLDING STRAY                     Redeemed  15  "
      ]
     },
     "execution_count": 1694,
     "metadata": {},
     "output_type": "execute_result"
    }
   ],
   "source": [
    "reg_df.head()"
   ]
  },
  {
   "cell_type": "code",
   "execution_count": 1695,
   "metadata": {},
   "outputs": [
    {
     "data": {
      "text/html": [
       "<div>\n",
       "<style scoped>\n",
       "    .dataframe tbody tr th:only-of-type {\n",
       "        vertical-align: middle;\n",
       "    }\n",
       "\n",
       "    .dataframe tbody tr th {\n",
       "        vertical-align: top;\n",
       "    }\n",
       "\n",
       "    .dataframe thead th {\n",
       "        text-align: right;\n",
       "    }\n",
       "</style>\n",
       "<table border=\"1\" class=\"dataframe\">\n",
       "  <thead>\n",
       "    <tr style=\"text-align: right;\">\n",
       "      <th></th>\n",
       "      <th>Breed</th>\n",
       "      <th>ShotsDate</th>\n",
       "      <th>Sex</th>\n",
       "      <th>ReceiptNumber</th>\n",
       "      <th>DateImpounded</th>\n",
       "      <th>PitNumber</th>\n",
       "      <th>Name</th>\n",
       "      <th>KennelNumber</th>\n",
       "      <th>DispositionDate</th>\n",
       "      <th>Color</th>\n",
       "      <th>Code</th>\n",
       "      <th>ApproxWeight</th>\n",
       "      <th>Age category</th>\n",
       "      <th>Source</th>\n",
       "      <th>Status</th>\n",
       "      <th>ACO</th>\n",
       "    </tr>\n",
       "    <tr>\n",
       "      <th>AnimalID</th>\n",
       "      <th></th>\n",
       "      <th></th>\n",
       "      <th></th>\n",
       "      <th></th>\n",
       "      <th></th>\n",
       "      <th></th>\n",
       "      <th></th>\n",
       "      <th></th>\n",
       "      <th></th>\n",
       "      <th></th>\n",
       "      <th></th>\n",
       "      <th></th>\n",
       "      <th></th>\n",
       "      <th></th>\n",
       "      <th></th>\n",
       "      <th></th>\n",
       "    </tr>\n",
       "  </thead>\n",
       "  <tbody>\n",
       "    <tr>\n",
       "      <th>1</th>\n",
       "      <td>Pit Bull</td>\n",
       "      <td>2005-06-18</td>\n",
       "      <td>M/N</td>\n",
       "      <td>17057 ks</td>\n",
       "      <td>2005-06-12</td>\n",
       "      <td>20038.0</td>\n",
       "      <td>Taz</td>\n",
       "      <td>200</td>\n",
       "      <td>NaN</td>\n",
       "      <td>Tan</td>\n",
       "      <td>NaN</td>\n",
       "      <td>45</td>\n",
       "      <td>NaN</td>\n",
       "      <td>HOLDING STRAY</td>\n",
       "      <td>Sold</td>\n",
       "      <td>3</td>\n",
       "    </tr>\n",
       "    <tr>\n",
       "      <th>2</th>\n",
       "      <td>English Setter</td>\n",
       "      <td>NaN</td>\n",
       "      <td>M/N</td>\n",
       "      <td>20372 BC3</td>\n",
       "      <td>2006-03-19</td>\n",
       "      <td>20041.0</td>\n",
       "      <td>Dudley</td>\n",
       "      <td>200</td>\n",
       "      <td>NaN</td>\n",
       "      <td>White &amp; Brown</td>\n",
       "      <td>NaN</td>\n",
       "      <td>100lbs</td>\n",
       "      <td>NaN</td>\n",
       "      <td>HOLDING STRAY</td>\n",
       "      <td>Redeemed</td>\n",
       "      <td>NaN</td>\n",
       "    </tr>\n",
       "    <tr>\n",
       "      <th>3</th>\n",
       "      <td>Lab X</td>\n",
       "      <td>NaN</td>\n",
       "      <td>M/N</td>\n",
       "      <td>N/C BC</td>\n",
       "      <td>2006-07-24</td>\n",
       "      <td>40041.0</td>\n",
       "      <td>Evander</td>\n",
       "      <td>400</td>\n",
       "      <td>NaN</td>\n",
       "      <td>Black</td>\n",
       "      <td>NaN</td>\n",
       "      <td>NaN</td>\n",
       "      <td>NaN</td>\n",
       "      <td>HOLDING STRAY</td>\n",
       "      <td>Ride Home Free</td>\n",
       "      <td>5</td>\n",
       "    </tr>\n",
       "    <tr>\n",
       "      <th>4</th>\n",
       "      <td>Pomeranian</td>\n",
       "      <td>NaN</td>\n",
       "      <td>M</td>\n",
       "      <td>22171,MC</td>\n",
       "      <td>2006-09-08</td>\n",
       "      <td>20017.0</td>\n",
       "      <td>Chewbaca</td>\n",
       "      <td>200</td>\n",
       "      <td>NaN</td>\n",
       "      <td>Brown</td>\n",
       "      <td>NaN</td>\n",
       "      <td>10 lbs.</td>\n",
       "      <td>NaN</td>\n",
       "      <td>HOLDING STRAY</td>\n",
       "      <td>Redeemed</td>\n",
       "      <td>14</td>\n",
       "    </tr>\n",
       "    <tr>\n",
       "      <th>5</th>\n",
       "      <td>American Bulldog X</td>\n",
       "      <td>2006-10-07</td>\n",
       "      <td>M/N</td>\n",
       "      <td>22565 - skj</td>\n",
       "      <td>2006-09-06</td>\n",
       "      <td>20053.0</td>\n",
       "      <td>Cadillac</td>\n",
       "      <td>200</td>\n",
       "      <td>NaN</td>\n",
       "      <td>White with Brown Patch on Eye</td>\n",
       "      <td>NaN</td>\n",
       "      <td>80 lbs</td>\n",
       "      <td>NaN</td>\n",
       "      <td>HOLDING STRAY</td>\n",
       "      <td>Sold</td>\n",
       "      <td>22</td>\n",
       "    </tr>\n",
       "  </tbody>\n",
       "</table>\n",
       "</div>"
      ],
      "text/plain": [
       "                       Breed   ShotsDate  Sex ReceiptNumber DateImpounded  \\\n",
       "AnimalID                                                                    \n",
       "1                   Pit Bull  2005-06-18  M/N      17057 ks    2005-06-12   \n",
       "2             English Setter         NaN  M/N     20372 BC3    2006-03-19   \n",
       "3                      Lab X         NaN  M/N        N/C BC    2006-07-24   \n",
       "4                 Pomeranian         NaN    M      22171,MC    2006-09-08   \n",
       "5         American Bulldog X  2006-10-07  M/N   22565 - skj    2006-09-06   \n",
       "\n",
       "          PitNumber      Name KennelNumber DispositionDate  \\\n",
       "AnimalID                                                     \n",
       "1           20038.0       Taz          200             NaN   \n",
       "2           20041.0    Dudley          200             NaN   \n",
       "3           40041.0   Evander          400             NaN   \n",
       "4           20017.0  Chewbaca          200             NaN   \n",
       "5           20053.0  Cadillac          200             NaN   \n",
       "\n",
       "                                  Color Code ApproxWeight Age category  \\\n",
       "AnimalID                                                                 \n",
       "1                                   Tan  NaN           45          NaN   \n",
       "2                         White & Brown  NaN       100lbs          NaN   \n",
       "3                                 Black  NaN          NaN          NaN   \n",
       "4                                 Brown  NaN      10 lbs.          NaN   \n",
       "5         White with Brown Patch on Eye  NaN       80 lbs          NaN   \n",
       "\n",
       "                 Source          Status  ACO  \n",
       "AnimalID                                      \n",
       "1         HOLDING STRAY            Sold    3  \n",
       "2         HOLDING STRAY        Redeemed  NaN  \n",
       "3         HOLDING STRAY  Ride Home Free    5  \n",
       "4         HOLDING STRAY        Redeemed   14  \n",
       "5         HOLDING STRAY            Sold   22  "
      ]
     },
     "execution_count": 1695,
     "metadata": {},
     "output_type": "execute_result"
    }
   ],
   "source": [
    "reg_df.sort_index().head()"
   ]
  },
  {
   "cell_type": "markdown",
   "metadata": {},
   "source": [
    "Skimming through the breed column revealed multiple occurrences of a string like \"`<breed-name> X`\". Immediately, I am unsure what this may indicate, but I have a presumption that I will elaborate upon when I describe the issue I'll be addressing with this dataset."
   ]
  },
  {
   "cell_type": "code",
   "execution_count": 1696,
   "metadata": {},
   "outputs": [
    {
     "data": {
      "text/plain": [
       "Breed                       Lab X\n",
       "ShotsDate                     NaN\n",
       "Sex                           M/N\n",
       "ReceiptNumber              N/C BC\n",
       "DateImpounded          2006-07-24\n",
       "PitNumber                 40041.0\n",
       "Name                      Evander\n",
       "KennelNumber                  400\n",
       "DispositionDate               NaN\n",
       "Color                       Black\n",
       "Code                          NaN\n",
       "ApproxWeight                  NaN\n",
       "Age category                  NaN\n",
       "Source              HOLDING STRAY\n",
       "Status             Ride Home Free\n",
       "ACO                             5\n",
       "Name: 3, dtype: object"
      ]
     },
     "execution_count": 1696,
     "metadata": {},
     "output_type": "execute_result"
    }
   ],
   "source": [
    "reg_df.query('AnimalID == 3').iloc[0]  # iloc will return a series, which is a bit easier to read for a single row"
   ]
  },
  {
   "cell_type": "markdown",
   "metadata": {},
   "source": [
    "Looking a little further, it looks like `Lab X` is incredibly common."
   ]
  },
  {
   "cell_type": "code",
   "execution_count": 1697,
   "metadata": {},
   "outputs": [
    {
     "data": {
      "text/plain": [
       "0                     \n",
       "Lab X                     872\n",
       "Lab                       571\n",
       "Labrador                  495\n",
       "Labrador X                 78\n",
       "Shep X Lab                 78\n",
       "                         ... \n",
       "Black Lab X Pit             1\n",
       "Black Lab/GSD               1\n",
       "Black X Lab                 1\n",
       "Heeler X Lab X Bassett      1\n",
       "rotty X lab                 1\n",
       "Name: count, Length: 490, dtype: int64"
      ]
     },
     "execution_count": 1697,
     "metadata": {},
     "output_type": "execute_result"
    }
   ],
   "source": [
    "reg_df['Breed'].str.extractall(\"(.*[lL]ab.*)\").value_counts()"
   ]
  },
  {
   "cell_type": "markdown",
   "metadata": {},
   "source": [
    "Issue and justification: There are a few places where some improvements can be made. \n",
    "- `Name` - Some rows contain \"`(New name)`,\" which is tracking two factors of data in a single column.\n",
    "  - This could be resolved with another column of boolean values, but I do not think it will be entirely necessary for our cause. Therefore, we will remove occurrences of `(New name)`\n",
    "- `Breed` - Some breeds have \"`mix`\" while others have \"`X`\". Presumably, `X` is also for \"mix,\" but this is merely an assumption. \n",
    "  - Additionally, `Black Lab` is not a breed, the breed is Labrador Retriever. Despite this, we will be leaving it in order to simplify this project.\n",
    "\n",
    "Another general issue is that this field has inconsistent capitalization. Eventually, I will normalize all of the string fields so that they are all in lowercase."
   ]
  },
  {
   "cell_type": "markdown",
   "metadata": {
    "id": "D6gmLnBttpCh"
   },
   "source": [
    "## 3. Clean data\n",
    "\n",
    "There are a few operations I plan to do before we begin the real cleaning:\n",
    "1. Lowercase all strings\n",
    "2. Lowercase all column names and remove spaces\n",
    "\n",
    "Following that, we will address the four issues brought up during phase 2."
   ]
  },
  {
   "cell_type": "code",
   "execution_count": 1698,
   "metadata": {},
   "outputs": [],
   "source": [
    "# Make copies of the datasets to ensure the raw dataframes are not impacted\n",
    "lf_df_clean = lf_df.copy()\n",
    "reg_df_clean = reg_df.copy()\n",
    "\n",
    "reg_df_clean.rename(columns=lambda x: x.strip().lower().replace(\" \", \"\"), inplace=True)\n",
    "\n",
    "\n",
    "for col in lf_df_clean.columns:\n",
    "    lf_df_clean[col] = lf_df_clean[col].str.lower()\n",
    "\n",
    "#lf_df_clean.rename(columns={\"name\": \"animalname\"}, inplace=True)\n",
    "\n",
    "#reg_df_clean.index.rename(reg_df_clean.index.name.lower(), inplace=True)\n",
    "\n",
    "for col in reg_df_clean.columns:\n",
    "    if col == 'pitnumber': continue  # this is type float64\n",
    "\n",
    "    reg_df_clean[col] = reg_df_clean[col].str.lower()"
   ]
  },
  {
   "cell_type": "code",
   "execution_count": null,
   "metadata": {},
   "outputs": [],
   "source": []
  },
  {
   "cell_type": "code",
   "execution_count": 1699,
   "metadata": {},
   "outputs": [
    {
     "data": {
      "text/html": [
       "<div>\n",
       "<style scoped>\n",
       "    .dataframe tbody tr th:only-of-type {\n",
       "        vertical-align: middle;\n",
       "    }\n",
       "\n",
       "    .dataframe tbody tr th {\n",
       "        vertical-align: top;\n",
       "    }\n",
       "\n",
       "    .dataframe thead th {\n",
       "        text-align: right;\n",
       "    }\n",
       "</style>\n",
       "<table border=\"1\" class=\"dataframe\">\n",
       "  <thead>\n",
       "    <tr style=\"text-align: right;\">\n",
       "      <th></th>\n",
       "      <th>date</th>\n",
       "      <th>breed</th>\n",
       "      <th>color</th>\n",
       "      <th>name</th>\n",
       "      <th>sex</th>\n",
       "      <th>state</th>\n",
       "    </tr>\n",
       "  </thead>\n",
       "  <tbody>\n",
       "    <tr>\n",
       "      <th>0</th>\n",
       "      <td>1999-01-03t00:00:00+00:00</td>\n",
       "      <td>rotty x shep</td>\n",
       "      <td>black &amp; tan</td>\n",
       "      <td>tex</td>\n",
       "      <td>m/n</td>\n",
       "      <td>lost</td>\n",
       "    </tr>\n",
       "    <tr>\n",
       "      <th>1</th>\n",
       "      <td>1999-01-04t00:00:00+00:00</td>\n",
       "      <td>dog</td>\n",
       "      <td>light colour</td>\n",
       "      <td>None</td>\n",
       "      <td>m/n</td>\n",
       "      <td>found</td>\n",
       "    </tr>\n",
       "    <tr>\n",
       "      <th>2</th>\n",
       "      <td>1999-01-04t00:00:00+00:00</td>\n",
       "      <td>golden lab x</td>\n",
       "      <td>black &amp; tan</td>\n",
       "      <td>oscar</td>\n",
       "      <td>m</td>\n",
       "      <td>lost</td>\n",
       "    </tr>\n",
       "    <tr>\n",
       "      <th>3</th>\n",
       "      <td>1999-01-04t00:00:00+00:00</td>\n",
       "      <td>shep x</td>\n",
       "      <td>black &amp; tan</td>\n",
       "      <td>None</td>\n",
       "      <td>f</td>\n",
       "      <td>found</td>\n",
       "    </tr>\n",
       "    <tr>\n",
       "      <th>4</th>\n",
       "      <td>1999-01-04t00:00:00+00:00</td>\n",
       "      <td>shep x collie</td>\n",
       "      <td>black &amp; tan</td>\n",
       "      <td>angel</td>\n",
       "      <td>f</td>\n",
       "      <td>lost</td>\n",
       "    </tr>\n",
       "    <tr>\n",
       "      <th>...</th>\n",
       "      <td>...</td>\n",
       "      <td>...</td>\n",
       "      <td>...</td>\n",
       "      <td>...</td>\n",
       "      <td>...</td>\n",
       "      <td>...</td>\n",
       "    </tr>\n",
       "    <tr>\n",
       "      <th>17850</th>\n",
       "      <td>2025-07-29t00:00:00+00:00</td>\n",
       "      <td>basenji</td>\n",
       "      <td>black &amp; white body</td>\n",
       "      <td>winston</td>\n",
       "      <td>m/n</td>\n",
       "      <td>matched</td>\n",
       "    </tr>\n",
       "    <tr>\n",
       "      <th>17851</th>\n",
       "      <td>2025-07-29t00:00:00+00:00</td>\n",
       "      <td>cat - dlh - orange tabby</td>\n",
       "      <td>orange</td>\n",
       "      <td>celia</td>\n",
       "      <td>f</td>\n",
       "      <td>lost</td>\n",
       "    </tr>\n",
       "    <tr>\n",
       "      <th>17852</th>\n",
       "      <td>2025-07-29t00:00:00+00:00</td>\n",
       "      <td>pug/chihuahua x</td>\n",
       "      <td>tan</td>\n",
       "      <td>opie</td>\n",
       "      <td>m</td>\n",
       "      <td>lost</td>\n",
       "    </tr>\n",
       "    <tr>\n",
       "      <th>17853</th>\n",
       "      <td>2025-07-30t00:00:00+00:00</td>\n",
       "      <td>cat - dlh - calico</td>\n",
       "      <td>orange/white/black</td>\n",
       "      <td>olive</td>\n",
       "      <td>f/s</td>\n",
       "      <td>lost</td>\n",
       "    </tr>\n",
       "    <tr>\n",
       "      <th>17854</th>\n",
       "      <td>2025-07-30t00:00:00+00:00</td>\n",
       "      <td>cat - dsh - tuxedo</td>\n",
       "      <td>black &amp; white</td>\n",
       "      <td>socks</td>\n",
       "      <td>m/n</td>\n",
       "      <td>lost</td>\n",
       "    </tr>\n",
       "  </tbody>\n",
       "</table>\n",
       "<p>17855 rows × 6 columns</p>\n",
       "</div>"
      ],
      "text/plain": [
       "                            date                     breed  \\\n",
       "0      1999-01-03t00:00:00+00:00              rotty x shep   \n",
       "1      1999-01-04t00:00:00+00:00                       dog   \n",
       "2      1999-01-04t00:00:00+00:00              golden lab x   \n",
       "3      1999-01-04t00:00:00+00:00                    shep x   \n",
       "4      1999-01-04t00:00:00+00:00             shep x collie   \n",
       "...                          ...                       ...   \n",
       "17850  2025-07-29t00:00:00+00:00                   basenji   \n",
       "17851  2025-07-29t00:00:00+00:00  cat - dlh - orange tabby   \n",
       "17852  2025-07-29t00:00:00+00:00           pug/chihuahua x   \n",
       "17853  2025-07-30t00:00:00+00:00        cat - dlh - calico   \n",
       "17854  2025-07-30t00:00:00+00:00        cat - dsh - tuxedo   \n",
       "\n",
       "                    color     name  sex    state  \n",
       "0             black & tan      tex  m/n     lost  \n",
       "1            light colour     None  m/n    found  \n",
       "2             black & tan    oscar    m     lost  \n",
       "3             black & tan     None    f    found  \n",
       "4             black & tan    angel    f     lost  \n",
       "...                   ...      ...  ...      ...  \n",
       "17850  black & white body  winston  m/n  matched  \n",
       "17851              orange    celia    f     lost  \n",
       "17852                 tan     opie    m     lost  \n",
       "17853  orange/white/black    olive  f/s     lost  \n",
       "17854       black & white    socks  m/n     lost  \n",
       "\n",
       "[17855 rows x 6 columns]"
      ]
     },
     "execution_count": 1699,
     "metadata": {},
     "output_type": "execute_result"
    }
   ],
   "source": [
    "lf_df_clean"
   ]
  },
  {
   "cell_type": "markdown",
   "metadata": {},
   "source": [
    "Now we'll validate..."
   ]
  },
  {
   "cell_type": "code",
   "execution_count": 1700,
   "metadata": {},
   "outputs": [
    {
     "data": {
      "text/html": [
       "<div>\n",
       "<style scoped>\n",
       "    .dataframe tbody tr th:only-of-type {\n",
       "        vertical-align: middle;\n",
       "    }\n",
       "\n",
       "    .dataframe tbody tr th {\n",
       "        vertical-align: top;\n",
       "    }\n",
       "\n",
       "    .dataframe thead th {\n",
       "        text-align: right;\n",
       "    }\n",
       "</style>\n",
       "<table border=\"1\" class=\"dataframe\">\n",
       "  <thead>\n",
       "    <tr style=\"text-align: right;\">\n",
       "      <th></th>\n",
       "      <th>date</th>\n",
       "      <th>breed</th>\n",
       "      <th>color</th>\n",
       "      <th>name</th>\n",
       "      <th>sex</th>\n",
       "      <th>state</th>\n",
       "    </tr>\n",
       "  </thead>\n",
       "  <tbody>\n",
       "    <tr>\n",
       "      <th>3472</th>\n",
       "      <td>2002-03-14t00:00:00+00:00</td>\n",
       "      <td>rottie</td>\n",
       "      <td>black &amp; tan</td>\n",
       "      <td>None</td>\n",
       "      <td>m</td>\n",
       "      <td>lost</td>\n",
       "    </tr>\n",
       "  </tbody>\n",
       "</table>\n",
       "</div>"
      ],
      "text/plain": [
       "                           date   breed        color  name sex state\n",
       "3472  2002-03-14t00:00:00+00:00  rottie  black & tan  None   m  lost"
      ]
     },
     "execution_count": 1700,
     "metadata": {},
     "output_type": "execute_result"
    }
   ],
   "source": [
    "# Random sample of the lost and found table is all lowercase?\n",
    "lf_df_clean.sample(1)"
   ]
  },
  {
   "cell_type": "code",
   "execution_count": 1701,
   "metadata": {},
   "outputs": [
    {
     "data": {
      "text/html": [
       "<div>\n",
       "<style scoped>\n",
       "    .dataframe tbody tr th:only-of-type {\n",
       "        vertical-align: middle;\n",
       "    }\n",
       "\n",
       "    .dataframe tbody tr th {\n",
       "        vertical-align: top;\n",
       "    }\n",
       "\n",
       "    .dataframe thead th {\n",
       "        text-align: right;\n",
       "    }\n",
       "</style>\n",
       "<table border=\"1\" class=\"dataframe\">\n",
       "  <thead>\n",
       "    <tr style=\"text-align: right;\">\n",
       "      <th></th>\n",
       "      <th>breed</th>\n",
       "      <th>shotsdate</th>\n",
       "      <th>sex</th>\n",
       "      <th>receiptnumber</th>\n",
       "      <th>dateimpounded</th>\n",
       "      <th>pitnumber</th>\n",
       "      <th>name</th>\n",
       "      <th>kennelnumber</th>\n",
       "      <th>dispositiondate</th>\n",
       "      <th>color</th>\n",
       "      <th>code</th>\n",
       "      <th>approxweight</th>\n",
       "      <th>agecategory</th>\n",
       "      <th>source</th>\n",
       "      <th>status</th>\n",
       "      <th>aco</th>\n",
       "    </tr>\n",
       "    <tr>\n",
       "      <th>AnimalID</th>\n",
       "      <th></th>\n",
       "      <th></th>\n",
       "      <th></th>\n",
       "      <th></th>\n",
       "      <th></th>\n",
       "      <th></th>\n",
       "      <th></th>\n",
       "      <th></th>\n",
       "      <th></th>\n",
       "      <th></th>\n",
       "      <th></th>\n",
       "      <th></th>\n",
       "      <th></th>\n",
       "      <th></th>\n",
       "      <th></th>\n",
       "      <th></th>\n",
       "    </tr>\n",
       "  </thead>\n",
       "  <tbody>\n",
       "    <tr>\n",
       "      <th>24169</th>\n",
       "      <td>labrador</td>\n",
       "      <td>2013-04-17</td>\n",
       "      <td>m/n</td>\n",
       "      <td>13-385870da</td>\n",
       "      <td>2013-05-09</td>\n",
       "      <td>20088.0</td>\n",
       "      <td>dooley</td>\n",
       "      <td>200</td>\n",
       "      <td>2013-07-10</td>\n",
       "      <td>tan</td>\n",
       "      <td>blue</td>\n",
       "      <td>70</td>\n",
       "      <td>young adult</td>\n",
       "      <td>transferred</td>\n",
       "      <td>sold</td>\n",
       "      <td>ke</td>\n",
       "    </tr>\n",
       "  </tbody>\n",
       "</table>\n",
       "</div>"
      ],
      "text/plain": [
       "             breed   shotsdate  sex receiptnumber dateimpounded  pitnumber  \\\n",
       "AnimalID                                                                     \n",
       "24169     labrador  2013-04-17  m/n   13-385870da    2013-05-09    20088.0   \n",
       "\n",
       "            name kennelnumber dispositiondate color  code approxweight  \\\n",
       "AnimalID                                                                 \n",
       "24169     dooley          200      2013-07-10   tan  blue           70   \n",
       "\n",
       "          agecategory       source status aco  \n",
       "AnimalID                                       \n",
       "24169     young adult  transferred   sold  ke  "
      ]
     },
     "execution_count": 1701,
     "metadata": {},
     "output_type": "execute_result"
    }
   ],
   "source": [
    "# Random sample of the register table is all lowercase?\n",
    "reg_df_clean.dropna().sample(1) # dropna will prevent NaN -> \"NaN\""
   ]
  },
  {
   "cell_type": "code",
   "execution_count": 1702,
   "metadata": {},
   "outputs": [
    {
     "data": {
      "text/plain": [
       "True"
      ]
     },
     "execution_count": 1702,
     "metadata": {},
     "output_type": "execute_result"
    }
   ],
   "source": [
    "# All columns lowercase?\n",
    "str(reg_df_clean.columns.tolist()).islower()"
   ]
  },
  {
   "cell_type": "markdown",
   "metadata": {
    "id": "FmFhN52Yyn3l"
   },
   "source": [
    "### **Quality Issue 1: to '&' or to 'and?'**"
   ]
  },
  {
   "cell_type": "markdown",
   "metadata": {},
   "source": [
    "For the issue of inconsistent formatting in the lost and found data's `color` column, we will just remove the \"&\" and \"and\" strings, parsing the results out into a list. This gets it split out into something ready for us to access programatically right out of the gate.\n",
    "\n",
    "This cleaning will be applied to both datasets, as I noticed that (understandably), the same issue exists within the register dataset.\n",
    "\n",
    "We will need to start off by handling the null values in the `color` column, though, so that we don't have to repeat the same steps of converting it to an array with the second quality issue."
   ]
  },
  {
   "cell_type": "code",
   "execution_count": 1703,
   "metadata": {},
   "outputs": [],
   "source": [
    "# Getting ahead of ourselves a bit, but handling null color values\n",
    "lf_df_clean.fillna({'color':'unknown'}, inplace=True)\n",
    "reg_df_clean.fillna({'color':'unknown'}, inplace=True)"
   ]
  },
  {
   "cell_type": "code",
   "execution_count": 1704,
   "metadata": {
    "id": "9UejDWrNMW4a"
   },
   "outputs": [],
   "source": [
    "# Replace \" w/\", \"/\", \" and \", \"&\", \" with \" with \"|\", then split into array on \"|\"\n",
    "pattern = r\"( w\\/| [^\\w\\s] | and |/| with )\"\n",
    "lf_df_clean['color'] = lf_df_clean['color'].str.replace(pat=pattern, repl=\"|\", regex=True)\n",
    "lf_df_clean['color'] = lf_df_clean['color'].str.split(\"|\")\n",
    "\n",
    "# The same thing, but for reg_df\n",
    "reg_df_clean['color'] = reg_df_clean['color'].str.replace(pat=pattern, repl=\"|\", regex=True)\n",
    "# we aren't going to split, yet, as this will cause some errors with the next quality issue."
   ]
  },
  {
   "cell_type": "code",
   "execution_count": 1705,
   "metadata": {
    "id": "oUBee-LPytkv"
   },
   "outputs": [
    {
     "data": {
      "text/plain": [
       "13503    [greyish brown,  white]\n",
       "7467                    [blonde]\n",
       "13140              [grey, black]\n",
       "5936                     [white]\n",
       "1720                [black, tan]\n",
       "Name: color, dtype: object"
      ]
     },
     "execution_count": 1705,
     "metadata": {},
     "output_type": "execute_result"
    }
   ],
   "source": [
    "# Validation cleaning succeeded for lost and found data\n",
    "lf_df_clean['color'].sample(5)"
   ]
  },
  {
   "cell_type": "code",
   "execution_count": 1706,
   "metadata": {},
   "outputs": [
    {
     "data": {
      "text/plain": [
       "AnimalID\n",
       "327           blk|tan\n",
       "7339              tan\n",
       "6773        black|tan\n",
       "10042     black|white\n",
       "35473    cream|yellow\n",
       "Name: color, dtype: object"
      ]
     },
     "execution_count": 1706,
     "metadata": {},
     "output_type": "execute_result"
    }
   ],
   "source": [
    "# Validation on register data\n",
    "reg_df_clean['color'].sample(5)"
   ]
  },
  {
   "cell_type": "code",
   "execution_count": 1707,
   "metadata": {},
   "outputs": [
    {
     "name": "stdout",
     "output_type": "stream",
     "text": [
      "Reddish Blonde -> ['reddish blonde']\n",
      "Cream  & Rust -> ['cream ', 'rust']\n",
      "Grey & White & Black -> ['grey', 'white', 'black']\n",
      "\n",
      "Splitting reg_df_clean will happen later\n",
      "Black -> black\n",
      "Black & White -> black|white\n",
      "Brown -> brown\n"
     ]
    }
   ],
   "source": [
    "# Further validation\n",
    "# Before -> After\n",
    "print(lf_df.iloc[372].color, \"->\", lf_df_clean.iloc[372].color)\n",
    "print(lf_df.iloc[424].color, \"->\", lf_df_clean.iloc[424].color)\n",
    "print(lf_df.iloc[439].color, \"->\", lf_df_clean.iloc[439].color)\n",
    "print(\"\\nSplitting reg_df_clean will happen later\")\n",
    "print(reg_df.iloc[372].Color, \"->\", reg_df_clean.iloc[372].color)\n",
    "print(reg_df.iloc[424].Color, \"->\", reg_df_clean.iloc[424].color)\n",
    "print(reg_df.iloc[439].Color, \"->\", reg_df_clean.iloc[439].color)"
   ]
  },
  {
   "cell_type": "markdown",
   "metadata": {},
   "source": [
    "Justification: In order to normalize a large majority of the colors in these datasets, which makes them significantly easier to compare. It also will make our aggregation results a bit more reliable since there won't be differences in using \"&\" vs. \"and.\""
   ]
  },
  {
   "cell_type": "markdown",
   "metadata": {
    "id": "n_DAUbJrymBL"
   },
   "source": [
    "### **Quality Issue 2: Handling Nulls and Duplicates**"
   ]
  },
  {
   "cell_type": "markdown",
   "metadata": {},
   "source": [
    "There are lots of null values throughout the datasets, which then requires us to handle them specially. If we instead set them to a string, this will simplify life a tad. We also don't want duplicate values, as they are just redundant records. Thankfully, dupes are only in the register data.\n",
    "\n",
    "We'll start by dropping what we don't want, being duplicates and a few columns that don't help answer our question."
   ]
  },
  {
   "cell_type": "code",
   "execution_count": 1708,
   "metadata": {},
   "outputs": [],
   "source": [
    "cols_to_drop = ['shotsdate','kennelnumber', 'pitnumber', 'code', 'aco']\n",
    "reg_df_clean.drop(columns=cols_to_drop, axis=1, inplace=True)"
   ]
  },
  {
   "cell_type": "code",
   "execution_count": 1709,
   "metadata": {},
   "outputs": [
    {
     "name": "stdout",
     "output_type": "stream",
     "text": [
      "['breed', 'sex', 'receiptnumber', 'dateimpounded', 'name', 'dispositiondate', 'approxweight', 'agecategory', 'source', 'status']\n",
      "Pre-drop:\n",
      " False    25999\n",
      "True       101\n",
      "Name: count, dtype: int64\n"
     ]
    }
   ],
   "source": [
    "sub = reg_df_clean.columns.to_list()\n",
    "sub.pop(sub.index('color'))\n",
    "print(sub)\n",
    "\n",
    "print(\"Pre-drop:\\n\", reg_df_clean[sub].duplicated().value_counts())\n",
    "reg_df_clean.drop_duplicates(subset=sub, inplace=True)  # throws error when lists are included\n",
    "\n",
    "# Prevent indexing disparity\n",
    "# reg_df_clean.reset_index(inplace=True, drop=True)"
   ]
  },
  {
   "cell_type": "code",
   "execution_count": 1710,
   "metadata": {},
   "outputs": [
    {
     "name": "stdout",
     "output_type": "stream",
     "text": [
      "Pre-drop:\n",
      " False    17828\n",
      "True        27\n",
      "Name: count, dtype: int64\n"
     ]
    }
   ],
   "source": [
    "sub = lf_df_clean.columns.to_list()\n",
    "sub.pop(sub.index('color'))\n",
    "\n",
    "print(\"Pre-drop:\\n\", lf_df_clean[sub].duplicated().value_counts())\n",
    "lf_df_clean.drop_duplicates(subset=sub, inplace=True)  # throws error when lists are included\n",
    "\n",
    "# Prevent indexing disparity\n",
    "lf_df_clean.reset_index(inplace=True, drop=True)"
   ]
  },
  {
   "cell_type": "markdown",
   "metadata": {},
   "source": [
    "Now we can validate that our changes did what we intended"
   ]
  },
  {
   "cell_type": "code",
   "execution_count": 1711,
   "metadata": {},
   "outputs": [
    {
     "name": "stdout",
     "output_type": "stream",
     "text": [
      "True -> False\n"
     ]
    }
   ],
   "source": [
    "# Before -> After\n",
    "print(reg_df.duplicated().any(), \"->\", reg_df_clean.duplicated().any())"
   ]
  },
  {
   "cell_type": "markdown",
   "metadata": {},
   "source": [
    "We'd get an error reporting that a list is not hashable if we tried to `drop_duplicates` or look for `duplicated` rows on a split `color` column. Since we have all of that handled, we can split it into a list now."
   ]
  },
  {
   "cell_type": "code",
   "execution_count": 1712,
   "metadata": {},
   "outputs": [],
   "source": [
    "reg_df_clean['color'] = reg_df_clean['color'].str.split(\"|\")"
   ]
  },
  {
   "cell_type": "code",
   "execution_count": 1713,
   "metadata": {
    "id": "5Yfb-Yu5MTuE"
   },
   "outputs": [],
   "source": [
    "#FILL IN - Apply the cleaning strategy\n",
    "lf_df_clean.fillna('unknown', inplace=True)\n",
    "reg_df_clean.fillna('unknown', inplace=True)"
   ]
  },
  {
   "cell_type": "code",
   "execution_count": 1714,
   "metadata": {
    "id": "ionB2sRaMUmY"
   },
   "outputs": [
    {
     "data": {
      "text/plain": [
       "breed              False\n",
       "sex                False\n",
       "receiptnumber      False\n",
       "dateimpounded      False\n",
       "name               False\n",
       "dispositiondate    False\n",
       "color              False\n",
       "approxweight       False\n",
       "agecategory        False\n",
       "source             False\n",
       "status             False\n",
       "dtype: bool"
      ]
     },
     "execution_count": 1714,
     "metadata": {},
     "output_type": "execute_result"
    }
   ],
   "source": [
    "#FILL IN - Validate the cleaning was successful\n",
    "reg_df_clean.isnull().any()"
   ]
  },
  {
   "cell_type": "code",
   "execution_count": 1715,
   "metadata": {},
   "outputs": [
    {
     "data": {
      "text/plain": [
       "date     False\n",
       "breed    False\n",
       "color    False\n",
       "name     False\n",
       "sex      False\n",
       "state    False\n",
       "dtype: bool"
      ]
     },
     "execution_count": 1715,
     "metadata": {},
     "output_type": "execute_result"
    }
   ],
   "source": [
    "lf_df_clean.isnull().any()"
   ]
  },
  {
   "cell_type": "markdown",
   "metadata": {},
   "source": [
    "Justification: Now that we have our nulls and duplicates handled, our data should be less tricky to work with, especially with aggregation, comparison, and enhancement."
   ]
  },
  {
   "cell_type": "markdown",
   "metadata": {
    "id": "bIUrrfSNyOPR"
   },
   "source": [
    "### **Tidiness Issue 1: Multiple Animals in Some Rows**"
   ]
  },
  {
   "cell_type": "markdown",
   "metadata": {},
   "source": [
    "This particular issue in the lost and found table, as I observed in the `breed` and `name` column, breaks the tidiness rule of \"a single row for a single observation.\" It makes sense in terms of inputting the data into a record system that you would want this information in the same record, as that is also probably associated with a point of contact and it de-duplicates efforts, however it will not be helpful for our purposes. \n",
    "\n",
    "It's entirely possible that an animal was found separately from the second animal that was reported, or that they were input into the register as separate records. We'll clean up this issue by handling the `name` and `breed` column similarly to how we dealt with the `color` column.\n",
    "\n",
    "We could handle the `color` column (since animals aren't always the same color), but that should have been done before during this step as well, however that was quality issue, not a tidiness issue, and this is a project for school. I presume that it's best to just leave things in this order and not stray even further from the template."
   ]
  },
  {
   "cell_type": "code",
   "execution_count": 1716,
   "metadata": {
    "id": "fib0zAm333bn"
   },
   "outputs": [],
   "source": [
    "# Save indices for future access/removal.\n",
    "lf_df_index_amp = lf_df_clean[lf_df_clean['name'].str.contains(\" & \")].index\n",
    "lf_df_index_and = lf_df_clean[lf_df_clean['name'].str.contains(\" and \")].index"
   ]
  },
  {
   "cell_type": "code",
   "execution_count": 1717,
   "metadata": {},
   "outputs": [],
   "source": [
    "clean_and = lf_df_clean.iloc[lf_df_index_and]['name'].apply(lambda x: x.split(\" and \"))\n",
    "clean_amp = lf_df_clean.iloc[lf_df_index_amp]['name'].apply(lambda x: x.split(\" & \"))"
   ]
  },
  {
   "cell_type": "code",
   "execution_count": 1718,
   "metadata": {},
   "outputs": [
    {
     "name": "stdout",
     "output_type": "stream",
     "text": [
      "date     1999-04-10t00:00:00+00:00\n",
      "breed        lab x collie x beagle\n",
      "color             [two black dogs]\n",
      "name                coco and wayne\n",
      "sex                              m\n",
      "state                        found\n",
      "Name: 227, dtype: object\n",
      "date     2000-02-07t00:00:00+00:00\n",
      "breed                rottys-2 dogs\n",
      "color                 [black, tan]\n",
      "name               starsky & hutch\n",
      "sex                            m/n\n",
      "state                      matched\n",
      "Name: 1142, dtype: object\n"
     ]
    }
   ],
   "source": [
    "# Before change implemented\n",
    "print(lf_df_clean.iloc[227])\n",
    "print(lf_df_clean.iloc[1142])"
   ]
  },
  {
   "cell_type": "code",
   "execution_count": 1719,
   "metadata": {},
   "outputs": [
    {
     "name": "stdout",
     "output_type": "stream",
     "text": [
      "date     1999-04-10t00:00:00+00:00\n",
      "breed        lab x collie x beagle\n",
      "color             [two black dogs]\n",
      "name                 [coco, wayne]\n",
      "sex                              m\n",
      "state                        found\n",
      "Name: 227, dtype: object\n",
      "date     2000-02-07t00:00:00+00:00\n",
      "breed                rottys-2 dogs\n",
      "color                 [black, tan]\n",
      "name              [starsky, hutch]\n",
      "sex                            m/n\n",
      "state                      matched\n",
      "Name: 1142, dtype: object\n"
     ]
    }
   ],
   "source": [
    "# Change + validation\n",
    "lf_df_clean['name'].iloc[clean_and.index] = clean_and\n",
    "print(lf_df_clean.iloc[227])\n",
    "\n",
    "lf_df_clean['name'].iloc[clean_amp.index] = clean_amp\n",
    "print(lf_df_clean.iloc[1142])"
   ]
  },
  {
   "cell_type": "code",
   "execution_count": 1720,
   "metadata": {},
   "outputs": [
    {
     "data": {
      "text/plain": [
       "date     1999-04-10t00:00:00+00:00\n",
       "breed        lab x collie x beagle\n",
       "color             [two black dogs]\n",
       "name                 [coco, wayne]\n",
       "sex                              m\n",
       "state                        found\n",
       "Name: 227, dtype: object"
      ]
     },
     "execution_count": 1720,
     "metadata": {},
     "output_type": "execute_result"
    }
   ],
   "source": [
    "lf_df_clean.iloc[227]"
   ]
  },
  {
   "cell_type": "code",
   "execution_count": 1721,
   "metadata": {},
   "outputs": [
    {
     "name": "stdout",
     "output_type": "stream",
     "text": [
      "False\n",
      "False\n"
     ]
    }
   ],
   "source": [
    "# Further validation \n",
    "print(lf_df_clean['name'].str.contains(\" and \").any())\n",
    "print(lf_df_clean['name'].str.contains(\" & \").any())"
   ]
  },
  {
   "cell_type": "markdown",
   "metadata": {},
   "source": [
    "Finally, we will need to split the rows that have list in `name` into separate rows, then reindex the entire dataframe."
   ]
  },
  {
   "cell_type": "code",
   "execution_count": 1722,
   "metadata": {},
   "outputs": [
    {
     "data": {
      "text/plain": [
       "['date', 'breed', 'color', 'sex', 'state']"
      ]
     },
     "execution_count": 1722,
     "metadata": {},
     "output_type": "execute_result"
    }
   ],
   "source": [
    "cols = lf_df_clean.columns.tolist()\n",
    "cols.pop(cols.index(\"name\"))\n",
    "cols"
   ]
  },
  {
   "cell_type": "code",
   "execution_count": 1723,
   "metadata": {},
   "outputs": [],
   "source": [
    "# Since lists aren't hashable, convert all color lists to strings\n",
    "lf_df_clean.color = lf_df_clean.color.apply(lambda x: \"|\".join(x))\n",
    "\n",
    "# Which allows us to maintain the data in a row even when we split it with explode()\n",
    "lf_df_clean.set_index(cols, inplace=True)"
   ]
  },
  {
   "cell_type": "code",
   "execution_count": 1724,
   "metadata": {},
   "outputs": [
    {
     "data": {
      "text/html": [
       "<div>\n",
       "<style scoped>\n",
       "    .dataframe tbody tr th:only-of-type {\n",
       "        vertical-align: middle;\n",
       "    }\n",
       "\n",
       "    .dataframe tbody tr th {\n",
       "        vertical-align: top;\n",
       "    }\n",
       "\n",
       "    .dataframe thead th {\n",
       "        text-align: right;\n",
       "    }\n",
       "</style>\n",
       "<table border=\"1\" class=\"dataframe\">\n",
       "  <thead>\n",
       "    <tr style=\"text-align: right;\">\n",
       "      <th></th>\n",
       "      <th></th>\n",
       "      <th></th>\n",
       "      <th></th>\n",
       "      <th></th>\n",
       "      <th>name</th>\n",
       "    </tr>\n",
       "    <tr>\n",
       "      <th>date</th>\n",
       "      <th>breed</th>\n",
       "      <th>color</th>\n",
       "      <th>sex</th>\n",
       "      <th>state</th>\n",
       "      <th></th>\n",
       "    </tr>\n",
       "  </thead>\n",
       "  <tbody>\n",
       "    <tr>\n",
       "      <th>1999-01-03t00:00:00+00:00</th>\n",
       "      <th>rotty x shep</th>\n",
       "      <th>black|tan</th>\n",
       "      <th>m/n</th>\n",
       "      <th>lost</th>\n",
       "      <td>tex</td>\n",
       "    </tr>\n",
       "    <tr>\n",
       "      <th rowspan=\"4\" valign=\"top\">1999-01-04t00:00:00+00:00</th>\n",
       "      <th>dog</th>\n",
       "      <th>light colour</th>\n",
       "      <th>m/n</th>\n",
       "      <th>found</th>\n",
       "      <td>unknown</td>\n",
       "    </tr>\n",
       "    <tr>\n",
       "      <th>golden lab x</th>\n",
       "      <th>black|tan</th>\n",
       "      <th>m</th>\n",
       "      <th>lost</th>\n",
       "      <td>oscar</td>\n",
       "    </tr>\n",
       "    <tr>\n",
       "      <th>shep x</th>\n",
       "      <th>black|tan</th>\n",
       "      <th>f</th>\n",
       "      <th>found</th>\n",
       "      <td>unknown</td>\n",
       "    </tr>\n",
       "    <tr>\n",
       "      <th>shep x collie</th>\n",
       "      <th>black|tan</th>\n",
       "      <th>f</th>\n",
       "      <th>lost</th>\n",
       "      <td>angel</td>\n",
       "    </tr>\n",
       "    <tr>\n",
       "      <th>...</th>\n",
       "      <th>...</th>\n",
       "      <th>...</th>\n",
       "      <th>...</th>\n",
       "      <th>...</th>\n",
       "      <td>...</td>\n",
       "    </tr>\n",
       "    <tr>\n",
       "      <th rowspan=\"3\" valign=\"top\">2025-07-29t00:00:00+00:00</th>\n",
       "      <th>basenji</th>\n",
       "      <th>black|white body</th>\n",
       "      <th>m/n</th>\n",
       "      <th>matched</th>\n",
       "      <td>winston</td>\n",
       "    </tr>\n",
       "    <tr>\n",
       "      <th>cat - dlh - orange tabby</th>\n",
       "      <th>orange</th>\n",
       "      <th>f</th>\n",
       "      <th>lost</th>\n",
       "      <td>celia</td>\n",
       "    </tr>\n",
       "    <tr>\n",
       "      <th>pug/chihuahua x</th>\n",
       "      <th>tan</th>\n",
       "      <th>m</th>\n",
       "      <th>lost</th>\n",
       "      <td>opie</td>\n",
       "    </tr>\n",
       "    <tr>\n",
       "      <th rowspan=\"2\" valign=\"top\">2025-07-30t00:00:00+00:00</th>\n",
       "      <th>cat - dlh - calico</th>\n",
       "      <th>orange|white|black</th>\n",
       "      <th>f/s</th>\n",
       "      <th>lost</th>\n",
       "      <td>olive</td>\n",
       "    </tr>\n",
       "    <tr>\n",
       "      <th>cat - dsh - tuxedo</th>\n",
       "      <th>black|white</th>\n",
       "      <th>m/n</th>\n",
       "      <th>lost</th>\n",
       "      <td>socks</td>\n",
       "    </tr>\n",
       "  </tbody>\n",
       "</table>\n",
       "<p>17828 rows × 1 columns</p>\n",
       "</div>"
      ],
      "text/plain": [
       "                                                                                      name\n",
       "date                      breed                    color              sex state           \n",
       "1999-01-03t00:00:00+00:00 rotty x shep             black|tan          m/n lost         tex\n",
       "1999-01-04t00:00:00+00:00 dog                      light colour       m/n found    unknown\n",
       "                          golden lab x             black|tan          m   lost       oscar\n",
       "                          shep x                   black|tan          f   found    unknown\n",
       "                          shep x collie            black|tan          f   lost       angel\n",
       "...                                                                                    ...\n",
       "2025-07-29t00:00:00+00:00 basenji                  black|white body   m/n matched  winston\n",
       "                          cat - dlh - orange tabby orange             f   lost       celia\n",
       "                          pug/chihuahua x          tan                m   lost        opie\n",
       "2025-07-30t00:00:00+00:00 cat - dlh - calico       orange|white|black f/s lost       olive\n",
       "                          cat - dsh - tuxedo       black|white        m/n lost       socks\n",
       "\n",
       "[17828 rows x 1 columns]"
      ]
     },
     "execution_count": 1724,
     "metadata": {},
     "output_type": "execute_result"
    }
   ],
   "source": [
    "lf_df_clean"
   ]
  },
  {
   "cell_type": "code",
   "execution_count": 1740,
   "metadata": {},
   "outputs": [
    {
     "data": {
      "text/html": [
       "<div>\n",
       "<style scoped>\n",
       "    .dataframe tbody tr th:only-of-type {\n",
       "        vertical-align: middle;\n",
       "    }\n",
       "\n",
       "    .dataframe tbody tr th {\n",
       "        vertical-align: top;\n",
       "    }\n",
       "\n",
       "    .dataframe thead th {\n",
       "        text-align: right;\n",
       "    }\n",
       "</style>\n",
       "<table border=\"1\" class=\"dataframe\">\n",
       "  <thead>\n",
       "    <tr style=\"text-align: right;\">\n",
       "      <th></th>\n",
       "      <th>date</th>\n",
       "      <th>breed</th>\n",
       "      <th>color</th>\n",
       "      <th>sex</th>\n",
       "      <th>state</th>\n",
       "      <th>name</th>\n",
       "    </tr>\n",
       "  </thead>\n",
       "  <tbody>\n",
       "    <tr>\n",
       "      <th>227</th>\n",
       "      <td>1999-04-10t00:00:00+00:00</td>\n",
       "      <td>lab x collie x beagle</td>\n",
       "      <td>[two black dogs]</td>\n",
       "      <td>m</td>\n",
       "      <td>found</td>\n",
       "      <td>coco</td>\n",
       "    </tr>\n",
       "    <tr>\n",
       "      <th>228</th>\n",
       "      <td>1999-04-10t00:00:00+00:00</td>\n",
       "      <td>lab x collie x beagle</td>\n",
       "      <td>[two black dogs]</td>\n",
       "      <td>m</td>\n",
       "      <td>found</td>\n",
       "      <td>wayne</td>\n",
       "    </tr>\n",
       "    <tr>\n",
       "      <th>229</th>\n",
       "      <td>1999-04-10t00:00:00+00:00</td>\n",
       "      <td>maltipoo</td>\n",
       "      <td>[black, white]</td>\n",
       "      <td>m</td>\n",
       "      <td>lost</td>\n",
       "      <td>barney</td>\n",
       "    </tr>\n",
       "  </tbody>\n",
       "</table>\n",
       "</div>"
      ],
      "text/plain": [
       "                          date                  breed             color sex  \\\n",
       "227  1999-04-10t00:00:00+00:00  lab x collie x beagle  [two black dogs]   m   \n",
       "228  1999-04-10t00:00:00+00:00  lab x collie x beagle  [two black dogs]   m   \n",
       "229  1999-04-10t00:00:00+00:00               maltipoo    [black, white]   m   \n",
       "\n",
       "     state    name  \n",
       "227  found    coco  \n",
       "228  found   wayne  \n",
       "229   lost  barney  "
      ]
     },
     "execution_count": 1740,
     "metadata": {},
     "output_type": "execute_result"
    }
   ],
   "source": [
    "# Turn list of names into separate rows using explode\n",
    "lf_df_clean = lf_df_clean.explode('name')\n",
    "lf_df_clean.iloc[227:230]  # both rows will have the same index"
   ]
  },
  {
   "cell_type": "code",
   "execution_count": 1726,
   "metadata": {},
   "outputs": [],
   "source": [
    "lf_df_clean.reset_index(inplace=True)  # Revert changes and retain columns for all rows\n",
    "lf_df_clean.color = lf_df_clean.color.apply(lambda x: x.split(\"|\")) # Re-cast color as a list"
   ]
  },
  {
   "cell_type": "code",
   "execution_count": 1737,
   "metadata": {},
   "outputs": [
    {
     "data": {
      "text/html": [
       "<div>\n",
       "<style scoped>\n",
       "    .dataframe tbody tr th:only-of-type {\n",
       "        vertical-align: middle;\n",
       "    }\n",
       "\n",
       "    .dataframe tbody tr th {\n",
       "        vertical-align: top;\n",
       "    }\n",
       "\n",
       "    .dataframe thead th {\n",
       "        text-align: right;\n",
       "    }\n",
       "</style>\n",
       "<table border=\"1\" class=\"dataframe\">\n",
       "  <thead>\n",
       "    <tr style=\"text-align: right;\">\n",
       "      <th></th>\n",
       "      <th>date</th>\n",
       "      <th>breed</th>\n",
       "      <th>color</th>\n",
       "      <th>sex</th>\n",
       "      <th>state</th>\n",
       "      <th>name</th>\n",
       "    </tr>\n",
       "  </thead>\n",
       "  <tbody>\n",
       "    <tr>\n",
       "      <th>227</th>\n",
       "      <td>1999-04-10t00:00:00+00:00</td>\n",
       "      <td>lab x collie x beagle</td>\n",
       "      <td>[two black dogs]</td>\n",
       "      <td>m</td>\n",
       "      <td>found</td>\n",
       "      <td>coco</td>\n",
       "    </tr>\n",
       "    <tr>\n",
       "      <th>228</th>\n",
       "      <td>1999-04-10t00:00:00+00:00</td>\n",
       "      <td>lab x collie x beagle</td>\n",
       "      <td>[two black dogs]</td>\n",
       "      <td>m</td>\n",
       "      <td>found</td>\n",
       "      <td>wayne</td>\n",
       "    </tr>\n",
       "    <tr>\n",
       "      <th>229</th>\n",
       "      <td>1999-04-10t00:00:00+00:00</td>\n",
       "      <td>maltipoo</td>\n",
       "      <td>[black, white]</td>\n",
       "      <td>m</td>\n",
       "      <td>lost</td>\n",
       "      <td>barney</td>\n",
       "    </tr>\n",
       "  </tbody>\n",
       "</table>\n",
       "</div>"
      ],
      "text/plain": [
       "                          date                  breed             color sex  \\\n",
       "227  1999-04-10t00:00:00+00:00  lab x collie x beagle  [two black dogs]   m   \n",
       "228  1999-04-10t00:00:00+00:00  lab x collie x beagle  [two black dogs]   m   \n",
       "229  1999-04-10t00:00:00+00:00               maltipoo    [black, white]   m   \n",
       "\n",
       "     state    name  \n",
       "227  found    coco  \n",
       "228  found   wayne  \n",
       "229   lost  barney  "
      ]
     },
     "execution_count": 1737,
     "metadata": {},
     "output_type": "execute_result"
    }
   ],
   "source": [
    "# Validation\n",
    "lf_df_clean.iloc[227:230]"
   ]
  },
  {
   "cell_type": "code",
   "execution_count": 1739,
   "metadata": {},
   "outputs": [
    {
     "data": {
      "text/plain": [
       "list"
      ]
     },
     "execution_count": 1739,
     "metadata": {},
     "output_type": "execute_result"
    }
   ],
   "source": [
    "# Confirming color was changed back to a list\n",
    "type(lf_df_clean.iloc[0].color)"
   ]
  },
  {
   "cell_type": "code",
   "execution_count": 1425,
   "metadata": {},
   "outputs": [
    {
     "data": {
      "text/plain": [
       "['coco', 'wayne']"
      ]
     },
     "execution_count": 1425,
     "metadata": {},
     "output_type": "execute_result"
    }
   ],
   "source": [
    "# Previously, the name field for Coco and Wayne looked like this\n",
    "clean_and.iloc[0]"
   ]
  },
  {
   "cell_type": "markdown",
   "metadata": {},
   "source": [
    "Justification: Now, we are no longer storing two dogs in one row, thus making this data just a bit tidier. By splitting with the somewhat highly prevalent usage of \"&\" and \"and,\" we are able to get closer to a more accurate count of how many dogs were reported lost, as well as more easily allowing us to join based on the `name` column.\n",
    "\n",
    "One limitation with this approach is that we are not doing anything about the color for the specific animal we split out into a new row. If we addressed this issue before we handled `color` in the quality steps, we may be able to have the correct color for each animal, rather than a list of colors in for two animals. I do not forsee this causing many issues as we will be using more than just a color to try and match animals when I combine the data."
   ]
  },
  {
   "cell_type": "markdown",
   "metadata": {
    "id": "o51Bt8kwyTzk"
   },
   "source": [
    "### **Tidiness Issue 2: Tracking Multiple Variables in One Column**"
   ]
  },
  {
   "cell_type": "markdown",
   "metadata": {},
   "source": [
    "In the register dataset, there are multiple occurences of the string \"(New name).\" I'd consider this a different variable that could be represented in a separate column, since it isn't part of there name. Rather, it is an aspect or quality of the name. In our case, however, we are just doing to remove every occurence of that \"(New name)\" string.\n",
    "\n",
    "A similar issue comes up in the `breed` column, where we see \"`X`\" in place of \"`mix`\" and strings like \"`Black Lab`\". I will split out the \"`mix`\" portion into another column to reduce the number of unique `breed` strings."
   ]
  },
  {
   "cell_type": "code",
   "execution_count": 1808,
   "metadata": {
    "id": "7zW8O5yx4Y9O"
   },
   "outputs": [],
   "source": [
    "# Remove undesired strings and replace if necessary\n",
    "lf_df_clean['breed'] = lf_df_clean['breed'].str.replace(\"\\s[xX]\", \" mix\", regex=True)\n",
    "lf_df_clean['name'] = lf_df_clean['name'].str.replace(\"\\(?[Nn]ew [Nn]ame\\)?\", \"\", regex=True)\n",
    "\n",
    "lf_df_clean['breed'] = lf_df_clean['breed'].str.strip()\n",
    "lf_df_clean['name'] = lf_df_clean['name'].str.strip()"
   ]
  },
  {
   "cell_type": "code",
   "execution_count": 1809,
   "metadata": {
    "id": "q6I_Sr7lxXi5"
   },
   "outputs": [
    {
     "name": "stdout",
     "output_type": "stream",
     "text": [
      "False\n",
      "False\n"
     ]
    }
   ],
   "source": [
    "# Validate the cleaning was successful\n",
    "print(lf_df_clean['breed'].str.contains(\"\\s[xX]\", regex=True).any())\n",
    "print(lf_df_clean['name'].str.contains(\"[Nn]ew [Nn]ame\", regex=True).any())"
   ]
  },
  {
   "cell_type": "markdown",
   "metadata": {},
   "source": [
    "Justification: We removed the additional variable in the `name` column denoting a given animal's name as a \"new name\", which removes likely superfluous information and simplifys the handling of a large majority of names. \n",
    "\n",
    "By expanding the shorthand used for \"mix\" in the `breed` column, we somewhat address the tidiness issue where the breed column is storing multiple variables in the multiple breeds. There are better ways to address this that would take more cycles of cleaning, but now \"mix\" can act as a sort of flag for further operations. Given more time, I would create 2 more columns: one for `primary_breed` column, and `mix_breed` column that lists the other mixes (or `none` for purebred, `unknown` for \"mutts\").\n",
    "\n",
    "Both of these actions aid in answering our question because they prevent potential false negatives due to the \"new name\" string, as well as give us a string to ignore when matching, but to review when manually investigating results with the \"mix\" string. Effectively, it lets us ignore just \"mix\" instead of both it and \" x\" or \" X\"."
   ]
  },
  {
   "cell_type": "markdown",
   "metadata": {},
   "source": [
    "### **A few extra bits of cleaning**"
   ]
  },
  {
   "cell_type": "code",
   "execution_count": null,
   "metadata": {},
   "outputs": [],
   "source": [
    "# Conforming to one date format by trimming off at and after the \"T\" for ISO 8601\n"
   ]
  },
  {
   "cell_type": "markdown",
   "metadata": {
    "id": "F42urHuzttjF"
   },
   "source": [
    "## 4. Update your data store\n",
    "Update your local database/data store with the cleaned data, following best practices for storing your cleaned data:\n",
    "\n",
    "- Must maintain different instances / versions of data (raw and cleaned data)\n",
    "- Must name the dataset files informatively\n",
    "- Ensure both the raw and cleaned data is saved to your database/data store"
   ]
  },
  {
   "cell_type": "code",
   "execution_count": null,
   "metadata": {
    "id": "V3uay7EJUV_L"
   },
   "outputs": [],
   "source": [
    "#FILL IN - saving data"
   ]
  },
  {
   "cell_type": "markdown",
   "metadata": {
    "id": "cGy_yddGtzhM"
   },
   "source": [
    "## 5. Answer the research question\n",
    "\n",
    "### **5.1:** Define and answer the research question \n",
    "Going back to the problem statement in step 1, use the cleaned data to answer the question you raised. Produce **at least** two visualizations using the cleaned data and explain how they help you answer the question."
   ]
  },
  {
   "cell_type": "markdown",
   "metadata": {
    "id": "gjedE4s4ZkEd"
   },
   "source": [
    "*Research question:* FILL IN from answer to Step 1"
   ]
  },
  {
   "cell_type": "code",
   "execution_count": null,
   "metadata": {
    "id": "Lkw3rW9kZmOm"
   },
   "outputs": [],
   "source": [
    "#Visual 1 - FILL IN"
   ]
  },
  {
   "cell_type": "markdown",
   "metadata": {},
   "source": [
    "*Answer to research question:* FILL IN"
   ]
  }
 ],
 "metadata": {
  "colab": {
   "provenance": []
  },
  "kernelspec": {
   "display_name": "Python 3",
   "language": "python",
   "name": "python3"
  },
  "language_info": {
   "codemirror_mode": {
    "name": "ipython",
    "version": 3
   },
   "file_extension": ".py",
   "mimetype": "text/x-python",
   "name": "python",
   "nbconvert_exporter": "python",
   "pygments_lexer": "ipython3",
   "version": "3.10.7"
  }
 },
 "nbformat": 4,
 "nbformat_minor": 1
}
