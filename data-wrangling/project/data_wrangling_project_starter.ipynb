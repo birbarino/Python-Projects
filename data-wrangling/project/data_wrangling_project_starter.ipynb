{
 "cells": [
  {
   "cell_type": "markdown",
   "metadata": {
    "id": "GNIwe5N7s0e_"
   },
   "source": [
    "# Real-world Data Wrangling"
   ]
  },
  {
   "cell_type": "markdown",
   "metadata": {
    "id": "lDYDkH-Zs7Nn"
   },
   "source": [
    "## 1. Gather data"
   ]
  },
  {
   "cell_type": "markdown",
   "metadata": {
    "id": "LbN7z7rcuqpO"
   },
   "source": [
    "### **1.1.** Problem Statement"
   ]
  },
  {
   "cell_type": "markdown",
   "metadata": {
    "id": "gi6swhjSYqu2"
   },
   "source": [
    " *The City of Vancouver tracks not only every animal that comes into its shelters, but also those that are reported as lost by their owners. While the city does track those that are matched back to their owner, is it possible that an animal still tracked as lost has possibly been accounted for? If so, is it possible to find somewhat reliable means to match animals based on data entered into a report for lost ones?*"
   ]
  },
  {
   "cell_type": "markdown",
   "metadata": {
    "id": "8AQfBAdUypMm"
   },
   "source": [
    "### **1.2.** Gather at least two datasets using two different data gathering methods\n"
   ]
  },
  {
   "cell_type": "markdown",
   "metadata": {
    "id": "7e6gS0wL1KTu"
   },
   "source": [
    "#### City of Vancouver Animal Control Inventory - Lost and Found"
   ]
  },
  {
   "cell_type": "markdown",
   "metadata": {},
   "source": [
    "This dataset is information from the City of Vancouver where an owner of an animal has reported them as lost. It also tracks those that were either reported as found or were matched by the shelter back to the owner. \n",
    "\n",
    "I chose this dataset because it will address what animals were reported as lost within the city. This does not cover every animal that was lost, however it does provide a large sample size for this metro area.\n",
    "\n",
    "Further information on the dataset can be found [here](https://opendata.vancouver.ca/explore/dataset/animal-control-inventory-lost-and-found/information).\n",
    "\n",
    "Type: JSON\n",
    "\n",
    "Method: This data was gathered by querying the City of Vancouver's database with the standard Opendatasoft API. I am doing it this way because the data is updated daily, and this guarantees that the most up-to-date information will be used.\n",
    "\n",
    "Dataset variables:\n",
    "\n",
    "- *breed* - type of animal or breed that fits best.\n",
    "- *color* - color of the animal's coat/fur.\n",
    "- *date* - date that the animal was lost\n",
    "- *name* - the given name of the animal being tracked (if known).\n",
    "- *sex* - used to label the biological sex of the animal, as well as if they are spayed or neutered (marked with `F/S` or `M/N` accordingly). `X` = unknown\n",
    "- *state* - the last state of being for the animal, i.e. `matched` or `lost`.\n",
    "\n",
    "After some poking around, I found out that without a `group by` statement, the server only returns 100 results. By including a `group by` statement for all of the fields, this should theoretically drop duplicate values. I'm also filtering out anything before `1998-10-03`, as this is the earliest `DateImpounded` timestamp in the other dataset that will be used."
   ]
  },
  {
   "cell_type": "code",
   "execution_count": 902,
   "metadata": {
    "id": "Su8E0uLuYkHU"
   },
   "outputs": [],
   "source": [
    "import requests\n",
    "import pandas as pd\n",
    "import datetime\n",
    "\n",
    "# \"lf\" is for *l*ost and *f*ound\n",
    "lf_api_query = \"https://opendata.vancouver.ca/api/explore/v2.1/catalog/datasets/animal-control-inventory-lost-and-found/records?where=date%20%3E%20%221998-10-02%22&group_by=date%2C%20breed%2C%20color%2C%20name%2C%20sex%2C%20state&order_by=date&limit=-1\"\n",
    "lf_data = requests.get(lf_api_query)\n",
    "lf_data.raise_for_status()"
   ]
  },
  {
   "cell_type": "code",
   "execution_count": 903,
   "metadata": {},
   "outputs": [
    {
     "name": "stdout",
     "output_type": "stream",
     "text": [
      "dict_keys(['total_count', 'results'])\n",
      "17872\n",
      "<class 'list'>\n",
      "<class 'dict'>\n"
     ]
    }
   ],
   "source": [
    "lf_json = lf_data.json()\n",
    "\n",
    "print(lf_json.keys())\n",
    "print(lf_json['total_count'])\n",
    "\n",
    "lf_json['results'][0:3]\n",
    "print(type(lf_json['results']))     # all elements\n",
    "print(type(lf_json['results'][0]))  # individual element"
   ]
  },
  {
   "cell_type": "markdown",
   "metadata": {},
   "source": [
    "Based on our mild digging above, we would want to load specifically the data in the `results` key as a Pandas DataFrame, since `results` is simply a `list` of `dict`'s, which Pandas.DataFrame's constructor can handle."
   ]
  },
  {
   "cell_type": "code",
   "execution_count": 904,
   "metadata": {},
   "outputs": [],
   "source": [
    "lf_df = pd.DataFrame(lf_json['results'])"
   ]
  },
  {
   "cell_type": "markdown",
   "metadata": {
    "id": "hoUjq1tPzz7P"
   },
   "source": [
    "#### City of Vancouver Animal Control Inventory - Register"
   ]
  },
  {
   "cell_type": "markdown",
   "metadata": {},
   "source": [
    "This dataset is a \"general record of each animal that has come into the custody\" the City of Vancouver's animal control service.\n",
    "\n",
    "I chose this dataset to have a record to compare all of the lost and found animals to in the event an animal is reported as lost and the City of Vancouver happens to have them, or someone very much like them, already processed into their database.\n",
    "\n",
    "Like with the lost and found dataset, this data is updated daily. Because I must choose a different method to pull this data, I will download it programatically, as well as in CSV format just to make sure I cover all bases for this project.\n",
    "\n",
    "Type: Semicolon (`;`) delimited \"CSV\" file.\n",
    "\n",
    "Method: Programatic download via HTTP GET request\n",
    "\n",
    "Dataset variables:\n",
    "\n",
    "- *AnimalID* - Unique sequential number given to each entry.\n",
    "- *Breed* - Type of animal.\n",
    "- *ShotsDate* - Date when vaccinated.\n",
    "- *Sex* - M = Male, F = Female, M/N = Male Neutered, F/S = Female Spayed.\n",
    "- *ReceiptNumber* - Point of sales system of record receipt number.\n",
    "- *DateImpounded* - Date first in custody of the City of Vancouver.\n",
    "- *PitNumber* - Number identifying animal kennel, does not change while in custody of the city.\n",
    "- *Name* - Name if known.\n",
    "- *KennelNumber* - Kennel number displayed at the top of each kennel.\n",
    "- *DispositionDate* - Date when animal was no longer under the control of the city.\n",
    "- *Color* - Color of coat.\n",
    "- *Code* - Walk-ability index (*Green = easy, Yellow = moderate, Blue = hard*).\n",
    "- *ApproxWeight* - Approximate weight of animal.\n",
    "- *Age category* - Rough estimate of age - puppy, young adult, adult, senior.\n",
    "- *Source* - Where the animal came from (Brought-in, Holding stray, Transferred).\n",
    "- *Status* - Current state/disposition of animal.\n",
    "- *ACO* - Animal control officer number or initials of employee."
   ]
  },
  {
   "cell_type": "code",
   "execution_count": 905,
   "metadata": {
    "id": "6zT0QxRyYmm7"
   },
   "outputs": [],
   "source": [
    "# \"reg\" is for registry\n",
    "reg_url = \"https://opendata.vancouver.ca/api/explore/v2.1/catalog/datasets/animal-control-inventory-register/exports/csv?lang=en&timezone=America%2FChicago&use_labels=true&delimiter=%3B\"\n",
    "reg_data = requests.get(reg_url)\n",
    "reg_data.raise_for_status()"
   ]
  },
  {
   "cell_type": "code",
   "execution_count": 906,
   "metadata": {},
   "outputs": [],
   "source": [
    "# Save contents to a file labeled with today's date.\n",
    "file_dl_date = datetime.date.today()\n",
    "filename = f\"vancouver-ac-registry_{file_dl_date.strftime('%Y%m%d')}.csv\"\n",
    "relativepath = \"./datasets/\" + filename\n",
    "\n",
    "# Write dataset JSON stored as binary to target file\n",
    "with open(relativepath, mode=\"wb\") as f:\n",
    "    f.write(reg_data.content)"
   ]
  },
  {
   "cell_type": "markdown",
   "metadata": {},
   "source": [
    "We'll make the `AnimalID` column our index column for our DataFrame since it's essentially a built-in order for the animals. Following this, we'll start assessing our data."
   ]
  },
  {
   "cell_type": "code",
   "execution_count": 907,
   "metadata": {},
   "outputs": [],
   "source": [
    "reg_df = pd.read_csv(relativepath, sep=\";\", index_col='AnimalID')"
   ]
  },
  {
   "cell_type": "markdown",
   "metadata": {
    "id": "QwSWIVmotLgV"
   },
   "source": [
    "## 2. Assess data"
   ]
  },
  {
   "cell_type": "markdown",
   "metadata": {},
   "source": [
    "When we are assessing data, we are on the lookout for **quality** and **tidiness** (structural) issues.\n",
    "\n",
    "**Quality Issues:**\n",
    "- Completeness - The collected data is sufficient for addressing specific problems.\n",
    "- Validity - Data conforms to the defined schema.\n",
    "- Accuracy - Data accurately represents the reality it is describing.\n",
    "- Consistency - A standard format is followed. Data matches that which can be found in other sources.\n",
    "- Uniqueness - non-duplicate or overlapping values in the data.\n",
    "\n",
    "**Tidiness Issues:**\n",
    "- Each variable forms an individual column, i.e. color, name, birth year, etc. \n",
    "  - This also means that each column only contains one variable, or \"factor that varies.\"\n",
    "- Each observation forms an individual row, i.e. red, Scott, 1997, etc.\n",
    "  - As with columns, only a single observation per row.\n",
    "- Each type of observational unit forms a table, i.e. a table of immediate family members."
   ]
  },
  {
   "cell_type": "markdown",
   "metadata": {
    "id": "adaK2iPNzVu4"
   },
   "source": [
    "### Quality Issue 1:"
   ]
  },
  {
   "cell_type": "markdown",
   "metadata": {},
   "source": [
    "We'll use the `.head()` and `.tail()` methods to quickly browse the dataset for anything that sticks out. This helps us ensure completeness to some degree, as well as validity and consistency."
   ]
  },
  {
   "cell_type": "code",
   "execution_count": 908,
   "metadata": {
    "id": "SpW59kh-zl8d"
   },
   "outputs": [
    {
     "data": {
      "text/html": [
       "<div>\n",
       "<style scoped>\n",
       "    .dataframe tbody tr th:only-of-type {\n",
       "        vertical-align: middle;\n",
       "    }\n",
       "\n",
       "    .dataframe tbody tr th {\n",
       "        vertical-align: top;\n",
       "    }\n",
       "\n",
       "    .dataframe thead th {\n",
       "        text-align: right;\n",
       "    }\n",
       "</style>\n",
       "<table border=\"1\" class=\"dataframe\">\n",
       "  <thead>\n",
       "    <tr style=\"text-align: right;\">\n",
       "      <th></th>\n",
       "      <th>date</th>\n",
       "      <th>breed</th>\n",
       "      <th>color</th>\n",
       "      <th>name</th>\n",
       "      <th>sex</th>\n",
       "      <th>state</th>\n",
       "    </tr>\n",
       "  </thead>\n",
       "  <tbody>\n",
       "    <tr>\n",
       "      <th>0</th>\n",
       "      <td>1999-01-03T00:00:00+00:00</td>\n",
       "      <td>Rotty X Shep</td>\n",
       "      <td>Black &amp; Tan</td>\n",
       "      <td>Tex</td>\n",
       "      <td>M/N</td>\n",
       "      <td>Lost</td>\n",
       "    </tr>\n",
       "    <tr>\n",
       "      <th>1</th>\n",
       "      <td>1999-01-04T00:00:00+00:00</td>\n",
       "      <td>Dog</td>\n",
       "      <td>Light Colour</td>\n",
       "      <td>None</td>\n",
       "      <td>M/N</td>\n",
       "      <td>Found</td>\n",
       "    </tr>\n",
       "    <tr>\n",
       "      <th>2</th>\n",
       "      <td>1999-01-04T00:00:00+00:00</td>\n",
       "      <td>Golden Lab X</td>\n",
       "      <td>Black &amp; Tan</td>\n",
       "      <td>Oscar</td>\n",
       "      <td>M</td>\n",
       "      <td>Lost</td>\n",
       "    </tr>\n",
       "    <tr>\n",
       "      <th>3</th>\n",
       "      <td>1999-01-04T00:00:00+00:00</td>\n",
       "      <td>Shep X</td>\n",
       "      <td>Black &amp; Tan</td>\n",
       "      <td>None</td>\n",
       "      <td>F</td>\n",
       "      <td>Found</td>\n",
       "    </tr>\n",
       "    <tr>\n",
       "      <th>4</th>\n",
       "      <td>1999-01-04T00:00:00+00:00</td>\n",
       "      <td>Shep X Collie</td>\n",
       "      <td>Black &amp; Tan</td>\n",
       "      <td>Angel</td>\n",
       "      <td>F</td>\n",
       "      <td>Lost</td>\n",
       "    </tr>\n",
       "  </tbody>\n",
       "</table>\n",
       "</div>"
      ],
      "text/plain": [
       "                        date          breed         color   name  sex  state\n",
       "0  1999-01-03T00:00:00+00:00   Rotty X Shep   Black & Tan    Tex  M/N   Lost\n",
       "1  1999-01-04T00:00:00+00:00            Dog  Light Colour   None  M/N  Found\n",
       "2  1999-01-04T00:00:00+00:00   Golden Lab X   Black & Tan  Oscar    M   Lost\n",
       "3  1999-01-04T00:00:00+00:00         Shep X   Black & Tan   None    F  Found\n",
       "4  1999-01-04T00:00:00+00:00  Shep X Collie   Black & Tan  Angel    F   Lost"
      ]
     },
     "execution_count": 908,
     "metadata": {},
     "output_type": "execute_result"
    }
   ],
   "source": [
    "# Inspecting the dataframe visually\n",
    "lf_df.head()"
   ]
  },
  {
   "cell_type": "code",
   "execution_count": 909,
   "metadata": {},
   "outputs": [
    {
     "data": {
      "text/html": [
       "<div>\n",
       "<style scoped>\n",
       "    .dataframe tbody tr th:only-of-type {\n",
       "        vertical-align: middle;\n",
       "    }\n",
       "\n",
       "    .dataframe tbody tr th {\n",
       "        vertical-align: top;\n",
       "    }\n",
       "\n",
       "    .dataframe thead th {\n",
       "        text-align: right;\n",
       "    }\n",
       "</style>\n",
       "<table border=\"1\" class=\"dataframe\">\n",
       "  <thead>\n",
       "    <tr style=\"text-align: right;\">\n",
       "      <th></th>\n",
       "      <th>date</th>\n",
       "      <th>breed</th>\n",
       "      <th>color</th>\n",
       "      <th>name</th>\n",
       "      <th>sex</th>\n",
       "      <th>state</th>\n",
       "    </tr>\n",
       "  </thead>\n",
       "  <tbody>\n",
       "    <tr>\n",
       "      <th>17867</th>\n",
       "      <td>2025-08-05T00:00:00+00:00</td>\n",
       "      <td>Cat - DSH - Tabby</td>\n",
       "      <td>Black w brown tabby stripes</td>\n",
       "      <td>Suzy</td>\n",
       "      <td>M</td>\n",
       "      <td>Lost</td>\n",
       "    </tr>\n",
       "    <tr>\n",
       "      <th>17868</th>\n",
       "      <td>2025-08-05T00:00:00+00:00</td>\n",
       "      <td>Maltese X Bichon</td>\n",
       "      <td>Black w white front right paw</td>\n",
       "      <td>Ollie</td>\n",
       "      <td>M</td>\n",
       "      <td>Matched</td>\n",
       "    </tr>\n",
       "    <tr>\n",
       "      <th>17869</th>\n",
       "      <td>2025-08-06T00:00:00+00:00</td>\n",
       "      <td>Cat - British Short Hair</td>\n",
       "      <td>Grey &amp; White</td>\n",
       "      <td>Shay Shay</td>\n",
       "      <td>F/S</td>\n",
       "      <td>Lost</td>\n",
       "    </tr>\n",
       "    <tr>\n",
       "      <th>17870</th>\n",
       "      <td>2025-08-06T00:00:00+00:00</td>\n",
       "      <td>Lab X</td>\n",
       "      <td>Brown</td>\n",
       "      <td>Titan</td>\n",
       "      <td>M/N</td>\n",
       "      <td>Lost</td>\n",
       "    </tr>\n",
       "    <tr>\n",
       "      <th>17871</th>\n",
       "      <td>2025-08-06T00:00:00+00:00</td>\n",
       "      <td>Poodle</td>\n",
       "      <td>Brown</td>\n",
       "      <td>Brownie</td>\n",
       "      <td>M/N</td>\n",
       "      <td>Lost</td>\n",
       "    </tr>\n",
       "  </tbody>\n",
       "</table>\n",
       "</div>"
      ],
      "text/plain": [
       "                            date                     breed  \\\n",
       "17867  2025-08-05T00:00:00+00:00         Cat - DSH - Tabby   \n",
       "17868  2025-08-05T00:00:00+00:00          Maltese X Bichon   \n",
       "17869  2025-08-06T00:00:00+00:00  Cat - British Short Hair   \n",
       "17870  2025-08-06T00:00:00+00:00                     Lab X   \n",
       "17871  2025-08-06T00:00:00+00:00                    Poodle   \n",
       "\n",
       "                               color       name  sex    state  \n",
       "17867    Black w brown tabby stripes       Suzy    M     Lost  \n",
       "17868  Black w white front right paw      Ollie    M  Matched  \n",
       "17869                   Grey & White  Shay Shay  F/S     Lost  \n",
       "17870                          Brown      Titan  M/N     Lost  \n",
       "17871                          Brown    Brownie  M/N     Lost  "
      ]
     },
     "execution_count": 909,
     "metadata": {},
     "output_type": "execute_result"
    }
   ],
   "source": [
    "lf_df.tail()"
   ]
  },
  {
   "cell_type": "code",
   "execution_count": 910,
   "metadata": {},
   "outputs": [
    {
     "data": {
      "text/html": [
       "<div>\n",
       "<style scoped>\n",
       "    .dataframe tbody tr th:only-of-type {\n",
       "        vertical-align: middle;\n",
       "    }\n",
       "\n",
       "    .dataframe tbody tr th {\n",
       "        vertical-align: top;\n",
       "    }\n",
       "\n",
       "    .dataframe thead th {\n",
       "        text-align: right;\n",
       "    }\n",
       "</style>\n",
       "<table border=\"1\" class=\"dataframe\">\n",
       "  <thead>\n",
       "    <tr style=\"text-align: right;\">\n",
       "      <th></th>\n",
       "      <th>date</th>\n",
       "      <th>breed</th>\n",
       "      <th>color</th>\n",
       "      <th>name</th>\n",
       "      <th>sex</th>\n",
       "      <th>state</th>\n",
       "    </tr>\n",
       "  </thead>\n",
       "  <tbody>\n",
       "    <tr>\n",
       "      <th>5441</th>\n",
       "      <td>2004-01-21T00:00:00+00:00</td>\n",
       "      <td>Lab X Collie</td>\n",
       "      <td>Dark Red &amp; Black</td>\n",
       "      <td>Scarlet</td>\n",
       "      <td>F</td>\n",
       "      <td>Lost</td>\n",
       "    </tr>\n",
       "    <tr>\n",
       "      <th>10478</th>\n",
       "      <td>2014-07-12T00:00:00+00:00</td>\n",
       "      <td>Jack Russell Terrier</td>\n",
       "      <td>Black</td>\n",
       "      <td>Jasper</td>\n",
       "      <td>M</td>\n",
       "      <td>Lost</td>\n",
       "    </tr>\n",
       "    <tr>\n",
       "      <th>8905</th>\n",
       "      <td>2012-07-04T00:00:00+00:00</td>\n",
       "      <td>Shar-Pei</td>\n",
       "      <td>Red</td>\n",
       "      <td>None</td>\n",
       "      <td>None</td>\n",
       "      <td>Matched</td>\n",
       "    </tr>\n",
       "    <tr>\n",
       "      <th>13872</th>\n",
       "      <td>2019-03-07T00:00:00+00:00</td>\n",
       "      <td>Cat - DLH Siamese</td>\n",
       "      <td>White &amp; brown Lynx Point</td>\n",
       "      <td>Bandit</td>\n",
       "      <td>F/S</td>\n",
       "      <td>Matched</td>\n",
       "    </tr>\n",
       "    <tr>\n",
       "      <th>17526</th>\n",
       "      <td>2024-12-23T00:00:00+00:00</td>\n",
       "      <td>Cat - DSH</td>\n",
       "      <td>Black</td>\n",
       "      <td>Mr. Duster</td>\n",
       "      <td>M/N</td>\n",
       "      <td>Lost</td>\n",
       "    </tr>\n",
       "  </tbody>\n",
       "</table>\n",
       "</div>"
      ],
      "text/plain": [
       "                            date                 breed  \\\n",
       "5441   2004-01-21T00:00:00+00:00          Lab X Collie   \n",
       "10478  2014-07-12T00:00:00+00:00  Jack Russell Terrier   \n",
       "8905   2012-07-04T00:00:00+00:00              Shar-Pei   \n",
       "13872  2019-03-07T00:00:00+00:00     Cat - DLH Siamese   \n",
       "17526  2024-12-23T00:00:00+00:00             Cat - DSH   \n",
       "\n",
       "                          color        name   sex    state  \n",
       "5441           Dark Red & Black     Scarlet     F     Lost  \n",
       "10478                     Black      Jasper     M     Lost  \n",
       "8905                        Red        None  None  Matched  \n",
       "13872  White & brown Lynx Point      Bandit   F/S  Matched  \n",
       "17526                     Black  Mr. Duster   M/N     Lost  "
      ]
     },
     "execution_count": 910,
     "metadata": {},
     "output_type": "execute_result"
    }
   ],
   "source": [
    "lf_df.sample(5)  # random sampling to see if anything else jumps out"
   ]
  },
  {
   "cell_type": "markdown",
   "metadata": {},
   "source": [
    "Thankfully, there are no duplicate entries in this data (as of 20250723), indicating each row has \"uniqueness.\""
   ]
  },
  {
   "cell_type": "code",
   "execution_count": 911,
   "metadata": {},
   "outputs": [
    {
     "data": {
      "text/plain": [
       "False    17872\n",
       "Name: count, dtype: int64"
      ]
     },
     "execution_count": 911,
     "metadata": {},
     "output_type": "execute_result"
    }
   ],
   "source": [
    "lf_df.duplicated().value_counts()"
   ]
  },
  {
   "cell_type": "markdown",
   "metadata": {},
   "source": [
    "There are a lot of colors in the `color` column, which indicates potential a lack of consistency and validity."
   ]
  },
  {
   "cell_type": "code",
   "execution_count": 912,
   "metadata": {},
   "outputs": [
    {
     "name": "stdout",
     "output_type": "stream",
     "text": [
      "There are 3412 unique strings in the color column.\n"
     ]
    }
   ],
   "source": [
    "print(\"There are\", lf_df['color'].unique().shape[0], \"unique strings in the color column.\")"
   ]
  },
  {
   "cell_type": "markdown",
   "metadata": {},
   "source": [
    "One prime example is this hamster, which has `Golden/Blonde` fur. This indicates there is not a standardized process for determining and labeling fur color."
   ]
  },
  {
   "cell_type": "code",
   "execution_count": 913,
   "metadata": {},
   "outputs": [
    {
     "data": {
      "text/plain": [
       "date     2023-06-26T00:00:00+00:00\n",
       "breed                      Hamster\n",
       "color                Golden/Blonde\n",
       "name                        Chivis\n",
       "sex                              M\n",
       "state                         Lost\n",
       "Name: 16633, dtype: object"
      ]
     },
     "execution_count": 913,
     "metadata": {},
     "output_type": "execute_result"
    }
   ],
   "source": [
    "lf_df.iloc[16633]"
   ]
  },
  {
   "cell_type": "markdown",
   "metadata": {},
   "source": [
    "I am also curious about how many of those colors have consistency issues, for example using an ampersand instead of an \"and\". The use of slashes may also indicate `color` labeling similar to `Chivis`, as seen immediately above."
   ]
  },
  {
   "cell_type": "code",
   "execution_count": 914,
   "metadata": {},
   "outputs": [
    {
     "name": "stdout",
     "output_type": "stream",
     "text": [
      "1152 unique color strings contain '&' in the color description while 191 contain 'and'.\n",
      "1346  unique colors contain a forward slash (/).\n"
     ]
    }
   ],
   "source": [
    "num_colors_amp = pd.Series(lf_df.color.unique()).str.contains(r'&', na=False).value_counts().iloc[1]\n",
    "num_colors_and = pd.Series(lf_df.color.unique()).str.contains(r' and ', na=False).value_counts().iloc[1]\n",
    "num_colors_fwdsl = pd.Series(lf_df.color.unique()).str.contains(r'/', na=False).value_counts().iloc[1]\n",
    "\n",
    "print(num_colors_amp, \"unique color strings contain '&' in the color description while\", num_colors_and, \"contain 'and'.\")\n",
    "print(num_colors_fwdsl, \" unique colors contain a forward slash (/).\")"
   ]
  },
  {
   "cell_type": "markdown",
   "metadata": {},
   "source": [
    "Issue and justification: Aside from lacking completeness, a lot of the columns do not have a consistent format:\n",
    "Currently, \"&\" is primarily used in place of \"and\" in the `color` column. This matters when trying to answer our question as this means that matching based on `color` will different approaches (fuzzy matching, tokenization, etc.). \n",
    "\n",
    "As a side note, the formatting in the `breed` column is also quite inconsistent, but this is addressed further in the tidiness section."
   ]
  },
  {
   "cell_type": "markdown",
   "metadata": {
    "id": "8Be77N4I1AmE"
   },
   "source": [
    "### Quality Issue 2:"
   ]
  },
  {
   "cell_type": "markdown",
   "metadata": {},
   "source": [
    "We'll do a head, tail, and sample again."
   ]
  },
  {
   "cell_type": "code",
   "execution_count": 915,
   "metadata": {
    "id": "iMhHyiyLM2I3"
   },
   "outputs": [
    {
     "data": {
      "text/html": [
       "<div>\n",
       "<style scoped>\n",
       "    .dataframe tbody tr th:only-of-type {\n",
       "        vertical-align: middle;\n",
       "    }\n",
       "\n",
       "    .dataframe tbody tr th {\n",
       "        vertical-align: top;\n",
       "    }\n",
       "\n",
       "    .dataframe thead th {\n",
       "        text-align: right;\n",
       "    }\n",
       "</style>\n",
       "<table border=\"1\" class=\"dataframe\">\n",
       "  <thead>\n",
       "    <tr style=\"text-align: right;\">\n",
       "      <th></th>\n",
       "      <th>Breed</th>\n",
       "      <th>ShotsDate</th>\n",
       "      <th>Sex</th>\n",
       "      <th>ReceiptNumber</th>\n",
       "      <th>DateImpounded</th>\n",
       "      <th>PitNumber</th>\n",
       "      <th>Name</th>\n",
       "      <th>KennelNumber</th>\n",
       "      <th>DispositionDate</th>\n",
       "      <th>Color</th>\n",
       "      <th>Code</th>\n",
       "      <th>ApproxWeight</th>\n",
       "      <th>Age category</th>\n",
       "      <th>Source</th>\n",
       "      <th>Status</th>\n",
       "      <th>ACO</th>\n",
       "    </tr>\n",
       "    <tr>\n",
       "      <th>AnimalID</th>\n",
       "      <th></th>\n",
       "      <th></th>\n",
       "      <th></th>\n",
       "      <th></th>\n",
       "      <th></th>\n",
       "      <th></th>\n",
       "      <th></th>\n",
       "      <th></th>\n",
       "      <th></th>\n",
       "      <th></th>\n",
       "      <th></th>\n",
       "      <th></th>\n",
       "      <th></th>\n",
       "      <th></th>\n",
       "      <th></th>\n",
       "      <th></th>\n",
       "    </tr>\n",
       "  </thead>\n",
       "  <tbody>\n",
       "    <tr>\n",
       "      <th>9344</th>\n",
       "      <td>Maltese</td>\n",
       "      <td>NaN</td>\n",
       "      <td>M</td>\n",
       "      <td>15690JF</td>\n",
       "      <td>2004-09-25</td>\n",
       "      <td>20069.0</td>\n",
       "      <td>Cody</td>\n",
       "      <td>200</td>\n",
       "      <td>NaN</td>\n",
       "      <td>White</td>\n",
       "      <td>NaN</td>\n",
       "      <td>12 lbs</td>\n",
       "      <td>NaN</td>\n",
       "      <td>BROUGHT-IN</td>\n",
       "      <td>Redeemed</td>\n",
       "      <td>20</td>\n",
       "    </tr>\n",
       "    <tr>\n",
       "      <th>9345</th>\n",
       "      <td>Retriever X Pitbull</td>\n",
       "      <td>NaN</td>\n",
       "      <td>M/N</td>\n",
       "      <td>15702,MC</td>\n",
       "      <td>2004-09-26</td>\n",
       "      <td>20066.0</td>\n",
       "      <td>Prince</td>\n",
       "      <td>200</td>\n",
       "      <td>NaN</td>\n",
       "      <td>Gold</td>\n",
       "      <td>NaN</td>\n",
       "      <td>50lbs</td>\n",
       "      <td>NaN</td>\n",
       "      <td>BROUGHT-IN</td>\n",
       "      <td>Redeemed</td>\n",
       "      <td>0</td>\n",
       "    </tr>\n",
       "    <tr>\n",
       "      <th>9351</th>\n",
       "      <td>Pitbull</td>\n",
       "      <td>NaN</td>\n",
       "      <td>F</td>\n",
       "      <td>BC3</td>\n",
       "      <td>2004-09-27</td>\n",
       "      <td>40069.0</td>\n",
       "      <td>China</td>\n",
       "      <td>400</td>\n",
       "      <td>NaN</td>\n",
       "      <td>Brown &amp; White</td>\n",
       "      <td>NaN</td>\n",
       "      <td>50 lbs</td>\n",
       "      <td>NaN</td>\n",
       "      <td>COMPLAINT</td>\n",
       "      <td>Ride Home Free</td>\n",
       "      <td>22</td>\n",
       "    </tr>\n",
       "    <tr>\n",
       "      <th>9353</th>\n",
       "      <td>Cane Corso X</td>\n",
       "      <td>NaN</td>\n",
       "      <td>F/S</td>\n",
       "      <td>15703MC</td>\n",
       "      <td>2004-09-27</td>\n",
       "      <td>20044.0</td>\n",
       "      <td>Jane</td>\n",
       "      <td>200</td>\n",
       "      <td>NaN</td>\n",
       "      <td>Black &amp; Brindle</td>\n",
       "      <td>NaN</td>\n",
       "      <td>40 lbs</td>\n",
       "      <td>NaN</td>\n",
       "      <td>HOLDING STRAY</td>\n",
       "      <td>Redeemed</td>\n",
       "      <td>22</td>\n",
       "    </tr>\n",
       "    <tr>\n",
       "      <th>9357</th>\n",
       "      <td>German Shepherd  X</td>\n",
       "      <td>NaN</td>\n",
       "      <td>F/S</td>\n",
       "      <td>15656,MC</td>\n",
       "      <td>2004-08-28</td>\n",
       "      <td>20028.0</td>\n",
       "      <td>Echo</td>\n",
       "      <td>200</td>\n",
       "      <td>NaN</td>\n",
       "      <td>Black &amp; Tan &amp; White</td>\n",
       "      <td>NaN</td>\n",
       "      <td>25lbs</td>\n",
       "      <td>NaN</td>\n",
       "      <td>HOLDING STRAY</td>\n",
       "      <td>Sold</td>\n",
       "      <td>21</td>\n",
       "    </tr>\n",
       "  </tbody>\n",
       "</table>\n",
       "</div>"
      ],
      "text/plain": [
       "                        Breed ShotsDate  Sex ReceiptNumber DateImpounded  \\\n",
       "AnimalID                                                                   \n",
       "9344                  Maltese       NaN    M       15690JF    2004-09-25   \n",
       "9345      Retriever X Pitbull       NaN  M/N      15702,MC    2004-09-26   \n",
       "9351                  Pitbull       NaN    F           BC3    2004-09-27   \n",
       "9353             Cane Corso X       NaN  F/S       15703MC    2004-09-27   \n",
       "9357       German Shepherd  X       NaN  F/S      15656,MC    2004-08-28   \n",
       "\n",
       "          PitNumber    Name KennelNumber DispositionDate                Color  \\\n",
       "AnimalID                                                                        \n",
       "9344        20069.0    Cody          200             NaN                White   \n",
       "9345        20066.0  Prince          200             NaN                 Gold   \n",
       "9351        40069.0   China          400             NaN        Brown & White   \n",
       "9353        20044.0    Jane          200             NaN      Black & Brindle   \n",
       "9357        20028.0    Echo          200             NaN  Black & Tan & White   \n",
       "\n",
       "         Code ApproxWeight Age category         Source          Status ACO  \n",
       "AnimalID                                                                    \n",
       "9344      NaN       12 lbs          NaN     BROUGHT-IN        Redeemed  20  \n",
       "9345      NaN        50lbs          NaN     BROUGHT-IN        Redeemed   0  \n",
       "9351      NaN       50 lbs          NaN      COMPLAINT  Ride Home Free  22  \n",
       "9353      NaN       40 lbs          NaN  HOLDING STRAY        Redeemed  22  \n",
       "9357      NaN        25lbs          NaN  HOLDING STRAY            Sold  21  "
      ]
     },
     "execution_count": 915,
     "metadata": {},
     "output_type": "execute_result"
    }
   ],
   "source": [
    "reg_df.head()"
   ]
  },
  {
   "cell_type": "code",
   "execution_count": 916,
   "metadata": {},
   "outputs": [
    {
     "data": {
      "text/html": [
       "<div>\n",
       "<style scoped>\n",
       "    .dataframe tbody tr th:only-of-type {\n",
       "        vertical-align: middle;\n",
       "    }\n",
       "\n",
       "    .dataframe tbody tr th {\n",
       "        vertical-align: top;\n",
       "    }\n",
       "\n",
       "    .dataframe thead th {\n",
       "        text-align: right;\n",
       "    }\n",
       "</style>\n",
       "<table border=\"1\" class=\"dataframe\">\n",
       "  <thead>\n",
       "    <tr style=\"text-align: right;\">\n",
       "      <th></th>\n",
       "      <th>Breed</th>\n",
       "      <th>ShotsDate</th>\n",
       "      <th>Sex</th>\n",
       "      <th>ReceiptNumber</th>\n",
       "      <th>DateImpounded</th>\n",
       "      <th>PitNumber</th>\n",
       "      <th>Name</th>\n",
       "      <th>KennelNumber</th>\n",
       "      <th>DispositionDate</th>\n",
       "      <th>Color</th>\n",
       "      <th>Code</th>\n",
       "      <th>ApproxWeight</th>\n",
       "      <th>Age category</th>\n",
       "      <th>Source</th>\n",
       "      <th>Status</th>\n",
       "      <th>ACO</th>\n",
       "    </tr>\n",
       "    <tr>\n",
       "      <th>AnimalID</th>\n",
       "      <th></th>\n",
       "      <th></th>\n",
       "      <th></th>\n",
       "      <th></th>\n",
       "      <th></th>\n",
       "      <th></th>\n",
       "      <th></th>\n",
       "      <th></th>\n",
       "      <th></th>\n",
       "      <th></th>\n",
       "      <th></th>\n",
       "      <th></th>\n",
       "      <th></th>\n",
       "      <th></th>\n",
       "      <th></th>\n",
       "      <th></th>\n",
       "    </tr>\n",
       "  </thead>\n",
       "  <tbody>\n",
       "    <tr>\n",
       "      <th>25213</th>\n",
       "      <td>Beagle</td>\n",
       "      <td>NaN</td>\n",
       "      <td>M/N</td>\n",
       "      <td>14-233782DI</td>\n",
       "      <td>2014-05-12</td>\n",
       "      <td>NaN</td>\n",
       "      <td>Apache</td>\n",
       "      <td>200</td>\n",
       "      <td>2014-05-12</td>\n",
       "      <td>Black</td>\n",
       "      <td>NaN</td>\n",
       "      <td>NaN</td>\n",
       "      <td>Adult</td>\n",
       "      <td>BROUGHT-IN</td>\n",
       "      <td>Redeemed</td>\n",
       "      <td>NaN</td>\n",
       "    </tr>\n",
       "    <tr>\n",
       "      <th>25216</th>\n",
       "      <td>Chihuahua</td>\n",
       "      <td>NaN</td>\n",
       "      <td>M/N</td>\n",
       "      <td>NaN</td>\n",
       "      <td>2014-05-13</td>\n",
       "      <td>NaN</td>\n",
       "      <td>Migo (aka Thor)</td>\n",
       "      <td>100</td>\n",
       "      <td>2014-05-15</td>\n",
       "      <td>Tan</td>\n",
       "      <td>NaN</td>\n",
       "      <td>NaN</td>\n",
       "      <td>Adult</td>\n",
       "      <td>OTHER</td>\n",
       "      <td>Behavior</td>\n",
       "      <td>NaN</td>\n",
       "    </tr>\n",
       "    <tr>\n",
       "      <th>25218</th>\n",
       "      <td>Bullmastiff</td>\n",
       "      <td>NaN</td>\n",
       "      <td>M/N</td>\n",
       "      <td>NaN</td>\n",
       "      <td>2014-05-13</td>\n",
       "      <td>NaN</td>\n",
       "      <td>Ceasar</td>\n",
       "      <td>400</td>\n",
       "      <td>2014-05-13</td>\n",
       "      <td>Tan</td>\n",
       "      <td>NaN</td>\n",
       "      <td>NaN</td>\n",
       "      <td>Adult</td>\n",
       "      <td>HOLDING STRAY</td>\n",
       "      <td>Ride Home Free</td>\n",
       "      <td>ACO 18</td>\n",
       "    </tr>\n",
       "    <tr>\n",
       "      <th>25224</th>\n",
       "      <td>Akita</td>\n",
       "      <td>2014-05-28</td>\n",
       "      <td>F/S</td>\n",
       "      <td>NaN</td>\n",
       "      <td>2014-05-16</td>\n",
       "      <td>NaN</td>\n",
       "      <td>Sushi</td>\n",
       "      <td>100</td>\n",
       "      <td>2014-11-18</td>\n",
       "      <td>Black</td>\n",
       "      <td>Blue</td>\n",
       "      <td>NaN</td>\n",
       "      <td>Young Adult</td>\n",
       "      <td>HOLDING STRAY</td>\n",
       "      <td>Behavior</td>\n",
       "      <td>15</td>\n",
       "    </tr>\n",
       "    <tr>\n",
       "      <th>25225</th>\n",
       "      <td>Silky Terrier</td>\n",
       "      <td>NaN</td>\n",
       "      <td>M/N</td>\n",
       "      <td>NaN</td>\n",
       "      <td>2014-05-16</td>\n",
       "      <td>NaN</td>\n",
       "      <td>Tucker</td>\n",
       "      <td>400</td>\n",
       "      <td>2014-05-16</td>\n",
       "      <td>Brown</td>\n",
       "      <td>NaN</td>\n",
       "      <td>NaN</td>\n",
       "      <td>Adult</td>\n",
       "      <td>HOLDING STRAY</td>\n",
       "      <td>Ride Home Free</td>\n",
       "      <td>15</td>\n",
       "    </tr>\n",
       "  </tbody>\n",
       "</table>\n",
       "</div>"
      ],
      "text/plain": [
       "                  Breed   ShotsDate  Sex ReceiptNumber DateImpounded  \\\n",
       "AnimalID                                                               \n",
       "25213            Beagle         NaN  M/N   14-233782DI    2014-05-12   \n",
       "25216         Chihuahua         NaN  M/N           NaN    2014-05-13   \n",
       "25218       Bullmastiff         NaN  M/N           NaN    2014-05-13   \n",
       "25224             Akita  2014-05-28  F/S           NaN    2014-05-16   \n",
       "25225     Silky Terrier         NaN  M/N           NaN    2014-05-16   \n",
       "\n",
       "          PitNumber             Name KennelNumber DispositionDate  Color  \\\n",
       "AnimalID                                                                   \n",
       "25213           NaN           Apache          200      2014-05-12  Black   \n",
       "25216           NaN  Migo (aka Thor)          100      2014-05-15    Tan   \n",
       "25218           NaN           Ceasar          400      2014-05-13    Tan   \n",
       "25224           NaN            Sushi          100      2014-11-18  Black   \n",
       "25225           NaN           Tucker          400      2014-05-16  Brown   \n",
       "\n",
       "          Code ApproxWeight Age category         Source          Status  \\\n",
       "AnimalID                                                                  \n",
       "25213      NaN          NaN        Adult     BROUGHT-IN        Redeemed   \n",
       "25216      NaN          NaN        Adult          OTHER        Behavior   \n",
       "25218      NaN          NaN        Adult  HOLDING STRAY  Ride Home Free   \n",
       "25224     Blue          NaN  Young Adult  HOLDING STRAY        Behavior   \n",
       "25225      NaN          NaN        Adult  HOLDING STRAY  Ride Home Free   \n",
       "\n",
       "             ACO  \n",
       "AnimalID          \n",
       "25213        NaN  \n",
       "25216        NaN  \n",
       "25218     ACO 18  \n",
       "25224         15  \n",
       "25225         15  "
      ]
     },
     "execution_count": 916,
     "metadata": {},
     "output_type": "execute_result"
    }
   ],
   "source": [
    "reg_df.tail()"
   ]
  },
  {
   "cell_type": "code",
   "execution_count": 917,
   "metadata": {},
   "outputs": [
    {
     "data": {
      "text/html": [
       "<div>\n",
       "<style scoped>\n",
       "    .dataframe tbody tr th:only-of-type {\n",
       "        vertical-align: middle;\n",
       "    }\n",
       "\n",
       "    .dataframe tbody tr th {\n",
       "        vertical-align: top;\n",
       "    }\n",
       "\n",
       "    .dataframe thead th {\n",
       "        text-align: right;\n",
       "    }\n",
       "</style>\n",
       "<table border=\"1\" class=\"dataframe\">\n",
       "  <thead>\n",
       "    <tr style=\"text-align: right;\">\n",
       "      <th></th>\n",
       "      <th>Breed</th>\n",
       "      <th>ShotsDate</th>\n",
       "      <th>Sex</th>\n",
       "      <th>ReceiptNumber</th>\n",
       "      <th>DateImpounded</th>\n",
       "      <th>PitNumber</th>\n",
       "      <th>Name</th>\n",
       "      <th>KennelNumber</th>\n",
       "      <th>DispositionDate</th>\n",
       "      <th>Color</th>\n",
       "      <th>Code</th>\n",
       "      <th>ApproxWeight</th>\n",
       "      <th>Age category</th>\n",
       "      <th>Source</th>\n",
       "      <th>Status</th>\n",
       "      <th>ACO</th>\n",
       "    </tr>\n",
       "    <tr>\n",
       "      <th>AnimalID</th>\n",
       "      <th></th>\n",
       "      <th></th>\n",
       "      <th></th>\n",
       "      <th></th>\n",
       "      <th></th>\n",
       "      <th></th>\n",
       "      <th></th>\n",
       "      <th></th>\n",
       "      <th></th>\n",
       "      <th></th>\n",
       "      <th></th>\n",
       "      <th></th>\n",
       "      <th></th>\n",
       "      <th></th>\n",
       "      <th></th>\n",
       "      <th></th>\n",
       "    </tr>\n",
       "  </thead>\n",
       "  <tbody>\n",
       "    <tr>\n",
       "      <th>9387</th>\n",
       "      <td>West Highland Terrier</td>\n",
       "      <td>NaN</td>\n",
       "      <td>M</td>\n",
       "      <td>15644,MC</td>\n",
       "      <td>2004-09-04</td>\n",
       "      <td>20074.0</td>\n",
       "      <td>Harry</td>\n",
       "      <td>200</td>\n",
       "      <td>NaN</td>\n",
       "      <td>White</td>\n",
       "      <td>NaN</td>\n",
       "      <td>NaN</td>\n",
       "      <td>NaN</td>\n",
       "      <td>HOLDING STRAY</td>\n",
       "      <td>Redeemed</td>\n",
       "      <td>21</td>\n",
       "    </tr>\n",
       "    <tr>\n",
       "      <th>15348</th>\n",
       "      <td>Pit Bull</td>\n",
       "      <td>NaN</td>\n",
       "      <td>M</td>\n",
       "      <td>07-185619ddk</td>\n",
       "      <td>2007-07-01</td>\n",
       "      <td>20080.0</td>\n",
       "      <td>Camo</td>\n",
       "      <td>200</td>\n",
       "      <td>NaN</td>\n",
       "      <td>Brindle &amp; White</td>\n",
       "      <td>NaN</td>\n",
       "      <td>50lbs</td>\n",
       "      <td>NaN</td>\n",
       "      <td>POLICE-DAY</td>\n",
       "      <td>Redeemed</td>\n",
       "      <td>NaN</td>\n",
       "    </tr>\n",
       "    <tr>\n",
       "      <th>2498</th>\n",
       "      <td>collie x</td>\n",
       "      <td>NaN</td>\n",
       "      <td>M/N</td>\n",
       "      <td>11137</td>\n",
       "      <td>2000-10-05</td>\n",
       "      <td>20030.0</td>\n",
       "      <td>Enrique (Kike)</td>\n",
       "      <td>200</td>\n",
       "      <td>NaN</td>\n",
       "      <td>brown and white</td>\n",
       "      <td>NaN</td>\n",
       "      <td>NaN</td>\n",
       "      <td>NaN</td>\n",
       "      <td>NaN</td>\n",
       "      <td>Redeemed</td>\n",
       "      <td>0</td>\n",
       "    </tr>\n",
       "    <tr>\n",
       "      <th>1516</th>\n",
       "      <td>Shep</td>\n",
       "      <td>1999-12-29</td>\n",
       "      <td>M/N</td>\n",
       "      <td>9888, BE</td>\n",
       "      <td>1999-12-18</td>\n",
       "      <td>20009.0</td>\n",
       "      <td>Hank</td>\n",
       "      <td>200</td>\n",
       "      <td>NaN</td>\n",
       "      <td>Black &amp; Tan</td>\n",
       "      <td>NaN</td>\n",
       "      <td>NaN</td>\n",
       "      <td>NaN</td>\n",
       "      <td>NaN</td>\n",
       "      <td>Sold</td>\n",
       "      <td>15</td>\n",
       "    </tr>\n",
       "    <tr>\n",
       "      <th>24249</th>\n",
       "      <td>Husky</td>\n",
       "      <td>NaN</td>\n",
       "      <td>M/N</td>\n",
       "      <td>13-356112DI</td>\n",
       "      <td>2013-05-31</td>\n",
       "      <td>2000.0</td>\n",
       "      <td>Sky</td>\n",
       "      <td>200</td>\n",
       "      <td>2013-05-31</td>\n",
       "      <td>White</td>\n",
       "      <td>NaN</td>\n",
       "      <td>NaN</td>\n",
       "      <td>NaN</td>\n",
       "      <td>HOLDING STRAY</td>\n",
       "      <td>Redeemed</td>\n",
       "      <td>15</td>\n",
       "    </tr>\n",
       "  </tbody>\n",
       "</table>\n",
       "</div>"
      ],
      "text/plain": [
       "                          Breed   ShotsDate  Sex ReceiptNumber DateImpounded  \\\n",
       "AnimalID                                                                       \n",
       "9387      West Highland Terrier         NaN    M      15644,MC    2004-09-04   \n",
       "15348                  Pit Bull         NaN    M  07-185619ddk    2007-07-01   \n",
       "2498                   collie x         NaN  M/N         11137    2000-10-05   \n",
       "1516                       Shep  1999-12-29  M/N      9888, BE    1999-12-18   \n",
       "24249                     Husky         NaN  M/N   13-356112DI    2013-05-31   \n",
       "\n",
       "          PitNumber            Name KennelNumber DispositionDate  \\\n",
       "AnimalID                                                           \n",
       "9387        20074.0           Harry          200             NaN   \n",
       "15348       20080.0            Camo          200             NaN   \n",
       "2498        20030.0  Enrique (Kike)          200             NaN   \n",
       "1516        20009.0            Hank          200             NaN   \n",
       "24249        2000.0             Sky          200      2013-05-31   \n",
       "\n",
       "                    Color Code ApproxWeight Age category         Source  \\\n",
       "AnimalID                                                                  \n",
       "9387                White  NaN          NaN          NaN  HOLDING STRAY   \n",
       "15348     Brindle & White  NaN        50lbs          NaN     POLICE-DAY   \n",
       "2498      brown and white  NaN          NaN          NaN            NaN   \n",
       "1516          Black & Tan  NaN          NaN          NaN            NaN   \n",
       "24249               White  NaN          NaN          NaN  HOLDING STRAY   \n",
       "\n",
       "            Status  ACO  \n",
       "AnimalID                 \n",
       "9387      Redeemed   21  \n",
       "15348     Redeemed  NaN  \n",
       "2498      Redeemed    0  \n",
       "1516          Sold   15  \n",
       "24249     Redeemed   15  "
      ]
     },
     "execution_count": 917,
     "metadata": {},
     "output_type": "execute_result"
    }
   ],
   "source": [
    "reg_df.sample(5)"
   ]
  },
  {
   "cell_type": "markdown",
   "metadata": {},
   "source": [
    "Since there are duplicates, we will need to drop those."
   ]
  },
  {
   "cell_type": "code",
   "execution_count": 918,
   "metadata": {},
   "outputs": [
    {
     "data": {
      "text/plain": [
       "False    26073\n",
       "True        41\n",
       "Name: count, dtype: int64"
      ]
     },
     "execution_count": 918,
     "metadata": {},
     "output_type": "execute_result"
    }
   ],
   "source": [
    "reg_df.duplicated().value_counts()"
   ]
  },
  {
   "cell_type": "markdown",
   "metadata": {},
   "source": [
    "Using the results from the `.info()` method, we can quickly visually parse about how many null values there are per column."
   ]
  },
  {
   "cell_type": "code",
   "execution_count": 919,
   "metadata": {
    "id": "bnviRCUI-bb7"
   },
   "outputs": [
    {
     "name": "stdout",
     "output_type": "stream",
     "text": [
      "<class 'pandas.core.frame.DataFrame'>\n",
      "Index: 26114 entries, 9344 to 25225\n",
      "Data columns (total 16 columns):\n",
      " #   Column           Non-Null Count  Dtype  \n",
      "---  ------           --------------  -----  \n",
      " 0   Breed            26106 non-null  object \n",
      " 1   ShotsDate        3755 non-null   object \n",
      " 2   Sex              25826 non-null  object \n",
      " 3   ReceiptNumber    21712 non-null  object \n",
      " 4   DateImpounded    26114 non-null  object \n",
      " 5   PitNumber        17763 non-null  float64\n",
      " 6   Name             23360 non-null  object \n",
      " 7   KennelNumber     26093 non-null  object \n",
      " 8   DispositionDate  12355 non-null  object \n",
      " 9   Color            26069 non-null  object \n",
      " 10  Code             1173 non-null   object \n",
      " 11  ApproxWeight     11646 non-null  object \n",
      " 12  Age category     8067 non-null   object \n",
      " 13  Source           24140 non-null  object \n",
      " 14  Status           26105 non-null  object \n",
      " 15  ACO              21330 non-null  object \n",
      "dtypes: float64(1), object(15)\n",
      "memory usage: 3.4+ MB\n"
     ]
    }
   ],
   "source": [
    "reg_df.info()"
   ]
  },
  {
   "cell_type": "markdown",
   "metadata": {},
   "source": [
    "`Age category` is the only column with a space character, as well as not being in `CamelCase`. Additionally, these columns are `CamelCase` instead of all lowercase, like the column labels in the `lost and found` dataset."
   ]
  },
  {
   "cell_type": "code",
   "execution_count": 920,
   "metadata": {},
   "outputs": [
    {
     "data": {
      "text/plain": [
       "Age category\n",
       "Adult          4923\n",
       "Young Adult    1561\n",
       "Senior         1134\n",
       "Puppy           449\n",
       "Name: count, dtype: int64"
      ]
     },
     "execution_count": 920,
     "metadata": {},
     "output_type": "execute_result"
    }
   ],
   "source": [
    "reg_df['Age category'].value_counts()   # Puppy being a category assumes the animal is a dog"
   ]
  },
  {
   "cell_type": "markdown",
   "metadata": {},
   "source": [
    "Issue and justification: Immediately, we can see that there are a lot of null values, especially for `Code`, `ShotsDate`, and `Age category` columns. Each of those have no more than about 30% of the values filled. It would be difficult, however, to infer anything to answer our question using any of these columns. \n",
    "\n",
    "The best columns would probably be `name`, `color`, `sex`, and `breed` for making inferences, so this means we can probably just drop the columns that are mostly null. For `name` and the other column.s previousy mentioned, we can probably just replace the null values with something like \"Unknown\"\n",
    "\n",
    "All of these null values make correlating animals together based on similar factors less reliable, especially if something critical like the name isn't disclosed or the color is not reported as the staff intaking animals would describe. Names are also likely the highest differentiator between two animals with similar breeds and coat colors, as well.\n",
    "\n",
    "There are also duplicate values, but those will be easy to handle. The biggest issue I feel is the insane abundance of missing values."
   ]
  },
  {
   "cell_type": "markdown",
   "metadata": {
    "id": "lXhGiYyiwwKN"
   },
   "source": [
    "### Tidiness Issue 1:"
   ]
  },
  {
   "cell_type": "markdown",
   "metadata": {},
   "source": [
    "I'm of the opinion that validating the 3 qualities of tidiness is most easily began visually with `.head()/.tail()`, then drilling down programatically with `.value_counts()`, queries, `.columns`, and more. "
   ]
  },
  {
   "cell_type": "code",
   "execution_count": 921,
   "metadata": {
    "id": "fleC5rORI0Xl"
   },
   "outputs": [
    {
     "data": {
      "text/html": [
       "<div>\n",
       "<style scoped>\n",
       "    .dataframe tbody tr th:only-of-type {\n",
       "        vertical-align: middle;\n",
       "    }\n",
       "\n",
       "    .dataframe tbody tr th {\n",
       "        vertical-align: top;\n",
       "    }\n",
       "\n",
       "    .dataframe thead th {\n",
       "        text-align: right;\n",
       "    }\n",
       "</style>\n",
       "<table border=\"1\" class=\"dataframe\">\n",
       "  <thead>\n",
       "    <tr style=\"text-align: right;\">\n",
       "      <th></th>\n",
       "      <th>date</th>\n",
       "      <th>breed</th>\n",
       "      <th>color</th>\n",
       "      <th>name</th>\n",
       "      <th>sex</th>\n",
       "      <th>state</th>\n",
       "    </tr>\n",
       "  </thead>\n",
       "  <tbody>\n",
       "    <tr>\n",
       "      <th>0</th>\n",
       "      <td>1999-01-03T00:00:00+00:00</td>\n",
       "      <td>Rotty X Shep</td>\n",
       "      <td>Black &amp; Tan</td>\n",
       "      <td>Tex</td>\n",
       "      <td>M/N</td>\n",
       "      <td>Lost</td>\n",
       "    </tr>\n",
       "    <tr>\n",
       "      <th>1</th>\n",
       "      <td>1999-01-04T00:00:00+00:00</td>\n",
       "      <td>Dog</td>\n",
       "      <td>Light Colour</td>\n",
       "      <td>None</td>\n",
       "      <td>M/N</td>\n",
       "      <td>Found</td>\n",
       "    </tr>\n",
       "    <tr>\n",
       "      <th>2</th>\n",
       "      <td>1999-01-04T00:00:00+00:00</td>\n",
       "      <td>Golden Lab X</td>\n",
       "      <td>Black &amp; Tan</td>\n",
       "      <td>Oscar</td>\n",
       "      <td>M</td>\n",
       "      <td>Lost</td>\n",
       "    </tr>\n",
       "    <tr>\n",
       "      <th>3</th>\n",
       "      <td>1999-01-04T00:00:00+00:00</td>\n",
       "      <td>Shep X</td>\n",
       "      <td>Black &amp; Tan</td>\n",
       "      <td>None</td>\n",
       "      <td>F</td>\n",
       "      <td>Found</td>\n",
       "    </tr>\n",
       "    <tr>\n",
       "      <th>4</th>\n",
       "      <td>1999-01-04T00:00:00+00:00</td>\n",
       "      <td>Shep X Collie</td>\n",
       "      <td>Black &amp; Tan</td>\n",
       "      <td>Angel</td>\n",
       "      <td>F</td>\n",
       "      <td>Lost</td>\n",
       "    </tr>\n",
       "  </tbody>\n",
       "</table>\n",
       "</div>"
      ],
      "text/plain": [
       "                        date          breed         color   name  sex  state\n",
       "0  1999-01-03T00:00:00+00:00   Rotty X Shep   Black & Tan    Tex  M/N   Lost\n",
       "1  1999-01-04T00:00:00+00:00            Dog  Light Colour   None  M/N  Found\n",
       "2  1999-01-04T00:00:00+00:00   Golden Lab X   Black & Tan  Oscar    M   Lost\n",
       "3  1999-01-04T00:00:00+00:00         Shep X   Black & Tan   None    F  Found\n",
       "4  1999-01-04T00:00:00+00:00  Shep X Collie   Black & Tan  Angel    F   Lost"
      ]
     },
     "execution_count": 921,
     "metadata": {},
     "output_type": "execute_result"
    }
   ],
   "source": [
    "lf_df.head()  # lets ground overselves in the data again"
   ]
  },
  {
   "cell_type": "code",
   "execution_count": 922,
   "metadata": {},
   "outputs": [
    {
     "data": {
      "text/html": [
       "<div>\n",
       "<style scoped>\n",
       "    .dataframe tbody tr th:only-of-type {\n",
       "        vertical-align: middle;\n",
       "    }\n",
       "\n",
       "    .dataframe tbody tr th {\n",
       "        vertical-align: top;\n",
       "    }\n",
       "\n",
       "    .dataframe thead th {\n",
       "        text-align: right;\n",
       "    }\n",
       "</style>\n",
       "<table border=\"1\" class=\"dataframe\">\n",
       "  <thead>\n",
       "    <tr style=\"text-align: right;\">\n",
       "      <th></th>\n",
       "      <th>date</th>\n",
       "      <th>breed</th>\n",
       "      <th>color</th>\n",
       "      <th>name</th>\n",
       "      <th>sex</th>\n",
       "      <th>state</th>\n",
       "    </tr>\n",
       "  </thead>\n",
       "  <tbody>\n",
       "    <tr>\n",
       "      <th>17867</th>\n",
       "      <td>2025-08-05T00:00:00+00:00</td>\n",
       "      <td>Cat - DSH - Tabby</td>\n",
       "      <td>Black w brown tabby stripes</td>\n",
       "      <td>Suzy</td>\n",
       "      <td>M</td>\n",
       "      <td>Lost</td>\n",
       "    </tr>\n",
       "    <tr>\n",
       "      <th>17868</th>\n",
       "      <td>2025-08-05T00:00:00+00:00</td>\n",
       "      <td>Maltese X Bichon</td>\n",
       "      <td>Black w white front right paw</td>\n",
       "      <td>Ollie</td>\n",
       "      <td>M</td>\n",
       "      <td>Matched</td>\n",
       "    </tr>\n",
       "    <tr>\n",
       "      <th>17869</th>\n",
       "      <td>2025-08-06T00:00:00+00:00</td>\n",
       "      <td>Cat - British Short Hair</td>\n",
       "      <td>Grey &amp; White</td>\n",
       "      <td>Shay Shay</td>\n",
       "      <td>F/S</td>\n",
       "      <td>Lost</td>\n",
       "    </tr>\n",
       "    <tr>\n",
       "      <th>17870</th>\n",
       "      <td>2025-08-06T00:00:00+00:00</td>\n",
       "      <td>Lab X</td>\n",
       "      <td>Brown</td>\n",
       "      <td>Titan</td>\n",
       "      <td>M/N</td>\n",
       "      <td>Lost</td>\n",
       "    </tr>\n",
       "    <tr>\n",
       "      <th>17871</th>\n",
       "      <td>2025-08-06T00:00:00+00:00</td>\n",
       "      <td>Poodle</td>\n",
       "      <td>Brown</td>\n",
       "      <td>Brownie</td>\n",
       "      <td>M/N</td>\n",
       "      <td>Lost</td>\n",
       "    </tr>\n",
       "  </tbody>\n",
       "</table>\n",
       "</div>"
      ],
      "text/plain": [
       "                            date                     breed  \\\n",
       "17867  2025-08-05T00:00:00+00:00         Cat - DSH - Tabby   \n",
       "17868  2025-08-05T00:00:00+00:00          Maltese X Bichon   \n",
       "17869  2025-08-06T00:00:00+00:00  Cat - British Short Hair   \n",
       "17870  2025-08-06T00:00:00+00:00                     Lab X   \n",
       "17871  2025-08-06T00:00:00+00:00                    Poodle   \n",
       "\n",
       "                               color       name  sex    state  \n",
       "17867    Black w brown tabby stripes       Suzy    M     Lost  \n",
       "17868  Black w white front right paw      Ollie    M  Matched  \n",
       "17869                   Grey & White  Shay Shay  F/S     Lost  \n",
       "17870                          Brown      Titan  M/N     Lost  \n",
       "17871                          Brown    Brownie  M/N     Lost  "
      ]
     },
     "execution_count": 922,
     "metadata": {},
     "output_type": "execute_result"
    }
   ],
   "source": [
    "lf_df.tail()"
   ]
  },
  {
   "cell_type": "markdown",
   "metadata": {},
   "source": [
    "Based on the output above, the columns are each a distinct type of variable. It does seem, however, some columns store multiple variables in a single datapoint, especially `sex`, which indicates the reproductive sterility of an animal. This column, and another to be investigated further below, can be split into additional columns."
   ]
  },
  {
   "cell_type": "code",
   "execution_count": 923,
   "metadata": {},
   "outputs": [
    {
     "data": {
      "text/plain": [
       "sex\n",
       "M      5106\n",
       "M/N    4562\n",
       "F      3906\n",
       "F/S    3690\n",
       "X       221\n",
       "Name: count, dtype: int64"
      ]
     },
     "execution_count": 923,
     "metadata": {},
     "output_type": "execute_result"
    }
   ],
   "source": [
    "lf_df.sex.value_counts()"
   ]
  },
  {
   "cell_type": "code",
   "execution_count": 924,
   "metadata": {},
   "outputs": [
    {
     "name": "stdout",
     "output_type": "stream",
     "text": [
      "There are 4053 unique breeds in the dataset.\n"
     ]
    },
    {
     "data": {
      "text/plain": [
       "0                            None\n",
       "1          (Miniature) Pomeranian\n",
       "2              .Unknown Breed Mix\n",
       "3      1 Pit Bull & 1 Terrier mix\n",
       "4    1 Pitbull & 1 Bernese/Poodle\n",
       "dtype: object"
      ]
     },
     "execution_count": 924,
     "metadata": {},
     "output_type": "execute_result"
    }
   ],
   "source": [
    "print(\"There are\", lf_df.breed.unique().shape[0], \"unique breeds in the dataset.\")\n",
    "\n",
    "breed_s = pd.Series(lf_df.breed.unique()).sort_values(na_position='first', ignore_index=True)\n",
    "breed_s.head()"
   ]
  },
  {
   "cell_type": "code",
   "execution_count": 925,
   "metadata": {},
   "outputs": [
    {
     "data": {
      "text/plain": [
       "4043    stratfordshire terrier\n",
       "4044                     tabby\n",
       "4045    tabby Grey black brown\n",
       "4046       tabby short haireds\n",
       "4047               terrier (?)\n",
       "4048                 terrier X\n",
       "4049             terrier X pug\n",
       "4050      very small ( 5 lbs )\n",
       "4051             westy terrier\n",
       "4052              yorkie cross\n",
       "dtype: object"
      ]
     },
     "execution_count": 925,
     "metadata": {},
     "output_type": "execute_result"
    }
   ],
   "source": [
    "breed_s.tail(10)"
   ]
  },
  {
   "cell_type": "code",
   "execution_count": 926,
   "metadata": {},
   "outputs": [
    {
     "data": {
      "text/html": [
       "<div>\n",
       "<style scoped>\n",
       "    .dataframe tbody tr th:only-of-type {\n",
       "        vertical-align: middle;\n",
       "    }\n",
       "\n",
       "    .dataframe tbody tr th {\n",
       "        vertical-align: top;\n",
       "    }\n",
       "\n",
       "    .dataframe thead th {\n",
       "        text-align: right;\n",
       "    }\n",
       "</style>\n",
       "<table border=\"1\" class=\"dataframe\">\n",
       "  <thead>\n",
       "    <tr style=\"text-align: right;\">\n",
       "      <th></th>\n",
       "      <th></th>\n",
       "      <th>0</th>\n",
       "    </tr>\n",
       "    <tr>\n",
       "      <th></th>\n",
       "      <th>match</th>\n",
       "      <th></th>\n",
       "    </tr>\n",
       "  </thead>\n",
       "  <tbody>\n",
       "    <tr>\n",
       "      <th>3</th>\n",
       "      <th>0</th>\n",
       "      <td>1 Pit Bull &amp; 1 Terrier mix</td>\n",
       "    </tr>\n",
       "    <tr>\n",
       "      <th>4</th>\n",
       "      <th>0</th>\n",
       "      <td>1 Pitbull &amp; 1 Bernese/Poodle</td>\n",
       "    </tr>\n",
       "    <tr>\n",
       "      <th>5</th>\n",
       "      <th>0</th>\n",
       "      <td>1/2 Pit &amp; 1/2 Presa</td>\n",
       "    </tr>\n",
       "    <tr>\n",
       "      <th>6</th>\n",
       "      <th>0</th>\n",
       "      <td>2 Dachunds</td>\n",
       "    </tr>\n",
       "    <tr>\n",
       "      <th>7</th>\n",
       "      <th>0</th>\n",
       "      <td>2 Great Pyrenese</td>\n",
       "    </tr>\n",
       "    <tr>\n",
       "      <th>...</th>\n",
       "      <th>...</th>\n",
       "      <td>...</td>\n",
       "    </tr>\n",
       "    <tr>\n",
       "      <th>3651</th>\n",
       "      <th>0</th>\n",
       "      <td>Staff Terrier #2</td>\n",
       "    </tr>\n",
       "    <tr>\n",
       "      <th>3673</th>\n",
       "      <th>0</th>\n",
       "      <td>Stafforshire Terrier 14 months</td>\n",
       "    </tr>\n",
       "    <tr>\n",
       "      <th>3984</th>\n",
       "      <th>0</th>\n",
       "      <td>lab  and 2nd dog German Sheper</td>\n",
       "    </tr>\n",
       "    <tr>\n",
       "      <th>4041</th>\n",
       "      <th>0</th>\n",
       "      <td>small dog Benji type (10lbs)</td>\n",
       "    </tr>\n",
       "    <tr>\n",
       "      <th>4050</th>\n",
       "      <th>0</th>\n",
       "      <td>very small ( 5 lbs )</td>\n",
       "    </tr>\n",
       "  </tbody>\n",
       "</table>\n",
       "<p>121 rows × 1 columns</p>\n",
       "</div>"
      ],
      "text/plain": [
       "                                         0\n",
       "     match                                \n",
       "3    0          1 Pit Bull & 1 Terrier mix\n",
       "4    0        1 Pitbull & 1 Bernese/Poodle\n",
       "5    0                 1/2 Pit & 1/2 Presa\n",
       "6    0                          2 Dachunds\n",
       "7    0                    2 Great Pyrenese\n",
       "...                                    ...\n",
       "3651 0                    Staff Terrier #2\n",
       "3673 0      Stafforshire Terrier 14 months\n",
       "3984 0      lab  and 2nd dog German Sheper\n",
       "4041 0        small dog Benji type (10lbs)\n",
       "4050 0                very small ( 5 lbs )\n",
       "\n",
       "[121 rows x 1 columns]"
      ]
     },
     "execution_count": 926,
     "metadata": {},
     "output_type": "execute_result"
    }
   ],
   "source": [
    "breed_s.str.extractall(\"(.*\\d.*)\")"
   ]
  },
  {
   "cell_type": "markdown",
   "metadata": {},
   "source": [
    "Issue and justification: It seems the `breed` column could be useful for finding single rows with multiple animals reported (e.g., `1 Pit Bull & 1 Terrier mix`). A more tidy way to do this would be splitting those out into separate rows. If the report needs to be associated with those from the same report, there can be a report ID that all applicable reports share, however I will not need that information to answer my question.\n",
    "\n",
    "By having multiple animals in one row, this not only inaccurately represents the number of animals reported missing, but also makes grouping or filtering by the reported breed unreliable.\n",
    "\n",
    "The `sex` column could also be split into two columns, where one solely stores the biological sex of the animal and the other stores if they are neutered or spayed. This can just be a boolean value for simplicity's sake."
   ]
  },
  {
   "cell_type": "markdown",
   "metadata": {
    "id": "4ffMoRGSwzYj"
   },
   "source": [
    "### Tidiness Issue 2: "
   ]
  },
  {
   "cell_type": "code",
   "execution_count": 927,
   "metadata": {
    "id": "XUpeoqokw5Qt"
   },
   "outputs": [
    {
     "data": {
      "text/html": [
       "<div>\n",
       "<style scoped>\n",
       "    .dataframe tbody tr th:only-of-type {\n",
       "        vertical-align: middle;\n",
       "    }\n",
       "\n",
       "    .dataframe tbody tr th {\n",
       "        vertical-align: top;\n",
       "    }\n",
       "\n",
       "    .dataframe thead th {\n",
       "        text-align: right;\n",
       "    }\n",
       "</style>\n",
       "<table border=\"1\" class=\"dataframe\">\n",
       "  <thead>\n",
       "    <tr style=\"text-align: right;\">\n",
       "      <th></th>\n",
       "      <th>Breed</th>\n",
       "      <th>ShotsDate</th>\n",
       "      <th>Sex</th>\n",
       "      <th>ReceiptNumber</th>\n",
       "      <th>DateImpounded</th>\n",
       "      <th>PitNumber</th>\n",
       "      <th>Name</th>\n",
       "      <th>KennelNumber</th>\n",
       "      <th>DispositionDate</th>\n",
       "      <th>Color</th>\n",
       "      <th>Code</th>\n",
       "      <th>ApproxWeight</th>\n",
       "      <th>Age category</th>\n",
       "      <th>Source</th>\n",
       "      <th>Status</th>\n",
       "      <th>ACO</th>\n",
       "    </tr>\n",
       "    <tr>\n",
       "      <th>AnimalID</th>\n",
       "      <th></th>\n",
       "      <th></th>\n",
       "      <th></th>\n",
       "      <th></th>\n",
       "      <th></th>\n",
       "      <th></th>\n",
       "      <th></th>\n",
       "      <th></th>\n",
       "      <th></th>\n",
       "      <th></th>\n",
       "      <th></th>\n",
       "      <th></th>\n",
       "      <th></th>\n",
       "      <th></th>\n",
       "      <th></th>\n",
       "      <th></th>\n",
       "    </tr>\n",
       "  </thead>\n",
       "  <tbody>\n",
       "    <tr>\n",
       "      <th>9344</th>\n",
       "      <td>Maltese</td>\n",
       "      <td>NaN</td>\n",
       "      <td>M</td>\n",
       "      <td>15690JF</td>\n",
       "      <td>2004-09-25</td>\n",
       "      <td>20069.0</td>\n",
       "      <td>Cody</td>\n",
       "      <td>200</td>\n",
       "      <td>NaN</td>\n",
       "      <td>White</td>\n",
       "      <td>NaN</td>\n",
       "      <td>12 lbs</td>\n",
       "      <td>NaN</td>\n",
       "      <td>BROUGHT-IN</td>\n",
       "      <td>Redeemed</td>\n",
       "      <td>20</td>\n",
       "    </tr>\n",
       "    <tr>\n",
       "      <th>9345</th>\n",
       "      <td>Retriever X Pitbull</td>\n",
       "      <td>NaN</td>\n",
       "      <td>M/N</td>\n",
       "      <td>15702,MC</td>\n",
       "      <td>2004-09-26</td>\n",
       "      <td>20066.0</td>\n",
       "      <td>Prince</td>\n",
       "      <td>200</td>\n",
       "      <td>NaN</td>\n",
       "      <td>Gold</td>\n",
       "      <td>NaN</td>\n",
       "      <td>50lbs</td>\n",
       "      <td>NaN</td>\n",
       "      <td>BROUGHT-IN</td>\n",
       "      <td>Redeemed</td>\n",
       "      <td>0</td>\n",
       "    </tr>\n",
       "    <tr>\n",
       "      <th>9351</th>\n",
       "      <td>Pitbull</td>\n",
       "      <td>NaN</td>\n",
       "      <td>F</td>\n",
       "      <td>BC3</td>\n",
       "      <td>2004-09-27</td>\n",
       "      <td>40069.0</td>\n",
       "      <td>China</td>\n",
       "      <td>400</td>\n",
       "      <td>NaN</td>\n",
       "      <td>Brown &amp; White</td>\n",
       "      <td>NaN</td>\n",
       "      <td>50 lbs</td>\n",
       "      <td>NaN</td>\n",
       "      <td>COMPLAINT</td>\n",
       "      <td>Ride Home Free</td>\n",
       "      <td>22</td>\n",
       "    </tr>\n",
       "    <tr>\n",
       "      <th>9353</th>\n",
       "      <td>Cane Corso X</td>\n",
       "      <td>NaN</td>\n",
       "      <td>F/S</td>\n",
       "      <td>15703MC</td>\n",
       "      <td>2004-09-27</td>\n",
       "      <td>20044.0</td>\n",
       "      <td>Jane</td>\n",
       "      <td>200</td>\n",
       "      <td>NaN</td>\n",
       "      <td>Black &amp; Brindle</td>\n",
       "      <td>NaN</td>\n",
       "      <td>40 lbs</td>\n",
       "      <td>NaN</td>\n",
       "      <td>HOLDING STRAY</td>\n",
       "      <td>Redeemed</td>\n",
       "      <td>22</td>\n",
       "    </tr>\n",
       "    <tr>\n",
       "      <th>9357</th>\n",
       "      <td>German Shepherd  X</td>\n",
       "      <td>NaN</td>\n",
       "      <td>F/S</td>\n",
       "      <td>15656,MC</td>\n",
       "      <td>2004-08-28</td>\n",
       "      <td>20028.0</td>\n",
       "      <td>Echo</td>\n",
       "      <td>200</td>\n",
       "      <td>NaN</td>\n",
       "      <td>Black &amp; Tan &amp; White</td>\n",
       "      <td>NaN</td>\n",
       "      <td>25lbs</td>\n",
       "      <td>NaN</td>\n",
       "      <td>HOLDING STRAY</td>\n",
       "      <td>Sold</td>\n",
       "      <td>21</td>\n",
       "    </tr>\n",
       "  </tbody>\n",
       "</table>\n",
       "</div>"
      ],
      "text/plain": [
       "                        Breed ShotsDate  Sex ReceiptNumber DateImpounded  \\\n",
       "AnimalID                                                                   \n",
       "9344                  Maltese       NaN    M       15690JF    2004-09-25   \n",
       "9345      Retriever X Pitbull       NaN  M/N      15702,MC    2004-09-26   \n",
       "9351                  Pitbull       NaN    F           BC3    2004-09-27   \n",
       "9353             Cane Corso X       NaN  F/S       15703MC    2004-09-27   \n",
       "9357       German Shepherd  X       NaN  F/S      15656,MC    2004-08-28   \n",
       "\n",
       "          PitNumber    Name KennelNumber DispositionDate                Color  \\\n",
       "AnimalID                                                                        \n",
       "9344        20069.0    Cody          200             NaN                White   \n",
       "9345        20066.0  Prince          200             NaN                 Gold   \n",
       "9351        40069.0   China          400             NaN        Brown & White   \n",
       "9353        20044.0    Jane          200             NaN      Black & Brindle   \n",
       "9357        20028.0    Echo          200             NaN  Black & Tan & White   \n",
       "\n",
       "         Code ApproxWeight Age category         Source          Status ACO  \n",
       "AnimalID                                                                    \n",
       "9344      NaN       12 lbs          NaN     BROUGHT-IN        Redeemed  20  \n",
       "9345      NaN        50lbs          NaN     BROUGHT-IN        Redeemed   0  \n",
       "9351      NaN       50 lbs          NaN      COMPLAINT  Ride Home Free  22  \n",
       "9353      NaN       40 lbs          NaN  HOLDING STRAY        Redeemed  22  \n",
       "9357      NaN        25lbs          NaN  HOLDING STRAY            Sold  21  "
      ]
     },
     "execution_count": 927,
     "metadata": {},
     "output_type": "execute_result"
    }
   ],
   "source": [
    "reg_df.head()"
   ]
  },
  {
   "cell_type": "code",
   "execution_count": 928,
   "metadata": {},
   "outputs": [
    {
     "data": {
      "text/html": [
       "<div>\n",
       "<style scoped>\n",
       "    .dataframe tbody tr th:only-of-type {\n",
       "        vertical-align: middle;\n",
       "    }\n",
       "\n",
       "    .dataframe tbody tr th {\n",
       "        vertical-align: top;\n",
       "    }\n",
       "\n",
       "    .dataframe thead th {\n",
       "        text-align: right;\n",
       "    }\n",
       "</style>\n",
       "<table border=\"1\" class=\"dataframe\">\n",
       "  <thead>\n",
       "    <tr style=\"text-align: right;\">\n",
       "      <th></th>\n",
       "      <th>Breed</th>\n",
       "      <th>ShotsDate</th>\n",
       "      <th>Sex</th>\n",
       "      <th>ReceiptNumber</th>\n",
       "      <th>DateImpounded</th>\n",
       "      <th>PitNumber</th>\n",
       "      <th>Name</th>\n",
       "      <th>KennelNumber</th>\n",
       "      <th>DispositionDate</th>\n",
       "      <th>Color</th>\n",
       "      <th>Code</th>\n",
       "      <th>ApproxWeight</th>\n",
       "      <th>Age category</th>\n",
       "      <th>Source</th>\n",
       "      <th>Status</th>\n",
       "      <th>ACO</th>\n",
       "    </tr>\n",
       "    <tr>\n",
       "      <th>AnimalID</th>\n",
       "      <th></th>\n",
       "      <th></th>\n",
       "      <th></th>\n",
       "      <th></th>\n",
       "      <th></th>\n",
       "      <th></th>\n",
       "      <th></th>\n",
       "      <th></th>\n",
       "      <th></th>\n",
       "      <th></th>\n",
       "      <th></th>\n",
       "      <th></th>\n",
       "      <th></th>\n",
       "      <th></th>\n",
       "      <th></th>\n",
       "      <th></th>\n",
       "    </tr>\n",
       "  </thead>\n",
       "  <tbody>\n",
       "    <tr>\n",
       "      <th>1</th>\n",
       "      <td>Pit Bull</td>\n",
       "      <td>2005-06-18</td>\n",
       "      <td>M/N</td>\n",
       "      <td>17057 ks</td>\n",
       "      <td>2005-06-12</td>\n",
       "      <td>20038.0</td>\n",
       "      <td>Taz</td>\n",
       "      <td>200</td>\n",
       "      <td>NaN</td>\n",
       "      <td>Tan</td>\n",
       "      <td>NaN</td>\n",
       "      <td>45</td>\n",
       "      <td>NaN</td>\n",
       "      <td>HOLDING STRAY</td>\n",
       "      <td>Sold</td>\n",
       "      <td>3</td>\n",
       "    </tr>\n",
       "    <tr>\n",
       "      <th>2</th>\n",
       "      <td>English Setter</td>\n",
       "      <td>NaN</td>\n",
       "      <td>M/N</td>\n",
       "      <td>20372 BC3</td>\n",
       "      <td>2006-03-19</td>\n",
       "      <td>20041.0</td>\n",
       "      <td>Dudley</td>\n",
       "      <td>200</td>\n",
       "      <td>NaN</td>\n",
       "      <td>White &amp; Brown</td>\n",
       "      <td>NaN</td>\n",
       "      <td>100lbs</td>\n",
       "      <td>NaN</td>\n",
       "      <td>HOLDING STRAY</td>\n",
       "      <td>Redeemed</td>\n",
       "      <td>NaN</td>\n",
       "    </tr>\n",
       "    <tr>\n",
       "      <th>3</th>\n",
       "      <td>Lab X</td>\n",
       "      <td>NaN</td>\n",
       "      <td>M/N</td>\n",
       "      <td>N/C BC</td>\n",
       "      <td>2006-07-24</td>\n",
       "      <td>40041.0</td>\n",
       "      <td>Evander</td>\n",
       "      <td>400</td>\n",
       "      <td>NaN</td>\n",
       "      <td>Black</td>\n",
       "      <td>NaN</td>\n",
       "      <td>NaN</td>\n",
       "      <td>NaN</td>\n",
       "      <td>HOLDING STRAY</td>\n",
       "      <td>Ride Home Free</td>\n",
       "      <td>5</td>\n",
       "    </tr>\n",
       "    <tr>\n",
       "      <th>4</th>\n",
       "      <td>Pomeranian</td>\n",
       "      <td>NaN</td>\n",
       "      <td>M</td>\n",
       "      <td>22171,MC</td>\n",
       "      <td>2006-09-08</td>\n",
       "      <td>20017.0</td>\n",
       "      <td>Chewbaca</td>\n",
       "      <td>200</td>\n",
       "      <td>NaN</td>\n",
       "      <td>Brown</td>\n",
       "      <td>NaN</td>\n",
       "      <td>10 lbs.</td>\n",
       "      <td>NaN</td>\n",
       "      <td>HOLDING STRAY</td>\n",
       "      <td>Redeemed</td>\n",
       "      <td>14</td>\n",
       "    </tr>\n",
       "    <tr>\n",
       "      <th>5</th>\n",
       "      <td>American Bulldog X</td>\n",
       "      <td>2006-10-07</td>\n",
       "      <td>M/N</td>\n",
       "      <td>22565 - skj</td>\n",
       "      <td>2006-09-06</td>\n",
       "      <td>20053.0</td>\n",
       "      <td>Cadillac</td>\n",
       "      <td>200</td>\n",
       "      <td>NaN</td>\n",
       "      <td>White with Brown Patch on Eye</td>\n",
       "      <td>NaN</td>\n",
       "      <td>80 lbs</td>\n",
       "      <td>NaN</td>\n",
       "      <td>HOLDING STRAY</td>\n",
       "      <td>Sold</td>\n",
       "      <td>22</td>\n",
       "    </tr>\n",
       "  </tbody>\n",
       "</table>\n",
       "</div>"
      ],
      "text/plain": [
       "                       Breed   ShotsDate  Sex ReceiptNumber DateImpounded  \\\n",
       "AnimalID                                                                    \n",
       "1                   Pit Bull  2005-06-18  M/N      17057 ks    2005-06-12   \n",
       "2             English Setter         NaN  M/N     20372 BC3    2006-03-19   \n",
       "3                      Lab X         NaN  M/N        N/C BC    2006-07-24   \n",
       "4                 Pomeranian         NaN    M      22171,MC    2006-09-08   \n",
       "5         American Bulldog X  2006-10-07  M/N   22565 - skj    2006-09-06   \n",
       "\n",
       "          PitNumber      Name KennelNumber DispositionDate  \\\n",
       "AnimalID                                                     \n",
       "1           20038.0       Taz          200             NaN   \n",
       "2           20041.0    Dudley          200             NaN   \n",
       "3           40041.0   Evander          400             NaN   \n",
       "4           20017.0  Chewbaca          200             NaN   \n",
       "5           20053.0  Cadillac          200             NaN   \n",
       "\n",
       "                                  Color Code ApproxWeight Age category  \\\n",
       "AnimalID                                                                 \n",
       "1                                   Tan  NaN           45          NaN   \n",
       "2                         White & Brown  NaN       100lbs          NaN   \n",
       "3                                 Black  NaN          NaN          NaN   \n",
       "4                                 Brown  NaN      10 lbs.          NaN   \n",
       "5         White with Brown Patch on Eye  NaN       80 lbs          NaN   \n",
       "\n",
       "                 Source          Status  ACO  \n",
       "AnimalID                                      \n",
       "1         HOLDING STRAY            Sold    3  \n",
       "2         HOLDING STRAY        Redeemed  NaN  \n",
       "3         HOLDING STRAY  Ride Home Free    5  \n",
       "4         HOLDING STRAY        Redeemed   14  \n",
       "5         HOLDING STRAY            Sold   22  "
      ]
     },
     "execution_count": 928,
     "metadata": {},
     "output_type": "execute_result"
    }
   ],
   "source": [
    "reg_df.sort_index().head()"
   ]
  },
  {
   "cell_type": "markdown",
   "metadata": {},
   "source": [
    "Skimming through the breed column revealed multiple occurrences of a string like \"`<breed-name> X`\". Immediately, I am unsure what this may indicate, but I have a presumption that I will elaborate upon when I describe the issue I'll be addressing with this dataset."
   ]
  },
  {
   "cell_type": "code",
   "execution_count": 929,
   "metadata": {},
   "outputs": [
    {
     "data": {
      "text/plain": [
       "Breed                       Lab X\n",
       "ShotsDate                     NaN\n",
       "Sex                           M/N\n",
       "ReceiptNumber              N/C BC\n",
       "DateImpounded          2006-07-24\n",
       "PitNumber                 40041.0\n",
       "Name                      Evander\n",
       "KennelNumber                  400\n",
       "DispositionDate               NaN\n",
       "Color                       Black\n",
       "Code                          NaN\n",
       "ApproxWeight                  NaN\n",
       "Age category                  NaN\n",
       "Source              HOLDING STRAY\n",
       "Status             Ride Home Free\n",
       "ACO                             5\n",
       "Name: 3, dtype: object"
      ]
     },
     "execution_count": 929,
     "metadata": {},
     "output_type": "execute_result"
    }
   ],
   "source": [
    "reg_df.query('AnimalID == 3').iloc[0]  # iloc will return a series, which is a bit easier to read for a single row"
   ]
  },
  {
   "cell_type": "markdown",
   "metadata": {},
   "source": [
    "Looking a little further, it looks like `Lab X` is incredibly common."
   ]
  },
  {
   "cell_type": "code",
   "execution_count": 930,
   "metadata": {},
   "outputs": [
    {
     "data": {
      "text/plain": [
       "0              \n",
       "Lab X              872\n",
       "Lab                571\n",
       "Labrador           495\n",
       "Labrador X          78\n",
       "Shep X Lab          78\n",
       "                  ... \n",
       "Black Lab X Pit      1\n",
       "Black Lab/GSD        1\n",
       "Black X Lab          1\n",
       "Heeler/Lab X         1\n",
       "rotty X lab          1\n",
       "Name: count, Length: 490, dtype: int64"
      ]
     },
     "execution_count": 930,
     "metadata": {},
     "output_type": "execute_result"
    }
   ],
   "source": [
    "reg_df['Breed'].str.extractall(\"(.*[lL]ab.*)\").value_counts()"
   ]
  },
  {
   "cell_type": "markdown",
   "metadata": {},
   "source": [
    "Issue and justification: There are a few places where some improvements can be made. \n",
    "- `Name` - Some rows contain \"`(New name)`,\" which is tracking two factors of data in a single column.\n",
    "  - This could be resolved with another column of boolean values, but I do not think it will be entirely necessary for our cause. Therefore, we will remove occurrences of `(New name)`\n",
    "- `Breed` - Some breeds have \"`mix`\" while others have \"`X`\". Presumably, `X` is also for \"mix,\" but this is merely an assumption. \n",
    "  - Additionally, `Black Lab` is not a breed, the breed is Labrador Retriever. Despite this, we will be leaving it in order to simplify this project.\n",
    "\n",
    "Another general issue is that this field has inconsistent capitalization. Eventually, I will normalize all of the string fields so that they are all in lowercase."
   ]
  },
  {
   "cell_type": "markdown",
   "metadata": {
    "id": "D6gmLnBttpCh"
   },
   "source": [
    "## 3. Clean data"
   ]
  },
  {
   "cell_type": "markdown",
   "metadata": {},
   "source": [
    "### Pre-Cleaning Cleaning"
   ]
  },
  {
   "cell_type": "markdown",
   "metadata": {},
   "source": [
    "There are a few operations I plan to do before we begin the real cleaning:\n",
    "1. Lowercase all strings\n",
    "2. Lowercase all column names and remove spaces\n",
    "\n",
    "Following that, we will address the four issues brought up during phase 2."
   ]
  },
  {
   "cell_type": "code",
   "execution_count": 931,
   "metadata": {},
   "outputs": [],
   "source": [
    "# Make copies of the datasets to ensure the raw dataframes are not impacted\n",
    "lf_df_clean = lf_df.copy()\n",
    "reg_df_clean = reg_df.copy()\n",
    "\n",
    "reg_df_clean.rename(columns=lambda x: x.strip().lower().replace(\" \", \"\"), inplace=True)\n",
    "\n",
    "\n",
    "for col in lf_df_clean.columns:\n",
    "    lf_df_clean[col] = lf_df_clean[col].str.lower()\n",
    "\n",
    "#lf_df_clean.rename(columns={\"name\": \"animalname\"}, inplace=True)\n",
    "\n",
    "#reg_df_clean.index.rename(reg_df_clean.index.name.lower(), inplace=True)\n",
    "\n",
    "for col in reg_df_clean.columns:\n",
    "    if col == 'pitnumber': continue  # this is type float64\n",
    "\n",
    "    reg_df_clean[col] = reg_df_clean[col].str.lower()"
   ]
  },
  {
   "cell_type": "markdown",
   "metadata": {},
   "source": [
    "Now we'll validate..."
   ]
  },
  {
   "cell_type": "code",
   "execution_count": 932,
   "metadata": {},
   "outputs": [
    {
     "data": {
      "text/html": [
       "<div>\n",
       "<style scoped>\n",
       "    .dataframe tbody tr th:only-of-type {\n",
       "        vertical-align: middle;\n",
       "    }\n",
       "\n",
       "    .dataframe tbody tr th {\n",
       "        vertical-align: top;\n",
       "    }\n",
       "\n",
       "    .dataframe thead th {\n",
       "        text-align: right;\n",
       "    }\n",
       "</style>\n",
       "<table border=\"1\" class=\"dataframe\">\n",
       "  <thead>\n",
       "    <tr style=\"text-align: right;\">\n",
       "      <th></th>\n",
       "      <th>date</th>\n",
       "      <th>breed</th>\n",
       "      <th>color</th>\n",
       "      <th>name</th>\n",
       "      <th>sex</th>\n",
       "      <th>state</th>\n",
       "    </tr>\n",
       "  </thead>\n",
       "  <tbody>\n",
       "    <tr>\n",
       "      <th>10035</th>\n",
       "      <td>2013-11-25t00:00:00+00:00</td>\n",
       "      <td>.unknown breed mix</td>\n",
       "      <td>black</td>\n",
       "      <td>wendy</td>\n",
       "      <td>f</td>\n",
       "      <td>lost</td>\n",
       "    </tr>\n",
       "  </tbody>\n",
       "</table>\n",
       "</div>"
      ],
      "text/plain": [
       "                            date               breed  color   name sex state\n",
       "10035  2013-11-25t00:00:00+00:00  .unknown breed mix  black  wendy   f  lost"
      ]
     },
     "execution_count": 932,
     "metadata": {},
     "output_type": "execute_result"
    }
   ],
   "source": [
    "# Random sample of the lost and found table is all lowercase?\n",
    "lf_df_clean.sample(1)"
   ]
  },
  {
   "cell_type": "code",
   "execution_count": 933,
   "metadata": {},
   "outputs": [
    {
     "data": {
      "text/html": [
       "<div>\n",
       "<style scoped>\n",
       "    .dataframe tbody tr th:only-of-type {\n",
       "        vertical-align: middle;\n",
       "    }\n",
       "\n",
       "    .dataframe tbody tr th {\n",
       "        vertical-align: top;\n",
       "    }\n",
       "\n",
       "    .dataframe thead th {\n",
       "        text-align: right;\n",
       "    }\n",
       "</style>\n",
       "<table border=\"1\" class=\"dataframe\">\n",
       "  <thead>\n",
       "    <tr style=\"text-align: right;\">\n",
       "      <th></th>\n",
       "      <th>breed</th>\n",
       "      <th>shotsdate</th>\n",
       "      <th>sex</th>\n",
       "      <th>receiptnumber</th>\n",
       "      <th>dateimpounded</th>\n",
       "      <th>pitnumber</th>\n",
       "      <th>name</th>\n",
       "      <th>kennelnumber</th>\n",
       "      <th>dispositiondate</th>\n",
       "      <th>color</th>\n",
       "      <th>code</th>\n",
       "      <th>approxweight</th>\n",
       "      <th>agecategory</th>\n",
       "      <th>source</th>\n",
       "      <th>status</th>\n",
       "      <th>aco</th>\n",
       "    </tr>\n",
       "    <tr>\n",
       "      <th>AnimalID</th>\n",
       "      <th></th>\n",
       "      <th></th>\n",
       "      <th></th>\n",
       "      <th></th>\n",
       "      <th></th>\n",
       "      <th></th>\n",
       "      <th></th>\n",
       "      <th></th>\n",
       "      <th></th>\n",
       "      <th></th>\n",
       "      <th></th>\n",
       "      <th></th>\n",
       "      <th></th>\n",
       "      <th></th>\n",
       "      <th></th>\n",
       "      <th></th>\n",
       "    </tr>\n",
       "  </thead>\n",
       "  <tbody>\n",
       "    <tr>\n",
       "      <th>24166</th>\n",
       "      <td>shepherd</td>\n",
       "      <td>2013-05-20</td>\n",
       "      <td>f/s</td>\n",
       "      <td>13-359370di</td>\n",
       "      <td>2013-05-09</td>\n",
       "      <td>56.0</td>\n",
       "      <td>pippa (now pepper)</td>\n",
       "      <td>200</td>\n",
       "      <td>2013-06-17</td>\n",
       "      <td>black</td>\n",
       "      <td>blue</td>\n",
       "      <td>50</td>\n",
       "      <td>young adult</td>\n",
       "      <td>holding stray</td>\n",
       "      <td>sold</td>\n",
       "      <td>3</td>\n",
       "    </tr>\n",
       "  </tbody>\n",
       "</table>\n",
       "</div>"
      ],
      "text/plain": [
       "             breed   shotsdate  sex receiptnumber dateimpounded  pitnumber  \\\n",
       "AnimalID                                                                     \n",
       "24166     shepherd  2013-05-20  f/s   13-359370di    2013-05-09       56.0   \n",
       "\n",
       "                        name kennelnumber dispositiondate  color  code  \\\n",
       "AnimalID                                                                 \n",
       "24166     pippa (now pepper)          200      2013-06-17  black  blue   \n",
       "\n",
       "         approxweight  agecategory         source status aco  \n",
       "AnimalID                                                      \n",
       "24166              50  young adult  holding stray   sold   3  "
      ]
     },
     "execution_count": 933,
     "metadata": {},
     "output_type": "execute_result"
    }
   ],
   "source": [
    "# Random sample of the register table is all lowercase?\n",
    "reg_df_clean.dropna().sample(1) # dropna will tidy up the output a bit"
   ]
  },
  {
   "cell_type": "code",
   "execution_count": 934,
   "metadata": {},
   "outputs": [
    {
     "data": {
      "text/plain": [
       "True"
      ]
     },
     "execution_count": 934,
     "metadata": {},
     "output_type": "execute_result"
    }
   ],
   "source": [
    "# All column names lowercase?\n",
    "str(reg_df_clean.columns.tolist()).islower()"
   ]
  },
  {
   "cell_type": "markdown",
   "metadata": {},
   "source": [
    "That's out of the way, so now we can move on without breaking things or complicating this part even further."
   ]
  },
  {
   "cell_type": "markdown",
   "metadata": {
    "id": "FmFhN52Yyn3l"
   },
   "source": [
    "### **Quality Issue 1: to '&' or to 'and?'**"
   ]
  },
  {
   "cell_type": "markdown",
   "metadata": {},
   "source": [
    "For the issue of inconsistent formatting in the lost and found data's `color` column, we will just remove the \"&\" and \"and\" strings, parsing the results out into a list. This gets it split out into something ready for us to access programatically right out of the gate.\n",
    "\n",
    "This cleaning will be applied to both datasets, as I noticed that (understandably), the same issue exists within the register dataset.\n",
    "\n",
    "We will need to start off by handling the null values in the `color` column, though, so that we don't have to repeat the same steps of converting it to an array with the second quality issue."
   ]
  },
  {
   "cell_type": "code",
   "execution_count": 935,
   "metadata": {},
   "outputs": [],
   "source": [
    "# Getting ahead of ourselves a bit, but handling null color values\n",
    "lf_df_clean.fillna({'color':'unknown'}, inplace=True)\n",
    "reg_df_clean.fillna({'color':'unknown'}, inplace=True)"
   ]
  },
  {
   "cell_type": "code",
   "execution_count": 936,
   "metadata": {
    "id": "9UejDWrNMW4a"
   },
   "outputs": [],
   "source": [
    "# Replace \" w/\", \"/\", \" and \", \"&\", \" with \" with \"|\", then split into array on \"|\"\n",
    "pattern = r\"( w\\/| [^\\w\\s] | and |/| with )\"\n",
    "lf_df_clean['color'] = lf_df_clean['color'].str.replace(pat=pattern, repl=\"|\", regex=True)\n",
    "lf_df_clean['color'] = lf_df_clean['color'].str.split(\"|\")\n",
    "\n",
    "# The same thing, but for reg_df\n",
    "reg_df_clean['color'] = reg_df_clean['color'].str.replace(pat=pattern, repl=\"|\", regex=True)\n",
    "# we aren't going to split, yet, as this will cause some errors with the next quality issue."
   ]
  },
  {
   "cell_type": "code",
   "execution_count": 937,
   "metadata": {
    "id": "oUBee-LPytkv"
   },
   "outputs": [
    {
     "data": {
      "text/plain": [
       "12932           [white]\n",
       "6926           [calico]\n",
       "17673       [tan, gold]\n",
       "14217           [brown]\n",
       "8246     [black, white]\n",
       "Name: color, dtype: object"
      ]
     },
     "execution_count": 937,
     "metadata": {},
     "output_type": "execute_result"
    }
   ],
   "source": [
    "# Validation cleaning succeeded for lost and found data\n",
    "lf_df_clean['color'].sample(5)"
   ]
  },
  {
   "cell_type": "code",
   "execution_count": null,
   "metadata": {},
   "outputs": [
    {
     "data": {
      "text/plain": [
       "AnimalID\n",
       "33852    brown|white\n",
       "33503    white|brown\n",
       "26681         yellow\n",
       "25791          liver\n",
       "1593       black|tan\n",
       "Name: color, dtype: object"
      ]
     },
     "execution_count": 938,
     "metadata": {},
     "output_type": "execute_result"
    }
   ],
   "source": [
    "# Validation on register data\n",
    "reg_df_clean['color'].sample(5)\n",
    "\n",
    "# we want there to be pipe characters instead of a split into an array now, this prevents an error"
   ]
  },
  {
   "cell_type": "code",
   "execution_count": 939,
   "metadata": {},
   "outputs": [
    {
     "name": "stdout",
     "output_type": "stream",
     "text": [
      "Reddish Blonde -> ['reddish blonde']\n",
      "Cream  & Rust -> ['cream ', 'rust']\n",
      "Grey & White & Black -> ['grey', 'white', 'black']\n",
      "\n",
      "Splitting reg_df_clean will happen later\n",
      "Tan -> tan\n",
      "Gold -> gold\n",
      "Golden -> golden\n"
     ]
    }
   ],
   "source": [
    "# Further validation\n",
    "# Before -> After\n",
    "print(lf_df.iloc[372].color, \"->\", lf_df_clean.iloc[372].color)\n",
    "print(lf_df.iloc[424].color, \"->\", lf_df_clean.iloc[424].color)\n",
    "print(lf_df.iloc[439].color, \"->\", lf_df_clean.iloc[439].color)\n",
    "print(\"\\nSplitting reg_df_clean will happen later\")\n",
    "print(reg_df.iloc[372].Color, \"->\", reg_df_clean.iloc[372].color)\n",
    "print(reg_df.iloc[424].Color, \"->\", reg_df_clean.iloc[424].color)\n",
    "print(reg_df.iloc[439].Color, \"->\", reg_df_clean.iloc[439].color)"
   ]
  },
  {
   "cell_type": "markdown",
   "metadata": {},
   "source": [
    "Justification: In order to normalize a large majority of the colors in these datasets, which makes them significantly easier to compare. It also will make our aggregation results a bit more reliable since there won't be differences in using \"&\" vs. \"and.\""
   ]
  },
  {
   "cell_type": "markdown",
   "metadata": {
    "id": "n_DAUbJrymBL"
   },
   "source": [
    "### **Quality Issue 2: Handling Nulls and Duplicates**"
   ]
  },
  {
   "cell_type": "markdown",
   "metadata": {},
   "source": [
    "There are lots of null values throughout the datasets, which then requires us to handle them specially. If we instead set them to a string, this will simplify life a tad. We also don't want duplicate values, as they are just redundant records. Thankfully, dupes are only in the register data.\n",
    "\n",
    "We'll start by dropping what we don't want, being duplicates and a few columns that don't help answer our question."
   ]
  },
  {
   "cell_type": "code",
   "execution_count": 940,
   "metadata": {},
   "outputs": [],
   "source": [
    "cols_to_drop = ['shotsdate','kennelnumber', 'pitnumber', 'code', 'aco']\n",
    "reg_df_clean.drop(columns=cols_to_drop, axis=1, inplace=True)"
   ]
  },
  {
   "cell_type": "code",
   "execution_count": 941,
   "metadata": {},
   "outputs": [
    {
     "name": "stdout",
     "output_type": "stream",
     "text": [
      "['breed', 'sex', 'receiptnumber', 'dateimpounded', 'name', 'dispositiondate', 'approxweight', 'agecategory', 'source', 'status']\n",
      "Pre-drop:\n",
      " False    26013\n",
      "True       101\n",
      "Name: count, dtype: int64\n"
     ]
    }
   ],
   "source": [
    "sub = reg_df_clean.columns.to_list()\n",
    "sub.pop(sub.index('color'))\n",
    "print(sub)\n",
    "\n",
    "print(\"Pre-drop:\\n\", reg_df_clean[sub].duplicated().value_counts())\n",
    "reg_df_clean.drop_duplicates(subset=sub, inplace=True)  # throws error when lists are included\n",
    "\n",
    "# Prevent indexing disparity\n",
    "# reg_df_clean.reset_index(inplace=True, drop=True)"
   ]
  },
  {
   "cell_type": "code",
   "execution_count": 942,
   "metadata": {},
   "outputs": [
    {
     "name": "stdout",
     "output_type": "stream",
     "text": [
      "Pre-drop:\n",
      " False    17845\n",
      "True        27\n",
      "Name: count, dtype: int64\n"
     ]
    }
   ],
   "source": [
    "sub = lf_df_clean.columns.to_list()\n",
    "sub.pop(sub.index('color'))\n",
    "\n",
    "print(\"Pre-drop:\\n\", lf_df_clean[sub].duplicated().value_counts())\n",
    "lf_df_clean.drop_duplicates(subset=sub, inplace=True)  # throws error when lists are included\n",
    "\n",
    "# Prevent indexing disparity\n",
    "lf_df_clean.reset_index(inplace=True, drop=True)"
   ]
  },
  {
   "cell_type": "markdown",
   "metadata": {},
   "source": [
    "Now we can validate that our changes did what we intended"
   ]
  },
  {
   "cell_type": "code",
   "execution_count": 996,
   "metadata": {},
   "outputs": [
    {
     "ename": "TypeError",
     "evalue": "unhashable type: 'list'",
     "output_type": "error",
     "traceback": [
      "\u001b[1;31m---------------------------------------------------------------------------\u001b[0m",
      "\u001b[1;31mTypeError\u001b[0m                                 Traceback (most recent call last)",
      "Cell \u001b[1;32mIn[996], line 2\u001b[0m\n\u001b[0;32m      1\u001b[0m \u001b[38;5;66;03m# Before -> After\u001b[39;00m\n\u001b[1;32m----> 2\u001b[0m \u001b[38;5;28mprint\u001b[39m(reg_df\u001b[38;5;241m.\u001b[39mduplicated()\u001b[38;5;241m.\u001b[39many(), \u001b[38;5;124m\"\u001b[39m\u001b[38;5;124m->\u001b[39m\u001b[38;5;124m\"\u001b[39m, \u001b[43mreg_df_clean\u001b[49m\u001b[38;5;241;43m.\u001b[39;49m\u001b[43mduplicated\u001b[49m\u001b[43m(\u001b[49m\u001b[43m)\u001b[49m\u001b[38;5;241m.\u001b[39many())\n",
      "File \u001b[1;32m~\\AppData\\Roaming\\Python\\Python310\\site-packages\\pandas\\core\\frame.py:6958\u001b[0m, in \u001b[0;36mDataFrame.duplicated\u001b[1;34m(self, subset, keep)\u001b[0m\n\u001b[0;32m   6956\u001b[0m \u001b[38;5;28;01melse\u001b[39;00m:\n\u001b[0;32m   6957\u001b[0m     vals \u001b[38;5;241m=\u001b[39m (col\u001b[38;5;241m.\u001b[39mvalues \u001b[38;5;28;01mfor\u001b[39;00m name, col \u001b[38;5;129;01min\u001b[39;00m \u001b[38;5;28mself\u001b[39m\u001b[38;5;241m.\u001b[39mitems() \u001b[38;5;28;01mif\u001b[39;00m name \u001b[38;5;129;01min\u001b[39;00m subset)\n\u001b[1;32m-> 6958\u001b[0m     labels, shape \u001b[38;5;241m=\u001b[39m \u001b[38;5;28mmap\u001b[39m(\u001b[38;5;28mlist\u001b[39m, \u001b[38;5;28;43mzip\u001b[39;49m\u001b[43m(\u001b[49m\u001b[38;5;241;43m*\u001b[39;49m\u001b[38;5;28;43mmap\u001b[39;49m\u001b[43m(\u001b[49m\u001b[43mf\u001b[49m\u001b[43m,\u001b[49m\u001b[43m \u001b[49m\u001b[43mvals\u001b[49m\u001b[43m)\u001b[49m\u001b[43m)\u001b[49m)\n\u001b[0;32m   6960\u001b[0m     ids \u001b[38;5;241m=\u001b[39m get_group_index(labels, \u001b[38;5;28mtuple\u001b[39m(shape), sort\u001b[38;5;241m=\u001b[39m\u001b[38;5;28;01mFalse\u001b[39;00m, xnull\u001b[38;5;241m=\u001b[39m\u001b[38;5;28;01mFalse\u001b[39;00m)\n\u001b[0;32m   6961\u001b[0m     result \u001b[38;5;241m=\u001b[39m \u001b[38;5;28mself\u001b[39m\u001b[38;5;241m.\u001b[39m_constructor_sliced(duplicated(ids, keep), index\u001b[38;5;241m=\u001b[39m\u001b[38;5;28mself\u001b[39m\u001b[38;5;241m.\u001b[39mindex)\n",
      "File \u001b[1;32m~\\AppData\\Roaming\\Python\\Python310\\site-packages\\pandas\\core\\frame.py:6926\u001b[0m, in \u001b[0;36mDataFrame.duplicated.<locals>.f\u001b[1;34m(vals)\u001b[0m\n\u001b[0;32m   6925\u001b[0m \u001b[38;5;28;01mdef\u001b[39;00m \u001b[38;5;21mf\u001b[39m(vals) \u001b[38;5;241m-\u001b[39m\u001b[38;5;241m>\u001b[39m \u001b[38;5;28mtuple\u001b[39m[np\u001b[38;5;241m.\u001b[39mndarray, \u001b[38;5;28mint\u001b[39m]:\n\u001b[1;32m-> 6926\u001b[0m     labels, shape \u001b[38;5;241m=\u001b[39m \u001b[43malgorithms\u001b[49m\u001b[38;5;241;43m.\u001b[39;49m\u001b[43mfactorize\u001b[49m\u001b[43m(\u001b[49m\u001b[43mvals\u001b[49m\u001b[43m,\u001b[49m\u001b[43m \u001b[49m\u001b[43msize_hint\u001b[49m\u001b[38;5;241;43m=\u001b[39;49m\u001b[38;5;28;43mlen\u001b[39;49m\u001b[43m(\u001b[49m\u001b[38;5;28;43mself\u001b[39;49m\u001b[43m)\u001b[49m\u001b[43m)\u001b[49m\n\u001b[0;32m   6927\u001b[0m     \u001b[38;5;28;01mreturn\u001b[39;00m labels\u001b[38;5;241m.\u001b[39mastype(\u001b[38;5;124m\"\u001b[39m\u001b[38;5;124mi8\u001b[39m\u001b[38;5;124m\"\u001b[39m, copy\u001b[38;5;241m=\u001b[39m\u001b[38;5;28;01mFalse\u001b[39;00m), \u001b[38;5;28mlen\u001b[39m(shape)\n",
      "File \u001b[1;32m~\\AppData\\Roaming\\Python\\Python310\\site-packages\\pandas\\core\\algorithms.py:795\u001b[0m, in \u001b[0;36mfactorize\u001b[1;34m(values, sort, use_na_sentinel, size_hint)\u001b[0m\n\u001b[0;32m    792\u001b[0m             \u001b[38;5;66;03m# Don't modify (potentially user-provided) array\u001b[39;00m\n\u001b[0;32m    793\u001b[0m             values \u001b[38;5;241m=\u001b[39m np\u001b[38;5;241m.\u001b[39mwhere(null_mask, na_value, values)\n\u001b[1;32m--> 795\u001b[0m     codes, uniques \u001b[38;5;241m=\u001b[39m \u001b[43mfactorize_array\u001b[49m\u001b[43m(\u001b[49m\n\u001b[0;32m    796\u001b[0m \u001b[43m        \u001b[49m\u001b[43mvalues\u001b[49m\u001b[43m,\u001b[49m\n\u001b[0;32m    797\u001b[0m \u001b[43m        \u001b[49m\u001b[43muse_na_sentinel\u001b[49m\u001b[38;5;241;43m=\u001b[39;49m\u001b[43muse_na_sentinel\u001b[49m\u001b[43m,\u001b[49m\n\u001b[0;32m    798\u001b[0m \u001b[43m        \u001b[49m\u001b[43msize_hint\u001b[49m\u001b[38;5;241;43m=\u001b[39;49m\u001b[43msize_hint\u001b[49m\u001b[43m,\u001b[49m\n\u001b[0;32m    799\u001b[0m \u001b[43m    \u001b[49m\u001b[43m)\u001b[49m\n\u001b[0;32m    801\u001b[0m \u001b[38;5;28;01mif\u001b[39;00m sort \u001b[38;5;129;01mand\u001b[39;00m \u001b[38;5;28mlen\u001b[39m(uniques) \u001b[38;5;241m>\u001b[39m \u001b[38;5;241m0\u001b[39m:\n\u001b[0;32m    802\u001b[0m     uniques, codes \u001b[38;5;241m=\u001b[39m safe_sort(\n\u001b[0;32m    803\u001b[0m         uniques,\n\u001b[0;32m    804\u001b[0m         codes,\n\u001b[1;32m   (...)\u001b[0m\n\u001b[0;32m    807\u001b[0m         verify\u001b[38;5;241m=\u001b[39m\u001b[38;5;28;01mFalse\u001b[39;00m,\n\u001b[0;32m    808\u001b[0m     )\n",
      "File \u001b[1;32m~\\AppData\\Roaming\\Python\\Python310\\site-packages\\pandas\\core\\algorithms.py:595\u001b[0m, in \u001b[0;36mfactorize_array\u001b[1;34m(values, use_na_sentinel, size_hint, na_value, mask)\u001b[0m\n\u001b[0;32m    592\u001b[0m hash_klass, values \u001b[38;5;241m=\u001b[39m _get_hashtable_algo(values)\n\u001b[0;32m    594\u001b[0m table \u001b[38;5;241m=\u001b[39m hash_klass(size_hint \u001b[38;5;129;01mor\u001b[39;00m \u001b[38;5;28mlen\u001b[39m(values))\n\u001b[1;32m--> 595\u001b[0m uniques, codes \u001b[38;5;241m=\u001b[39m \u001b[43mtable\u001b[49m\u001b[38;5;241;43m.\u001b[39;49m\u001b[43mfactorize\u001b[49m\u001b[43m(\u001b[49m\n\u001b[0;32m    596\u001b[0m \u001b[43m    \u001b[49m\u001b[43mvalues\u001b[49m\u001b[43m,\u001b[49m\n\u001b[0;32m    597\u001b[0m \u001b[43m    \u001b[49m\u001b[43mna_sentinel\u001b[49m\u001b[38;5;241;43m=\u001b[39;49m\u001b[38;5;241;43m-\u001b[39;49m\u001b[38;5;241;43m1\u001b[39;49m\u001b[43m,\u001b[49m\n\u001b[0;32m    598\u001b[0m \u001b[43m    \u001b[49m\u001b[43mna_value\u001b[49m\u001b[38;5;241;43m=\u001b[39;49m\u001b[43mna_value\u001b[49m\u001b[43m,\u001b[49m\n\u001b[0;32m    599\u001b[0m \u001b[43m    \u001b[49m\u001b[43mmask\u001b[49m\u001b[38;5;241;43m=\u001b[39;49m\u001b[43mmask\u001b[49m\u001b[43m,\u001b[49m\n\u001b[0;32m    600\u001b[0m \u001b[43m    \u001b[49m\u001b[43mignore_na\u001b[49m\u001b[38;5;241;43m=\u001b[39;49m\u001b[43muse_na_sentinel\u001b[49m\u001b[43m,\u001b[49m\n\u001b[0;32m    601\u001b[0m \u001b[43m\u001b[49m\u001b[43m)\u001b[49m\n\u001b[0;32m    603\u001b[0m \u001b[38;5;66;03m# re-cast e.g. i8->dt64/td64, uint8->bool\u001b[39;00m\n\u001b[0;32m    604\u001b[0m uniques \u001b[38;5;241m=\u001b[39m _reconstruct_data(uniques, original\u001b[38;5;241m.\u001b[39mdtype, original)\n",
      "File \u001b[1;32mpandas\\\\_libs\\\\hashtable_class_helper.pxi:7281\u001b[0m, in \u001b[0;36mpandas._libs.hashtable.PyObjectHashTable.factorize\u001b[1;34m()\u001b[0m\n",
      "File \u001b[1;32mpandas\\\\_libs\\\\hashtable_class_helper.pxi:7195\u001b[0m, in \u001b[0;36mpandas._libs.hashtable.PyObjectHashTable._unique\u001b[1;34m()\u001b[0m\n",
      "\u001b[1;31mTypeError\u001b[0m: unhashable type: 'list'"
     ]
    }
   ],
   "source": [
    "# Before -> After\n",
    "print(reg_df.duplicated().any(), \"->\", reg_df_clean.duplicated().any())"
   ]
  },
  {
   "cell_type": "markdown",
   "metadata": {},
   "source": [
    "We'd get an error reporting that a list is not hashable if we tried to `drop_duplicates` or look for `duplicated` rows on a split `color` column. Since we have all of that handled, we can split it into a list now."
   ]
  },
  {
   "cell_type": "code",
   "execution_count": 944,
   "metadata": {},
   "outputs": [],
   "source": [
    "reg_df_clean['color'] = reg_df_clean['color'].str.split(\"|\")"
   ]
  },
  {
   "cell_type": "code",
   "execution_count": 945,
   "metadata": {
    "id": "5Yfb-Yu5MTuE"
   },
   "outputs": [],
   "source": [
    "#FILL IN - Apply the cleaning strategy\n",
    "lf_df_clean.fillna('unknown', inplace=True)\n",
    "reg_df_clean.fillna('unknown', inplace=True)"
   ]
  },
  {
   "cell_type": "code",
   "execution_count": 946,
   "metadata": {
    "id": "ionB2sRaMUmY"
   },
   "outputs": [
    {
     "data": {
      "text/plain": [
       "breed              False\n",
       "sex                False\n",
       "receiptnumber      False\n",
       "dateimpounded      False\n",
       "name               False\n",
       "dispositiondate    False\n",
       "color              False\n",
       "approxweight       False\n",
       "agecategory        False\n",
       "source             False\n",
       "status             False\n",
       "dtype: bool"
      ]
     },
     "execution_count": 946,
     "metadata": {},
     "output_type": "execute_result"
    }
   ],
   "source": [
    "#FILL IN - Validate the cleaning was successful\n",
    "reg_df_clean.isnull().any()"
   ]
  },
  {
   "cell_type": "code",
   "execution_count": 947,
   "metadata": {},
   "outputs": [
    {
     "data": {
      "text/plain": [
       "date     False\n",
       "breed    False\n",
       "color    False\n",
       "name     False\n",
       "sex      False\n",
       "state    False\n",
       "dtype: bool"
      ]
     },
     "execution_count": 947,
     "metadata": {},
     "output_type": "execute_result"
    }
   ],
   "source": [
    "lf_df_clean.isnull().any()"
   ]
  },
  {
   "cell_type": "markdown",
   "metadata": {},
   "source": [
    "Justification: Now that we have our nulls and duplicates handled, our data should be less tricky to work with, especially with aggregation, comparison, and enhancement."
   ]
  },
  {
   "cell_type": "markdown",
   "metadata": {
    "id": "bIUrrfSNyOPR"
   },
   "source": [
    "### **Tidiness Issue 1: Multiple Animals in Some Rows**"
   ]
  },
  {
   "cell_type": "markdown",
   "metadata": {},
   "source": [
    "This particular issue in the lost and found table, as I observed in the `breed` and `name` column, breaks the tidiness rule of \"a single row for a single observation.\" It makes sense in terms of inputting the data into a record system that you would want this information in the same record, as that is also probably associated with a point of contact and it de-duplicates efforts, however it will not be helpful for our purposes. \n",
    "\n",
    "It's entirely possible that an animal was found separately from the second animal that was reported, or that they were input into the register as separate records. We'll clean up this issue by handling the `name` and `breed` column similarly to how we dealt with the `color` column.\n",
    "\n",
    "We could handle the `color` column (since animals aren't always the same color), but that should have been done before during this step as well, however that was quality issue, not a tidiness issue, and this is a project for school. I presume that it's best to just leave things in this order and not stray even further from the template."
   ]
  },
  {
   "cell_type": "code",
   "execution_count": 948,
   "metadata": {
    "id": "fib0zAm333bn"
   },
   "outputs": [],
   "source": [
    "# Save indices for future access/removal.\n",
    "lf_df_index_amp = lf_df_clean[lf_df_clean['name'].str.contains(\" & \")].index\n",
    "lf_df_index_and = lf_df_clean[lf_df_clean['name'].str.contains(\" and \")].index"
   ]
  },
  {
   "cell_type": "code",
   "execution_count": 949,
   "metadata": {},
   "outputs": [],
   "source": [
    "clean_and = lf_df_clean.iloc[lf_df_index_and]['name'].apply(lambda x: x.split(\" and \"))\n",
    "clean_amp = lf_df_clean.iloc[lf_df_index_amp]['name'].apply(lambda x: x.split(\" & \"))"
   ]
  },
  {
   "cell_type": "code",
   "execution_count": 950,
   "metadata": {},
   "outputs": [
    {
     "name": "stdout",
     "output_type": "stream",
     "text": [
      "date     1999-04-10t00:00:00+00:00\n",
      "breed        lab x collie x beagle\n",
      "color             [two black dogs]\n",
      "name                coco and wayne\n",
      "sex                              m\n",
      "state                        found\n",
      "Name: 227, dtype: object\n",
      "date     2000-02-07t00:00:00+00:00\n",
      "breed                rottys-2 dogs\n",
      "color                 [black, tan]\n",
      "name               starsky & hutch\n",
      "sex                            m/n\n",
      "state                      matched\n",
      "Name: 1142, dtype: object\n"
     ]
    }
   ],
   "source": [
    "# Before change implemented\n",
    "print(lf_df_clean.iloc[227])\n",
    "print(lf_df_clean.iloc[1142])"
   ]
  },
  {
   "cell_type": "code",
   "execution_count": 951,
   "metadata": {},
   "outputs": [
    {
     "name": "stdout",
     "output_type": "stream",
     "text": [
      "date     1999-04-10t00:00:00+00:00\n",
      "breed        lab x collie x beagle\n",
      "color             [two black dogs]\n",
      "name                 [coco, wayne]\n",
      "sex                              m\n",
      "state                        found\n",
      "Name: 227, dtype: object\n",
      "date     2000-02-07t00:00:00+00:00\n",
      "breed                rottys-2 dogs\n",
      "color                 [black, tan]\n",
      "name              [starsky, hutch]\n",
      "sex                            m/n\n",
      "state                      matched\n",
      "Name: 1142, dtype: object\n"
     ]
    }
   ],
   "source": [
    "# Change + validation\n",
    "lf_df_clean['name'].iloc[clean_and.index] = clean_and\n",
    "print(lf_df_clean.iloc[227])\n",
    "\n",
    "lf_df_clean['name'].iloc[clean_amp.index] = clean_amp\n",
    "print(lf_df_clean.iloc[1142])"
   ]
  },
  {
   "cell_type": "code",
   "execution_count": 952,
   "metadata": {},
   "outputs": [
    {
     "data": {
      "text/plain": [
       "date     1999-04-10t00:00:00+00:00\n",
       "breed        lab x collie x beagle\n",
       "color             [two black dogs]\n",
       "name                 [coco, wayne]\n",
       "sex                              m\n",
       "state                        found\n",
       "Name: 227, dtype: object"
      ]
     },
     "execution_count": 952,
     "metadata": {},
     "output_type": "execute_result"
    }
   ],
   "source": [
    "lf_df_clean.iloc[227]"
   ]
  },
  {
   "cell_type": "code",
   "execution_count": 953,
   "metadata": {},
   "outputs": [
    {
     "name": "stdout",
     "output_type": "stream",
     "text": [
      "False\n",
      "False\n"
     ]
    }
   ],
   "source": [
    "# Further validation \n",
    "print(lf_df_clean['name'].str.contains(\" and \").any())\n",
    "print(lf_df_clean['name'].str.contains(\" & \").any())"
   ]
  },
  {
   "cell_type": "markdown",
   "metadata": {},
   "source": [
    "Finally, we will need to split the rows that have list in `name` into separate rows, then reindex the entire dataframe."
   ]
  },
  {
   "cell_type": "code",
   "execution_count": 954,
   "metadata": {},
   "outputs": [
    {
     "data": {
      "text/plain": [
       "['date', 'breed', 'color', 'sex', 'state']"
      ]
     },
     "execution_count": 954,
     "metadata": {},
     "output_type": "execute_result"
    }
   ],
   "source": [
    "cols = lf_df_clean.columns.tolist()\n",
    "cols.pop(cols.index(\"name\"))\n",
    "cols"
   ]
  },
  {
   "cell_type": "code",
   "execution_count": 955,
   "metadata": {},
   "outputs": [],
   "source": [
    "# Since lists aren't hashable, convert all color lists to strings\n",
    "lf_df_clean.color = lf_df_clean.color.apply(lambda x: \"|\".join(x))\n",
    "\n",
    "# Which allows us to maintain the data in a row even when we split it with explode()\n",
    "lf_df_clean.set_index(cols, inplace=True)"
   ]
  },
  {
   "cell_type": "code",
   "execution_count": 956,
   "metadata": {},
   "outputs": [
    {
     "data": {
      "text/html": [
       "<div>\n",
       "<style scoped>\n",
       "    .dataframe tbody tr th:only-of-type {\n",
       "        vertical-align: middle;\n",
       "    }\n",
       "\n",
       "    .dataframe tbody tr th {\n",
       "        vertical-align: top;\n",
       "    }\n",
       "\n",
       "    .dataframe thead th {\n",
       "        text-align: right;\n",
       "    }\n",
       "</style>\n",
       "<table border=\"1\" class=\"dataframe\">\n",
       "  <thead>\n",
       "    <tr style=\"text-align: right;\">\n",
       "      <th></th>\n",
       "      <th></th>\n",
       "      <th></th>\n",
       "      <th></th>\n",
       "      <th></th>\n",
       "      <th>name</th>\n",
       "    </tr>\n",
       "    <tr>\n",
       "      <th>date</th>\n",
       "      <th>breed</th>\n",
       "      <th>color</th>\n",
       "      <th>sex</th>\n",
       "      <th>state</th>\n",
       "      <th></th>\n",
       "    </tr>\n",
       "  </thead>\n",
       "  <tbody>\n",
       "    <tr>\n",
       "      <th>1999-01-03t00:00:00+00:00</th>\n",
       "      <th>rotty x shep</th>\n",
       "      <th>black|tan</th>\n",
       "      <th>m/n</th>\n",
       "      <th>lost</th>\n",
       "      <td>tex</td>\n",
       "    </tr>\n",
       "    <tr>\n",
       "      <th rowspan=\"4\" valign=\"top\">1999-01-04t00:00:00+00:00</th>\n",
       "      <th>dog</th>\n",
       "      <th>light colour</th>\n",
       "      <th>m/n</th>\n",
       "      <th>found</th>\n",
       "      <td>unknown</td>\n",
       "    </tr>\n",
       "    <tr>\n",
       "      <th>golden lab x</th>\n",
       "      <th>black|tan</th>\n",
       "      <th>m</th>\n",
       "      <th>lost</th>\n",
       "      <td>oscar</td>\n",
       "    </tr>\n",
       "    <tr>\n",
       "      <th>shep x</th>\n",
       "      <th>black|tan</th>\n",
       "      <th>f</th>\n",
       "      <th>found</th>\n",
       "      <td>unknown</td>\n",
       "    </tr>\n",
       "    <tr>\n",
       "      <th>shep x collie</th>\n",
       "      <th>black|tan</th>\n",
       "      <th>f</th>\n",
       "      <th>lost</th>\n",
       "      <td>angel</td>\n",
       "    </tr>\n",
       "    <tr>\n",
       "      <th>...</th>\n",
       "      <th>...</th>\n",
       "      <th>...</th>\n",
       "      <th>...</th>\n",
       "      <th>...</th>\n",
       "      <td>...</td>\n",
       "    </tr>\n",
       "    <tr>\n",
       "      <th rowspan=\"2\" valign=\"top\">2025-08-05t00:00:00+00:00</th>\n",
       "      <th>cat - dsh - tabby</th>\n",
       "      <th>black w brown tabby stripes</th>\n",
       "      <th>m</th>\n",
       "      <th>lost</th>\n",
       "      <td>suzy</td>\n",
       "    </tr>\n",
       "    <tr>\n",
       "      <th>maltese x bichon</th>\n",
       "      <th>black w white front right paw</th>\n",
       "      <th>m</th>\n",
       "      <th>matched</th>\n",
       "      <td>ollie</td>\n",
       "    </tr>\n",
       "    <tr>\n",
       "      <th rowspan=\"3\" valign=\"top\">2025-08-06t00:00:00+00:00</th>\n",
       "      <th>cat - british short hair</th>\n",
       "      <th>grey|white</th>\n",
       "      <th>f/s</th>\n",
       "      <th>lost</th>\n",
       "      <td>shay shay</td>\n",
       "    </tr>\n",
       "    <tr>\n",
       "      <th>lab x</th>\n",
       "      <th>brown</th>\n",
       "      <th>m/n</th>\n",
       "      <th>lost</th>\n",
       "      <td>titan</td>\n",
       "    </tr>\n",
       "    <tr>\n",
       "      <th>poodle</th>\n",
       "      <th>brown</th>\n",
       "      <th>m/n</th>\n",
       "      <th>lost</th>\n",
       "      <td>brownie</td>\n",
       "    </tr>\n",
       "  </tbody>\n",
       "</table>\n",
       "<p>17845 rows × 1 columns</p>\n",
       "</div>"
      ],
      "text/plain": [
       "                                                                                                   name\n",
       "date                      breed                    color                         sex state             \n",
       "1999-01-03t00:00:00+00:00 rotty x shep             black|tan                     m/n lost           tex\n",
       "1999-01-04t00:00:00+00:00 dog                      light colour                  m/n found      unknown\n",
       "                          golden lab x             black|tan                     m   lost         oscar\n",
       "                          shep x                   black|tan                     f   found      unknown\n",
       "                          shep x collie            black|tan                     f   lost         angel\n",
       "...                                                                                                 ...\n",
       "2025-08-05t00:00:00+00:00 cat - dsh - tabby        black w brown tabby stripes   m   lost          suzy\n",
       "                          maltese x bichon         black w white front right paw m   matched      ollie\n",
       "2025-08-06t00:00:00+00:00 cat - british short hair grey|white                    f/s lost     shay shay\n",
       "                          lab x                    brown                         m/n lost         titan\n",
       "                          poodle                   brown                         m/n lost       brownie\n",
       "\n",
       "[17845 rows x 1 columns]"
      ]
     },
     "execution_count": 956,
     "metadata": {},
     "output_type": "execute_result"
    }
   ],
   "source": [
    "lf_df_clean"
   ]
  },
  {
   "cell_type": "code",
   "execution_count": 957,
   "metadata": {},
   "outputs": [
    {
     "data": {
      "text/html": [
       "<div>\n",
       "<style scoped>\n",
       "    .dataframe tbody tr th:only-of-type {\n",
       "        vertical-align: middle;\n",
       "    }\n",
       "\n",
       "    .dataframe tbody tr th {\n",
       "        vertical-align: top;\n",
       "    }\n",
       "\n",
       "    .dataframe thead th {\n",
       "        text-align: right;\n",
       "    }\n",
       "</style>\n",
       "<table border=\"1\" class=\"dataframe\">\n",
       "  <thead>\n",
       "    <tr style=\"text-align: right;\">\n",
       "      <th></th>\n",
       "      <th></th>\n",
       "      <th></th>\n",
       "      <th></th>\n",
       "      <th></th>\n",
       "      <th>name</th>\n",
       "    </tr>\n",
       "    <tr>\n",
       "      <th>date</th>\n",
       "      <th>breed</th>\n",
       "      <th>color</th>\n",
       "      <th>sex</th>\n",
       "      <th>state</th>\n",
       "      <th></th>\n",
       "    </tr>\n",
       "  </thead>\n",
       "  <tbody>\n",
       "    <tr>\n",
       "      <th rowspan=\"3\" valign=\"top\">1999-04-10t00:00:00+00:00</th>\n",
       "      <th rowspan=\"2\" valign=\"top\">lab x collie x beagle</th>\n",
       "      <th rowspan=\"2\" valign=\"top\">two black dogs</th>\n",
       "      <th rowspan=\"2\" valign=\"top\">m</th>\n",
       "      <th>found</th>\n",
       "      <td>coco</td>\n",
       "    </tr>\n",
       "    <tr>\n",
       "      <th>found</th>\n",
       "      <td>wayne</td>\n",
       "    </tr>\n",
       "    <tr>\n",
       "      <th>maltipoo</th>\n",
       "      <th>black|white</th>\n",
       "      <th>m</th>\n",
       "      <th>lost</th>\n",
       "      <td>barney</td>\n",
       "    </tr>\n",
       "  </tbody>\n",
       "</table>\n",
       "</div>"
      ],
      "text/plain": [
       "                                                                            name\n",
       "date                      breed                 color          sex state        \n",
       "1999-04-10t00:00:00+00:00 lab x collie x beagle two black dogs m   found    coco\n",
       "                                                                   found   wayne\n",
       "                          maltipoo              black|white    m   lost   barney"
      ]
     },
     "execution_count": 957,
     "metadata": {},
     "output_type": "execute_result"
    }
   ],
   "source": [
    "# Turn list of names into separate rows using explode\n",
    "lf_df_clean = lf_df_clean.explode('name')\n",
    "lf_df_clean.iloc[227:230]  # both rows will have the same index"
   ]
  },
  {
   "cell_type": "code",
   "execution_count": 958,
   "metadata": {},
   "outputs": [],
   "source": [
    "lf_df_clean.reset_index(inplace=True)  # Revert changes and retain columns for all rows\n",
    "lf_df_clean.color = lf_df_clean.color.apply(lambda x: x.split(\"|\")) # Re-cast color as a list"
   ]
  },
  {
   "cell_type": "code",
   "execution_count": 959,
   "metadata": {},
   "outputs": [
    {
     "data": {
      "text/html": [
       "<div>\n",
       "<style scoped>\n",
       "    .dataframe tbody tr th:only-of-type {\n",
       "        vertical-align: middle;\n",
       "    }\n",
       "\n",
       "    .dataframe tbody tr th {\n",
       "        vertical-align: top;\n",
       "    }\n",
       "\n",
       "    .dataframe thead th {\n",
       "        text-align: right;\n",
       "    }\n",
       "</style>\n",
       "<table border=\"1\" class=\"dataframe\">\n",
       "  <thead>\n",
       "    <tr style=\"text-align: right;\">\n",
       "      <th></th>\n",
       "      <th>date</th>\n",
       "      <th>breed</th>\n",
       "      <th>color</th>\n",
       "      <th>sex</th>\n",
       "      <th>state</th>\n",
       "      <th>name</th>\n",
       "    </tr>\n",
       "  </thead>\n",
       "  <tbody>\n",
       "    <tr>\n",
       "      <th>227</th>\n",
       "      <td>1999-04-10t00:00:00+00:00</td>\n",
       "      <td>lab x collie x beagle</td>\n",
       "      <td>[two black dogs]</td>\n",
       "      <td>m</td>\n",
       "      <td>found</td>\n",
       "      <td>coco</td>\n",
       "    </tr>\n",
       "    <tr>\n",
       "      <th>228</th>\n",
       "      <td>1999-04-10t00:00:00+00:00</td>\n",
       "      <td>lab x collie x beagle</td>\n",
       "      <td>[two black dogs]</td>\n",
       "      <td>m</td>\n",
       "      <td>found</td>\n",
       "      <td>wayne</td>\n",
       "    </tr>\n",
       "    <tr>\n",
       "      <th>229</th>\n",
       "      <td>1999-04-10t00:00:00+00:00</td>\n",
       "      <td>maltipoo</td>\n",
       "      <td>[black, white]</td>\n",
       "      <td>m</td>\n",
       "      <td>lost</td>\n",
       "      <td>barney</td>\n",
       "    </tr>\n",
       "  </tbody>\n",
       "</table>\n",
       "</div>"
      ],
      "text/plain": [
       "                          date                  breed             color sex  \\\n",
       "227  1999-04-10t00:00:00+00:00  lab x collie x beagle  [two black dogs]   m   \n",
       "228  1999-04-10t00:00:00+00:00  lab x collie x beagle  [two black dogs]   m   \n",
       "229  1999-04-10t00:00:00+00:00               maltipoo    [black, white]   m   \n",
       "\n",
       "     state    name  \n",
       "227  found    coco  \n",
       "228  found   wayne  \n",
       "229   lost  barney  "
      ]
     },
     "execution_count": 959,
     "metadata": {},
     "output_type": "execute_result"
    }
   ],
   "source": [
    "# Validation\n",
    "lf_df_clean.iloc[227:230]"
   ]
  },
  {
   "cell_type": "code",
   "execution_count": 960,
   "metadata": {},
   "outputs": [
    {
     "data": {
      "text/plain": [
       "list"
      ]
     },
     "execution_count": 960,
     "metadata": {},
     "output_type": "execute_result"
    }
   ],
   "source": [
    "# Confirming color was changed back to a list\n",
    "type(lf_df_clean.iloc[0].color)"
   ]
  },
  {
   "cell_type": "code",
   "execution_count": 961,
   "metadata": {},
   "outputs": [
    {
     "data": {
      "text/plain": [
       "['coco', 'wayne']"
      ]
     },
     "execution_count": 961,
     "metadata": {},
     "output_type": "execute_result"
    }
   ],
   "source": [
    "# Previously, the name field for Coco and Wayne looked like this\n",
    "clean_and.iloc[0]"
   ]
  },
  {
   "cell_type": "markdown",
   "metadata": {},
   "source": [
    "Justification: Now, we are no longer storing two dogs in one row, thus making this data just a bit tidier. By splitting with the somewhat highly prevalent usage of \"&\" and \"and,\" we are able to get closer to a more accurate count of how many dogs were reported lost, as well as more easily allowing us to join based on the `name` column.\n",
    "\n",
    "One limitation with this approach is that we are not doing anything about the color for the specific animal we split out into a new row. If we addressed this issue before we handled `color` in the quality steps, we may be able to have the correct color for each animal, rather than a list of colors in for two animals. I do not forsee this causing many issues as we will be using more than just a color to try and match animals when I combine the data."
   ]
  },
  {
   "cell_type": "markdown",
   "metadata": {
    "id": "o51Bt8kwyTzk"
   },
   "source": [
    "### **Tidiness Issue 2: Tracking Multiple Variables in One Column**"
   ]
  },
  {
   "cell_type": "markdown",
   "metadata": {},
   "source": [
    "In the both datasets, there are multiple occurences of the string \"(New name).\" I'd consider this a different variable that could be represented in a separate column, since it isn't part of there name. Rather, it is an aspect or quality of the name. In our case, however, we are just doing to remove every occurence of that \"(New name)\" string.\n",
    "\n",
    "A similar issue comes up in the `breed` column, where we see \"`X`\" in place of \"`mix`\" and strings like \"`Black Lab`\". I will split out the \"`mix`\" portion into another column to reduce the number of unique `breed` strings."
   ]
  },
  {
   "cell_type": "code",
   "execution_count": 962,
   "metadata": {
    "id": "7zW8O5yx4Y9O"
   },
   "outputs": [],
   "source": [
    "# Remove undesired strings and replace if necessary in both lf_df and reg_df\n",
    "lf_df_clean['breed'] = lf_df_clean['breed'].str.replace(\"\\s[xX]\", \" mix\", regex=True)\n",
    "reg_df_clean['breed'] = reg_df_clean['breed'].str.replace(\"\\s[xX]\", \" mix\", regex=True)\n",
    "\n",
    "lf_df_clean['name'] = lf_df_clean['name'].str.replace(\"\\(?[Nn]ew [Nn]ame\\)?\", \"\", regex=True)\n",
    "reg_df_clean['name'] = reg_df_clean['name'].str.replace(\"\\(?[Nn]ew [Nn]ame\\)?\", \"\", regex=True)\n",
    "\n",
    "lf_df_clean['breed'] = lf_df_clean['breed'].str.strip()\n",
    "lf_df_clean['name'] = lf_df_clean['name'].str.strip()\n",
    "reg_df_clean['breed'] = reg_df_clean['breed'].str.strip()\n",
    "reg_df_clean['name'] = reg_df_clean['name'].str.strip()"
   ]
  },
  {
   "cell_type": "code",
   "execution_count": 963,
   "metadata": {
    "id": "q6I_Sr7lxXi5"
   },
   "outputs": [
    {
     "name": "stdout",
     "output_type": "stream",
     "text": [
      "False\n",
      "False\n",
      "False\n",
      "False\n"
     ]
    }
   ],
   "source": [
    "# Validate the cleaning was successful\n",
    "print(lf_df_clean['breed'].str.contains(\"\\s[xX]\", regex=True).any())\n",
    "print(lf_df_clean['name'].str.contains(\"[Nn]ew [Nn]ame\", regex=True).any())\n",
    "\n",
    "print(reg_df_clean['breed'].str.contains(\"\\s[xX]\", regex=True).any())\n",
    "print(reg_df_clean['name'].str.contains(\"[Nn]ew [Nn]ame\", regex=True).any())"
   ]
  },
  {
   "cell_type": "markdown",
   "metadata": {},
   "source": [
    "Justification: We removed the additional variable in the `name` column denoting a given animal's name as a \"new name\", which removes likely superfluous information and simplifys the handling of a large majority of names. \n",
    "\n",
    "By expanding the shorthand used for \"mix\" in the `breed` column, we somewhat address the tidiness issue where the breed column is storing multiple variables in the multiple breeds. There are better ways to address this that would take more cycles of cleaning, but now \"mix\" can act as a sort of flag for further operations. Given more time, I would create 2 more columns: one for `primary_breed` column, and `mix_breed` column that lists the other mixes (or `none` for purebred, `unknown` for \"mutts\").\n",
    "\n",
    "Both of these actions aid in answering our question because they prevent potential false negatives due to the \"new name\" string, as well as give us a string to ignore when matching, but to review when manually investigating results with the \"mix\" string. Effectively, it lets us ignore just \"mix\" instead of both it and \" x\" or \" X\"."
   ]
  },
  {
   "cell_type": "markdown",
   "metadata": {},
   "source": [
    "### **A few extra bits of cleaning**"
   ]
  },
  {
   "cell_type": "code",
   "execution_count": 964,
   "metadata": {},
   "outputs": [],
   "source": [
    "# Conforming to one date format by trimming off at and after the \"T\" for ISO 8601\n",
    "lf_df_clean['date'] = lf_df_clean['date'].apply(lambda x: x.split('t')[0])"
   ]
  },
  {
   "cell_type": "code",
   "execution_count": 965,
   "metadata": {},
   "outputs": [
    {
     "data": {
      "text/plain": [
       "'1999-01-03'"
      ]
     },
     "execution_count": 965,
     "metadata": {},
     "output_type": "execute_result"
    }
   ],
   "source": [
    "lf_df_clean['date'].iloc[0]"
   ]
  },
  {
   "cell_type": "code",
   "execution_count": 966,
   "metadata": {},
   "outputs": [
    {
     "data": {
      "text/plain": [
       "'2004-09-25'"
      ]
     },
     "execution_count": 966,
     "metadata": {},
     "output_type": "execute_result"
    }
   ],
   "source": [
    "reg_df_clean['dateimpounded'].iloc[0]"
   ]
  },
  {
   "cell_type": "markdown",
   "metadata": {
    "id": "F42urHuzttjF"
   },
   "source": [
    "## 4. Update data store"
   ]
  },
  {
   "cell_type": "code",
   "execution_count": 967,
   "metadata": {
    "id": "V3uay7EJUV_L"
   },
   "outputs": [],
   "source": [
    "# Saving raw data\n",
    "lf_df.to_csv('./datastore/raw_latest_lost_found.csv')\n",
    "reg_df.to_csv('./datastore/raw_latest_register.csv')\n",
    "\n",
    "# Saving cleaned data\n",
    "lf_df_clean.to_csv('./datastore/clean_latest_lost_found.csv')\n",
    "reg_df_clean.to_csv('./datastore/clean_latest_register.csv')"
   ]
  },
  {
   "cell_type": "markdown",
   "metadata": {
    "id": "cGy_yddGtzhM"
   },
   "source": [
    "## 5. Answer the research question\n",
    "\n",
    "### **5.1:** Define and answer the research question "
   ]
  },
  {
   "cell_type": "markdown",
   "metadata": {
    "id": "gjedE4s4ZkEd"
   },
   "source": [
    "*Research question:* The City of Vancouver tracks every animal that comes into its shelters and those reported by owners as lost. The city does track those that are matched back to their owner, is it possible that an animal still tracked as lost has possibly been accounted for?"
   ]
  },
  {
   "cell_type": "markdown",
   "metadata": {},
   "source": [
    "#### Pre-Visualization Setup"
   ]
  },
  {
   "cell_type": "markdown",
   "metadata": {},
   "source": [
    "My first plan for visualization is to compare the number of outside reports of lost or found animals compared to the number of animals taken into the custody of the city. I think it would be prudent to show this per month for a few different years.\n",
    "\n",
    "Lets start off by making a copy of the DataFrames that we can mess around with, specifically in adding a date column with `YYYY-mm` formatting. We'll be using the lost and found table's `date` column paired with the register table's `dateimpounded` column to generate something in that format."
   ]
  },
  {
   "cell_type": "code",
   "execution_count": 968,
   "metadata": {},
   "outputs": [],
   "source": [
    "# make copies, we'll be adding a column\n",
    "lf_df_shortdate = lf_df_clean.copy()\n",
    "reg_df_shortdate = reg_df_clean.copy()\n",
    "\n",
    "# store only YYYY-mm in a new `shortdate` col\n",
    "lf_df_shortdate['shortdate'] = lf_df_shortdate.date.str.slice(0,7)\n",
    "reg_df_shortdate['shortdate'] = reg_df_shortdate.dateimpounded.str.slice(0,7)"
   ]
  },
  {
   "cell_type": "markdown",
   "metadata": {},
   "source": [
    "Here is what that new DataFrame looks like:"
   ]
  },
  {
   "cell_type": "code",
   "execution_count": 969,
   "metadata": {},
   "outputs": [
    {
     "data": {
      "text/html": [
       "<div>\n",
       "<style scoped>\n",
       "    .dataframe tbody tr th:only-of-type {\n",
       "        vertical-align: middle;\n",
       "    }\n",
       "\n",
       "    .dataframe tbody tr th {\n",
       "        vertical-align: top;\n",
       "    }\n",
       "\n",
       "    .dataframe thead th {\n",
       "        text-align: right;\n",
       "    }\n",
       "</style>\n",
       "<table border=\"1\" class=\"dataframe\">\n",
       "  <thead>\n",
       "    <tr style=\"text-align: right;\">\n",
       "      <th></th>\n",
       "      <th>date</th>\n",
       "      <th>breed</th>\n",
       "      <th>color</th>\n",
       "      <th>sex</th>\n",
       "      <th>state</th>\n",
       "      <th>name</th>\n",
       "      <th>shortdate</th>\n",
       "    </tr>\n",
       "  </thead>\n",
       "  <tbody>\n",
       "    <tr>\n",
       "      <th>0</th>\n",
       "      <td>1999-01-03</td>\n",
       "      <td>rotty mix shep</td>\n",
       "      <td>[black, tan]</td>\n",
       "      <td>m/n</td>\n",
       "      <td>lost</td>\n",
       "      <td>tex</td>\n",
       "      <td>1999-01</td>\n",
       "    </tr>\n",
       "    <tr>\n",
       "      <th>1</th>\n",
       "      <td>1999-01-04</td>\n",
       "      <td>dog</td>\n",
       "      <td>[light colour]</td>\n",
       "      <td>m/n</td>\n",
       "      <td>found</td>\n",
       "      <td>unknown</td>\n",
       "      <td>1999-01</td>\n",
       "    </tr>\n",
       "    <tr>\n",
       "      <th>2</th>\n",
       "      <td>1999-01-04</td>\n",
       "      <td>golden lab mix</td>\n",
       "      <td>[black, tan]</td>\n",
       "      <td>m</td>\n",
       "      <td>lost</td>\n",
       "      <td>oscar</td>\n",
       "      <td>1999-01</td>\n",
       "    </tr>\n",
       "    <tr>\n",
       "      <th>3</th>\n",
       "      <td>1999-01-04</td>\n",
       "      <td>shep mix</td>\n",
       "      <td>[black, tan]</td>\n",
       "      <td>f</td>\n",
       "      <td>found</td>\n",
       "      <td>unknown</td>\n",
       "      <td>1999-01</td>\n",
       "    </tr>\n",
       "    <tr>\n",
       "      <th>4</th>\n",
       "      <td>1999-01-04</td>\n",
       "      <td>shep mix collie</td>\n",
       "      <td>[black, tan]</td>\n",
       "      <td>f</td>\n",
       "      <td>lost</td>\n",
       "      <td>angel</td>\n",
       "      <td>1999-01</td>\n",
       "    </tr>\n",
       "  </tbody>\n",
       "</table>\n",
       "</div>"
      ],
      "text/plain": [
       "         date            breed           color  sex  state     name shortdate\n",
       "0  1999-01-03   rotty mix shep    [black, tan]  m/n   lost      tex   1999-01\n",
       "1  1999-01-04              dog  [light colour]  m/n  found  unknown   1999-01\n",
       "2  1999-01-04   golden lab mix    [black, tan]    m   lost    oscar   1999-01\n",
       "3  1999-01-04         shep mix    [black, tan]    f  found  unknown   1999-01\n",
       "4  1999-01-04  shep mix collie    [black, tan]    f   lost    angel   1999-01"
      ]
     },
     "execution_count": 969,
     "metadata": {},
     "output_type": "execute_result"
    }
   ],
   "source": [
    "lf_df_shortdate.head()"
   ]
  },
  {
   "cell_type": "code",
   "execution_count": 970,
   "metadata": {},
   "outputs": [
    {
     "data": {
      "text/html": [
       "<div>\n",
       "<style scoped>\n",
       "    .dataframe tbody tr th:only-of-type {\n",
       "        vertical-align: middle;\n",
       "    }\n",
       "\n",
       "    .dataframe tbody tr th {\n",
       "        vertical-align: top;\n",
       "    }\n",
       "\n",
       "    .dataframe thead th {\n",
       "        text-align: right;\n",
       "    }\n",
       "</style>\n",
       "<table border=\"1\" class=\"dataframe\">\n",
       "  <thead>\n",
       "    <tr style=\"text-align: right;\">\n",
       "      <th></th>\n",
       "      <th>breed</th>\n",
       "      <th>sex</th>\n",
       "      <th>receiptnumber</th>\n",
       "      <th>dateimpounded</th>\n",
       "      <th>name</th>\n",
       "      <th>dispositiondate</th>\n",
       "      <th>color</th>\n",
       "      <th>approxweight</th>\n",
       "      <th>agecategory</th>\n",
       "      <th>source</th>\n",
       "      <th>status</th>\n",
       "      <th>shortdate</th>\n",
       "    </tr>\n",
       "    <tr>\n",
       "      <th>AnimalID</th>\n",
       "      <th></th>\n",
       "      <th></th>\n",
       "      <th></th>\n",
       "      <th></th>\n",
       "      <th></th>\n",
       "      <th></th>\n",
       "      <th></th>\n",
       "      <th></th>\n",
       "      <th></th>\n",
       "      <th></th>\n",
       "      <th></th>\n",
       "      <th></th>\n",
       "    </tr>\n",
       "  </thead>\n",
       "  <tbody>\n",
       "    <tr>\n",
       "      <th>7060</th>\n",
       "      <td>unknown</td>\n",
       "      <td>unknown</td>\n",
       "      <td>unknown</td>\n",
       "      <td>1998-10-03</td>\n",
       "      <td>unknown</td>\n",
       "      <td>unknown</td>\n",
       "      <td>[unknown]</td>\n",
       "      <td>unknown</td>\n",
       "      <td>unknown</td>\n",
       "      <td>unknown</td>\n",
       "      <td>unknown</td>\n",
       "      <td>1998-10</td>\n",
       "    </tr>\n",
       "    <tr>\n",
       "      <th>745</th>\n",
       "      <td>lab mix</td>\n",
       "      <td>f/s</td>\n",
       "      <td>8205, mc 7</td>\n",
       "      <td>1998-11-30</td>\n",
       "      <td>blaze</td>\n",
       "      <td>unknown</td>\n",
       "      <td>[black, white chest]</td>\n",
       "      <td>unknown</td>\n",
       "      <td>unknown</td>\n",
       "      <td>unknown</td>\n",
       "      <td>sold</td>\n",
       "      <td>1998-11</td>\n",
       "    </tr>\n",
       "    <tr>\n",
       "      <th>102</th>\n",
       "      <td>pit bull</td>\n",
       "      <td>m/n</td>\n",
       "      <td>8884s -#4</td>\n",
       "      <td>1998-12-23</td>\n",
       "      <td>oscar</td>\n",
       "      <td>unknown</td>\n",
       "      <td>[brown]</td>\n",
       "      <td>unknown</td>\n",
       "      <td>unknown</td>\n",
       "      <td>unknown</td>\n",
       "      <td>sold</td>\n",
       "      <td>1998-12</td>\n",
       "    </tr>\n",
       "    <tr>\n",
       "      <th>103</th>\n",
       "      <td>shep mix</td>\n",
       "      <td>f/s</td>\n",
       "      <td>8252, jf 17</td>\n",
       "      <td>1998-12-30</td>\n",
       "      <td>roxy (pepsi)</td>\n",
       "      <td>unknown</td>\n",
       "      <td>[tan, black markings]</td>\n",
       "      <td>unknown</td>\n",
       "      <td>unknown</td>\n",
       "      <td>unknown</td>\n",
       "      <td>sold</td>\n",
       "      <td>1998-12</td>\n",
       "    </tr>\n",
       "    <tr>\n",
       "      <th>406</th>\n",
       "      <td>lab mix</td>\n",
       "      <td>m/n</td>\n",
       "      <td>8023, mia</td>\n",
       "      <td>1998-12-04</td>\n",
       "      <td>sam (previously boomer)</td>\n",
       "      <td>unknown</td>\n",
       "      <td>[black, white chest]</td>\n",
       "      <td>unknown</td>\n",
       "      <td>unknown</td>\n",
       "      <td>unknown</td>\n",
       "      <td>sold</td>\n",
       "      <td>1998-12</td>\n",
       "    </tr>\n",
       "    <tr>\n",
       "      <th>516</th>\n",
       "      <td>lab mix</td>\n",
       "      <td>f/s</td>\n",
       "      <td>8731, mc 7</td>\n",
       "      <td>1998-12-21</td>\n",
       "      <td>nikki</td>\n",
       "      <td>unknown</td>\n",
       "      <td>[black]</td>\n",
       "      <td>unknown</td>\n",
       "      <td>unknown</td>\n",
       "      <td>unknown</td>\n",
       "      <td>sold</td>\n",
       "      <td>1998-12</td>\n",
       "    </tr>\n",
       "    <tr>\n",
       "      <th>136</th>\n",
       "      <td>shep mix</td>\n",
       "      <td>m</td>\n",
       "      <td>8908s</td>\n",
       "      <td>1998-12-28</td>\n",
       "      <td>mickey</td>\n",
       "      <td>unknown</td>\n",
       "      <td>[brown]</td>\n",
       "      <td>unknown</td>\n",
       "      <td>unknown</td>\n",
       "      <td>unknown</td>\n",
       "      <td>sold</td>\n",
       "      <td>1998-12</td>\n",
       "    </tr>\n",
       "    <tr>\n",
       "      <th>135</th>\n",
       "      <td>dob mix lab</td>\n",
       "      <td>m/n</td>\n",
       "      <td>7830, mc 7</td>\n",
       "      <td>1998-12-19</td>\n",
       "      <td>jagger</td>\n",
       "      <td>unknown</td>\n",
       "      <td>[tan, black]</td>\n",
       "      <td>unknown</td>\n",
       "      <td>unknown</td>\n",
       "      <td>unknown</td>\n",
       "      <td>sold</td>\n",
       "      <td>1998-12</td>\n",
       "    </tr>\n",
       "    <tr>\n",
       "      <th>134</th>\n",
       "      <td>shep mix</td>\n",
       "      <td>m/n</td>\n",
       "      <td>8909</td>\n",
       "      <td>1998-12-10</td>\n",
       "      <td>max (2)</td>\n",
       "      <td>unknown</td>\n",
       "      <td>[black brindle, white]</td>\n",
       "      <td>unknown</td>\n",
       "      <td>unknown</td>\n",
       "      <td>unknown</td>\n",
       "      <td>sold</td>\n",
       "      <td>1998-12</td>\n",
       "    </tr>\n",
       "    <tr>\n",
       "      <th>137</th>\n",
       "      <td>shep mix</td>\n",
       "      <td>m</td>\n",
       "      <td>7819</td>\n",
       "      <td>1998-12-31</td>\n",
       "      <td>jack</td>\n",
       "      <td>unknown</td>\n",
       "      <td>[blonde]</td>\n",
       "      <td>unknown</td>\n",
       "      <td>unknown</td>\n",
       "      <td>unknown</td>\n",
       "      <td>sold</td>\n",
       "      <td>1998-12</td>\n",
       "    </tr>\n",
       "    <tr>\n",
       "      <th>150</th>\n",
       "      <td>cockapoo</td>\n",
       "      <td>m/n</td>\n",
       "      <td>8933,jf #17</td>\n",
       "      <td>1999-01-29</td>\n",
       "      <td>mitch</td>\n",
       "      <td>unknown</td>\n",
       "      <td>[black, grey]</td>\n",
       "      <td>unknown</td>\n",
       "      <td>unknown</td>\n",
       "      <td>unknown</td>\n",
       "      <td>sold</td>\n",
       "      <td>1999-01</td>\n",
       "    </tr>\n",
       "    <tr>\n",
       "      <th>338</th>\n",
       "      <td>spaniel</td>\n",
       "      <td>f</td>\n",
       "      <td>20012</td>\n",
       "      <td>1999-01-15</td>\n",
       "      <td>unknown</td>\n",
       "      <td>unknown</td>\n",
       "      <td>[white, black]</td>\n",
       "      <td>unknown</td>\n",
       "      <td>unknown</td>\n",
       "      <td>unknown</td>\n",
       "      <td>redeemed</td>\n",
       "      <td>1999-01</td>\n",
       "    </tr>\n",
       "    <tr>\n",
       "      <th>337</th>\n",
       "      <td>pit mix rott</td>\n",
       "      <td>f</td>\n",
       "      <td>20019</td>\n",
       "      <td>1999-01-15</td>\n",
       "      <td>unknown</td>\n",
       "      <td>unknown</td>\n",
       "      <td>[blk, tan]</td>\n",
       "      <td>unknown</td>\n",
       "      <td>unknown</td>\n",
       "      <td>unknown</td>\n",
       "      <td>redeemed</td>\n",
       "      <td>1999-01</td>\n",
       "    </tr>\n",
       "    <tr>\n",
       "      <th>328</th>\n",
       "      <td>husky mix shep</td>\n",
       "      <td>m</td>\n",
       "      <td>20015</td>\n",
       "      <td>1999-01-13</td>\n",
       "      <td>unknown</td>\n",
       "      <td>unknown</td>\n",
       "      <td>[white]</td>\n",
       "      <td>unknown</td>\n",
       "      <td>unknown</td>\n",
       "      <td>unknown</td>\n",
       "      <td>sold</td>\n",
       "      <td>1999-01</td>\n",
       "    </tr>\n",
       "    <tr>\n",
       "      <th>321</th>\n",
       "      <td>collie mix</td>\n",
       "      <td>m</td>\n",
       "      <td>20029</td>\n",
       "      <td>1999-01-11</td>\n",
       "      <td>unknown</td>\n",
       "      <td>unknown</td>\n",
       "      <td>[black]</td>\n",
       "      <td>unknown</td>\n",
       "      <td>unknown</td>\n",
       "      <td>unknown</td>\n",
       "      <td>redeemed</td>\n",
       "      <td>1999-01</td>\n",
       "    </tr>\n",
       "    <tr>\n",
       "      <th>320</th>\n",
       "      <td>lab mix rott</td>\n",
       "      <td>f</td>\n",
       "      <td>20037</td>\n",
       "      <td>1999-01-11</td>\n",
       "      <td>unknown</td>\n",
       "      <td>unknown</td>\n",
       "      <td>[blk, tan]</td>\n",
       "      <td>unknown</td>\n",
       "      <td>unknown</td>\n",
       "      <td>unknown</td>\n",
       "      <td>redeemed</td>\n",
       "      <td>1999-01</td>\n",
       "    </tr>\n",
       "    <tr>\n",
       "      <th>317</th>\n",
       "      <td>springer spaniel</td>\n",
       "      <td>f</td>\n",
       "      <td>20019</td>\n",
       "      <td>1999-01-09</td>\n",
       "      <td>unknown</td>\n",
       "      <td>unknown</td>\n",
       "      <td>[brwn, white]</td>\n",
       "      <td>unknown</td>\n",
       "      <td>unknown</td>\n",
       "      <td>unknown</td>\n",
       "      <td>redeemed</td>\n",
       "      <td>1999-01</td>\n",
       "    </tr>\n",
       "    <tr>\n",
       "      <th>315</th>\n",
       "      <td>shep mix</td>\n",
       "      <td>m</td>\n",
       "      <td>20026</td>\n",
       "      <td>1999-01-07</td>\n",
       "      <td>angus</td>\n",
       "      <td>unknown</td>\n",
       "      <td>[blk, tan]</td>\n",
       "      <td>unknown</td>\n",
       "      <td>unknown</td>\n",
       "      <td>unknown</td>\n",
       "      <td>sold</td>\n",
       "      <td>1999-01</td>\n",
       "    </tr>\n",
       "    <tr>\n",
       "      <th>309</th>\n",
       "      <td>sheltie mix</td>\n",
       "      <td>m</td>\n",
       "      <td>20007</td>\n",
       "      <td>1999-01-04</td>\n",
       "      <td>unknown</td>\n",
       "      <td>unknown</td>\n",
       "      <td>[blk, white]</td>\n",
       "      <td>unknown</td>\n",
       "      <td>unknown</td>\n",
       "      <td>unknown</td>\n",
       "      <td>redeemed</td>\n",
       "      <td>1999-01</td>\n",
       "    </tr>\n",
       "    <tr>\n",
       "      <th>306</th>\n",
       "      <td>husky mix</td>\n",
       "      <td>m</td>\n",
       "      <td>20027</td>\n",
       "      <td>1999-01-04</td>\n",
       "      <td>samson</td>\n",
       "      <td>unknown</td>\n",
       "      <td>[tan, brwn, white]</td>\n",
       "      <td>unknown</td>\n",
       "      <td>unknown</td>\n",
       "      <td>unknown</td>\n",
       "      <td>sold</td>\n",
       "      <td>1999-01</td>\n",
       "    </tr>\n",
       "  </tbody>\n",
       "</table>\n",
       "</div>"
      ],
      "text/plain": [
       "                     breed      sex receiptnumber dateimpounded  \\\n",
       "AnimalID                                                          \n",
       "7060               unknown  unknown       unknown    1998-10-03   \n",
       "745                lab mix      f/s    8205, mc 7    1998-11-30   \n",
       "102               pit bull      m/n     8884s -#4    1998-12-23   \n",
       "103               shep mix      f/s   8252, jf 17    1998-12-30   \n",
       "406                lab mix      m/n     8023, mia    1998-12-04   \n",
       "516                lab mix      f/s    8731, mc 7    1998-12-21   \n",
       "136               shep mix        m         8908s    1998-12-28   \n",
       "135            dob mix lab      m/n    7830, mc 7    1998-12-19   \n",
       "134               shep mix      m/n          8909    1998-12-10   \n",
       "137               shep mix        m          7819    1998-12-31   \n",
       "150               cockapoo      m/n   8933,jf #17    1999-01-29   \n",
       "338                spaniel        f         20012    1999-01-15   \n",
       "337           pit mix rott        f         20019    1999-01-15   \n",
       "328         husky mix shep        m         20015    1999-01-13   \n",
       "321             collie mix        m         20029    1999-01-11   \n",
       "320           lab mix rott        f         20037    1999-01-11   \n",
       "317       springer spaniel        f         20019    1999-01-09   \n",
       "315               shep mix        m         20026    1999-01-07   \n",
       "309            sheltie mix        m         20007    1999-01-04   \n",
       "306              husky mix        m         20027    1999-01-04   \n",
       "\n",
       "                             name dispositiondate                   color  \\\n",
       "AnimalID                                                                    \n",
       "7060                      unknown         unknown               [unknown]   \n",
       "745                         blaze         unknown    [black, white chest]   \n",
       "102                         oscar         unknown                 [brown]   \n",
       "103                  roxy (pepsi)         unknown   [tan, black markings]   \n",
       "406       sam (previously boomer)         unknown    [black, white chest]   \n",
       "516                         nikki         unknown                 [black]   \n",
       "136                        mickey         unknown                 [brown]   \n",
       "135                        jagger         unknown            [tan, black]   \n",
       "134                       max (2)         unknown  [black brindle, white]   \n",
       "137                          jack         unknown                [blonde]   \n",
       "150                         mitch         unknown           [black, grey]   \n",
       "338                       unknown         unknown          [white, black]   \n",
       "337                       unknown         unknown              [blk, tan]   \n",
       "328                       unknown         unknown                 [white]   \n",
       "321                       unknown         unknown                 [black]   \n",
       "320                       unknown         unknown              [blk, tan]   \n",
       "317                       unknown         unknown           [brwn, white]   \n",
       "315                         angus         unknown              [blk, tan]   \n",
       "309                       unknown         unknown            [blk, white]   \n",
       "306                        samson         unknown      [tan, brwn, white]   \n",
       "\n",
       "         approxweight agecategory   source    status shortdate  \n",
       "AnimalID                                                        \n",
       "7060          unknown     unknown  unknown   unknown   1998-10  \n",
       "745           unknown     unknown  unknown      sold   1998-11  \n",
       "102           unknown     unknown  unknown      sold   1998-12  \n",
       "103           unknown     unknown  unknown      sold   1998-12  \n",
       "406           unknown     unknown  unknown      sold   1998-12  \n",
       "516           unknown     unknown  unknown      sold   1998-12  \n",
       "136           unknown     unknown  unknown      sold   1998-12  \n",
       "135           unknown     unknown  unknown      sold   1998-12  \n",
       "134           unknown     unknown  unknown      sold   1998-12  \n",
       "137           unknown     unknown  unknown      sold   1998-12  \n",
       "150           unknown     unknown  unknown      sold   1999-01  \n",
       "338           unknown     unknown  unknown  redeemed   1999-01  \n",
       "337           unknown     unknown  unknown  redeemed   1999-01  \n",
       "328           unknown     unknown  unknown      sold   1999-01  \n",
       "321           unknown     unknown  unknown  redeemed   1999-01  \n",
       "320           unknown     unknown  unknown  redeemed   1999-01  \n",
       "317           unknown     unknown  unknown  redeemed   1999-01  \n",
       "315           unknown     unknown  unknown      sold   1999-01  \n",
       "309           unknown     unknown  unknown  redeemed   1999-01  \n",
       "306           unknown     unknown  unknown      sold   1999-01  "
      ]
     },
     "execution_count": 970,
     "metadata": {},
     "output_type": "execute_result"
    }
   ],
   "source": [
    "reg_df_shortdate.sort_values(\"shortdate\").head(20)"
   ]
  },
  {
   "cell_type": "markdown",
   "metadata": {},
   "source": [
    "Now we'll join the date on the a few columns: `name`, since that is usually verifiable via microchip or collar, `sex`, since that is physically identifiable (most of the time), and `shortdate`, presuming that a large majority of animals turn up within the same month that they are reported as lost. This does not accounts for animals reported as lost on the last day of a month, the possibly brought in to the city's custody in the following month or so."
   ]
  },
  {
   "cell_type": "code",
   "execution_count": 971,
   "metadata": {},
   "outputs": [],
   "source": [
    "# Merge new DFs with `shortdate` columns\n",
    "lf_reg_merged = lf_df_shortdate.merge(\n",
    "    reg_df_shortdate, \n",
    "    left_on=['shortdate', 'name', 'sex', 'breed'], \n",
    "    right_on=['shortdate', 'name', 'sex', 'breed'], \n",
    "    how='inner'\n",
    ")"
   ]
  },
  {
   "cell_type": "code",
   "execution_count": 972,
   "metadata": {},
   "outputs": [
    {
     "data": {
      "text/html": [
       "<div>\n",
       "<style scoped>\n",
       "    .dataframe tbody tr th:only-of-type {\n",
       "        vertical-align: middle;\n",
       "    }\n",
       "\n",
       "    .dataframe tbody tr th {\n",
       "        vertical-align: top;\n",
       "    }\n",
       "\n",
       "    .dataframe thead th {\n",
       "        text-align: right;\n",
       "    }\n",
       "</style>\n",
       "<table border=\"1\" class=\"dataframe\">\n",
       "  <thead>\n",
       "    <tr style=\"text-align: right;\">\n",
       "      <th></th>\n",
       "      <th>date</th>\n",
       "      <th>breed</th>\n",
       "      <th>color_x</th>\n",
       "      <th>sex</th>\n",
       "      <th>state</th>\n",
       "      <th>name</th>\n",
       "      <th>shortdate</th>\n",
       "      <th>receiptnumber</th>\n",
       "      <th>dateimpounded</th>\n",
       "      <th>dispositiondate</th>\n",
       "      <th>color_y</th>\n",
       "      <th>approxweight</th>\n",
       "      <th>agecategory</th>\n",
       "      <th>source</th>\n",
       "      <th>status</th>\n",
       "    </tr>\n",
       "  </thead>\n",
       "  <tbody>\n",
       "    <tr>\n",
       "      <th>755</th>\n",
       "      <td>2025-06-04</td>\n",
       "      <td>yorkshire terrier</td>\n",
       "      <td>[brown, beige]</td>\n",
       "      <td>f</td>\n",
       "      <td>matched</td>\n",
       "      <td>chona</td>\n",
       "      <td>2025-06</td>\n",
       "      <td>n/a - rhf - hb</td>\n",
       "      <td>2025-06-04</td>\n",
       "      <td>2025-06-05</td>\n",
       "      <td>[black, grey, brown]</td>\n",
       "      <td>unknown</td>\n",
       "      <td>adult</td>\n",
       "      <td>holding stray</td>\n",
       "      <td>ride home free</td>\n",
       "    </tr>\n",
       "    <tr>\n",
       "      <th>756</th>\n",
       "      <td>2025-06-11</td>\n",
       "      <td>shiba inu</td>\n",
       "      <td>[brown, cream]</td>\n",
       "      <td>m</td>\n",
       "      <td>matched</td>\n",
       "      <td>kiri</td>\n",
       "      <td>2025-06</td>\n",
       "      <td>n/a - rhf - dc</td>\n",
       "      <td>2025-06-12</td>\n",
       "      <td>2025-06-12</td>\n",
       "      <td>[golden]</td>\n",
       "      <td>unknown</td>\n",
       "      <td>young adult</td>\n",
       "      <td>brought-in</td>\n",
       "      <td>ride home free</td>\n",
       "    </tr>\n",
       "    <tr>\n",
       "      <th>757</th>\n",
       "      <td>2025-06-22</td>\n",
       "      <td>australian cattle dog mix</td>\n",
       "      <td>[beige, tan, brown]</td>\n",
       "      <td>f</td>\n",
       "      <td>lost</td>\n",
       "      <td>daisy</td>\n",
       "      <td>2025-06</td>\n",
       "      <td>n/a - medical impound</td>\n",
       "      <td>2025-06-09</td>\n",
       "      <td>2025-06-10</td>\n",
       "      <td>[beige, tan, brown]</td>\n",
       "      <td>unknown</td>\n",
       "      <td>adult</td>\n",
       "      <td>holding stray</td>\n",
       "      <td>redeemed</td>\n",
       "    </tr>\n",
       "    <tr>\n",
       "      <th>758</th>\n",
       "      <td>2025-06-29</td>\n",
       "      <td>french bulldog</td>\n",
       "      <td>[brown, tan]</td>\n",
       "      <td>f</td>\n",
       "      <td>matched</td>\n",
       "      <td>frankie</td>\n",
       "      <td>2025-06</td>\n",
       "      <td>rhf - nt</td>\n",
       "      <td>2025-06-29</td>\n",
       "      <td>2025-06-29</td>\n",
       "      <td>[black, cream]</td>\n",
       "      <td>unknown</td>\n",
       "      <td>young adult</td>\n",
       "      <td>brought-in</td>\n",
       "      <td>ride home free</td>\n",
       "    </tr>\n",
       "    <tr>\n",
       "      <th>759</th>\n",
       "      <td>2025-07-08</td>\n",
       "      <td>toy poodle</td>\n",
       "      <td>[unknown]</td>\n",
       "      <td>f/s</td>\n",
       "      <td>matched</td>\n",
       "      <td>dora</td>\n",
       "      <td>2025-07</td>\n",
       "      <td>di 25-248847 - dc</td>\n",
       "      <td>2025-07-08</td>\n",
       "      <td>2025-07-08</td>\n",
       "      <td>[brown]</td>\n",
       "      <td>unknown</td>\n",
       "      <td>young adult</td>\n",
       "      <td>holding stray</td>\n",
       "      <td>redeemed</td>\n",
       "    </tr>\n",
       "  </tbody>\n",
       "</table>\n",
       "</div>"
      ],
      "text/plain": [
       "           date                      breed              color_x  sex    state  \\\n",
       "755  2025-06-04          yorkshire terrier       [brown, beige]    f  matched   \n",
       "756  2025-06-11                  shiba inu       [brown, cream]    m  matched   \n",
       "757  2025-06-22  australian cattle dog mix  [beige, tan, brown]    f     lost   \n",
       "758  2025-06-29             french bulldog         [brown, tan]    f  matched   \n",
       "759  2025-07-08                 toy poodle            [unknown]  f/s  matched   \n",
       "\n",
       "        name shortdate          receiptnumber dateimpounded dispositiondate  \\\n",
       "755    chona   2025-06         n/a - rhf - hb    2025-06-04      2025-06-05   \n",
       "756     kiri   2025-06         n/a - rhf - dc    2025-06-12      2025-06-12   \n",
       "757    daisy   2025-06  n/a - medical impound    2025-06-09      2025-06-10   \n",
       "758  frankie   2025-06               rhf - nt    2025-06-29      2025-06-29   \n",
       "759     dora   2025-07      di 25-248847 - dc    2025-07-08      2025-07-08   \n",
       "\n",
       "                  color_y approxweight  agecategory         source  \\\n",
       "755  [black, grey, brown]      unknown        adult  holding stray   \n",
       "756              [golden]      unknown  young adult     brought-in   \n",
       "757   [beige, tan, brown]      unknown        adult  holding stray   \n",
       "758        [black, cream]      unknown  young adult     brought-in   \n",
       "759               [brown]      unknown  young adult  holding stray   \n",
       "\n",
       "             status  \n",
       "755  ride home free  \n",
       "756  ride home free  \n",
       "757        redeemed  \n",
       "758  ride home free  \n",
       "759        redeemed  "
      ]
     },
     "execution_count": 972,
     "metadata": {},
     "output_type": "execute_result"
    }
   ],
   "source": [
    "lf_reg_merged.tail()"
   ]
  },
  {
   "cell_type": "code",
   "execution_count": 973,
   "metadata": {},
   "outputs": [
    {
     "name": "stdout",
     "output_type": "stream",
     "text": [
      "<class 'pandas.core.frame.DataFrame'>\n",
      "RangeIndex: 760 entries, 0 to 759\n",
      "Data columns (total 15 columns):\n",
      " #   Column           Non-Null Count  Dtype \n",
      "---  ------           --------------  ----- \n",
      " 0   date             760 non-null    object\n",
      " 1   breed            760 non-null    object\n",
      " 2   color_x          760 non-null    object\n",
      " 3   sex              760 non-null    object\n",
      " 4   state            760 non-null    object\n",
      " 5   name             760 non-null    object\n",
      " 6   shortdate        760 non-null    object\n",
      " 7   receiptnumber    760 non-null    object\n",
      " 8   dateimpounded    760 non-null    object\n",
      " 9   dispositiondate  760 non-null    object\n",
      " 10  color_y          760 non-null    object\n",
      " 11  approxweight     760 non-null    object\n",
      " 12  agecategory      760 non-null    object\n",
      " 13  source           760 non-null    object\n",
      " 14  status           760 non-null    object\n",
      "dtypes: object(15)\n",
      "memory usage: 89.2+ KB\n"
     ]
    }
   ],
   "source": [
    "lf_reg_merged.info()"
   ]
  },
  {
   "cell_type": "markdown",
   "metadata": {},
   "source": [
    "We'll be using this joined data later, now onto our first actual visual."
   ]
  },
  {
   "cell_type": "markdown",
   "metadata": {},
   "source": [
    "#### Visual 1: Stacked Bar Chart"
   ]
  },
  {
   "cell_type": "code",
   "execution_count": 974,
   "metadata": {},
   "outputs": [],
   "source": [
    "# Select sources that are potentially lost animals\n",
    "reg_df_query = reg_df_clean.query(\n",
    "    \"source in [ \\\n",
    "        'holding stray', \" \\\n",
    "        \"'brought-in', \" \\\n",
    "        \"'other', \" \\\n",
    "        \"'complaint', \" \\\n",
    "        \"'unknown', \" \\\n",
    "        \"'spca', \" \\\n",
    "        \"'transferred', \" \\\n",
    "        \"'patrol'\" \\\n",
    "    \"]\"\n",
    ") [['dateimpounded','source']]\n"
   ]
  },
  {
   "cell_type": "code",
   "execution_count": 975,
   "metadata": {},
   "outputs": [],
   "source": [
    "# Get total number of rows for each month on each year\n",
    "lf_yr_mo_counts = lf_df_clean.date.apply(lambda x: x[:7]).value_counts().sort_index()\n",
    "reg_yr_mo_counts = reg_df_query.dateimpounded.apply(lambda x: x[:7]).value_counts().sort_index()"
   ]
  },
  {
   "cell_type": "code",
   "execution_count": 976,
   "metadata": {},
   "outputs": [
    {
     "data": {
      "text/plain": [
       "date\n",
       "1999-01    48\n",
       "1999-02    92\n",
       "1999-03    77\n",
       "1999-04    72\n",
       "1999-05    61\n",
       "Name: count, dtype: int64"
      ]
     },
     "execution_count": 976,
     "metadata": {},
     "output_type": "execute_result"
    }
   ],
   "source": [
    "lf_yr_mo_counts.head()"
   ]
  },
  {
   "cell_type": "code",
   "execution_count": 977,
   "metadata": {},
   "outputs": [
    {
     "data": {
      "text/plain": [
       "dateimpounded\n",
       "1998-10      1\n",
       "1998-11      1\n",
       "1998-12      8\n",
       "1999-01    158\n",
       "1999-02     87\n",
       "Name: count, dtype: int64"
      ]
     },
     "execution_count": 977,
     "metadata": {},
     "output_type": "execute_result"
    }
   ],
   "source": [
    "reg_yr_mo_counts.head()"
   ]
  },
  {
   "cell_type": "code",
   "execution_count": 978,
   "metadata": {},
   "outputs": [],
   "source": [
    "# A basic function that returns two Series objects for the desired year. \n",
    "# Objects contain the count of rows in the lf_df_clean and reg_df_clean DataFrames\n",
    "\n",
    "def get_year_count(year_str):\n",
    "    result_lf = lf_yr_mo_counts[lf_yr_mo_counts.index.str.contains(year_str)]\n",
    "    result_reg = reg_yr_mo_counts[reg_yr_mo_counts.index.str.contains(year_str)]\n",
    "    return result_lf, result_reg"
   ]
  },
  {
   "cell_type": "code",
   "execution_count": 979,
   "metadata": {},
   "outputs": [],
   "source": [
    "lf_2024, reg_2024 = get_year_count('2024')"
   ]
  },
  {
   "cell_type": "code",
   "execution_count": 980,
   "metadata": {},
   "outputs": [
    {
     "data": {
      "text/plain": [
       "dateimpounded\n",
       "2024-01    20\n",
       "2024-02    32\n",
       "2024-03    25\n",
       "2024-04    34\n",
       "2024-05    36\n",
       "2024-06    30\n",
       "2024-07    47\n",
       "2024-08    50\n",
       "2024-09    33\n",
       "2024-10    36\n",
       "2024-11    25\n",
       "2024-12    37\n",
       "Name: count, dtype: int64"
      ]
     },
     "execution_count": 980,
     "metadata": {},
     "output_type": "execute_result"
    }
   ],
   "source": [
    "# Here is what the resulting Series looks like\n",
    "reg_2024"
   ]
  },
  {
   "cell_type": "code",
   "execution_count": 981,
   "metadata": {},
   "outputs": [
    {
     "data": {
      "text/plain": [
       "(array([37, 32, 44, 49, 69, 60, 72, 51, 62, 43, 29, 30]),\n",
       " array([20, 32, 25, 34, 36, 30, 47, 50, 33, 36, 25, 37]))"
      ]
     },
     "execution_count": 981,
     "metadata": {},
     "output_type": "execute_result"
    }
   ],
   "source": [
    "# Here is a simple view allowing side/side(-ish) comparison\n",
    "lf_2024.values, reg_2024.values"
   ]
  },
  {
   "cell_type": "markdown",
   "metadata": {},
   "source": [
    "I'll be making this same style of chart multiple times, so lets make a function to limit redundant code."
   ]
  },
  {
   "cell_type": "code",
   "execution_count": 982,
   "metadata": {},
   "outputs": [],
   "source": [
    "def bar_graph(bar1, bar2, title, xlabel, ylabel, figsize=(5,5)):\n",
    "    ax = bar1.plot(alpha=0.5, figsize=figsize, label='lost+found', kind='bar', color='red');\n",
    "    bar2.plot(alpha=0.5, figsize=figsize, label='register', kind='bar', ax=ax, color='blue');\n",
    "    ax.set_title(title)\n",
    "    ax.set_xlabel(xlabel)\n",
    "    ax.set_ylabel(ylabel)\n",
    "    ax.legend(loc='upper right');"
   ]
  },
  {
   "cell_type": "code",
   "execution_count": 983,
   "metadata": {},
   "outputs": [
    {
     "data": {
      "image/png": "[encoded data removed]",
      "text/plain": [
       "<Figure size 500x500 with 1 Axes>"
      ]
     },
     "metadata": {},
     "output_type": "display_data"
    }
   ],
   "source": [
    "title = \"Animals Reported Lost Alongside Animals in City Registry (2024)\"\n",
    "xlabel = \"Month & Year\"\n",
    "ylabel = \"Number of Animals\"\n",
    "bar_graph(lf_2024, reg_2024, title, xlabel, ylabel)"
   ]
  },
  {
   "cell_type": "markdown",
   "metadata": {},
   "source": [
    "In 2024, more animals were reported as lost than those that were registered by the City of Vancouver, except for in December. What about in 2025?"
   ]
  },
  {
   "cell_type": "code",
   "execution_count": 984,
   "metadata": {},
   "outputs": [
    {
     "data": {
      "image/png": "[encoded data removed]",
      "text/plain": [
       "<Figure size 500x500 with 1 Axes>"
      ]
     },
     "metadata": {},
     "output_type": "display_data"
    }
   ],
   "source": [
    "lf_2025, reg_2025 = get_year_count('2025')\n",
    "bar_graph(reg_2025, lf_2025, \"Animals Reported Lost Alongside Animals in City Registry (2025)\", xlabel, ylabel);"
   ]
  },
  {
   "cell_type": "markdown",
   "metadata": {},
   "source": [
    "For 2025, so far at least, it appears that the inverse is true."
   ]
  },
  {
   "cell_type": "code",
   "execution_count": 985,
   "metadata": {},
   "outputs": [
    {
     "data": {
      "image/png": "[encoded data removed]",
      "text/plain": [
       "<Figure size 500x500 with 1 Axes>"
      ]
     },
     "metadata": {},
     "output_type": "display_data"
    }
   ],
   "source": [
    "lf_2023, reg_2023 = get_year_count('2023')\n",
    "bar_graph(reg_2023, lf_2023, \"Animals Reported Lost Alongside Animals in City Registry (2023)\", xlabel, ylabel);"
   ]
  },
  {
   "cell_type": "code",
   "execution_count": 986,
   "metadata": {},
   "outputs": [
    {
     "data": {
      "image/png": "[encoded data removed]",
      "text/plain": [
       "<Figure size 500x500 with 1 Axes>"
      ]
     },
     "metadata": {},
     "output_type": "display_data"
    }
   ],
   "source": [
    "lf_2020, reg_2020 = get_year_count('2020')\n",
    "bar_graph(reg_2020, lf_2020, \"Animals Reported Lost Alongside Animals in City Registry (2020)\", xlabel, ylabel);"
   ]
  },
  {
   "cell_type": "markdown",
   "metadata": {},
   "source": [
    "What about over the past nearly 5 years?"
   ]
  },
  {
   "cell_type": "code",
   "execution_count": 987,
   "metadata": {},
   "outputs": [
    {
     "data": {
      "image/png": "[encoded data removed]",
      "text/plain": [
       "<Figure size 1200x800 with 1 Axes>"
      ]
     },
     "metadata": {},
     "output_type": "display_data"
    }
   ],
   "source": [
    "lf_202X, reg_202X = get_year_count('202')\n",
    "bar = bar_graph(reg_202X, lf_202X, \"Animals Reported Lost Alongside Animals in City Registry (202X)\", xlabel, ylabel, (12,8));"
   ]
  },
  {
   "cell_type": "markdown",
   "metadata": {},
   "source": [
    "*Answer to research question:* This helps us answer our research question in a few ways. First, it shows a relationship between the number of animals reported as lost compared to the number of animals brought into the shelter. Generally, the number registered per month exceeds the number of lost animals. This disparity gives me somewhat low confidence in using this method solely for tracking down known lost and sheltered, but unclaimed animals."
   ]
  },
  {
   "cell_type": "markdown",
   "metadata": {},
   "source": [
    "#### Visual 2: Animal State Pie Chart"
   ]
  },
  {
   "cell_type": "markdown",
   "metadata": {},
   "source": [
    "My next concern is how many animals are not yet tracked as \"matched\" or \"found\" in the system? How does this compare to the entire dataset?\n",
    "\n",
    "We'll be using the merged dataset created earlier and stored in `lf_reg_merged`. As a reminder, here is what that merged data looks like:"
   ]
  },
  {
   "cell_type": "code",
   "execution_count": 988,
   "metadata": {},
   "outputs": [
    {
     "data": {
      "text/html": [
       "<div>\n",
       "<style scoped>\n",
       "    .dataframe tbody tr th:only-of-type {\n",
       "        vertical-align: middle;\n",
       "    }\n",
       "\n",
       "    .dataframe tbody tr th {\n",
       "        vertical-align: top;\n",
       "    }\n",
       "\n",
       "    .dataframe thead th {\n",
       "        text-align: right;\n",
       "    }\n",
       "</style>\n",
       "<table border=\"1\" class=\"dataframe\">\n",
       "  <thead>\n",
       "    <tr style=\"text-align: right;\">\n",
       "      <th></th>\n",
       "      <th>date</th>\n",
       "      <th>breed</th>\n",
       "      <th>color_x</th>\n",
       "      <th>sex</th>\n",
       "      <th>state</th>\n",
       "      <th>name</th>\n",
       "      <th>shortdate</th>\n",
       "      <th>receiptnumber</th>\n",
       "      <th>dateimpounded</th>\n",
       "      <th>dispositiondate</th>\n",
       "      <th>color_y</th>\n",
       "      <th>approxweight</th>\n",
       "      <th>agecategory</th>\n",
       "      <th>source</th>\n",
       "      <th>status</th>\n",
       "    </tr>\n",
       "  </thead>\n",
       "  <tbody>\n",
       "    <tr>\n",
       "      <th>0</th>\n",
       "      <td>1999-01-04</td>\n",
       "      <td>shep mix</td>\n",
       "      <td>[black, tan]</td>\n",
       "      <td>f</td>\n",
       "      <td>found</td>\n",
       "      <td>unknown</td>\n",
       "      <td>1999-01</td>\n",
       "      <td>20043</td>\n",
       "      <td>1999-01-21</td>\n",
       "      <td>unknown</td>\n",
       "      <td>[blk, tan]</td>\n",
       "      <td>unknown</td>\n",
       "      <td>unknown</td>\n",
       "      <td>unknown</td>\n",
       "      <td>redeemed</td>\n",
       "    </tr>\n",
       "    <tr>\n",
       "      <th>1</th>\n",
       "      <td>1999-01-04</td>\n",
       "      <td>shep mix</td>\n",
       "      <td>[black, tan]</td>\n",
       "      <td>f</td>\n",
       "      <td>found</td>\n",
       "      <td>unknown</td>\n",
       "      <td>1999-01</td>\n",
       "      <td>20032</td>\n",
       "      <td>1999-01-29</td>\n",
       "      <td>unknown</td>\n",
       "      <td>[blk, tan]</td>\n",
       "      <td>unknown</td>\n",
       "      <td>unknown</td>\n",
       "      <td>unknown</td>\n",
       "      <td>redeemed</td>\n",
       "    </tr>\n",
       "    <tr>\n",
       "      <th>2</th>\n",
       "      <td>1999-01-04</td>\n",
       "      <td>shep mix</td>\n",
       "      <td>[black, tan]</td>\n",
       "      <td>f</td>\n",
       "      <td>found</td>\n",
       "      <td>unknown</td>\n",
       "      <td>1999-01</td>\n",
       "      <td>20002</td>\n",
       "      <td>1999-01-11</td>\n",
       "      <td>unknown</td>\n",
       "      <td>[tan, blk]</td>\n",
       "      <td>unknown</td>\n",
       "      <td>unknown</td>\n",
       "      <td>unknown</td>\n",
       "      <td>behavior</td>\n",
       "    </tr>\n",
       "    <tr>\n",
       "      <th>3</th>\n",
       "      <td>1999-01-26</td>\n",
       "      <td>airedale</td>\n",
       "      <td>[black, tan curly fur]</td>\n",
       "      <td>f/s</td>\n",
       "      <td>lost</td>\n",
       "      <td>molly</td>\n",
       "      <td>1999-01</td>\n",
       "      <td>20008</td>\n",
       "      <td>1999-01-26</td>\n",
       "      <td>unknown</td>\n",
       "      <td>[blk, tan]</td>\n",
       "      <td>unknown</td>\n",
       "      <td>unknown</td>\n",
       "      <td>unknown</td>\n",
       "      <td>redeemed</td>\n",
       "    </tr>\n",
       "    <tr>\n",
       "      <th>4</th>\n",
       "      <td>1999-02-08</td>\n",
       "      <td>shep mix</td>\n",
       "      <td>[black, tan]</td>\n",
       "      <td>m</td>\n",
       "      <td>lost</td>\n",
       "      <td>banjo</td>\n",
       "      <td>1999-02</td>\n",
       "      <td>7640,wrs #5</td>\n",
       "      <td>1999-02-08</td>\n",
       "      <td>unknown</td>\n",
       "      <td>[grey, black]</td>\n",
       "      <td>unknown</td>\n",
       "      <td>unknown</td>\n",
       "      <td>unknown</td>\n",
       "      <td>redeemed</td>\n",
       "    </tr>\n",
       "  </tbody>\n",
       "</table>\n",
       "</div>"
      ],
      "text/plain": [
       "         date     breed                 color_x  sex  state     name  \\\n",
       "0  1999-01-04  shep mix            [black, tan]    f  found  unknown   \n",
       "1  1999-01-04  shep mix            [black, tan]    f  found  unknown   \n",
       "2  1999-01-04  shep mix            [black, tan]    f  found  unknown   \n",
       "3  1999-01-26  airedale  [black, tan curly fur]  f/s   lost    molly   \n",
       "4  1999-02-08  shep mix            [black, tan]    m   lost    banjo   \n",
       "\n",
       "  shortdate receiptnumber dateimpounded dispositiondate        color_y  \\\n",
       "0   1999-01         20043    1999-01-21         unknown     [blk, tan]   \n",
       "1   1999-01         20032    1999-01-29         unknown     [blk, tan]   \n",
       "2   1999-01         20002    1999-01-11         unknown     [tan, blk]   \n",
       "3   1999-01         20008    1999-01-26         unknown     [blk, tan]   \n",
       "4   1999-02   7640,wrs #5    1999-02-08         unknown  [grey, black]   \n",
       "\n",
       "  approxweight agecategory   source    status  \n",
       "0      unknown     unknown  unknown  redeemed  \n",
       "1      unknown     unknown  unknown  redeemed  \n",
       "2      unknown     unknown  unknown  behavior  \n",
       "3      unknown     unknown  unknown  redeemed  \n",
       "4      unknown     unknown  unknown  redeemed  "
      ]
     },
     "execution_count": 988,
     "metadata": {},
     "output_type": "execute_result"
    }
   ],
   "source": [
    "lf_reg_merged.head()"
   ]
  },
  {
   "cell_type": "code",
   "execution_count": 989,
   "metadata": {},
   "outputs": [
    {
     "data": {
      "text/html": [
       "<div>\n",
       "<style scoped>\n",
       "    .dataframe tbody tr th:only-of-type {\n",
       "        vertical-align: middle;\n",
       "    }\n",
       "\n",
       "    .dataframe tbody tr th {\n",
       "        vertical-align: top;\n",
       "    }\n",
       "\n",
       "    .dataframe thead th {\n",
       "        text-align: right;\n",
       "    }\n",
       "</style>\n",
       "<table border=\"1\" class=\"dataframe\">\n",
       "  <thead>\n",
       "    <tr style=\"text-align: right;\">\n",
       "      <th></th>\n",
       "      <th>date</th>\n",
       "      <th>breed</th>\n",
       "      <th>color_x</th>\n",
       "      <th>sex</th>\n",
       "      <th>state</th>\n",
       "      <th>name</th>\n",
       "      <th>shortdate</th>\n",
       "      <th>receiptnumber</th>\n",
       "      <th>dateimpounded</th>\n",
       "      <th>dispositiondate</th>\n",
       "      <th>color_y</th>\n",
       "      <th>approxweight</th>\n",
       "      <th>agecategory</th>\n",
       "      <th>source</th>\n",
       "      <th>status</th>\n",
       "    </tr>\n",
       "  </thead>\n",
       "  <tbody>\n",
       "    <tr>\n",
       "      <th>755</th>\n",
       "      <td>2025-06-04</td>\n",
       "      <td>yorkshire terrier</td>\n",
       "      <td>[brown, beige]</td>\n",
       "      <td>f</td>\n",
       "      <td>matched</td>\n",
       "      <td>chona</td>\n",
       "      <td>2025-06</td>\n",
       "      <td>n/a - rhf - hb</td>\n",
       "      <td>2025-06-04</td>\n",
       "      <td>2025-06-05</td>\n",
       "      <td>[black, grey, brown]</td>\n",
       "      <td>unknown</td>\n",
       "      <td>adult</td>\n",
       "      <td>holding stray</td>\n",
       "      <td>ride home free</td>\n",
       "    </tr>\n",
       "    <tr>\n",
       "      <th>756</th>\n",
       "      <td>2025-06-11</td>\n",
       "      <td>shiba inu</td>\n",
       "      <td>[brown, cream]</td>\n",
       "      <td>m</td>\n",
       "      <td>matched</td>\n",
       "      <td>kiri</td>\n",
       "      <td>2025-06</td>\n",
       "      <td>n/a - rhf - dc</td>\n",
       "      <td>2025-06-12</td>\n",
       "      <td>2025-06-12</td>\n",
       "      <td>[golden]</td>\n",
       "      <td>unknown</td>\n",
       "      <td>young adult</td>\n",
       "      <td>brought-in</td>\n",
       "      <td>ride home free</td>\n",
       "    </tr>\n",
       "    <tr>\n",
       "      <th>757</th>\n",
       "      <td>2025-06-22</td>\n",
       "      <td>australian cattle dog mix</td>\n",
       "      <td>[beige, tan, brown]</td>\n",
       "      <td>f</td>\n",
       "      <td>lost</td>\n",
       "      <td>daisy</td>\n",
       "      <td>2025-06</td>\n",
       "      <td>n/a - medical impound</td>\n",
       "      <td>2025-06-09</td>\n",
       "      <td>2025-06-10</td>\n",
       "      <td>[beige, tan, brown]</td>\n",
       "      <td>unknown</td>\n",
       "      <td>adult</td>\n",
       "      <td>holding stray</td>\n",
       "      <td>redeemed</td>\n",
       "    </tr>\n",
       "    <tr>\n",
       "      <th>758</th>\n",
       "      <td>2025-06-29</td>\n",
       "      <td>french bulldog</td>\n",
       "      <td>[brown, tan]</td>\n",
       "      <td>f</td>\n",
       "      <td>matched</td>\n",
       "      <td>frankie</td>\n",
       "      <td>2025-06</td>\n",
       "      <td>rhf - nt</td>\n",
       "      <td>2025-06-29</td>\n",
       "      <td>2025-06-29</td>\n",
       "      <td>[black, cream]</td>\n",
       "      <td>unknown</td>\n",
       "      <td>young adult</td>\n",
       "      <td>brought-in</td>\n",
       "      <td>ride home free</td>\n",
       "    </tr>\n",
       "    <tr>\n",
       "      <th>759</th>\n",
       "      <td>2025-07-08</td>\n",
       "      <td>toy poodle</td>\n",
       "      <td>[unknown]</td>\n",
       "      <td>f/s</td>\n",
       "      <td>matched</td>\n",
       "      <td>dora</td>\n",
       "      <td>2025-07</td>\n",
       "      <td>di 25-248847 - dc</td>\n",
       "      <td>2025-07-08</td>\n",
       "      <td>2025-07-08</td>\n",
       "      <td>[brown]</td>\n",
       "      <td>unknown</td>\n",
       "      <td>young adult</td>\n",
       "      <td>holding stray</td>\n",
       "      <td>redeemed</td>\n",
       "    </tr>\n",
       "  </tbody>\n",
       "</table>\n",
       "</div>"
      ],
      "text/plain": [
       "           date                      breed              color_x  sex    state  \\\n",
       "755  2025-06-04          yorkshire terrier       [brown, beige]    f  matched   \n",
       "756  2025-06-11                  shiba inu       [brown, cream]    m  matched   \n",
       "757  2025-06-22  australian cattle dog mix  [beige, tan, brown]    f     lost   \n",
       "758  2025-06-29             french bulldog         [brown, tan]    f  matched   \n",
       "759  2025-07-08                 toy poodle            [unknown]  f/s  matched   \n",
       "\n",
       "        name shortdate          receiptnumber dateimpounded dispositiondate  \\\n",
       "755    chona   2025-06         n/a - rhf - hb    2025-06-04      2025-06-05   \n",
       "756     kiri   2025-06         n/a - rhf - dc    2025-06-12      2025-06-12   \n",
       "757    daisy   2025-06  n/a - medical impound    2025-06-09      2025-06-10   \n",
       "758  frankie   2025-06               rhf - nt    2025-06-29      2025-06-29   \n",
       "759     dora   2025-07      di 25-248847 - dc    2025-07-08      2025-07-08   \n",
       "\n",
       "                  color_y approxweight  agecategory         source  \\\n",
       "755  [black, grey, brown]      unknown        adult  holding stray   \n",
       "756              [golden]      unknown  young adult     brought-in   \n",
       "757   [beige, tan, brown]      unknown        adult  holding stray   \n",
       "758        [black, cream]      unknown  young adult     brought-in   \n",
       "759               [brown]      unknown  young adult  holding stray   \n",
       "\n",
       "             status  \n",
       "755  ride home free  \n",
       "756  ride home free  \n",
       "757        redeemed  \n",
       "758  ride home free  \n",
       "759        redeemed  "
      ]
     },
     "execution_count": 989,
     "metadata": {},
     "output_type": "execute_result"
    }
   ],
   "source": [
    "lf_reg_merged.tail()"
   ]
  },
  {
   "cell_type": "markdown",
   "metadata": {},
   "source": [
    "We can already see that some of the results are quite off while there are some that are likely matches. Before we go too far, lets first visualize the state of each animal. We'll use a pie chart since they are easy to digest and the question we want to answer is somewhat like \"how many out of all of the animals are still tracked as lost?\""
   ]
  },
  {
   "cell_type": "code",
   "execution_count": 990,
   "metadata": {},
   "outputs": [
    {
     "data": {
      "image/png": "[encoded data removed]",
      "text/plain": [
       "<Figure size 600x600 with 1 Axes>"
      ]
     },
     "metadata": {},
     "output_type": "display_data"
    }
   ],
   "source": [
    "# Heavily assisted/influenced by https://matplotlib.org/stable/gallery/pie_and_polar_charts/pie_and_donut_labels.html\n",
    "\n",
    "import matplotlib.pyplot as plt\n",
    "import numpy as np\n",
    "\n",
    "fig, ax = plt.subplots(figsize=(6, 6), subplot_kw=dict(aspect=\"equal\"))\n",
    "\n",
    "animal_state_counts = lf_reg_merged['state'].value_counts()\n",
    "animal_counts = animal_state_counts.values\n",
    "states = animal_state_counts.index\n",
    "\n",
    "\n",
    "def format_pct(pct, allvals):\n",
    "    absolute = int(np.round(pct/100.*np.sum(allvals)))\n",
    "    return f\"{pct:.2f}%\\n({absolute:d} animals)\"\n",
    "\n",
    "\n",
    "wedges, texts, autotexts = ax.pie(animal_counts, autopct=lambda pct: format_pct(pct, animal_counts),\n",
    "                                  textprops=dict(color=\"k\"))\n",
    "\n",
    "ax.legend(wedges, states,\n",
    "          title=\"States\",\n",
    "          loc=\"center left\",\n",
    "          bbox_to_anchor=(1, 0, 0.5, 1))\n",
    "\n",
    "plt.setp(autotexts, size=11)\n",
    "ax.set_title(\"Current States of Possibly Matched Animals\")\n",
    "plt.show()"
   ]
  },
  {
   "cell_type": "markdown",
   "metadata": {},
   "source": [
    "If a \"lost\" animal shows up here, that means that they were in custody of the City of Vancouver at some point. Let's now get a query rolling to see what that slice of the pie looks like."
   ]
  },
  {
   "cell_type": "code",
   "execution_count": 991,
   "metadata": {},
   "outputs": [
    {
     "data": {
      "text/plain": [
       "status\n",
       "redeemed                       91\n",
       "ride home free                 20\n",
       "passed away                     2\n",
       "sold                            1\n",
       "behavior                        1\n",
       "owner request - signed over     1\n",
       "transferred                     1\n",
       "Name: count, dtype: int64"
      ]
     },
     "execution_count": 991,
     "metadata": {},
     "output_type": "execute_result"
    }
   ],
   "source": [
    "lf_reg_merged.query(\"state == 'lost'\")['status'].value_counts()"
   ]
  },
  {
   "cell_type": "markdown",
   "metadata": {},
   "source": [
    "None of those statuses sound like the animal is still in the shelter. Using all of the data, we can see below that there are some states like \"viewable\", \"adoptable\" and so on that indicate the animal is likely still in the shelter."
   ]
  },
  {
   "cell_type": "code",
   "execution_count": 992,
   "metadata": {},
   "outputs": [
    {
     "data": {
      "text/plain": [
       "status\n",
       "redeemed                       14109\n",
       "sold                            5087\n",
       "ride home free                  4493\n",
       "transferred                     1502\n",
       "behavior                         219\n",
       "health                           198\n",
       "owner request - signed over      162\n",
       "passed away                       82\n",
       "released ( wildlife)              52\n",
       "court ordered                     41\n",
       "fostered                          12\n",
       "impound                           10\n",
       "escaped                           10\n",
       "unknown                            9\n",
       "adoptable                          8\n",
       "hold                               5\n",
       "viewable                           4\n",
       "seized                             4\n",
       "adoption assessment                3\n",
       "stolen                             2\n",
       "adoption pending                   1\n",
       "Name: count, dtype: int64"
      ]
     },
     "execution_count": 992,
     "metadata": {},
     "output_type": "execute_result"
    }
   ],
   "source": [
    "reg_df_clean['status'].value_counts()"
   ]
  },
  {
   "attachments": {
    "image.png": {
     "image/png": "[encoded data removed]"
    }
   },
   "cell_type": "markdown",
   "metadata": {},
   "source": [
    "*Answer to research question:* Our research question is somewhat answered by this, indicating that there are no animals that are in the shelter, but reported as lost to the City of Vancouver. At least as of Aug 7 2025, these are the results I see:\n",
    "\n",
    "![image.png](attachment:image.png)\n",
    "\n",
    "We do need to bear in mind that the system for combining the data, being the merge I did earlier, is certainly not the perfect way to do it. Ideally, we would be doing some fuzzy matching on the breed and name, as any of those things could be misspelled or mistaken. \n",
    "\n",
    "With all of that said, there is still more work that can be done with this incredibly interesting dataset, including a lot more cleaning/normalization."
   ]
  }
 ],
 "metadata": {
  "colab": {
   "provenance": []
  },
  "kernelspec": {
   "display_name": "Python 3",
   "language": "python",
   "name": "python3"
  },
  "language_info": {
   "codemirror_mode": {
    "name": "ipython",
    "version": 3
   },
   "file_extension": ".py",
   "mimetype": "text/x-python",
   "name": "python",
   "nbconvert_exporter": "python",
   "pygments_lexer": "ipython3",
   "version": "3.10.7"
  }
 },
 "nbformat": 4,
 "nbformat_minor": 1
}
