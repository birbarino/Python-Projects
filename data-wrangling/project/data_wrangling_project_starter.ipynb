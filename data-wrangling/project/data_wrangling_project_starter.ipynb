{
 "cells": [
  {
   "cell_type": "markdown",
   "metadata": {
    "id": "GNIwe5N7s0e_"
   },
   "source": [
    "# Real-world Data Wrangling"
   ]
  },
  {
   "cell_type": "markdown",
   "metadata": {
    "id": "_BG63Tpg8ep_"
   },
   "source": [
    "In this project, you will apply the skills you acquired in the course to gather and wrangle real-world data with two datasets of your choice.\n",
    "\n",
    "You will retrieve and extract the data, assess the data programmatically and visually, accross elements of data quality and structure, and implement a cleaning strategy for the data. You will then store the updated data into your selected database/data store, combine the data, and answer a research question with the datasets.\n",
    "\n",
    "Throughout the process, you are expected to:\n",
    "\n",
    "1. Explain your decisions towards methods used for gathering, assessing, cleaning, storing, and answering the research question\n",
    "2. Write code comments so your code is more readable"
   ]
  },
  {
   "cell_type": "markdown",
   "metadata": {
    "id": "lDYDkH-Zs7Nn"
   },
   "source": [
    "## 1. Gather data\n",
    "\n",
    "In this section, you will extract data using two different data gathering methods and combine the data. Use at least two different types of data-gathering methods."
   ]
  },
  {
   "cell_type": "markdown",
   "metadata": {
    "id": "LbN7z7rcuqpO"
   },
   "source": [
    "### **1.1.** Problem Statement\n",
    "In 2-4 sentences, explain the kind of problem you want to look at and the datasets you will be wrangling for this project."
   ]
  },
  {
   "cell_type": "markdown",
   "metadata": {
    "id": "gi6swhjSYqu2"
   },
   "source": [
    " *The City of Vancouver tracks not only every animal that comes into its shelters, but also those that are reported as lost by their owners. While the city does track those that are matched back to their owner, is it possible that an animal still tracked as lost has possibly been accounted for? If so, is it possible to find somewhat reliable means to match animals based on data entered into a report for lost ones?*"
   ]
  },
  {
   "cell_type": "markdown",
   "metadata": {
    "id": "8AQfBAdUypMm"
   },
   "source": [
    "### **1.2.** Gather at least two datasets using two different data gathering methods\n",
    "\n",
    "List of data gathering methods:\n",
    "\n",
    "- Download data manually\n",
    "- Programmatically downloading files\n",
    "- Gather data by accessing APIs\n",
    "- Gather and extract data from HTML files using BeautifulSoup\n",
    "- Extract data from a SQL database\n",
    "\n",
    "Each dataset must have at least two variables, and have greater than 500 data samples within each dataset.\n",
    "\n",
    "For each dataset, briefly describe why you picked the dataset and the gathering method (2-3 full sentences), including the names and significance of the variables in the dataset. Show your work (e.g., if using an API to download the data, please include a snippet of your code). \n",
    "\n",
    "Load the dataset programmtically into this notebook."
   ]
  },
  {
   "cell_type": "markdown",
   "metadata": {
    "id": "7e6gS0wL1KTu"
   },
   "source": [
    "#### City of Vancouver Animal Control Inventory - Lost and Found\n",
    "\n",
    "This dataset is information from the City of Vancouver where an owner of an animal has reported them as lost. It also tracks those that were either reported as found or were matched by the shelter back to the owner. \n",
    "\n",
    "I chose this dataset because it will address what animals were reported as lost within the city. This does not cover every animal that was lost, however it does provide a large sample size for this metro area.\n",
    "\n",
    "Further information on the dataset can be found [here](https://opendata.vancouver.ca/explore/dataset/animal-control-inventory-lost-and-found/information).\n",
    "\n",
    "Type: JSON\n",
    "\n",
    "Method: This data was gathered by querying the City of Vancouver's database with the standard Opendatasoft API. I am doing it this way because the data is updated daily, and this guarantees that the most up-to-date information will be used.\n",
    "\n",
    "Dataset variables:\n",
    "\n",
    "- *breed* - type of animal or breed that fits best.\n",
    "- *color* - color of the animal's coat/fur.\n",
    "- *date* - date that the animal was lost\n",
    "- *name* - the given name of the animal being tracked (if known).\n",
    "- *sex* - used to label the biological sex of the animal, as well as if they are spayed or neutered (marked with `F/S` or `M/N` accordingly). `X` = unknown\n",
    "- *state* - the last state of being for the animal, i.e. `matched` or `lost`.\n",
    "\n",
    "After some poking around, I found out that without a `group by` statement, the server only returns 100 results. By including a `group by` statement for all of the fields, this should theoretically drop duplicate values. I'm also filtering out anything before `1998-10-03`, as this is the earliest `DateImpounded` timestamp in the other dataset that will be used."
   ]
  },
  {
   "cell_type": "code",
   "execution_count": 80,
   "metadata": {
    "id": "Su8E0uLuYkHU"
   },
   "outputs": [],
   "source": [
    "import requests\n",
    "import pandas as pd\n",
    "import json\n",
    "import datetime\n",
    "\n",
    "# \"lf\" is for *l*ost and *f*ound\n",
    "lf_api_query = \"https://opendata.vancouver.ca/api/explore/v2.1/catalog/datasets/animal-control-inventory-lost-and-found/records?where=date%20%3E%20%221998-10-02%22&group_by=date%2C%20breed%2C%20color%2C%20name%2C%20sex%2C%20state&order_by=date&limit=-1\"\n",
    "lf_data = requests.get(lf_api_query)\n",
    "lf_data.raise_for_status()"
   ]
  },
  {
   "cell_type": "code",
   "execution_count": 81,
   "metadata": {},
   "outputs": [
    {
     "name": "stdout",
     "output_type": "stream",
     "text": [
      "dict_keys(['total_count', 'results'])\n",
      "17829\n",
      "<class 'list'>\n",
      "<class 'dict'>\n"
     ]
    }
   ],
   "source": [
    "lf_json = lf_data.json()\n",
    "\n",
    "print(lf_json.keys())\n",
    "print(lf_json['total_count'])\n",
    "\n",
    "lf_json['results'][0:3]\n",
    "print(type(lf_json['results']))     # all elements\n",
    "print(type(lf_json['results'][0]))  # individual element"
   ]
  },
  {
   "cell_type": "markdown",
   "metadata": {},
   "source": [
    "Based on our mild digging above, we would want to load specifically the data in the `results` key as a Pandas DataFrame, since `results` is simply a `list` of `dict`'s, which Pandas.DataFrame's constructor can handle."
   ]
  },
  {
   "cell_type": "code",
   "execution_count": 82,
   "metadata": {},
   "outputs": [],
   "source": [
    "lf_df = pd.DataFrame(lf_json['results'])"
   ]
  },
  {
   "cell_type": "markdown",
   "metadata": {
    "id": "hoUjq1tPzz7P"
   },
   "source": [
    "#### City of Vancouver Animal Control Inventory - Register\n",
    "\n",
    "This dataset is a \"general record of each animal that has come into the custody\" the City of Vancouver's animal control service.\n",
    "\n",
    "I chose this dataset to have a record to compare all of the lost and found animals to in the event an animal is reported as lost and the City of Vancouver happens to have them, or someone very much like them, already processed into their database.\n",
    "\n",
    "Like with the lost and found dataset, this data is updated daily. Because I must choose a different method to pull this data, I will download it programatically, as well as in CSV format just to make sure I cover all bases for this project.\n",
    "\n",
    "Type: Semicolon (`;`) delimited \"CSV\" file.\n",
    "\n",
    "Method: Programatic download via HTTP GET request\n",
    "\n",
    "Dataset variables:\n",
    "\n",
    "- *AnimalID* - Unique sequential number given to each entry.\n",
    "- *Breed* - Type of animal.\n",
    "- *ShotsDate* - Date when vaccinated.\n",
    "- *Sex* - M = Male, F = Female, M/N = Male Neutered, F/S = Female Spayed.\n",
    "- *ReceiptNumber* - Point of sales system of record receipt number.\n",
    "- *DateImpounded* - Date first in custody of the City of Vancouver.\n",
    "- *PitNumber* - Number identifying animal kennel, does not change while in custody of the city.\n",
    "- *Name* - Name if known.\n",
    "- *KennelNumber* - Kennel number displayed at the top of each kennel.\n",
    "- *DispositionDate* - Date when animal was no longer under the control of the city.\n",
    "- *Color* - Color of coat.\n",
    "- *Code* - Walk-ability index (*Green = easy, Yellow = moderate, Blue = hard*).\n",
    "- *ApproxWeight* - Approximate weight of animal.\n",
    "- *Age category* - Rough estimate of age - puppy, young adult, adult, senior.\n",
    "- *Source* - Where the animal came from (Brought-in, Holding stray, Transferred).\n",
    "- *Status* - Current state/disposition of animal.\n",
    "- *ACO* - Animal control officer number or initials of employee."
   ]
  },
  {
   "cell_type": "code",
   "execution_count": 83,
   "metadata": {
    "id": "6zT0QxRyYmm7"
   },
   "outputs": [],
   "source": [
    "# \"reg\" is for registry\n",
    "reg_url = \"https://opendata.vancouver.ca/api/explore/v2.1/catalog/datasets/animal-control-inventory-register/exports/csv?lang=en&timezone=America%2FChicago&use_labels=true&delimiter=%3B\"\n",
    "reg_data = requests.get(reg_url)\n",
    "reg_data.raise_for_status()"
   ]
  },
  {
   "cell_type": "code",
   "execution_count": 84,
   "metadata": {},
   "outputs": [],
   "source": [
    "file_dl_date = datetime.date.today()\n",
    "filename = f\"vancouver-ac-registry_{file_dl_date.strftime('%Y%m%d')}.csv\"\n",
    "relativepath = \"./datasets/\" + filename\n",
    "\n",
    "with open(relativepath, mode=\"wb\") as f:\n",
    "    f.write(reg_data.content)"
   ]
  },
  {
   "cell_type": "markdown",
   "metadata": {},
   "source": [
    "We'll make the `AnimalID` column our index column for our DataFrame as that seems most sensible. Following this, we'll start assessing our data."
   ]
  },
  {
   "cell_type": "code",
   "execution_count": 85,
   "metadata": {},
   "outputs": [],
   "source": [
    "reg_df = pd.read_csv(relativepath, sep=\";\", index_col='AnimalID')"
   ]
  },
  {
   "cell_type": "markdown",
   "metadata": {
    "id": "QwSWIVmotLgV"
   },
   "source": [
    "## 2. Assess data\n",
    "\n",
    "Assess the data according to data quality and tidiness metrics using the report below.\n",
    "\n",
    "List **two** data quality issues and **two** tidiness issues. Assess each data issue visually **and** programmatically, then briefly describe the issue you find.  **Make sure you include justifications for the methods you use for the assessment.**"
   ]
  },
  {
   "cell_type": "markdown",
   "metadata": {
    "id": "adaK2iPNzVu4"
   },
   "source": [
    "### Quality Issue 1:"
   ]
  },
  {
   "cell_type": "code",
   "execution_count": 86,
   "metadata": {
    "id": "SpW59kh-zl8d"
   },
   "outputs": [
    {
     "data": {
      "text/html": [
       "<div>\n",
       "<style scoped>\n",
       "    .dataframe tbody tr th:only-of-type {\n",
       "        vertical-align: middle;\n",
       "    }\n",
       "\n",
       "    .dataframe tbody tr th {\n",
       "        vertical-align: top;\n",
       "    }\n",
       "\n",
       "    .dataframe thead th {\n",
       "        text-align: right;\n",
       "    }\n",
       "</style>\n",
       "<table border=\"1\" class=\"dataframe\">\n",
       "  <thead>\n",
       "    <tr style=\"text-align: right;\">\n",
       "      <th></th>\n",
       "      <th>date</th>\n",
       "      <th>breed</th>\n",
       "      <th>color</th>\n",
       "      <th>name</th>\n",
       "      <th>sex</th>\n",
       "      <th>state</th>\n",
       "    </tr>\n",
       "  </thead>\n",
       "  <tbody>\n",
       "    <tr>\n",
       "      <th>0</th>\n",
       "      <td>1999-01-03T00:00:00+00:00</td>\n",
       "      <td>Rotty X Shep</td>\n",
       "      <td>Black &amp; Tan</td>\n",
       "      <td>Tex</td>\n",
       "      <td>M/N</td>\n",
       "      <td>Lost</td>\n",
       "    </tr>\n",
       "    <tr>\n",
       "      <th>1</th>\n",
       "      <td>1999-01-04T00:00:00+00:00</td>\n",
       "      <td>Dog</td>\n",
       "      <td>Light Colour</td>\n",
       "      <td>None</td>\n",
       "      <td>M/N</td>\n",
       "      <td>Found</td>\n",
       "    </tr>\n",
       "    <tr>\n",
       "      <th>2</th>\n",
       "      <td>1999-01-04T00:00:00+00:00</td>\n",
       "      <td>Golden Lab X</td>\n",
       "      <td>Black &amp; Tan</td>\n",
       "      <td>Oscar</td>\n",
       "      <td>M</td>\n",
       "      <td>Lost</td>\n",
       "    </tr>\n",
       "    <tr>\n",
       "      <th>3</th>\n",
       "      <td>1999-01-04T00:00:00+00:00</td>\n",
       "      <td>Shep X</td>\n",
       "      <td>Black &amp; Tan</td>\n",
       "      <td>None</td>\n",
       "      <td>F</td>\n",
       "      <td>Found</td>\n",
       "    </tr>\n",
       "    <tr>\n",
       "      <th>4</th>\n",
       "      <td>1999-01-04T00:00:00+00:00</td>\n",
       "      <td>Shep X Collie</td>\n",
       "      <td>Black &amp; Tan</td>\n",
       "      <td>Angel</td>\n",
       "      <td>F</td>\n",
       "      <td>Lost</td>\n",
       "    </tr>\n",
       "  </tbody>\n",
       "</table>\n",
       "</div>"
      ],
      "text/plain": [
       "                        date          breed         color   name  sex  state\n",
       "0  1999-01-03T00:00:00+00:00   Rotty X Shep   Black & Tan    Tex  M/N   Lost\n",
       "1  1999-01-04T00:00:00+00:00            Dog  Light Colour   None  M/N  Found\n",
       "2  1999-01-04T00:00:00+00:00   Golden Lab X   Black & Tan  Oscar    M   Lost\n",
       "3  1999-01-04T00:00:00+00:00         Shep X   Black & Tan   None    F  Found\n",
       "4  1999-01-04T00:00:00+00:00  Shep X Collie   Black & Tan  Angel    F   Lost"
      ]
     },
     "execution_count": 86,
     "metadata": {},
     "output_type": "execute_result"
    }
   ],
   "source": [
    "#FILL IN - Inspecting the dataframe visually\n",
    "lf_df.head()"
   ]
  },
  {
   "cell_type": "code",
   "execution_count": 87,
   "metadata": {},
   "outputs": [
    {
     "data": {
      "text/html": [
       "<div>\n",
       "<style scoped>\n",
       "    .dataframe tbody tr th:only-of-type {\n",
       "        vertical-align: middle;\n",
       "    }\n",
       "\n",
       "    .dataframe tbody tr th {\n",
       "        vertical-align: top;\n",
       "    }\n",
       "\n",
       "    .dataframe thead th {\n",
       "        text-align: right;\n",
       "    }\n",
       "</style>\n",
       "<table border=\"1\" class=\"dataframe\">\n",
       "  <thead>\n",
       "    <tr style=\"text-align: right;\">\n",
       "      <th></th>\n",
       "      <th>date</th>\n",
       "      <th>breed</th>\n",
       "      <th>color</th>\n",
       "      <th>name</th>\n",
       "      <th>sex</th>\n",
       "      <th>state</th>\n",
       "    </tr>\n",
       "  </thead>\n",
       "  <tbody>\n",
       "    <tr>\n",
       "      <th>17824</th>\n",
       "      <td>2025-07-14T00:00:00+00:00</td>\n",
       "      <td>Shih Tzu schnauzer mix</td>\n",
       "      <td>Grey w/ white</td>\n",
       "      <td>Nelly</td>\n",
       "      <td>F/S</td>\n",
       "      <td>Lost</td>\n",
       "    </tr>\n",
       "    <tr>\n",
       "      <th>17825</th>\n",
       "      <td>2025-07-15T00:00:00+00:00</td>\n",
       "      <td>Cat - DMH - Black</td>\n",
       "      <td>Black with white patch on ches</td>\n",
       "      <td>George</td>\n",
       "      <td>M/N</td>\n",
       "      <td>Matched</td>\n",
       "    </tr>\n",
       "    <tr>\n",
       "      <th>17826</th>\n",
       "      <td>2025-07-15T00:00:00+00:00</td>\n",
       "      <td>Cat - DSH - Bengal</td>\n",
       "      <td>Creamy White/brown spots</td>\n",
       "      <td>Unknown</td>\n",
       "      <td>F/S</td>\n",
       "      <td>Lost</td>\n",
       "    </tr>\n",
       "    <tr>\n",
       "      <th>17827</th>\n",
       "      <td>2025-07-16T00:00:00+00:00</td>\n",
       "      <td>Aussie Doodle</td>\n",
       "      <td>black and White</td>\n",
       "      <td>Pearl</td>\n",
       "      <td>F/S</td>\n",
       "      <td>Lost</td>\n",
       "    </tr>\n",
       "    <tr>\n",
       "      <th>17828</th>\n",
       "      <td>2025-07-16T00:00:00+00:00</td>\n",
       "      <td>Tabby</td>\n",
       "      <td>Brown</td>\n",
       "      <td>Puss</td>\n",
       "      <td>F/S</td>\n",
       "      <td>Lost</td>\n",
       "    </tr>\n",
       "  </tbody>\n",
       "</table>\n",
       "</div>"
      ],
      "text/plain": [
       "                            date                   breed  \\\n",
       "17824  2025-07-14T00:00:00+00:00  Shih Tzu schnauzer mix   \n",
       "17825  2025-07-15T00:00:00+00:00       Cat - DMH - Black   \n",
       "17826  2025-07-15T00:00:00+00:00      Cat - DSH - Bengal   \n",
       "17827  2025-07-16T00:00:00+00:00           Aussie Doodle   \n",
       "17828  2025-07-16T00:00:00+00:00                   Tabby   \n",
       "\n",
       "                                color     name  sex    state  \n",
       "17824                   Grey w/ white    Nelly  F/S     Lost  \n",
       "17825  Black with white patch on ches   George  M/N  Matched  \n",
       "17826        Creamy White/brown spots  Unknown  F/S     Lost  \n",
       "17827                 black and White    Pearl  F/S     Lost  \n",
       "17828                           Brown     Puss  F/S     Lost  "
      ]
     },
     "execution_count": 87,
     "metadata": {},
     "output_type": "execute_result"
    }
   ],
   "source": [
    "lf_df.tail()"
   ]
  },
  {
   "cell_type": "code",
   "execution_count": 88,
   "metadata": {
    "id": "-qfcocStzsKg"
   },
   "outputs": [
    {
     "name": "stdout",
     "output_type": "stream",
     "text": [
      "<class 'pandas.core.frame.DataFrame'>\n",
      "RangeIndex: 17829 entries, 0 to 17828\n",
      "Data columns (total 6 columns):\n",
      " #   Column  Non-Null Count  Dtype \n",
      "---  ------  --------------  ----- \n",
      " 0   date    17829 non-null  object\n",
      " 1   breed   17781 non-null  object\n",
      " 2   color   17727 non-null  object\n",
      " 3   name    16060 non-null  object\n",
      " 4   sex     17439 non-null  object\n",
      " 5   state   17820 non-null  object\n",
      "dtypes: object(6)\n",
      "memory usage: 835.9+ KB\n"
     ]
    }
   ],
   "source": [
    "#FILL IN - Inspecting the dataframe programmatically\n",
    "lf_df.info()"
   ]
  },
  {
   "cell_type": "code",
   "execution_count": 89,
   "metadata": {},
   "outputs": [
    {
     "name": "stdout",
     "output_type": "stream",
     "text": [
      "Duplicate rows: False\n",
      "2025-07-16T00:00:00+00:00\n",
      "1999-01-03T00:00:00+00:00\n"
     ]
    }
   ],
   "source": [
    "print(\"Duplicate rows:\", lf_df.duplicated().any())\n",
    "print(lf_df.date.max())\n",
    "print(lf_df.date.min())"
   ]
  },
  {
   "cell_type": "code",
   "execution_count": 90,
   "metadata": {},
   "outputs": [
    {
     "name": "stdout",
     "output_type": "stream",
     "text": [
      "The date column is the following datatype: <class 'str'>\n",
      "5503 contain '&' in the color description while 424 contain 'and'.\n"
     ]
    }
   ],
   "source": [
    "print(\"The date column is the following datatype:\", type(lf_df['date'][0]))\n",
    "num_colors_and = lf_df[lf_df['color'].str.contains(r\" and \", na=False)].shape[0]\n",
    "num_colors_amp = lf_df[lf_df['color'].str.contains(r\"&\", na=False)].shape[0]\n",
    "\n",
    "print(num_colors_amp, \"contain '&' in the color description while\", num_colors_and, \"contain 'and'.\")"
   ]
  },
  {
   "cell_type": "code",
   "execution_count": 91,
   "metadata": {},
   "outputs": [
    {
     "name": "stdout",
     "output_type": "stream",
     "text": [
      "There are 3395 unique strings in the color column.\n"
     ]
    }
   ],
   "source": [
    "print(\"There are\", lf_df['color'].unique().shape[0], \"unique strings in the color column.\")"
   ]
  },
  {
   "cell_type": "markdown",
   "metadata": {},
   "source": [
    "Issue and justification: Aside from the lack of total completeness, which is understandable, a lot of the columns do not have a consistent format:\n",
    "- \"&\" is primarily used in place of \"and\" in the `color` column. This matters when trying to answer our question as this means that matching based on `color` will require fuzzy matching. \n",
    "- The formatting in the `breed` column is also inconsistent, but this is addressed further in the tidiness section.\n",
    "- "
   ]
  },
  {
   "cell_type": "markdown",
   "metadata": {
    "id": "8Be77N4I1AmE"
   },
   "source": [
    "### Quality Issue 2:"
   ]
  },
  {
   "cell_type": "code",
   "execution_count": 92,
   "metadata": {
    "id": "iMhHyiyLM2I3"
   },
   "outputs": [
    {
     "data": {
      "text/html": [
       "<div>\n",
       "<style scoped>\n",
       "    .dataframe tbody tr th:only-of-type {\n",
       "        vertical-align: middle;\n",
       "    }\n",
       "\n",
       "    .dataframe tbody tr th {\n",
       "        vertical-align: top;\n",
       "    }\n",
       "\n",
       "    .dataframe thead th {\n",
       "        text-align: right;\n",
       "    }\n",
       "</style>\n",
       "<table border=\"1\" class=\"dataframe\">\n",
       "  <thead>\n",
       "    <tr style=\"text-align: right;\">\n",
       "      <th></th>\n",
       "      <th>Breed</th>\n",
       "      <th>ShotsDate</th>\n",
       "      <th>Sex</th>\n",
       "      <th>ReceiptNumber</th>\n",
       "      <th>DateImpounded</th>\n",
       "      <th>PitNumber</th>\n",
       "      <th>Name</th>\n",
       "      <th>KennelNumber</th>\n",
       "      <th>DispositionDate</th>\n",
       "      <th>Color</th>\n",
       "      <th>Code</th>\n",
       "      <th>ApproxWeight</th>\n",
       "      <th>Age category</th>\n",
       "      <th>Source</th>\n",
       "      <th>Status</th>\n",
       "      <th>ACO</th>\n",
       "    </tr>\n",
       "    <tr>\n",
       "      <th>AnimalID</th>\n",
       "      <th></th>\n",
       "      <th></th>\n",
       "      <th></th>\n",
       "      <th></th>\n",
       "      <th></th>\n",
       "      <th></th>\n",
       "      <th></th>\n",
       "      <th></th>\n",
       "      <th></th>\n",
       "      <th></th>\n",
       "      <th></th>\n",
       "      <th></th>\n",
       "      <th></th>\n",
       "      <th></th>\n",
       "      <th></th>\n",
       "      <th></th>\n",
       "    </tr>\n",
       "  </thead>\n",
       "  <tbody>\n",
       "    <tr>\n",
       "      <th>34304</th>\n",
       "      <td>Rabbit, Domestic Tortoiseshell</td>\n",
       "      <td>NaN</td>\n",
       "      <td>F/S</td>\n",
       "      <td>NaN</td>\n",
       "      <td>2023-07-14</td>\n",
       "      <td>NaN</td>\n",
       "      <td>Mulberry (new name)</td>\n",
       "      <td>Bunny Lane</td>\n",
       "      <td>NaN</td>\n",
       "      <td>Brown and Tan</td>\n",
       "      <td>NaN</td>\n",
       "      <td>NaN</td>\n",
       "      <td>Puppy</td>\n",
       "      <td>BROUGHT-IN</td>\n",
       "      <td>Viewable</td>\n",
       "      <td>NaN</td>\n",
       "    </tr>\n",
       "    <tr>\n",
       "      <th>34731</th>\n",
       "      <td>Mastiff X</td>\n",
       "      <td>NaN</td>\n",
       "      <td>M</td>\n",
       "      <td>DAL 24-216813</td>\n",
       "      <td>2024-04-16</td>\n",
       "      <td>NaN</td>\n",
       "      <td>Boss</td>\n",
       "      <td>48</td>\n",
       "      <td>NaN</td>\n",
       "      <td>Tan</td>\n",
       "      <td>NaN</td>\n",
       "      <td>NaN</td>\n",
       "      <td>Senior</td>\n",
       "      <td>SEIZED</td>\n",
       "      <td>Seized</td>\n",
       "      <td>11</td>\n",
       "    </tr>\n",
       "    <tr>\n",
       "      <th>35338</th>\n",
       "      <td>Corgi/Pitbull X</td>\n",
       "      <td>2025-06-07</td>\n",
       "      <td>F</td>\n",
       "      <td>NaN</td>\n",
       "      <td>2025-04-23</td>\n",
       "      <td>NaN</td>\n",
       "      <td>Shorty</td>\n",
       "      <td>6</td>\n",
       "      <td>NaN</td>\n",
       "      <td>Black &amp; White</td>\n",
       "      <td>NaN</td>\n",
       "      <td>20.4 kg</td>\n",
       "      <td>Adult</td>\n",
       "      <td>SEIZED</td>\n",
       "      <td>Adoptable</td>\n",
       "      <td>14</td>\n",
       "    </tr>\n",
       "    <tr>\n",
       "      <th>35342</th>\n",
       "      <td>Corgi/Pitbull X</td>\n",
       "      <td>NaN</td>\n",
       "      <td>F</td>\n",
       "      <td>Foster DL 25-225415</td>\n",
       "      <td>2025-04-23</td>\n",
       "      <td>NaN</td>\n",
       "      <td>Angelica (new name)</td>\n",
       "      <td>100</td>\n",
       "      <td>NaN</td>\n",
       "      <td>Tan w/ white belly</td>\n",
       "      <td>NaN</td>\n",
       "      <td>NaN</td>\n",
       "      <td>Puppy</td>\n",
       "      <td>SEIZED</td>\n",
       "      <td>Fostered</td>\n",
       "      <td>14</td>\n",
       "    </tr>\n",
       "    <tr>\n",
       "      <th>35404</th>\n",
       "      <td>Guinea Pig</td>\n",
       "      <td>NaN</td>\n",
       "      <td>M</td>\n",
       "      <td>NaN</td>\n",
       "      <td>2025-05-20</td>\n",
       "      <td>NaN</td>\n",
       "      <td>Henry (new name)</td>\n",
       "      <td>100</td>\n",
       "      <td>NaN</td>\n",
       "      <td>Beige/Brown</td>\n",
       "      <td>NaN</td>\n",
       "      <td>NaN</td>\n",
       "      <td>Adult</td>\n",
       "      <td>VPD IMPOUND</td>\n",
       "      <td>Fostered</td>\n",
       "      <td>NaN</td>\n",
       "    </tr>\n",
       "  </tbody>\n",
       "</table>\n",
       "</div>"
      ],
      "text/plain": [
       "                                   Breed   ShotsDate  Sex  \\\n",
       "AnimalID                                                    \n",
       "34304     Rabbit, Domestic Tortoiseshell         NaN  F/S   \n",
       "34731                          Mastiff X         NaN    M   \n",
       "35338                    Corgi/Pitbull X  2025-06-07    F   \n",
       "35342                    Corgi/Pitbull X         NaN    F   \n",
       "35404                         Guinea Pig         NaN    M   \n",
       "\n",
       "                ReceiptNumber DateImpounded  PitNumber                 Name  \\\n",
       "AnimalID                                                                      \n",
       "34304                     NaN    2023-07-14        NaN  Mulberry (new name)   \n",
       "34731           DAL 24-216813    2024-04-16        NaN                 Boss   \n",
       "35338                     NaN    2025-04-23        NaN               Shorty   \n",
       "35342     Foster DL 25-225415    2025-04-23        NaN  Angelica (new name)   \n",
       "35404                     NaN    2025-05-20        NaN     Henry (new name)   \n",
       "\n",
       "         KennelNumber DispositionDate               Color Code ApproxWeight  \\\n",
       "AnimalID                                                                      \n",
       "34304      Bunny Lane             NaN       Brown and Tan  NaN          NaN   \n",
       "34731              48             NaN                 Tan  NaN          NaN   \n",
       "35338               6             NaN       Black & White  NaN      20.4 kg   \n",
       "35342             100             NaN  Tan w/ white belly  NaN          NaN   \n",
       "35404             100             NaN         Beige/Brown  NaN          NaN   \n",
       "\n",
       "         Age category       Source     Status  ACO  \n",
       "AnimalID                                            \n",
       "34304           Puppy   BROUGHT-IN   Viewable  NaN  \n",
       "34731          Senior       SEIZED     Seized   11  \n",
       "35338           Adult       SEIZED  Adoptable   14  \n",
       "35342           Puppy       SEIZED   Fostered   14  \n",
       "35404           Adult  VPD IMPOUND   Fostered  NaN  "
      ]
     },
     "execution_count": 92,
     "metadata": {},
     "output_type": "execute_result"
    }
   ],
   "source": [
    "#FILL IN - Inspecting the dataframe visually\n",
    "reg_df.head()"
   ]
  },
  {
   "cell_type": "code",
   "execution_count": 93,
   "metadata": {},
   "outputs": [
    {
     "data": {
      "text/plain": [
       "AnimalID\n",
       "7060     1998-10-03\n",
       "745      1998-11-30\n",
       "406      1998-12-04\n",
       "134      1998-12-10\n",
       "135      1998-12-19\n",
       "            ...    \n",
       "35511    2025-07-14\n",
       "35514    2025-07-16\n",
       "35515    2025-07-16\n",
       "35519    2025-07-17\n",
       "35517    2025-07-17\n",
       "Name: DateImpounded, Length: 26058, dtype: object"
      ]
     },
     "execution_count": 93,
     "metadata": {},
     "output_type": "execute_result"
    }
   ],
   "source": [
    "reg_df['DateImpounded'].sort_values()"
   ]
  },
  {
   "cell_type": "code",
   "execution_count": 94,
   "metadata": {},
   "outputs": [
    {
     "data": {
      "text/plain": [
       "False    26017\n",
       "True        41\n",
       "Name: count, dtype: int64"
      ]
     },
     "execution_count": 94,
     "metadata": {},
     "output_type": "execute_result"
    }
   ],
   "source": [
    "reg_df.duplicated().value_counts()"
   ]
  },
  {
   "cell_type": "code",
   "execution_count": 95,
   "metadata": {
    "id": "bnviRCUI-bb7"
   },
   "outputs": [
    {
     "name": "stdout",
     "output_type": "stream",
     "text": [
      "<class 'pandas.core.frame.DataFrame'>\n",
      "Index: 26058 entries, 34304 to 8760\n",
      "Data columns (total 16 columns):\n",
      " #   Column           Non-Null Count  Dtype  \n",
      "---  ------           --------------  -----  \n",
      " 0   Breed            26050 non-null  object \n",
      " 1   ShotsDate        3752 non-null   object \n",
      " 2   Sex              25771 non-null  object \n",
      " 3   ReceiptNumber    21668 non-null  object \n",
      " 4   DateImpounded    26058 non-null  object \n",
      " 5   PitNumber        17763 non-null  float64\n",
      " 6   Name             23310 non-null  object \n",
      " 7   KennelNumber     26037 non-null  object \n",
      " 8   DispositionDate  12297 non-null  object \n",
      " 9   Color            26013 non-null  object \n",
      " 10  Code             1173 non-null   object \n",
      " 11  ApproxWeight     11643 non-null  object \n",
      " 12  Age category     8017 non-null   object \n",
      " 13  Source           24084 non-null  object \n",
      " 14  Status           26049 non-null  object \n",
      " 15  ACO              21300 non-null  object \n",
      "dtypes: float64(1), object(15)\n",
      "memory usage: 3.4+ MB\n"
     ]
    }
   ],
   "source": [
    "reg_df.info()"
   ]
  },
  {
   "cell_type": "code",
   "execution_count": 96,
   "metadata": {},
   "outputs": [
    {
     "data": {
      "text/plain": [
       "Age category\n",
       "Adult          4906\n",
       "Young Adult    1538\n",
       "Senior         1131\n",
       "Puppy           442\n",
       "Name: count, dtype: int64"
      ]
     },
     "execution_count": 96,
     "metadata": {},
     "output_type": "execute_result"
    }
   ],
   "source": [
    "reg_df['Age category'].value_counts()"
   ]
  },
  {
   "cell_type": "markdown",
   "metadata": {},
   "source": [
    "Issue and justification: Immediately, we can see that there are a lot of null values, especially for `Code`, `ShotsDate`, and `Age category` columns. Each of those have no more than about 30% of the values filled. It would be difficult, however, to infer anything to answer our question using any of these columns. \n",
    "\n",
    "The best columns would probably be `name`, `color`, `sex`, and `breed` for making inferences, so this means we can probably just drop the columns that are mostly null. For `name` and the other column.s previousy mentioned, we can probably just replace the null values with something like \"Unknown\"\n",
    "\n",
    "All of these null values make correlating animals together based on similar factors less reliable, especially if something critical like the name isn't disclosed or the color is not reported as the staff intaking animals would describe. Names are also likely the highest differentiator between two animals with similar breeds and coat colors, as well.\n",
    "\n",
    "There are also duplicate values, but those will be easy to handle. The biggest issue I feel is the insane abundance of missing values."
   ]
  },
  {
   "cell_type": "markdown",
   "metadata": {
    "id": "lXhGiYyiwwKN"
   },
   "source": [
    "### Tidiness Issue 1:"
   ]
  },
  {
   "cell_type": "code",
   "execution_count": 97,
   "metadata": {
    "id": "fleC5rORI0Xl"
   },
   "outputs": [
    {
     "data": {
      "text/html": [
       "<div>\n",
       "<style scoped>\n",
       "    .dataframe tbody tr th:only-of-type {\n",
       "        vertical-align: middle;\n",
       "    }\n",
       "\n",
       "    .dataframe tbody tr th {\n",
       "        vertical-align: top;\n",
       "    }\n",
       "\n",
       "    .dataframe thead th {\n",
       "        text-align: right;\n",
       "    }\n",
       "</style>\n",
       "<table border=\"1\" class=\"dataframe\">\n",
       "  <thead>\n",
       "    <tr style=\"text-align: right;\">\n",
       "      <th></th>\n",
       "      <th>date</th>\n",
       "      <th>breed</th>\n",
       "      <th>color</th>\n",
       "      <th>name</th>\n",
       "      <th>sex</th>\n",
       "      <th>state</th>\n",
       "    </tr>\n",
       "  </thead>\n",
       "  <tbody>\n",
       "    <tr>\n",
       "      <th>0</th>\n",
       "      <td>1999-01-03T00:00:00+00:00</td>\n",
       "      <td>Rotty X Shep</td>\n",
       "      <td>Black &amp; Tan</td>\n",
       "      <td>Tex</td>\n",
       "      <td>M/N</td>\n",
       "      <td>Lost</td>\n",
       "    </tr>\n",
       "    <tr>\n",
       "      <th>1</th>\n",
       "      <td>1999-01-04T00:00:00+00:00</td>\n",
       "      <td>Dog</td>\n",
       "      <td>Light Colour</td>\n",
       "      <td>None</td>\n",
       "      <td>M/N</td>\n",
       "      <td>Found</td>\n",
       "    </tr>\n",
       "    <tr>\n",
       "      <th>2</th>\n",
       "      <td>1999-01-04T00:00:00+00:00</td>\n",
       "      <td>Golden Lab X</td>\n",
       "      <td>Black &amp; Tan</td>\n",
       "      <td>Oscar</td>\n",
       "      <td>M</td>\n",
       "      <td>Lost</td>\n",
       "    </tr>\n",
       "    <tr>\n",
       "      <th>3</th>\n",
       "      <td>1999-01-04T00:00:00+00:00</td>\n",
       "      <td>Shep X</td>\n",
       "      <td>Black &amp; Tan</td>\n",
       "      <td>None</td>\n",
       "      <td>F</td>\n",
       "      <td>Found</td>\n",
       "    </tr>\n",
       "    <tr>\n",
       "      <th>4</th>\n",
       "      <td>1999-01-04T00:00:00+00:00</td>\n",
       "      <td>Shep X Collie</td>\n",
       "      <td>Black &amp; Tan</td>\n",
       "      <td>Angel</td>\n",
       "      <td>F</td>\n",
       "      <td>Lost</td>\n",
       "    </tr>\n",
       "  </tbody>\n",
       "</table>\n",
       "</div>"
      ],
      "text/plain": [
       "                        date          breed         color   name  sex  state\n",
       "0  1999-01-03T00:00:00+00:00   Rotty X Shep   Black & Tan    Tex  M/N   Lost\n",
       "1  1999-01-04T00:00:00+00:00            Dog  Light Colour   None  M/N  Found\n",
       "2  1999-01-04T00:00:00+00:00   Golden Lab X   Black & Tan  Oscar    M   Lost\n",
       "3  1999-01-04T00:00:00+00:00         Shep X   Black & Tan   None    F  Found\n",
       "4  1999-01-04T00:00:00+00:00  Shep X Collie   Black & Tan  Angel    F   Lost"
      ]
     },
     "execution_count": 97,
     "metadata": {},
     "output_type": "execute_result"
    }
   ],
   "source": [
    "lf_df.head()"
   ]
  },
  {
   "cell_type": "code",
   "execution_count": 98,
   "metadata": {},
   "outputs": [
    {
     "data": {
      "text/plain": [
       "Index(['date', 'breed', 'color', 'name', 'sex', 'state'], dtype='object')"
      ]
     },
     "execution_count": 98,
     "metadata": {},
     "output_type": "execute_result"
    }
   ],
   "source": [
    "lf_df.columns  # are the columns values instead of variable names? "
   ]
  },
  {
   "cell_type": "code",
   "execution_count": 99,
   "metadata": {},
   "outputs": [
    {
     "name": "stdout",
     "output_type": "stream",
     "text": [
      "There are 4039 unique breeds in the dataset.\n"
     ]
    },
    {
     "data": {
      "text/plain": [
       "0                            None\n",
       "1          (Miniature) Pomeranian\n",
       "2              .Unknown Breed Mix\n",
       "3      1 Pit Bull & 1 Terrier mix\n",
       "4    1 Pitbull & 1 Bernese/Poodle\n",
       "5             1/2 Pit & 1/2 Presa\n",
       "6                      2 Dachunds\n",
       "7                2 Great Pyrenese\n",
       "8                       2 Husky X\n",
       "9                 2 Labs & 1 Shep\n",
       "dtype: object"
      ]
     },
     "execution_count": 99,
     "metadata": {},
     "output_type": "execute_result"
    }
   ],
   "source": [
    "print(\"There are\", lf_df.breed.unique().shape[0], \"unique breeds in the dataset.\")\n",
    "\n",
    "breed_s = pd.Series(lf_df.breed.unique()).sort_values(na_position='first', ignore_index=True)\n",
    "breed_s.head(10)"
   ]
  },
  {
   "cell_type": "code",
   "execution_count": 100,
   "metadata": {},
   "outputs": [
    {
     "data": {
      "text/plain": [
       "4029    stratfordshire terrier\n",
       "4030                     tabby\n",
       "4031    tabby Grey black brown\n",
       "4032       tabby short haireds\n",
       "4033               terrier (?)\n",
       "4034                 terrier X\n",
       "4035             terrier X pug\n",
       "4036      very small ( 5 lbs )\n",
       "4037             westy terrier\n",
       "4038              yorkie cross\n",
       "dtype: object"
      ]
     },
     "execution_count": 100,
     "metadata": {},
     "output_type": "execute_result"
    }
   ],
   "source": [
    "breed_s.tail(10)"
   ]
  },
  {
   "cell_type": "code",
   "execution_count": 101,
   "metadata": {},
   "outputs": [
    {
     "data": {
      "text/html": [
       "<div>\n",
       "<style scoped>\n",
       "    .dataframe tbody tr th:only-of-type {\n",
       "        vertical-align: middle;\n",
       "    }\n",
       "\n",
       "    .dataframe tbody tr th {\n",
       "        vertical-align: top;\n",
       "    }\n",
       "\n",
       "    .dataframe thead th {\n",
       "        text-align: right;\n",
       "    }\n",
       "</style>\n",
       "<table border=\"1\" class=\"dataframe\">\n",
       "  <thead>\n",
       "    <tr style=\"text-align: right;\">\n",
       "      <th></th>\n",
       "      <th></th>\n",
       "      <th>0</th>\n",
       "    </tr>\n",
       "    <tr>\n",
       "      <th></th>\n",
       "      <th>match</th>\n",
       "      <th></th>\n",
       "    </tr>\n",
       "  </thead>\n",
       "  <tbody>\n",
       "    <tr>\n",
       "      <th>3</th>\n",
       "      <th>0</th>\n",
       "      <td>1 Pit Bull &amp; 1 Terrier mix</td>\n",
       "    </tr>\n",
       "    <tr>\n",
       "      <th>4</th>\n",
       "      <th>0</th>\n",
       "      <td>1 Pitbull &amp; 1 Bernese/Poodle</td>\n",
       "    </tr>\n",
       "    <tr>\n",
       "      <th>5</th>\n",
       "      <th>0</th>\n",
       "      <td>1/2 Pit &amp; 1/2 Presa</td>\n",
       "    </tr>\n",
       "    <tr>\n",
       "      <th>6</th>\n",
       "      <th>0</th>\n",
       "      <td>2 Dachunds</td>\n",
       "    </tr>\n",
       "    <tr>\n",
       "      <th>7</th>\n",
       "      <th>0</th>\n",
       "      <td>2 Great Pyrenese</td>\n",
       "    </tr>\n",
       "    <tr>\n",
       "      <th>...</th>\n",
       "      <th>...</th>\n",
       "      <td>...</td>\n",
       "    </tr>\n",
       "    <tr>\n",
       "      <th>3638</th>\n",
       "      <th>0</th>\n",
       "      <td>Staff Terrier #2</td>\n",
       "    </tr>\n",
       "    <tr>\n",
       "      <th>3660</th>\n",
       "      <th>0</th>\n",
       "      <td>Stafforshire Terrier 14 months</td>\n",
       "    </tr>\n",
       "    <tr>\n",
       "      <th>3971</th>\n",
       "      <th>0</th>\n",
       "      <td>lab  and 2nd dog German Sheper</td>\n",
       "    </tr>\n",
       "    <tr>\n",
       "      <th>4027</th>\n",
       "      <th>0</th>\n",
       "      <td>small dog Benji type (10lbs)</td>\n",
       "    </tr>\n",
       "    <tr>\n",
       "      <th>4036</th>\n",
       "      <th>0</th>\n",
       "      <td>very small ( 5 lbs )</td>\n",
       "    </tr>\n",
       "  </tbody>\n",
       "</table>\n",
       "<p>121 rows × 1 columns</p>\n",
       "</div>"
      ],
      "text/plain": [
       "                                         0\n",
       "     match                                \n",
       "3    0          1 Pit Bull & 1 Terrier mix\n",
       "4    0        1 Pitbull & 1 Bernese/Poodle\n",
       "5    0                 1/2 Pit & 1/2 Presa\n",
       "6    0                          2 Dachunds\n",
       "7    0                    2 Great Pyrenese\n",
       "...                                    ...\n",
       "3638 0                    Staff Terrier #2\n",
       "3660 0      Stafforshire Terrier 14 months\n",
       "3971 0      lab  and 2nd dog German Sheper\n",
       "4027 0        small dog Benji type (10lbs)\n",
       "4036 0                very small ( 5 lbs )\n",
       "\n",
       "[121 rows x 1 columns]"
      ]
     },
     "execution_count": 101,
     "metadata": {},
     "output_type": "execute_result"
    }
   ],
   "source": [
    "breed_s.str.extractall(\"(.*\\d.*)\")"
   ]
  },
  {
   "cell_type": "markdown",
   "metadata": {},
   "source": [
    "Issue and justification: It seems the `breed` column is being used to track reports for multiple animals (e.g., `1 Pit Bull & 1 Terrier mix`). A more tidy way to do this would be splitting those out into separate columns. If the report needs to be associated with those from the same report, there can be a report ID that all applicable reports share, however I will not need that information to answer my question.\n",
    "\n",
    "By having multiple animals in one row, this not only inaccurately represents the number of animals reported missing, but also makes grouping or filtering by the reported breed unreliable."
   ]
  },
  {
   "cell_type": "markdown",
   "metadata": {
    "id": "4ffMoRGSwzYj"
   },
   "source": [
    "### Tidiness Issue 2: "
   ]
  },
  {
   "cell_type": "code",
   "execution_count": 119,
   "metadata": {
    "id": "XUpeoqokw5Qt"
   },
   "outputs": [
    {
     "data": {
      "text/html": [
       "<div>\n",
       "<style scoped>\n",
       "    .dataframe tbody tr th:only-of-type {\n",
       "        vertical-align: middle;\n",
       "    }\n",
       "\n",
       "    .dataframe tbody tr th {\n",
       "        vertical-align: top;\n",
       "    }\n",
       "\n",
       "    .dataframe thead th {\n",
       "        text-align: right;\n",
       "    }\n",
       "</style>\n",
       "<table border=\"1\" class=\"dataframe\">\n",
       "  <thead>\n",
       "    <tr style=\"text-align: right;\">\n",
       "      <th></th>\n",
       "      <th>Breed</th>\n",
       "      <th>ShotsDate</th>\n",
       "      <th>Sex</th>\n",
       "      <th>ReceiptNumber</th>\n",
       "      <th>DateImpounded</th>\n",
       "      <th>PitNumber</th>\n",
       "      <th>Name</th>\n",
       "      <th>KennelNumber</th>\n",
       "      <th>DispositionDate</th>\n",
       "      <th>Color</th>\n",
       "      <th>Code</th>\n",
       "      <th>ApproxWeight</th>\n",
       "      <th>Age category</th>\n",
       "      <th>Source</th>\n",
       "      <th>Status</th>\n",
       "      <th>ACO</th>\n",
       "    </tr>\n",
       "    <tr>\n",
       "      <th>AnimalID</th>\n",
       "      <th></th>\n",
       "      <th></th>\n",
       "      <th></th>\n",
       "      <th></th>\n",
       "      <th></th>\n",
       "      <th></th>\n",
       "      <th></th>\n",
       "      <th></th>\n",
       "      <th></th>\n",
       "      <th></th>\n",
       "      <th></th>\n",
       "      <th></th>\n",
       "      <th></th>\n",
       "      <th></th>\n",
       "      <th></th>\n",
       "      <th></th>\n",
       "    </tr>\n",
       "  </thead>\n",
       "  <tbody>\n",
       "    <tr>\n",
       "      <th>34304</th>\n",
       "      <td>Rabbit, Domestic Tortoiseshell</td>\n",
       "      <td>NaN</td>\n",
       "      <td>F/S</td>\n",
       "      <td>NaN</td>\n",
       "      <td>2023-07-14</td>\n",
       "      <td>NaN</td>\n",
       "      <td>Mulberry (new name)</td>\n",
       "      <td>Bunny Lane</td>\n",
       "      <td>NaN</td>\n",
       "      <td>Brown and Tan</td>\n",
       "      <td>NaN</td>\n",
       "      <td>NaN</td>\n",
       "      <td>Puppy</td>\n",
       "      <td>BROUGHT-IN</td>\n",
       "      <td>Viewable</td>\n",
       "      <td>NaN</td>\n",
       "    </tr>\n",
       "    <tr>\n",
       "      <th>34731</th>\n",
       "      <td>Mastiff X</td>\n",
       "      <td>NaN</td>\n",
       "      <td>M</td>\n",
       "      <td>DAL 24-216813</td>\n",
       "      <td>2024-04-16</td>\n",
       "      <td>NaN</td>\n",
       "      <td>Boss</td>\n",
       "      <td>48</td>\n",
       "      <td>NaN</td>\n",
       "      <td>Tan</td>\n",
       "      <td>NaN</td>\n",
       "      <td>NaN</td>\n",
       "      <td>Senior</td>\n",
       "      <td>SEIZED</td>\n",
       "      <td>Seized</td>\n",
       "      <td>11</td>\n",
       "    </tr>\n",
       "    <tr>\n",
       "      <th>35338</th>\n",
       "      <td>Corgi/Pitbull X</td>\n",
       "      <td>2025-06-07</td>\n",
       "      <td>F</td>\n",
       "      <td>NaN</td>\n",
       "      <td>2025-04-23</td>\n",
       "      <td>NaN</td>\n",
       "      <td>Shorty</td>\n",
       "      <td>6</td>\n",
       "      <td>NaN</td>\n",
       "      <td>Black &amp; White</td>\n",
       "      <td>NaN</td>\n",
       "      <td>20.4 kg</td>\n",
       "      <td>Adult</td>\n",
       "      <td>SEIZED</td>\n",
       "      <td>Adoptable</td>\n",
       "      <td>14</td>\n",
       "    </tr>\n",
       "    <tr>\n",
       "      <th>35342</th>\n",
       "      <td>Corgi/Pitbull X</td>\n",
       "      <td>NaN</td>\n",
       "      <td>F</td>\n",
       "      <td>Foster DL 25-225415</td>\n",
       "      <td>2025-04-23</td>\n",
       "      <td>NaN</td>\n",
       "      <td>Angelica (new name)</td>\n",
       "      <td>100</td>\n",
       "      <td>NaN</td>\n",
       "      <td>Tan w/ white belly</td>\n",
       "      <td>NaN</td>\n",
       "      <td>NaN</td>\n",
       "      <td>Puppy</td>\n",
       "      <td>SEIZED</td>\n",
       "      <td>Fostered</td>\n",
       "      <td>14</td>\n",
       "    </tr>\n",
       "    <tr>\n",
       "      <th>35404</th>\n",
       "      <td>Guinea Pig</td>\n",
       "      <td>NaN</td>\n",
       "      <td>M</td>\n",
       "      <td>NaN</td>\n",
       "      <td>2025-05-20</td>\n",
       "      <td>NaN</td>\n",
       "      <td>Henry (new name)</td>\n",
       "      <td>100</td>\n",
       "      <td>NaN</td>\n",
       "      <td>Beige/Brown</td>\n",
       "      <td>NaN</td>\n",
       "      <td>NaN</td>\n",
       "      <td>Adult</td>\n",
       "      <td>VPD IMPOUND</td>\n",
       "      <td>Fostered</td>\n",
       "      <td>NaN</td>\n",
       "    </tr>\n",
       "    <tr>\n",
       "      <th>35407</th>\n",
       "      <td>French Bulldog</td>\n",
       "      <td>NaN</td>\n",
       "      <td>F/S</td>\n",
       "      <td>DA - 25 249924</td>\n",
       "      <td>2025-05-22</td>\n",
       "      <td>NaN</td>\n",
       "      <td>Pippin (new name)</td>\n",
       "      <td>100</td>\n",
       "      <td>NaN</td>\n",
       "      <td>Brown &amp; Cream Brindle</td>\n",
       "      <td>NaN</td>\n",
       "      <td>NaN</td>\n",
       "      <td>Adult</td>\n",
       "      <td>HOLDING STRAY</td>\n",
       "      <td>Fostered</td>\n",
       "      <td>11</td>\n",
       "    </tr>\n",
       "    <tr>\n",
       "      <th>35408</th>\n",
       "      <td>Shepherd/Rottweiller x</td>\n",
       "      <td>NaN</td>\n",
       "      <td>F</td>\n",
       "      <td>NaN</td>\n",
       "      <td>2025-05-23</td>\n",
       "      <td>NaN</td>\n",
       "      <td>Jelly</td>\n",
       "      <td>100</td>\n",
       "      <td>NaN</td>\n",
       "      <td>Brown, black w/ tan</td>\n",
       "      <td>NaN</td>\n",
       "      <td>26.0 kg</td>\n",
       "      <td>Young Adult</td>\n",
       "      <td>BROUGHT-IN</td>\n",
       "      <td>Fostered</td>\n",
       "      <td>NaN</td>\n",
       "    </tr>\n",
       "    <tr>\n",
       "      <th>35409</th>\n",
       "      <td>Dane/Mastiff X</td>\n",
       "      <td>NaN</td>\n",
       "      <td>M</td>\n",
       "      <td>NaN</td>\n",
       "      <td>2025-05-23</td>\n",
       "      <td>NaN</td>\n",
       "      <td>Dane (new name)</td>\n",
       "      <td>100</td>\n",
       "      <td>NaN</td>\n",
       "      <td>Black</td>\n",
       "      <td>NaN</td>\n",
       "      <td>NaN</td>\n",
       "      <td>Adult</td>\n",
       "      <td>HOLDING STRAY</td>\n",
       "      <td>Fostered</td>\n",
       "      <td>ACO42</td>\n",
       "    </tr>\n",
       "    <tr>\n",
       "      <th>35444</th>\n",
       "      <td>Rabbit, Harlequin</td>\n",
       "      <td>NaN</td>\n",
       "      <td>M</td>\n",
       "      <td>NaN</td>\n",
       "      <td>2025-06-11</td>\n",
       "      <td>NaN</td>\n",
       "      <td>Pipkin (new name)</td>\n",
       "      <td>ISO</td>\n",
       "      <td>NaN</td>\n",
       "      <td>White, grey &amp; black</td>\n",
       "      <td>NaN</td>\n",
       "      <td>NaN</td>\n",
       "      <td>Young Adult</td>\n",
       "      <td>VPD IMPOUND</td>\n",
       "      <td>Viewable</td>\n",
       "      <td>NaN</td>\n",
       "    </tr>\n",
       "    <tr>\n",
       "      <th>35474</th>\n",
       "      <td>Husky/Lab X</td>\n",
       "      <td>NaN</td>\n",
       "      <td>F</td>\n",
       "      <td>NaN</td>\n",
       "      <td>2025-06-29</td>\n",
       "      <td>NaN</td>\n",
       "      <td>Sapphire (new name)</td>\n",
       "      <td>100</td>\n",
       "      <td>NaN</td>\n",
       "      <td>Cream w/Black</td>\n",
       "      <td>NaN</td>\n",
       "      <td>40kg</td>\n",
       "      <td>Adult</td>\n",
       "      <td>HOLDING STRAY</td>\n",
       "      <td>Fostered</td>\n",
       "      <td>40</td>\n",
       "    </tr>\n",
       "  </tbody>\n",
       "</table>\n",
       "</div>"
      ],
      "text/plain": [
       "                                   Breed   ShotsDate  Sex  \\\n",
       "AnimalID                                                    \n",
       "34304     Rabbit, Domestic Tortoiseshell         NaN  F/S   \n",
       "34731                          Mastiff X         NaN    M   \n",
       "35338                    Corgi/Pitbull X  2025-06-07    F   \n",
       "35342                    Corgi/Pitbull X         NaN    F   \n",
       "35404                         Guinea Pig         NaN    M   \n",
       "35407                     French Bulldog         NaN  F/S   \n",
       "35408             Shepherd/Rottweiller x         NaN    F   \n",
       "35409                     Dane/Mastiff X         NaN    M   \n",
       "35444                  Rabbit, Harlequin         NaN    M   \n",
       "35474                        Husky/Lab X         NaN    F   \n",
       "\n",
       "                ReceiptNumber DateImpounded  PitNumber                 Name  \\\n",
       "AnimalID                                                                      \n",
       "34304                     NaN    2023-07-14        NaN  Mulberry (new name)   \n",
       "34731           DAL 24-216813    2024-04-16        NaN                 Boss   \n",
       "35338                     NaN    2025-04-23        NaN               Shorty   \n",
       "35342     Foster DL 25-225415    2025-04-23        NaN  Angelica (new name)   \n",
       "35404                     NaN    2025-05-20        NaN     Henry (new name)   \n",
       "35407          DA - 25 249924    2025-05-22        NaN    Pippin (new name)   \n",
       "35408                     NaN    2025-05-23        NaN                Jelly   \n",
       "35409                     NaN    2025-05-23        NaN      Dane (new name)   \n",
       "35444                     NaN    2025-06-11        NaN    Pipkin (new name)   \n",
       "35474                     NaN    2025-06-29        NaN  Sapphire (new name)   \n",
       "\n",
       "         KennelNumber DispositionDate                  Color Code  \\\n",
       "AnimalID                                                            \n",
       "34304      Bunny Lane             NaN          Brown and Tan  NaN   \n",
       "34731              48             NaN                    Tan  NaN   \n",
       "35338               6             NaN          Black & White  NaN   \n",
       "35342             100             NaN     Tan w/ white belly  NaN   \n",
       "35404             100             NaN            Beige/Brown  NaN   \n",
       "35407             100             NaN  Brown & Cream Brindle  NaN   \n",
       "35408             100             NaN    Brown, black w/ tan  NaN   \n",
       "35409             100             NaN                  Black  NaN   \n",
       "35444             ISO             NaN    White, grey & black  NaN   \n",
       "35474             100             NaN          Cream w/Black  NaN   \n",
       "\n",
       "         ApproxWeight Age category         Source     Status    ACO  \n",
       "AnimalID                                                             \n",
       "34304             NaN        Puppy     BROUGHT-IN   Viewable    NaN  \n",
       "34731             NaN       Senior         SEIZED     Seized     11  \n",
       "35338         20.4 kg        Adult         SEIZED  Adoptable     14  \n",
       "35342             NaN        Puppy         SEIZED   Fostered     14  \n",
       "35404             NaN        Adult    VPD IMPOUND   Fostered    NaN  \n",
       "35407             NaN        Adult  HOLDING STRAY   Fostered     11  \n",
       "35408         26.0 kg  Young Adult     BROUGHT-IN   Fostered    NaN  \n",
       "35409             NaN        Adult  HOLDING STRAY   Fostered  ACO42  \n",
       "35444             NaN  Young Adult    VPD IMPOUND   Viewable    NaN  \n",
       "35474            40kg        Adult  HOLDING STRAY   Fostered     40  "
      ]
     },
     "execution_count": 119,
     "metadata": {},
     "output_type": "execute_result"
    }
   ],
   "source": [
    "#FILL IN - Inspecting the dataframe visually\n",
    "reg_df.head(10)"
   ]
  },
  {
   "cell_type": "code",
   "execution_count": 126,
   "metadata": {},
   "outputs": [
    {
     "data": {
      "text/html": [
       "<div>\n",
       "<style scoped>\n",
       "    .dataframe tbody tr th:only-of-type {\n",
       "        vertical-align: middle;\n",
       "    }\n",
       "\n",
       "    .dataframe tbody tr th {\n",
       "        vertical-align: top;\n",
       "    }\n",
       "\n",
       "    .dataframe thead th {\n",
       "        text-align: right;\n",
       "    }\n",
       "</style>\n",
       "<table border=\"1\" class=\"dataframe\">\n",
       "  <thead>\n",
       "    <tr style=\"text-align: right;\">\n",
       "      <th></th>\n",
       "      <th>Breed</th>\n",
       "      <th>ShotsDate</th>\n",
       "      <th>Sex</th>\n",
       "      <th>ReceiptNumber</th>\n",
       "      <th>DateImpounded</th>\n",
       "      <th>PitNumber</th>\n",
       "      <th>Name</th>\n",
       "      <th>KennelNumber</th>\n",
       "      <th>DispositionDate</th>\n",
       "      <th>Color</th>\n",
       "      <th>Code</th>\n",
       "      <th>ApproxWeight</th>\n",
       "      <th>Age category</th>\n",
       "      <th>Source</th>\n",
       "      <th>Status</th>\n",
       "      <th>ACO</th>\n",
       "    </tr>\n",
       "    <tr>\n",
       "      <th>AnimalID</th>\n",
       "      <th></th>\n",
       "      <th></th>\n",
       "      <th></th>\n",
       "      <th></th>\n",
       "      <th></th>\n",
       "      <th></th>\n",
       "      <th></th>\n",
       "      <th></th>\n",
       "      <th></th>\n",
       "      <th></th>\n",
       "      <th></th>\n",
       "      <th></th>\n",
       "      <th></th>\n",
       "      <th></th>\n",
       "      <th></th>\n",
       "      <th></th>\n",
       "    </tr>\n",
       "  </thead>\n",
       "  <tbody>\n",
       "    <tr>\n",
       "      <th>1</th>\n",
       "      <td>Pit Bull</td>\n",
       "      <td>2005-06-18</td>\n",
       "      <td>M/N</td>\n",
       "      <td>17057 ks</td>\n",
       "      <td>2005-06-12</td>\n",
       "      <td>20038.0</td>\n",
       "      <td>Taz</td>\n",
       "      <td>200</td>\n",
       "      <td>NaN</td>\n",
       "      <td>Tan</td>\n",
       "      <td>NaN</td>\n",
       "      <td>45</td>\n",
       "      <td>NaN</td>\n",
       "      <td>HOLDING STRAY</td>\n",
       "      <td>Sold</td>\n",
       "      <td>3</td>\n",
       "    </tr>\n",
       "    <tr>\n",
       "      <th>2</th>\n",
       "      <td>English Setter</td>\n",
       "      <td>NaN</td>\n",
       "      <td>M/N</td>\n",
       "      <td>20372 BC3</td>\n",
       "      <td>2006-03-19</td>\n",
       "      <td>20041.0</td>\n",
       "      <td>Dudley</td>\n",
       "      <td>200</td>\n",
       "      <td>NaN</td>\n",
       "      <td>White &amp; Brown</td>\n",
       "      <td>NaN</td>\n",
       "      <td>100lbs</td>\n",
       "      <td>NaN</td>\n",
       "      <td>HOLDING STRAY</td>\n",
       "      <td>Redeemed</td>\n",
       "      <td>NaN</td>\n",
       "    </tr>\n",
       "    <tr>\n",
       "      <th>3</th>\n",
       "      <td>Lab X</td>\n",
       "      <td>NaN</td>\n",
       "      <td>M/N</td>\n",
       "      <td>N/C BC</td>\n",
       "      <td>2006-07-24</td>\n",
       "      <td>40041.0</td>\n",
       "      <td>Evander</td>\n",
       "      <td>400</td>\n",
       "      <td>NaN</td>\n",
       "      <td>Black</td>\n",
       "      <td>NaN</td>\n",
       "      <td>NaN</td>\n",
       "      <td>NaN</td>\n",
       "      <td>HOLDING STRAY</td>\n",
       "      <td>Ride Home Free</td>\n",
       "      <td>5</td>\n",
       "    </tr>\n",
       "    <tr>\n",
       "      <th>4</th>\n",
       "      <td>Pomeranian</td>\n",
       "      <td>NaN</td>\n",
       "      <td>M</td>\n",
       "      <td>22171,MC</td>\n",
       "      <td>2006-09-08</td>\n",
       "      <td>20017.0</td>\n",
       "      <td>Chewbaca</td>\n",
       "      <td>200</td>\n",
       "      <td>NaN</td>\n",
       "      <td>Brown</td>\n",
       "      <td>NaN</td>\n",
       "      <td>10 lbs.</td>\n",
       "      <td>NaN</td>\n",
       "      <td>HOLDING STRAY</td>\n",
       "      <td>Redeemed</td>\n",
       "      <td>14</td>\n",
       "    </tr>\n",
       "    <tr>\n",
       "      <th>5</th>\n",
       "      <td>American Bulldog X</td>\n",
       "      <td>2006-10-07</td>\n",
       "      <td>M/N</td>\n",
       "      <td>22565 - skj</td>\n",
       "      <td>2006-09-06</td>\n",
       "      <td>20053.0</td>\n",
       "      <td>Cadillac</td>\n",
       "      <td>200</td>\n",
       "      <td>NaN</td>\n",
       "      <td>White with Brown Patch on Eye</td>\n",
       "      <td>NaN</td>\n",
       "      <td>80 lbs</td>\n",
       "      <td>NaN</td>\n",
       "      <td>HOLDING STRAY</td>\n",
       "      <td>Sold</td>\n",
       "      <td>22</td>\n",
       "    </tr>\n",
       "  </tbody>\n",
       "</table>\n",
       "</div>"
      ],
      "text/plain": [
       "                       Breed   ShotsDate  Sex ReceiptNumber DateImpounded  \\\n",
       "AnimalID                                                                    \n",
       "1                   Pit Bull  2005-06-18  M/N      17057 ks    2005-06-12   \n",
       "2             English Setter         NaN  M/N     20372 BC3    2006-03-19   \n",
       "3                      Lab X         NaN  M/N        N/C BC    2006-07-24   \n",
       "4                 Pomeranian         NaN    M      22171,MC    2006-09-08   \n",
       "5         American Bulldog X  2006-10-07  M/N   22565 - skj    2006-09-06   \n",
       "\n",
       "          PitNumber      Name KennelNumber DispositionDate  \\\n",
       "AnimalID                                                     \n",
       "1           20038.0       Taz          200             NaN   \n",
       "2           20041.0    Dudley          200             NaN   \n",
       "3           40041.0   Evander          400             NaN   \n",
       "4           20017.0  Chewbaca          200             NaN   \n",
       "5           20053.0  Cadillac          200             NaN   \n",
       "\n",
       "                                  Color Code ApproxWeight Age category  \\\n",
       "AnimalID                                                                 \n",
       "1                                   Tan  NaN           45          NaN   \n",
       "2                         White & Brown  NaN       100lbs          NaN   \n",
       "3                                 Black  NaN          NaN          NaN   \n",
       "4                                 Brown  NaN      10 lbs.          NaN   \n",
       "5         White with Brown Patch on Eye  NaN       80 lbs          NaN   \n",
       "\n",
       "                 Source          Status  ACO  \n",
       "AnimalID                                      \n",
       "1         HOLDING STRAY            Sold    3  \n",
       "2         HOLDING STRAY        Redeemed  NaN  \n",
       "3         HOLDING STRAY  Ride Home Free    5  \n",
       "4         HOLDING STRAY        Redeemed   14  \n",
       "5         HOLDING STRAY            Sold   22  "
      ]
     },
     "execution_count": 126,
     "metadata": {},
     "output_type": "execute_result"
    }
   ],
   "source": [
    "reg_df.sort_index().head()"
   ]
  },
  {
   "cell_type": "code",
   "execution_count": 103,
   "metadata": {},
   "outputs": [
    {
     "data": {
      "text/plain": [
       "Index(['Breed', 'ShotsDate', 'Sex', 'ReceiptNumber', 'DateImpounded',\n",
       "       'PitNumber', 'Name', 'KennelNumber', 'DispositionDate', 'Color', 'Code',\n",
       "       'ApproxWeight', 'Age category', 'Source', 'Status', 'ACO'],\n",
       "      dtype='object')"
      ]
     },
     "execution_count": 103,
     "metadata": {},
     "output_type": "execute_result"
    }
   ],
   "source": [
    "reg_df.columns"
   ]
  },
  {
   "cell_type": "code",
   "execution_count": 129,
   "metadata": {},
   "outputs": [
    {
     "data": {
      "text/plain": [
       "0                     \n",
       "Lab X                     872\n",
       "Lab                       571\n",
       "Labrador                  495\n",
       "Labrador X                 78\n",
       "Shep X Lab                 78\n",
       "                         ... \n",
       "Black Lab X Pit             1\n",
       "Black Lab/GSD               1\n",
       "Black X Lab                 1\n",
       "Heeler X Lab X Bassett      1\n",
       "rotty X lab                 1\n",
       "Name: count, Length: 490, dtype: int64"
      ]
     },
     "execution_count": 129,
     "metadata": {},
     "output_type": "execute_result"
    }
   ],
   "source": [
    "reg_df['Breed'].str.extractall(\"(.*[lL]ab.*)\").value_counts()"
   ]
  },
  {
   "cell_type": "markdown",
   "metadata": {},
   "source": [
    "Issue and justification: There are a few places where some improvements can be made. \n",
    "- `Name` - Some rows contain \"`(New name)`,\" which is tracking two factors of data in a single column.\n",
    "  - This could be resolved with another column of boolean values, but I do not think it will be entirely necessary for our cause. Therefore, we will remove occurrences of `(New name)`\n",
    "- `Breed` - Some breeds have \"`mix`\" while others have \"`X`\". Presumably, `X` is also for \"mix,\" but this is merely an assumption. Additionally, `Black Lab` is not a breed, the breed is Labrador Retriever. \n",
    "  - One way to handle this is to see if the `Breed` field contains the `Color` of the animal, then trimming that out if it does."
   ]
  },
  {
   "cell_type": "markdown",
   "metadata": {
    "id": "D6gmLnBttpCh"
   },
   "source": [
    "## 3. Clean data\n",
    "Clean the data to solve the 4 issues corresponding to data quality and tidiness found in the assessing step. **Make sure you include justifications for your cleaning decisions.**\n",
    "\n",
    "After the cleaning for each issue, please use **either** the visually or programatical method to validate the cleaning was succesful.\n",
    "\n",
    "At this stage, you are also expected to remove variables that are unnecessary for your analysis and combine your datasets. Depending on your datasets, you may choose to perform variable combination and elimination before or after the cleaning stage. Your dataset must have **at least** 4 variables after combining the data."
   ]
  },
  {
   "cell_type": "code",
   "execution_count": null,
   "metadata": {},
   "outputs": [],
   "source": [
    "# Make copies of the datasets to ensure the raw dataframes are not impacted\n",
    "lf_df_clean = lf_df.copy()\n",
    "reg_df_clean = reg_df.copy()"
   ]
  },
  {
   "cell_type": "markdown",
   "metadata": {
    "id": "FmFhN52Yyn3l"
   },
   "source": [
    "### **Quality Issue 1: FILL IN**"
   ]
  },
  {
   "cell_type": "code",
   "execution_count": null,
   "metadata": {
    "id": "9UejDWrNMW4a"
   },
   "outputs": [],
   "source": [
    "# FILL IN - Apply the cleaning strategy\n"
   ]
  },
  {
   "cell_type": "code",
   "execution_count": 107,
   "metadata": {
    "id": "oUBee-LPytkv"
   },
   "outputs": [],
   "source": [
    "# FILL IN - Validate the cleaning was successful"
   ]
  },
  {
   "cell_type": "markdown",
   "metadata": {},
   "source": [
    "Justification: *FILL IN*"
   ]
  },
  {
   "cell_type": "markdown",
   "metadata": {
    "id": "n_DAUbJrymBL"
   },
   "source": [
    "### **Quality Issue 2: FILL IN**"
   ]
  },
  {
   "cell_type": "code",
   "execution_count": 108,
   "metadata": {
    "id": "5Yfb-Yu5MTuE"
   },
   "outputs": [],
   "source": [
    "#FILL IN - Apply the cleaning strategy"
   ]
  },
  {
   "cell_type": "code",
   "execution_count": 109,
   "metadata": {
    "id": "ionB2sRaMUmY"
   },
   "outputs": [],
   "source": [
    "#FILL IN - Validate the cleaning was successful"
   ]
  },
  {
   "cell_type": "markdown",
   "metadata": {},
   "source": [
    "Justification: *FILL IN*"
   ]
  },
  {
   "cell_type": "markdown",
   "metadata": {
    "id": "bIUrrfSNyOPR"
   },
   "source": [
    "### **Tidiness Issue 1: FILL IN**"
   ]
  },
  {
   "cell_type": "code",
   "execution_count": 110,
   "metadata": {
    "id": "fib0zAm333bn"
   },
   "outputs": [],
   "source": [
    "#FILL IN - Apply the cleaning strategy"
   ]
  },
  {
   "cell_type": "code",
   "execution_count": 111,
   "metadata": {
    "id": "yhrnUGY_Nk8B"
   },
   "outputs": [],
   "source": [
    "#FILL IN - Validate the cleaning was successful"
   ]
  },
  {
   "cell_type": "markdown",
   "metadata": {},
   "source": [
    "Justification: *FILL IN*"
   ]
  },
  {
   "cell_type": "markdown",
   "metadata": {
    "id": "o51Bt8kwyTzk"
   },
   "source": [
    "### **Tidiness Issue 2: FILL IN**"
   ]
  },
  {
   "cell_type": "code",
   "execution_count": 112,
   "metadata": {
    "id": "7zW8O5yx4Y9O"
   },
   "outputs": [],
   "source": [
    "#FILL IN - Apply the cleaning strategy"
   ]
  },
  {
   "cell_type": "code",
   "execution_count": 113,
   "metadata": {
    "id": "q6I_Sr7lxXi5"
   },
   "outputs": [],
   "source": [
    "#FILL IN - Validate the cleaning was successful"
   ]
  },
  {
   "cell_type": "markdown",
   "metadata": {},
   "source": [
    "Justification: *FILL IN*"
   ]
  },
  {
   "cell_type": "markdown",
   "metadata": {},
   "source": [
    "### **Remove unnecessary variables and combine datasets**\n",
    "\n",
    "Depending on the datasets, you can also peform the combination before the cleaning steps."
   ]
  },
  {
   "cell_type": "code",
   "execution_count": 114,
   "metadata": {},
   "outputs": [],
   "source": [
    "#FILL IN - Remove unnecessary variables and combine datasets"
   ]
  },
  {
   "cell_type": "markdown",
   "metadata": {
    "id": "F42urHuzttjF"
   },
   "source": [
    "## 4. Update your data store\n",
    "Update your local database/data store with the cleaned data, following best practices for storing your cleaned data:\n",
    "\n",
    "- Must maintain different instances / versions of data (raw and cleaned data)\n",
    "- Must name the dataset files informatively\n",
    "- Ensure both the raw and cleaned data is saved to your database/data store"
   ]
  },
  {
   "cell_type": "code",
   "execution_count": 115,
   "metadata": {
    "id": "V3uay7EJUV_L"
   },
   "outputs": [],
   "source": [
    "#FILL IN - saving data"
   ]
  },
  {
   "cell_type": "markdown",
   "metadata": {
    "id": "cGy_yddGtzhM"
   },
   "source": [
    "## 5. Answer the research question\n",
    "\n",
    "### **5.1:** Define and answer the research question \n",
    "Going back to the problem statement in step 1, use the cleaned data to answer the question you raised. Produce **at least** two visualizations using the cleaned data and explain how they help you answer the question."
   ]
  },
  {
   "cell_type": "markdown",
   "metadata": {
    "id": "gjedE4s4ZkEd"
   },
   "source": [
    "*Research question:* FILL IN from answer to Step 1"
   ]
  },
  {
   "cell_type": "code",
   "execution_count": null,
   "metadata": {
    "id": "Lkw3rW9kZmOm"
   },
   "outputs": [],
   "source": [
    "#Visual 1 - FILL IN"
   ]
  },
  {
   "cell_type": "markdown",
   "metadata": {},
   "source": [
    "*Answer to research question:* FILL IN"
   ]
  }
 ],
 "metadata": {
  "colab": {
   "provenance": []
  },
  "kernelspec": {
   "display_name": "Python 3",
   "language": "python",
   "name": "python3"
  },
  "language_info": {
   "codemirror_mode": {
    "name": "ipython",
    "version": 3
   },
   "file_extension": ".py",
   "mimetype": "text/x-python",
   "name": "python",
   "nbconvert_exporter": "python",
   "pygments_lexer": "ipython3",
   "version": "3.10.7"
  }
 },
 "nbformat": 4,
 "nbformat_minor": 1
}
