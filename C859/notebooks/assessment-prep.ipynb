{
 "cells": [
  {
   "cell_type": "markdown",
   "metadata": {},
   "source": [
    "# Section 22 Labs"
   ]
  },
  {
   "cell_type": "markdown",
   "metadata": {},
   "source": [
    "## 22.4"
   ]
  },
  {
   "cell_type": "code",
   "execution_count": null,
   "metadata": {},
   "outputs": [],
   "source": [
    "''' Type your code here. '''\n",
    "i = 0\n",
    "l = []\n",
    "\n",
    "while i < 3:\n",
    "    l.append(int(input()))\n",
    "    i = i + 1\n",
    "    \n",
    "print(max(l))"
   ]
  },
  {
   "cell_type": "markdown",
   "metadata": {},
   "source": [
    "## 22.5"
   ]
  },
  {
   "cell_type": "code",
   "execution_count": null,
   "metadata": {},
   "outputs": [],
   "source": [
    "services = {\"Oil change\": 35, \"Tire rotation\": 19, \"Car wash\": 7}\n",
    "\n",
    "inp = input(\"Enter desired auto service:\")\n",
    "print(f\"You entered: {inp}\")\n",
    "\n",
    "if inp in services:\n",
    "    print(f\"Cost of {inp.lower()}: ${services[inp]}\")\n",
    "else:\n",
    "    print(\"Error: Requested service is not recognized\")\n"
   ]
  },
  {
   "cell_type": "markdown",
   "metadata": {},
   "source": [
    "## 22.6"
   ]
  },
  {
   "cell_type": "code",
   "execution_count": 6,
   "metadata": {},
   "outputs": [
    {
     "name": "stdout",
     "output_type": "stream",
     "text": [
      "Davy's auto shop services\n",
      "Oil change -- $35\n",
      "Tire rotation -- $19\n",
      "Car wash -- $7\n",
      "Car wax -- $12\n",
      "\n",
      "\n",
      "Davy's auto shop invoice\n",
      "\n",
      "Service 1: Oil change, $35\n",
      "Service 2: No service\n",
      "\n",
      "Total: $35\n"
     ]
    }
   ],
   "source": [
    "def printMenu():\n",
    "    print(\"Davy's auto shop services\\nOil change -- $35\\nTire rotation -- $19\\nCar wash -- $7\\nCar wax -- $12\\n\")\n",
    "\n",
    "def printInvoice(service1, service2):\n",
    "    # Tuple format: (\"service name\", <price (int)>)\n",
    "    print(\"\\nDavy's auto shop invoice\\n\")\n",
    "\n",
    "    if service1 == \"-\":\n",
    "        print(f\"Service 1: No service\")\n",
    "        print(f\"Service 2: {service2}, ${services[service2]}\")\n",
    "        print(f\"\\nTotal: ${services[service2]}\")\n",
    "    elif service2 == \"-\":\n",
    "        print(f\"Service 1: {service1}, ${services[service1]}\")\n",
    "        print(f\"Service 2: No service\")\n",
    "        print(f\"\\nTotal: ${services[service1]}\")\n",
    "    else:\n",
    "        print(f\"Service 1: {service1}, ${services[service1]}\")\n",
    "        print(f\"Service 2: {service2}, ${services[service2]}\")\n",
    "        print(f\"\\nTotal: ${services[service1] + services[service2]}\")\n",
    "\n",
    "\n",
    "services = {\"Oil change\": 35, \"Tire rotation\": 19, \"Car wash\": 7, \"Car wax\": 12}\n",
    "\n",
    "printMenu()\n",
    "\n",
    "service1 = input(\"Select first service:\\n\")\n",
    "service2 = input(\"Select second service:\\n\")\n",
    "\n",
    "printInvoice(service1, service2)"
   ]
  },
  {
   "cell_type": "markdown",
   "metadata": {},
   "source": [
    "# Section 23 Labs"
   ]
  },
  {
   "cell_type": "markdown",
   "metadata": {},
   "source": [
    "## 23.1"
   ]
  },
  {
   "cell_type": "code",
   "execution_count": null,
   "metadata": {},
   "outputs": [],
   "source": []
  },
  {
   "cell_type": "markdown",
   "metadata": {},
   "source": [
    "# Misc"
   ]
  },
  {
   "cell_type": "code",
   "execution_count": null,
   "metadata": {},
   "outputs": [
    {
     "name": "stdout",
     "output_type": "stream",
     "text": [
      "hello 1\n",
      "cat 2\n",
      "man 2\n",
      "hey 2\n",
      "dog 2\n",
      "boy 2\n",
      "Hello 1\n",
      "woman 1\n",
      "Cat 1\n"
     ]
    }
   ],
   "source": [
    "synonyms = {}   # Define dictionary\n",
    "\n",
    "fileName = input()\n",
    "searchLetter = input()\n",
    "\n",
    "with open(fileName, \"r\") as file:\n",
    "    contents = file.readlines()\n",
    "\n",
    "    for words in contents:\n",
    "        # Remove newline char\n",
    "        wordList = words[:-1].split()\n",
    "        synonyms[words[0]] = wordList\n",
    "\n",
    "if searchLetter in synonyms:\n",
    "    for word in synonyms[searchLetter]:\n",
    "        print(word)\n",
    "else:\n",
    "    print(f\"No synonyms for educate begin with {searchLetter}.\")\n",
    "\n"
   ]
  }
 ],
 "metadata": {
  "interpreter": {
   "hash": "30a157a8ae9a8977cb03bfd948963df689bfc9f7248f8097d5f9c6cee1b5e352"
  },
  "kernelspec": {
   "display_name": "Python 3.10.0 64-bit",
   "language": "python",
   "name": "python3"
  },
  "language_info": {
   "codemirror_mode": {
    "name": "ipython",
    "version": 3
   },
   "file_extension": ".py",
   "mimetype": "text/x-python",
   "name": "python",
   "nbconvert_exporter": "python",
   "pygments_lexer": "ipython3",
   "version": "3.9.7"
  },
  "orig_nbformat": 4
 },
 "nbformat": 4,
 "nbformat_minor": 2
}
