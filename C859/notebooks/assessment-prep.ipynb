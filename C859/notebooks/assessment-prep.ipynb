{
 "cells": [
  {
   "cell_type": "markdown",
   "metadata": {},
   "source": [
    "# Section 22 Labs"
   ]
  },
  {
   "cell_type": "markdown",
   "metadata": {},
   "source": [
    "## 22.4"
   ]
  },
  {
   "cell_type": "code",
   "execution_count": null,
   "metadata": {},
   "outputs": [],
   "source": [
    "''' Type your code here. '''\n",
    "i = 0\n",
    "l = []\n",
    "\n",
    "while i < 3:\n",
    "    l.append(int(input()))\n",
    "    i = i + 1\n",
    "    \n",
    "print(max(l))"
   ]
  },
  {
   "cell_type": "markdown",
   "metadata": {},
   "source": [
    "## 22.5"
   ]
  },
  {
   "cell_type": "code",
   "execution_count": null,
   "metadata": {},
   "outputs": [],
   "source": [
    "services = {\"Oil change\": 35, \"Tire rotation\": 19, \"Car wash\": 7}\n",
    "\n",
    "inp = input(\"Enter desired auto service:\")\n",
    "print(f\"You entered: {inp}\")\n",
    "\n",
    "if inp in services:\n",
    "    print(f\"Cost of {inp.lower()}: ${services[inp]}\")\n",
    "else:\n",
    "    print(\"Error: Requested service is not recognized\")\n"
   ]
  },
  {
   "cell_type": "markdown",
   "metadata": {},
   "source": [
    "## 22.6"
   ]
  },
  {
   "cell_type": "code",
   "execution_count": 6,
   "metadata": {},
   "outputs": [
    {
     "name": "stdout",
     "output_type": "stream",
     "text": [
      "Davy's auto shop services\n",
      "Oil change -- $35\n",
      "Tire rotation -- $19\n",
      "Car wash -- $7\n",
      "Car wax -- $12\n",
      "\n",
      "\n",
      "Davy's auto shop invoice\n",
      "\n",
      "Service 1: Oil change, $35\n",
      "Service 2: No service\n",
      "\n",
      "Total: $35\n"
     ]
    }
   ],
   "source": [
    "def printMenu():\n",
    "    print(\"Davy's auto shop services\\nOil change -- $35\\nTire rotation -- $19\\nCar wash -- $7\\nCar wax -- $12\\n\")\n",
    "\n",
    "def printInvoice(service1, service2):\n",
    "    # Tuple format: (\"service name\", <price (int)>)\n",
    "    print(\"\\nDavy's auto shop invoice\\n\")\n",
    "\n",
    "    if service1 == \"-\":\n",
    "        print(f\"Service 1: No service\")\n",
    "        print(f\"Service 2: {service2}, ${services[service2]}\")\n",
    "        print(f\"\\nTotal: ${services[service2]}\")\n",
    "    elif service2 == \"-\":\n",
    "        print(f\"Service 1: {service1}, ${services[service1]}\")\n",
    "        print(f\"Service 2: No service\")\n",
    "        print(f\"\\nTotal: ${services[service1]}\")\n",
    "    else:\n",
    "        print(f\"Service 1: {service1}, ${services[service1]}\")\n",
    "        print(f\"Service 2: {service2}, ${services[service2]}\")\n",
    "        print(f\"\\nTotal: ${services[service1] + services[service2]}\")\n",
    "\n",
    "\n",
    "services = {\"Oil change\": 35, \"Tire rotation\": 19, \"Car wash\": 7, \"Car wax\": 12}\n",
    "\n",
    "printMenu()\n",
    "\n",
    "service1 = input(\"Select first service:\\n\")\n",
    "service2 = input(\"Select second service:\\n\")\n",
    "\n",
    "printInvoice(service1, service2)"
   ]
  },
  {
   "cell_type": "markdown",
   "metadata": {},
   "source": [
    "# Section 23 Labs"
   ]
  },
  {
   "cell_type": "markdown",
   "metadata": {},
   "source": [
    "## 23.1"
   ]
  },
  {
   "cell_type": "code",
   "execution_count": 8,
   "metadata": {},
   "outputs": [
    {
     "name": "stdout",
     "output_type": "stream",
     "text": [
      "49\n"
     ]
    }
   ],
   "source": [
    "def removeChars(string):\n",
    "    cleanString = string.replace(\" \", \"\")\n",
    "    cleanString = cleanString.replace(\",\", \"\")\n",
    "    cleanString = cleanString.replace(\"!\", \"\")\n",
    "    cleanString = cleanString.replace(\".\", \"\")\n",
    "\n",
    "    return cleanString\n",
    "\n",
    "inp = input()\n",
    "\n",
    "print(len(removeChars(inp)))\n"
   ]
  },
  {
   "cell_type": "markdown",
   "metadata": {},
   "source": [
    "## 23.10"
   ]
  },
  {
   "cell_type": "code",
   "execution_count": 17,
   "metadata": {},
   "outputs": [
    {
     "name": "stdout",
     "output_type": "stream",
     "text": [
      "\n",
      "***\n",
      "***\n",
      "****\n",
      "***\n",
      "**\n",
      "*\n"
     ]
    }
   ],
   "source": [
    "arrow_base_height = int(input('Enter arrow base height:\\n'))\n",
    "\n",
    "arrow_base_width = int(input('Enter arrow base width:\\n'))\n",
    "\n",
    "arrow_head_width = int(input('Enter arrow head width:\\n'))\n",
    "\n",
    "while arrow_head_width <= arrow_base_width:\n",
    "    arrow_head_width = int(input('Enter arrow head width:\\n'))\n",
    "\n",
    "print()\n",
    "\n",
    "for i in range(arrow_base_height):\n",
    "    print(\"*\" * arrow_base_width)\n",
    "for i in range(arrow_head_width):\n",
    "    print(\"*\" * (arrow_head_width - i))\n"
   ]
  },
  {
   "cell_type": "markdown",
   "metadata": {},
   "source": [
    "# Section 24 Labs"
   ]
  },
  {
   "cell_type": "markdown",
   "metadata": {},
   "source": [
    "## 24.5"
   ]
  },
  {
   "cell_type": "code",
   "execution_count": 21,
   "metadata": {},
   "outputs": [
    {
     "name": "stdout",
     "output_type": "stream",
     "text": [
      "1 quarter\n",
      "2 dimes\n"
     ]
    }
   ],
   "source": [
    "def exact_change(val):\n",
    "    dollars = val // 100\n",
    "    val -= dollars * 100\n",
    "\n",
    "    quarters = val // 25\n",
    "    val -= quarters * 25\n",
    "\n",
    "    dimes = val // 10\n",
    "    val -= dimes * 10\n",
    "\n",
    "    nickels = val // 5\n",
    "    val -= nickels * 5\n",
    "\n",
    "    pennies = val\n",
    "\n",
    "    return (dollars, quarters, dimes, nickels, pennies)\n",
    "\n",
    "\n",
    "def pluralize(string, amount):\n",
    "    plural = string\n",
    "    if amount != 1:\n",
    "        if string[-1] == \"y\":\n",
    "            plural = string[-1]+\"ies\"\n",
    "        else:\n",
    "            plural = string+\"s\"\n",
    "\n",
    "    return plural\n",
    "\n",
    "\n",
    "if __name__ == '__main__':\n",
    "    input_val = int(input())\n",
    "    num_dollars, num_quarters, num_dimes, num_nickels, num_pennies = exact_change(\n",
    "        input_val)\n",
    "\n",
    "    if input_val <= 0:\n",
    "        print(\"no change\")\n",
    "    else:\n",
    "        if num_dollars > 0:\n",
    "            print(num_dollars, pluralize(\"dollar\", num_dollars))\n",
    "        if num_quarters > 0:\n",
    "            print(num_quarters, pluralize(\"quarter\", num_quarters))\n",
    "        if num_dimes > 0:\n",
    "            print(num_dimes, pluralize(\"dime\", num_dimes))\n",
    "        if num_nickels > 0:\n",
    "            print(num_nickels, pluralize(\"nickel\", num_nickels))\n",
    "        if num_pennies > 0:\n",
    "            print(num_pennies, pluralize(\"penny\", num_pennies))\n"
   ]
  },
  {
   "cell_type": "markdown",
   "metadata": {},
   "source": [
    "## 24.11"
   ]
  },
  {
   "cell_type": "code",
   "execution_count": 4,
   "metadata": {},
   "outputs": [
    {
     "name": "stdout",
     "output_type": "stream",
     "text": [
      "largest: 9\n",
      "smallest: 4\n"
     ]
    }
   ],
   "source": [
    "# DO NOT USE max() OR min() \n",
    "\n",
    "def largest_number(num1, num2, num3):\n",
    "    # Type your code here.\n",
    "    if num2 <= num1 >= num3:\n",
    "        return num1\n",
    "    elif num1 <= num2 >= num3:\n",
    "        return num2\n",
    "    else:\n",
    "        return num3\n",
    "    \n",
    "def smallest_number(num1, num2, num3):\n",
    "    # Type your code here.\n",
    "    if num2 >= num1 <= num3:\n",
    "        return num1\n",
    "    elif num1 >= num2 <= num3:\n",
    "        return num2\n",
    "    else:\n",
    "        return num3\n",
    "    \n",
    "if __name__ == '__main__':\n",
    "    num1 = int(input())\n",
    "    num2 = int(input())\n",
    "    num3 = int(input())\n",
    "\n",
    "    print(\"largest:\", largest_number(num1, num2, num3))\n",
    "    print(\"smallest:\", smallest_number(num1, num2, num3))"
   ]
  },
  {
   "cell_type": "markdown",
   "metadata": {},
   "source": [
    "# 24.13"
   ]
  },
  {
   "cell_type": "code",
   "execution_count": 10,
   "metadata": {},
   "outputs": [
    {
     "name": "stdout",
     "output_type": "stream",
     "text": [
      "\n",
      "You entered: def get_num_of_characters(input_str):     return len(input_str)   def output_without_whitespace(input_str):     # Type your code here     clean_str = input_str     undesired = {\" \", \"\\t\"}      for c in undesired:         clean_str = clean_str.replace(c, \"\")   if __name__ == '__main__':     # Type your code here     inp = input(\"Enter a sentence or phrase:\\n\")      print(\"\\nYou entered:\", inp)      num_chars = get_num_of_characters(inp)     clean_str = output_without_whitespace(inp)      print(\"\\nNumber of characters:\", num_chars)     print(\"String with no whitespace:\", clean_str)\n",
      "\n",
      "Number of characters: 586\n",
      "String with no whitespace: defget_num_of_characters(input_str):returnlen(input_str)defoutput_without_whitespace(input_str):#Typeyourcodehereclean_str=input_strundesired={\"\",\"\\t\"}forcinundesired:clean_str=clean_str.replace(c,\"\")if__name__=='__main__':#Typeyourcodehereinp=input(\"Enterasentenceorphrase:\\n\")print(\"\\nYouentered:\",inp)num_chars=get_num_of_characters(inp)clean_str=output_without_whitespace(inp)print(\"\\nNumberofcharacters:\",num_chars)print(\"Stringwithnowhitespace:\",clean_str)\n"
     ]
    }
   ],
   "source": [
    "def get_num_of_characters(input_str):\n",
    "    return len(input_str)\n",
    "\n",
    "\n",
    "def output_without_whitespace(input_str):\n",
    "    # Type your code here\n",
    "    clean_str = input_str\n",
    "    undesired = {\" \", \"\\t\"}\n",
    "\n",
    "    for c in undesired:\n",
    "        clean_str = clean_str.replace(c, \"\")\n",
    "    \n",
    "    return clean_str\n",
    "\n",
    "\n",
    "if __name__ == '__main__':\n",
    "    # Type your code here\n",
    "    inp = input(\"Enter a sentence or phrase:\\n\")\n",
    "\n",
    "    print(\"\\nYou entered:\", inp)\n",
    "\n",
    "    num_chars = get_num_of_characters(inp)\n",
    "    clean_str = output_without_whitespace(inp)\n",
    "\n",
    "    print(\"\\nNumber of characters:\", num_chars)\n",
    "    print(\"String with no whitespace:\", clean_str)\n"
   ]
  },
  {
   "cell_type": "markdown",
   "metadata": {},
   "source": [
    "# Section 25 Labs"
   ]
  },
  {
   "cell_type": "markdown",
   "metadata": {},
   "source": [
    "## 25.4"
   ]
  },
  {
   "cell_type": "code",
   "execution_count": 11,
   "metadata": {},
   "outputs": [
    {
     "name": "stdout",
     "output_type": "stream",
     "text": [
      "fja9ejfiaedhjifudhaipuf\n"
     ]
    }
   ],
   "source": [
    "def remove_spaces(user_string):\n",
    "    no_spaces = user_string.replace(\" \", \"\")\n",
    "    return no_spaces\n",
    "    \n",
    "if __name__ == '__main__':\n",
    "    inp = input().strip()\n",
    "    print(remove_spaces(inp))"
   ]
  },
  {
   "cell_type": "markdown",
   "metadata": {},
   "source": [
    "## 25.6"
   ]
  },
  {
   "cell_type": "code",
   "execution_count": 14,
   "metadata": {},
   "outputs": [],
   "source": [
    "def get_month_as_int(monthString):\n",
    "\n",
    "    if monthString == 'January':\n",
    "        month_int = 1\n",
    "    elif monthString == 'February':\n",
    "        month_int = 2\n",
    "    elif monthString == 'March':\n",
    "        month_int = 3\n",
    "    elif monthString == 'April':\n",
    "        month_int = 4\n",
    "    elif monthString == 'May':\n",
    "        month_int = 5\n",
    "    elif monthString == 'June':\n",
    "        month_int = 6\n",
    "    elif monthString == 'July':\n",
    "        month_int = 7\n",
    "    elif monthString == 'August':\n",
    "        month_int = 8\n",
    "    elif monthString == 'September':\n",
    "        month_int = 9\n",
    "    elif monthString == 'October':\n",
    "        month_int = 10\n",
    "    elif monthString == 'November':\n",
    "        month_int = 11\n",
    "    elif monthString == 'December':\n",
    "        month_int = 12\n",
    "    else:\n",
    "        month_int = 0\n",
    "\n",
    "    return month_int\n",
    "\n",
    "\n",
    "user_string = input()\n",
    "\n",
    "while user_string != \"-1\":\n",
    "    tokens = user_string.split()\n",
    "    month_int = get_month_as_int(tokens[0])\n",
    "\n",
    "    # Correct format -- \"Month <int>, <int>\" or \"M D, YYYY\"\n",
    "    if len(tokens) == 3 and tokens[1][-1] == \",\":\n",
    "        if month_int > 0 and tokens[1][:-1].isdigit() and tokens[2].isdigit():\n",
    "            print(f\"{month_int}/{tokens[1][:-1]}/{tokens[2]}\")\n",
    "\n",
    "    user_string = input()\n"
   ]
  },
  {
   "cell_type": "markdown",
   "metadata": {},
   "source": [
    "# Section 26 Labs"
   ]
  },
  {
   "cell_type": "markdown",
   "metadata": {},
   "source": [
    "## 26.5"
   ]
  },
  {
   "cell_type": "code",
   "execution_count": 15,
   "metadata": {},
   "outputs": [
    {
     "name": "stdout",
     "output_type": "stream",
     "text": [
      "3.0\n"
     ]
    }
   ],
   "source": [
    "def calc_average(nums):\n",
    "    # Type your code here.\n",
    "    return sum(nums) / len(nums)\n",
    "    \n",
    "if __name__ == '__main__':\n",
    "    nums = [1, 2, 3, 4, 5]\n",
    "    print(calc_average(nums))   # calc_average() should return 3.0"
   ]
  },
  {
   "cell_type": "markdown",
   "metadata": {},
   "source": [
    "# Section 29 Labs"
   ]
  },
  {
   "cell_type": "markdown",
   "metadata": {},
   "source": [
    "## 29.2"
   ]
  },
  {
   "cell_type": "code",
   "execution_count": 31,
   "metadata": {},
   "outputs": [
    {
     "name": "stdout",
     "output_type": "stream",
     "text": [
      "Wonders of the World                         |     G | 16:40 20:00\n",
      "End of the Universe                          | NC-17 | 19:00\n",
      "Buffalo Bill And The Indians or Sitting Bull |    PG | 12:45 15:00 19:30\n",
      "Adventure of Lewis and Clark                 | PG-13 | 10:00 14:30\n",
      "Halloween                                    |     R | 19:00\n"
     ]
    }
   ],
   "source": [
    "import csv\n",
    "\n",
    "formatString = \"{title:44} | {rating:>5} | {showtimes}\"\n",
    "movieDict = {}\n",
    "fileName = \"movies.csv\" #input()\n",
    "\n",
    "with open(fileName) as f:\n",
    "    reader = csv.reader(f, delimiter=\",\")\n",
    "    \n",
    "\n",
    "    for row in reader:\n",
    "        # Row format: [showtime, title, rating]\n",
    "        showtime, title, rating = row\n",
    "\n",
    "        # movieDict format: {\"title\": [rating, [showtime1, showtime2]], ...}\n",
    "        if title in movieDict:\n",
    "            movieDict[title][1].append(showtime)\n",
    "        else:\n",
    "            movieDict[title] = [rating, [showtime]]\n",
    "\n",
    "    \n",
    "    for title, l in movieDict.items():\n",
    "        showtimeString = \"\"\n",
    "        l[1].sort()\n",
    "        \n",
    "        for time in l[1]:\n",
    "            showtimeString += time+\" \"\n",
    "\n",
    "        # Print it all out to the specified format and remove the trailing space on showtimeString\n",
    "        print(formatString.format(title = \"%.44s\" % title, rating = l[0], showtimes = showtimeString[:-1]))"
   ]
  },
  {
   "cell_type": "markdown",
   "metadata": {},
   "source": [
    "# Misc"
   ]
  },
  {
   "cell_type": "code",
   "execution_count": null,
   "metadata": {},
   "outputs": [
    {
     "name": "stdout",
     "output_type": "stream",
     "text": [
      "hello 1\n",
      "cat 2\n",
      "man 2\n",
      "hey 2\n",
      "dog 2\n",
      "boy 2\n",
      "Hello 1\n",
      "woman 1\n",
      "Cat 1\n"
     ]
    }
   ],
   "source": [
    "synonyms = {}   # Define dictionary\n",
    "\n",
    "fileName = input()\n",
    "searchLetter = input()\n",
    "\n",
    "with open(fileName, \"r\") as file:\n",
    "    contents = file.readlines()\n",
    "\n",
    "    for words in contents:\n",
    "        # Remove newline char\n",
    "        wordList = words[:-1].split()\n",
    "        synonyms[words[0]] = wordList\n",
    "\n",
    "if searchLetter in synonyms:\n",
    "    for word in synonyms[searchLetter]:\n",
    "        print(word)\n",
    "else:\n",
    "    print(f\"No synonyms for educate begin with {searchLetter}.\")\n",
    "\n"
   ]
  }
 ],
 "metadata": {
  "interpreter": {
   "hash": "30a157a8ae9a8977cb03bfd948963df689bfc9f7248f8097d5f9c6cee1b5e352"
  },
  "kernelspec": {
   "display_name": "Python 3.10.0 64-bit",
   "language": "python",
   "name": "python3"
  },
  "language_info": {
   "codemirror_mode": {
    "name": "ipython",
    "version": 3
   },
   "file_extension": ".py",
   "mimetype": "text/x-python",
   "name": "python",
   "nbconvert_exporter": "python",
   "pygments_lexer": "ipython3",
   "version": "3.9.7"
  },
  "orig_nbformat": 4
 },
 "nbformat": 4,
 "nbformat_minor": 2
}
