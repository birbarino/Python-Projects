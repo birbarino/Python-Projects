{
 "cells": [
  {
   "cell_type": "markdown",
   "metadata": {},
   "source": [
    "# zyBooks Adventures!"
   ]
  },
  {
   "cell_type": "markdown",
   "metadata": {},
   "source": [
    "## Text and Printing to the Console"
   ]
  },
  {
   "cell_type": "markdown",
   "metadata": {},
   "source": [
    "### Printing Basics"
   ]
  },
  {
   "cell_type": "markdown",
   "metadata": {},
   "source": [
    "Printing can take multiple args"
   ]
  },
  {
   "cell_type": "code",
   "execution_count": null,
   "metadata": {},
   "outputs": [],
   "source": [
    "variable = [1, 2, \"string\"]\n",
    "print(\"String\", 12 ** 2, variable)\n"
   ]
  },
  {
   "cell_type": "markdown",
   "metadata": {},
   "source": [
    "### `input()` Method"
   ]
  },
  {
   "cell_type": "markdown",
   "metadata": {},
   "source": [
    "You can take input and print it out with it"
   ]
  },
  {
   "cell_type": "code",
   "execution_count": null,
   "metadata": {},
   "outputs": [],
   "source": [
    "print(\"gimme some input\", end=\" \")\n",
    "myVar = input()\n",
    "print(myVar)\n",
    "\n",
    "myInt = int(input(\"This also works...\"))\n",
    "print(myInt)\n",
    "\n",
    "print(int(input()) * int(input()) * int(input()))\n"
   ]
  },
  {
   "cell_type": "markdown",
   "metadata": {},
   "source": [
    "### Text, Formatting, Escaping, and Encoding!"
   ]
  },
  {
   "cell_type": "markdown",
   "metadata": {},
   "source": [
    "Python uses unicode for every letter. 'G' has a code point val of 71, 'space' has one of 32, and so on."
   ]
  },
  {
   "cell_type": "code",
   "execution_count": null,
   "metadata": {},
   "outputs": [],
   "source": [
    "# Printing Unicode values\n",
    "print(\"The Unicode value for 'e':\", ord(\"e\"))\n",
    "print(\"Converting '25600' in Unicode to a char:\", chr(25600))\n"
   ]
  },
  {
   "cell_type": "code",
   "execution_count": null,
   "metadata": {},
   "outputs": [],
   "source": [
    "my_string = 'This is a \\n \\'normal\\' string\\n'\n",
    "\n",
    "# Putting 'r' before a string literal makes it RAW\n",
    "my_raw_string = r'This is a \\n \\'raw\\' string'\n",
    "\n",
    "print(my_string)\n",
    "print(my_raw_string)"
   ]
  },
  {
   "cell_type": "markdown",
   "metadata": {},
   "source": [
    "## Types, Values, and so on"
   ]
  },
  {
   "cell_type": "markdown",
   "metadata": {},
   "source": [
    "### General"
   ]
  },
  {
   "cell_type": "markdown",
   "metadata": {},
   "source": [
    "int ---\tNumeric type: Used for variable-width integers.\n",
    "\n",
    "float --- Numeric type: Used for floating-point numbers.\n",
    "\n",
    "string --- Sequence type: Used for text.\n",
    "\n",
    "list --- Sequence type: A mutable container with ordered elements.\n",
    "\n",
    "tuple --- Sequence type: An immutable container with ordered elements.\n",
    "\n",
    "set --- Set type: A mutable container with unordered and unique elements.\n",
    "\n",
    "dict --- Mapping type: A container with key-values associated elements.\n"
   ]
  },
  {
   "cell_type": "markdown",
   "metadata": {},
   "source": [
    "### Casting"
   ]
  },
  {
   "cell_type": "markdown",
   "metadata": {},
   "source": [
    "Type-casting works like so:"
   ]
  },
  {
   "cell_type": "code",
   "execution_count": null,
   "metadata": {},
   "outputs": [],
   "source": [
    "myString = str(123)\n",
    "myInt = int(\"123\")\n"
   ]
  },
  {
   "cell_type": "markdown",
   "metadata": {},
   "source": [
    "Floats and jazz: super neat! You can typecast it with float(variable)"
   ]
  },
  {
   "cell_type": "code",
   "execution_count": null,
   "metadata": {},
   "outputs": [],
   "source": [
    "import math\n",
    "floatyNum = float(1)\n",
    "print(floatyNum)\n",
    "floatyNum = 12345e-12\n",
    "print(floatyNum)\n",
    "\n",
    "# causes overflow\n",
    "# print('2.0 to the power of 1024 = ', 2.0**1024)\n",
    "print(\"You can also format floats:\", \"{:.7f}\".format(math.pi))\n"
   ]
  },
  {
   "cell_type": "markdown",
   "metadata": {},
   "source": [
    "### Objects"
   ]
  },
  {
   "cell_type": "markdown",
   "metadata": {},
   "source": [
    "Now a little about objects"
   ]
  },
  {
   "cell_type": "code",
   "execution_count": null,
   "metadata": {},
   "outputs": [],
   "source": [
    "# Each object has a value, type, and identity\n",
    "example = \"string\"\n",
    "\n",
    "print(\"value:\", example)\n",
    "print(\"type:\", type(example))\n",
    "print(\"ID:\", id(example))\n"
   ]
  },
  {
   "cell_type": "markdown",
   "metadata": {},
   "source": [
    "### Strings"
   ]
  },
  {
   "cell_type": "markdown",
   "metadata": {},
   "source": [
    "#### General"
   ]
  },
  {
   "cell_type": "markdown",
   "metadata": {},
   "source": [
    "*Strings* are sequences of chars. *String literals* are what is surrounded by a pair of quotes"
   ]
  },
  {
   "cell_type": "code",
   "execution_count": 56,
   "metadata": {},
   "outputs": [
    {
     "name": "stdout",
     "output_type": "stream",
     "text": [
      "12 ur mom\n"
     ]
    }
   ],
   "source": [
    "# String length with len(str)\n",
    "yourMom = \"Your mother.\"\n",
    "print(len(yourMom), yourMom[2] + yourMom[10], yourMom[5] + yourMom[6] + yourMom[5])\n",
    "\n",
    "# You can access chars in strs with negative indexes!\n",
    "lastChar = yourMom[-1]\n",
    "\n",
    "# Strings are immutable!!!!!!\n"
   ]
  },
  {
   "cell_type": "markdown",
   "metadata": {},
   "source": [
    "String formatting:"
   ]
  },
  {
   "cell_type": "code",
   "execution_count": null,
   "metadata": {},
   "outputs": [],
   "source": [
    "num = 1.23454\n",
    "cals = 1200\n",
    "\n",
    "# it's pretty simple\n",
    "print('{}, two, tree, fower.'.format(int(num)))\n",
    "\n",
    "# you can also format it and stuff\n",
    "print(\"I can't believe {:.0f} burrito is only {} calories\".format(num, cals))\n",
    "\n",
    "# you can also reposition the numbers.\n",
    "print(\"{1} is a whole number, {0} is not.\".format(num, cals))\n",
    "\n",
    "# you can also just assign things in the format method\n",
    "print(\"I drove my {car} to the {store} in {city} to buy some {{double braces}}\".format(car=\"Toyota Tacoma\", city=\"Pittsburg\", store=\"7Eleven\"))\n",
    "\n",
    "#####Common formatting types#####\n",
    "# Decimal display (ints only)\n",
    "print(\"{:d}\".format(12))\n",
    "\n",
    "# binary display (ints only)\n",
    "print(\"{:b}\".format(129))\n",
    "\n",
    "# Int-to-Hex display\n",
    "print(\"{:x}\".format(143213), \"{:X}\".format(143213))\n",
    "\n",
    "# Exponent notation\n",
    "print(\"{:e}\".format(8679305))\n",
    "\n",
    "# Points of precision\n",
    "print(\"Default (6-point): {:f}\".format(2), \"| Programmer specified: {:2f}\".format(2.47031289), \"| Leading 0: {:03d}\".format(2))\n",
    "\n",
    "# :s just outputs as string (default mode)\n",
    "print('{cnt:s} ${cost:.2f} tacos is ${sum:.2f} total'.format(cnt = 'Three', cost = 1.50, sum = 4.50))\n",
    "\n",
    "\n"
   ]
  },
  {
   "cell_type": "code",
   "execution_count": null,
   "metadata": {},
   "outputs": [],
   "source": [
    "# You can also make super long strings\n",
    "declaration = (\"When in the Course of human events, it becomes necessary for \"\n",
    "               \"one people to dissolve the political bands which have connected \"\n",
    "               \"them with another, and to assume among the powers of the earth...\")\n",
    "del declaration"
   ]
  },
  {
   "cell_type": "markdown",
   "metadata": {},
   "source": [
    "#### String Slicing"
   ]
  },
  {
   "cell_type": "markdown",
   "metadata": {},
   "source": [
    "Notation for string slicing (basically substrings) goes like `myStr[start:end]`. The `end` is exclusive."
   ]
  },
  {
   "cell_type": "markdown",
   "metadata": {},
   "source": [
    "To retrieve the last character of the index, you can just use a number larger than the string's length or just do `myStr[start:]`\n",
    "\n",
    "To get the length-x characters, you can just use `myStr[start:-1]` for the character before the last, `myStr[start:-2]` for the second to last, etc."
   ]
  },
  {
   "cell_type": "code",
   "execution_count": 29,
   "metadata": {},
   "outputs": [
    {
     "name": "stdout",
     "output_type": "stream",
     "text": [
      " havin' \n",
      "havin' a good ol' time\n",
      "We havin' a good ol' t\n",
      "a good ol' time\n",
      "reddit.com/r/python\n",
      "Ath\n"
     ]
    }
   ],
   "source": [
    "# String slicing basics\n",
    "goodOlStr = \"We havin' a good ol' time\"\n",
    "spaceWordSpaceStr = goodOlStr[2:10]\n",
    "print(spaceWordSpaceStr)\n",
    "print(goodOlStr[3:69420])   #You can use a really large number to get to the last char or just do goodOlStr[start:]\n",
    "print(goodOlStr[:-3])   # Can also do goodOlStr[0:-3]\n",
    "print(goodOlStr[10:])\n",
    "\n",
    "url = 'https://reddit.com/r/python'\n",
    "protocol = 'https://'\n",
    "print(url[len(protocol):])"
   ]
  },
  {
   "cell_type": "markdown",
   "metadata": {},
   "source": [
    "*Slice stride* is where you use a third argument to dictate the stride, or how much to increment the index after reading each element. I.e. `myStr[0:10:2]` gets every second letter from the beginning until index 9."
   ]
  },
  {
   "cell_type": "code",
   "execution_count": 28,
   "metadata": {},
   "outputs": [
    {
     "name": "stdout",
     "output_type": "stream",
     "text": [
      "Heeogn\n",
      "YourMom\n"
     ]
    }
   ],
   "source": [
    "strideStr = \"Here we go again!\"\n",
    "print(strideStr[::3])   # Gets every third character starting from the beginning\n",
    "\n",
    "my_str = 'Ygo2u3rJM2oim'\n",
    "print(my_str[::2])"
   ]
  },
  {
   "cell_type": "markdown",
   "metadata": {},
   "source": [
    "Tuples and lists also support \"slice notation.\""
   ]
  },
  {
   "cell_type": "markdown",
   "metadata": {},
   "source": [
    "#### Advanced Formatting (ooh)"
   ]
  },
  {
   "cell_type": "markdown",
   "metadata": {},
   "source": [
    "##### Field Width"
   ]
  },
  {
   "cell_type": "markdown",
   "metadata": {},
   "source": [
    "Displaying stuff in a nice little format (see code below)."
   ]
  },
  {
   "cell_type": "code",
   "execution_count": 39,
   "metadata": {},
   "outputs": [
    {
     "name": "stdout",
     "output_type": "stream",
     "text": [
      "Player Name     Score   \n",
      "------------------------\n",
      "Inigo Montoya        800\n",
      "Everyone else          9\n"
     ]
    }
   ],
   "source": [
    "formatStr = \"{name:16}{score:8}\"  # \"{value:characterBuffer}{...}\"\n",
    "\n",
    "print(formatStr.format(name=\"Player Name\", score=\"Score\"))\n",
    "print(\"-\" * 24)    # 16 + 8 = ...\n",
    "\n",
    "print(formatStr.format(name=\"Inigo Montoya\", score=800))    # If the number was a string, it would be aligned to the leftmost side instead of the right most. Neat, huh?\n",
    "print(formatStr.format(name=\"Everyone else\", score=9))\n"
   ]
  },
  {
   "cell_type": "markdown",
   "metadata": {},
   "source": [
    "##### Aligning Text"
   ]
  },
  {
   "cell_type": "markdown",
   "metadata": {},
   "source": [
    "The following are alignment characters:\n",
    "* < gives you left-aligned text\n",
    "* \\> gives you right-aligned text\n",
    "* ^ gives you center-aligned text"
   ]
  },
  {
   "cell_type": "code",
   "execution_count": 49,
   "metadata": {},
   "outputs": [
    {
     "name": "stdout",
     "output_type": "stream",
     "text": [
      "Player Name        Score\n",
      "------------------------\n",
      "Inigo Montoya        800\n",
      "Everyone else          9\n",
      "\n",
      "     Player Name   Score\n",
      "------------------------\n",
      "   Inigo Montoya     800\n",
      "   Everyone else       9\n",
      "\n",
      "Player Name      Score  \n",
      "------------------------\n",
      " Inigo Montoya    800   \n",
      " Everyone else     9    \n",
      "\n"
     ]
    }
   ],
   "source": [
    "formatStr = \"{name:<16}{score:>8}\"  # \"{value:characterBuffer}{...}\"\n",
    "print(formatStr.format(name=\"Player Name\", score=\"Score\"))\n",
    "print(\"-\" * 24)\n",
    "print(formatStr.format(name=\"Inigo Montoya\", score=800))\n",
    "print(formatStr.format(name=\"Everyone else\", score=9))\n",
    "print()\n",
    "\n",
    "\n",
    "formatStr = \"{name:>16}{score:>8}\"  # \"{value:characterBuffer}{...}\"\n",
    "print(formatStr.format(name=\"Player Name\", score=\"Score\"))\n",
    "print(\"-\" * 24)\n",
    "print(formatStr.format(name=\"Inigo Montoya\", score=800))\n",
    "print(formatStr.format(name=\"Everyone else\", score=9))\n",
    "print()\n",
    "\n",
    "\n",
    "headerFormatStr = \"{name:<16}{score:^8}\"  # \"{value:characterBuffer}{...}\"\n",
    "bodyFormatStr = \"{name:^16}{score:^8}\"\n",
    "print(headerFormatStr.format(name=\"Player Name\", score=\"Score\"))\n",
    "print(\"-\" * 24)\n",
    "print(bodyFormatStr.format(name=\"Inigo Montoya\", score=800))\n",
    "print(bodyFormatStr.format(name=\"Everyone else\", score=9))\n",
    "print()"
   ]
  },
  {
   "cell_type": "markdown",
   "metadata": {},
   "source": [
    "##### Fill\n"
   ]
  },
  {
   "cell_type": "markdown",
   "metadata": {},
   "source": [
    "Fills can have different characters instead of just blank spaces!"
   ]
  },
  {
   "cell_type": "code",
   "execution_count": 64,
   "metadata": {},
   "outputs": [
    {
     "name": "stdout",
     "output_type": "stream",
     "text": [
      "    9\n",
      "00900\n",
      "9<<<<\n",
      "aaaa9\n"
     ]
    }
   ],
   "source": [
    "# Default fill:\n",
    "print(\"{score:5}\".format(score=9))\n",
    "\n",
    "# Other fills:\n",
    "print(\"{score:0^5}\".format(score=9))\n",
    "print(\"{score:<<5}\".format(score=9))\n",
    "print(\"{score:a>5}\".format(score=9))\n"
   ]
  },
  {
   "cell_type": "markdown",
   "metadata": {},
   "source": [
    "##### Floating-point Precision"
   ]
  },
  {
   "cell_type": "markdown",
   "metadata": {},
   "source": [
    "\n",
    "Pretty simple, just stuff like `'{:.3f}'.format(5.128756652)`"
   ]
  },
  {
   "cell_type": "code",
   "execution_count": 9,
   "metadata": {},
   "outputs": [
    {
     "name": "stdout",
     "output_type": "stream",
     "text": [
      "5.129\n",
      "!!!!!!!2.0\n"
     ]
    }
   ],
   "source": [
    "print('{:.3f}'.format(5.128756652))\n",
    "print('{x:!>10.1f}'.format(x=2)) # display x with a 10 char buffer, empty space replaced with !'s, and aligned to the right"
   ]
  },
  {
   "cell_type": "markdown",
   "metadata": {},
   "source": [
    "You can also through in a little fill or spacing!"
   ]
  },
  {
   "cell_type": "markdown",
   "metadata": {},
   "source": [
    "#### Methods"
   ]
  },
  {
   "cell_type": "code",
   "execution_count": 97,
   "metadata": {},
   "outputs": [
    {
     "name": "stdout",
     "output_type": "stream",
     "text": [
      "This is the end\n",
      "This is the beginning\n",
      "Buffalo b_uffalo Buffalo b_uffalo b_uffalo buffalo Buffalo buffalo\n",
      "buff\n",
      "24\n",
      "48\n",
      "8\n",
      "True\n",
      "True\n",
      "False\n",
      ".isalnum(): False True\n",
      ".isdigit(): False True\n",
      ".islower(): False True\n",
      ".isupper(): False True\n",
      ".isspace(): False True\n",
      ".startswith(\"Buffalo\"): True False\n",
      ".endswith(\"buffalo\"): True False\n",
      "Caps the first letter: Buffalo buffalo buffalo buffalo buffalo buffalo buffalo buffalo\n",
      "All lowercase: buffalo buffalo buffalo buffalo buffalo buffalo buffalo buffalo\n",
      "All uppercase: BUFFALO BUFFALO BUFFALO BUFFALO BUFFALO BUFFALO BUFFALO BUFFALO\n",
      "Title format: Buffalo Buffalo Buffalo Buffalo Buffalo Buffalo Buffalo Buffalo\n",
      "No leading/trailing whitespace: Buffalo buffalo Buffalo buffalo buffalo buffalo Buffalo buffalo\n"
     ]
    }
   ],
   "source": [
    "# Replace (str.replace(old, new, count)). count defaults to 1 (therefore replaces only one copy of the old string).\n",
    "myString = \"This is the end\"\n",
    "print(myString)\n",
    "myString = myString.replace(\"end\", \"beginning\")\n",
    "print(myString)\n",
    "\n",
    "myString = \"Buffalo buffalo Buffalo buffalo buffalo buffalo Buffalo buffalo\"\n",
    "print(myString.replace(\"buffalo\", \"b_uffalo\", 3))\n",
    "\n",
    "# Find or .find(x, start, end). Returns the index of the first occurrence with an optional starting/ending index. Always gives you the FIRST occurrence.\n",
    "# There is also a little slicing going on here with the 12\n",
    "print(myString[myString.find(\"buffalo\"):12])\n",
    "print(myString.find(\"buffalo\", 19))\n",
    "\n",
    "# Reverse Find or .rfind(x, start, end). Like .find() except it starts at the end of the string and works backwards. Always returns the LAST occurrence.\n",
    "print(myString.rfind(\"Buffalo\"))\n",
    "\n",
    "# Count or .count(x) is super self-explanatory\n",
    "print(myString.count(\"ff\"))\n",
    "\n",
    "# Comparing strings (>, <=, ==, in, not in, !=, etc.)\n",
    "print(\"He\" in \"Hello\")     # Compares the identity, NOT the equality\n",
    "print(\"Hello\" < \"Hello there\")    # Compares ASCII values until it gets to a point of inequality, then evaluates the comparison\n",
    "print(\"Yoohoo\" > \"Yoohoo   \")\n",
    "\n",
    "# Other\n",
    "print(\".isalnum():\", myString.isalnum(), \"123nospaces456\".isalnum())    # returns True if all chars are lowercase/uppercase/0-9\n",
    "print(\".isdigit():\", myString.isdigit(), \"1\".isdigit())\n",
    "print(\".islower():\", myString.islower(), \" fdaf dfa fdafdf ada  \".islower())\n",
    "print(\".isupper():\", myString.isupper(), \" FDSAFDA  \".isupper())\n",
    "print(\".isspace():\", myString.isspace(), \"\\t \\n    \\n\".isspace())   # Tabs, newlines, and spaces count as space\n",
    "print(\".startswith(\\\"Buffalo\\\"):\", myString.startswith(\"Buffalo\"), \" FDSA,FD.A . \".startswith(\"Buffalo\"))   # Punctuation is not cased\n",
    "print(\".endswith(\\\"buffalo\\\"):\", myString.endswith(\"buffalo\"), \" FDSAFDA  \".endswith(\"buffalo\"))\n",
    "\n",
    "print(\"Caps the first letter:\", myString.capitalize())\n",
    "print(\"All lowercase:\", myString.lower())\n",
    "print(\"All uppercase:\", myString.upper())\n",
    "print(\"Title format:\", myString.title())\n",
    "\n",
    "myString = \"    \" + myString + \"   \"\n",
    "print(\"No leading/trailing whitespace:\", myString.strip())\n",
    "\n",
    "# You can do stuff like x = input().strip().lower() --> it is a good practice to do this when taking in the data if it doesn't matter later in the program\n"
   ]
  },
  {
   "cell_type": "markdown",
   "metadata": {},
   "source": [
    "#### Splitting/Joining"
   ]
  },
  {
   "cell_type": "code",
   "execution_count": 143,
   "metadata": {},
   "outputs": [
    {
     "name": "stdout",
     "output_type": "stream",
     "text": [
      "https with google.com\n",
      "['This', 'is', 'the', 'end']\n",
      "['C:', 'this', 'is', 'a', 'windows', 'directory']\n",
      "etc/this/is/a/linux/directory\n",
      "This is a list\n",
      "c:\\users\\test\n"
     ]
    }
   ],
   "source": [
    "# Split method --> myStr.split(separator)\n",
    "myString = \"https://google.com\"\n",
    "protocol, domain = myString.split(\"://\")\n",
    "print(f\"{protocol} with {domain}\")\n",
    "\n",
    "myString = \"This is the end\"\n",
    "print(myString.split())\n",
    "\n",
    "myString = \"C:\\\\this\\\\is\\\\a\\\\windows\\\\directory\"\n",
    "print(myString.split(\"\\\\\"))\n",
    "\n",
    "myString = myString.replace(\"C:\", \"etc\")\n",
    "myString = myString.replace(\"windows\", \"linux\")\n",
    "\n",
    "# Join method (joins lists with a given separator) --> separator.join(myStr)\n",
    "splitString = myString.split(\"\\\\\")\n",
    "print(\"/\".join(splitString))\n",
    "print(\" \".join([\"This\", \"is\", \"a\", \"list\"]))\n",
    "\n",
    "\n",
    "path = input('Enter file name: ')\n",
    "\n",
    "newSeparator = input('Enter new separator: ')\n",
    "tokens = path.split('/')\n",
    "print(newSeparator.join(tokens))"
   ]
  },
  {
   "cell_type": "markdown",
   "metadata": {},
   "source": [
    "### Lists (arrays)"
   ]
  },
  {
   "cell_type": "markdown",
   "metadata": {},
   "source": [
    "#### General"
   ]
  },
  {
   "cell_type": "code",
   "execution_count": null,
   "metadata": {},
   "outputs": [],
   "source": [
    "prices = [\"$20\", 19.99, 15]\n",
    "\n",
    "# Prints last value\n",
    "print(prices[-1])\n",
    "\n",
    "# Various methods to change elements\n",
    "prices[-1] = \"Free\"\n",
    "print(prices)\n",
    "prices.pop(2)\n",
    "prices.remove(19.99)\n",
    "prices.append(\"Ta mere hue hue hue\")\n",
    "print(prices)\n",
    "\n",
    "# Misc utils\n",
    "print(\"Occurrences of the string '$20' in prices list:\", prices.count(\"$20\"))\n",
    "numList = [1, 2, 3, 4]\n",
    "print(\"Sum of all elements in numList =\" , sum(numList))\n",
    "\n",
    "# Combine lists\n",
    "prices += numList\n",
    "print(prices)\n",
    "\n",
    "avg_price = (sum(numList)/len(numList))\n",
    "print(avg_price)"
   ]
  },
  {
   "cell_type": "markdown",
   "metadata": {},
   "source": [
    "Convert to List"
   ]
  },
  {
   "cell_type": "code",
   "execution_count": 15,
   "metadata": {},
   "outputs": [],
   "source": [
    "string = \"This is a string\"\n",
    "stringToList = list(string)"
   ]
  },
  {
   "cell_type": "markdown",
   "metadata": {},
   "source": [
    "List Copying and Modification Quirks"
   ]
  },
  {
   "cell_type": "code",
   "execution_count": 28,
   "metadata": {},
   "outputs": [
    {
     "name": "stdout",
     "output_type": "stream",
     "text": [
      "[0, 2, 3, 4] [0, 2, 3, 4]\n",
      "[1, 2, 3, 4] [0, 2, 3, 4]\n",
      "[1, 2, 4]\n"
     ]
    }
   ],
   "source": [
    "# Copy a list by using slice-notation/colons (list[1:4] creates a copy of that part of a given list.)\n",
    "\n",
    "# Not copying the list results in the bug where you have 2 vars pointing at the same spot in memory\n",
    "myList = [1, 2, 3, 4]\n",
    "yourList = myList\n",
    "\n",
    "# Changes the referenced list\n",
    "yourList[0] = 0\n",
    "\n",
    "# Prints two different names for the same thing.\n",
    "print(myList, yourList)\n",
    "\n",
    "myList = [1, 2, 3, 4]\n",
    "\n",
    "# Copies the entire list\n",
    "yourList = myList[:]\n",
    "\n",
    "# Changes a list\n",
    "yourList[0] = 0\n",
    "\n",
    "# Prints different lists, not the same bits in memory\n",
    "print(myList, yourList)\n",
    "\n",
    "# Deleting elements must be done as follows:\n",
    "del myList[2]\n",
    "print(myList)\n",
    "\n",
    "\n",
    "del myList, yourList"
   ]
  },
  {
   "cell_type": "markdown",
   "metadata": {},
   "source": [
    "#### Methods, etc"
   ]
  },
  {
   "cell_type": "markdown",
   "metadata": {},
   "source": [
    "##### Methods"
   ]
  },
  {
   "cell_type": "code",
   "execution_count": 22,
   "metadata": {},
   "outputs": [
    {
     "name": "stdout",
     "output_type": "stream",
     "text": [
      "Append: [1, 2, 3, 4, 5, 6]\n",
      "Extend: [1, 2, 3, 4, 5, 6, 7, 8]\n",
      "Insert: [['a', 'b', 'c', 'd', 'e'], 1, 2, 3, 4, 5, 6, 7, 8]\n",
      "8 ['a', 'b', 'c', 'd', 'e']\n",
      "[7, 6, 5, 4, 3, 2]\n",
      "[2, 3, 4, 5, 6, 7]\n",
      "1\n",
      "5\n"
     ]
    }
   ],
   "source": [
    "list1 = [1, 2, 3, 4, 5]\n",
    "list2 = ['a', 'b', 'c', 'd', 'e']\n",
    "\n",
    "# Append --> list.append(x) - slaps x on the end.\n",
    "list1.append(6)\n",
    "print(\"Append:\", list1)\n",
    "\n",
    "# Extend --> list.extend([x]) - put all items in list [x] into given list\n",
    "list1.extend([7, 8])\n",
    "print(\"Extend:\", list1)\n",
    "\n",
    "# Insert --> list.insert(i, x) - put x BEFORE position i\n",
    "list1.insert(0, list2)\n",
    "print(\"Insert:\", list1)\n",
    "\n",
    "# Remove --> list.remove(x) - removes value x from list\n",
    "list1.remove(1)\n",
    "\n",
    "# Pop --> list.pop() OR list.pop(i) - removes and returns the last item in the list OR \" \" with the item at i\n",
    "popped1 = list1.pop()\n",
    "popped2 = list1.pop(0)\n",
    "print(popped1, popped2)\n",
    "\n",
    "# Reverse\n",
    "list1.reverse()\n",
    "print(list1)\n",
    "\n",
    "# Sort\n",
    "list1.sort()\n",
    "print(list1)\n",
    "\n",
    "# Index --> list.index(x) - returns index of value x\n",
    "print(list2.index('b'))\n",
    "\n",
    "# Count --> list.count(x) - returns count of value x (increments with each occurrence)\n",
    "print(['b', 'b', 'b', 'b', 'b'].count('b'))\n",
    "\n",
    "del list1, list2\n"
   ]
  },
  {
   "cell_type": "markdown",
   "metadata": {},
   "source": [
    "##### Built in Functions"
   ]
  },
  {
   "cell_type": "code",
   "execution_count": 30,
   "metadata": {},
   "outputs": [
    {
     "name": "stdout",
     "output_type": "stream",
     "text": [
      "0: [1, 2, 3]\n",
      "1: 2\n",
      "2: 3\n",
      "3: 4\n",
      "True\n",
      "False\n",
      "4\n",
      "2\n",
      "9\n"
     ]
    }
   ],
   "source": [
    "list1 = [[1, 2, 3], 2, 3, 4]\n",
    "\n",
    "# Enumerate --> enumerate(list) - Tracks an iterating number and the list value\n",
    "for pos, token in enumerate(list1):\n",
    "    print(f\"{pos}: {token}\")\n",
    "\n",
    "# All --> all(list) - returns True if all elements in array are True (!= 0) and the list isn't empty.\n",
    "print(all(list1))\n",
    "\n",
    "# Any --> any(list) - returns True if any element is True. If no elements are, then you get False.\n",
    "print(any([0, False]))\n",
    "\n",
    "\n",
    "list1.pop(0)    # removing so there are no errors in the next few functions\n",
    "\n",
    "# Max --> max(list)\n",
    "print(max(list1))\n",
    "\n",
    "# Min --> min(list)\n",
    "print(min(list1))\n",
    "\n",
    "# Sum --> sum(list)\n",
    "print(sum(list1))\n",
    "\n",
    "del list1"
   ]
  },
  {
   "cell_type": "code",
   "execution_count": 36,
   "metadata": {},
   "outputs": [
    {
     "name": "stdout",
     "output_type": "stream",
     "text": [
      "Lebron James: Statistics for 2003/2004 - 2012/2013\n",
      "==================================================\n",
      "Total points: 21081\n",
      "Average Points per Game: 2108.1\n",
      "Best scoring season: 2005/2006\n",
      "Worst scoring season: 2003/2004\n"
     ]
    }
   ],
   "source": [
    "\n",
    "#Lebron James: Statistics for 2003/2004 - 2012/2013\n",
    "gamesPlayed = [79, 80, 79, 78, 75, 81, 76, 79, 62, 76]\n",
    "points = [1654, 2175, 2478, 2132, 2250, 2304, 2258, 2111, 1683, 2036]\n",
    "assists = [460, 636, 814, 701, 771, 762, 773, 663, 502, 535]\n",
    "rebounds = [432, 588, 556, 526, 592, 613, 554, 590, 492, 610]\n",
    "\n",
    "print(\"Lebron James: Statistics for 2003/2004 - 2012/2013\")\n",
    "print(\"=\" * 50)\n",
    "\n",
    "# Print total points\n",
    "print(\"Total points:\", sum(points))\n",
    "\n",
    "# Print Average PPG\n",
    "print(\"Average Points per Game:\", sum(points) / len(gamesPlayed))\n",
    "\n",
    "# Print best scoring years (Ex: 2004/2005)\n",
    "bestMinYear = points.index((max(points))) + 2003\n",
    "print(f\"Best scoring season: {bestMinYear}/{bestMinYear+1}\")\n",
    "\n",
    "# Print worst scoring years (Ex: 2004/2005)\n",
    "worstMinYear = points.index((min(points))) + 2003\n",
    "print(f\"Worst scoring season: {worstMinYear}/{worstMinYear+1}\")"
   ]
  },
  {
   "cell_type": "code",
   "execution_count": 37,
   "metadata": {},
   "outputs": [
    {
     "name": "stdout",
     "output_type": "stream",
     "text": [
      "user_guesses: [1]\n"
     ]
    }
   ],
   "source": [
    "num_guesses = int(input())\n",
    "user_guesses = []\n",
    "\n",
    "for i in range(num_guesses):\n",
    "    user_guesses.append(int(input()))\n",
    "\n",
    "print('user_guesses:', user_guesses)"
   ]
  },
  {
   "cell_type": "code",
   "execution_count": 40,
   "metadata": {},
   "outputs": [
    {
     "name": "stdout",
     "output_type": "stream",
     "text": [
      "12 -> 112 -> 321 -> 42 -> 42 \n"
     ]
    }
   ],
   "source": [
    "user_input = input()\n",
    "hourly_temperature = user_input.split()\n",
    "\n",
    "result = \"\"\n",
    "for temp in hourly_temperature:\n",
    "    result += temp + \" \"\n",
    "    if temp is not hourly_temperature[-1]:\n",
    "        result += \"-> \"\n",
    "    \n",
    "print(result)"
   ]
  },
  {
   "cell_type": "markdown",
   "metadata": {},
   "source": [
    "#### Nesting"
   ]
  },
  {
   "cell_type": "code",
   "execution_count": 64,
   "metadata": {},
   "outputs": [
    {
     "name": "stdout",
     "output_type": "stream",
     "text": [
      "Accessing single elements: 1\n",
      "Displaying all contents: 1 2 3 4 5 6 7 8 9 \n",
      "Last item: 9\n",
      "Distance: 960 miles\n"
     ]
    }
   ],
   "source": [
    "nest = [\n",
    "    [1, 2], \n",
    "    [3, 4, 5], \n",
    "    [6, 7, 8, 9]\n",
    "]\n",
    "print(\"Accessing single elements:\", nest[0][0])\n",
    "\n",
    "print(\"Displaying all contents:\", end=\" \")\n",
    "for i in nest:\n",
    "    for j in i:\n",
    "        print(j, end=\" \")\n",
    "\n",
    "print()\n",
    "\n",
    "print(\"Last item:\", nest[-1][-1])\n",
    "\n",
    "# direct driving distances between cities, in miles\n",
    "# 0: Boston    1: Chicago    2: Los Angeles\n",
    "\n",
    "distances = [\n",
    "    [\n",
    "        0,  \n",
    "        960,  # Boston-Chicago\n",
    "        2960 # Boston-Los Angeles\n",
    "    ],\n",
    "    [\n",
    "        960,  # Chicago-Boston\n",
    "        0,\n",
    "        2011  # Chicago-Los Angeles\n",
    "    ],\n",
    "    [\n",
    "        2960,  # Los Angeles-Boston\n",
    "        2011,  # Los-Angeles-Chicago\n",
    "        0\n",
    "    ]\n",
    "]\n",
    "\n",
    "user_input = input('Enter city pair (Ex: 1 2) -- ').strip()\n",
    "city1, city2 = user_input.split()\n",
    "\n",
    "print('Distance: {} miles'.format(distances[int(city1)][int(city2)]))\n"
   ]
  },
  {
   "cell_type": "code",
   "execution_count": 73,
   "metadata": {},
   "outputs": [
    {
     "name": "stdout",
     "output_type": "stream",
     "text": [
      "1 | 2 | 3\n",
      "2 | 4 | 6\n",
      "3 | 6 | 9\n"
     ]
    }
   ],
   "source": [
    "user_input= \"1 2 3,2 4 6,3 6 9\" #input()\n",
    "lines = user_input.split(',')\n",
    "\n",
    "# This line uses a construct called a list comprehension, introduced elsewhere,\n",
    "# to convert the input string into a two-dimensional list.\n",
    "# Ex: 1 2, 2 4 is converted to [ [1, 2], [2, 4] ]\n",
    "\n",
    "mult_table = [[int(num) for num in line.split()] for line in lines]\n",
    "\n",
    "\n",
    "for block in mult_table:\n",
    "    result = \"\"\n",
    "    for item in block:\n",
    "        result += str(item)\n",
    "        if item is not block[-1]:\n",
    "            result += \" | \"\n",
    "        \n",
    "    print(result)\n"
   ]
  },
  {
   "cell_type": "markdown",
   "metadata": {},
   "source": [
    "#### Slicing up Lists"
   ]
  },
  {
   "cell_type": "code",
   "execution_count": 86,
   "metadata": {},
   "outputs": [
    {
     "name": "stdout",
     "output_type": "stream",
     "text": [
      "[0, 1, 2, 3, 4, 5, 6, 7, 8, 9]\n",
      "[0, 1, 2]\n",
      "[4, 5, 6]\n",
      "[0, 2, 4, 6, 8]\n",
      "[]\n",
      "[4, 5, 6, 7]\n"
     ]
    }
   ],
   "source": [
    "myList = [0, 1, 2, 3, 4, 5, 6, 7, 8, 9]\n",
    "\n",
    "# Kinda like strings!\n",
    "print(myList[:])\n",
    "print(myList[:3])\n",
    "print(myList[4:-3])\n",
    "print(myList[0:100:2])\n",
    "print(myList[4:2])\n",
    "print(myList[-6:-2])\n"
   ]
  },
  {
   "cell_type": "markdown",
   "metadata": {},
   "source": [
    "#### Using Loops to Modify"
   ]
  },
  {
   "cell_type": "code",
   "execution_count": 4,
   "metadata": {},
   "outputs": [
    {
     "name": "stdout",
     "output_type": "stream",
     "text": [
      "[1, 2, 3, 4, -5]\n",
      "[1, 2, 3, 4, 0]\n"
     ]
    }
   ],
   "source": [
    "# Changing elements\n",
    "def convertNegToZero(inputList):\n",
    "    for pos, token in enumerate(inputList): # This could also just be \"for i in range(len(inputList))\" \n",
    "        if token < 0:                       # and you would just use \"inputList[i]\" instead of \"token\"\n",
    "\n",
    "            # Modify at the according index, not the token/loop var!\n",
    "            inputList[pos] = 0\n",
    "\n",
    "list1 = [1, 2, 3, 4, -5]\n",
    "print(list1)\n",
    "\n",
    "convertNegToZero(list1)\n",
    "print(list1)"
   ]
  },
  {
   "cell_type": "code",
   "execution_count": 12,
   "metadata": {},
   "outputs": [
    {
     "name": "stdout",
     "output_type": "stream",
     "text": [
      "3\n",
      "6\n",
      "9\n"
     ]
    }
   ],
   "source": [
    "list1 = [3, 6, 9]\n",
    "\n",
    "# Printing out loops\n",
    "for i in range(len(list1)):\n",
    "    print(list1[i])\n",
    "\n",
    "del list1"
   ]
  },
  {
   "cell_type": "markdown",
   "metadata": {},
   "source": [
    "**Good rule of thumb:** DO NOT REMOVE OR APPEND ITEMS WHILE LOOPING AS IT WILL LIKELY NOT WORK AS EXPECTED"
   ]
  },
  {
   "cell_type": "markdown",
   "metadata": {},
   "source": [
    "**Another good rule of thumb:** Copy lists if you are making modifications (usually best to do). Iterate over the original and modify the copy"
   ]
  },
  {
   "cell_type": "code",
   "execution_count": 30,
   "metadata": {},
   "outputs": [
    {
     "name": "stdout",
     "output_type": "stream",
     "text": [
      "This would be infinitely long without a forced stopper:\n",
      " [3, 6, 9, 2, 2, 2, 2, 2, 2, 2, 2, 2, 2, 2]\n",
      "Using a copy: [3, 6, 9, 2, 2, 2]\n",
      "Using range(len(list)): [3, 6, 9, 2, 2, 2]\n"
     ]
    }
   ],
   "source": [
    "list1 = [3, 6, 9]\n",
    "\n",
    "for i, j in enumerate(list1):\n",
    "    list1.append(2)\n",
    "    if i == 10:\n",
    "        break\n",
    "\n",
    "print(\"This would be infinitely long without a forced stopper:\\n\", list1)\n",
    "\n",
    "# This is a good workaround\n",
    "list1 = [3, 6, 9]\n",
    "list2 = list1[:]\n",
    "for i, j in enumerate(list1):\n",
    "    list2.append(2)\n",
    "\n",
    "print(\"Using a copy:\", list2)\n",
    "\n",
    "del list2\n",
    "\n",
    "# If you really need to do it without making a copy, just do this\n",
    "for i in range(len(list1)):\n",
    "    list1.append(2)\n",
    "\n",
    "print(\"Using range(len(list)):\", list1)\n",
    "\n",
    "del list1"
   ]
  },
  {
   "cell_type": "markdown",
   "metadata": {},
   "source": [
    "#### List Comprehensions"
   ]
  },
  {
   "cell_type": "code",
   "execution_count": 58,
   "metadata": {},
   "outputs": [
    {
     "name": "stdout",
     "output_type": "stream",
     "text": [
      "['Do', 'you', 'ever', 'feel', 'like', 'a', 'plastic', 'bag?']\n",
      "['oD', 'uoy', 'reve', 'leef', 'ekil', 'a', 'citsalp', '?gab']\n",
      "['1', '2', '3', '4', '5']\n",
      "[420, 69, 123, 555]\n",
      "[10, 26, 42]\n",
      "10\n"
     ]
    }
   ],
   "source": [
    "# Here we go bein' all Pythonic\n",
    "# Syntax: listComp = [expression for loopVarName in iterable]\n",
    "def reverseStr(string):\n",
    "    result = \"\"\n",
    "    for c in string:\n",
    "        result = c + result\n",
    "    return result\n",
    "\n",
    "\n",
    "myList = \"Do you ever feel like a plastic bag?\".split()\n",
    "print(myList)\n",
    "\n",
    "reverseListElement = [reverseStr(i) for i in myList]\n",
    "print(reverseListElement)\n",
    "\n",
    "# Converting each element to a string\n",
    "numList = [1, 2, 3, 4, 5]\n",
    "numList = [str(i) for i in numList]\n",
    "print(numList)\n",
    "\n",
    "# Convert user input into int list\n",
    "inp = \"420 69 123 555\"  #input(\"Enter numbers separated by spaces:\")\n",
    "numList = [int(i) for i in inp.split()]\n",
    "print(numList)\n",
    "\n",
    "del numList\n",
    "# Get sum of each row in 2D list\n",
    "myList = [[1, 2, 3, 4], [5, 6, 7, 8], [9, 10, 11, 12]]\n",
    "listSum = [sum(row) for row in myList]\n",
    "print(listSum)\n",
    "\n",
    "# Get smallest row in 2D list\n",
    "minRow = min([sum(row) for row in myList])  # Redundant for the sake of clarity\n",
    "print(minRow)"
   ]
  },
  {
   "cell_type": "code",
   "execution_count": 61,
   "metadata": {},
   "outputs": [
    {
     "name": "stdout",
     "output_type": "stream",
     "text": [
      "[1, 2, 3, 5341, 6, 4526, 5, 4312]\n",
      "Evens: [2, 6, 4526, 4312]\n"
     ]
    }
   ],
   "source": [
    "# CONDITIONAL LIST COMPS\n",
    "# Syntax: myList = [expression for loopVarName in iterable if condition]\n",
    "numbers = [int(i) for i in input(\"Enter numbers:\").split()]\n",
    "print(numbers)\n",
    "\n",
    "evenNumbers = [i for i in numbers if i % 2 == 0]\n",
    "print(\"Evens:\", evenNumbers)\n",
    "\n"
   ]
  },
  {
   "cell_type": "markdown",
   "metadata": {},
   "source": [
    "#### Sorting Lists"
   ]
  },
  {
   "cell_type": "code",
   "execution_count": 162,
   "metadata": {},
   "outputs": [
    {
     "name": "stdout",
     "output_type": "stream",
     "text": [
      "[0, 2, 3, 8, 15, 49, 70, 79, 81, 82]\n",
      "\n",
      "These are the greatest books of the decade (in no particular order):\n",
      "Flat Stanley: Flatter than a Hatter\n",
      "Gloopsblumps\n",
      "Harry Potter 2: Electric Boogaloo\n",
      "Uh Oh, Not Again! and Other Stories\n"
     ]
    }
   ],
   "source": [
    "# You can use .sort() --> does in-place modification\n",
    "import random\n",
    "randList = [random.randint(0, 99) for i in range(10)]\n",
    "randList.sort()\n",
    "print(randList)\n",
    "\n",
    "bookList = [\"Harry Potter 2: Electric Boogaloo\",\"Gloopsblumps\",\"Uh Oh, Not Again! and Other Stories\",\"Flat Stanley: Flatter than a Hatter\"]\n",
    "bookList.sort()\n",
    "\n",
    "print(\"\\nThese are the greatest books of the decade (in no particular order):\")\n",
    "for b in bookList:\n",
    "    print(b)\n",
    "\n",
    "# You can reverse it!\n",
    "bookList.sort(reverse=True)\n",
    "\n",
    "# You can also use keys (see below for more details)\n",
    "bookList.sort(key=str.upper)\n",
    "\n",
    "del bookList, randList"
   ]
  },
  {
   "cell_type": "code",
   "execution_count": 158,
   "metadata": {},
   "outputs": [
    {
     "name": "stdout",
     "output_type": "stream",
     "text": [
      "[23, 16, 2, 34, 44, 81, 75, 23, 28, 81] --> [2, 16, 23, 23, 28, 34, 44, 75, 81, 81]\n",
      "Incorrectly sorted: ['BIRDIE', 'SaM', 'ethan']\n",
      "Correctly sorted: ['BIRDIE', 'ethan', 'SaM']\n",
      "[[1, 23], [4, 56], [7, 89, 0]]\n",
      "[[7, 89, 0], [4, 56], [1, 23]]\n"
     ]
    }
   ],
   "source": [
    "# You can use sorted() --> returns a new list\n",
    "randList = [random.randint(0, 99) for i in range(10)]\n",
    "newList = sorted(randList)\n",
    "print(randList, \"-->\", newList)\n",
    "\n",
    "# There is a \"key\" argument for the sorted method which allows you to apply a function to everything before sorting.\n",
    "# For example, making everything uniform with str.lower, str.upper, or str.capitalize\n",
    "names = [\"ethan\", \"SaM\", \"BIRDIE\"]\n",
    "print(\"Incorrectly sorted:\", sorted(names))\n",
    "print(\"Correctly sorted:\", sorted(names, key=str.lower))\n",
    "\n",
    "del newList, names, randList\n",
    "\n",
    "numList = [[7, 89, 0], [4, 56], [1, 23]]\n",
    "print(sorted(numList, key=max)) # not sure if this does anything or how to use it\n",
    "\n",
    "#There is also a reverse argument!\n",
    "print(sorted(numList, reverse=True))\n",
    "del numList"
   ]
  },
  {
   "cell_type": "markdown",
   "metadata": {},
   "source": [
    "### Tuples"
   ]
  },
  {
   "cell_type": "markdown",
   "metadata": {},
   "source": [
    "Tuples are immutable lists. Typically that are surrounded by parens instead of brackets."
   ]
  },
  {
   "cell_type": "code",
   "execution_count": 43,
   "metadata": {},
   "outputs": [
    {
     "name": "stdout",
     "output_type": "stream",
     "text": [
      "<class 'tuple'> ... Last element is 456\n"
     ]
    }
   ],
   "source": [
    "# Best for when you don't want anything to change (element position included)\n",
    "prices = (123, 456)\n",
    "print(type(prices), \"... Last element is\", prices[-1])\n"
   ]
  },
  {
   "cell_type": "markdown",
   "metadata": {},
   "source": [
    "There are also *named tuples*. Real cool data structure."
   ]
  },
  {
   "cell_type": "code",
   "execution_count": null,
   "metadata": {},
   "outputs": [],
   "source": [
    "from collections import namedtuple\n",
    "\n",
    "Car = namedtuple(\"Car\", [\"make\", \"model\", \"price\"])\n",
    "subaruOutback = Car(\"Subaru\", \"Outback\", 26000)\n",
    "print(subaruOutback, subaruOutback.model, \"$\" + str(subaruOutback[2]))\n",
    "\n",
    "Dog = namedtuple('Dog', ['name', 'breed', 'color'])\n",
    "birdie = Dog(\"Birdie\", \"Shupsky\", \"Black\")\n",
    "print(birdie)"
   ]
  },
  {
   "cell_type": "markdown",
   "metadata": {},
   "source": [
    "### Sets"
   ]
  },
  {
   "cell_type": "markdown",
   "metadata": {},
   "source": [
    "A set is an unordered collection of unique elements. Sets have the following properties:\n",
    "- Elements are unordered: Elements in the set do not have a position or index.\n",
    "- Elements are unique: No elements in the set share the same value.\n",
    "- They are always created by using curly braces instead of parens or bracks"
   ]
  },
  {
   "cell_type": "code",
   "execution_count": null,
   "metadata": {},
   "outputs": [],
   "source": [
    "# Searching around for items in sets is SUPER fast compared to a list.\n",
    "# Create a set using the set() function.\n",
    "myList = [1, 1, 3, 2, 5, 4, 1, 1, 1, 2, 4, 5, 2, 3]\n",
    "nums1 = set(myList)\n",
    "mix1 = set([\"string\", \"str\", \"s\", 1, 2])\n",
    "chars1 = set(['c', 'n', 'f', '='])\n",
    "\n",
    "# Create a set using a set literal.\n",
    "nums3 = {7, 8, 3, 6, 9}\n",
    "\n",
    "# Print the contents of the sets. Duplicates will not print\n",
    "print(nums1)\n",
    "print(mix1)\n",
    "print(nums3)\n",
    "\n",
    "# Like in JS, this is also a thing.\n",
    "poppedElement = nums1.pop()  # apparently removes a random element (according to zyBooks)?\n",
    "del poppedElement\n",
    "\n",
    "nums1.add(\"rekt\")\n",
    "nums1.remove(2)\n",
    "print(nums1)\n",
    "\n",
    "# Add elements from one set to another\n",
    "nums1.update(mix1)\n",
    "nums1.add(\"stringy-dingy\")\n",
    "print(nums1, len(nums1))\n",
    "\n",
    "# Set operations\n",
    "print(\"New (sorted) set of many combined sets:\", set.union(nums1, chars1))\n",
    "print(\"Diffs:\", set.difference(nums1, set(myList)))\n",
    "print(\"All common elements:\", set.intersection(nums1, set(myList)))\n",
    "print(\"A set with totally unique items between both:\", nums1.symmetric_difference(mix1))\n",
    "\n",
    "del nums1, mix1, myList, chars1"
   ]
  },
  {
   "cell_type": "markdown",
   "metadata": {},
   "source": [
    "### Dictionaries"
   ]
  },
  {
   "cell_type": "markdown",
   "metadata": {},
   "source": [
    "#### General"
   ]
  },
  {
   "cell_type": "code",
   "execution_count": null,
   "metadata": {},
   "outputs": [],
   "source": [
    "scores = {\n",
    "    'Bernie': 78,\n",
    "    'Eduardo': 93,\n",
    "    'Jillian': 80,\n",
    "    'Bernice': 50,\n",
    "}\n",
    "\n",
    "# ordering is maintained but the dicts are accessed with keys\n",
    "print(\"Bernie's score:\", scores['Bernie'])\n",
    "\n",
    "# adding or replacing new key-value pairs is super easy.\n",
    "scores[\"Gertrude\"] = 88\n",
    "scores[\"Jillian\"] = 81\n",
    "print(scores)\n",
    "\n",
    "# so is removing elements\n",
    "del scores[\"Bernice\"], scores[\"Eduardo\"]\n",
    "print(scores)\n"
   ]
  },
  {
   "cell_type": "markdown",
   "metadata": {},
   "source": [
    "There are three ways to make dictionaries:\n",
    "* Wrapping a key/value pair in braces. \n",
    "    * `dict = {\"key\": \"value\", \"anotherkey\": \"value\"}`\n",
    "* With a dictionary comprehension (sorta like list comps).\n",
    "    * Apparently we aren't good enough to learn from zyBooks.\n",
    "* Using the `dict()` function. Created using tuple pairs, lists, etc. (see below).\n",
    "    * dict(Tommy=\"867-5309\", Tomi=\"903-5768\")    \n",
    "    * dict( [ (Tommy,\"867-5309\"), (Tomi,\"903-5768\") ] )\n"
   ]
  },
  {
   "cell_type": "code",
   "execution_count": 118,
   "metadata": {},
   "outputs": [
    {
     "name": "stdout",
     "output_type": "stream",
     "text": [
      "{'key': 'value', 'anotherkey': 'value'}\n",
      "{'key': 'value', 'anotherKey': 'value'}\n",
      "{'key': 'value', 'anotherKey': 'value'}\n",
      "There's a key in myDict!\n",
      "value {'key': 'new value', 'anotherKey': 'value'}\n"
     ]
    }
   ],
   "source": [
    "myDict = {\"key\": \"value\", \"anotherkey\": \"value\"}\n",
    "print(myDict)\n",
    "\n",
    "myDict = dict(key=\"value\", anotherKey=\"value\")\n",
    "print(myDict)\n",
    "\n",
    "myDict = dict([(\"key\", \"value\"), (\"anotherKey\", \"value\")])\n",
    "print(myDict)\n",
    "\n",
    "if \"key\" in myDict:\n",
    "    print(\"There's a key in myDict!\")\n",
    "\n",
    "# Review\n",
    "val = myDict[\"key\"]\n",
    "\n",
    "myDict[\"key\"] = \"new value\"\n",
    "\n",
    "print(val, myDict)"
   ]
  },
  {
   "cell_type": "code",
   "execution_count": 34,
   "metadata": {},
   "outputs": [
    {
     "name": "stdout",
     "output_type": "stream",
     "text": [
      "fdafda was not found.\n",
      "fdakfdoa was not found.\n",
      "Unrecognized command.\n",
      "Unrecognized command.\n",
      "Unrecognized command.\n",
      "Unrecognized command.\n",
      "Unrecognized command.\n",
      "Unrecognized command.\n",
      "Unrecognized command.\n",
      "Unrecognized command.\n",
      "Unrecognized command.\n",
      "Unrecognized command.\n",
      "Unrecognized command.\n"
     ]
    }
   ],
   "source": [
    "\n",
    "studentGrades = {}  # Create an empty dict\n",
    "grade_prompt = \"Enter name and grade (Ex. 'Bob A+'):\"\n",
    "del_prompt = \"Enter a name to remove (Ex. 'Jennifer':\"\n",
    "menu_prompt = (\"1. Add/modify student grade\\n\"\n",
    "               \"2. Delete student grade\\n\"\n",
    "               \"3. Print student grades\\n\"\n",
    "               \"4. Quit\\n\")\n",
    "\n",
    "while True:  # Exit when user enters no input\n",
    "    command = input(menu_prompt).lower().strip()\n",
    "    if command == '1':\n",
    "        name, grade = input(grade_prompt).split()\n",
    "        studentGrades[name] = grade\n",
    "    elif command == '2':\n",
    "        name = input(del_prompt)\n",
    "        if name in studentGrades:\n",
    "            del studentGrades[name]\n",
    "        else:\n",
    "            print(f\"{name} was not found.\")\n",
    "    elif command == '3':\n",
    "        print(studentGrades)\n",
    "    elif command == '4':\n",
    "        break\n",
    "    else:\n",
    "        print('Unrecognized command.')\n"
   ]
  },
  {
   "cell_type": "markdown",
   "metadata": {},
   "source": [
    "#### Methods"
   ]
  },
  {
   "cell_type": "code",
   "execution_count": 53,
   "metadata": {},
   "outputs": [
    {
     "name": "stdout",
     "output_type": "stream",
     "text": [
      "Sam scored a 100!\n",
      "Birdie scored a 100!\n",
      "Ethan scored a 59!\n",
      "George scored a 78!\n",
      "\n",
      "Looks like the new tests were just graded!\n",
      "Bob scored a NO SCORE!\n",
      "Ethan scored a 57!\n",
      "Sam scored a 98!\n",
      "Birdie scored a 101!\n",
      "Gertrude scored a 91!\n",
      "\n",
      "Ethan needs to be removed from this class and placed into remedial training.\n",
      "Them is gone...\n"
     ]
    }
   ],
   "source": [
    "scores = {\n",
    "    0: None\n",
    "}\n",
    "\n",
    "# Clear --> myDict.clear() - Removes all items.\n",
    "scores.clear()\n",
    "\n",
    "scores = {\n",
    "    \"Sam\": 100,\n",
    "    \"Birdie\": 100,\n",
    "    \"Ethan\": 59,\n",
    "    \"George\": 78\n",
    "}\n",
    "\n",
    "# Get  --> myDict.get(key, default) - Reads value from key in dict. Returns default if key not found.\n",
    "for name in scores:\n",
    "    print(f\"{name} scored a {scores.get(name)}!\")\n",
    "\n",
    "# Update --> myDict1.update(myDict2) - Merges dictionaries. Similar keys that exist in both will be overwritten to whatever myDict2 has.\n",
    "newScores = {\n",
    "    \"Sam\": 98,\n",
    "    \"Birdie\": 101,\n",
    "    \"Ethan\": 57,\n",
    "    \"Gertrude\": 91\n",
    "}\n",
    "scores.update(newScores)\n",
    "\n",
    "nameList = [\"Bob\", \"Ethan\", \"Sam\", \"Birdie\", \"Gertrude\"]\n",
    "print(\"\\nLooks like the new tests were just graded!\")\n",
    "for name in nameList:\n",
    "    print(f\"{name} scored a {scores.get(name, 'NO SCORE')}!\")   # Using default values to show a use-case\n",
    "\n",
    "# Pop --> myDict.pop(key, default) - Removes the given key from the dict. Returns the default value if it is not found.\n",
    "print(\"\\nEthan needs to be removed from this class and placed into remedial training.\")\n",
    "scores.pop(\"Ethan\")\n",
    "\n",
    "doubleCheck = scores.pop(\"Ethan\", \"Them is gone...\")    # Using default value just b/c\n",
    "print(doubleCheck)\n",
    "\n",
    "del doubleCheck, scores, nameList, newScores\n"
   ]
  },
  {
   "cell_type": "code",
   "execution_count": 204,
   "metadata": {},
   "outputs": [
    {
     "name": "stdout",
     "output_type": "stream",
     "text": [
      "Highest scoring student is Tricia with a grade of 94.8%\n",
      "Here is the average score for each assignment: [82.8, 81.8, 86.0, 70.6, 80.4]\n",
      "FIXME: Create function curveScores()\n"
     ]
    }
   ],
   "source": [
    "def main():\n",
    "    # studentGrades contains scores (out of 100) for 5 assignments\n",
    "    studentGrades = {\n",
    "        'Andrew': [56, 79, 90, 22, 50],\n",
    "        'Nisreen': [88, 62, 68, 75, 78],\n",
    "        'Alan': [95, 88, 92, 85, 85],\n",
    "        'Chang': [76, 88, 85, 82, 90],\n",
    "        'Tricia': [99, 92, 95, 89, 99]\n",
    "    }\n",
    "\n",
    "    bestStudent = getHighestScore(studentGrades)\n",
    "    print(\n",
    "        f\"Highest scoring student is {bestStudent[0]} with a grade of {bestStudent[1]}%\")\n",
    "\n",
    "    avgAssignmentScores = getAvgAssignmentScores(studentGrades)\n",
    "    print(\"Here is the average score for each assignment:\", avgAssignmentScores)\n",
    "\n",
    "    curvedScores = curveScores(studentGrades)\n",
    "    print(curvedScores)\n",
    "\n",
    "\n",
    "def getHighestScore(scoreDict):\n",
    "    items = scoreDict.items()\n",
    "    highestTotal = (None, 0)\n",
    "\n",
    "    # Determining the highest scoring student\n",
    "    for name, score in items:\n",
    "        if sum(score) > highestTotal[1]:\n",
    "            highestTotal = (name, sum(score))\n",
    "\n",
    "    # Returns a tuple in the format of (name, average score)\n",
    "    return (highestTotal[0], highestTotal[1] / len(score))\n",
    "\n",
    "\n",
    "def getAvgAssignmentScores(scoreDict):\n",
    "    values = list(scoreDict.values())\n",
    "\n",
    "    # List to hold averages\n",
    "    totalScores = [0 for i in range(len(values[0]))]\n",
    "\n",
    "    for outerList in values:\n",
    "        for innerIndex, innerValue in enumerate(outerList):\n",
    "            totalScores[innerIndex] += innerValue\n",
    "\n",
    "    avgScores = [(score / len(totalScores)) for score in totalScores]\n",
    "\n",
    "    return avgScores\n",
    "\n",
    "\n",
    "def curveScores(scoreDict):\n",
    "    return \"FIXME: Create function curveScores()\"\n",
    "\n",
    "\n",
    "if __name__ == \"__main__\":\n",
    "    main()\n"
   ]
  },
  {
   "cell_type": "markdown",
   "metadata": {},
   "source": [
    "#### Iteration"
   ]
  },
  {
   "cell_type": "markdown",
   "metadata": {},
   "source": [
    "##### Methods"
   ]
  },
  {
   "cell_type": "code",
   "execution_count": 116,
   "metadata": {},
   "outputs": [
    {
     "name": "stdout",
     "output_type": "stream",
     "text": [
      "Sam: 100\n",
      "Birdie: 100\n",
      "Ethan: 59\n",
      "George: 78\n",
      "Gertrude: 23\n",
      "\n",
      "Sam: 100\n",
      "Birdie: 100\n",
      "Ethan: 59\n",
      "George: 78\n",
      "Gertrude: 23\n",
      "\n",
      "Check out all of the students ['Sam', 'Birdie', 'Ethan', 'George', 'Gertrude']\n",
      "Average score: 72.0\n"
     ]
    }
   ],
   "source": [
    "scores = {\n",
    "    \"Sam\": 100,\n",
    "    \"Birdie\": 100,\n",
    "    \"Ethan\": 59,\n",
    "    \"George\": 78,\n",
    "    \"Gertrude\": 23\n",
    "}\n",
    "\n",
    "for s in scores:\n",
    "    print(f\"{s}: {scores[s]}\")\n",
    "\n",
    "print()\n",
    "\n",
    "# All of these return \"view objects\" that are generated for each iteration as needed. \n",
    "# They do not get stored in a list and they cannot be indexed\n",
    "\n",
    "# Items method (returns tuples of (key, value))\n",
    "items = scores.items()\n",
    "for name, score in items:\n",
    "    print(f\"{name}: {score}\")\n",
    "\n",
    "print()\n",
    "\n",
    "# Keys method\n",
    "keys = scores.keys()\n",
    "studentList = []\n",
    "for k in keys:\n",
    "    studentList.append(k)\n",
    "print(\"Check out all of the students\", studentList)\n",
    "\n",
    "# Values method\n",
    "values = list(scores.values())  # Casting to list allows for accessing each item by index\n",
    "\n",
    "print(\"Average score:\", sum(values) / len(values))  # You can also use the sum() function since it's a list now.\n"
   ]
  },
  {
   "cell_type": "code",
   "execution_count": 4,
   "metadata": {},
   "outputs": [
    {
     "name": "stdout",
     "output_type": "stream",
     "text": [
      "China has 1365830000 people.\n",
      "India has 1247220000 people.\n",
      "United States has 318463000 people.\n",
      "Indonesia has 252164800 people.\n"
     ]
    }
   ],
   "source": [
    "user_input = 'China:1365830000,India:1247220000,United States:318463000,Indonesia:252164800'\n",
    "entries = user_input.split(',')\n",
    "country_pop = {}\n",
    "\n",
    "for pair in entries:\n",
    "    split_pair = pair.split(':')\n",
    "    country_pop[split_pair[0]] = split_pair[1]\n",
    "    # country_pop is a dictionary, Ex: { 'Germany':'82790000', 'France':'67190000' }\n",
    "\n",
    "for country, pop in country_pop.items():\n",
    "    print(country, 'has', pop, 'people.')"
   ]
  },
  {
   "cell_type": "markdown",
   "metadata": {},
   "source": [
    "#### Nesting"
   ]
  },
  {
   "cell_type": "code",
   "execution_count": 14,
   "metadata": {},
   "outputs": [
    {
     "name": "stdout",
     "output_type": "stream",
     "text": [
      "All midterm scores: {'John Ponting': 85, 'Jacques Kallis': 87, 'Ricky Bobby': 40}\n"
     ]
    }
   ],
   "source": [
    "# Yo, I heard you like dictionaries, so I put a dictionary in your dictionary.\n",
    "\n",
    "grades = {\n",
    "    'John Ponting': {\n",
    "        'Homeworks': [79, 80, 74],\n",
    "        'Midterm': 85,\n",
    "        'Final': 92\n",
    "    },\n",
    "    'Jacques Kallis': {\n",
    "        'Homeworks': [90, 92, 65],\n",
    "        'Midterm': 87,\n",
    "        'Final': 75\n",
    "    },\n",
    "    'Ricky Bobby': {\n",
    "        'Homeworks': [50, 52, 78],\n",
    "        'Midterm': 40,\n",
    "        'Final': 65\n",
    "    },\n",
    "}\n",
    "\n",
    "midtermScores = {}\n",
    "\n",
    "for name, scores in grades.items():\n",
    "    midtermScores[name] = scores[\"Midterm\"]\n",
    "\n",
    "print(\"All midterm scores:\", midtermScores) \n"
   ]
  },
  {
   "cell_type": "markdown",
   "metadata": {},
   "source": [
    "### Binary Numbers"
   ]
  },
  {
   "cell_type": "markdown",
   "metadata": {},
   "source": [
    "You get the gist of it"
   ]
  },
  {
   "cell_type": "code",
   "execution_count": 15,
   "metadata": {},
   "outputs": [
    {
     "name": "stdout",
     "output_type": "stream",
     "text": [
      "0b110\n"
     ]
    }
   ],
   "source": [
    "print(bin(6))"
   ]
  },
  {
   "cell_type": "markdown",
   "metadata": {},
   "source": [
    "## Maths and their Nuances"
   ]
  },
  {
   "cell_type": "markdown",
   "metadata": {},
   "source": [
    "### Basic Arithmetic"
   ]
  },
  {
   "cell_type": "code",
   "execution_count": null,
   "metadata": {},
   "outputs": [],
   "source": [
    "# calculated left-to-right when operators have equal precedence (P E MD AS)\n",
    "# parens help clear this up a lot, though, i.e. 2 + ((4 / 2) * 3)\n",
    "print(2 + 4 / 2 * 3)\n",
    "\n",
    "# exponents are calculated r-to-l\n",
    "print(5 + 3 ** 2 + 1)\n"
   ]
  },
  {
   "cell_type": "markdown",
   "metadata": {},
   "source": [
    "### Division and Modulo"
   ]
  },
  {
   "cell_type": "markdown",
   "metadata": {},
   "source": [
    "Division always yields a float and it has a few types: \n",
    "* Normal \n",
    "* Floored\n",
    "* Modulo"
   ]
  },
  {
   "cell_type": "code",
   "execution_count": null,
   "metadata": {},
   "outputs": [],
   "source": [
    "# normal ( / )\n",
    "print(\"5/4 equals\", 5 / 4)\n",
    "\n",
    "# floored ( // )\n",
    "print(\"5/4 with no remainder equals\", 5 // 4)\n",
    "\n",
    "# modulo ( % )\n",
    "print(\"The remainder of 122/60 equals\", 122 % 60)\n"
   ]
  },
  {
   "cell_type": "code",
   "execution_count": null,
   "metadata": {},
   "outputs": [],
   "source": [
    "'''Calculate Rough Mile-and-a-Half Run Time'''\n",
    "\n",
    "fullMinutesRan = int(\n",
    "    input(\"How many full minutes were ran (not including seconds)\"))\n",
    "remainderSecondsRan = int(\n",
    "    input(\"How many seconds were ran (not including full minutes)\"))\n",
    "distanceRanMiles = float(input(\"How far did you run in miles?\"))\n",
    "\n",
    "totalSecondsRan = (fullMinutesRan * 60) + remainderSecondsRan\n",
    "secondsInMileAndHalfRun = (totalSecondsRan / distanceRanMiles) * 1.5\n",
    "\n",
    "print(\"Your 1.5 mile time is:\", (secondsInMileAndHalfRun // 60),\n",
    "      \"minutes and\", (secondsInMileAndHalfRun % 60), \"seconds.\")\n"
   ]
  },
  {
   "cell_type": "code",
   "execution_count": null,
   "metadata": {},
   "outputs": [],
   "source": [
    "# Dividing by a power of 10 shifts a value right. Ex: 321 // 10 is 32. Ex: 321 // 100 is 3.\n",
    "# % by a power of 10 gets the rightmost digits. Ex: 321 % 10 is 1. Ex: 321 % 50 is 21.\n",
    "\n",
    "value = 927\n",
    "onesDigit = value % 10    # Ex: 927 % 10 is 7.\n",
    "tmpVal = value // 10\n",
    "\n",
    "# Ex: tmp_val = 927 // 10 is 92. Then 92 % 10 is 2.\n",
    "tensDigit = tmpVal % 10\n",
    "tmpVal = tmpVal // 10\n",
    "\n",
    "hundredsDigit = tmpVal % 10     # Ex: tmp_val = 92 // 10 = 9. Then 9 % 10 is 9\n"
   ]
  },
  {
   "cell_type": "code",
   "execution_count": null,
   "metadata": {},
   "outputs": [],
   "source": [
    "amountToChange = 23\n",
    "\n",
    "numFives = amountToChange // 5\n",
    "\n",
    "numOnes = amountToChange % 5\n",
    "print('Change for $', amountToChange)\n",
    "print(numFives, 'five dollar bill(s) and', numOnes, 'one dollar bill(s)')"
   ]
  },
  {
   "cell_type": "markdown",
   "metadata": {},
   "source": [
    "You can use a fill character to fill in extra gaps in text. By default, it is empty space (\" \"). You can customize fill as follows:"
   ]
  },
  {
   "cell_type": "markdown",
   "metadata": {},
   "source": [
    "## Modules"
   ]
  },
  {
   "cell_type": "markdown",
   "metadata": {},
   "source": [
    "### General"
   ]
  },
  {
   "cell_type": "markdown",
   "metadata": {},
   "source": [
    "Modules can be imported into a script to increase functionality. *When they they are imported, they are immediately executed*"
   ]
  },
  {
   "cell_type": "code",
   "execution_count": null,
   "metadata": {},
   "outputs": [],
   "source": [
    "# importing and using modules is super easy!\n",
    "\n",
    "import math\n",
    "print(math.factorial(3))\n"
   ]
  },
  {
   "cell_type": "markdown",
   "metadata": {},
   "source": [
    "Checking if the module is executing in another script"
   ]
  },
  {
   "cell_type": "code",
   "execution_count": null,
   "metadata": {},
   "outputs": [],
   "source": [
    "# executes only if file is run as a script\n",
    "if __name__ == '__main__':\n",
    "    print(\"I am executing as a script, not as a module!!\")\n"
   ]
  },
  {
   "cell_type": "markdown",
   "metadata": {},
   "source": [
    "#### Math module"
   ]
  },
  {
   "cell_type": "code",
   "execution_count": null,
   "metadata": {},
   "outputs": [],
   "source": [
    "import math\n",
    "num = 49\n",
    "\n",
    "# Math has a bunch of functions (like sqrt())\n",
    "numSqrt = math.sqrt(num)\n",
    "\n",
    "# You can round!\n",
    "print(\"Rounding up 7.1 to 8 with .ceil():\", math.ceil(7.1))\n",
    "print(\"Rounding down 7.6 to 7 with .floor():\", math.floor(7.6))\n",
    "print(\"Rounding 6.9420 to second decimal with round() method (not a math one):\", round(6.9420, 2))\n"
   ]
  },
  {
   "cell_type": "markdown",
   "metadata": {},
   "source": [
    "#### Random Module"
   ]
  },
  {
   "cell_type": "code",
   "execution_count": 68,
   "metadata": {},
   "outputs": [
    {
     "name": "stdout",
     "output_type": "stream",
     "text": [
      "173\n"
     ]
    }
   ],
   "source": [
    "import random\n",
    "\n",
    "# Generate random int b/w 0 and 5\n",
    "print(random.randint(0, 500))"
   ]
  },
  {
   "cell_type": "markdown",
   "metadata": {},
   "source": [
    "### Custom Modules"
   ]
  },
  {
   "cell_type": "markdown",
   "metadata": {},
   "source": [
    "Scripts can be imported as modules. For example `tools.py` can be brought in with `import tools`\n",
    "\n",
    "A dictionary of loaded modules is in `sys.modules`, which can be accessed by importing the `sys` module. Doing so will show you the namespaces for each module, each holding their own definitions and such.\n",
    "\n",
    "Importing modules process:\n",
    "1. `sys.modules` checks for module\n",
    "2. Module object created\n",
    "3. Added to `sys.modules`\n",
    "4. Code executed\n",
    "5. Added to importer's namespace"
   ]
  },
  {
   "cell_type": "code",
   "execution_count": 16,
   "metadata": {},
   "outputs": [
    {
     "name": "stdout",
     "output_type": "stream",
     "text": [
      "<module 'builtins' (built-in)>\n",
      "True\n"
     ]
    }
   ],
   "source": [
    "import sys\n",
    "builtins = sys.modules.get('builtins')\n",
    "print(builtins)\n",
    "print(__builtins__ is builtins)"
   ]
  },
  {
   "cell_type": "code",
   "execution_count": 1,
   "metadata": {},
   "outputs": [
    {
     "name": "stdout",
     "output_type": "stream",
     "text": [
      "Hello\n",
      "[1, 2, 3, 4]\n"
     ]
    }
   ],
   "source": [
    "import testingimports\n",
    "import data\n",
    "\n",
    "print(testingimports.greet())\n",
    "\n",
    "print(data.dataList)\n"
   ]
  },
  {
   "cell_type": "markdown",
   "metadata": {},
   "source": [
    "### Finding Modules"
   ]
  },
  {
   "cell_type": "markdown",
   "metadata": {},
   "source": [
    "Importing a module begins a search to find the corresponding file on the computer's file system. The interpreter first checks for a matching built-in module. A built-in module is a module that comes pre-installed with Python; examples of built-in modules include `sys`, `time`, and `math`. If no matching built-in module is found, then the interpreter searches the list of directories contained by `sys.path`, located in the `sys` module. A programmer must be careful to not give a name to a module that is already used by a built-in module. In such cases, the interpreter would load the built-in module because built-in names are checked first.\n",
    "\n",
    "The `sys.path` variable initially contains the following directories:\n",
    "1. The directory of the executing script.\n",
    "2. A list of directories specified by the environment variable PYTHONPATH.\n",
    "3. The directory where Python is installed.\n",
    "\n",
    "For simple programs, a module might simply be placed in the same directory. Larger projects might contain tens or hundreds of modules or use third-party modules located in different directories. In such cases, a programmer might set the environment variable PYTHONPATH in the operating system. An operating system environment variable is much like a variable in a Python script, except that an environment variable is stored by the computer's operating system and can be accessed by every program running on the computer. In Windows, a user can set the value of PYTHONPATH permanently through the control panel, or temporarily on a single instance of a command terminal (cmd.exe) using the command `set PYTHONPATH=\"c:\\dir1;c:\\other\\directory\"`.\n"
   ]
  },
  {
   "cell_type": "code",
   "execution_count": 3,
   "metadata": {},
   "outputs": [
    {
     "name": "stdout",
     "output_type": "stream",
     "text": [
      "e:\\Ethan\\Documents\\Code\\Python Projects\\C859\\notebooks\n"
     ]
    }
   ],
   "source": [
    "import sys\n",
    "\n",
    "# Paths for modules (returns a list)\n",
    "print(sys.path[0])\n"
   ]
  },
  {
   "cell_type": "markdown",
   "metadata": {},
   "source": [
    "### Importing Specific Names from Modules"
   ]
  },
  {
   "cell_type": "markdown",
   "metadata": {},
   "source": [
    "It is great practice to import only what you need!"
   ]
  },
  {
   "cell_type": "code",
   "execution_count": 8,
   "metadata": {},
   "outputs": [
    {
     "name": "stdout",
     "output_type": "stream",
     "text": [
      "3.0 9.0\n",
      "Hello\n"
     ]
    }
   ],
   "source": [
    "# Syntax: 'from moduleName import name1, name2, ...'\n",
    "from math import sqrt, pow\n",
    "from testingimports import greet\n",
    "\n",
    "# No longer will you need to use dot notation to access the functions/methods!\n",
    "print(sqrt(9), pow(3, 2))\n",
    "print(greet())"
   ]
  },
  {
   "cell_type": "code",
   "execution_count": 12,
   "metadata": {},
   "outputs": [
    {
     "name": "stdout",
     "output_type": "stream",
     "text": [
      "Hash value MD5: 098f6bcd4621d373cade4e832627b4f6\n"
     ]
    }
   ],
   "source": [
    "# copied from ZyBooks\n",
    "from hashlib import md5, sha256\n",
    "\n",
    "text = input(\"Enter text to hash ('q' to quit): \")\n",
    "\n",
    "while text != 'q':\n",
    "    algorithm = input('Enter algorithm (md5/sha256): ')\n",
    "    if algorithm == 'md5':\n",
    "        output = md5(text.encode('utf-8'))\n",
    "    elif algorithm == 'sha256':\n",
    "        output = sha256(text.encode('utf-8'))\n",
    "    else:\n",
    "        output = 'Invalid algorithm selection'\n",
    "    print(f'Hash value ({algorithm.upper()}): {output.hexdigest()}')\n",
    "\n",
    "    text = input(\"\\nEnter text to hash ('q' to quit): \")"
   ]
  },
  {
   "cell_type": "markdown",
   "metadata": {},
   "source": [
    "You can also import everything from a module in with the following: `from moduleName import *`. You should only really use it in interactive interpreter sessions, etc."
   ]
  },
  {
   "cell_type": "markdown",
   "metadata": {},
   "source": [
    "### Running Modules as Scripts"
   ]
  },
  {
   "cell_type": "markdown",
   "metadata": {},
   "source": [
    "Importing scripts in that don't have that `if __name__ == \"__main__\"` statement will cause all of the code to run, even things like print statements, etc. \n",
    "\n",
    "The executing script will always have a name of \"main.\""
   ]
  },
  {
   "cell_type": "code",
   "execution_count": 8,
   "metadata": {},
   "outputs": [
    {
     "name": "stdout",
     "output_type": "stream",
     "text": [
      "Found 0 links:\n"
     ]
    }
   ],
   "source": [
    "import urllib.request\n",
    "def search(terms):\n",
    "    \"\"\"Do a fictional web engine search and return the results\"\"\"\n",
    "    html = _send_request(terms)\n",
    "    results = _get_results(html)\n",
    "    return results\n",
    "\n",
    "def _send_request(terms):\n",
    "    \"\"\"Send search to fictional web search engine and receive HTML response\"\"\"\n",
    "    terms = terms.replace(' ', '%20')  #replace spaces\n",
    "         \n",
    "    url = 'https://www.google.com/search?q=' + terms\n",
    "    info = {'User-Agent': 'Dog-man'}\n",
    "    req = urllib.request.Request(url, headers=info)\n",
    "                  \n",
    "    response = urllib.request.urlopen(req)\n",
    "    html = str(response.read())\n",
    "    return html\n",
    "\n",
    "def _get_results(html):\n",
    "    \"\"\"\n",
    "    Finds the links returned in 1st page of results.\n",
    "    \"\"\"\n",
    "    start_tag = '<cite>'  # start of results\n",
    "    end_tag = '</cite>'   # Results end with this tag\n",
    "    links = []            # list of result links\n",
    "                  \n",
    "    start_tag_loc = html.find(start_tag)  # find 1st link\n",
    "                     \n",
    "    while start_tag_loc > -1:\n",
    "        link_start = start_tag_loc + len(start_tag)\n",
    "        link_end = html.find(end_tag, link_start)\n",
    "        links.append(html[link_start:link_end])\n",
    "        start_tag_loc = html.find(start_tag, link_end)\n",
    "\n",
    "    return links\n",
    "\n",
    "if __name__ == \"__main__\":\n",
    "    search_term  = input('Enter search terms: ')\n",
    "    result = search(search_term)\n",
    "\n",
    "    print('Found {} links:'.format(len(result)))\n",
    "    for link in result:\n",
    "        print(' ', link)  \n"
   ]
  },
  {
   "cell_type": "markdown",
   "metadata": {},
   "source": [
    "### Reloading Modules"
   ]
  },
  {
   "cell_type": "markdown",
   "metadata": {},
   "source": [
    "You can reload modules whenever code is changed for a module and you don't want to restart the program! This is done with the `reload()` function, located in the importlib standard library module."
   ]
  },
  {
   "cell_type": "code",
   "execution_count": 6,
   "metadata": {},
   "outputs": [
    {
     "data": {
      "text/plain": [
       "<module 'math' (built-in)>"
      ]
     },
     "execution_count": 6,
     "metadata": {},
     "output_type": "execute_result"
    }
   ],
   "source": [
    "from importlib import reload\n",
    "from math import pow\n",
    "\n",
    "reload(math)"
   ]
  },
  {
   "cell_type": "markdown",
   "metadata": {},
   "source": [
    "For example, you might have a script that sends emails to customers for your pizzeria. Restarting this script might cause some users to receive duplicate emails, which would just be plain annoying. What you can do is just check the last time a module file was modified and if it is greater than a than the last known update time, then just reload the module."
   ]
  },
  {
   "cell_type": "code",
   "execution_count": null,
   "metadata": {},
   "outputs": [],
   "source": [
    "import os\n",
    "from importlib import reload\n",
    "import send_gmail\n",
    "\n",
    "mod_time = os.path.getmtime(send_gmail.__file__)\n",
    "\n",
    "emails = [  # Could be large list or stored in file\n",
    "    'billgates@microsoft.com1',\n",
    "    'president@whitehouse.gov1',\n",
    "    'benedictxvi@vatican.va1'\n",
    "]\n",
    "\n",
    "my_email = 'JohnnysHotDogs1@gmail.com'\n",
    "subject = 'A coupon for you!'\n",
    "text = (\"As a loyal customer of Johnny's HotDogs, \"\n",
    "        \"here is a coupon for 1 free bratwurst!\")\n",
    "\n",
    "for addr in emails:\n",
    "    send_gmail.send(subject, addr, my_email, text)\n",
    "\n",
    "    # Check if file has been modified\n",
    "    last_mod = os.path.getmtime(send_gmail.__file__) \n",
    "    if last_mod > mod_time:\n",
    "        mod_time = last_mod\n",
    "        reload(send_gmail)\n",
    "\n"
   ]
  },
  {
   "cell_type": "markdown",
   "metadata": {},
   "source": [
    "\"Reloading modules is typically useful in long-running programs, when restarting and initializing the entire program may be an expensive operation. A common scenario is a web server that is communicating with multiple clients on the internet. Instead of restarting the server and disconnecting all of the clients, a single module can be reloaded dynamically as the server runs. \""
   ]
  },
  {
   "cell_type": "markdown",
   "metadata": {},
   "source": [
    "### Packages"
   ]
  },
  {
   "cell_type": "markdown",
   "metadata": {},
   "source": [
    "An entire directory of modules, or a *package*, can be imported instead of single modules. When loaded, it gives access to all modules in the directory."
   ]
  },
  {
   "cell_type": "markdown",
   "metadata": {},
   "source": [
    "In Python 2, an `__init__.py` file was required in the package folder for it to be a package, but it is no longer required as of Python 3.3+ (which uses **implicit namespace packages**)."
   ]
  },
  {
   "cell_type": "code",
   "execution_count": 9,
   "metadata": {},
   "outputs": [
    {
     "name": "stdout",
     "output_type": "stream",
     "text": [
      "[1, 2, 3, 4]\n"
     ]
    }
   ],
   "source": [
    "import packagetest.data\n",
    "\n",
    "print(packagetest.data.dataList)"
   ]
  },
  {
   "cell_type": "markdown",
   "metadata": {},
   "source": [
    "## Logic/Flow Control and Such"
   ]
  },
  {
   "cell_type": "markdown",
   "metadata": {},
   "source": [
    "### Comparisons and Identification Operations"
   ]
  },
  {
   "cell_type": "markdown",
   "metadata": {},
   "source": [
    "Comparing..."
   ]
  },
  {
   "cell_type": "code",
   "execution_count": null,
   "metadata": {},
   "outputs": [],
   "source": [
    "l = [1, 2, 3, 4]\n",
    "t = [1, 2, 4, 4]\n",
    "\n",
    "d1 = {\n",
    "    \"key\": \"value\"\n",
    "}\n",
    "d2 = {\n",
    "    \"key\": \"value\"\n",
    "}\n",
    "\n",
    "# Each element is iterated over and compared in search of a different one\n",
    "# Eval stops once it finds something different to run comparison on\n",
    "\n",
    "print(l < t) # essentially performing 3 < 4\n",
    "\n",
    "print(l == t) # they aren't exact\n",
    "\n",
    "print(\"abc\" <= \"abcd\", 'a' < 'b' != 'c', '1' > '0')\n",
    "\n",
    "print(d1 != d2) # only compared with == or !="
   ]
  },
  {
   "cell_type": "markdown",
   "metadata": {},
   "source": [
    "Identifying..."
   ]
  },
  {
   "cell_type": "code",
   "execution_count": null,
   "metadata": {},
   "outputs": [],
   "source": [
    "s = {1, 2, 3, 4}\n",
    "\n",
    "# With iterables, you can use \"in\" and \"not in\"\n",
    "print(1 in s, 12 not in s)\n",
    "\n",
    "guestList = {\"Ethan\", \"Sam\", \"Birdie\"}\n",
    "name = \"zzEthanzz\" # input(\"Who are you?\")\n",
    "\n",
    "if name in guestList:\n",
    "    print(f\"We found you on the guest list, {name}. Come on in!\")\n",
    "else:\n",
    "    print(f\"I don't see you anywhere, {name}. Buzz off.\")\n",
    "\n",
    "# Checking for substrings\n",
    "if \"Z\" in name.upper():\n",
    "    print(\"Wow, you have a 'Z' in your name? Crazy.\")\n",
    "\n",
    "# Checking for dict keys \n",
    "d = {\n",
    "    \"key\": 1,\n",
    "    \"ducky\": \"quack\"\n",
    "}\n",
    "# \"in\" does not search values, just keys\n",
    "print(\"ducky\" in d, 1 in d)"
   ]
  },
  {
   "cell_type": "code",
   "execution_count": null,
   "metadata": {},
   "outputs": [],
   "source": [
    "# The \"is\" operator - only used to determine if two vars are the same object\n",
    "num1 = 2\n",
    "num2 = 2 + 2\n",
    "num3 = num1\n",
    "num4 = num1 + num1\n",
    "numList = [1, 2, 3, 4]\n",
    "\n",
    "print(\"Equivalent objects and values:\", num1 is num3, num1 == num3)\n",
    "print(\"Objects that are not different with equal values:\", num4 is not num2, num4 == num2)\n",
    "print(\"2 is not the third value of a given list:\", num1 is not numList[2],\"\\n\")\n",
    "\n",
    "a = 'fish'\n",
    "b = 'panda'\n",
    "c = [a, b]\n",
    "d = c\n",
    "d[0] = 'otter'\n",
    "\n",
    "if (c is d):\n",
    "    print('c and d ref the same obj')\n",
    "if (b is d[1]):\n",
    "    print('b is the second element in d')\n",
    "if (a is d[0]):\n",
    "    print('a is the first element in d')\n"
   ]
  },
  {
   "cell_type": "markdown",
   "metadata": {},
   "source": [
    "### If-else"
   ]
  },
  {
   "cell_type": "code",
   "execution_count": null,
   "metadata": {},
   "outputs": [],
   "source": [
    "num = int(input())\n",
    "if num == 12:\n",
    "    print(\"It's 12\")\n",
    "elif num != 0:\n",
    "    print(\"It's not 12 nor 0\")\n",
    "\n",
    "    if num > 0:\n",
    "        print(\"It's greater than 0\")\n",
    "\n",
    "    else:\n",
    "        print(\"It's less than 0\")\n",
    "\n",
    "else:\n",
    "    print(\"It's not 12, it's 0\")\n"
   ]
  },
  {
   "cell_type": "markdown",
   "metadata": {},
   "source": [
    "### Operator Chaining"
   ]
  },
  {
   "cell_type": "markdown",
   "metadata": {},
   "source": [
    "Python allows you to chain operations like greater than, less than or equal to, etc."
   ]
  },
  {
   "cell_type": "code",
   "execution_count": null,
   "metadata": {},
   "outputs": [],
   "source": [
    "x = 1\n",
    "y = 2\n",
    "z = 0\n",
    "\n",
    "# Comparison performed from l-to-r\n",
    "print(z < x < y)\n",
    "\n",
    "if 0 <= x < 100:\n",
    "    print(\"x is non-negative\")\n",
    "else:\n",
    "    print(\"x is negative\")"
   ]
  },
  {
   "cell_type": "markdown",
   "metadata": {},
   "source": [
    "### Logical Operators (AND, OR, NOT, etc.)"
   ]
  },
  {
   "cell_type": "code",
   "execution_count": null,
   "metadata": {},
   "outputs": [],
   "source": [
    "x = 0\n",
    "y = 1\n",
    "z = 1\n",
    "\n",
    "print(True and False)\n",
    "print((x > z) or (x < y))\n",
    "print(not True)\n",
    "\n",
    "# Sorta like operator chaining\n",
    "if (z < x) and (x < y):\n",
    "    print(\"x is between z and y\")\n",
    "\n",
    "if z < x and x < y:\n",
    "    print(\"It can also be done without parens. Guess which one looks more readable...\")\n",
    "\n",
    "# You can chain 'em!\n",
    "if (x == y) or (z == x) or (z==y):\n",
    "    print(\"Some of the numbers are the same\")\n",
    "else:\n",
    "    print(\"All of the numbers are different\")\n"
   ]
  },
  {
   "cell_type": "markdown",
   "metadata": {},
   "source": [
    "### Detecting Gaps in Ranges"
   ]
  },
  {
   "cell_type": "code",
   "execution_count": null,
   "metadata": {},
   "outputs": [],
   "source": [
    "age = int(input(\"Enter age: \"))\n",
    "\n",
    "if age == 0:\n",
    "    print(\"You are a newborn\")\n",
    "elif age < 13:\n",
    "    print(\"You are a child\")\n",
    "elif 13 <= age <= 19:\n",
    "    print(\"You are a teen\")\n",
    "elif age >= 65:\n",
    "    print(\"You are a senior citizen\")\n",
    "else:\n",
    "    print(\"You are an adult\")  # This catches everything in b/w 20 and 64 (inclusive)"
   ]
  },
  {
   "cell_type": "markdown",
   "metadata": {},
   "source": [
    "### Conditional Expressions"
   ]
  },
  {
   "cell_type": "markdown",
   "metadata": {},
   "source": [
    "Template: `expr_when_true if (condition) else expr_when_false`"
   ]
  },
  {
   "cell_type": "code",
   "execution_count": null,
   "metadata": {},
   "outputs": [],
   "source": [
    "x = 1\n",
    "\n",
    "# Instead of this...\n",
    "if x == 1:\n",
    "    y = x + 1\n",
    "else:\n",
    "    y = x\n",
    "\n",
    "print(x, y)\n",
    "\n",
    "# Do this! Sure it looks weird but it reads sorta the same as above\n",
    "y = x + 1 if (x == 1) else x\n",
    "\n",
    "print(x, y)\n"
   ]
  },
  {
   "cell_type": "markdown",
   "metadata": {},
   "source": [
    "### Break Statements"
   ]
  },
  {
   "cell_type": "markdown",
   "metadata": {},
   "source": [
    "Used to exit loops immediately. Allows a program to stop looping once everything that needs to be done is done instead of making it more complicated than that."
   ]
  },
  {
   "cell_type": "code",
   "execution_count": 41,
   "metadata": {},
   "outputs": [
    {
     "name": "stdout",
     "output_type": "stream",
     "text": [
      "$17 buys 3 empanadas and 2 tacos without change.\n"
     ]
    }
   ],
   "source": [
    "# Copied straight from zyBooks because I am lazy\n",
    "empanada_cost = 3\n",
    "taco_cost = 4\n",
    "\n",
    "# Int used to simplify life\n",
    "user_money = 17\n",
    "\n",
    "max_empanadas = user_money // empanada_cost\n",
    "max_tacos = user_money // taco_cost\n",
    "\n",
    "meal_cost = 0\n",
    "for num_tacos in range(max_tacos + 1):\n",
    "    for num_empanadas in range(max_empanadas + 1):\n",
    "        meal_cost = (num_empanadas * empanada_cost) + (num_tacos * taco_cost)\n",
    "\n",
    "        # Find first meal option that exactly matches user money\n",
    "        if meal_cost == user_money:\n",
    "            break\n",
    "\n",
    "    # Find first meal option that exactly matches user money\n",
    "    if meal_cost == user_money:\n",
    "        break\n",
    "\n",
    "if meal_cost == user_money:\n",
    "    print('${} buys {} empanadas and {} tacos without change.'\n",
    "        .format(meal_cost, num_empanadas, num_tacos))\n",
    "else:\n",
    "    print('You cannot buy a meal without having change left over.')"
   ]
  },
  {
   "cell_type": "markdown",
   "metadata": {},
   "source": [
    "#### Simon Game"
   ]
  },
  {
   "cell_type": "code",
   "execution_count": null,
   "metadata": {},
   "outputs": [
    {
     "name": "stdout",
     "output_type": "stream",
     "text": [
      "User score: 10\n"
     ]
    }
   ],
   "source": [
    "user_score = 0\n",
    "simon_pattern = 'RRGBRYYBGY'\n",
    "user_pattern  = 'RRGBBRYBGY'\n",
    "\n",
    "i = 0\n",
    "while i < len(simon_pattern):\n",
    "    if user_pattern[i] == simon_pattern[i]:\n",
    "        user_score += 1\n",
    "    else:\n",
    "        break\n",
    "    i+=1 \n",
    "\n",
    "print('User score:', user_score)"
   ]
  },
  {
   "cell_type": "markdown",
   "metadata": {},
   "source": [
    "### Continue Statements"
   ]
  },
  {
   "cell_type": "markdown",
   "metadata": {},
   "source": [
    "Causes an immediate jump to the loop header (`for element in list` , `while i <= 10`, and so on)."
   ]
  },
  {
   "cell_type": "code",
   "execution_count": 4,
   "metadata": {},
   "outputs": [
    {
     "name": "stdout",
     "output_type": "stream",
     "text": [
      "0: 0 1 3 \n",
      "1: 4 6 9 \n",
      "2: 11 - - \n",
      "3: - - - \n"
     ]
    }
   ],
   "source": [
    "stop = 12\n",
    "result = 0\n",
    "for a in range(4):\n",
    "    print(a, end=': ')\n",
    "    for b in range(3):\n",
    "        result += a + b\n",
    "        if result > stop:\n",
    "            print('-', end=' ')\n",
    "            continue\n",
    "        print(result, end=' ')\n",
    "    print()"
   ]
  },
  {
   "cell_type": "markdown",
   "metadata": {},
   "source": [
    "## Loops"
   ]
  },
  {
   "cell_type": "markdown",
   "metadata": {},
   "source": [
    "### `while` Loops"
   ]
  },
  {
   "cell_type": "markdown",
   "metadata": {},
   "source": [
    "#### General"
   ]
  },
  {
   "cell_type": "code",
   "execution_count": 23,
   "metadata": {},
   "outputs": [
    {
     "name": "stdout",
     "output_type": "stream",
     "text": [
      " - - \n",
      "  0  \n",
      "-----\n",
      "\n",
      "\n",
      " e e \n",
      "  0  \n",
      "eeeee\n",
      "\n",
      "\n",
      "Goodbye.\n",
      "\n"
     ]
    }
   ],
   "source": [
    "nose = '0'  # Looks a little like a nose\n",
    "user_value = '-'\n",
    "\n",
    "while user_value != 'q':\n",
    "    print(' {} {} '.format(user_value, user_value))  # Print eyes\n",
    "    print('  {}  '.format(nose))  # Print nose\n",
    "    print(user_value*5)  # Print mouth\n",
    "    print('\\n')\n",
    "\n",
    "    # Get new character for eyes and mouth\n",
    "    user_input = input(\"Enter a character ('q' for quit): \\n\")\n",
    "    user_value = user_input[0]\n",
    "\n",
    "print('Goodbye.\\n')"
   ]
  },
  {
   "cell_type": "code",
   "execution_count": 3,
   "metadata": {},
   "outputs": [
    {
     "name": "stdout",
     "output_type": "stream",
     "text": [
      "a\n",
      "b\n",
      "c\n",
      "24\n"
     ]
    }
   ],
   "source": [
    "# Parsing a list with a while loop\n",
    "\n",
    "i = 0\n",
    "l = ['a', 'b', 'c']\n",
    "\n",
    "while i <= (len(l) - 1):\n",
    "    print(l[i])\n",
    "    i += 1\n",
    "\n",
    "# Factorial calc\n",
    "N = 4  # Read user-entered number\n",
    "total = N\n",
    "# Initialize the loop variable\n",
    "i = total - 1\n",
    "\n",
    "while i > 1:\n",
    "    # Set total to total * (i)\n",
    "    # Decrement i\n",
    "    total *= i\n",
    "    i -= 1\n",
    "    \n",
    "print(total)\n"
   ]
  },
  {
   "cell_type": "markdown",
   "metadata": {},
   "source": [
    "#### Finding the Greatest Common Divisor with Euclidean Algorithm (non-recursive)"
   ]
  },
  {
   "cell_type": "code",
   "execution_count": 24,
   "metadata": {},
   "outputs": [
    {
     "name": "stdout",
     "output_type": "stream",
     "text": [
      "\n",
      "\n",
      "GCD is 4\n"
     ]
    }
   ],
   "source": [
    "x = int(input('Enter first positive integer: '))\n",
    "print()\n",
    "\n",
    "y = int(input('Enter second positive integer: '))\n",
    "print()\n",
    "\n",
    "while x != y:\n",
    "    if x > y:\n",
    "        x = x - y\n",
    "    else:\n",
    "        y = y - x\n",
    "\n",
    "print('GCD is {}'.format(x))"
   ]
  },
  {
   "cell_type": "markdown",
   "metadata": {},
   "source": [
    "#### Computing Averages"
   ]
  },
  {
   "cell_type": "code",
   "execution_count": 32,
   "metadata": {},
   "outputs": [
    {
     "ename": "ZeroDivisionError",
     "evalue": "division by zero",
     "output_type": "error",
     "traceback": [
      "\u001b[1;31m---------------------------------------------------------------------------\u001b[0m",
      "\u001b[1;31mZeroDivisionError\u001b[0m                         Traceback (most recent call last)",
      "\u001b[1;32m~\\AppData\\Local\\Temp/ipykernel_15152/2757156798.py\u001b[0m in \u001b[0;36m<module>\u001b[1;34m\u001b[0m\n\u001b[0;32m      9\u001b[0m     \u001b[0mcurrentVal\u001b[0m \u001b[1;33m=\u001b[0m \u001b[0mint\u001b[0m\u001b[1;33m(\u001b[0m\u001b[0minput\u001b[0m\u001b[1;33m(\u001b[0m\u001b[1;34m\"Pass in a positive int or something 0 or lower to finish\"\u001b[0m\u001b[1;33m)\u001b[0m\u001b[1;33m)\u001b[0m\u001b[1;33m\u001b[0m\u001b[1;33m\u001b[0m\u001b[0m\n\u001b[0;32m     10\u001b[0m \u001b[1;33m\u001b[0m\u001b[0m\n\u001b[1;32m---> 11\u001b[1;33m \u001b[0mprint\u001b[0m\u001b[1;33m(\u001b[0m\u001b[1;34mf\"Average = {(sum / count):.3f}\"\u001b[0m\u001b[1;33m)\u001b[0m\u001b[1;33m\u001b[0m\u001b[1;33m\u001b[0m\u001b[0m\n\u001b[0m",
      "\u001b[1;31mZeroDivisionError\u001b[0m: division by zero"
     ]
    }
   ],
   "source": [
    "sum = 0\n",
    "count = 0\n",
    "\n",
    "currentVal = int(input(\"Pass in a positive int or something 0 or lower to finish\"))\n",
    "\n",
    "while currentVal > 0:\n",
    "    sum += currentVal\n",
    "    count += 1\n",
    "    currentVal = int(input(\"Pass in a positive int or something 0 or lower to finish\"))\n",
    "\n",
    "print(f\"Average = {(sum / count):.3f}\")"
   ]
  },
  {
   "cell_type": "markdown",
   "metadata": {},
   "source": [
    "#### Insect Growth"
   ]
  },
  {
   "cell_type": "code",
   "execution_count": 35,
   "metadata": {},
   "outputs": [
    {
     "name": "stdout",
     "output_type": "stream",
     "text": [
      "8 16 32 64 "
     ]
    }
   ],
   "source": [
    "'''\n",
    "Given positive integer num_insects, write a while loop that prints, then doubles, num_insects each iteration. Print values ≤ 100. Follow each number with a space.\n",
    "'''\n",
    "\n",
    "insects = int(input())\n",
    "total = 0\n",
    "\n",
    "while insects <= 100:\n",
    "    print(insects, end=\" \")\n",
    "    insects += insects\n"
   ]
  },
  {
   "cell_type": "markdown",
   "metadata": {},
   "source": [
    "### `for` Loops"
   ]
  },
  {
   "cell_type": "markdown",
   "metadata": {},
   "source": [
    "#### General"
   ]
  },
  {
   "cell_type": "code",
   "execution_count": 22,
   "metadata": {},
   "outputs": [
    {
     "name": "stdout",
     "output_type": "stream",
     "text": [
      "Hi, Ted!\n",
      "Hi, Bill!\n",
      "Hi, Stan!\n",
      "Hi, Janet!\n",
      "\n",
      "MTV is on 35\n",
      "CNN is on 28\n",
      "FOX is on 11\n",
      "NBC is on 4\n",
      "CBS is on 12\n",
      "\n",
      "1\n",
      "2\n",
      "3\n",
      "4\n",
      "\n",
      "t TACOCAT a TACOCAT c TACOCAT o TACOCAT c TACOCAT a TACOCAT T TACOCAT "
     ]
    }
   ],
   "source": [
    "nameSet = {'Bill', 'Ted', 'Stan', 'Janet'}\n",
    "\n",
    "for name in nameSet:\n",
    "    print(f\"Hi, {name}!\")\n",
    "\n",
    "print()\n",
    "\n",
    "channels = {\n",
    "    'MTV': 35,\n",
    "    'CNN': 28,\n",
    "    'FOX': 11,\n",
    "    'NBC': 4,\n",
    "    'CBS': 12\n",
    "}\n",
    "\n",
    "for c in channels:\n",
    "    print(f\"{c} is on {channels[c]}\")\n",
    "\n",
    "print()\n",
    "\n",
    "# You can loop over a string\n",
    "for num in \"1234\":\n",
    "    print(num)\n",
    "\n",
    "print()\n",
    "\n",
    "# There is also a reversed() method which can be used in this. Works on ordered iterables, too.\n",
    "for t in reversed(\"Tacocat\"):\n",
    "    print(t, end=\" TACOCAT \")"
   ]
  },
  {
   "cell_type": "code",
   "execution_count": 32,
   "metadata": {},
   "outputs": [
    {
     "name": "stdout",
     "output_type": "stream",
     "text": [
      "Pluto is 39.48 AUs from the Sun.\n",
      "Pluto is 39.48 AUs from the Sun.\n"
     ]
    }
   ],
   "source": [
    "# Using a for loop to track certain property in a dictionary\n",
    "\n",
    "# Measured in astronomical units (AUs)\n",
    "planetsDistSun = {\n",
    "    \"Mercury\": 0.39,\n",
    "    \"Venus\": 0.72,\n",
    "    \"Earth\": 1.00,\n",
    "    \"Mars\": 1.52,\n",
    "    \"Jupiter\": 5.20,\n",
    "    \"Saturn\": 9.58,\n",
    "    \"Uranus\": 19.20,\n",
    "    \"Neptune\": 30.05,\n",
    "    \"Pluto\": 39.48\n",
    "}\n",
    "\n",
    "farthestPlanetName = \"\"\n",
    "farthestPlanetDist = 0\n",
    "\n",
    "for planet in planetsDistSun:\n",
    "    dist = planetsDistSun[planet]\n",
    "\n",
    "    if dist > farthestPlanetDist:\n",
    "        farthestPlanetDist = dist\n",
    "        farthestPlanetName = planet\n",
    "\n",
    "print(f\"{farthestPlanetName} is {farthestPlanetDist} AUs from the Sun.\")\n",
    "\n",
    "# You could also just do this\n",
    "farthestPlanetName = max(planetsDistSun, key=planetsDistSun.get)\n",
    "farthestPlanetDist = planetsDistSun[farthestPlanetName]\n",
    "\n",
    "print(f\"{farthestPlanetName} is {farthestPlanetDist} AUs from the Sun.\")\n"
   ]
  },
  {
   "cell_type": "markdown",
   "metadata": {},
   "source": [
    "#### `range()` Function"
   ]
  },
  {
   "cell_type": "markdown",
   "metadata": {},
   "source": [
    "While loops are usually used for doing something a certain number of times/counting (using i).\n",
    "\n",
    "For loops are usually used for iterating over elements in an iterable.\n",
    "\n",
    "Range function allows for counting inside of `for` loops. It will start at a given int and increment until it reaches the end int (exclusive)."
   ]
  },
  {
   "cell_type": "code",
   "execution_count": 78,
   "metadata": {},
   "outputs": [
    {
     "name": "stdout",
     "output_type": "stream",
     "text": [
      "0 2 4 6 8 10 12 14 16 18 20 22 24 \n",
      "12 13 14 15 16 17 18 19 20 21 22 23 \n",
      "12 14 16 18 20 22 \n",
      "23 22 21 20 19 18 17 16 15 14 13 \n",
      "23 21 19 17 15 13 \n",
      "0 3 6 9 12 15 18 21 24 27 "
     ]
    }
   ],
   "source": [
    "'''\n",
    "RANGE FUNCTION:\n",
    "range(start, stop, interval) -> int args only\n",
    "\n",
    "The only mandatory param is the starting number.\n",
    "'''\n",
    "\n",
    "start = 12\n",
    "stop = 24\n",
    "\n",
    "# Prints each number from 0 to 12 (inclusive) mult'd by 2\n",
    "for i in range(start + 1):\n",
    "    print(i*2, end=\" \")\n",
    "\n",
    "print()\n",
    "\n",
    "# Prints numbers from 12 until it increments to 24 (prints up to 23)\n",
    "for i in range(start, stop):\n",
    "    print(i, end=\" \")\n",
    "\n",
    "step = 2\n",
    "print()\n",
    "\n",
    "# Prints numbers from 12 until 24 but skips every odd number\n",
    "for i in range(start, stop, step):\n",
    "    print(i, end=\" \")\n",
    "\n",
    "print()\n",
    "\n",
    "# Prints descending. The interval of -1 is required for it to decrement by 1\n",
    "for i in range(stop - 1, start, -1):\n",
    "    print(i, end=\" \")\n",
    "\n",
    "print()\n",
    "\n",
    "# Counts down from 23 until 12 (exclusive), skipping every other number (all odds since the sequence starts at an odd num)\n",
    "for i in range(stop - 1, start, -2):\n",
    "    print(i, end=\" \")\n",
    "\n",
    "print()\n",
    "\n",
    "# You can also do things like...\n",
    "for i in range(10):\n",
    "    print(i * 3, end=\" \")\n"
   ]
  },
  {
   "cell_type": "markdown",
   "metadata": {},
   "source": [
    "#### Nested loops"
   ]
  },
  {
   "cell_type": "code",
   "execution_count": 14,
   "metadata": {},
   "outputs": [
    {
     "name": "stdout",
     "output_type": "stream",
     "text": [
      "aa ab ac ad ae af ag ah ai aj ak al am an ao ap aq ar as at au av aw ax ay az ba bb bc bd be bf bg bh bi bj bk bl bm bn bo bp bq br bs bt bu bv bw bx by bz ca cb cc cd ce cf cg ch ci cj ck cl cm cn co cp cq cr cs ct cu cv cw cx cy cz da db dc dd de df dg dh di dj dk dl dm dn do dp dq dr ds dt du dv dw dx dy dz ea eb ec ed ee ef eg eh ei ej ek el em en eo ep eq er es et eu ev ew ex ey ez fa fb fc fd fe ff fg fh fi fj fk fl fm fn fo fp fq fr fs ft fu fv fw fx fy fz ga gb gc gd ge gf gg gh gi gj gk gl gm gn go gp gq gr gs gt gu gv gw gx gy gz ha hb hc hd he hf hg hh hi hj hk hl hm hn ho hp hq hr hs ht hu hv hw hx hy hz ia ib ic id ie if ig ih ii ij ik il im in io ip iq ir is it iu iv iw ix iy iz ja jb jc jd je jf jg jh ji jj jk jl jm jn jo jp jq jr js jt ju jv jw jx jy jz ka kb kc kd ke kf kg kh ki kj kk kl km kn ko kp kq kr ks kt ku kv kw kx ky kz la lb lc ld le lf lg lh li lj lk ll lm ln lo lp lq lr ls lt lu lv lw lx ly lz ma mb mc md me mf mg mh mi mj mk ml mm mn mo mp mq mr ms mt mu mv mw mx my mz na nb nc nd ne nf ng nh ni nj nk nl nm nn no np nq nr ns nt nu nv nw nx ny nz oa ob oc od oe of og oh oi oj ok ol om on oo op oq or os ot ou ov ow ox oy oz pa pb pc pd pe pf pg ph pi pj pk pl pm pn po pp pq pr ps pt pu pv pw px py pz qa qb qc qd qe qf qg qh qi qj qk ql qm qn qo qp qq qr qs qt qu qv qw qx qy qz ra rb rc rd re rf rg rh ri rj rk rl rm rn ro rp rq rr rs rt ru rv rw rx ry rz sa sb sc sd se sf sg sh si sj sk sl sm sn so sp sq sr ss st su sv sw sx sy sz ta tb tc td te tf tg th ti tj tk tl tm tn to tp tq tr ts tt tu tv tw tx ty tz ua ub uc ud ue uf ug uh ui uj uk ul um un uo up uq ur us ut uu uv uw ux uy uz va vb vc vd ve vf vg vh vi vj vk vl vm vn vo vp vq vr vs vt vu vv vw vx vy vz wa wb wc wd we wf wg wh wi wj wk wl wm wn wo wp wq wr ws wt wu wv ww wx wy wz xa xb xc xd xe xf xg xh xi xj xk xl xm xn xo xp xq xr xs xt xu xv xw xx xy xz ya yb yc yd ye yf yg yh yi yj yk yl ym yn yo yp yq yr ys yt yu yv yw yx yy yz za zb zc zd ze zf zg zh zi zj zk zl zm zn zo zp zq zr zs zt zu zv zw zx zy zz "
     ]
    }
   ],
   "source": [
    "# Print all 2 letter combinations sequentially\n",
    "letter1 = 'a'\n",
    "letter2 = '?'\n",
    "\n",
    "while letter1 <= 'z':\n",
    "    letter2 = 'a'\n",
    "    while letter2 <= 'z':\n",
    "        print(f\"{letter1}{letter2}\", end=' ')\n",
    "\n",
    "        # Converts char to numerical representation with \"ord()\", increments it by one, then casts back into char with \"chr()\"\n",
    "        letter2 = chr(ord(letter2) + 1)\n",
    "\n",
    "    letter1 = chr(ord(letter1) + 1)\n"
   ]
  },
  {
   "cell_type": "code",
   "execution_count": 38,
   "metadata": {},
   "outputs": [
    {
     "name": "stdout",
     "output_type": "stream",
     "text": [
      "* * * * \n",
      "* * * * \n",
      "FRONT\n",
      "1A 1B 1C \n",
      "2A 2B 2C \n",
      "3A 3B 3C \n",
      "4A 4B 4C \n",
      "5A 5B 5C \n",
      "BACK\n"
     ]
    }
   ],
   "source": [
    "# Prints a 4 x 2 grid of asterisks\n",
    "numRows = 2\n",
    "numCols = 4\n",
    "\n",
    "for row in range(numRows):\n",
    "    for col in range(numCols):\n",
    "        print('*', end=' ')\n",
    "    print()\n",
    "\n",
    "# Prints all theater seats based on given rows and cols\n",
    "numRows = 5\n",
    "numCols = 3\n",
    "currRow = 1\n",
    "currCol = 'A'\n",
    "\n",
    "print(\"FRONT\")\n",
    "\n",
    "for i in range(numRows):\n",
    "    currCol = 'A'\n",
    "    for j in range(numCols):\n",
    "        print(f\"{currRow}{currCol}\",end=' ')\n",
    "        currCol = chr(ord(currCol) + 1)\n",
    "    currRow += 1\n",
    "    print()\n",
    "\n",
    "print(\"BACK\")"
   ]
  },
  {
   "cell_type": "markdown",
   "metadata": {},
   "source": [
    "### Loop else"
   ]
  },
  {
   "cell_type": "markdown",
   "metadata": {},
   "source": [
    "Kinda like an if-else statement, but also not really. It will only execute when the loop itself fully executes (without any breaks)."
   ]
  },
  {
   "cell_type": "code",
   "execution_count": 26,
   "metadata": {},
   "outputs": [
    {
     "name": "stdout",
     "output_type": "stream",
     "text": [
      "0\n",
      "Choosing not to print all numbers between 0 and 2.\n",
      "\n",
      "0\n",
      "1\n",
      "2\n",
      "All numbers between 0 and 2 have been printed\n"
     ]
    }
   ],
   "source": [
    "i = 0\n",
    "\n",
    "while i < 3:  # Loop expression\n",
    "    # Loop body: Sub-statements to execute if\n",
    "    # the expression evaluated to True\n",
    "    print(i)\n",
    "    i += 1\n",
    "    if i == 1:\n",
    "        print(\"Choosing not to print all numbers between 0 and 2.\")\n",
    "        break\n",
    "\n",
    "else:\n",
    "    # Else body: Sub-statements to execute once\n",
    "    # if the expression evaluated to False\n",
    "    print(\"else block\")\n",
    "\n",
    "# Works with both types of loops\n",
    "print()\n",
    "\n",
    "for i in range(3):\n",
    "    # Loop body: Sub-statements to execute \n",
    "    # for each item in iterable\n",
    "    print(i)\n",
    "else:\n",
    "    # Else body: Sub-statements to execute \n",
    "    # once when loop completes\n",
    "    print(\"All numbers between 0 and 2 have been printed\")\n",
    "\n",
    "# Statements to execute after the loop"
   ]
  },
  {
   "cell_type": "code",
   "execution_count": 31,
   "metadata": {},
   "outputs": [
    {
     "name": "stdout",
     "output_type": "stream",
     "text": [
      "Bjorn is an acceptable Danish name. Congratulations.\n",
      "Goodbye.\n"
     ]
    }
   ],
   "source": [
    "# Fxn mercilessly stolen off of Stack Exchange from user \"Santosh\" (https://stackoverflow.com/questions/2460177/edit-distance-in-python)\n",
    "def edit_distance(s1, s2):\n",
    "    m = len(s1)+1\n",
    "    n = len(s2)+1\n",
    "\n",
    "    tbl = {}\n",
    "    for i in range(m):\n",
    "        tbl[i, 0] = i\n",
    "    for j in range(n):\n",
    "        tbl[0, j] = j\n",
    "    for i in range(1, m):\n",
    "        for j in range(1, n):\n",
    "            cost = 0 if s1[i-1] == s2[j-1] else 1\n",
    "            tbl[i, j] = min(tbl[i, j-1]+1, tbl[i-1, j]+1, tbl[i-1, j-1]+cost)\n",
    "\n",
    "    return tbl[i, j]\n",
    "\n",
    "\n",
    "# A few legal, acceptable Danish names\n",
    "legal_names = ['Thor', 'Bjork', 'Bailey', 'Anders', 'Bent', 'Bjarne', 'Bjorn',\n",
    "               'Claus', 'Emil', 'Finn', 'Jakob', 'Karen', 'Julie', 'Johanne', 'Anna', 'Anne',\n",
    "               'Bente', 'Eva', 'Helene', 'Ida', 'Inge', 'Susanne', 'Sofie', 'Rikkie', 'Pia',\n",
    "               'Torben', 'Soren', 'Rune', 'Rasmus', 'Per', 'Michael', 'Mads', 'Hanne',\n",
    "               'Dorte'\n",
    "               ]\n",
    "\n",
    "user_name = input('Enter desired name:\\n')\n",
    "if user_name in legal_names:\n",
    "    print('{} is an acceptable Danish name. Congratulations.'.format(user_name))\n",
    "else:\n",
    "    print('{} is not acceptable.'.format(user_name))\n",
    "    for name in legal_names:\n",
    "        if edit_distance(name, user_name) < 2:\n",
    "            print('You might consider: {},'.format(name), end=' ')\n",
    "            break\n",
    "    else:\n",
    "        print('No close matches were found.')\n",
    "print('Goodbye.')\n"
   ]
  },
  {
   "cell_type": "markdown",
   "metadata": {},
   "source": [
    "### Using `enumerate()` to get index and value"
   ]
  },
  {
   "cell_type": "code",
   "execution_count": 46,
   "metadata": {},
   "outputs": [
    {
     "name": "stdout",
     "output_type": "stream",
     "text": [
      "Element 0: 6\n",
      "Element 1: 9\n",
      "Element 2: 3\n",
      "\n",
      "Element 0: 6\n",
      "Element 1: 9\n",
      "Element 2: 3\n",
      "\n",
      "Element 0: 6\n",
      "Element 1: 9\n",
      "Element 2: 3\n"
     ]
    }
   ],
   "source": [
    "l = [6, 9, 3]\n",
    "\n",
    "# Printing values based off of given index to print both\n",
    "for i in range(len(l)):\n",
    "    print(f\"Element {i}: {l[i]}\")\n",
    "\n",
    "print()\n",
    "\n",
    "# Getting index based off of given value to print both\n",
    "for v in l:\n",
    "    # Uses index(val) (kinda like Java indexOf(val)) to get the index that a give value sits at\n",
    "    i = l.index(v)\n",
    "    print(f\"Element {i}: {v}\")\n",
    "\n",
    "print()\n",
    "\n",
    "# Storing both the index and the value with enumerate() func\n",
    "# Cleaner and way more readable. Yields a tuple with each iteration, then it is \"unpacked\" into the given tuple after \"for\"\n",
    "for (i, v) in enumerate(l): \n",
    "    print(f\"Element {i}: {v}\")\n"
   ]
  },
  {
   "cell_type": "markdown",
   "metadata": {},
   "source": [
    "## Functions"
   ]
  },
  {
   "cell_type": "markdown",
   "metadata": {},
   "source": [
    "### General"
   ]
  },
  {
   "cell_type": "markdown",
   "metadata": {},
   "source": [
    "You've already sorta got the jist of it. Functions are used to allow a commonly used function to be performed more simply and beautifully."
   ]
  },
  {
   "cell_type": "code",
   "execution_count": 38,
   "metadata": {},
   "outputs": [
    {
     "name": "stdout",
     "output_type": "stream",
     "text": [
      "172863613 Quarters\n",
      "1 Dime\n",
      "1 Nickel\n",
      "1 Penny\n"
     ]
    }
   ],
   "source": [
    "def pluralize(num, hasY):\n",
    "   ending = \"\"\n",
    "   \n",
    "   if num > 1:\n",
    "      if hasY == 0:   \n",
    "         ending = \"s\"\n",
    "      else:\n",
    "         ending = \"ies\"\n",
    "         \n",
    "   elif hasY == 1:\n",
    "      ending = \"y\"\n",
    "   \n",
    "   return ending\n",
    "\n",
    "totalChange = int(input())\n",
    "numQtrs = totalChange // 25\n",
    "numDimes = (totalChange % 25) // 10\n",
    "numNickels = (((totalChange % 25) % 10)) // 5\n",
    "numPennies = ((((totalChange % 25) % 10)) % 5) // 1\n",
    "\n",
    "if totalChange <= 0:\n",
    "   print(\"No change\")\n",
    "else:\n",
    "    if numQtrs > 0:\n",
    "       print (f\"{numQtrs} Quarter{pluralize(numQtrs, 0)}\")\n",
    "    \n",
    "    if numDimes > 0:\n",
    "       print (f\"{numDimes} Dime{pluralize(numDimes, 0)}\")\n",
    "    \n",
    "    if numNickels > 0:\n",
    "       print (f\"{numNickels} Nickel{pluralize(numNickels, 0)}\")\n",
    "    \n",
    "    if numPennies > 0:\n",
    "       print (f\"{numPennies} Penn{pluralize(numPennies, 1)}\")\n"
   ]
  },
  {
   "cell_type": "markdown",
   "metadata": {},
   "source": [
    "### Print Functions"
   ]
  },
  {
   "cell_type": "markdown",
   "metadata": {},
   "source": [
    "You can create **void functions** (functions that do not have return statements) and have them just print out stuff if you'd like. Print methods can return (like literally just saying `return`) if that's still needed, though."
   ]
  },
  {
   "cell_type": "code",
   "execution_count": 43,
   "metadata": {},
   "outputs": [
    {
     "name": "stdout",
     "output_type": "stream",
     "text": [
      "All I do is print stuff.\n"
     ]
    }
   ],
   "source": [
    "def voidFunc():\n",
    "    print(\"All I do is print stuff.\")\n",
    "\n",
    "voidFunc()"
   ]
  },
  {
   "cell_type": "code",
   "execution_count": 42,
   "metadata": {},
   "outputs": [
    {
     "name": "stdout",
     "output_type": "stream",
     "text": [
      "~~~ We out here ~~~\n"
     ]
    }
   ],
   "source": [
    "def printItFancy(string):\n",
    "    print(f\"~~~ {string} ~~~\")\n",
    "\n",
    "printItFancy(\"We out here\")"
   ]
  },
  {
   "cell_type": "markdown",
   "metadata": {},
   "source": [
    "### Dynamic Typing"
   ]
  },
  {
   "cell_type": "markdown",
   "metadata": {},
   "source": [
    "**Dynamic Typing**: you can pass in any type of variable as an argument (string, int, etc.) and both can be accepted and utilized in the function"
   ]
  },
  {
   "cell_type": "code",
   "execution_count": 44,
   "metadata": {},
   "outputs": [
    {
     "name": "stdout",
     "output_type": "stream",
     "text": [
      "3\n",
      "your mom!\n"
     ]
    }
   ],
   "source": [
    "def add(x, y):\n",
    "    return x + y\n",
    "\n",
    "print(add(1,2))\n",
    "print(add(\"Your \",\"mom!\"))\n",
    "\n",
    "# Kinda works in the same vein as 1 * 2 or 'a' * 2. Apparently ZyBooks wants to call this flexibility polymorphism.\n"
   ]
  },
  {
   "cell_type": "markdown",
   "metadata": {},
   "source": [
    "Python uses duck typing, a form of dynamic typing based on the maxim \"If a bird walks, swims, and quacks like a duck, then call it a duck.\" For example, if an object can be concatenated, sliced, indexed, and converted to lower case, doing everything that a string can do, then treat the object like a string."
   ]
  },
  {
   "cell_type": "markdown",
   "metadata": {},
   "source": [
    "### Mathematical Functions"
   ]
  },
  {
   "cell_type": "code",
   "execution_count": 47,
   "metadata": {},
   "outputs": [
    {
     "name": "stdout",
     "output_type": "stream",
     "text": [
      "-40.0\n",
      "-40\n"
     ]
    }
   ],
   "source": [
    "def celsiusToFahrenheit(tempCelsius):\n",
    "    return tempCelsius * (9 / 5) + 32\n",
    "\n",
    "celsius = -40\n",
    "fahrenheit = celsiusToFahrenheit(celsius)\n",
    "\n",
    "print(fahrenheit)"
   ]
  },
  {
   "cell_type": "markdown",
   "metadata": {},
   "source": [
    "### Function Stubs"
   ]
  },
  {
   "cell_type": "markdown",
   "metadata": {},
   "source": [
    "**What the heck even are function stubs?**\n",
    "\n",
    "They are typically used for incremental development. They are a defined function but the definitions are not written yet. It allows the program behavior to be cap'd, kinda like planning a route on a before going on a drive. \n",
    "\n",
    "You can just have the program `return` or you can use the `pass` keyword, which has the purpose of being a placeholder."
   ]
  },
  {
   "cell_type": "code",
   "execution_count": 50,
   "metadata": {},
   "outputs": [
    {
     "name": "stdout",
     "output_type": "stream",
     "text": [
      "None 2\n"
     ]
    }
   ],
   "source": [
    "def mathsFunc():\n",
    "    return 1+1\n",
    "\n",
    "def futureFunc():\n",
    "    pass\n",
    "\n",
    "test = futureFunc()\n",
    "print(test, mathsFunc())"
   ]
  },
  {
   "cell_type": "markdown",
   "metadata": {},
   "source": [
    "A good practice is to have a stub return -1 to alert the user to the missing definition. You can also print a message notifying that the function needs to be completed."
   ]
  },
  {
   "cell_type": "code",
   "execution_count": 52,
   "metadata": {},
   "outputs": [
    {
     "name": "stdout",
     "output_type": "stream",
     "text": [
      "FIXME: finish futureFunc\n",
      "-1 2\n"
     ]
    }
   ],
   "source": [
    "def mathsFunc():\n",
    "    return 1+1\n",
    "\n",
    "def futureFunc():\n",
    "    print(\"FIXME: finish futureFunc\")\n",
    "    return -1\n",
    "\n",
    "test = futureFunc()\n",
    "print(test, mathsFunc())"
   ]
  },
  {
   "cell_type": "markdown",
   "metadata": {},
   "source": [
    "You can also raise a `NotImplementedError` to... well... throw an error when a function is called that hasn't been implemented. **This will stop program execution!**"
   ]
  },
  {
   "cell_type": "code",
   "execution_count": 54,
   "metadata": {},
   "outputs": [
    {
     "ename": "NotImplementedError",
     "evalue": "",
     "output_type": "error",
     "traceback": [
      "\u001b[1;31m---------------------------------------------------------------------------\u001b[0m",
      "\u001b[1;31mNotImplementedError\u001b[0m                       Traceback (most recent call last)",
      "\u001b[1;32m~\\AppData\\Local\\Temp/ipykernel_16284/4126883663.py\u001b[0m in \u001b[0;36m<module>\u001b[1;34m\u001b[0m\n\u001b[0;32m      2\u001b[0m     \u001b[1;32mraise\u001b[0m \u001b[0mNotImplementedError\u001b[0m\u001b[1;33m\u001b[0m\u001b[1;33m\u001b[0m\u001b[0m\n\u001b[0;32m      3\u001b[0m \u001b[1;33m\u001b[0m\u001b[0m\n\u001b[1;32m----> 4\u001b[1;33m \u001b[0mt\u001b[0m \u001b[1;33m=\u001b[0m \u001b[0mneverFinishedFunc\u001b[0m\u001b[1;33m(\u001b[0m\u001b[1;33m)\u001b[0m\u001b[1;33m\u001b[0m\u001b[1;33m\u001b[0m\u001b[0m\n\u001b[0m",
      "\u001b[1;32m~\\AppData\\Local\\Temp/ipykernel_16284/4126883663.py\u001b[0m in \u001b[0;36mneverFinishedFunc\u001b[1;34m()\u001b[0m\n\u001b[0;32m      1\u001b[0m \u001b[1;32mdef\u001b[0m \u001b[0mneverFinishedFunc\u001b[0m\u001b[1;33m(\u001b[0m\u001b[1;33m)\u001b[0m\u001b[1;33m:\u001b[0m\u001b[1;33m\u001b[0m\u001b[1;33m\u001b[0m\u001b[0m\n\u001b[1;32m----> 2\u001b[1;33m     \u001b[1;32mraise\u001b[0m \u001b[0mNotImplementedError\u001b[0m\u001b[1;33m\u001b[0m\u001b[1;33m\u001b[0m\u001b[0m\n\u001b[0m\u001b[0;32m      3\u001b[0m \u001b[1;33m\u001b[0m\u001b[0m\n\u001b[0;32m      4\u001b[0m \u001b[0mt\u001b[0m \u001b[1;33m=\u001b[0m \u001b[0mneverFinishedFunc\u001b[0m\u001b[1;33m(\u001b[0m\u001b[1;33m)\u001b[0m\u001b[1;33m\u001b[0m\u001b[1;33m\u001b[0m\u001b[0m\n",
      "\u001b[1;31mNotImplementedError\u001b[0m: "
     ]
    }
   ],
   "source": [
    "def neverFinishedFunc():\n",
    "    raise NotImplementedError\n",
    "\n",
    "t = neverFinishedFunc()"
   ]
  },
  {
   "cell_type": "markdown",
   "metadata": {},
   "source": [
    "### Functions are Objects (woah)"
   ]
  },
  {
   "cell_type": "markdown",
   "metadata": {},
   "source": [
    "Python just be weird like that. They each have a type, identity, and value apparently. They are also compiled upon evaluation by the Python interpreter.\n",
    "\n",
    "This also means that you can make a statement assigning a variable to a function!"
   ]
  },
  {
   "cell_type": "code",
   "execution_count": 71,
   "metadata": {},
   "outputs": [
    {
     "name": "stdout",
     "output_type": "stream",
     "text": [
      "Noice!\n",
      "Noice!\n"
     ]
    }
   ],
   "source": [
    "def example():\n",
    "    print(\"Noice!\")\n",
    "\n",
    "example()\n",
    "\n",
    "f = example\n",
    "\n",
    "f()"
   ]
  },
  {
   "cell_type": "code",
   "execution_count": 69,
   "metadata": {},
   "outputs": [
    {
     "name": "stdout",
     "output_type": "stream",
     "text": [
      "   .-\"-.\n",
      " _/.-.-.\\_\n",
      "( ( o o ) )\n",
      " |/  \"  \\|  OOK OOK\n",
      "  \\ .-. /\n",
      "  /`\"\"\"`\\\n",
      "     |\n",
      "   --|--\n",
      "  /  |  \\\n",
      "@    |    @\n",
      "     |\n",
      "    /|\\\n",
      "   @   @\n"
     ]
    }
   ],
   "source": [
    "def print_human_head():\n",
    "    print('   ||||| ')\n",
    "    print('   o   o')\n",
    "    print('     >')\n",
    "    print('   ooooo')\n",
    "    return\n",
    "\n",
    "\n",
    "def print_monkey_head():\n",
    "    print('   .-\"-.')\n",
    "    print(' _/.-.-.\\\\_')\n",
    "    print('( ( o o ) )')\n",
    "    print(' |/  \"  \\\\|  OOK OOK')\n",
    "    print('  \\\\ .-. /')\n",
    "    print('  /`\"\"\"`\\\\')\n",
    "    return\n",
    "\n",
    "\n",
    "def print_figure(face):\n",
    "    face()  # Print the face\n",
    "    print('     |')\n",
    "    print('   --|--')\n",
    "    print('  /  |  \\\\')\n",
    "    print('@    |    @')\n",
    "    print('     |')\n",
    "    print('    /|\\\\')\n",
    "    print('   @   @')\n",
    "    return\n",
    "\n",
    "\n",
    "choice = int(input('Enter \"1\" to draw monkey, \"2\" for human: '))\n",
    "\n",
    "if choice == 1:\n",
    "    print_figure(print_monkey_head)\n",
    "elif choice == 2:\n",
    "    print_figure(print_human_head)\n"
   ]
  },
  {
   "cell_type": "markdown",
   "metadata": {},
   "source": [
    "### Scope/Scope Resolution"
   ]
  },
  {
   "cell_type": "markdown",
   "metadata": {},
   "source": [
    "360 no scope\n",
    "\n",
    "Anyway, vars, data, etc. can only be used from the lowest level they are defined (i.e. iterating variables like `i`, variables in functions, etc.)\n",
    "\n",
    "You can define things globally with the `global` keyword."
   ]
  },
  {
   "cell_type": "code",
   "execution_count": 1,
   "metadata": {},
   "outputs": [
    {
     "name": "stdout",
     "output_type": "stream",
     "text": [
      "look-ie there\n"
     ]
    }
   ],
   "source": [
    "def coolFunc():\n",
    "    global globalVariable # cannot assign it in the same line it is defined.\n",
    "    globalVariable = \"look-ie there\"\n",
    "\n",
    "coolFunc() # Function must be called since Python uses lazy/JIT compilation (I think that's why??). This sets the memory aside for the globalVariable.\n",
    "print(globalVariable)"
   ]
  },
  {
   "cell_type": "markdown",
   "metadata": {},
   "source": [
    "#### Namespaces"
   ]
  },
  {
   "cell_type": "markdown",
   "metadata": {},
   "source": [
    "A namespaces maps a name to objects, which is tracked by the Almighty Interpreter of Pythonis. The namespace is also just a normal 'ol dictionary, too!\n",
    "\n",
    "Current namespaces can be viewed with the `globals()` and `locals()` functions.\n",
    "\n",
    "Functions calls create new local namespaces for tracking it's own scope."
   ]
  },
  {
   "cell_type": "code",
   "execution_count": 3,
   "metadata": {},
   "outputs": [
    {
     "name": "stdout",
     "output_type": "stream",
     "text": [
      "{'__name__': '__main__', '__doc__': 'Automatically created module for IPython interactive environment', '__package__': None, '__loader__': None, '__spec__': None, '__builtin__': <module 'builtins' (built-in)>, '__builtins__': <module 'builtins' (built-in)>, '_ih': ['', 'def coolFunc():\\n    global globalVariable # cannot assign it in the same line it is defined.\\n    globalVariable = \"look-ie there\"\\n\\ncoolFunc() # Function must be called since Python uses lazy/JIT compilation (I think that\\'s why??). This sets the memory aside for the globalVariable.\\nprint(globalVariable)', 'x = 1\\ny = x\\n\\nprint(globals())\\nprint(locals())', 'x = 1\\ny = x\\n\\nprint(globals())\\nprint(\"\\\\n\", locals())'], '_oh': {}, '_dh': ['e:\\\\Ethan\\\\Documents\\\\Code\\\\Python Projects\\\\C859\\\\notebooks'], 'In': ['', 'def coolFunc():\\n    global globalVariable # cannot assign it in the same line it is defined.\\n    globalVariable = \"look-ie there\"\\n\\ncoolFunc() # Function must be called since Python uses lazy/JIT compilation (I think that\\'s why??). This sets the memory aside for the globalVariable.\\nprint(globalVariable)', 'x = 1\\ny = x\\n\\nprint(globals())\\nprint(locals())', 'x = 1\\ny = x\\n\\nprint(globals())\\nprint(\"\\\\n\", locals())'], 'Out': {}, 'get_ipython': <bound method InteractiveShell.get_ipython of <ipykernel.zmqshell.ZMQInteractiveShell object at 0x00000272F2427940>>, 'exit': <IPython.core.autocall.ZMQExitAutocall object at 0x00000272F24CA700>, 'quit': <IPython.core.autocall.ZMQExitAutocall object at 0x00000272F24CA700>, '_': '', '__': '', '___': '', 'site': <module 'site' from 'C:\\\\Users\\\\Ethan\\\\anaconda3\\\\lib\\\\site.py'>, 'os': <module 'os' from 'C:\\\\Users\\\\Ethan\\\\anaconda3\\\\lib\\\\os.py'>, 'sys': <module 'sys' (built-in)>, '__vsc_ipynb_file__': 'e:\\\\Ethan\\\\Documents\\\\Code\\\\Python Projects\\\\C859\\\\notebooks\\\\zybooks-journey.ipynb', '_i': 'x = 1\\ny = x\\n\\nprint(globals())\\nprint(locals())', '_ii': 'def coolFunc():\\n    global globalVariable # cannot assign it in the same line it is defined.\\n    globalVariable = \"look-ie there\"\\n\\ncoolFunc() # Function must be called since Python uses lazy/JIT compilation (I think that\\'s why??). This sets the memory aside for the globalVariable.\\nprint(globalVariable)', '_iii': '', '_i1': 'def coolFunc():\\n    global globalVariable # cannot assign it in the same line it is defined.\\n    globalVariable = \"look-ie there\"\\n\\ncoolFunc() # Function must be called since Python uses lazy/JIT compilation (I think that\\'s why??). This sets the memory aside for the globalVariable.\\nprint(globalVariable)', 'coolFunc': <function coolFunc at 0x00000272F253B040>, 'globalVariable': 'look-ie there', '_i2': 'x = 1\\ny = x\\n\\nprint(globals())\\nprint(locals())', 'x': 1, 'y': 1, '_i3': 'x = 1\\ny = x\\n\\nprint(globals())\\nprint(\"\\\\n\", locals())'}\n",
      "\n",
      " {'__name__': '__main__', '__doc__': 'Automatically created module for IPython interactive environment', '__package__': None, '__loader__': None, '__spec__': None, '__builtin__': <module 'builtins' (built-in)>, '__builtins__': <module 'builtins' (built-in)>, '_ih': ['', 'def coolFunc():\\n    global globalVariable # cannot assign it in the same line it is defined.\\n    globalVariable = \"look-ie there\"\\n\\ncoolFunc() # Function must be called since Python uses lazy/JIT compilation (I think that\\'s why??). This sets the memory aside for the globalVariable.\\nprint(globalVariable)', 'x = 1\\ny = x\\n\\nprint(globals())\\nprint(locals())', 'x = 1\\ny = x\\n\\nprint(globals())\\nprint(\"\\\\n\", locals())'], '_oh': {}, '_dh': ['e:\\\\Ethan\\\\Documents\\\\Code\\\\Python Projects\\\\C859\\\\notebooks'], 'In': ['', 'def coolFunc():\\n    global globalVariable # cannot assign it in the same line it is defined.\\n    globalVariable = \"look-ie there\"\\n\\ncoolFunc() # Function must be called since Python uses lazy/JIT compilation (I think that\\'s why??). This sets the memory aside for the globalVariable.\\nprint(globalVariable)', 'x = 1\\ny = x\\n\\nprint(globals())\\nprint(locals())', 'x = 1\\ny = x\\n\\nprint(globals())\\nprint(\"\\\\n\", locals())'], 'Out': {}, 'get_ipython': <bound method InteractiveShell.get_ipython of <ipykernel.zmqshell.ZMQInteractiveShell object at 0x00000272F2427940>>, 'exit': <IPython.core.autocall.ZMQExitAutocall object at 0x00000272F24CA700>, 'quit': <IPython.core.autocall.ZMQExitAutocall object at 0x00000272F24CA700>, '_': '', '__': '', '___': '', 'site': <module 'site' from 'C:\\\\Users\\\\Ethan\\\\anaconda3\\\\lib\\\\site.py'>, 'os': <module 'os' from 'C:\\\\Users\\\\Ethan\\\\anaconda3\\\\lib\\\\os.py'>, 'sys': <module 'sys' (built-in)>, '__vsc_ipynb_file__': 'e:\\\\Ethan\\\\Documents\\\\Code\\\\Python Projects\\\\C859\\\\notebooks\\\\zybooks-journey.ipynb', '_i': 'x = 1\\ny = x\\n\\nprint(globals())\\nprint(locals())', '_ii': 'def coolFunc():\\n    global globalVariable # cannot assign it in the same line it is defined.\\n    globalVariable = \"look-ie there\"\\n\\ncoolFunc() # Function must be called since Python uses lazy/JIT compilation (I think that\\'s why??). This sets the memory aside for the globalVariable.\\nprint(globalVariable)', '_iii': '', '_i1': 'def coolFunc():\\n    global globalVariable # cannot assign it in the same line it is defined.\\n    globalVariable = \"look-ie there\"\\n\\ncoolFunc() # Function must be called since Python uses lazy/JIT compilation (I think that\\'s why??). This sets the memory aside for the globalVariable.\\nprint(globalVariable)', 'coolFunc': <function coolFunc at 0x00000272F253B040>, 'globalVariable': 'look-ie there', '_i2': 'x = 1\\ny = x\\n\\nprint(globals())\\nprint(locals())', 'x': 1, 'y': 1, '_i3': 'x = 1\\ny = x\\n\\nprint(globals())\\nprint(\"\\\\n\", locals())'}\n"
     ]
    }
   ],
   "source": [
    "x = 1\n",
    "y = x\n",
    "\n",
    "print(globals())\n",
    "print(\"\\n\", locals())"
   ]
  },
  {
   "cell_type": "markdown",
   "metadata": {},
   "source": [
    "### Arguments"
   ]
  },
  {
   "cell_type": "markdown",
   "metadata": {},
   "source": [
    "Object references are passed whenever supplied as arguments to functions (instead of creating a duplicate variable, the reference is just handed over.):\n",
    "\n",
    "If the object is **immutable**, like a string or int, modifications result in a new object being created and leave the original object unchanged.\n",
    "\n",
    "If the object is **mutable**, like a list or dictionary, modifications can be seen outside of the function's scope. This means it won't need to be returned!"
   ]
  },
  {
   "cell_type": "code",
   "execution_count": 25,
   "metadata": {},
   "outputs": [
    {
     "name": "stdout",
     "output_type": "stream",
     "text": [
      "Original string: Wow\n",
      "Original list: [1, 2, 3]\n",
      "String after passing in function: Wow\n",
      "List after passing in function: [1, 2, 3, 'dog']\n",
      "This should be unchanged: [1, 2, 3, 'dog']\n"
     ]
    }
   ],
   "source": [
    "def changeStr(inputString):\n",
    "    inputString += \"!\"\n",
    "    return inputString\n",
    "\n",
    "\n",
    "def changeList(inputList):\n",
    "    inputList.append('dog')\n",
    "\n",
    "\n",
    "myString = \"Wow\"\n",
    "myList = [1, 2, 3]\n",
    "\n",
    "print(\"Original string:\", myString)\n",
    "print(\"Original list:\", myList)\n",
    "\n",
    "changeStr(myString)\n",
    "changeList(myList)\n",
    "\n",
    "print(\"String after passing in function:\", myString)\n",
    "print(\"List after passing in function:\", myList)\n",
    "\n",
    "\n",
    "# You can protect your mutable objects from changes in functions by passing in copies\n",
    "\n",
    "# The [:] creates a copy of the object. It can't be stored in a variable or anything since nothing is returned, so... an object is made, changed, and becomes garbage\n",
    "changeList(myList[:])\n",
    "print(\"This should be unchanged:\", myList)   # Notice how it is unchanged\n"
   ]
  },
  {
   "cell_type": "code",
   "execution_count": null,
   "metadata": {},
   "outputs": [],
   "source": [
    "# Create a function that swaps the first and the last elements of a list.\n",
    "\n",
    "def swap(input_list):\n",
    "    temp = input_list[0]\n",
    "    input_list[0] = input_list[-1]\n",
    "    input_list[-1] = temp\n",
    "\n",
    "values_list = input().split(',')  # Program receives comma-separated values like 5,4,12,19\n",
    "swap(values_list)\n",
    "\n",
    "print(values_list)"
   ]
  },
  {
   "cell_type": "markdown",
   "metadata": {},
   "source": [
    "### Keyword Args and Default Params"
   ]
  },
  {
   "cell_type": "markdown",
   "metadata": {},
   "source": [
    "You can explicitly state what parameter is being passed in when making a function call (see below):"
   ]
  },
  {
   "cell_type": "code",
   "execution_count": 35,
   "metadata": {},
   "outputs": [
    {
     "name": "stdout",
     "output_type": "stream",
     "text": [
      "Ta Mere No, thank you 12\n",
      "Birdie 11001011 yes\n"
     ]
    }
   ],
   "source": [
    "def funkyFunc(name, date, age):\n",
    "    print(name, date, age)\n",
    "\n",
    "funkyFunc(age=12, date=\"No, thank you\", name=\"Ta Mere\")\n",
    "\n",
    "# Each keyword must have a positional argument, i.e. they all must be defined UNLESS the one with the positional arg is LAST. Even then, it must be in order\n",
    "funkyFunc(\"Birdie\", \"11001011\", age=\"yes\")"
   ]
  },
  {
   "cell_type": "markdown",
   "metadata": {},
   "source": [
    "Default param values can be set, but it must be the last one UNLESS you want each one after a given arg to be assigned a default value."
   ]
  },
  {
   "cell_type": "code",
   "execution_count": 38,
   "metadata": {},
   "outputs": [
    {
     "name": "stdout",
     "output_type": "stream",
     "text": [
      "Test 1197 89\n"
     ]
    }
   ],
   "source": [
    "def funkyFunc(name, date, age=89):\n",
    "    print(name, date, age)\n",
    "\n",
    "funkyFunc(\"Test\",\"1197\")"
   ]
  },
  {
   "cell_type": "markdown",
   "metadata": {},
   "source": [
    "One common error with default values is setting an empty list as a default value. See below for more details."
   ]
  },
  {
   "cell_type": "code",
   "execution_count": 57,
   "metadata": {},
   "outputs": [
    {
     "name": "stdout",
     "output_type": "stream",
     "text": [
      "First swap; ([-1, 'b', 'c', 'd'], ['a'])\n",
      "Second swap (with second arg): ([1, 'b', 'c', 'd'], [-1, 2, 3, 4])\n",
      "Third swap: (['a', 'b', 'c', 'd'], [1])\n"
     ]
    }
   ],
   "source": [
    "# This one will create a list object that will persist\n",
    "def swapBetweenLists(list1, list2=[-1]):\n",
    "    # Swaps the first elements of two given lists.\n",
    "    temp = list1[0]\n",
    "    list1[0] = list2[0]\n",
    "    list2[0] = temp\n",
    "\n",
    "    return list1, list2\n",
    "\n",
    "myList = ['a','b','c','d']\n",
    "mySecondList = [1,2,3,4]\n",
    "\n",
    "print(\"First swap;\", swapBetweenLists(myList))\n",
    "print(\"Second swap (with second arg):\", swapBetweenLists(myList, mySecondList))\n",
    "print(\"Third swap:\", swapBetweenLists(myList))\n",
    "\n"
   ]
  },
  {
   "cell_type": "code",
   "execution_count": 56,
   "metadata": {},
   "outputs": [
    {
     "name": "stdout",
     "output_type": "stream",
     "text": [
      "\n",
      "**CORRECTED** First swap; ([-1, 'b', 'c', 'd'], ['a'])\n",
      "**CORRECTED** Second swap (with second arg): ([1, 'b', 'c', 'd'], [-1, 2, 3, 4])\n",
      "**CORRECTED** Third swap: ([-1, 'b', 'c', 'd'], [1])\n",
      "**CORRECTED** Fourth swap: ([-1, 'b', 'c', 'd'], [-1])\n"
     ]
    }
   ],
   "source": [
    "# This one corrects the bug and only creates a list if one has not been made\n",
    "def swapBetweenLists(list1, list2=None):\n",
    "    # Swaps the first elements of two given lists.\n",
    "    # If a list was not presented, create a list to use by default\n",
    "    if list2 == None:\n",
    "        list2 = [-1]\n",
    "\n",
    "    temp = list1[0]\n",
    "    list1[0] = list2[0]\n",
    "    list2[0] = temp\n",
    "\n",
    "    return list1, list2\n",
    "\n",
    "myList = ['a','b','c','d']\n",
    "mySecondList = [1,2,3,4]\n",
    "\n",
    "print()\n",
    "print(\"**CORRECTED** First swap;\", swapBetweenLists(myList))\n",
    "print(\"**CORRECTED** Second swap (with second arg):\", swapBetweenLists(myList, mySecondList))\n",
    "print(\"**CORRECTED** Third swap:\", swapBetweenLists(myList))\n",
    "print(\"**CORRECTED** Fourth swap:\", swapBetweenLists(myList))"
   ]
  },
  {
   "cell_type": "markdown",
   "metadata": {},
   "source": [
    "You can also mix it all together"
   ]
  },
  {
   "cell_type": "code",
   "execution_count": 60,
   "metadata": {},
   "outputs": [
    {
     "name": "stdout",
     "output_type": "stream",
     "text": [
      "1/30/2012\n",
      "1/1/2000\n",
      "4/1/2012\n"
     ]
    }
   ],
   "source": [
    "# Most of this was copied straight out of ZyBooks. Yay!!\n",
    "def print_date(day=1, month=1, year=2000, style=0):\n",
    "    if style == 0:\n",
    "        print(f\"{month}/{day}/{year}\")\n",
    "    elif style == 1:\n",
    "        print(f\"{day}/{month}/{year}\")\n",
    "    else:\n",
    "        print(style, \"was provided for the style. Please provide either 1 or 0.\")\n",
    "\n",
    "\n",
    "print_date(day=30, year=2012)   # Defaults:        month=1,            style=0\n",
    "print_date(style=1)             # Defaults: day=1, month=1, year=2000\n",
    "print_date(year=2012, month=4)  # Defaults: day=1,                     style=0"
   ]
  },
  {
   "cell_type": "code",
   "execution_count": 74,
   "metadata": {},
   "outputs": [
    {
     "name": "stdout",
     "output_type": "stream",
     "text": [
      "Cost per diner: 14.52\n",
      "Cost per diner: 19.06\n"
     ]
    }
   ],
   "source": [
    "def split_check(bill, people, tax_percentage=0.09, tip_percentage=0.15):\n",
    "    total_cost = bill + (bill * tax_percentage) + (bill * tip_percentage)\n",
    "    return total_cost / people\n",
    "\n",
    "bill = 23.42\n",
    "people = 2\n",
    "\n",
    "# Cost per diner at the default tax and tip percentages\n",
    "print('Cost per diner:', round(split_check(bill, people), 2))\n",
    "\n",
    "bill = 270.18\n",
    "people = 18\n",
    "new_tax_percentage = .07\n",
    "new_tip_percentage = .20\n",
    "\n",
    "# Cost per diner at different tax and tip percentages\n",
    "print('Cost per diner:', round(split_check(bill, people, new_tax_percentage, new_tip_percentage), 2))"
   ]
  },
  {
   "cell_type": "markdown",
   "metadata": {},
   "source": [
    "### Arbitrary Args"
   ]
  },
  {
   "cell_type": "markdown",
   "metadata": {},
   "source": [
    "Sometimes you just have no clue how many arguments will be provided. You can use:\n",
    "* `*args` - all args passed into this guy  will be stored as a tuple\n",
    "* `**kwargs` - short for keyword arguments. Similar behavior to *args but allows you to keyword what you are providing. Creates a dictionary.\n",
    "\n",
    "The names \"args\" and \"kwargs\" are just standard practice, the number of *'s is the only thing that matters. So `*applications` or `**dogs` also works."
   ]
  },
  {
   "cell_type": "code",
   "execution_count": 87,
   "metadata": {},
   "outputs": [
    {
     "name": "stdout",
     "output_type": "stream",
     "text": [
      "A tuple of all of my arbitrary arguments: (3, 4, 5, 6)\n",
      "Ham on Rye\n",
      "   sauce1: relish\n",
      "   topping1: lettuce\n",
      "Turkey on Sourdough\n",
      "   sauce1: catsup\n",
      "   topping1: onion\n",
      "   topping2: tomato\n",
      "Ham on \n",
      "   sauce1: relish\n",
      "   topping1: lettuce\n"
     ]
    }
   ],
   "source": [
    "# The magic of \"*args\"\n",
    "\n",
    "def endlessArgs(arg1, arg2, *args):\n",
    "    return args\n",
    "\n",
    "\n",
    "print(\"A tuple of all of my arbitrary arguments:\", endlessArgs(1, 2, 3, 4, 5, 6))\n",
    "\n",
    "# The majesty of \"**kwargs\"\n",
    "\n",
    "def printSandwich(bread, meat, **kwargs):\n",
    "    print('{} on {}'.format(meat, bread))\n",
    "    for category, extra in kwargs.items():\n",
    "        print('   {}: {}'.format(category, extra))\n",
    "\n",
    "printSandwich(\"Rye\", \"Ham\", sauce1=\"relish\", topping1=\"lettuce\")\n",
    "printSandwich(\"Sourdough\", \"Turkey\", sauce1=\"catsup\", topping1=\"onion\", topping2=\"tomato\")\n",
    "\n",
    "# Both can be combined to create something glorious\n",
    "\n",
    "def printSandwich(bread, meat, *otherMeats, **toppings):    # The order must be *args, **kwargs if they are used this way. You can also change the name of \"args\" or \"kwargs\" to anything\n",
    "    if otherMeats:\n",
    "        print(f'{meat}{\", \".join(otherMeats)} on {bread}')\n",
    "    else:\n",
    "        print('{} on {}'.format(meat, bread))\n",
    "    for category, extra in toppings.items():\n",
    "        print('   {}: {}'.format(category, extra))\n",
    "\n",
    "printSandwich(\"Rye\", \"Ham\", sauce1=\"relish\", topping1=\"lettuce\")"
   ]
  },
  {
   "cell_type": "code",
   "execution_count": 88,
   "metadata": {},
   "outputs": [
    {
     "name": "stdout",
     "output_type": "stream",
     "text": [
      "notepad.exe\n",
      "Powerpoint.exe --file=pres.ppt --start=True --slide=3\n"
     ]
    }
   ],
   "source": [
    "def gen_command(application, **kwargs):\n",
    "    command = application\n",
    "\n",
    "    for argument in kwargs:\n",
    "        command += ' --{}={}'.format(argument, kwargs[argument])\n",
    "    return command\n",
    "\n",
    "print(gen_command('notepad.exe'))  # No options\n",
    "print(gen_command('Powerpoint.exe', file='pres.ppt', start=True, slide=3))"
   ]
  },
  {
   "cell_type": "markdown",
   "metadata": {},
   "source": [
    "### Multiple Func Outputs"
   ]
  },
  {
   "cell_type": "markdown",
   "metadata": {},
   "source": [
    "You literally did it a little bit earlier but you can just do stuff like `return result1, result2` and it will give you a tuple.\n",
    "\n",
    "You can unpack the returned result (if it's a tuple) by making the expression `value1, value2 = multiOutFunc(args)`. This does not require parentheses but they can be included if desired."
   ]
  },
  {
   "cell_type": "code",
   "execution_count": 13,
   "metadata": {},
   "outputs": [
    {
     "name": "stdout",
     "output_type": "stream",
     "text": [
      "Average score: 85.75\n",
      "Standard deviation: 12.64\n"
     ]
    }
   ],
   "source": [
    "def getGradeStats(scores):\n",
    "    mean = sum(scores) / len(scores)\n",
    "    \n",
    "    temp = 0\n",
    "    for score in scores:\n",
    "        temp += (score - mean) ** 2\n",
    "\n",
    "    stdDev = (temp/len(scores)) ** 0.5\n",
    "\n",
    "    return mean, stdDev\n",
    "\n",
    "studentScores = [99, 100, 78, 91, 67, 84, 83, 82, 88, 100, 98, 59]\n",
    "\n",
    "# Unpack the returned tuple into two variables\n",
    "calculatedMean, calculatedStdDev = getGradeStats(studentScores)\n",
    "\n",
    "print(\"Average score:\", round(calculatedMean, 2))\n",
    "print(\"Standard deviation:\", round(calculatedStdDev, 2))"
   ]
  },
  {
   "cell_type": "markdown",
   "metadata": {},
   "source": [
    "Returning as different types (lists, etc.) can be performed by insinuating that what is being returned is the desired type, i.e. `return [val1, val2]`. You can also mix it to where a tuple AND a list are returned (`return a, b, [c, d]`)\n",
    "\n",
    "It can be unpacked the same way, stored in a variable, passed into another function, and more."
   ]
  },
  {
   "cell_type": "code",
   "execution_count": 9,
   "metadata": {},
   "outputs": [
    {
     "name": "stdout",
     "output_type": "stream",
     "text": [
      "Min: 59 Max: 100\n"
     ]
    }
   ],
   "source": [
    "def getMinMaxScore(scores):\n",
    "    return [min(scores), max(scores)]\n",
    "\n",
    "studentScores = [99, 100, 78, 91, 67, 84, 83, 82, 88, 100, 98, 59]\n",
    "\n",
    "# Unpack the returned tuple into two variables\n",
    "minScore, maxScore = getMinMaxScore(studentScores)\n",
    "\n",
    "print(\"Min:\", minScore, \"Max:\", maxScore)"
   ]
  },
  {
   "cell_type": "markdown",
   "metadata": {},
   "source": [
    "### Docstrings and the `help()` function"
   ]
  },
  {
   "cell_type": "markdown",
   "metadata": {},
   "source": [
    "Docstrings allow you to document what the heck a function does.\n",
    "\n",
    "It is good practice to keep docstrings for simple functions one line, while explaining the more complicated ones clearly. It is also best practice to not have blank lines before or after a docstring"
   ]
  },
  {
   "cell_type": "code",
   "execution_count": 21,
   "metadata": {},
   "outputs": [
    {
     "name": "stdout",
     "output_type": "stream",
     "text": [
      "Help on function exFunc in module __main__:\n",
      "\n",
      "exFunc()\n",
      "    This is a docstring\n",
      "    This will also be printed when help(exFunc) is executed\n",
      "    Put something helpful in this.\n",
      "\n"
     ]
    }
   ],
   "source": [
    "def exFunc():\n",
    "    \"\"\"This is a docstring\n",
    "    This will also be printed when help(exFunc) is executed\n",
    "    Put something helpful in this.\n",
    "    \"\"\"\n",
    "\n",
    "help(exFunc)"
   ]
  },
  {
   "cell_type": "markdown",
   "metadata": {},
   "source": [
    "More complicated functions should be formatted consistently."
   ]
  },
  {
   "cell_type": "code",
   "execution_count": 23,
   "metadata": {},
   "outputs": [
    {
     "name": "stdout",
     "output_type": "stream",
     "text": [
      "Help on function ticketPrice in module __main__:\n",
      "\n",
      "ticketPrice(origin, destination, coach=True, first_class=False)\n",
      "    Calculates the price of a ticket between two airports.\n",
      "    Only one of coach or first_class must be True.\n",
      "    \n",
      "    Arguments:\n",
      "    origin -- string representing code of origin airport\n",
      "    destination -- string representing code of destination airport\n",
      "    \n",
      "    Optional keyword arguments:\n",
      "    coach -- Boolean. True if ticket cost priced for a coach class ticket (default True)\n",
      "    first_class -- Boolean. True if ticket cost priced for a first class ticket (default False)\n",
      "\n"
     ]
    }
   ],
   "source": [
    "\n",
    "def ticketPrice(origin, destination, coach=True, first_class=False):\n",
    "    \"\"\"Calculates the price of a ticket between two airports.\n",
    "    Only one of coach or first_class must be True.\n",
    "\n",
    "    Arguments:\n",
    "    origin -- string representing code of origin airport\n",
    "    destination -- string representing code of destination airport\n",
    "\n",
    "    Optional keyword arguments:\n",
    "    coach -- Boolean. True if ticket cost priced for a coach class ticket (default True)\n",
    "    first_class -- Boolean. True if ticket cost priced for a first class ticket (default False)\n",
    "\n",
    "    \"\"\"\n",
    "    #Function body statements ...\n",
    "\n",
    "help(ticketPrice)"
   ]
  },
  {
   "cell_type": "code",
   "execution_count": 24,
   "metadata": {},
   "outputs": [
    {
     "name": "stdout",
     "output_type": "stream",
     "text": [
      "Help on module __main__:\n",
      "\n",
      "NAME\n",
      "    __main__ - Automatically created module for IPython interactive environment\n",
      "\n",
      "FUNCTIONS\n",
      "    exFunc()\n",
      "        This is a docstring\n",
      "        This will also be printed when help(exFunc) is executed\n",
      "        Put something helpful in this.\n",
      "    \n",
      "    getGradeStats(scores)\n",
      "    \n",
      "    getMinMaxScore(scores)\n",
      "    \n",
      "    ticketPrice(origin, destination, coach=True, first_class=False)\n",
      "        Calculates the price of a ticket between two airports.\n",
      "        Only one of coach or first_class must be True.\n",
      "        \n",
      "        Arguments:\n",
      "        origin -- string representing code of origin airport\n",
      "        destination -- string representing code of destination airport\n",
      "        \n",
      "        Optional keyword arguments:\n",
      "        coach -- Boolean. True if ticket cost priced for a coach class ticket (default True)\n",
      "        first_class -- Boolean. True if ticket cost priced for a first class ticket (default False)\n",
      "\n",
      "DATA\n",
      "    In = ['', 'def getGradeStats(scores):\\n    mean = sum(scores...n)\\npri...\n",
      "    Out = {14: '\\nThis is a docstring\\n\\nThis will also be printed when he...\n",
      "    __ = ''\n",
      "    ___ = ''\n",
      "    __vsc_ipynb_file__ = r'e:\\Ethan\\Documents\\Code\\Python Projects\\C859\\no...\n",
      "    calculatedMean = 85.75\n",
      "    calculatedStdDev = 12.636751956100111\n",
      "    exit = <IPython.core.autocall.ZMQExitAutocall object>\n",
      "    maxScore = 100\n",
      "    minScore = 59\n",
      "    quit = <IPython.core.autocall.ZMQExitAutocall object>\n",
      "    studentScores = [99, 100, 78, 91, 67, 84, 83, 82, 88, 100, 98, 59]\n",
      "\n",
      "FILE\n",
      "    (built-in)\n",
      "\n",
      "\n"
     ]
    }
   ],
   "source": [
    "help(__name__)"
   ]
  },
  {
   "cell_type": "markdown",
   "metadata": {},
   "source": [
    "### Unit Tests"
   ]
  },
  {
   "cell_type": "markdown",
   "metadata": {},
   "source": [
    "This is where it gets good...\n",
    "\n",
    "Unit tests evaluate func's to see if it's named correctly and returns the correct type and returns the correct value.\n",
    "\n",
    "`if __name__ == '__main__'` is used to keep the main function's code separate from another function's so each function can be tested (why would you test the function you are operating out of if it's not explicitly what you want to do, right?). "
   ]
  },
  {
   "cell_type": "code",
   "execution_count": 27,
   "metadata": {},
   "outputs": [
    {
     "name": "stdout",
     "output_type": "stream",
     "text": [
      "0.5444646098003629 lbs\n"
     ]
    }
   ],
   "source": [
    "def kiloToPounds(kilos):\n",
    "    # This statement intentionally has an error. \n",
    "    return (kilos / 2.204)  # should be '*' not '/'\n",
    "\n",
    "\n",
    "if __name__ == '__main__':\n",
    "    kilos = float(input());\n",
    "    \n",
    "    pounds = kiloToPounds(kilos);\n",
    "    print(pounds, \"lbs\");"
   ]
  },
  {
   "cell_type": "markdown",
   "metadata": {},
   "source": [
    "This allows you to create testing code that won't be used when importing the function but will still exist for future updates!"
   ]
  },
  {
   "cell_type": "markdown",
   "metadata": {},
   "source": [
    "## Command-line Things"
   ]
  },
  {
   "cell_type": "markdown",
   "metadata": {},
   "source": [
    "### Arguments"
   ]
  },
  {
   "cell_type": "markdown",
   "metadata": {},
   "source": [
    "Sometimes you might want to run a Python script with arguments in a text document. To do that you can do something like:\n",
    "\n",
    "`python program.py arguments.txt`  --> This will be stored automatically into the list `sys.argv` (inside of the \"sys\" module)\n",
    "* Consists of one string element for each argument supplied -- separated by whitespace\n",
    "* This includes EVERYTHING after \"python\", to include the path of the program"
   ]
  },
  {
   "cell_type": "code",
   "execution_count": 9,
   "metadata": {},
   "outputs": [
    {
     "name": "stdout",
     "output_type": "stream",
     "text": [
      "You are --ip=127.0.0.1 and happen to be --stdin=9003 year(s) old.\n",
      "You are working out of 'C:\\Users\\Ethan\\anaconda3\\lib\\site-packages\\ipykernel_launcher.py'\n",
      "11 arguments have been passed (everything after 'python')!\n"
     ]
    }
   ],
   "source": [
    "import sys\n",
    "\n",
    "operatingDir = sys.argv[0]\n",
    "name = sys.argv[1]\n",
    "age = sys.argv[2]   # you can also cast this as an int to validate it's a numeral\n",
    "\n",
    "print(f\"You are {name} and happen to be {age} year(s) old.\")\n",
    "print(f\"You are working out of '{operatingDir}'\")\n",
    "print(f\"{len(sys.argv)} arguments have been passed (everything after 'python')!\")"
   ]
  },
  {
   "cell_type": "markdown",
   "metadata": {},
   "source": [
    "It's good practice to check the length to ensure enough args have been provided. You don't want to try throw any `IndexError`'s now, do ya?\n",
    "\n",
    "This can also sorta be used to ignore too many arguments."
   ]
  },
  {
   "cell_type": "code",
   "execution_count": 14,
   "metadata": {},
   "outputs": [
    {
     "name": "stdout",
     "output_type": "stream",
     "text": [
      "Usage: python dummyProg.py name age\n",
      "\n"
     ]
    },
    {
     "ename": "SystemExit",
     "evalue": "1",
     "output_type": "error",
     "traceback": [
      "An exception has occurred, use %tb to see the full traceback.\n",
      "\u001b[1;31mSystemExit\u001b[0m\u001b[1;31m:\u001b[0m 1\n"
     ]
    }
   ],
   "source": [
    "# Printing a usage message in case too many args are supplied.\n",
    "if len(sys.argv) != 3:\n",
    "    print(\"Usage: python dummyProg.py name age\\n\")\n",
    "    sys.exit(1)     # Exit the program and indicate an error with 1\n",
    "\n",
    "operatingDir = sys.argv[0]\n",
    "name = sys.argv[1]\n",
    "age = int(sys.argv[2])\n",
    "\n",
    "print(f\"You are {name} and happen to be {age} year(s) old.\")\n",
    "\n",
    "# You can pass in a string literal with spaces as a single argument by surrounding it in quotes.\n",
    "'''\n",
    "cmd --> python dummyProg.py \"First Last\" 12\n",
    "\n",
    "Output: You are First Last and happen to be 12 year(s) old.\n",
    "'''"
   ]
  },
  {
   "cell_type": "markdown",
   "metadata": {},
   "source": [
    "## Exceptions"
   ]
  },
  {
   "cell_type": "markdown",
   "metadata": {},
   "source": [
    "### `try` and `except`"
   ]
  },
  {
   "cell_type": "markdown",
   "metadata": {},
   "source": [
    "Try-except blocks are basically try-catch"
   ]
  },
  {
   "cell_type": "code",
   "execution_count": 6,
   "metadata": {},
   "outputs": [
    {
     "name": "stdout",
     "output_type": "stream",
     "text": [
      "32134\n"
     ]
    }
   ],
   "source": [
    "userInput = input()\n",
    "\n",
    "try:\n",
    "    intInput = int(userInput)\n",
    "    print(intInput + 2)\n",
    "except:\n",
    "    print(\"Please provide an integer\")"
   ]
  },
  {
   "cell_type": "markdown",
   "metadata": {},
   "source": [
    "You can have multiple handlers!"
   ]
  },
  {
   "cell_type": "code",
   "execution_count": 21,
   "metadata": {},
   "outputs": [
    {
     "name": "stdout",
     "output_type": "stream",
     "text": [
      "Invalid height entered. Must be > 0.\n"
     ]
    }
   ],
   "source": [
    "user_input = ''\n",
    "while user_input != 'q':\n",
    "    try:\n",
    "        weight = int(input(\"Enter weight (in pounds): \"))\n",
    "        height = int(input(\"Enter height (in inches): \"))\n",
    "\n",
    "        bmi = (float(weight) / float(height * height)) * 703\n",
    "        print('BMI:', bmi)\n",
    "        print('(CDC: 18.6-24.9 normal)\\n')  # Source www.cdc.gov\n",
    "    except ValueError:\n",
    "        print('Could not calculate health info.\\n')\n",
    "    except ZeroDivisionError:\n",
    "        print('Invalid height entered. Must be > 0.')\n",
    "    except (AttributeError, IOError):\n",
    "        # Handles both errors\n",
    "        print(\"How did you make this happen?\")\n",
    "    except:\n",
    "        # Handles every other error\n",
    "        print(\"Something went terribly wrong\")\n",
    "\n",
    "    user_input = input(\"Enter any key ('q' to quit): \")"
   ]
  },
  {
   "cell_type": "markdown",
   "metadata": {},
   "source": [
    "### Raising Exceptions"
   ]
  },
  {
   "cell_type": "code",
   "execution_count": 70,
   "metadata": {},
   "outputs": [
    {
     "ename": "ZeroDivisionError",
     "evalue": "Stop putting in zeros",
     "output_type": "error",
     "traceback": [
      "\u001b[1;31m---------------------------------------------------------------------------\u001b[0m",
      "\u001b[1;31mZeroDivisionError\u001b[0m                         Traceback (most recent call last)",
      "\u001b[1;32m~\\AppData\\Local\\Temp/ipykernel_15484/895953314.py\u001b[0m in \u001b[0;36m<module>\u001b[1;34m\u001b[0m\n\u001b[0;32m      5\u001b[0m \u001b[1;33m\u001b[0m\u001b[0m\n\u001b[0;32m      6\u001b[0m \u001b[1;32mif\u001b[0m \u001b[0mnum\u001b[0m \u001b[1;33m==\u001b[0m \u001b[1;34m'0'\u001b[0m\u001b[1;33m:\u001b[0m\u001b[1;33m\u001b[0m\u001b[1;33m\u001b[0m\u001b[0m\n\u001b[1;32m----> 7\u001b[1;33m         \u001b[1;32mraise\u001b[0m \u001b[0mZeroDivisionError\u001b[0m\u001b[1;33m(\u001b[0m\u001b[1;34m\"Stop putting in zeros\"\u001b[0m\u001b[1;33m)\u001b[0m\u001b[1;33m\u001b[0m\u001b[1;33m\u001b[0m\u001b[0m\n\u001b[0m\u001b[0;32m      8\u001b[0m \u001b[1;33m\u001b[0m\u001b[0m\n\u001b[0;32m      9\u001b[0m \u001b[1;32mtry\u001b[0m\u001b[1;33m:\u001b[0m\u001b[1;33m\u001b[0m\u001b[1;33m\u001b[0m\u001b[0m\n",
      "\u001b[1;31mZeroDivisionError\u001b[0m: Stop putting in zeros"
     ]
    }
   ],
   "source": [
    "num = input()\n",
    "\n",
    "if not num.isdigit():\n",
    "    raise ValueError(\"Please stop putting in non-digits.\")\n",
    "\n",
    "if num == '0':\n",
    "        raise ZeroDivisionError(\"Stop putting in zeros\")\n",
    "\n",
    "try:\n",
    "    num = int(num)\n",
    "    num /= num\n",
    "    print(num)\n",
    "except:\n",
    "    print(\"oops\")"
   ]
  },
  {
   "cell_type": "markdown",
   "metadata": {},
   "source": [
    "You can carry exceptions in a way"
   ]
  },
  {
   "cell_type": "code",
   "execution_count": 73,
   "metadata": {},
   "outputs": [
    {
     "name": "stdout",
     "output_type": "stream",
     "text": [
      "Error: num less than 10\n",
      "Something else\n"
     ]
    }
   ],
   "source": [
    "try:\n",
    "    # Any raises in here will automatically go to the except block (if there is one)\n",
    "    num = 10 / 12\n",
    "    if num < 10:\n",
    "        raise ValueError(\"num less than 10\")    # This will get carried into the except block!\n",
    "    if num > 10:\n",
    "        raise ValueError(\"num greater than 10\")\n",
    "except ValueError as excpt:\n",
    "    print(f\"Error: {excpt}\")\n",
    "    print(\"Something else\")\n",
    "except:\n",
    "    print(\"Wow... how?\")"
   ]
  },
  {
   "cell_type": "markdown",
   "metadata": {},
   "source": [
    "### Exceptions + Functions"
   ]
  },
  {
   "cell_type": "code",
   "execution_count": 82,
   "metadata": {},
   "outputs": [
    {
     "name": "stdout",
     "output_type": "stream",
     "text": [
      "n\n",
      "o\n",
      "Error: I cannot take no for an answer.\n",
      "Please try again.\n"
     ]
    }
   ],
   "source": [
    "# Take a guess as to how this will be done\n",
    "def getInput():\n",
    "    # Put whatever logic, etc you want in here. \n",
    "    # Use the error raised to tell the programmer how they messed up.\n",
    "    value = input(\"Please provide some input.\")\n",
    "    if value.lower() == \"no\":\n",
    "        # Execution will cause immediate exit and looks for an exception handler\n",
    "        raise ValueError(\"I cannot take no for an answer.\")\n",
    "    return value\n",
    "\n",
    "userInput = \"\"\n",
    "while userInput != \"q\":\n",
    "    try:\n",
    "        print(getInput())\n",
    "\n",
    "    # Pulled from the function!\n",
    "    except ValueError as excpt:\n",
    "        print(f\"Error: {excpt}\")\n",
    "        print(\"Please try again.\")\n",
    "    except:\n",
    "        print(\"Uh oh.\")\n",
    "\n",
    "    userInput = input(\"Enter any key ('q' to quit)\")"
   ]
  },
  {
   "cell_type": "markdown",
   "metadata": {},
   "source": [
    "### Using `finally` to Cleanup"
   ]
  },
  {
   "cell_type": "code",
   "execution_count": 104,
   "metadata": {},
   "outputs": [
    {
     "name": "stdout",
     "output_type": "stream",
     "text": [
      "Howdy y'all.\n",
      "I will always execute.\n"
     ]
    }
   ],
   "source": [
    "import random\n",
    "\n",
    "try:\n",
    "    randomNum = random.randint(0, 5)\n",
    "    if randomNum == 5:\n",
    "        raise ValueError(\"Howdy\")\n",
    "\n",
    "# This can be done with any error, btw. ValueError is just kinda versatile.\n",
    "except ValueError as excpt:\n",
    "    print(excpt, \"y'all.\")\n",
    "\n",
    "finally:\n",
    "    # Typically this is used for cleanup actions, not just messing around.\n",
    "    print(\"I will always execute.\")\n",
    "    #fileVar.close(), etc. Usually the good stuff like that will go here.\n"
   ]
  },
  {
   "cell_type": "code",
   "execution_count": 107,
   "metadata": {},
   "outputs": [
    {
     "name": "stdout",
     "output_type": "stream",
     "text": [
      "Opening C:\\Users\\Ethan\\Desktop\\Utils\\Imagers\\imager_1.5.exe\n",
      "Could not read number from C:\\Users\\Ethan\\Desktop\\Utils\\Imagers\\imager_1.5.exe\n",
      "Closing C:\\Users\\Ethan\\Desktop\\Utils\\Imagers\\imager_1.5.exe\n",
      "Numbers found: \n"
     ]
    }
   ],
   "source": [
    "nums = []\n",
    "rd_nums = -1\n",
    "my_file = input('Enter file name: ')\n",
    "\n",
    "try:\n",
    "    print('Opening', my_file)\n",
    "    rd_nums = open(my_file, 'r')  # Might cause IOError\n",
    "\n",
    "    for line in rd_nums:\n",
    "        nums.append(int(line))  # Might cause ValueError\n",
    "except IOError:\n",
    "    print('Could not find', my_file)\n",
    "except ValueError:\n",
    "    print('Could not read number from', my_file)\n",
    "finally:\n",
    "    print('Closing', my_file)\n",
    "    if rd_nums != -1:\n",
    "        rd_nums.close()\n",
    "    print('Numbers found:', ' '.join([str(n) for n in nums]))"
   ]
  },
  {
   "cell_type": "markdown",
   "metadata": {},
   "source": [
    "### Custom Exceptions"
   ]
  },
  {
   "cell_type": "markdown",
   "metadata": {},
   "source": [
    "It's good practice to have the word \"Error\" at the end, i.e. IOError, ValueError, etc."
   ]
  },
  {
   "cell_type": "code",
   "execution_count": 108,
   "metadata": {},
   "outputs": [
    {
     "ename": "LessThanZeroError",
     "evalue": "my_num must be greater than 0",
     "output_type": "error",
     "traceback": [
      "\u001b[1;31m---------------------------------------------------------------------------\u001b[0m",
      "\u001b[1;31mLessThanZeroError\u001b[0m                         Traceback (most recent call last)",
      "\u001b[1;32m~\\AppData\\Local\\Temp/ipykernel_15484/3768235934.py\u001b[0m in \u001b[0;36m<module>\u001b[1;34m\u001b[0m\n\u001b[0;32m      7\u001b[0m \u001b[1;33m\u001b[0m\u001b[0m\n\u001b[0;32m      8\u001b[0m \u001b[1;32mif\u001b[0m \u001b[0mmy_num\u001b[0m \u001b[1;33m<\u001b[0m \u001b[1;36m0\u001b[0m\u001b[1;33m:\u001b[0m\u001b[1;33m\u001b[0m\u001b[1;33m\u001b[0m\u001b[0m\n\u001b[1;32m----> 9\u001b[1;33m     \u001b[1;32mraise\u001b[0m \u001b[0mLessThanZeroError\u001b[0m\u001b[1;33m(\u001b[0m\u001b[1;34m'my_num must be greater than 0'\u001b[0m\u001b[1;33m)\u001b[0m\u001b[1;33m\u001b[0m\u001b[1;33m\u001b[0m\u001b[0m\n\u001b[0m\u001b[0;32m     10\u001b[0m \u001b[1;32melse\u001b[0m\u001b[1;33m:\u001b[0m\u001b[1;33m\u001b[0m\u001b[1;33m\u001b[0m\u001b[0m\n\u001b[0;32m     11\u001b[0m     \u001b[0mprint\u001b[0m\u001b[1;33m(\u001b[0m\u001b[1;34m'my_num:'\u001b[0m\u001b[1;33m,\u001b[0m \u001b[0mmy_num\u001b[0m\u001b[1;33m)\u001b[0m\u001b[1;33m\u001b[0m\u001b[1;33m\u001b[0m\u001b[0m\n",
      "\u001b[1;31mLessThanZeroError\u001b[0m: my_num must be greater than 0"
     ]
    }
   ],
   "source": [
    "# Define a custom exception type\n",
    "class LessThanZeroError(Exception):\n",
    "    # Class constructor\n",
    "    def __init__(self, value):\n",
    "        self.value = value\n",
    "\n",
    "# You can also define errors as such. Class require at least one statement. It can also be indented underneath the stub.\n",
    "class ErroneousError(Exception): pass\n",
    "\n",
    "my_num = int(input('Enter number: '))\n",
    "\n",
    "if my_num < 0:\n",
    "    raise LessThanZeroError('my_num must be greater than 0')\n",
    "else:\n",
    "    print('my_num:', my_num)"
   ]
  },
  {
   "cell_type": "markdown",
   "metadata": {},
   "source": [
    "## Labs"
   ]
  },
  {
   "cell_type": "markdown",
   "metadata": {},
   "source": [
    "### Divide by x"
   ]
  },
  {
   "cell_type": "code",
   "execution_count": null,
   "metadata": {},
   "outputs": [],
   "source": [
    "'''\n",
    "Write a program using integers user_num and x as input, and output user_num divided by x three times.\n",
    "Ex: If the input is:\n",
    "2000\n",
    "2\n",
    "\n",
    "Then the output is:\n",
    "500 500 250\n",
    "'''\n",
    "\n",
    "user_num = int(input())\n",
    "x = int(input())\n",
    "once = user_num // x\n",
    "twice = once // x\n",
    "thrice = twice // x\n",
    "\n",
    "print(once, twice, thrice)\n"
   ]
  },
  {
   "cell_type": "markdown",
   "metadata": {},
   "source": [
    "### Expression for burning calories during workout"
   ]
  },
  {
   "cell_type": "code",
   "execution_count": null,
   "metadata": {},
   "outputs": [],
   "source": [
    "''' Women: Calories = ((Age x 0.074) - (Weight x 0.05741) + (Heart Rate x 0.4472) - 20.4022) x Time / 4.184 '''\n",
    "''' Men: Calories = ((Age x 0.2017) + (Weight x 0.09036) + (Heart Rate x 0.6309) - 55.0969) x Time / 4.184 '''\n",
    "''' Write a program using inputs age (years), weight (pounds), heart rate (beats per minute), and time (minutes), respectively. Output calories burned for women and men. '''\n",
    "age = int(input(\"Please provide an age in years:\"))\n",
    "weight = int(input(\"Please provide a weight in pounds:\"))\n",
    "heartRate = int(input(\"Please provide a heart rate in BPM:\"))\n",
    "time = int(input(\"Please input a time in minutes:\"))\n",
    "\n",
    "femaleCals = ((age * 0.074) - (weight * 0.05741) + (heartRate * 0.4472) - 20.4022) * time / 4.184\n",
    "maleCals = ((age * 0.2017) + (weight * 0.09036) + (heartRate * 0.6309) - 55.0969) * time / 4.184\n",
    "\n",
    "print('Women: {:.2f} calories'.format(femaleCals))\n",
    "print('Men: {:.2f} calories'.format(maleCals))"
   ]
  },
  {
   "cell_type": "markdown",
   "metadata": {},
   "source": [
    "### Using math funcs"
   ]
  },
  {
   "cell_type": "code",
   "execution_count": null,
   "metadata": {},
   "outputs": [],
   "source": [
    "import math\n",
    "x = float(input())\n",
    "y = float(input())\n",
    "z = float(input())\n",
    "\n",
    "value1 = x ** z\n",
    "value2 = math.pow(x, (y ** z))\n",
    "value3 = math.fabs(x - y)\n",
    "value4 = math.sqrt(x ** z)\n",
    "\n",
    "print('{:.2f} {:.2f} {:.2f} {:.2f}'.format(value1, value2, value3, value4))"
   ]
  },
  {
   "cell_type": "markdown",
   "metadata": {},
   "source": [
    "### Musical note frequencies"
   ]
  },
  {
   "cell_type": "code",
   "execution_count": null,
   "metadata": {},
   "outputs": [],
   "source": [
    "''' \n",
    "On a piano, a key has a frequency, say f0. Each higher key (black or white) has a frequency of f0 * r^n where n is the distance (number of keys) from that key, and r is 2^(1/12).\n",
    "Given an initial key frequency, output that frequency and the next 4 higher key frequencies.\n",
    "'''\n",
    "import math\n",
    "frequency = int(input())\n",
    "r = math.pow(2, (1/12))\n",
    "# TODO:LOOPS, GIMME LOOPS\n",
    "value1 = frequency\n",
    "value2 = frequency * (r ** 1)\n",
    "value3 = frequency * (r ** 2)\n",
    "value4 = frequency * (r ** 3)\n",
    "value5 = frequency * (r ** 4)\n",
    "\n",
    "print('{:.2f} {:.2f} {:.2f} {:.2f} {:.2f}'.format(value1, value2, value3, value4, value5))"
   ]
  },
  {
   "cell_type": "markdown",
   "metadata": {},
   "source": [
    "### Caffeine Levels Throughout a Day"
   ]
  },
  {
   "cell_type": "code",
   "execution_count": null,
   "metadata": {},
   "outputs": [],
   "source": [
    "'''\n",
    "A half-life is the amount of time it takes for a substance or entity to fall to \n",
    "half its original value. Caffeine has a half-life of about 6 hours in humans. \n",
    "Given caffeine amount (in mg) as input, output the caffeine level after 6, 12, \n",
    "and 24 hours.\n",
    "'''\n",
    "\n",
    "caffeine_mg = float(input())\n",
    "sixHoursAfter = caffeine_mg / 2\n",
    "twelveHoursAfter = sixHoursAfter / 2\n",
    "twentyFourHoursAfter = twelveHoursAfter / 4\n",
    "\n",
    "print(f'After 6 hours: {sixHoursAfter:.2f} mg')\n",
    "print(f'After 12 hours: {twelveHoursAfter:.2f} mg')\n",
    "print(f'After 24 hours: {twentyFourHoursAfter:.2f} mg')\n"
   ]
  },
  {
   "cell_type": "markdown",
   "metadata": {},
   "source": [
    "### Real Estate Summary"
   ]
  },
  {
   "cell_type": "code",
   "execution_count": null,
   "metadata": {},
   "outputs": [],
   "source": [
    "currentPrice = int(input())\n",
    "lastMonthPrice = int(input())\n",
    "\n",
    "print(f\"This house is ${currentPrice}. The change is ${currentPrice - lastMonthPrice} since last month.\\nThe estimated monthly mortgage is ${(currentPrice * 0.051) / 12:.2f}.\")"
   ]
  },
  {
   "cell_type": "markdown",
   "metadata": {},
   "source": [
    "### Simple Stats"
   ]
  },
  {
   "cell_type": "code",
   "execution_count": null,
   "metadata": {},
   "outputs": [],
   "source": [
    "'''\n",
    "Given 4 floating-point numbers. Use a string formatting expression with conversion specifiers to output their product and their average as integers (rounded), then as floating-point numbers.\n",
    "'''\n",
    "\n",
    "num1 = float(input())\n",
    "num2 = float(input())\n",
    "num3 = float(input())\n",
    "num4 = float(input())\n",
    "\n",
    "numsProduct = num1 * num2 * num3 * num4 \n",
    "numsAvg = (num1 + num2 + num3 + num4) / 4\n",
    "\n",
    "print(f\"{round(numsProduct)}\", f\"{round(numsAvg)}\")\n",
    "print(f\"{numsProduct:.3f}\", f\"{numsAvg:.3f}\")\n",
    "\n"
   ]
  },
  {
   "cell_type": "markdown",
   "metadata": {},
   "source": [
    "### Interstate Highway Numbers"
   ]
  },
  {
   "cell_type": "markdown",
   "metadata": {},
   "source": [
    "US Interstates are numbered 1-99. Even numbers go East/West (I-90, I-80, etc.), odd numbers go North/South (I-25, I-5, etc.). Auxiliary highways are numbers 100-999 and the right-most digits indicate which interstate they service (I-405 services I-5, etc.).\n",
    "\n",
    "Given a highway number, indicate if it is primary or auxiliary, then if it's auxiliary, indicate the primary interstate it serves. Also note if the primary runs N, E, S, or W"
   ]
  },
  {
   "cell_type": "code",
   "execution_count": null,
   "metadata": {},
   "outputs": [],
   "source": [
    "highwayNum = int(input())\n",
    "direction = \"east/west\" if (highwayNum % 2 == 0) else \"north/south\"\n",
    "\n",
    "# Highways numbers cannot be negative, 1000+, or be over 99 and end with a 0 (there is no I-0)\n",
    "if (0 >= highwayNum > 999) or (highwayNum % 100 == 0):\n",
    "    print(f\"{highwayNum} is not a valid interstate highway number.\")\n",
    "elif highwayNum > 99:\n",
    "    print(f\"I-{highwayNum} is auxiliary, serving I-{highwayNum % 100}, going {direction}.\")\n",
    "else:\n",
    "    print(f\"I-{highwayNum} is primary, going {direction}.\")\n"
   ]
  },
  {
   "cell_type": "markdown",
   "metadata": {},
   "source": [
    "### Seasons"
   ]
  },
  {
   "cell_type": "markdown",
   "metadata": {},
   "source": [
    "Write a program that takes a date as input and outputs the date's season. The input is a string to represent the month and an int to represent the day. "
   ]
  },
  {
   "cell_type": "code",
   "execution_count": null,
   "metadata": {},
   "outputs": [],
   "source": [
    "'''\n",
    "The dates for each season are:\n",
    "Spring: March 20 - June 20\n",
    "Summer: June 21 - September 21\n",
    "Autumn: September 22 - December 20\n",
    "Winter: December 21 - March 19\n",
    "'''\n",
    "\n",
    "\n",
    "def checkValidDateRange(month, day):\n",
    "\n",
    "    months31DaysLong = {\"January\", \"March\", \"May\",\n",
    "                        \"July\", \"August\", \"October\", \"December\"}\n",
    "    months30DaysLong = {\"April\", \"June\", \"September\", \"November\"}\n",
    "\n",
    "    if 0 < day < 32:\n",
    "        if (month in months31DaysLong) and (day < 32):\n",
    "            return True\n",
    "\n",
    "        if (month in months30DaysLong) and (day < 31):\n",
    "            return True\n",
    "\n",
    "        if (month == \"February\") and (day <= 28):\n",
    "            return True\n",
    "\n",
    "    return False\n",
    "\n",
    "\n",
    "inputMonth = input()\n",
    "inputDay = int(input())\n",
    "output = \"Invalid\"\n",
    "springMonths = {\"March\", \"April\", \"May\", \"June\"}\n",
    "summerMonths = {\"June\", \"July\", \"August\", \"September\"}\n",
    "autumnMonths = {\"September\", \"October\", \"November\", \"December\"}\n",
    "winterMonths = {\"December\", \"January\", \"February\", \"March\"}\n",
    "\n",
    "\n",
    "# Really obvious bug where the only the strings in the nested if block will produce valid results\n",
    "if (inputMonth in springMonths):\n",
    "    if ((inputMonth == \"March\" and inputDay >= 20) or (inputMonth == \"June\" and inputDay <= 20)) and checkValidDateRange(inputMonth, inputDay):\n",
    "        output = \"Spring\"\n",
    "    elif checkValidDateRange(inputMonth, inputDay):\n",
    "        output = \"Spring\"\n",
    "\n",
    "if (inputMonth in summerMonths):\n",
    "    if ((inputMonth == \"June\" and inputDay >= 21) or (inputMonth == \"September\" and inputDay <= 21)) and checkValidDateRange(inputMonth, inputDay):\n",
    "        output = \"Summer\"\n",
    "    elif checkValidDateRange(inputMonth, inputDay):\n",
    "        output = \"Summer\"\n",
    "\n",
    "if (inputMonth in autumnMonths):\n",
    "    if ((inputMonth == \"September\" and inputDay >= 22) or (inputMonth == \"December\" and inputDay <= 20)) and checkValidDateRange(inputMonth, inputDay):\n",
    "        output = \"Autumn\"\n",
    "    elif checkValidDateRange(inputMonth, inputDay):\n",
    "        output = \"Autumn\"\n",
    "\n",
    "if (inputMonth in winterMonths):\n",
    "    if ((inputMonth == \"December\" and inputDay >= 21) or (inputMonth == \"March\" and inputDay <= 19)) and checkValidDateRange(inputMonth, inputDay):\n",
    "        output = \"Winter\"\n",
    "    elif checkValidDateRange(inputMonth, inputDay):\n",
    "        output = \"Winter\"\n",
    "\n",
    "print(output)\n"
   ]
  },
  {
   "cell_type": "markdown",
   "metadata": {},
   "source": [
    "### Leap Year"
   ]
  },
  {
   "cell_type": "markdown",
   "metadata": {},
   "source": [
    "A year in the modern Gregorian Calendar consists of 365 days. In reality, the earth takes longer to rotate around the sun. To account for the difference in time, every 4 years, a leap year takes place. A leap year is when a year has 366 days: An extra day, February 29th. The requirements for a given year to be a leap year are:\n",
    "\n",
    "1) The year must be divisible by 4\n",
    "\n",
    "2) If the year is a century year (1700, 1800, etc.), the year must be evenly divisible by 400\n",
    "\n",
    "Some example leap years are 1600, 1712, and 2016.\n",
    "\n",
    "Write a program that takes in a year and determines whether that year is a leap year."
   ]
  },
  {
   "cell_type": "code",
   "execution_count": null,
   "metadata": {},
   "outputs": [],
   "source": [
    "year = int(input())\n",
    "\n",
    "isLeapYear = False\n",
    "\n",
    "if year % 4 == 0 and year % 10 != 0:\n",
    "    isLeapYear = True\n",
    "elif year % 10 == 0 and year % 400 == 0:\n",
    "    isLeapYear = True\n",
    "\n",
    "if isLeapYear:\n",
    "    print(f\"{year} - leap year\")\n",
    "else:\n",
    "    print(f\"{year} - not a leap year\")"
   ]
  },
  {
   "cell_type": "markdown",
   "metadata": {},
   "source": [
    "### Golf Scores"
   ]
  },
  {
   "cell_type": "markdown",
   "metadata": {},
   "source": [
    "Golf scores record the number of strokes used to get the ball in the hole. The expected number of strokes varies from hole to hole and is called par (i.e. 3, 4, or 5). Each score's name is based on the actual strokes taken compared to par:\n",
    "\n",
    "- \"Eagle\": number of strokes is two less than par\n",
    "- \"Birdie\": number of strokes is one less than par\n",
    "- \"Par\": number of strokes equals par\n",
    "- \"Bogey\": number of strokes is one more than par\n",
    "\n",
    "Given two integers that represent par and the number of strokes used, write a program that prints the appropriate score name. Print \"Error\" if par is not 3, 4, or 5."
   ]
  },
  {
   "cell_type": "code",
   "execution_count": null,
   "metadata": {},
   "outputs": [],
   "source": [
    "par = int(input())\n",
    "strokes = int(input())\n",
    "\n",
    "# Par can only be 3, 4, or 5\n",
    "if 3 <= par <= 5:\n",
    "    if strokes > par:\n",
    "        result = \"Bogey\"\n",
    "    elif strokes == par:\n",
    "        result = \"Par\"\n",
    "    elif strokes == par - 1:\n",
    "        result = \"Birdie\"\n",
    "    elif strokes == par - 2:\n",
    "        result = \"Eagle\"\n",
    "else:\n",
    "    result = \"Error\"\n",
    "\n",
    "print(result)"
   ]
  },
  {
   "cell_type": "markdown",
   "metadata": {},
   "source": [
    "Write a program that takes in a positive integer as input, and outputs a string of 1's and 0's representing the integer in binary. For an integer x, the algorithm is:\n",
    "\n",
    "*As long as x is greater than 0*\n",
    "   * *Output x % 2 (remainder is either 0 or 1)*\n",
    "   * *x = x // 2*\n",
    "\n",
    "Note: The above algorithm outputs the 0's and 1's in reverse order. You will need to write a second function to reverse the string. *(Unless you are cool)*\n",
    "\n",
    "Your program must define and call the following two functions. The function integer_to_reverse_binary() should return a string of 1's and 0's representing the integer in binary (in reverse. The function reverse_string() should return a string representing the input string in reverse.\n",
    "\n",
    "`def integer_to_reverse_binary(integer_value)`\n",
    "\n",
    "`def reverse_string(input_string)`"
   ]
  },
  {
   "cell_type": "markdown",
   "metadata": {},
   "source": [
    "### Convert to Binary"
   ]
  },
  {
   "cell_type": "markdown",
   "metadata": {},
   "source": [
    "Write a program that takes in a positive integer as input, and outputs a string of 1's and 0's representing the integer in binary. For an integer x, the algorithm is:\n",
    "\n",
    "As long as x is greater than 0 \n",
    "* Output x modulo 2 (remainder is either 0 or 1) \n",
    "* Assign x with x divided by 2 \n"
   ]
  },
  {
   "cell_type": "code",
   "execution_count": 16,
   "metadata": {},
   "outputs": [
    {
     "name": "stdout",
     "output_type": "stream",
     "text": [
      "10011\n"
     ]
    }
   ],
   "source": [
    "decimal = 19\n",
    "binary = \"\"\n",
    "\n",
    "# Dividing will never result in a result less than 0 unless the given number is casted as an int each time the loop iterates\n",
    "while int(decimal) > 0:\n",
    "    # Storing the binary-conversion string this way prevents it from having to be reversed later on.\n",
    "    # This works because it adds the old string to the end of the new string instead of doing it the other way around.\n",
    "    binary = str(int(decimal % 2)) + binary\n",
    "    decimal /= 2\n",
    "\n",
    "print(binary)\n"
   ]
  },
  {
   "cell_type": "markdown",
   "metadata": {},
   "source": [
    "### Password Modifier"
   ]
  },
  {
   "cell_type": "markdown",
   "metadata": {},
   "source": [
    "Many user-created passwords are simple and easy to guess. Write a program that takes a simple password and makes it stronger by replacing characters using the key below, and by appending \"!\" to the end of the input string.\n",
    "* i becomes 1\n",
    "* a becomes @\n",
    "* m becomes M\n",
    "* B becomes 8\n",
    "* s becomes $\n"
   ]
  },
  {
   "cell_type": "code",
   "execution_count": 1,
   "metadata": {},
   "outputs": [
    {
     "name": "stdout",
     "output_type": "stream",
     "text": [
      "Myp@$$word!\n"
     ]
    }
   ],
   "source": [
    "word = input()\n",
    "password = ''\n",
    "\n",
    "for c in word:\n",
    "    if c == 'i':\n",
    "        password += '1'\n",
    "    elif c == 'a':\n",
    "        password += '@'\n",
    "    elif c == 'm':\n",
    "        password += 'M'\n",
    "    elif c == 'B':\n",
    "        password += '8'\n",
    "    elif c == 's':\n",
    "        password += '$'\n",
    "    else:\n",
    "        password += c\n",
    "\n",
    "password += '!'\n",
    "\n",
    "print(password)\n",
    "\n"
   ]
  },
  {
   "cell_type": "markdown",
   "metadata": {},
   "source": [
    "### Brute Force Equation Solver"
   ]
  },
  {
   "cell_type": "markdown",
   "metadata": {},
   "source": [
    "Numerous engineering and scientific applications require finding solutions to a set of equations. Ex: 8x + 7y = 38 and 3x - 5y = -1 have a solution x = 3, y = 2. Given integer coefficients of two linear equations with variables x and y, use brute force to find an integer solution for x and y in the range -10 to 10.\n",
    "\n",
    "Ex: If the input is:\n",
    "\n",
    "`8`\n",
    "\n",
    "`7`\n",
    "\n",
    "`38`\n",
    "\n",
    "`3`\n",
    "\n",
    "`-5`\n",
    "\n",
    "`-1`\n",
    "\n",
    "Then the output is:\n",
    "\n",
    "`x = 3 , y = 2`\n",
    "\n",
    "Use this brute force approach:\n",
    "\n",
    "`For every value of x from -10 to 10`\n",
    "\n",
    "      For every value of y from -10 to 10\n",
    "      \n",
    "            Check if the current x and y satisfy both equations. If so, output the solution, and finish.\n",
    "\n",
    "Ex: If no solution is found, output:\n",
    "\n",
    "`There is no solution`\n",
    "\n",
    "You can assume the two equations have no more than one solution. "
   ]
  },
  {
   "cell_type": "code",
   "execution_count": 6,
   "metadata": {},
   "outputs": [
    {
     "name": "stdout",
     "output_type": "stream",
     "text": [
      "There is no solution\n"
     ]
    }
   ],
   "source": [
    "''' Read in first equation, ax + by = c '''\n",
    "a = int(input())\n",
    "b = int(input())\n",
    "c = int(input())\n",
    "\n",
    "''' Read in second equation, dx + ey = f '''\n",
    "d = int(input())\n",
    "e = int(input())\n",
    "f = int(input())\n",
    "\n",
    "firstResult = False\n",
    "secondResult = False\n",
    "\n",
    "for x in range(-10, 10):\n",
    "    for y in range(-10, 10):\n",
    "        if (a * x + b * y == c) and (d * x + e * y == f):\n",
    "            firstResult = x\n",
    "            secondResult = y\n",
    "\n",
    "\n",
    "if firstResult and secondResult:\n",
    "    print(f\"x = {firstResult} , y = {secondResult}\")\n",
    "else:\n",
    "    print(\"There is no solution\")\n"
   ]
  },
  {
   "cell_type": "markdown",
   "metadata": {},
   "source": [
    "### Adjust values in a list by normalizing"
   ]
  },
  {
   "cell_type": "markdown",
   "metadata": {},
   "source": [
    "When analyzing data sets, such as data for human heights or for human weights, a common step is to adjust the data. This adjustment can be done by normalizing to values between 0 and 1, or throwing away outliers.\n",
    "\n",
    "For this program, adjust the values by dividing all values by the largest value. The input begins with an integer indicating the number of floating-point values that follow.\n",
    "\n",
    "Output each floating-point value with two digits after the decimal point, which can be achieved as follows:\n",
    "print('{:.2f}'.format(your_value))\n",
    "\n",
    "Ex: If the input is:\n",
    "\n",
    "`5`\n",
    "\n",
    "`30.0`\n",
    "\n",
    "`50.0`\n",
    "\n",
    "`10.0`\n",
    "\n",
    "`100.0`\n",
    "\n",
    "`65.0`\n",
    "\n",
    "the output is:\n",
    "\n",
    "`0.30`\n",
    "\n",
    "`0.50`\n",
    "\n",
    "`0.10`\n",
    "\n",
    "`1.00`\n",
    "\n",
    "`0.65`\n",
    "\n",
    "The 5 indicates that there are five floating-point values in the list, namely 30.0, 50.0, 10.0, 100.0, and 65.0. 100.0 is the largest value in the list, so each value is divided by 100.0.\n"
   ]
  },
  {
   "cell_type": "code",
   "execution_count": 23,
   "metadata": {},
   "outputs": [
    {
     "name": "stdout",
     "output_type": "stream",
     "text": [
      "1.00\n"
     ]
    }
   ],
   "source": [
    "numFloats = int(input())\n",
    "floatDict = {}\n",
    "\n",
    "for i in range(numFloats):\n",
    "    floatDict[i] = float(input())\n",
    "\n",
    "dictMax = max(floatDict.values())\n",
    "\n",
    "for i in floatDict:\n",
    "    floatDict[i] /= dictMax\n",
    "    print(f\"{floatDict[i]:.2f}\")"
   ]
  },
  {
   "cell_type": "markdown",
   "metadata": {},
   "source": [
    "### Driving Costs"
   ]
  },
  {
   "cell_type": "markdown",
   "metadata": {},
   "source": [
    "Write a program with a car's miles/gallon and gas dollars/gallon (both floats) as input, and output the gas cost for 10 miles, 50 miles, and 400 miles.\n",
    "\n",
    "Output each floating-point value with two digits after the decimal point, which can be achieved as follows:\n",
    "\n",
    "`print('{:.2f}'.format(your_value))`\n",
    "\n",
    "Your program must define and call the following driving_cost() function. Given input parameters driven_miles, miles_per_gallon, and dollars_per_gallon, the function returns the dollar cost to drive those miles.\n",
    "\n",
    "`def driving_cost(driven_miles, miles_per_gallon, dollars_per_gallon)`\n",
    "\n",
    "Your program should call the function three times to determine the gas cost for 10 miles, 50 miles, and 400 miles."
   ]
  },
  {
   "cell_type": "code",
   "execution_count": 28,
   "metadata": {},
   "outputs": [
    {
     "ename": "ValueError",
     "evalue": "could not convert string to float: 'i hate this'",
     "output_type": "error",
     "traceback": [
      "\u001b[1;31m---------------------------------------------------------------------------\u001b[0m",
      "\u001b[1;31mValueError\u001b[0m                                Traceback (most recent call last)",
      "\u001b[1;32m~\\AppData\\Local\\Temp/ipykernel_6408/3841387957.py\u001b[0m in \u001b[0;36m<module>\u001b[1;34m\u001b[0m\n\u001b[0;32m      4\u001b[0m \u001b[1;32mif\u001b[0m \u001b[0m__name__\u001b[0m \u001b[1;33m==\u001b[0m \u001b[1;34m'__main__'\u001b[0m\u001b[1;33m:\u001b[0m\u001b[1;33m\u001b[0m\u001b[1;33m\u001b[0m\u001b[0m\n\u001b[0;32m      5\u001b[0m     \u001b[1;31m# Type your code here.\u001b[0m\u001b[1;33m\u001b[0m\u001b[1;33m\u001b[0m\u001b[0m\n\u001b[1;32m----> 6\u001b[1;33m     \u001b[0minput_mpg\u001b[0m \u001b[1;33m=\u001b[0m \u001b[0mfloat\u001b[0m\u001b[1;33m(\u001b[0m\u001b[0minput\u001b[0m\u001b[1;33m(\u001b[0m\u001b[1;33m)\u001b[0m\u001b[1;33m)\u001b[0m\u001b[1;33m\u001b[0m\u001b[1;33m\u001b[0m\u001b[0m\n\u001b[0m\u001b[0;32m      7\u001b[0m     \u001b[0minput_price\u001b[0m \u001b[1;33m=\u001b[0m \u001b[0mfloat\u001b[0m\u001b[1;33m(\u001b[0m\u001b[0minput\u001b[0m\u001b[1;33m(\u001b[0m\u001b[1;33m)\u001b[0m\u001b[1;33m)\u001b[0m\u001b[1;33m\u001b[0m\u001b[1;33m\u001b[0m\u001b[0m\n\u001b[0;32m      8\u001b[0m     \u001b[0mprint\u001b[0m\u001b[1;33m(\u001b[0m\u001b[1;34mf\"{driving_cost(10, input_mpg, input_price):.2f}\"\u001b[0m\u001b[1;33m)\u001b[0m\u001b[1;33m\u001b[0m\u001b[1;33m\u001b[0m\u001b[0m\n",
      "\u001b[1;31mValueError\u001b[0m: could not convert string to float: 'i hate this'"
     ]
    }
   ],
   "source": [
    "def driving_cost(driven_miles, miles_per_gallon, dollars_per_gallon):\n",
    "    return (driven_miles / miles_per_gallon) * dollars_per_gallon    \n",
    "\n",
    "if __name__ == '__main__':\n",
    "    # Type your code here.\n",
    "    input_mpg = float(input())\n",
    "    input_price = float(input())\n",
    "    print(f\"{driving_cost(10, input_mpg, input_price):.2f}\")\n",
    "    print(f\"{driving_cost(50, input_mpg, input_price):.2f}\")\n",
    "    print(f\"{driving_cost(400, input_mpg, input_price):.2f}\")\n"
   ]
  },
  {
   "cell_type": "markdown",
   "metadata": {},
   "source": [
    "### Step Counter"
   ]
  },
  {
   "cell_type": "markdown",
   "metadata": {},
   "source": [
    "A pedometer treats walking 1 step as walking 2.5 feet. Define a function named feet_to_steps that takes a float as a parameter, representing the number of feet walked, and returns an integer that represents the number of steps walked. Then, write a main program that reads the number of feet walked as an input, calls function feet_to_steps() with the input as an argument, and outputs the number of steps.\n",
    "\n",
    "Use floating-point arithmetic to perform the conversion."
   ]
  },
  {
   "cell_type": "code",
   "execution_count": 1,
   "metadata": {},
   "outputs": [
    {
     "name": "stdout",
     "output_type": "stream",
     "text": [
      "60\n"
     ]
    }
   ],
   "source": [
    "def feet_to_steps(user_feet):\n",
    "    return int(user_feet / 2.5)\n",
    "\n",
    "if __name__ == '__main__':\n",
    "    feet_traveled = float(input())\n",
    "    print(feet_to_steps(feet_traveled))"
   ]
  },
  {
   "cell_type": "markdown",
   "metadata": {},
   "source": [
    "### Convert to Binary... Again"
   ]
  },
  {
   "cell_type": "code",
   "execution_count": 20,
   "metadata": {},
   "outputs": [
    {
     "name": "stdout",
     "output_type": "stream",
     "text": [
      "10011\n"
     ]
    }
   ],
   "source": [
    "def reverse_string(input_string):\n",
    "    # This is annoying that this has to exist since this can be done without another function.\n",
    "    reversed_string = \"\"\n",
    "    for c in input_string:\n",
    "        reversed_string = c + reversed_string\n",
    "    return reversed_string\n",
    "\n",
    "def integer_to_reverse_binary(integer_value):\n",
    "    reverse_value = \"\"\n",
    "    while integer_value > 0:\n",
    "        # You can mitigate the need for reversing this string just by doing x = str(x % 2) + x\n",
    "        reverse_value += str(integer_value % 2)\n",
    "        integer_value = integer_value // 2\n",
    "\n",
    "    return reverse_string(reverse_value)\n",
    "\n",
    "if __name__ == \"__main__\":\n",
    "    print(integer_to_reverse_binary(int(input())))"
   ]
  },
  {
   "cell_type": "markdown",
   "metadata": {},
   "source": [
    "### Swap Values"
   ]
  },
  {
   "cell_type": "code",
   "execution_count": 23,
   "metadata": {},
   "outputs": [
    {
     "name": "stdout",
     "output_type": "stream",
     "text": [
      "420 69\n"
     ]
    }
   ],
   "source": [
    "def swapValues(val1, val2):\n",
    "    return val2, val1\n",
    "\n",
    "\n",
    "if __name__ == '__main__':\n",
    "    # Type your code here. Your code must call the function.\n",
    "    swap1, swap2 = swapValues(69, 420)\n",
    "    print(swap1, swap2)\n"
   ]
  },
  {
   "cell_type": "markdown",
   "metadata": {},
   "source": [
    "### Name Format"
   ]
  },
  {
   "cell_type": "code",
   "execution_count": 1,
   "metadata": {},
   "outputs": [
    {
     "name": "stdout",
     "output_type": "stream",
     "text": [
      "Sayers, E.R.\n"
     ]
    }
   ],
   "source": [
    "def printNameFormat(name):\n",
    "    nameList = name.split()\n",
    "\n",
    "    if len(nameList) == 2:\n",
    "        print(f\"{nameList[1]}, {(nameList[0])[0]}.\")\n",
    "\n",
    "    if len(nameList) == 3:\n",
    "        print(f\"{nameList[2]}, {(nameList[0])[0]}.{(nameList[1])[0]}.\")\n",
    "\n",
    "\n",
    "printNameFormat(\"Every Rainbow Sayers\")"
   ]
  },
  {
   "cell_type": "markdown",
   "metadata": {},
   "source": [
    "### Count Chars"
   ]
  },
  {
   "cell_type": "code",
   "execution_count": 3,
   "metadata": {},
   "outputs": [
    {
     "name": "stdout",
     "output_type": "stream",
     "text": [
      "1\n"
     ]
    }
   ],
   "source": [
    "def countChar(string):\n",
    "    count = 0\n",
    "    targetChar = string[0]\n",
    "    searchString = string[1:]\n",
    "    for c in searchString:\n",
    "        if c == targetChar:\n",
    "            count +=1\n",
    "    \n",
    "    return count\n",
    "    \n",
    "inputString = \"n Monday\"\n",
    "\n",
    "print(countChar(inputString))"
   ]
  },
  {
   "cell_type": "markdown",
   "metadata": {},
   "source": [
    "### Mad Lib w/ Loops"
   ]
  },
  {
   "cell_type": "code",
   "execution_count": 8,
   "metadata": {},
   "outputs": [
    {
     "name": "stdout",
     "output_type": "stream",
     "text": [
      "Eating 1 test a day keeps the doctor away.\n",
      "Eating 2 test a day keeps the doctor away.\n",
      "Eating f f a day keeps the doctor away.\n"
     ]
    },
    {
     "ename": "ValueError",
     "evalue": "too many values to unpack (expected 2)",
     "output_type": "error",
     "traceback": [
      "\u001b[1;31m---------------------------------------------------------------------------\u001b[0m",
      "\u001b[1;31mValueError\u001b[0m                                Traceback (most recent call last)",
      "\u001b[1;32m~\\AppData\\Local\\Temp/ipykernel_19260/2355877191.py\u001b[0m in \u001b[0;36m<module>\u001b[1;34m\u001b[0m\n\u001b[0;32m      9\u001b[0m         \u001b[0mi\u001b[0m \u001b[1;33m=\u001b[0m \u001b[0minput\u001b[0m\u001b[1;33m(\u001b[0m\u001b[1;33m)\u001b[0m\u001b[1;33m\u001b[0m\u001b[1;33m\u001b[0m\u001b[0m\n\u001b[0;32m     10\u001b[0m \u001b[1;33m\u001b[0m\u001b[0m\n\u001b[1;32m---> 11\u001b[1;33m \u001b[0mmain\u001b[0m\u001b[1;33m(\u001b[0m\u001b[1;33m)\u001b[0m\u001b[1;33m\u001b[0m\u001b[1;33m\u001b[0m\u001b[0m\n\u001b[0m",
      "\u001b[1;32m~\\AppData\\Local\\Temp/ipykernel_19260/2355877191.py\u001b[0m in \u001b[0;36mmain\u001b[1;34m()\u001b[0m\n\u001b[0;32m      5\u001b[0m     \u001b[1;32mwhile\u001b[0m \u001b[1;34m\"quit\"\u001b[0m \u001b[1;32mnot\u001b[0m \u001b[1;32min\u001b[0m \u001b[0mi\u001b[0m\u001b[1;33m:\u001b[0m\u001b[1;33m\u001b[0m\u001b[1;33m\u001b[0m\u001b[0m\n\u001b[0;32m      6\u001b[0m         \u001b[0mstring\u001b[0m\u001b[1;33m,\u001b[0m \u001b[0mnum\u001b[0m \u001b[1;33m=\u001b[0m \u001b[1;33m(\u001b[0m\u001b[0mquit\u001b[0m\u001b[1;33m,\u001b[0m \u001b[1;36m0\u001b[0m\u001b[1;33m)\u001b[0m\u001b[1;33m\u001b[0m\u001b[1;33m\u001b[0m\u001b[0m\n\u001b[1;32m----> 7\u001b[1;33m         \u001b[0mstring\u001b[0m\u001b[1;33m,\u001b[0m \u001b[0mnum\u001b[0m \u001b[1;33m=\u001b[0m \u001b[0mi\u001b[0m\u001b[1;33m.\u001b[0m\u001b[0msplit\u001b[0m\u001b[1;33m(\u001b[0m\u001b[1;33m)\u001b[0m\u001b[1;33m\u001b[0m\u001b[1;33m\u001b[0m\u001b[0m\n\u001b[0m\u001b[0;32m      8\u001b[0m         \u001b[0mprint\u001b[0m\u001b[1;33m(\u001b[0m\u001b[1;34mf\"Eating {num} {string} a day keeps the doctor away.\"\u001b[0m\u001b[1;33m)\u001b[0m\u001b[1;33m\u001b[0m\u001b[1;33m\u001b[0m\u001b[0m\n\u001b[0;32m      9\u001b[0m         \u001b[0mi\u001b[0m \u001b[1;33m=\u001b[0m \u001b[0minput\u001b[0m\u001b[1;33m(\u001b[0m\u001b[1;33m)\u001b[0m\u001b[1;33m\u001b[0m\u001b[1;33m\u001b[0m\u001b[0m\n",
      "\u001b[1;31mValueError\u001b[0m: too many values to unpack (expected 2)"
     ]
    }
   ],
   "source": [
    "def main():\n",
    "\n",
    "    i = input()\n",
    "\n",
    "    while \"quit\" not in i:\n",
    "        string, num = (quit, 0)\n",
    "        string, num = i.split()\n",
    "        print(f\"Eating {num} {string} a day keeps the doctor away.\")\n",
    "        i = input()\n",
    "\n",
    "main()"
   ]
  },
  {
   "cell_type": "markdown",
   "metadata": {},
   "source": [
    "### Remove non-alphabetical characters"
   ]
  },
  {
   "cell_type": "code",
   "execution_count": 10,
   "metadata": {},
   "outputs": [
    {
     "name": "stdout",
     "output_type": "stream",
     "text": [
      "fdaiojgidfoajpfiodajoipfdjpouewiurygrtw\n"
     ]
    }
   ],
   "source": [
    "def removeNonAlpha(string):\n",
    "    alphaString = \"\"\n",
    "    \n",
    "    for c in string:\n",
    "        if c.isalnum() and not c.isdigit():\n",
    "            alphaString += c\n",
    "\n",
    "    return alphaString\n",
    "\n",
    "userString = \"fdaiojgidfoajpfiod ajoipfdjpou3e0w29 iur3410-954818y4=1854=90854= g8rtw=8\"\n",
    "\n",
    "print(removeNonAlpha(userString))"
   ]
  },
  {
   "cell_type": "markdown",
   "metadata": {},
   "source": [
    "### Varied Input Data Amounts"
   ]
  },
  {
   "cell_type": "markdown",
   "metadata": {},
   "source": [
    "Statistics are often calculated with varying amounts of input data. Write a program that takes any number of integers as input, and outputs the average and max.\n",
    "\n",
    "Ex: If the input is:\n",
    "\n",
    "`15 20 0 5`\n",
    "\n",
    "the output is:\n",
    "\n",
    "`10 20`\n",
    "\n",
    "Note: For output, round the average to the nearest integer.\n"
   ]
  },
  {
   "cell_type": "code",
   "execution_count": 21,
   "metadata": {},
   "outputs": [
    {
     "name": "stdout",
     "output_type": "stream",
     "text": [
      "10 10\n"
     ]
    }
   ],
   "source": [
    "userList = input().split()\n",
    "numList = [int(i) for i in userList]\n",
    "\n",
    "print(round(sum(numList) / len(numList)), max(numList))"
   ]
  },
  {
   "cell_type": "markdown",
   "metadata": {},
   "source": [
    "### Filter and Sort List"
   ]
  },
  {
   "cell_type": "markdown",
   "metadata": {},
   "source": [
    "Write a program that gets a list of integers from input, and outputs non-negative integers in ascending order (lowest to highest).\n",
    "\n",
    "Ex: If the input is:\n",
    "\n",
    "`10 -7 4 39 -6 12 2`\n",
    "\n",
    "the output is:\n",
    "\n",
    "`2 4 10 12 39`\n",
    "\n",
    "For coding simplicity, follow every output value by a space. Do not end with newline."
   ]
  },
  {
   "cell_type": "code",
   "execution_count": 22,
   "metadata": {},
   "outputs": [
    {
     "name": "stdout",
     "output_type": "stream",
     "text": [
      "2 5 10 "
     ]
    }
   ],
   "source": [
    "userList = input().split()\n",
    "numList = [int(i) for i in userList if int(i) >= 0]\n",
    "numList.sort()\n",
    "\n",
    "for num in numList:\n",
    "    print(num, end=\" \")"
   ]
  },
  {
   "cell_type": "markdown",
   "metadata": {},
   "source": [
    "### Elements in Range"
   ]
  },
  {
   "cell_type": "markdown",
   "metadata": {},
   "source": [
    "Write a program that first gets a list of integers from input. That list is followed by two more integers representing lower and upper bounds of a range. Your program should output all integers from the list that are within that range (inclusive of the bounds).\n",
    "\n",
    "Ex: If the input is:\n",
    "\n",
    "`25 51 0 200 33`\n",
    "`0 50`\n",
    "\n",
    "the output is:\n",
    "\n",
    "`25 0 33 `\n",
    "\n",
    "The bounds are 0-50, so 51 and 200 are out of range and thus not output.\n",
    "\n",
    "For coding simplicity, follow each output integer by a space, even the last one. Do not end with newline.\n"
   ]
  },
  {
   "cell_type": "code",
   "execution_count": 41,
   "metadata": {},
   "outputs": [
    {
     "name": "stdout",
     "output_type": "stream",
     "text": [
      "10 "
     ]
    }
   ],
   "source": [
    "userList = input().split()\n",
    "bounds = input().split()\n",
    "\n",
    "numBounds = [int(i) for i in bounds]\n",
    "numList = [int(i) for i in userList if numBounds[0] <= int(i) <= numBounds[1]]\n",
    "\n",
    "for num in numList:\n",
    "    print(num, end=\" \")"
   ]
  },
  {
   "cell_type": "markdown",
   "metadata": {},
   "source": [
    "### Contact List"
   ]
  },
  {
   "cell_type": "code",
   "execution_count": 50,
   "metadata": {},
   "outputs": [
    {
     "name": "stdout",
     "output_type": "stream",
     "text": [
      "[('Joe', '123-5432'), ('Linda', '983-4123'), ('Frank', '867-5309')]\n",
      "{'Joe': '123-5432', 'Linda': '983-4123', 'Frank': '867-5309'}\n",
      "867-5309\n"
     ]
    }
   ],
   "source": [
    "def main():\n",
    "    inputList = input().split()\n",
    "    userRequest = input()\n",
    "\n",
    "    contactDict = generateDictFromTuplePair(inputList)\n",
    "    print(contactDict[userRequest])\n",
    "    \n",
    "def generateDictFromTuplePair(userList):\n",
    "    tupleList = []\n",
    "    for i in range(len(userList)):\n",
    "        if userList:\n",
    "            tupleList.append((userList.pop(0), userList.pop(0)))\n",
    "\n",
    "    d = dict(tupleList)\n",
    "    return d\n",
    "\n",
    "if __name__ == \"__main__\":\n",
    "    main()\n"
   ]
  },
  {
   "cell_type": "markdown",
   "metadata": {},
   "source": [
    "### Check if List is Sorted"
   ]
  },
  {
   "cell_type": "code",
   "execution_count": 2,
   "metadata": {},
   "outputs": [
    {
     "name": "stdout",
     "output_type": "stream",
     "text": [
      "Not sorted\n",
      "Sorted\n"
     ]
    }
   ],
   "source": [
    "# seems super easy, just see if givenList == sorted(givenList)\n",
    "def isSorted(nums):\n",
    "    return True if nums == sorted(nums) else False\n",
    "\n",
    "if __name__ == '__main__':\n",
    "    # Test out-of-order example\n",
    "    nums1 = [5, 6, 7, 8, 3]\n",
    "    if isSorted(nums1):\n",
    "        print('Sorted')\n",
    "    else:\n",
    "        print('Not sorted')\n",
    "        \n",
    "    # Test in-order example\n",
    "    nums2 = [5, 6, 7, 8, 10]\n",
    "    if isSorted(nums2):\n",
    "        print('Sorted')\n",
    "    else:\n",
    "        print('Not sorted')"
   ]
  },
  {
   "cell_type": "markdown",
   "metadata": {},
   "source": [
    "### Fat-burning Heart Rate"
   ]
  },
  {
   "cell_type": "markdown",
   "metadata": {},
   "source": [
    "Write a program that calculates an adult's fat-burning heart rate, which is 70% of the difference between 220 and the person's age respectively. Complete fat_burning_heart_rate() to calculate the fat burning heart rate.\n",
    "\n",
    "The adult's age must be between the ages of 18 and 75 inclusive. If the age entered is not in this range, raise a `ValueError` exception in `get_age()` with the message \"Invalid age.\" Handle the exception in `__main__` and print the `ValueError` message along with \"Could not calculate heart rate info.\"\n",
    "\n",
    "Ex: If the input is:\n",
    "\n",
    "`35`\n",
    "\n",
    "the output is:\n",
    "\n",
    "`Fat burning heart rate for a 35 year-old: 129.5 bpm`\n",
    "\n",
    "If the input is:\n",
    "\n",
    "`17`\n",
    "\n",
    "the output is:\n",
    "\n",
    "`Invalid age.`\n",
    "\n",
    "`Could not calculate heart rate info.`\n",
    "\n"
   ]
  },
  {
   "cell_type": "code",
   "execution_count": 127,
   "metadata": {},
   "outputs": [
    {
     "name": "stdout",
     "output_type": "stream",
     "text": [
      "Invalid age.\n",
      "Could not calculate heart rate info.\n"
     ]
    }
   ],
   "source": [
    "def get_age():\n",
    "    age = int(input())\n",
    "    \n",
    "    if 17 < age <= 75 :\n",
    "        return age\n",
    "    else: \n",
    "        raise ValueError(\"Invalid age.\")\n",
    "\n",
    "\n",
    "def fat_burning_heart_rate(age):\n",
    "    heart_rate = 0.7 * (220 - age)\n",
    "    return heart_rate\n",
    "\n",
    "if __name__ == \"__main__\":\n",
    "    try:\n",
    "        age = get_age()\n",
    "        rate = fat_burning_heart_rate(age)\n",
    "        print(f\"Fat burning heart rate for a {age} year-old: {round(rate, 1)} bpm\")\n",
    "        \n",
    "    except ValueError as excpt:\n",
    "        print(excpt)\n",
    "        print(\"Could not calculate heart rate info.\")\n",
    "        "
   ]
  },
  {
   "cell_type": "markdown",
   "metadata": {},
   "source": [
    "### Exception Handling to Detect Int vs. String"
   ]
  },
  {
   "cell_type": "markdown",
   "metadata": {},
   "source": [
    "The given program reads a list of single-word first names and ages (ending with -1), and outputs that list with the age incremented. The program fails and throws an exception if the second input on a line is a string rather than an integer. At FIXME in the code, add try and except blocks to catch the ValueError exception and output 0 for the age.\n",
    "\n",
    "Ex: If the input is:\n",
    "\n",
    "`Lee 18`\n",
    "\n",
    "`Lua 21`\n",
    "\n",
    "`Mary Beth 19`\n",
    "\n",
    "`Stu 33`\n",
    "\n",
    "`-1`\n",
    "\n",
    "then the output is:\n",
    "\n",
    "`Lee 19`\n",
    "\n",
    "`Lua 22`\n",
    "\n",
    "`Mary 0`\n",
    "\n",
    "`Stu 34`\n"
   ]
  },
  {
   "cell_type": "code",
   "execution_count": 4,
   "metadata": {},
   "outputs": [
    {
     "name": "stdout",
     "output_type": "stream",
     "text": [
      "Steve 20\n",
      "Mary 0\n"
     ]
    }
   ],
   "source": [
    "# Split input into 2 parts: name and age\n",
    "parts = input().split()\n",
    "name = parts[0]\n",
    "\n",
    "while name != '-1':\n",
    "\n",
    "    try:\n",
    "        age = int(parts[1]) + 1\n",
    "        print(f'{name} {age}')\n",
    "    except ValueError:\n",
    "        print(f'{name} 0')\n",
    "        \n",
    "    # Get next line\n",
    "    parts = input().split()\n",
    "    name = parts[0]"
   ]
  },
  {
   "cell_type": "markdown",
   "metadata": {},
   "source": [
    "### Exceptions with Lists"
   ]
  },
  {
   "cell_type": "markdown",
   "metadata": {},
   "source": [
    "Given a list of 10 names, complete the program that outputs the name specified by the list index entered by the user. Use a try block to output the name and an except block to catch any IndexError. Output the message from the exception object if an IndexError is caught. Output the first element in the list if the invalid index is negative or the last element if the invalid index is positive.\n",
    "\n",
    "Note: Python allows using a negative index to access a list, as long as the magnitude of the index is smaller than the size of the list.\n",
    "\n",
    "Ex: If the input of the program is:\n",
    "\n",
    "`5`\n",
    "\n",
    "the program outputs:\n",
    "\n",
    "`Name: Jane`\n",
    "\n",
    "Ex: If the input of the program is:\n",
    "\n",
    "`12`\n",
    "\n",
    "the program outputs:\n",
    "\n",
    "`Exception! list index out of range`\n",
    "\n",
    "`The closest name is: Johnny`\n",
    "\n",
    "Ex: If the input of the program is:\n",
    "\n",
    "`-2`\n",
    "\n",
    "the program outputs:\n",
    "\n",
    "`Name: Tyrese`\n",
    "\n",
    "Ex: If the input of the program is:\n",
    "\n",
    "`-15`\n",
    "\n",
    "the program outputs:\n",
    "\n",
    "`Exception! list index out of range`\n",
    "\n",
    "`The closest name is: Ryley`\n",
    "\n"
   ]
  },
  {
   "cell_type": "code",
   "execution_count": 31,
   "metadata": {},
   "outputs": [
    {
     "name": "stdout",
     "output_type": "stream",
     "text": [
      "Exception! list index out of range\n",
      "The closest name is: Johnny\n"
     ]
    }
   ],
   "source": [
    "names = ['Ryley', 'Edan', 'Reagan', 'Henry', 'Caius', 'Jane', 'Guto', 'Sonya', 'Tyrese', 'Johnny']\n",
    "index = int(input())\n",
    "\n",
    "try:\n",
    "    # Is there ever a good reason to use an if statement for this? \n",
    "    if abs(index) <= len(names):\n",
    "        print(f\"Name: {names[index]}\")\n",
    "    else:\n",
    "        raise IndexError\n",
    "except IndexError:\n",
    "    print(\"Exception! list index out of range\")\n",
    "    print(f\"The closest name is: {names[0] if index < -(len(names)) else names[-1]}\")"
   ]
  },
  {
   "cell_type": "markdown",
   "metadata": {},
   "source": [
    "### Student info not found - custom exceptions"
   ]
  },
  {
   "cell_type": "markdown",
   "metadata": {},
   "source": [
    "Given a main program that searches for the ID or the name of a student from a dictionary, complete the find_ID() and the find_name() functions that return the corresponding information of a student. Then, insert a try/except statement in main() to catch any exceptions thrown by find_ID() or find_name(), and output the exception message. Each entry of the dictionary contains the name (key) and the ID (value) of a student.\n",
    "\n",
    "Function find_ID() takes two parameters, a student's name and a dictionary. Function find_ID() returns the ID associated with the student's name if the name is in the dictionary. Otherwise, the function throws a custom exception type, `StudentInfoError`, with the message \"Student ID not found for studentName\", where studentName is the name of the student.\n",
    "\n",
    "Function find_name() takes two parameters, a student's ID and a dictionary. Function find_name() returns the name associated with the student's ID if the ID is in the dictionary. Otherwise, the function throws a custom exception type, `StudentInfoError`, with the message \"Student name not found for studentID\", where studentID is the ID of the student.\n",
    "\n",
    "The main program takes two inputs from a user: a user choice of finding the ID or the name of a student (int), and the ID or the name of a student (string). If the user choice is 0, find_ID() is invoked with the student's name as one of the arguments. If the user choice is 1, find_name() is invoked with the student's ID as one of the arguments. The main program finally outputs the result of the search or a message if an exception is caught.\n",
    "\n",
    "Note: `StudentInfoError` is defined in the program as a custom exception type. `StudentInfoError` has an attribute to store an exception message.\n",
    "\n",
    "Ex: If the input of the program is:\n",
    "\n",
    "`0`\n",
    "\n",
    "`Reagan`\n",
    "\n",
    "and the contents of dictionary are:\n",
    "\n",
    "`'Reagan' : 'rebradshaw835',`\n",
    "\n",
    "`'Ryley' : 'rbarber894',`\n",
    "\n",
    "`'Peyton' : 'pstott885',`\n",
    "\n",
    "`'Tyrese' : 'tmayo945',`\n",
    "\n",
    "`'Caius' : 'ccharlton329'`\n",
    "\n",
    "the output of the program is:\n",
    "\n",
    "`rebradshaw835`\n",
    "\n",
    "Ex: If the input of the program is:\n",
    "\n",
    "`0`\n",
    "\n",
    "`Mcauley`\n",
    "\n",
    "the program outputs an exception message:\n",
    "\n",
    "`Student ID not found for Mcauley`\n",
    "\n",
    "Ex: If the input of the program is:\n",
    "\n",
    "`1`\n",
    "\n",
    "`rebradshaw835`\n",
    "\n",
    "the output of the program is:\n",
    "\n",
    "`Reagan`\n",
    "\n",
    "Ex: If the input of the program is:\n",
    "\n",
    "`1`\n",
    "\n",
    "`mpreston272`\n",
    "\n",
    "the program outputs an exception message:\n",
    "\n",
    "`Student name not found for mpreston272`"
   ]
  },
  {
   "cell_type": "code",
   "execution_count": 52,
   "metadata": {},
   "outputs": [
    {
     "name": "stdout",
     "output_type": "stream",
     "text": [
      "Student name not found for 1\n"
     ]
    }
   ],
   "source": [
    "# Define custom exception\n",
    "class StudentInfoError(Exception):\n",
    "    def __init__(self, message):\n",
    "        self.message = message  # Initialize the exception message\n",
    "\n",
    "\n",
    "def find_ID(name, info):\n",
    "    if name in info:\n",
    "        studentID = info[name]\n",
    "    else:\n",
    "        raise StudentInfoError(f\"Student ID not found for {name}\")\n",
    "    return studentID\n",
    "\n",
    "\n",
    "def find_name(ID, info):\n",
    "    #itemsList = list(info.items())\n",
    "\n",
    "    for key, value in info.items():\n",
    "        if value == ID:\n",
    "            return key\n",
    "\n",
    "    raise StudentInfoError(f\"Student name not found for {ID}\")\n",
    "\n",
    "\n",
    "if __name__ == '__main__':\n",
    "    # Dictionary of student names and IDs\n",
    "    student_info = {\n",
    "        'Reagan': 'rebradshaw835',\n",
    "        'Ryley' : 'rbarber894',\n",
    "        'Peyton': 'pstott885',\n",
    "        'Tyrese': 'tmayo945',\n",
    "        'Caius' : 'ccharlton329'\n",
    "    }\n",
    "\n",
    "    userChoice = input()    # Read search option from user. 0: find_ID(), 1: find_name()\n",
    "\n",
    "    try:\n",
    "        if userChoice == \"0\":\n",
    "            name = input()\n",
    "            result = find_ID(name, student_info)\n",
    "        else:\n",
    "            ID = input()\n",
    "            result = find_name(ID, student_info)\n",
    "        print(result)\n",
    "    except StudentInfoError as excpt:\n",
    "        print(excpt)\n"
   ]
  },
  {
   "cell_type": "markdown",
   "metadata": {},
   "source": [
    "## Fun"
   ]
  },
  {
   "cell_type": "markdown",
   "metadata": {},
   "source": [
    "### Number games"
   ]
  },
  {
   "cell_type": "code",
   "execution_count": null,
   "metadata": {},
   "outputs": [],
   "source": [
    "num = int(input('Enter 2 digit number:\\n'))\n",
    "result = num * (3 * 7 * 13 * 37)\n",
    "print(result)\n",
    "\n",
    "num = int(input('Enter 3 digit number:\\n'))\n",
    "result = num * (7 * 11 * 13)\n",
    "print(result)\n",
    "\n",
    "num = int(input('Enter 5 digit number:\\n'))\n",
    "result = num * (11 * 9091)\n",
    "print(result)\n"
   ]
  },
  {
   "cell_type": "code",
   "execution_count": null,
   "metadata": {},
   "outputs": [],
   "source": [
    "num_in_tens = int(input('Enter the tens digit:\\n'))\n",
    "num_in_ones = int(input('Enter the ones digit:\\n'))\n",
    "\n",
    "num_in = num_in_tens*10 + num_in_ones\n",
    "\n",
    "print('You entered', num_in)\n",
    "print(num_in, '* 11 is', num_in*11)\n",
    "\n",
    "num_out_hundreds = num_in_tens + ((num_in_tens + num_in_ones) // 10)\n",
    "num_out_tens = (num_in_tens + num_in_ones) % 10\n",
    "num_out_ones = num_in_ones\n",
    "\n",
    "print('An easy mental way to find the answer is:')\n",
    "print(num_in_tens, ',', num_in_tens, '+', num_in_ones, ',', num_in_ones)\n",
    "\n",
    "# Build num_out from its digits:\n",
    "num_out = str(num_out_hundreds) + str(num_out_tens) + str(num_out_ones)\n",
    "\n",
    "# Note this line will generate an error until the above program is complete.\n",
    "print(num_out)\n"
   ]
  },
  {
   "cell_type": "markdown",
   "metadata": {},
   "source": [
    "### Change Calc"
   ]
  },
  {
   "cell_type": "code",
   "execution_count": null,
   "metadata": {},
   "outputs": [],
   "source": [
    "def pluralize(num, hasY):\n",
    "   ending = \"\"\n",
    "   \n",
    "   if num > 1:\n",
    "      if hasY == 0:   \n",
    "         ending = \"s\"\n",
    "      else:\n",
    "         ending = \"ies\"\n",
    "         \n",
    "   elif hasY == 1:\n",
    "      ending = \"y\"\n",
    "   \n",
    "   return ending\n",
    "\n",
    "totalChange = int(input())\n",
    "numQtrs = totalChange // 25\n",
    "numDimes = (totalChange % 25) // 10\n",
    "numNickels = (((totalChange % 25) % 10)) // 5\n",
    "numPennies = ((((totalChange % 25) % 10)) % 5) // 1\n",
    "\n",
    "if totalChange <= 0:\n",
    "   print(\"No change\")\n",
    "\n",
    "if numQtrs > 0:\n",
    "   print (f\"{numQtrs} Quarter{pluralize(numQtrs, 0)}\")\n",
    "   \n",
    "if numDimes > 0:\n",
    "   print (f\"{numDimes} Dime{pluralize(numDimes, 0)}\")\n",
    "   \n",
    "if numNickels > 0:\n",
    "   print (f\"{numNickels} Nickel{pluralize(numNickels, 0)}\")\n",
    "   \n",
    "if numPennies > 0:\n",
    "   print (f\"{numPennies} Penn{pluralize(numPennies, 1)}\")\n"
   ]
  },
  {
   "cell_type": "markdown",
   "metadata": {},
   "source": [
    "### Mad Libs"
   ]
  },
  {
   "cell_type": "code",
   "execution_count": null,
   "metadata": {},
   "outputs": [],
   "source": [
    "#A 'Mad Libs' style game where user enters nouns,\n",
    "#verbs, etc., and then a story using those words is ouput.\n",
    "\n",
    "#Get user's words\n",
    "relative = input('Enter a type of relative: ')\n",
    "print()\n",
    "\n",
    "food = input('Enter a type of food: ')\n",
    "print()\n",
    "\n",
    "adjective = input('Enter an adjective: ')\n",
    "print()\n",
    "\n",
    "period = input('Enter a time period: ')\n",
    "print()\n",
    "\n",
    "# Tell the story\n",
    "print('My', relative, 'says eating', food)\n",
    "print('will make me more', adjective)\n",
    "print('so now I eat them every', period)"
   ]
  },
  {
   "cell_type": "markdown",
   "metadata": {},
   "source": [
    "### Test Score Statistics"
   ]
  },
  {
   "cell_type": "code",
   "execution_count": null,
   "metadata": {},
   "outputs": [],
   "source": [
    "#Program to calculate statistics from student test scores.\n",
    "midterm_scores = [99.5, 78.25, 76, 58.5, 50, 87.5, 91, 68, 50]\n",
    "final_scores = [55, 62, 50, 98.75, 80, 76.5, 85.25]\n",
    "\n",
    "#Combine the scores into a single list\n",
    "all_scores = midterm_scores + final_scores\n",
    "\n",
    "num_midterm_scores = len(midterm_scores)\n",
    "num_final_scores = len(final_scores)\n",
    "\n",
    "print(num_midterm_scores, 'students took the midterm.')\n",
    "print(num_final_scores, 'students took the final.')\n",
    "\n",
    "#Calculate the number of students that took the midterm but not the final\n",
    "dropped_students = num_midterm_scores - num_final_scores\n",
    "print(dropped_students, 'students must have dropped the class.')\n",
    "\n",
    "lowest_final = min(final_scores)\n",
    "highest_final = max(final_scores)\n",
    "\n",
    "print('\\nFinal scores ranged from', lowest_final, 'to', highest_final)\n",
    "\n",
    "print(\"\\nAverages:\")\n",
    "print(\"Midterm: {:.2f} Final: {:.2f}\".format((sum(midterm_scores) / num_midterm_scores) , (sum(final_scores) / num_final_scores) ))"
   ]
  },
  {
   "cell_type": "markdown",
   "metadata": {},
   "source": [
    "### Poorly Written Grade Calculator"
   ]
  },
  {
   "cell_type": "code",
   "execution_count": null,
   "metadata": {},
   "outputs": [],
   "source": [
    "exam1 = float(input('Enter score on Exam 1 (out of 100):\\n')) / 100\n",
    "exam2 = float(input('Enter score on Exam 2 (out of 100):\\n')) / 100\n",
    "exam3 = float(input('Enter score on Exam 3 (out of 100):\\n')) / 100\n",
    "assignment1 = float(input('Enter score on Assignment 1 (out of 50):\\n')) / 50\n",
    "assignment2 = float(input('Enter score on Assignment 2 (out of 50):\\n')) / 50\n",
    "assignment3 = float(input('Enter score on Assignment 3 (out of 50):\\n')) / 50\n",
    "assignment4 = float(input('Enter score on Assignment 4 (out of 50):\\n')) / 50\n",
    "\n",
    "examAvg = (exam1 + exam2 + exam3) / 3\n",
    "assignmentAvg = (assignment1 + assignment2 + assignment3 + assignment4) / 4\n",
    "\n",
    "overallGrade = ((0.6 * examAvg) + (0.4 * assignmentAvg)) * 100\n",
    "\n",
    "print('Your overall grade is: {:.2f}'.format(overallGrade))\n"
   ]
  },
  {
   "cell_type": "markdown",
   "metadata": {},
   "source": [
    "### Various \"Health Data\" Things"
   ]
  },
  {
   "cell_type": "code",
   "execution_count": null,
   "metadata": {},
   "outputs": [],
   "source": [
    "user_age_years = int(input('enter your age in years:\\n'))\n",
    "\n",
    "user_age_days = user_age_years  * 365\n",
    "user_age_minutes = user_age_years * 525600\n",
    "user_age_seconds = user_age_minutes * 60\n",
    "user_avg_heartbeats = user_age_minutes * 72\n",
    "user_avg_sneezes = user_age_days * 3\n",
    "\n",
    "# Rough approximation of calories burned per day\n",
    "user_total_calories = user_age_days * 2700\n",
    "\n",
    "if(user_age_years > 40):\n",
    "    print('Wow, you are pretty frickin\\' old.')\n",
    "\n",
    "print(f'You are at least {user_age_days:,} days old.')\n",
    "print(f'You are at least {user_age_minutes:,} minutes old.')\n",
    "print(f'You are at least {user_age_seconds:,} seconds old.')\n",
    "print(f'Your heart has beat somewhere around {user_avg_heartbeats:,} times.')\n",
    "print(f'You have probably sneezed something like {user_avg_sneezes:,} times.')\n",
    "print(f'You might have burned somewhere {user_total_calories:,} calories in your lifetime, which is approximately {user_total_calories/4:,.0f} slices of pizza.')"
   ]
  },
  {
   "cell_type": "markdown",
   "metadata": {},
   "source": [
    "### Dice statistics"
   ]
  },
  {
   "cell_type": "code",
   "execution_count": 21,
   "metadata": {},
   "outputs": [
    {
     "name": "stdout",
     "output_type": "stream",
     "text": [
      "2 : 7\n",
      "3 : 16\n",
      "4 : 11\n",
      "5 : 25\n",
      "6 : 25\n",
      "7 : 38\n",
      "8 : 30\n",
      "9 : 19\n",
      "10 : 18\n",
      "11 : 9\n",
      "12 : 2\n",
      "2:  *******\n",
      "3:  ****************\n",
      "4:  ***********\n",
      "5:  *************************\n",
      "6:  *************************\n",
      "7:  **************************************\n",
      "8:  ******************************\n",
      "9:  *******************\n",
      "10: ******************\n",
      "11: *********\n",
      "12: **\n"
     ]
    }
   ],
   "source": [
    "import random\n",
    "\n",
    "def getHistogram(dictionary):\n",
    "    hist = {}\n",
    "\n",
    "    for key, val in dictionary.items():\n",
    "        print(key, ':', val)\n",
    "        hist[key] = (\"*\" * val)\n",
    "\n",
    "    return hist\n",
    "\n",
    "numSixes = 0\n",
    "numSevens = 0\n",
    "numRolls = 200\n",
    "\n",
    "# Create template dict\n",
    "rollResults = {2: 0, 3: 0, 4: 0, 5: 0, 6: 0, 7: 0, 8: 0, 9: 0, 10: 0, 11: 0, 12: 0}\n",
    "\n",
    "if numRolls >= 1:\n",
    "    for i in range(numRolls):\n",
    "        die1 = random.randint(1, 6)\n",
    "        die2 = random.randint(1, 6)\n",
    "        rollTotal = die1 + die2\n",
    "\n",
    "        rollResults[rollTotal] = rollResults.get(rollTotal) + 1\n",
    "        #print(f'Roll {i} is {rollTotal} ({die1} + {die2})')\n",
    "\n",
    "    # Uses .items() method to get iterable obj that can be referenced like you would with enumerate() func\n",
    "    #for result, quantity in rollResults.items():\n",
    "    #    print(f\"{result} was rolled {quantity} time(s).\")\n",
    "\n",
    "    # Prints histogram of data\n",
    "    for result, quantity in getHistogram(rollResults).items():\n",
    "        if result < 10:\n",
    "            print(f\"{result}:  {quantity}\")\n",
    "        else:\n",
    "            print(f\"{result}: {quantity}\")"
   ]
  },
  {
   "cell_type": "markdown",
   "metadata": {},
   "source": [
    "### Calculate Gas Volume"
   ]
  },
  {
   "cell_type": "code",
   "execution_count": 26,
   "metadata": {},
   "outputs": [
    {
     "name": "stdout",
     "output_type": "stream",
     "text": [
      "Gas volume: 22.698481533 m^3\n"
     ]
    }
   ],
   "source": [
    "gas_const = 8.3144621\n",
    "\n",
    "def compute_gas_volume(pressure, temperature, moles):\n",
    "    #PV = nRT --> V = (nRT)/P\n",
    "    volume = (moles * gas_const * temperature) / pressure\n",
    "    return volume\n",
    "\n",
    "gas_pressure = 100.0\n",
    "gas_moles = 1.0\n",
    "gas_temperature = 273.0\n",
    "gas_volume = 0.0\n",
    "\n",
    "gas_volume = compute_gas_volume(gas_pressure, gas_temperature, gas_moles)\n",
    "print('Gas volume:', gas_volume, 'm^3')"
   ]
  },
  {
   "cell_type": "markdown",
   "metadata": {},
   "source": [
    "### Hangman (copied from ZyBooks)"
   ]
  },
  {
   "cell_type": "code",
   "execution_count": null,
   "metadata": {},
   "outputs": [],
   "source": [
    "word = 'onomatopoeia'\n",
    "num_guesses = 10\n",
    "\n",
    "hidden_word = '-' * len(word)\n",
    "\n",
    "guess = 1\n",
    "\n",
    "while guess <= num_guesses and '-' in hidden_word:\n",
    "    print(hidden_word)\n",
    "    user_input = input('Enter a character (guess #{}): '.format(guess))\n",
    "    \n",
    "    if len(user_input) == 1:\n",
    "        # Count the number of times the character occurs in the word\n",
    "        num_occurrences = word.count(user_input)\n",
    "    \n",
    "        # Replace the appropriate position(s) in hidden_word with the actual character.\n",
    "        position = -1\n",
    "        for occurrence in range(num_occurrences):\n",
    "            position = word.find(user_input, position+1)  # Find the position of the next occurrence\n",
    "            hidden_word = hidden_word[:position] + user_input + hidden_word[position+1:]  # Rebuild the hidden word string\n",
    "    \n",
    "        guess += 1\n",
    "        \n",
    "if not '-' in hidden_word:\n",
    "    print('Winner!', end=' ')        \n",
    "else:\n",
    "    print('Loser!', end=' ')\n",
    "\n",
    "print('The word was {}.'.format(word))\n"
   ]
  }
 ],
 "metadata": {
  "interpreter": {
   "hash": "9e57da381150c32bc445a617f5277ea2102eb0088f85f33ec3bf81d0c63bfe54"
  },
  "kernelspec": {
   "display_name": "Python 3.9.7 64-bit ('base': conda)",
   "language": "python",
   "name": "python3"
  },
  "language_info": {
   "codemirror_mode": {
    "name": "ipython",
    "version": 3
   },
   "file_extension": ".py",
   "mimetype": "text/x-python",
   "name": "python",
   "nbconvert_exporter": "python",
   "pygments_lexer": "ipython3",
   "version": "3.9.7"
  },
  "orig_nbformat": 4
 },
 "nbformat": 4,
 "nbformat_minor": 2
}
