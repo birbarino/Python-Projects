{
 "cells": [
  {
   "cell_type": "markdown",
   "metadata": {},
   "source": [
    "# zyBooks Adventures!\n"
   ]
  },
  {
   "cell_type": "markdown",
   "metadata": {},
   "source": [
    "## Text and Printing to the Console\n"
   ]
  },
  {
   "cell_type": "markdown",
   "metadata": {},
   "source": [
    "### Printing Basics\n"
   ]
  },
  {
   "cell_type": "markdown",
   "metadata": {},
   "source": [
    "Printing can take multiple args\n"
   ]
  },
  {
   "cell_type": "code",
   "execution_count": null,
   "metadata": {},
   "outputs": [],
   "source": [
    "variable = [1, 2, \"string\"]\n",
    "print(\"String\", 12 ** 2, variable)\n"
   ]
  },
  {
   "cell_type": "markdown",
   "metadata": {},
   "source": [
    "### `input()` Method\n"
   ]
  },
  {
   "cell_type": "markdown",
   "metadata": {},
   "source": [
    "You can take input and print it out with it\n"
   ]
  },
  {
   "cell_type": "code",
   "execution_count": null,
   "metadata": {},
   "outputs": [],
   "source": [
    "print(\"gimme some input\", end=\" \")\n",
    "myVar = input()\n",
    "print(myVar)\n",
    "\n",
    "myInt = int(input(\"This also works...\"))\n",
    "print(myInt)\n",
    "\n",
    "print(int(input()) * int(input()) * int(input()))\n"
   ]
  },
  {
   "cell_type": "markdown",
   "metadata": {},
   "source": [
    "### Text, Formatting, Escaping, and Encoding!\n"
   ]
  },
  {
   "cell_type": "markdown",
   "metadata": {},
   "source": [
    "Python uses unicode for every letter. 'G' has a code point val of 71, 'space' has one of 32, and so on.\n"
   ]
  },
  {
   "cell_type": "code",
   "execution_count": 3,
   "metadata": {},
   "outputs": [
    {
     "name": "stdout",
     "output_type": "stream",
     "text": [
      "The Unicode value for 'e': 101\n",
      "Converting '25600' in Unicode to a char: 搀\n"
     ]
    }
   ],
   "source": [
    "# Printing Unicode values\n",
    "print(\"The Unicode value for 'e':\", ord(\"e\"))\n",
    "print(\"Converting '25600' in Unicode to a char:\", chr(25600))\n"
   ]
  },
  {
   "cell_type": "code",
   "execution_count": null,
   "metadata": {},
   "outputs": [],
   "source": [
    "my_string = 'This is a \\n \\'normal\\' string\\n'\n",
    "\n",
    "# Putting 'r' before a string literal makes it RAW\n",
    "my_raw_string = r'This is a \\n \\'raw\\' string'\n",
    "\n",
    "print(my_string)\n",
    "print(my_raw_string)\n"
   ]
  },
  {
   "cell_type": "markdown",
   "metadata": {},
   "source": [
    "## Types, Values, and so on\n"
   ]
  },
  {
   "cell_type": "markdown",
   "metadata": {},
   "source": [
    "### General\n"
   ]
  },
  {
   "cell_type": "markdown",
   "metadata": {},
   "source": [
    "int --- Numeric type: Used for variable-width integers.\n",
    "\n",
    "float --- Numeric type: Used for floating-point numbers.\n",
    "\n",
    "string --- Sequence type: Used for text.\n",
    "\n",
    "list --- Sequence type: A mutable container with ordered elements.\n",
    "\n",
    "tuple --- Sequence type: An immutable container with ordered elements.\n",
    "\n",
    "set --- Set type: A mutable container with unordered and unique elements.\n",
    "\n",
    "dict --- Mapping type: A container with key-values associated elements.\n"
   ]
  },
  {
   "cell_type": "markdown",
   "metadata": {},
   "source": [
    "### Casting\n"
   ]
  },
  {
   "cell_type": "markdown",
   "metadata": {},
   "source": [
    "Type-casting works like so:\n"
   ]
  },
  {
   "cell_type": "code",
   "execution_count": null,
   "metadata": {},
   "outputs": [],
   "source": [
    "myString = str(123)\n",
    "myInt = int(\"123\")\n"
   ]
  },
  {
   "cell_type": "markdown",
   "metadata": {},
   "source": [
    "Floats and jazz: super neat! You can typecast it with float(variable)\n"
   ]
  },
  {
   "cell_type": "code",
   "execution_count": null,
   "metadata": {},
   "outputs": [],
   "source": [
    "import math\n",
    "floatyNum = float(1)\n",
    "print(floatyNum)\n",
    "floatyNum = 12345e-12\n",
    "print(floatyNum)\n",
    "\n",
    "# causes overflow\n",
    "# print('2.0 to the power of 1024 = ', 2.0**1024)\n",
    "print(\"You can also format floats:\", \"{:.7f}\".format(math.pi))\n"
   ]
  },
  {
   "cell_type": "markdown",
   "metadata": {},
   "source": [
    "### Objects\n"
   ]
  },
  {
   "cell_type": "markdown",
   "metadata": {},
   "source": [
    "Now a little about objects\n"
   ]
  },
  {
   "cell_type": "code",
   "execution_count": null,
   "metadata": {},
   "outputs": [],
   "source": [
    "# Each object has a value, type, and identity\n",
    "example = \"string\"\n",
    "\n",
    "print(\"value:\", example)\n",
    "print(\"type:\", type(example))\n",
    "print(\"ID:\", id(example))\n"
   ]
  },
  {
   "cell_type": "markdown",
   "metadata": {},
   "source": [
    "### Strings\n"
   ]
  },
  {
   "cell_type": "markdown",
   "metadata": {},
   "source": [
    "#### General\n"
   ]
  },
  {
   "cell_type": "markdown",
   "metadata": {},
   "source": [
    "_Strings_ are sequences of chars. _String literals_ are what is surrounded by a pair of quotes\n"
   ]
  },
  {
   "cell_type": "code",
   "execution_count": 56,
   "metadata": {},
   "outputs": [
    {
     "name": "stdout",
     "output_type": "stream",
     "text": [
      "12 ur mom\n"
     ]
    }
   ],
   "source": [
    "# String length with len(str)\n",
    "yourMom = \"Your mother.\"\n",
    "print(len(yourMom), yourMom[2] + yourMom[10],\n",
    "      yourMom[5] + yourMom[6] + yourMom[5])\n",
    "\n",
    "# You can access chars in strs with negative indexes!\n",
    "lastChar = yourMom[-1]\n",
    "\n",
    "# Strings are immutable!!!!!!\n"
   ]
  },
  {
   "cell_type": "markdown",
   "metadata": {},
   "source": [
    "String formatting:\n"
   ]
  },
  {
   "cell_type": "code",
   "execution_count": null,
   "metadata": {},
   "outputs": [],
   "source": [
    "num = 1.23454\n",
    "cals = 1200\n",
    "\n",
    "# it's pretty simple\n",
    "print('{}, two, tree, fower.'.format(int(num)))\n",
    "\n",
    "# you can also format it and stuff\n",
    "print(\"I can't believe {:.0f} burrito is only {} calories\".format(num, cals))\n",
    "\n",
    "# you can also reposition the numbers.\n",
    "print(\"{1} is a whole number, {0} is not.\".format(num, cals))\n",
    "\n",
    "# you can also just assign things in the format method\n",
    "print(\"I drove my {car} to the {store} in {city} to buy some {{double braces}}\".format(\n",
    "    car=\"Toyota Tacoma\", city=\"Pittsburg\", store=\"7Eleven\"))\n",
    "\n",
    "#####Common formatting types#####\n",
    "# Decimal display (ints only)\n",
    "print(\"{:d}\".format(12))\n",
    "\n",
    "# binary display (ints only)\n",
    "print(\"{:b}\".format(129))\n",
    "\n",
    "# Int-to-Hex display\n",
    "print(\"{:x}\".format(143213), \"{:X}\".format(143213))\n",
    "\n",
    "# Exponent notation\n",
    "print(\"{:e}\".format(8679305))\n",
    "\n",
    "# Points of precision\n",
    "print(\"Default (6-point): {:f}\".format(2), \"| Programmer specified: {:2f}\".format(\n",
    "    2.47031289), \"| Leading 0: {:03d}\".format(2))\n",
    "\n",
    "# :s just outputs as string (default mode)\n",
    "print('{cnt:s} ${cost:.2f} tacos is ${sum:.2f} total'.format(\n",
    "    cnt='Three', cost=1.50, sum=4.50))\n"
   ]
  },
  {
   "cell_type": "code",
   "execution_count": null,
   "metadata": {},
   "outputs": [],
   "source": [
    "# You can also make super long strings\n",
    "declaration = (\"When in the Course of human events, it becomes necessary for \"\n",
    "               \"one people to dissolve the political bands which have connected \"\n",
    "               \"them with another, and to assume among the powers of the earth...\")\n",
    "del declaration\n"
   ]
  },
  {
   "cell_type": "markdown",
   "metadata": {},
   "source": [
    "#### String Slicing\n"
   ]
  },
  {
   "cell_type": "markdown",
   "metadata": {},
   "source": [
    "Notation for string slicing (basically substrings) goes like `myStr[start:end]`. The `end` is exclusive.\n"
   ]
  },
  {
   "cell_type": "markdown",
   "metadata": {},
   "source": [
    "To retrieve the last character of the index, you can just use a number larger than the string's length or just do `myStr[start:]`\n",
    "\n",
    "To get the length-x characters, you can just use `myStr[start:-1]` for the character before the last, `myStr[start:-2]` for the second to last, etc.\n"
   ]
  },
  {
   "cell_type": "code",
   "execution_count": 29,
   "metadata": {},
   "outputs": [
    {
     "name": "stdout",
     "output_type": "stream",
     "text": [
      " havin' \n",
      "havin' a good ol' time\n",
      "We havin' a good ol' t\n",
      "a good ol' time\n",
      "reddit.com/r/python\n",
      "Ath\n"
     ]
    }
   ],
   "source": [
    "# String slicing basics\n",
    "goodOlStr = \"We havin' a good ol' time\"\n",
    "spaceWordSpaceStr = goodOlStr[2:10]\n",
    "print(spaceWordSpaceStr)\n",
    "# You can use a really large number to get to the last char or just do goodOlStr[start:]\n",
    "print(goodOlStr[3:69420])\n",
    "print(goodOlStr[:-3])   # Can also do goodOlStr[0:-3]\n",
    "print(goodOlStr[10:])\n",
    "\n",
    "url = 'https://reddit.com/r/python'\n",
    "protocol = 'https://'\n",
    "print(url[len(protocol):])\n"
   ]
  },
  {
   "cell_type": "markdown",
   "metadata": {},
   "source": [
    "_Slice stride_ is where you use a third argument to dictate the stride, or how much to increment the index after reading each element. I.e. `myStr[0:10:2]` gets every second letter from the beginning until index 9.\n"
   ]
  },
  {
   "cell_type": "code",
   "execution_count": 28,
   "metadata": {},
   "outputs": [
    {
     "name": "stdout",
     "output_type": "stream",
     "text": [
      "Heeogn\n",
      "YourMom\n"
     ]
    }
   ],
   "source": [
    "strideStr = \"Here we go again!\"\n",
    "# Gets every third character starting from the beginning\n",
    "print(strideStr[::3])\n",
    "\n",
    "my_str = 'Ygo2u3rJM2oim'\n",
    "print(my_str[::2])\n"
   ]
  },
  {
   "cell_type": "markdown",
   "metadata": {},
   "source": [
    "Tuples and lists also support \"slice notation.\"\n"
   ]
  },
  {
   "cell_type": "markdown",
   "metadata": {},
   "source": [
    "#### Advanced Formatting (ooh)\n"
   ]
  },
  {
   "cell_type": "markdown",
   "metadata": {},
   "source": [
    "##### Field Width\n"
   ]
  },
  {
   "cell_type": "markdown",
   "metadata": {},
   "source": [
    "Displaying stuff in a nice little format (see code below).\n"
   ]
  },
  {
   "cell_type": "code",
   "execution_count": 39,
   "metadata": {},
   "outputs": [
    {
     "name": "stdout",
     "output_type": "stream",
     "text": [
      "Player Name     Score   \n",
      "------------------------\n",
      "Inigo Montoya        800\n",
      "Everyone else          9\n"
     ]
    }
   ],
   "source": [
    "formatStr = \"{name:16}{score:8}\"  # \"{value:characterBuffer}{...}\"\n",
    "\n",
    "print(formatStr.format(name=\"Player Name\", score=\"Score\"))\n",
    "print(\"-\" * 24)    # 16 + 8 = ...\n",
    "\n",
    "# If the number was a string, it would be aligned to the leftmost side instead of the right most. Neat, huh?\n",
    "print(formatStr.format(name=\"Inigo Montoya\", score=800))\n",
    "print(formatStr.format(name=\"Everyone else\", score=9))\n"
   ]
  },
  {
   "cell_type": "markdown",
   "metadata": {},
   "source": [
    "You can also force a string length!\n"
   ]
  },
  {
   "cell_type": "code",
   "execution_count": 1,
   "metadata": {},
   "outputs": [
    {
     "name": "stdout",
     "output_type": "stream",
     "text": [
      "Player Name     Score   \n",
      "------------------------\n",
      "Inigo                800\n",
      "Everyo                 9\n"
     ]
    }
   ],
   "source": [
    "# format: \"%.10s\" % stringVar -- 10 can be changed to any int\n",
    "formatStr = \"{name:16}{score:8}\"  # \"{value:characterBuffer}{...}\"\n",
    "\n",
    "print(formatStr.format(name=\"Player Name\", score=\"Score\"))\n",
    "print(\"-\" * 24)    # 16 + 8 = ...\n",
    "\n",
    "# If the number was a string, it would be aligned to the leftmost side instead of the right most. Neat, huh?\n",
    "print(formatStr.format(name=\"%.6s\" % \"Inigo Montoya\", score=800))\n",
    "print(formatStr.format(name=\"%.6s\" % \"Everyone else\", score=9))\n"
   ]
  },
  {
   "cell_type": "markdown",
   "metadata": {},
   "source": [
    "##### Aligning Text\n"
   ]
  },
  {
   "cell_type": "markdown",
   "metadata": {},
   "source": [
    "The following are alignment characters:\n",
    "\n",
    "- < gives you left-aligned text\n",
    "- \\> gives you right-aligned text\n",
    "- ^ gives you center-aligned text\n"
   ]
  },
  {
   "cell_type": "code",
   "execution_count": 49,
   "metadata": {},
   "outputs": [
    {
     "name": "stdout",
     "output_type": "stream",
     "text": [
      "Player Name        Score\n",
      "------------------------\n",
      "Inigo Montoya        800\n",
      "Everyone else          9\n",
      "\n",
      "     Player Name   Score\n",
      "------------------------\n",
      "   Inigo Montoya     800\n",
      "   Everyone else       9\n",
      "\n",
      "Player Name      Score  \n",
      "------------------------\n",
      " Inigo Montoya    800   \n",
      " Everyone else     9    \n",
      "\n"
     ]
    }
   ],
   "source": [
    "formatStr = \"{name:<16}{score:>8}\"  # \"{value:characterBuffer}{...}\"\n",
    "print(formatStr.format(name=\"Player Name\", score=\"Score\"))\n",
    "print(\"-\" * 24)\n",
    "print(formatStr.format(name=\"Inigo Montoya\", score=800))\n",
    "print(formatStr.format(name=\"Everyone else\", score=9))\n",
    "print()\n",
    "\n",
    "\n",
    "formatStr = \"{name:>16}{score:>8}\"  # \"{value:characterBuffer}{...}\"\n",
    "print(formatStr.format(name=\"Player Name\", score=\"Score\"))\n",
    "print(\"-\" * 24)\n",
    "print(formatStr.format(name=\"Inigo Montoya\", score=800))\n",
    "print(formatStr.format(name=\"Everyone else\", score=9))\n",
    "print()\n",
    "\n",
    "\n",
    "headerFormatStr = \"{name:<16}{score:^8}\"  # \"{value:characterBuffer}{...}\"\n",
    "bodyFormatStr = \"{name:^16}{score:^8}\"\n",
    "print(headerFormatStr.format(name=\"Player Name\", score=\"Score\"))\n",
    "print(\"-\" * 24)\n",
    "print(bodyFormatStr.format(name=\"Inigo Montoya\", score=800))\n",
    "print(bodyFormatStr.format(name=\"Everyone else\", score=9))\n",
    "print()\n"
   ]
  },
  {
   "cell_type": "markdown",
   "metadata": {},
   "source": [
    "##### Fill\n"
   ]
  },
  {
   "cell_type": "markdown",
   "metadata": {},
   "source": [
    "Fills can have different characters instead of just blank spaces!\n"
   ]
  },
  {
   "cell_type": "code",
   "execution_count": 64,
   "metadata": {},
   "outputs": [
    {
     "name": "stdout",
     "output_type": "stream",
     "text": [
      "    9\n",
      "00900\n",
      "9<<<<\n",
      "aaaa9\n"
     ]
    }
   ],
   "source": [
    "# Default fill:\n",
    "print(\"{score:5}\".format(score=9))\n",
    "\n",
    "# Other fills:\n",
    "print(\"{score:0^5}\".format(score=9))\n",
    "print(\"{score:<<5}\".format(score=9))\n",
    "print(\"{score:a>5}\".format(score=9))\n"
   ]
  },
  {
   "cell_type": "markdown",
   "metadata": {},
   "source": [
    "##### Floating-point Precision\n"
   ]
  },
  {
   "cell_type": "markdown",
   "metadata": {},
   "source": [
    "Pretty simple, just stuff like `'{:.3f}'.format(5.128756652)`\n"
   ]
  },
  {
   "cell_type": "code",
   "execution_count": 9,
   "metadata": {},
   "outputs": [
    {
     "name": "stdout",
     "output_type": "stream",
     "text": [
      "5.129\n",
      "!!!!!!!2.0\n"
     ]
    }
   ],
   "source": [
    "print('{:.3f}'.format(5.128756652))\n",
    "# display x with a 10 char buffer, empty space replaced with !'s, and aligned to the right\n",
    "print('{x:!>10.1f}'.format(x=2))\n"
   ]
  },
  {
   "cell_type": "markdown",
   "metadata": {},
   "source": [
    "You can also through in a little fill or spacing!\n"
   ]
  },
  {
   "cell_type": "markdown",
   "metadata": {},
   "source": [
    "#### Methods\n"
   ]
  },
  {
   "cell_type": "code",
   "execution_count": 97,
   "metadata": {},
   "outputs": [
    {
     "name": "stdout",
     "output_type": "stream",
     "text": [
      "This is the end\n",
      "This is the beginning\n",
      "Buffalo b_uffalo Buffalo b_uffalo b_uffalo buffalo Buffalo buffalo\n",
      "buff\n",
      "24\n",
      "48\n",
      "8\n",
      "True\n",
      "True\n",
      "False\n",
      ".isalnum(): False True\n",
      ".isdigit(): False True\n",
      ".islower(): False True\n",
      ".isupper(): False True\n",
      ".isspace(): False True\n",
      ".startswith(\"Buffalo\"): True False\n",
      ".endswith(\"buffalo\"): True False\n",
      "Caps the first letter: Buffalo buffalo buffalo buffalo buffalo buffalo buffalo buffalo\n",
      "All lowercase: buffalo buffalo buffalo buffalo buffalo buffalo buffalo buffalo\n",
      "All uppercase: BUFFALO BUFFALO BUFFALO BUFFALO BUFFALO BUFFALO BUFFALO BUFFALO\n",
      "Title format: Buffalo Buffalo Buffalo Buffalo Buffalo Buffalo Buffalo Buffalo\n",
      "No leading/trailing whitespace: Buffalo buffalo Buffalo buffalo buffalo buffalo Buffalo buffalo\n"
     ]
    }
   ],
   "source": [
    "# Replace (str.replace(old, new, count)). count defaults to 1 (therefore replaces only one copy of the old string).\n",
    "myString = \"This is the end\"\n",
    "print(myString)\n",
    "myString = myString.replace(\"end\", \"beginning\")\n",
    "print(myString)\n",
    "\n",
    "myString = \"Buffalo buffalo Buffalo buffalo buffalo buffalo Buffalo buffalo\"\n",
    "print(myString.replace(\"buffalo\", \"b_uffalo\", 3))\n",
    "\n",
    "# Find or .find(x, start, end). Returns the index of the first occurrence with an optional starting/ending index. Always gives you the FIRST occurrence.\n",
    "# There is also a little slicing going on here with the 12\n",
    "print(myString[myString.find(\"buffalo\"):12])\n",
    "print(myString.find(\"buffalo\", 19))\n",
    "\n",
    "# Reverse Find or .rfind(x, start, end). Like .find() except it starts at the end of the string and works backwards. Always returns the LAST occurrence.\n",
    "print(myString.rfind(\"Buffalo\"))\n",
    "\n",
    "# Count or .count(x) is super self-explanatory\n",
    "print(myString.count(\"ff\"))\n",
    "\n",
    "# Comparing strings (>, <=, ==, in, not in, !=, etc.)\n",
    "print(\"He\" in \"Hello\")     # Compares the identity, NOT the equality\n",
    "# Compares ASCII values until it gets to a point of inequality, then evaluates the comparison\n",
    "print(\"Hello\" < \"Hello there\")\n",
    "print(\"Yoohoo\" > \"Yoohoo   \")\n",
    "\n",
    "# Other\n",
    "# returns True if all chars are lowercase/uppercase/0-9\n",
    "print(\".isalnum():\", myString.isalnum(), \"123nospaces456\".isalnum())\n",
    "print(\".isdigit():\", myString.isdigit(), \"1\".isdigit())\n",
    "print(\".islower():\", myString.islower(), \" fdaf dfa fdafdf ada  \".islower())\n",
    "print(\".isupper():\", myString.isupper(), \" FDSAFDA  \".isupper())\n",
    "# Tabs, newlines, and spaces count as space\n",
    "print(\".isspace():\", myString.isspace(), \"\\t \\n    \\n\".isspace())\n",
    "print(\".startswith(\\\"Buffalo\\\"):\", myString.startswith(\"Buffalo\"),\n",
    "      \" FDSA,FD.A . \".startswith(\"Buffalo\"))   # Punctuation is not cased\n",
    "print(\".endswith(\\\"buffalo\\\"):\", myString.endswith(\n",
    "    \"buffalo\"), \" FDSAFDA  \".endswith(\"buffalo\"))\n",
    "\n",
    "print(\"Caps the first letter:\", myString.capitalize())\n",
    "print(\"All lowercase:\", myString.lower())\n",
    "print(\"All uppercase:\", myString.upper())\n",
    "print(\"Title format:\", myString.title())\n",
    "\n",
    "myString = \"    \" + myString + \"   \"\n",
    "print(\"No leading/trailing whitespace:\", myString.strip())\n",
    "\n",
    "# You can do stuff like x = input().strip().lower() --> it is a good practice to do this when taking in the data if it doesn't matter later in the program\n"
   ]
  },
  {
   "cell_type": "markdown",
   "metadata": {},
   "source": [
    "#### Splitting/Joining\n"
   ]
  },
  {
   "cell_type": "code",
   "execution_count": 143,
   "metadata": {},
   "outputs": [
    {
     "name": "stdout",
     "output_type": "stream",
     "text": [
      "https with google.com\n",
      "['This', 'is', 'the', 'end']\n",
      "['C:', 'this', 'is', 'a', 'windows', 'directory']\n",
      "etc/this/is/a/linux/directory\n",
      "This is a list\n",
      "c:\\users\\test\n"
     ]
    }
   ],
   "source": [
    "# Split method --> myStr.split(separator)\n",
    "myString = \"https://google.com\"\n",
    "protocol, domain = myString.split(\"://\")\n",
    "print(f\"{protocol} with {domain}\")\n",
    "\n",
    "myString = \"This is the end\"\n",
    "print(myString.split())\n",
    "\n",
    "myString = \"C:\\\\this\\\\is\\\\a\\\\windows\\\\directory\"\n",
    "print(myString.split(\"\\\\\"))\n",
    "\n",
    "myString = myString.replace(\"C:\", \"etc\")\n",
    "myString = myString.replace(\"windows\", \"linux\")\n",
    "\n",
    "# Join method (joins lists with a given separator) --> separator.join(myStr)\n",
    "splitString = myString.split(\"\\\\\")\n",
    "print(\"/\".join(splitString))\n",
    "print(\" \".join([\"This\", \"is\", \"a\", \"list\"]))\n",
    "\n",
    "\n",
    "path = input('Enter file name: ')\n",
    "\n",
    "newSeparator = input('Enter new separator: ')\n",
    "tokens = path.split('/')\n",
    "print(newSeparator.join(tokens))\n"
   ]
  },
  {
   "cell_type": "markdown",
   "metadata": {},
   "source": [
    "### Lists (arrays)\n"
   ]
  },
  {
   "cell_type": "markdown",
   "metadata": {},
   "source": [
    "#### General\n"
   ]
  },
  {
   "cell_type": "code",
   "execution_count": null,
   "metadata": {},
   "outputs": [],
   "source": [
    "prices = [\"$20\", 19.99, 15]\n",
    "\n",
    "# Prints last value\n",
    "print(prices[-1])\n",
    "\n",
    "# Various methods to change elements\n",
    "prices[-1] = \"Free\"\n",
    "print(prices)\n",
    "prices.pop(2)\n",
    "prices.remove(19.99)\n",
    "prices.append(\"Ta mere hue hue hue\")\n",
    "print(prices)\n",
    "\n",
    "# Misc utils\n",
    "print(\"Occurrences of the string '$20' in prices list:\", prices.count(\"$20\"))\n",
    "numList = [1, 2, 3, 4]\n",
    "print(\"Sum of all elements in numList =\", sum(numList))\n",
    "\n",
    "# Combine lists\n",
    "prices += numList\n",
    "print(prices)\n",
    "\n",
    "avg_price = (sum(numList)/len(numList))\n",
    "print(avg_price)\n"
   ]
  },
  {
   "cell_type": "markdown",
   "metadata": {},
   "source": [
    "Convert to List\n"
   ]
  },
  {
   "cell_type": "code",
   "execution_count": 15,
   "metadata": {},
   "outputs": [],
   "source": [
    "string = \"This is a string\"\n",
    "stringToList = list(string)\n"
   ]
  },
  {
   "cell_type": "markdown",
   "metadata": {},
   "source": [
    "List Copying and Modification Quirks\n"
   ]
  },
  {
   "cell_type": "code",
   "execution_count": 28,
   "metadata": {},
   "outputs": [
    {
     "name": "stdout",
     "output_type": "stream",
     "text": [
      "[0, 2, 3, 4] [0, 2, 3, 4]\n",
      "[1, 2, 3, 4] [0, 2, 3, 4]\n",
      "[1, 2, 4]\n"
     ]
    }
   ],
   "source": [
    "# Copy a list by using slice-notation/colons (list[1:4] creates a copy of that part of a given list.)\n",
    "\n",
    "# Not copying the list results in the bug where you have 2 vars pointing at the same spot in memory\n",
    "myList = [1, 2, 3, 4]\n",
    "yourList = myList\n",
    "\n",
    "# Changes the referenced list\n",
    "yourList[0] = 0\n",
    "\n",
    "# Prints two different names for the same thing.\n",
    "print(myList, yourList)\n",
    "\n",
    "myList = [1, 2, 3, 4]\n",
    "\n",
    "# Copies the entire list\n",
    "yourList = myList[:]\n",
    "\n",
    "# Changes a list\n",
    "yourList[0] = 0\n",
    "\n",
    "# Prints different lists, not the same bits in memory\n",
    "print(myList, yourList)\n",
    "\n",
    "# Deleting elements must be done as follows:\n",
    "del myList[2]\n",
    "print(myList)\n",
    "\n",
    "\n",
    "del myList, yourList\n"
   ]
  },
  {
   "cell_type": "markdown",
   "metadata": {},
   "source": [
    "#### Methods, etc\n"
   ]
  },
  {
   "cell_type": "markdown",
   "metadata": {},
   "source": [
    "##### Methods\n"
   ]
  },
  {
   "cell_type": "code",
   "execution_count": 22,
   "metadata": {},
   "outputs": [
    {
     "name": "stdout",
     "output_type": "stream",
     "text": [
      "Append: [1, 2, 3, 4, 5, 6]\n",
      "Extend: [1, 2, 3, 4, 5, 6, 7, 8]\n",
      "Insert: [['a', 'b', 'c', 'd', 'e'], 1, 2, 3, 4, 5, 6, 7, 8]\n",
      "8 ['a', 'b', 'c', 'd', 'e']\n",
      "[7, 6, 5, 4, 3, 2]\n",
      "[2, 3, 4, 5, 6, 7]\n",
      "1\n",
      "5\n"
     ]
    }
   ],
   "source": [
    "list1 = [1, 2, 3, 4, 5]\n",
    "list2 = ['a', 'b', 'c', 'd', 'e']\n",
    "\n",
    "# Append --> list.append(x) - slaps x on the end.\n",
    "list1.append(6)\n",
    "print(\"Append:\", list1)\n",
    "\n",
    "# Extend --> list.extend([x]) - put all items in list [x] into given list\n",
    "list1.extend([7, 8])\n",
    "print(\"Extend:\", list1)\n",
    "\n",
    "# Insert --> list.insert(i, x) - put x BEFORE position i\n",
    "list1.insert(0, list2)\n",
    "print(\"Insert:\", list1)\n",
    "\n",
    "# Remove --> list.remove(x) - removes value x from list\n",
    "list1.remove(1)\n",
    "\n",
    "# Pop --> list.pop() OR list.pop(i) - removes and returns the last item in the list OR \" \" with the item at i\n",
    "popped1 = list1.pop()\n",
    "popped2 = list1.pop(0)\n",
    "print(popped1, popped2)\n",
    "\n",
    "# Reverse\n",
    "list1.reverse()\n",
    "print(list1)\n",
    "\n",
    "# Sort\n",
    "list1.sort()\n",
    "print(list1)\n",
    "\n",
    "# Index --> list.index(x) - returns index of value x\n",
    "print(list2.index('b'))\n",
    "\n",
    "# Count --> list.count(x) - returns count of value x (increments with each occurrence)\n",
    "print(['b', 'b', 'b', 'b', 'b'].count('b'))\n",
    "\n",
    "del list1, list2\n"
   ]
  },
  {
   "cell_type": "markdown",
   "metadata": {},
   "source": [
    "##### Built in Functions\n"
   ]
  },
  {
   "cell_type": "code",
   "execution_count": 30,
   "metadata": {},
   "outputs": [
    {
     "name": "stdout",
     "output_type": "stream",
     "text": [
      "0: [1, 2, 3]\n",
      "1: 2\n",
      "2: 3\n",
      "3: 4\n",
      "True\n",
      "False\n",
      "4\n",
      "2\n",
      "9\n"
     ]
    }
   ],
   "source": [
    "list1 = [[1, 2, 3], 2, 3, 4]\n",
    "\n",
    "# Enumerate --> enumerate(list) - Tracks an iterating number and the list value\n",
    "for pos, token in enumerate(list1):\n",
    "    print(f\"{pos}: {token}\")\n",
    "\n",
    "# All --> all(list) - returns True if all elements in array are True (!= 0) and the list isn't empty.\n",
    "print(all(list1))\n",
    "\n",
    "# Any --> any(list) - returns True if any element is True. If no elements are, then you get False.\n",
    "print(any([0, False]))\n",
    "\n",
    "\n",
    "list1.pop(0)    # removing so there are no errors in the next few functions\n",
    "\n",
    "# Max --> max(list)\n",
    "print(max(list1))\n",
    "\n",
    "# Min --> min(list)\n",
    "print(min(list1))\n",
    "\n",
    "# Sum --> sum(list)\n",
    "print(sum(list1))\n",
    "\n",
    "del list1\n"
   ]
  },
  {
   "cell_type": "code",
   "execution_count": 36,
   "metadata": {},
   "outputs": [
    {
     "name": "stdout",
     "output_type": "stream",
     "text": [
      "Lebron James: Statistics for 2003/2004 - 2012/2013\n",
      "==================================================\n",
      "Total points: 21081\n",
      "Average Points per Game: 2108.1\n",
      "Best scoring season: 2005/2006\n",
      "Worst scoring season: 2003/2004\n"
     ]
    }
   ],
   "source": [
    "\n",
    "# Lebron James: Statistics for 2003/2004 - 2012/2013\n",
    "gamesPlayed = [79, 80, 79, 78, 75, 81, 76, 79, 62, 76]\n",
    "points = [1654, 2175, 2478, 2132, 2250, 2304, 2258, 2111, 1683, 2036]\n",
    "assists = [460, 636, 814, 701, 771, 762, 773, 663, 502, 535]\n",
    "rebounds = [432, 588, 556, 526, 592, 613, 554, 590, 492, 610]\n",
    "\n",
    "print(\"Lebron James: Statistics for 2003/2004 - 2012/2013\")\n",
    "print(\"=\" * 50)\n",
    "\n",
    "# Print total points\n",
    "print(\"Total points:\", sum(points))\n",
    "\n",
    "# Print Average PPG\n",
    "print(\"Average Points per Game:\", sum(points) / len(gamesPlayed))\n",
    "\n",
    "# Print best scoring years (Ex: 2004/2005)\n",
    "bestMinYear = points.index((max(points))) + 2003\n",
    "print(f\"Best scoring season: {bestMinYear}/{bestMinYear+1}\")\n",
    "\n",
    "# Print worst scoring years (Ex: 2004/2005)\n",
    "worstMinYear = points.index((min(points))) + 2003\n",
    "print(f\"Worst scoring season: {worstMinYear}/{worstMinYear+1}\")\n"
   ]
  },
  {
   "cell_type": "code",
   "execution_count": 37,
   "metadata": {},
   "outputs": [
    {
     "name": "stdout",
     "output_type": "stream",
     "text": [
      "user_guesses: [1]\n"
     ]
    }
   ],
   "source": [
    "num_guesses = int(input())\n",
    "user_guesses = []\n",
    "\n",
    "for i in range(num_guesses):\n",
    "    user_guesses.append(int(input()))\n",
    "\n",
    "print('user_guesses:', user_guesses)\n"
   ]
  },
  {
   "cell_type": "code",
   "execution_count": 40,
   "metadata": {},
   "outputs": [
    {
     "name": "stdout",
     "output_type": "stream",
     "text": [
      "12 -> 112 -> 321 -> 42 -> 42 \n"
     ]
    }
   ],
   "source": [
    "user_input = input()\n",
    "hourly_temperature = user_input.split()\n",
    "\n",
    "result = \"\"\n",
    "for temp in hourly_temperature:\n",
    "    result += temp + \" \"\n",
    "    if temp is not hourly_temperature[-1]:\n",
    "        result += \"-> \"\n",
    "\n",
    "print(result)\n"
   ]
  },
  {
   "cell_type": "markdown",
   "metadata": {},
   "source": [
    "#### Nesting\n"
   ]
  },
  {
   "cell_type": "code",
   "execution_count": 64,
   "metadata": {},
   "outputs": [
    {
     "name": "stdout",
     "output_type": "stream",
     "text": [
      "Accessing single elements: 1\n",
      "Displaying all contents: 1 2 3 4 5 6 7 8 9 \n",
      "Last item: 9\n",
      "Distance: 960 miles\n"
     ]
    }
   ],
   "source": [
    "nest = [\n",
    "    [1, 2],\n",
    "    [3, 4, 5],\n",
    "    [6, 7, 8, 9]\n",
    "]\n",
    "print(\"Accessing single elements:\", nest[0][0])\n",
    "\n",
    "print(\"Displaying all contents:\", end=\" \")\n",
    "for i in nest:\n",
    "    for j in i:\n",
    "        print(j, end=\" \")\n",
    "\n",
    "print()\n",
    "\n",
    "print(\"Last item:\", nest[-1][-1])\n",
    "\n",
    "# direct driving distances between cities, in miles\n",
    "# 0: Boston    1: Chicago    2: Los Angeles\n",
    "\n",
    "distances = [\n",
    "    [\n",
    "        0,\n",
    "        960,  # Boston-Chicago\n",
    "        2960  # Boston-Los Angeles\n",
    "    ],\n",
    "    [\n",
    "        960,  # Chicago-Boston\n",
    "        0,\n",
    "        2011  # Chicago-Los Angeles\n",
    "    ],\n",
    "    [\n",
    "        2960,  # Los Angeles-Boston\n",
    "        2011,  # Los-Angeles-Chicago\n",
    "        0\n",
    "    ]\n",
    "]\n",
    "\n",
    "user_input = input('Enter city pair (Ex: 1 2) -- ').strip()\n",
    "city1, city2 = user_input.split()\n",
    "\n",
    "print('Distance: {} miles'.format(distances[int(city1)][int(city2)]))\n"
   ]
  },
  {
   "cell_type": "code",
   "execution_count": 73,
   "metadata": {},
   "outputs": [
    {
     "name": "stdout",
     "output_type": "stream",
     "text": [
      "1 | 2 | 3\n",
      "2 | 4 | 6\n",
      "3 | 6 | 9\n"
     ]
    }
   ],
   "source": [
    "user_input = \"1 2 3,2 4 6,3 6 9\"  # input()\n",
    "lines = user_input.split(',')\n",
    "\n",
    "# This line uses a construct called a list comprehension, introduced elsewhere,\n",
    "# to convert the input string into a two-dimensional list.\n",
    "# Ex: 1 2, 2 4 is converted to [ [1, 2], [2, 4] ]\n",
    "\n",
    "mult_table = [[int(num) for num in line.split()] for line in lines]\n",
    "\n",
    "\n",
    "for block in mult_table:\n",
    "    result = \"\"\n",
    "    for item in block:\n",
    "        result += str(item)\n",
    "        if item is not block[-1]:\n",
    "            result += \" | \"\n",
    "\n",
    "    print(result)\n"
   ]
  },
  {
   "cell_type": "markdown",
   "metadata": {},
   "source": [
    "#### Slicing up Lists\n"
   ]
  },
  {
   "cell_type": "code",
   "execution_count": 86,
   "metadata": {},
   "outputs": [
    {
     "name": "stdout",
     "output_type": "stream",
     "text": [
      "[0, 1, 2, 3, 4, 5, 6, 7, 8, 9]\n",
      "[0, 1, 2]\n",
      "[4, 5, 6]\n",
      "[0, 2, 4, 6, 8]\n",
      "[]\n",
      "[4, 5, 6, 7]\n"
     ]
    }
   ],
   "source": [
    "myList = [0, 1, 2, 3, 4, 5, 6, 7, 8, 9]\n",
    "\n",
    "# Kinda like strings!\n",
    "print(myList[:])\n",
    "print(myList[:3])\n",
    "print(myList[4:-3])\n",
    "print(myList[0:100:2])\n",
    "print(myList[4:2])\n",
    "print(myList[-6:-2])\n"
   ]
  },
  {
   "cell_type": "markdown",
   "metadata": {},
   "source": [
    "#### Using Loops to Modify\n"
   ]
  },
  {
   "cell_type": "code",
   "execution_count": 4,
   "metadata": {},
   "outputs": [
    {
     "name": "stdout",
     "output_type": "stream",
     "text": [
      "[1, 2, 3, 4, -5]\n",
      "[1, 2, 3, 4, 0]\n"
     ]
    }
   ],
   "source": [
    "# Changing elements\n",
    "def convertNegToZero(inputList):\n",
    "    # This could also just be \"for i in range(len(inputList))\"\n",
    "    for pos, token in enumerate(inputList):\n",
    "        # and you would just use \"inputList[i]\" instead of \"token\"\n",
    "        if token < 0:\n",
    "\n",
    "            # Modify at the according index, not the token/loop var!\n",
    "            inputList[pos] = 0\n",
    "\n",
    "\n",
    "list1 = [1, 2, 3, 4, -5]\n",
    "print(list1)\n",
    "\n",
    "convertNegToZero(list1)\n",
    "print(list1)\n"
   ]
  },
  {
   "cell_type": "code",
   "execution_count": 12,
   "metadata": {},
   "outputs": [
    {
     "name": "stdout",
     "output_type": "stream",
     "text": [
      "3\n",
      "6\n",
      "9\n"
     ]
    }
   ],
   "source": [
    "list1 = [3, 6, 9]\n",
    "\n",
    "# Printing out loops\n",
    "for i in range(len(list1)):\n",
    "    print(list1[i])\n",
    "\n",
    "del list1\n"
   ]
  },
  {
   "cell_type": "markdown",
   "metadata": {},
   "source": [
    "**Good rule of thumb:** DO NOT REMOVE OR APPEND ITEMS WHILE LOOPING AS IT WILL LIKELY NOT WORK AS EXPECTED\n"
   ]
  },
  {
   "cell_type": "markdown",
   "metadata": {},
   "source": [
    "**Another good rule of thumb:** Copy lists if you are making modifications (usually best to do). Iterate over the original and modify the copy\n"
   ]
  },
  {
   "cell_type": "code",
   "execution_count": 30,
   "metadata": {},
   "outputs": [
    {
     "name": "stdout",
     "output_type": "stream",
     "text": [
      "This would be infinitely long without a forced stopper:\n",
      " [3, 6, 9, 2, 2, 2, 2, 2, 2, 2, 2, 2, 2, 2]\n",
      "Using a copy: [3, 6, 9, 2, 2, 2]\n",
      "Using range(len(list)): [3, 6, 9, 2, 2, 2]\n"
     ]
    }
   ],
   "source": [
    "list1 = [3, 6, 9]\n",
    "\n",
    "for i, j in enumerate(list1):\n",
    "    list1.append(2)\n",
    "    if i == 10:\n",
    "        break\n",
    "\n",
    "print(\"This would be infinitely long without a forced stopper:\\n\", list1)\n",
    "\n",
    "# This is a good workaround\n",
    "list1 = [3, 6, 9]\n",
    "list2 = list1[:]\n",
    "for i, j in enumerate(list1):\n",
    "    list2.append(2)\n",
    "\n",
    "print(\"Using a copy:\", list2)\n",
    "\n",
    "del list2\n",
    "\n",
    "# If you really need to do it without making a copy, just do this\n",
    "for i in range(len(list1)):\n",
    "    list1.append(2)\n",
    "\n",
    "print(\"Using range(len(list)):\", list1)\n",
    "\n",
    "del list1\n"
   ]
  },
  {
   "cell_type": "markdown",
   "metadata": {},
   "source": [
    "#### List Comprehensions\n"
   ]
  },
  {
   "cell_type": "code",
   "execution_count": 58,
   "metadata": {},
   "outputs": [
    {
     "name": "stdout",
     "output_type": "stream",
     "text": [
      "['Do', 'you', 'ever', 'feel', 'like', 'a', 'plastic', 'bag?']\n",
      "['oD', 'uoy', 'reve', 'leef', 'ekil', 'a', 'citsalp', '?gab']\n",
      "['1', '2', '3', '4', '5']\n",
      "[420, 69, 123, 555]\n",
      "[10, 26, 42]\n",
      "10\n"
     ]
    }
   ],
   "source": [
    "# Here we go bein' all Pythonic\n",
    "# Syntax: listComp = [expression for loopVarName in iterable]\n",
    "def reverseStr(string):\n",
    "    result = \"\"\n",
    "    for c in string:\n",
    "        result = c + result\n",
    "    return result\n",
    "\n",
    "\n",
    "myList = \"Do you ever feel like a plastic bag?\".split()\n",
    "print(myList)\n",
    "\n",
    "reverseListElement = [reverseStr(i) for i in myList]\n",
    "print(reverseListElement)\n",
    "\n",
    "# Converting each element to a string\n",
    "numList = [1, 2, 3, 4, 5]\n",
    "numList = [str(i) for i in numList]\n",
    "print(numList)\n",
    "\n",
    "# Convert user input into int list\n",
    "inp = \"420 69 123 555\"  # input(\"Enter numbers separated by spaces:\")\n",
    "numList = [int(i) for i in inp.split()]\n",
    "print(numList)\n",
    "\n",
    "del numList\n",
    "# Get sum of each row in 2D list\n",
    "myList = [[1, 2, 3, 4], [5, 6, 7, 8], [9, 10, 11, 12]]\n",
    "listSum = [sum(row) for row in myList]\n",
    "print(listSum)\n",
    "\n",
    "# Get smallest row in 2D list\n",
    "minRow = min([sum(row) for row in myList])  # Redundant for the sake of clarity\n",
    "print(minRow)\n"
   ]
  },
  {
   "cell_type": "code",
   "execution_count": 61,
   "metadata": {},
   "outputs": [
    {
     "name": "stdout",
     "output_type": "stream",
     "text": [
      "[1, 2, 3, 5341, 6, 4526, 5, 4312]\n",
      "Evens: [2, 6, 4526, 4312]\n"
     ]
    }
   ],
   "source": [
    "# CONDITIONAL LIST COMPS\n",
    "# Syntax: myList = [expression for loopVarName in iterable if condition]\n",
    "numbers = [int(i) for i in input(\"Enter numbers:\").split()]\n",
    "print(numbers)\n",
    "\n",
    "evenNumbers = [i for i in numbers if i % 2 == 0]\n",
    "print(\"Evens:\", evenNumbers)\n"
   ]
  },
  {
   "cell_type": "markdown",
   "metadata": {},
   "source": [
    "#### Sorting Lists\n"
   ]
  },
  {
   "cell_type": "code",
   "execution_count": 162,
   "metadata": {},
   "outputs": [
    {
     "name": "stdout",
     "output_type": "stream",
     "text": [
      "[0, 2, 3, 8, 15, 49, 70, 79, 81, 82]\n",
      "\n",
      "These are the greatest books of the decade (in no particular order):\n",
      "Flat Stanley: Flatter than a Hatter\n",
      "Gloopsblumps\n",
      "Harry Potter 2: Electric Boogaloo\n",
      "Uh Oh, Not Again! and Other Stories\n"
     ]
    }
   ],
   "source": [
    "# You can use .sort() --> does in-place modification\n",
    "import random\n",
    "randList = [random.randint(0, 99) for i in range(10)]\n",
    "randList.sort()\n",
    "print(randList)\n",
    "\n",
    "bookList = [\"Harry Potter 2: Electric Boogaloo\", \"Gloopsblumps\",\n",
    "            \"Uh Oh, Not Again! and Other Stories\", \"Flat Stanley: Flatter than a Hatter\"]\n",
    "bookList.sort()\n",
    "\n",
    "print(\"\\nThese are the greatest books of the decade (in no particular order):\")\n",
    "for b in bookList:\n",
    "    print(b)\n",
    "\n",
    "# You can reverse it!\n",
    "bookList.sort(reverse=True)\n",
    "\n",
    "# You can also use keys (see below for more details)\n",
    "bookList.sort(key=str.upper)\n",
    "\n",
    "del bookList, randList\n"
   ]
  },
  {
   "cell_type": "code",
   "execution_count": 158,
   "metadata": {},
   "outputs": [
    {
     "name": "stdout",
     "output_type": "stream",
     "text": [
      "[23, 16, 2, 34, 44, 81, 75, 23, 28, 81] --> [2, 16, 23, 23, 28, 34, 44, 75, 81, 81]\n",
      "Incorrectly sorted: ['BIRDIE', 'SaM', 'ethan']\n",
      "Correctly sorted: ['BIRDIE', 'ethan', 'SaM']\n",
      "[[1, 23], [4, 56], [7, 89, 0]]\n",
      "[[7, 89, 0], [4, 56], [1, 23]]\n"
     ]
    }
   ],
   "source": [
    "# You can use sorted() --> returns a new list\n",
    "randList = [random.randint(0, 99) for i in range(10)]\n",
    "newList = sorted(randList)\n",
    "print(randList, \"-->\", newList)\n",
    "\n",
    "# There is a \"key\" argument for the sorted method which allows you to apply a function to everything before sorting.\n",
    "# For example, making everything uniform with str.lower, str.upper, or str.capitalize\n",
    "names = [\"ethan\", \"SaM\", \"BIRDIE\"]\n",
    "print(\"Incorrectly sorted:\", sorted(names))\n",
    "print(\"Correctly sorted:\", sorted(names, key=str.lower))\n",
    "\n",
    "del newList, names, randList\n",
    "\n",
    "numList = [[7, 89, 0], [4, 56], [1, 23]]\n",
    "# not sure if this does anything or how to use it\n",
    "print(sorted(numList, key=max))\n",
    "\n",
    "# There is also a reverse argument!\n",
    "print(sorted(numList, reverse=True))\n",
    "del numList\n"
   ]
  },
  {
   "cell_type": "markdown",
   "metadata": {},
   "source": [
    "### Tuples\n"
   ]
  },
  {
   "cell_type": "markdown",
   "metadata": {},
   "source": [
    "Tuples are immutable lists. Typically that are surrounded by parens instead of brackets.\n"
   ]
  },
  {
   "cell_type": "code",
   "execution_count": 43,
   "metadata": {},
   "outputs": [
    {
     "name": "stdout",
     "output_type": "stream",
     "text": [
      "<class 'tuple'> ... Last element is 456\n"
     ]
    }
   ],
   "source": [
    "# Best for when you don't want anything to change (element position included)\n",
    "prices = (123, 456)\n",
    "print(type(prices), \"... Last element is\", prices[-1])\n"
   ]
  },
  {
   "cell_type": "markdown",
   "metadata": {},
   "source": [
    "There are also _named tuples_. Real cool data structure.\n"
   ]
  },
  {
   "cell_type": "code",
   "execution_count": null,
   "metadata": {},
   "outputs": [],
   "source": [
    "from collections import namedtuple\n",
    "\n",
    "Car = namedtuple(\"Car\", [\"make\", \"model\", \"price\"])\n",
    "subaruOutback = Car(\"Subaru\", \"Outback\", 26000)\n",
    "print(subaruOutback, subaruOutback.model, \"$\" + str(subaruOutback[2]))\n",
    "\n",
    "Dog = namedtuple('Dog', ['name', 'breed', 'color'])\n",
    "birdie = Dog(\"Birdie\", \"Shupsky\", \"Black\")\n",
    "print(birdie)\n"
   ]
  },
  {
   "cell_type": "markdown",
   "metadata": {},
   "source": [
    "### Sets\n"
   ]
  },
  {
   "cell_type": "markdown",
   "metadata": {},
   "source": [
    "A set is an unordered collection of unique elements. Sets have the following properties:\n",
    "\n",
    "- Elements are unordered: Elements in the set do not have a position or index.\n",
    "- Elements are unique: No elements in the set share the same value.\n",
    "- They are always created by using curly braces instead of parens or bracks\n"
   ]
  },
  {
   "cell_type": "code",
   "execution_count": null,
   "metadata": {},
   "outputs": [],
   "source": [
    "# Searching around for items in sets is SUPER fast compared to a list.\n",
    "# Create a set using the set() function.\n",
    "myList = [1, 1, 3, 2, 5, 4, 1, 1, 1, 2, 4, 5, 2, 3]\n",
    "nums1 = set(myList)\n",
    "mix1 = set([\"string\", \"str\", \"s\", 1, 2])\n",
    "chars1 = set(['c', 'n', 'f', '='])\n",
    "\n",
    "# Create a set using a set literal.\n",
    "nums3 = {7, 8, 3, 6, 9}\n",
    "\n",
    "# Print the contents of the sets. Duplicates will not print\n",
    "print(nums1)\n",
    "print(mix1)\n",
    "print(nums3)\n",
    "\n",
    "# Like in JS, this is also a thing.\n",
    "# apparently removes a random element (according to zyBooks)?\n",
    "poppedElement = nums1.pop()\n",
    "del poppedElement\n",
    "\n",
    "nums1.add(\"rekt\")\n",
    "nums1.remove(2)\n",
    "print(nums1)\n",
    "\n",
    "# Add elements from one set to another\n",
    "nums1.update(mix1)\n",
    "nums1.add(\"stringy-dingy\")\n",
    "print(nums1, len(nums1))\n",
    "\n",
    "# Set operations\n",
    "print(\"New (sorted) set of many combined sets:\", set.union(nums1, chars1))\n",
    "print(\"Diffs:\", set.difference(nums1, set(myList)))\n",
    "print(\"All common elements:\", set.intersection(nums1, set(myList)))\n",
    "print(\"A set with totally unique items between both:\",\n",
    "      nums1.symmetric_difference(mix1))\n",
    "\n",
    "del nums1, mix1, myList, chars1\n"
   ]
  },
  {
   "cell_type": "markdown",
   "metadata": {},
   "source": [
    "### Dictionaries\n"
   ]
  },
  {
   "cell_type": "markdown",
   "metadata": {},
   "source": [
    "#### General\n"
   ]
  },
  {
   "cell_type": "code",
   "execution_count": null,
   "metadata": {},
   "outputs": [],
   "source": [
    "scores = {\n",
    "    'Bernie': 78,\n",
    "    'Eduardo': 93,\n",
    "    'Jillian': 80,\n",
    "    'Bernice': 50,\n",
    "}\n",
    "\n",
    "# ordering is maintained but the dicts are accessed with keys\n",
    "print(\"Bernie's score:\", scores['Bernie'])\n",
    "\n",
    "# adding or replacing new key-value pairs is super easy.\n",
    "scores[\"Gertrude\"] = 88\n",
    "scores[\"Jillian\"] = 81\n",
    "print(scores)\n",
    "\n",
    "# so is removing elements\n",
    "del scores[\"Bernice\"], scores[\"Eduardo\"]\n",
    "print(scores)\n"
   ]
  },
  {
   "cell_type": "markdown",
   "metadata": {},
   "source": [
    "There are three ways to make dictionaries:\n",
    "\n",
    "- Wrapping a key/value pair in braces.\n",
    "  - `dict = {\"key\": \"value\", \"anotherkey\": \"value\"}`\n",
    "- With a dictionary comprehension (sorta like list comps).\n",
    "  - Apparently we aren't good enough to learn from zyBooks.\n",
    "- Using the `dict()` function. Created using tuple pairs, lists, etc. (see below).\n",
    "  - dict(Tommy=\"867-5309\", Tomi=\"903-5768\")\n",
    "  - dict( [ (Tommy,\"867-5309\"), (Tomi,\"903-5768\") ] )\n"
   ]
  },
  {
   "cell_type": "code",
   "execution_count": 118,
   "metadata": {},
   "outputs": [
    {
     "name": "stdout",
     "output_type": "stream",
     "text": [
      "{'key': 'value', 'anotherkey': 'value'}\n",
      "{'key': 'value', 'anotherKey': 'value'}\n",
      "{'key': 'value', 'anotherKey': 'value'}\n",
      "There's a key in myDict!\n",
      "value {'key': 'new value', 'anotherKey': 'value'}\n"
     ]
    }
   ],
   "source": [
    "myDict = {\"key\": \"value\", \"anotherkey\": \"value\"}\n",
    "print(myDict)\n",
    "\n",
    "myDict = dict(key=\"value\", anotherKey=\"value\")\n",
    "print(myDict)\n",
    "\n",
    "myDict = dict([(\"key\", \"value\"), (\"anotherKey\", \"value\")])\n",
    "print(myDict)\n",
    "\n",
    "if \"key\" in myDict:\n",
    "    print(\"There's a key in myDict!\")\n",
    "\n",
    "# Review\n",
    "val = myDict[\"key\"]\n",
    "\n",
    "myDict[\"key\"] = \"new value\"\n",
    "\n",
    "print(val, myDict)\n"
   ]
  },
  {
   "cell_type": "code",
   "execution_count": 34,
   "metadata": {},
   "outputs": [
    {
     "name": "stdout",
     "output_type": "stream",
     "text": [
      "fdafda was not found.\n",
      "fdakfdoa was not found.\n",
      "Unrecognized command.\n",
      "Unrecognized command.\n",
      "Unrecognized command.\n",
      "Unrecognized command.\n",
      "Unrecognized command.\n",
      "Unrecognized command.\n",
      "Unrecognized command.\n",
      "Unrecognized command.\n",
      "Unrecognized command.\n",
      "Unrecognized command.\n",
      "Unrecognized command.\n"
     ]
    }
   ],
   "source": [
    "\n",
    "studentGrades = {}  # Create an empty dict\n",
    "grade_prompt = \"Enter name and grade (Ex. 'Bob A+'):\"\n",
    "del_prompt = \"Enter a name to remove (Ex. 'Jennifer':\"\n",
    "menu_prompt = (\"1. Add/modify student grade\\n\"\n",
    "               \"2. Delete student grade\\n\"\n",
    "               \"3. Print student grades\\n\"\n",
    "               \"4. Quit\\n\")\n",
    "\n",
    "while True:  # Exit when user enters no input\n",
    "    command = input(menu_prompt).lower().strip()\n",
    "    if command == '1':\n",
    "        name, grade = input(grade_prompt).split()\n",
    "        studentGrades[name] = grade\n",
    "    elif command == '2':\n",
    "        name = input(del_prompt)\n",
    "        if name in studentGrades:\n",
    "            del studentGrades[name]\n",
    "        else:\n",
    "            print(f\"{name} was not found.\")\n",
    "    elif command == '3':\n",
    "        print(studentGrades)\n",
    "    elif command == '4':\n",
    "        break\n",
    "    else:\n",
    "        print('Unrecognized command.')\n"
   ]
  },
  {
   "cell_type": "markdown",
   "metadata": {},
   "source": [
    "#### Methods\n"
   ]
  },
  {
   "cell_type": "code",
   "execution_count": 53,
   "metadata": {},
   "outputs": [
    {
     "name": "stdout",
     "output_type": "stream",
     "text": [
      "Sam scored a 100!\n",
      "Birdie scored a 100!\n",
      "Ethan scored a 59!\n",
      "George scored a 78!\n",
      "\n",
      "Looks like the new tests were just graded!\n",
      "Bob scored a NO SCORE!\n",
      "Ethan scored a 57!\n",
      "Sam scored a 98!\n",
      "Birdie scored a 101!\n",
      "Gertrude scored a 91!\n",
      "\n",
      "Ethan needs to be removed from this class and placed into remedial training.\n",
      "Them is gone...\n"
     ]
    }
   ],
   "source": [
    "scores = {\n",
    "    0: None\n",
    "}\n",
    "\n",
    "# Clear --> myDict.clear() - Removes all items.\n",
    "scores.clear()\n",
    "\n",
    "scores = {\n",
    "    \"Sam\": 100,\n",
    "    \"Birdie\": 100,\n",
    "    \"Ethan\": 59,\n",
    "    \"George\": 78\n",
    "}\n",
    "\n",
    "# Get  --> myDict.get(key, default) - Reads value from key in dict. Returns default if key not found.\n",
    "for name in scores:\n",
    "    print(f\"{name} scored a {scores.get(name)}!\")\n",
    "\n",
    "# Update --> myDict1.update(myDict2) - Merges dictionaries. Similar keys that exist in both will be overwritten to whatever myDict2 has.\n",
    "newScores = {\n",
    "    \"Sam\": 98,\n",
    "    \"Birdie\": 101,\n",
    "    \"Ethan\": 57,\n",
    "    \"Gertrude\": 91\n",
    "}\n",
    "scores.update(newScores)\n",
    "\n",
    "nameList = [\"Bob\", \"Ethan\", \"Sam\", \"Birdie\", \"Gertrude\"]\n",
    "print(\"\\nLooks like the new tests were just graded!\")\n",
    "for name in nameList:\n",
    "    # Using default values to show a use-case\n",
    "    print(f\"{name} scored a {scores.get(name, 'NO SCORE')}!\")\n",
    "\n",
    "# Pop --> myDict.pop(key, default) - Removes the given key from the dict. Returns the default value if it is not found.\n",
    "print(\"\\nEthan needs to be removed from this class and placed into remedial training.\")\n",
    "scores.pop(\"Ethan\")\n",
    "\n",
    "# Using default value just b/c\n",
    "doubleCheck = scores.pop(\"Ethan\", \"Them is gone...\")\n",
    "print(doubleCheck)\n",
    "\n",
    "del doubleCheck, scores, nameList, newScores\n"
   ]
  },
  {
   "cell_type": "code",
   "execution_count": 204,
   "metadata": {},
   "outputs": [
    {
     "name": "stdout",
     "output_type": "stream",
     "text": [
      "Highest scoring student is Tricia with a grade of 94.8%\n",
      "Here is the average score for each assignment: [82.8, 81.8, 86.0, 70.6, 80.4]\n",
      "FIXME: Create function curveScores()\n"
     ]
    }
   ],
   "source": [
    "def main():\n",
    "    # studentGrades contains scores (out of 100) for 5 assignments\n",
    "    studentGrades = {\n",
    "        'Andrew': [56, 79, 90, 22, 50],\n",
    "        'Nisreen': [88, 62, 68, 75, 78],\n",
    "        'Alan': [95, 88, 92, 85, 85],\n",
    "        'Chang': [76, 88, 85, 82, 90],\n",
    "        'Tricia': [99, 92, 95, 89, 99]\n",
    "    }\n",
    "\n",
    "    bestStudent = getHighestScore(studentGrades)\n",
    "    print(\n",
    "        f\"Highest scoring student is {bestStudent[0]} with a grade of {bestStudent[1]}%\")\n",
    "\n",
    "    avgAssignmentScores = getAvgAssignmentScores(studentGrades)\n",
    "    print(\"Here is the average score for each assignment:\", avgAssignmentScores)\n",
    "\n",
    "    curvedScores = curveScores(studentGrades)\n",
    "    print(curvedScores)\n",
    "\n",
    "\n",
    "def getHighestScore(scoreDict):\n",
    "    items = scoreDict.items()\n",
    "    highestTotal = (None, 0)\n",
    "\n",
    "    # Determining the highest scoring student\n",
    "    for name, score in items:\n",
    "        if sum(score) > highestTotal[1]:\n",
    "            highestTotal = (name, sum(score))\n",
    "\n",
    "    # Returns a tuple in the format of (name, average score)\n",
    "    return (highestTotal[0], highestTotal[1] / len(score))\n",
    "\n",
    "\n",
    "def getAvgAssignmentScores(scoreDict):\n",
    "    values = list(scoreDict.values())\n",
    "\n",
    "    # List to hold averages\n",
    "    totalScores = [0 for i in range(len(values[0]))]\n",
    "\n",
    "    for outerList in values:\n",
    "        for innerIndex, innerValue in enumerate(outerList):\n",
    "            totalScores[innerIndex] += innerValue\n",
    "\n",
    "    avgScores = [(score / len(totalScores)) for score in totalScores]\n",
    "\n",
    "    return avgScores\n",
    "\n",
    "\n",
    "def curveScores(scoreDict):\n",
    "    return \"FIXME: Create function curveScores()\"\n",
    "\n",
    "\n",
    "if __name__ == \"__main__\":\n",
    "    main()\n"
   ]
  },
  {
   "cell_type": "markdown",
   "metadata": {},
   "source": [
    "#### Iteration\n"
   ]
  },
  {
   "cell_type": "markdown",
   "metadata": {},
   "source": [
    "##### Methods\n"
   ]
  },
  {
   "cell_type": "code",
   "execution_count": 116,
   "metadata": {},
   "outputs": [
    {
     "name": "stdout",
     "output_type": "stream",
     "text": [
      "Sam: 100\n",
      "Birdie: 100\n",
      "Ethan: 59\n",
      "George: 78\n",
      "Gertrude: 23\n",
      "\n",
      "Sam: 100\n",
      "Birdie: 100\n",
      "Ethan: 59\n",
      "George: 78\n",
      "Gertrude: 23\n",
      "\n",
      "Check out all of the students ['Sam', 'Birdie', 'Ethan', 'George', 'Gertrude']\n",
      "Average score: 72.0\n"
     ]
    }
   ],
   "source": [
    "scores = {\n",
    "    \"Sam\": 100,\n",
    "    \"Birdie\": 100,\n",
    "    \"Ethan\": 59,\n",
    "    \"George\": 78,\n",
    "    \"Gertrude\": 23\n",
    "}\n",
    "\n",
    "for s in scores:\n",
    "    print(f\"{s}: {scores[s]}\")\n",
    "\n",
    "print()\n",
    "\n",
    "# All of these return \"view objects\" that are generated for each iteration as needed.\n",
    "# They do not get stored in a list and they cannot be indexed\n",
    "\n",
    "# Items method (returns tuples of (key, value))\n",
    "items = scores.items()\n",
    "for name, score in items:\n",
    "    print(f\"{name}: {score}\")\n",
    "\n",
    "print()\n",
    "\n",
    "# Keys method\n",
    "keys = scores.keys()\n",
    "studentList = []\n",
    "for k in keys:\n",
    "    studentList.append(k)\n",
    "print(\"Check out all of the students\", studentList)\n",
    "\n",
    "# Values method\n",
    "# Casting to list allows for accessing each item by index\n",
    "values = list(scores.values())\n",
    "\n",
    "# You can also use the sum() function since it's a list now.\n",
    "print(\"Average score:\", sum(values) / len(values))\n"
   ]
  },
  {
   "cell_type": "code",
   "execution_count": 4,
   "metadata": {},
   "outputs": [
    {
     "name": "stdout",
     "output_type": "stream",
     "text": [
      "China has 1365830000 people.\n",
      "India has 1247220000 people.\n",
      "United States has 318463000 people.\n",
      "Indonesia has 252164800 people.\n"
     ]
    }
   ],
   "source": [
    "user_input = 'China:1365830000,India:1247220000,United States:318463000,Indonesia:252164800'\n",
    "entries = user_input.split(',')\n",
    "country_pop = {}\n",
    "\n",
    "for pair in entries:\n",
    "    split_pair = pair.split(':')\n",
    "    country_pop[split_pair[0]] = split_pair[1]\n",
    "    # country_pop is a dictionary, Ex: { 'Germany':'82790000', 'France':'67190000' }\n",
    "\n",
    "for country, pop in country_pop.items():\n",
    "    print(country, 'has', pop, 'people.')\n"
   ]
  },
  {
   "cell_type": "markdown",
   "metadata": {},
   "source": [
    "#### Nesting\n"
   ]
  },
  {
   "cell_type": "code",
   "execution_count": 14,
   "metadata": {},
   "outputs": [
    {
     "name": "stdout",
     "output_type": "stream",
     "text": [
      "All midterm scores: {'John Ponting': 85, 'Jacques Kallis': 87, 'Ricky Bobby': 40}\n"
     ]
    }
   ],
   "source": [
    "# Yo, I heard you like dictionaries, so I put a dictionary in your dictionary.\n",
    "\n",
    "grades = {\n",
    "    'John Ponting': {\n",
    "        'Homeworks': [79, 80, 74],\n",
    "        'Midterm': 85,\n",
    "        'Final': 92\n",
    "    },\n",
    "    'Jacques Kallis': {\n",
    "        'Homeworks': [90, 92, 65],\n",
    "        'Midterm': 87,\n",
    "        'Final': 75\n",
    "    },\n",
    "    'Ricky Bobby': {\n",
    "        'Homeworks': [50, 52, 78],\n",
    "        'Midterm': 40,\n",
    "        'Final': 65\n",
    "    },\n",
    "}\n",
    "\n",
    "midtermScores = {}\n",
    "\n",
    "for name, scores in grades.items():\n",
    "    midtermScores[name] = scores[\"Midterm\"]\n",
    "\n",
    "print(\"All midterm scores:\", midtermScores)\n"
   ]
  },
  {
   "cell_type": "markdown",
   "metadata": {},
   "source": [
    "### Binary Numbers\n"
   ]
  },
  {
   "cell_type": "markdown",
   "metadata": {},
   "source": [
    "You get the gist of it\n"
   ]
  },
  {
   "cell_type": "code",
   "execution_count": 15,
   "metadata": {},
   "outputs": [
    {
     "name": "stdout",
     "output_type": "stream",
     "text": [
      "0b110\n"
     ]
    }
   ],
   "source": [
    "print(bin(6))\n"
   ]
  },
  {
   "cell_type": "markdown",
   "metadata": {},
   "source": [
    "## Maths and their Nuances\n"
   ]
  },
  {
   "cell_type": "markdown",
   "metadata": {},
   "source": [
    "### Basic Arithmetic\n"
   ]
  },
  {
   "cell_type": "code",
   "execution_count": null,
   "metadata": {},
   "outputs": [],
   "source": [
    "# calculated left-to-right when operators have equal precedence (P E MD AS)\n",
    "# parens help clear this up a lot, though, i.e. 2 + ((4 / 2) * 3)\n",
    "print(2 + 4 / 2 * 3)\n",
    "\n",
    "# exponents are calculated r-to-l\n",
    "print(5 + 3 ** 2 + 1)\n"
   ]
  },
  {
   "cell_type": "markdown",
   "metadata": {},
   "source": [
    "### Division and Modulo\n"
   ]
  },
  {
   "cell_type": "markdown",
   "metadata": {},
   "source": [
    "Division always yields a float and it has a few types:\n",
    "\n",
    "- Normal\n",
    "- Floored\n",
    "- Modulo\n"
   ]
  },
  {
   "cell_type": "code",
   "execution_count": null,
   "metadata": {},
   "outputs": [],
   "source": [
    "# normal ( / )\n",
    "print(\"5/4 equals\", 5 / 4)\n",
    "\n",
    "# floored ( // )\n",
    "print(\"5/4 with no remainder equals\", 5 // 4)\n",
    "\n",
    "# modulo ( % )\n",
    "print(\"The remainder of 122/60 equals\", 122 % 60)\n"
   ]
  },
  {
   "cell_type": "code",
   "execution_count": null,
   "metadata": {},
   "outputs": [],
   "source": [
    "'''Calculate Rough Mile-and-a-Half Run Time'''\n",
    "\n",
    "fullMinutesRan = int(\n",
    "    input(\"How many full minutes were ran (not including seconds)\"))\n",
    "remainderSecondsRan = int(\n",
    "    input(\"How many seconds were ran (not including full minutes)\"))\n",
    "distanceRanMiles = float(input(\"How far did you run in miles?\"))\n",
    "\n",
    "totalSecondsRan = (fullMinutesRan * 60) + remainderSecondsRan\n",
    "secondsInMileAndHalfRun = (totalSecondsRan / distanceRanMiles) * 1.5\n",
    "\n",
    "print(\"Your 1.5 mile time is:\", (secondsInMileAndHalfRun // 60),\n",
    "      \"minutes and\", (secondsInMileAndHalfRun % 60), \"seconds.\")\n"
   ]
  },
  {
   "cell_type": "code",
   "execution_count": null,
   "metadata": {},
   "outputs": [],
   "source": [
    "# Dividing by a power of 10 shifts a value right. Ex: 321 // 10 is 32. Ex: 321 // 100 is 3.\n",
    "# % by a power of 10 gets the rightmost digits. Ex: 321 % 10 is 1. Ex: 321 % 50 is 21.\n",
    "\n",
    "value = 927\n",
    "onesDigit = value % 10    # Ex: 927 % 10 is 7.\n",
    "tmpVal = value // 10\n",
    "\n",
    "# Ex: tmp_val = 927 // 10 is 92. Then 92 % 10 is 2.\n",
    "tensDigit = tmpVal % 10\n",
    "tmpVal = tmpVal // 10\n",
    "\n",
    "hundredsDigit = tmpVal % 10     # Ex: tmp_val = 92 // 10 = 9. Then 9 % 10 is 9\n"
   ]
  },
  {
   "cell_type": "code",
   "execution_count": null,
   "metadata": {},
   "outputs": [],
   "source": [
    "amountToChange = 23\n",
    "\n",
    "numFives = amountToChange // 5\n",
    "\n",
    "numOnes = amountToChange % 5\n",
    "print('Change for $', amountToChange)\n",
    "print(numFives, 'five dollar bill(s) and', numOnes, 'one dollar bill(s)')\n"
   ]
  },
  {
   "cell_type": "markdown",
   "metadata": {},
   "source": [
    "You can use a fill character to fill in extra gaps in text. By default, it is empty space (\" \"). You can customize fill as follows:\n"
   ]
  },
  {
   "cell_type": "markdown",
   "metadata": {},
   "source": [
    "## Modules\n"
   ]
  },
  {
   "cell_type": "markdown",
   "metadata": {},
   "source": [
    "### General\n"
   ]
  },
  {
   "cell_type": "markdown",
   "metadata": {},
   "source": [
    "Modules can be imported into a script to increase functionality. _When they they are imported, they are immediately executed_\n"
   ]
  },
  {
   "cell_type": "code",
   "execution_count": null,
   "metadata": {},
   "outputs": [],
   "source": [
    "# importing and using modules is super easy!\n",
    "\n",
    "import math\n",
    "print(math.factorial(3))\n"
   ]
  },
  {
   "cell_type": "markdown",
   "metadata": {},
   "source": [
    "Checking if the module is executing in another script\n"
   ]
  },
  {
   "cell_type": "code",
   "execution_count": null,
   "metadata": {},
   "outputs": [],
   "source": [
    "# executes only if file is run as a script\n",
    "if __name__ == '__main__':\n",
    "    print(\"I am executing as a script, not as a module!!\")\n"
   ]
  },
  {
   "cell_type": "markdown",
   "metadata": {},
   "source": [
    "#### Math module\n"
   ]
  },
  {
   "cell_type": "code",
   "execution_count": null,
   "metadata": {},
   "outputs": [],
   "source": [
    "import math\n",
    "num = 49\n",
    "\n",
    "# Math has a bunch of functions (like sqrt())\n",
    "numSqrt = math.sqrt(num)\n",
    "\n",
    "# You can round!\n",
    "print(\"Rounding up 7.1 to 8 with .ceil():\", math.ceil(7.1))\n",
    "print(\"Rounding down 7.6 to 7 with .floor():\", math.floor(7.6))\n",
    "print(\"Rounding 6.9420 to second decimal with round() method (not a math one):\", round(6.9420, 2))\n"
   ]
  },
  {
   "cell_type": "markdown",
   "metadata": {},
   "source": [
    "#### Random Module\n"
   ]
  },
  {
   "cell_type": "code",
   "execution_count": 68,
   "metadata": {},
   "outputs": [
    {
     "name": "stdout",
     "output_type": "stream",
     "text": [
      "173\n"
     ]
    }
   ],
   "source": [
    "import random\n",
    "\n",
    "# Generate random int b/w 0 and 5\n",
    "print(random.randint(0, 500))\n"
   ]
  },
  {
   "cell_type": "markdown",
   "metadata": {},
   "source": [
    "### Custom Modules\n"
   ]
  },
  {
   "cell_type": "markdown",
   "metadata": {},
   "source": [
    "Scripts can be imported as modules. For example `tools.py` can be brought in with `import tools`\n",
    "\n",
    "A dictionary of loaded modules is in `sys.modules`, which can be accessed by importing the `sys` module. Doing so will show you the namespaces for each module, each holding their own definitions and such.\n",
    "\n",
    "Importing modules process:\n",
    "\n",
    "1. `sys.modules` checks for module\n",
    "2. Module object created\n",
    "3. Added to `sys.modules`\n",
    "4. Code executed\n",
    "5. Added to importer's namespace\n"
   ]
  },
  {
   "cell_type": "code",
   "execution_count": 16,
   "metadata": {},
   "outputs": [
    {
     "name": "stdout",
     "output_type": "stream",
     "text": [
      "<module 'builtins' (built-in)>\n",
      "True\n"
     ]
    }
   ],
   "source": [
    "import sys\n",
    "builtins = sys.modules.get('builtins')\n",
    "print(builtins)\n",
    "print(__builtins__ is builtins)\n"
   ]
  },
  {
   "cell_type": "code",
   "execution_count": 1,
   "metadata": {},
   "outputs": [
    {
     "name": "stdout",
     "output_type": "stream",
     "text": [
      "Hello\n",
      "[1, 2, 3, 4]\n"
     ]
    }
   ],
   "source": [
    "import testingimports\n",
    "import data\n",
    "\n",
    "print(testingimports.greet())\n",
    "\n",
    "print(data.dataList)\n"
   ]
  },
  {
   "cell_type": "markdown",
   "metadata": {},
   "source": [
    "### Finding Modules\n"
   ]
  },
  {
   "cell_type": "markdown",
   "metadata": {},
   "source": [
    "Importing a module begins a search to find the corresponding file on the computer's file system. The interpreter first checks for a matching built-in module. A built-in module is a module that comes pre-installed with Python; examples of built-in modules include `sys`, `time`, and `math`. If no matching built-in module is found, then the interpreter searches the list of directories contained by `sys.path`, located in the `sys` module. A programmer must be careful to not give a name to a module that is already used by a built-in module. In such cases, the interpreter would load the built-in module because built-in names are checked first.\n",
    "\n",
    "The `sys.path` variable initially contains the following directories:\n",
    "\n",
    "1. The directory of the executing script.\n",
    "2. A list of directories specified by the environment variable PYTHONPATH.\n",
    "3. The directory where Python is installed.\n",
    "\n",
    "For simple programs, a module might simply be placed in the same directory. Larger projects might contain tens or hundreds of modules or use third-party modules located in different directories. In such cases, a programmer might set the environment variable PYTHONPATH in the operating system. An operating system environment variable is much like a variable in a Python script, except that an environment variable is stored by the computer's operating system and can be accessed by every program running on the computer. In Windows, a user can set the value of PYTHONPATH permanently through the control panel, or temporarily on a single instance of a command terminal (cmd.exe) using the command `set PYTHONPATH=\"c:\\dir1;c:\\other\\directory\"`.\n"
   ]
  },
  {
   "cell_type": "code",
   "execution_count": 3,
   "metadata": {},
   "outputs": [
    {
     "name": "stdout",
     "output_type": "stream",
     "text": [
      "e:\\Ethan\\Documents\\Code\\Python Projects\\C859\\notebooks\n"
     ]
    }
   ],
   "source": [
    "import sys\n",
    "\n",
    "# Paths for modules (returns a list)\n",
    "print(sys.path[0])\n"
   ]
  },
  {
   "cell_type": "markdown",
   "metadata": {},
   "source": [
    "### Importing Specific Names from Modules\n"
   ]
  },
  {
   "cell_type": "markdown",
   "metadata": {},
   "source": [
    "It is great practice to import only what you need!\n"
   ]
  },
  {
   "cell_type": "code",
   "execution_count": 8,
   "metadata": {},
   "outputs": [
    {
     "name": "stdout",
     "output_type": "stream",
     "text": [
      "3.0 9.0\n",
      "Hello\n"
     ]
    }
   ],
   "source": [
    "# Syntax: 'from moduleName import name1, name2, ...'\n",
    "from math import sqrt, pow\n",
    "from testingimports import greet\n",
    "\n",
    "# No longer will you need to use dot notation to access the functions/methods!\n",
    "print(sqrt(9), pow(3, 2))\n",
    "print(greet())\n"
   ]
  },
  {
   "cell_type": "code",
   "execution_count": 12,
   "metadata": {},
   "outputs": [
    {
     "name": "stdout",
     "output_type": "stream",
     "text": [
      "Hash value MD5: 098f6bcd4621d373cade4e832627b4f6\n"
     ]
    }
   ],
   "source": [
    "# copied from ZyBooks\n",
    "from hashlib import md5, sha256\n",
    "\n",
    "text = input(\"Enter text to hash ('q' to quit): \")\n",
    "\n",
    "while text != 'q':\n",
    "    algorithm = input('Enter algorithm (md5/sha256): ')\n",
    "    if algorithm == 'md5':\n",
    "        output = md5(text.encode('utf-8'))\n",
    "    elif algorithm == 'sha256':\n",
    "        output = sha256(text.encode('utf-8'))\n",
    "    else:\n",
    "        output = 'Invalid algorithm selection'\n",
    "    print(f'Hash value ({algorithm.upper()}): {output.hexdigest()}')\n",
    "\n",
    "    text = input(\"\\nEnter text to hash ('q' to quit): \")\n"
   ]
  },
  {
   "cell_type": "markdown",
   "metadata": {},
   "source": [
    "You can also import everything from a module in with the following: `from moduleName import *`. You should only really use it in interactive interpreter sessions, etc.\n"
   ]
  },
  {
   "cell_type": "markdown",
   "metadata": {},
   "source": [
    "### Running Modules as Scripts\n"
   ]
  },
  {
   "cell_type": "markdown",
   "metadata": {},
   "source": [
    "Importing scripts in that don't have that `if __name__ == \"__main__\"` statement will cause all of the code to run, even things like print statements, etc.\n",
    "\n",
    "The executing script will always have a name of \"main.\"\n"
   ]
  },
  {
   "cell_type": "code",
   "execution_count": 8,
   "metadata": {},
   "outputs": [
    {
     "name": "stdout",
     "output_type": "stream",
     "text": [
      "Found 0 links:\n"
     ]
    }
   ],
   "source": [
    "import urllib.request\n",
    "\n",
    "\n",
    "def search(terms):\n",
    "    \"\"\"Do a fictional web engine search and return the results\"\"\"\n",
    "    html = _send_request(terms)\n",
    "    results = _get_results(html)\n",
    "    return results\n",
    "\n",
    "\n",
    "def _send_request(terms):\n",
    "    \"\"\"Send search to fictional web search engine and receive HTML response\"\"\"\n",
    "    terms = terms.replace(' ', '%20')  # replace spaces\n",
    "\n",
    "    url = 'https://www.google.com/search?q=' + terms\n",
    "    info = {'User-Agent': 'Dog-man'}\n",
    "    req = urllib.request.Request(url, headers=info)\n",
    "\n",
    "    response = urllib.request.urlopen(req)\n",
    "    html = str(response.read())\n",
    "    return html\n",
    "\n",
    "\n",
    "def _get_results(html):\n",
    "    \"\"\"\n",
    "    Finds the links returned in 1st page of results.\n",
    "    \"\"\"\n",
    "    start_tag = '<cite>'  # start of results\n",
    "    end_tag = '</cite>'   # Results end with this tag\n",
    "    links = []            # list of result links\n",
    "\n",
    "    start_tag_loc = html.find(start_tag)  # find 1st link\n",
    "\n",
    "    while start_tag_loc > -1:\n",
    "        link_start = start_tag_loc + len(start_tag)\n",
    "        link_end = html.find(end_tag, link_start)\n",
    "        links.append(html[link_start:link_end])\n",
    "        start_tag_loc = html.find(start_tag, link_end)\n",
    "\n",
    "    return links\n",
    "\n",
    "\n",
    "if __name__ == \"__main__\":\n",
    "    search_term = input('Enter search terms: ')\n",
    "    result = search(search_term)\n",
    "\n",
    "    print('Found {} links:'.format(len(result)))\n",
    "    for link in result:\n",
    "        print(' ', link)\n"
   ]
  },
  {
   "cell_type": "markdown",
   "metadata": {},
   "source": [
    "### Reloading Modules\n"
   ]
  },
  {
   "cell_type": "markdown",
   "metadata": {},
   "source": [
    "You can reload modules whenever code is changed for a module and you don't want to restart the program! This is done with the `reload()` function, located in the importlib standard library module.\n"
   ]
  },
  {
   "cell_type": "code",
   "execution_count": 6,
   "metadata": {},
   "outputs": [
    {
     "data": {
      "text/plain": [
       "<module 'math' (built-in)>"
      ]
     },
     "execution_count": 6,
     "metadata": {},
     "output_type": "execute_result"
    }
   ],
   "source": [
    "from importlib import reload\n",
    "from math import pow\n",
    "\n",
    "reload(math)\n"
   ]
  },
  {
   "cell_type": "markdown",
   "metadata": {},
   "source": [
    "For example, you might have a script that sends emails to customers for your pizzeria. Restarting this script might cause some users to receive duplicate emails, which would just be plain annoying. What you can do is just check the last time a module file was modified and if it is greater than a than the last known update time, then just reload the module.\n"
   ]
  },
  {
   "cell_type": "code",
   "execution_count": null,
   "metadata": {},
   "outputs": [],
   "source": [
    "import os\n",
    "from importlib import reload\n",
    "import send_gmail\n",
    "\n",
    "mod_time = os.path.getmtime(send_gmail.__file__)\n",
    "\n",
    "emails = [  # Could be large list or stored in file\n",
    "    'billgates@microsoft.com1',\n",
    "    'president@whitehouse.gov1',\n",
    "    'benedictxvi@vatican.va1'\n",
    "]\n",
    "\n",
    "my_email = 'JohnnysHotDogs1@gmail.com'\n",
    "subject = 'A coupon for you!'\n",
    "text = (\"As a loyal customer of Johnny's HotDogs, \"\n",
    "        \"here is a coupon for 1 free bratwurst!\")\n",
    "\n",
    "for addr in emails:\n",
    "    send_gmail.send(subject, addr, my_email, text)\n",
    "\n",
    "    # Check if file has been modified\n",
    "    last_mod = os.path.getmtime(send_gmail.__file__)\n",
    "    if last_mod > mod_time:\n",
    "        mod_time = last_mod\n",
    "        reload(send_gmail)\n"
   ]
  },
  {
   "cell_type": "markdown",
   "metadata": {},
   "source": [
    "\"Reloading modules is typically useful in long-running programs, when restarting and initializing the entire program may be an expensive operation. A common scenario is a web server that is communicating with multiple clients on the internet. Instead of restarting the server and disconnecting all of the clients, a single module can be reloaded dynamically as the server runs. \"\n"
   ]
  },
  {
   "cell_type": "markdown",
   "metadata": {},
   "source": [
    "### Packages\n"
   ]
  },
  {
   "cell_type": "markdown",
   "metadata": {},
   "source": [
    "An entire directory of modules, or a _package_, can be imported instead of single modules. When loaded, it gives access to all modules in the directory.\n"
   ]
  },
  {
   "cell_type": "markdown",
   "metadata": {},
   "source": [
    "In Python 2, an `__init__.py` file was required in the package folder for it to be a package, but it is no longer required as of Python 3.3+ (which uses **implicit namespace packages**).\n"
   ]
  },
  {
   "cell_type": "code",
   "execution_count": 9,
   "metadata": {},
   "outputs": [
    {
     "name": "stdout",
     "output_type": "stream",
     "text": [
      "[1, 2, 3, 4]\n"
     ]
    }
   ],
   "source": [
    "import packagetest.data\n",
    "\n",
    "print(packagetest.data.dataList)\n"
   ]
  },
  {
   "cell_type": "markdown",
   "metadata": {},
   "source": [
    "Using `from` also works...\n"
   ]
  },
  {
   "cell_type": "code",
   "execution_count": 10,
   "metadata": {},
   "outputs": [
    {
     "name": "stdout",
     "output_type": "stream",
     "text": [
      "[1, 2, 3, 4]\n"
     ]
    }
   ],
   "source": [
    "from packagetest.data import dataList\n",
    "\n",
    "print(dataList)\n"
   ]
  },
  {
   "cell_type": "markdown",
   "metadata": {},
   "source": [
    "When using `import y.z`, `z` must be a package, subpackage, or module.\n",
    "\n",
    "When using `from x.y import z`, `z` can be a name from `y`, like a function, class, or global variable.\n"
   ]
  },
  {
   "cell_type": "markdown",
   "metadata": {},
   "source": [
    "### Standard Library\n"
   ]
  },
  {
   "cell_type": "markdown",
   "metadata": {},
   "source": [
    "Common ones include:\n",
    "\n",
    "- datetime - create and edit date and time objects\n",
    "- random\n",
    "- copy - create copies of objects\n",
    "- time - get current time, convert time zones, sleep for a certain amount of time, etc.\n",
    "- math\n",
    "- os - OS info/mgmt helpers\n",
    "- sys - System environ/config helpers\n",
    "- pdb - Python interactive debugger\n",
    "- urllib - handle URL funcs, like web requests\n"
   ]
  },
  {
   "cell_type": "code",
   "execution_count": 20,
   "metadata": {},
   "outputs": [
    {
     "name": "stdout",
     "output_type": "stream",
     "text": [
      "213 day(s) from now will be August 24, 2022\n"
     ]
    }
   ],
   "source": [
    "from datetime import date, timedelta\n",
    "\n",
    "today = date.today()\n",
    "daysFromNow = int(input(\"Enter number of days from now: \"))\n",
    "\n",
    "# Create obj to represent difference in number of days b/w two dates\n",
    "dayDiff = timedelta(days=daysFromNow)\n",
    "future = today + dayDiff\n",
    "\n",
    "print(f\"{daysFromNow} day(s) from now will be {future.strftime('%B %d, %Y')}\")\n"
   ]
  },
  {
   "cell_type": "code",
   "execution_count": 22,
   "metadata": {},
   "outputs": [
    {
     "name": "stdout",
     "output_type": "stream",
     "text": [
      "Card drawn: 5\n",
      "Card drawn: A\n",
      "2 card(s) were drawn to find an ace.\n"
     ]
    }
   ],
   "source": [
    "import random\n",
    "\n",
    "# Create a shuffled card deck with 4 suits of cards 2-10, and face cards\n",
    "deck = [2, 3, 4, 5, 6, 7, 8, 9, 10, 'J', 'Q', 'K', 'A'] * 4\n",
    "random.shuffle(deck)\n",
    "\n",
    "num_drawn = 0\n",
    "game_over = False\n",
    "user_input = input(\"Press any key to draw a card ('q' to quit): \")\n",
    "while user_input != 'q' and not game_over:\n",
    "\n",
    "    # Draw a random card, and remove card from the deck\n",
    "    card = random.choice(deck)\n",
    "    deck.remove(card)\n",
    "    num_drawn += 1\n",
    "\n",
    "    print('Card drawn:', card)\n",
    "\n",
    "    # Game is over if an ace was drawn\n",
    "    if card == 'A':\n",
    "        game_over = True\n",
    "    else:\n",
    "        user_input = input(\"Press any key to draw a card ('q' to quit): \")\n",
    "\n",
    "if user_input == 'q':\n",
    "    print(\"\\nGame was quit\")\n",
    "else:\n",
    "    print(num_drawn, 'card(s) were drawn to find an ace.')\n"
   ]
  },
  {
   "cell_type": "markdown",
   "metadata": {},
   "source": [
    "You can also get help regarding libraries!\n"
   ]
  },
  {
   "cell_type": "code",
   "execution_count": 39,
   "metadata": {},
   "outputs": [
    {
     "name": "stdout",
     "output_type": "stream",
     "text": [
      "Help on method choices in module random:\n",
      "\n",
      "choices(population, weights=None, *, cum_weights=None, k=1) method of random.Random instance\n",
      "    Return a k sized list of population elements chosen with replacement.\n",
      "    \n",
      "    If the relative weights or cumulative weights are not specified,\n",
      "    the selections are made with equal probability.\n",
      "\n"
     ]
    }
   ],
   "source": [
    "import random\n",
    "help(random.choices)\n"
   ]
  },
  {
   "cell_type": "markdown",
   "metadata": {},
   "source": [
    "### Third-party Libs\n"
   ]
  },
  {
   "cell_type": "code",
   "execution_count": 37,
   "metadata": {},
   "outputs": [
    {
     "name": "stdout",
     "output_type": "stream",
     "text": [
      "      name  extension\n",
      "0   Connie       4682\n",
      "1  Jessica       4198\n",
      "2     Dana       4351\n"
     ]
    }
   ],
   "source": [
    "import pandas\n",
    "dataSample = {'name': ['Connie', 'Jessica', 'Dana'],\n",
    "              'extension': [4682, 4198, 4351]}\n",
    "dataF = pandas.DataFrame(dataSample, columns=['name', 'extension'])\n",
    "print(dataF)\n"
   ]
  },
  {
   "cell_type": "code",
   "execution_count": 38,
   "metadata": {},
   "outputs": [
    {
     "name": "stdout",
     "output_type": "stream",
     "text": [
      "<class 'numpy.ndarray'>\n",
      "(3,)\n",
      "1 2 3\n",
      "[5 2 3]\n"
     ]
    }
   ],
   "source": [
    "import numpy as np\n",
    "\n",
    "a = np.array([1, 2, 3])   # Create a rank 1 array\n",
    "print(type(a))                # Prints \"<class 'numpy.ndarray'>\"\n",
    "print(a.shape)                # Prints \"(3,)\"\n",
    "print(a[0], a[1], a[2])   # Prints \"1 2 3\"\n",
    "a[0] = 5                      # Change an element of the array\n",
    "print(a)                      # Prints \"[5, 2, 3]\"\n"
   ]
  },
  {
   "cell_type": "markdown",
   "metadata": {},
   "source": [
    "## Logic/Flow Control and Such\n"
   ]
  },
  {
   "cell_type": "markdown",
   "metadata": {},
   "source": [
    "### Comparisons and Identification Operations\n"
   ]
  },
  {
   "cell_type": "markdown",
   "metadata": {},
   "source": [
    "Comparing...\n"
   ]
  },
  {
   "cell_type": "code",
   "execution_count": null,
   "metadata": {},
   "outputs": [],
   "source": [
    "l = [1, 2, 3, 4]\n",
    "t = [1, 2, 4, 4]\n",
    "\n",
    "d1 = {\n",
    "    \"key\": \"value\"\n",
    "}\n",
    "d2 = {\n",
    "    \"key\": \"value\"\n",
    "}\n",
    "\n",
    "# Each element is iterated over and compared in search of a different one\n",
    "# Eval stops once it finds something different to run comparison on\n",
    "\n",
    "print(l < t)  # essentially performing 3 < 4\n",
    "\n",
    "print(l == t)  # they aren't exact\n",
    "\n",
    "print(\"abc\" <= \"abcd\", 'a' < 'b' != 'c', '1' > '0')\n",
    "\n",
    "print(d1 != d2)  # only compared with == or !=\n"
   ]
  },
  {
   "cell_type": "markdown",
   "metadata": {},
   "source": [
    "Identifying...\n"
   ]
  },
  {
   "cell_type": "code",
   "execution_count": null,
   "metadata": {},
   "outputs": [],
   "source": [
    "s = {1, 2, 3, 4}\n",
    "\n",
    "# With iterables, you can use \"in\" and \"not in\"\n",
    "print(1 in s, 12 not in s)\n",
    "\n",
    "guestList = {\"Ethan\", \"Sam\", \"Birdie\"}\n",
    "name = \"zzEthanzz\"  # input(\"Who are you?\")\n",
    "\n",
    "if name in guestList:\n",
    "    print(f\"We found you on the guest list, {name}. Come on in!\")\n",
    "else:\n",
    "    print(f\"I don't see you anywhere, {name}. Buzz off.\")\n",
    "\n",
    "# Checking for substrings\n",
    "if \"Z\" in name.upper():\n",
    "    print(\"Wow, you have a 'Z' in your name? Crazy.\")\n",
    "\n",
    "# Checking for dict keys\n",
    "d = {\n",
    "    \"key\": 1,\n",
    "    \"ducky\": \"quack\"\n",
    "}\n",
    "# \"in\" does not search values, just keys\n",
    "print(\"ducky\" in d, 1 in d)\n"
   ]
  },
  {
   "cell_type": "code",
   "execution_count": null,
   "metadata": {},
   "outputs": [],
   "source": [
    "# The \"is\" operator - only used to determine if two vars are the same object\n",
    "num1 = 2\n",
    "num2 = 2 + 2\n",
    "num3 = num1\n",
    "num4 = num1 + num1\n",
    "numList = [1, 2, 3, 4]\n",
    "\n",
    "print(\"Equivalent objects and values:\", num1 is num3, num1 == num3)\n",
    "print(\"Objects that are not different with equal values:\",\n",
    "      num4 is not num2, num4 == num2)\n",
    "print(\"2 is not the third value of a given list:\",\n",
    "      num1 is not numList[2], \"\\n\")\n",
    "\n",
    "a = 'fish'\n",
    "b = 'panda'\n",
    "c = [a, b]\n",
    "d = c\n",
    "d[0] = 'otter'\n",
    "\n",
    "if (c is d):\n",
    "    print('c and d ref the same obj')\n",
    "if (b is d[1]):\n",
    "    print('b is the second element in d')\n",
    "if (a is d[0]):\n",
    "    print('a is the first element in d')\n"
   ]
  },
  {
   "cell_type": "markdown",
   "metadata": {},
   "source": [
    "### If-else\n"
   ]
  },
  {
   "cell_type": "code",
   "execution_count": null,
   "metadata": {},
   "outputs": [],
   "source": [
    "num = int(input())\n",
    "if num == 12:\n",
    "    print(\"It's 12\")\n",
    "elif num != 0:\n",
    "    print(\"It's not 12 nor 0\")\n",
    "\n",
    "    if num > 0:\n",
    "        print(\"It's greater than 0\")\n",
    "\n",
    "    else:\n",
    "        print(\"It's less than 0\")\n",
    "\n",
    "else:\n",
    "    print(\"It's not 12, it's 0\")\n"
   ]
  },
  {
   "cell_type": "markdown",
   "metadata": {},
   "source": [
    "### Operator Chaining\n"
   ]
  },
  {
   "cell_type": "markdown",
   "metadata": {},
   "source": [
    "Python allows you to chain operations like greater than, less than or equal to, etc.\n"
   ]
  },
  {
   "cell_type": "code",
   "execution_count": null,
   "metadata": {},
   "outputs": [],
   "source": [
    "x = 1\n",
    "y = 2\n",
    "z = 0\n",
    "\n",
    "# Comparison performed from l-to-r\n",
    "print(z < x < y)\n",
    "\n",
    "if 0 <= x < 100:\n",
    "    print(\"x is non-negative\")\n",
    "else:\n",
    "    print(\"x is negative\")\n"
   ]
  },
  {
   "cell_type": "markdown",
   "metadata": {},
   "source": [
    "### Logical Operators (AND, OR, NOT, etc.)\n"
   ]
  },
  {
   "cell_type": "code",
   "execution_count": null,
   "metadata": {},
   "outputs": [],
   "source": [
    "x = 0\n",
    "y = 1\n",
    "z = 1\n",
    "\n",
    "print(True and False)\n",
    "print((x > z) or (x < y))\n",
    "print(not True)\n",
    "\n",
    "# Sorta like operator chaining\n",
    "if (z < x) and (x < y):\n",
    "    print(\"x is between z and y\")\n",
    "\n",
    "if z < x and x < y:\n",
    "    print(\"It can also be done without parens. Guess which one looks more readable...\")\n",
    "\n",
    "# You can chain 'em!\n",
    "if (x == y) or (z == x) or (z == y):\n",
    "    print(\"Some of the numbers are the same\")\n",
    "else:\n",
    "    print(\"All of the numbers are different\")\n"
   ]
  },
  {
   "cell_type": "markdown",
   "metadata": {},
   "source": [
    "### Detecting Gaps in Ranges\n"
   ]
  },
  {
   "cell_type": "code",
   "execution_count": null,
   "metadata": {},
   "outputs": [],
   "source": [
    "age = int(input(\"Enter age: \"))\n",
    "\n",
    "if age == 0:\n",
    "    print(\"You are a newborn\")\n",
    "elif age < 13:\n",
    "    print(\"You are a child\")\n",
    "elif 13 <= age <= 19:\n",
    "    print(\"You are a teen\")\n",
    "elif age >= 65:\n",
    "    print(\"You are a senior citizen\")\n",
    "else:\n",
    "    # This catches everything in b/w 20 and 64 (inclusive)\n",
    "    print(\"You are an adult\")\n"
   ]
  },
  {
   "cell_type": "markdown",
   "metadata": {},
   "source": [
    "### Conditional Expressions\n"
   ]
  },
  {
   "cell_type": "markdown",
   "metadata": {},
   "source": [
    "Template: `expr_when_true if (condition) else expr_when_false`\n"
   ]
  },
  {
   "cell_type": "code",
   "execution_count": null,
   "metadata": {},
   "outputs": [],
   "source": [
    "x = 1\n",
    "\n",
    "# Instead of this...\n",
    "if x == 1:\n",
    "    y = x + 1\n",
    "else:\n",
    "    y = x\n",
    "\n",
    "print(x, y)\n",
    "\n",
    "# Do this! Sure it looks weird but it reads sorta the same as above\n",
    "y = x + 1 if (x == 1) else x\n",
    "\n",
    "print(x, y)\n"
   ]
  },
  {
   "cell_type": "markdown",
   "metadata": {},
   "source": [
    "### Break Statements\n"
   ]
  },
  {
   "cell_type": "markdown",
   "metadata": {},
   "source": [
    "Used to exit loops immediately. Allows a program to stop looping once everything that needs to be done is done instead of making it more complicated than that.\n"
   ]
  },
  {
   "cell_type": "code",
   "execution_count": 41,
   "metadata": {},
   "outputs": [
    {
     "name": "stdout",
     "output_type": "stream",
     "text": [
      "$17 buys 3 empanadas and 2 tacos without change.\n"
     ]
    }
   ],
   "source": [
    "# Copied straight from zyBooks because I am lazy\n",
    "empanada_cost = 3\n",
    "taco_cost = 4\n",
    "\n",
    "# Int used to simplify life\n",
    "user_money = 17\n",
    "\n",
    "max_empanadas = user_money // empanada_cost\n",
    "max_tacos = user_money // taco_cost\n",
    "\n",
    "meal_cost = 0\n",
    "for num_tacos in range(max_tacos + 1):\n",
    "    for num_empanadas in range(max_empanadas + 1):\n",
    "        meal_cost = (num_empanadas * empanada_cost) + (num_tacos * taco_cost)\n",
    "\n",
    "        # Find first meal option that exactly matches user money\n",
    "        if meal_cost == user_money:\n",
    "            break\n",
    "\n",
    "    # Find first meal option that exactly matches user money\n",
    "    if meal_cost == user_money:\n",
    "        break\n",
    "\n",
    "if meal_cost == user_money:\n",
    "    print('${} buys {} empanadas and {} tacos without change.'\n",
    "          .format(meal_cost, num_empanadas, num_tacos))\n",
    "else:\n",
    "    print('You cannot buy a meal without having change left over.')\n"
   ]
  },
  {
   "cell_type": "markdown",
   "metadata": {},
   "source": [
    "#### Simon Game\n"
   ]
  },
  {
   "cell_type": "code",
   "execution_count": null,
   "metadata": {},
   "outputs": [
    {
     "name": "stdout",
     "output_type": "stream",
     "text": [
      "User score: 10\n"
     ]
    }
   ],
   "source": [
    "user_score = 0\n",
    "simon_pattern = 'RRGBRYYBGY'\n",
    "user_pattern = 'RRGBBRYBGY'\n",
    "\n",
    "i = 0\n",
    "while i < len(simon_pattern):\n",
    "    if user_pattern[i] == simon_pattern[i]:\n",
    "        user_score += 1\n",
    "    else:\n",
    "        break\n",
    "    i += 1\n",
    "\n",
    "print('User score:', user_score)\n"
   ]
  },
  {
   "cell_type": "markdown",
   "metadata": {},
   "source": [
    "### Continue Statements\n"
   ]
  },
  {
   "cell_type": "markdown",
   "metadata": {},
   "source": [
    "Causes an immediate jump to the loop header (`for element in list` , `while i <= 10`, and so on).\n"
   ]
  },
  {
   "cell_type": "code",
   "execution_count": 4,
   "metadata": {},
   "outputs": [
    {
     "name": "stdout",
     "output_type": "stream",
     "text": [
      "0: 0 1 3 \n",
      "1: 4 6 9 \n",
      "2: 11 - - \n",
      "3: - - - \n"
     ]
    }
   ],
   "source": [
    "stop = 12\n",
    "result = 0\n",
    "for a in range(4):\n",
    "    print(a, end=': ')\n",
    "    for b in range(3):\n",
    "        result += a + b\n",
    "        if result > stop:\n",
    "            print('-', end=' ')\n",
    "            continue\n",
    "        print(result, end=' ')\n",
    "    print()\n"
   ]
  },
  {
   "cell_type": "markdown",
   "metadata": {},
   "source": [
    "## Loops\n"
   ]
  },
  {
   "cell_type": "markdown",
   "metadata": {},
   "source": [
    "### `while` Loops\n"
   ]
  },
  {
   "cell_type": "markdown",
   "metadata": {},
   "source": [
    "#### General\n"
   ]
  },
  {
   "cell_type": "code",
   "execution_count": 23,
   "metadata": {},
   "outputs": [
    {
     "name": "stdout",
     "output_type": "stream",
     "text": [
      " - - \n",
      "  0  \n",
      "-----\n",
      "\n",
      "\n",
      " e e \n",
      "  0  \n",
      "eeeee\n",
      "\n",
      "\n",
      "Goodbye.\n",
      "\n"
     ]
    }
   ],
   "source": [
    "nose = '0'  # Looks a little like a nose\n",
    "user_value = '-'\n",
    "\n",
    "while user_value != 'q':\n",
    "    print(' {} {} '.format(user_value, user_value))  # Print eyes\n",
    "    print('  {}  '.format(nose))  # Print nose\n",
    "    print(user_value*5)  # Print mouth\n",
    "    print('\\n')\n",
    "\n",
    "    # Get new character for eyes and mouth\n",
    "    user_input = input(\"Enter a character ('q' for quit): \\n\")\n",
    "    user_value = user_input[0]\n",
    "\n",
    "print('Goodbye.\\n')\n"
   ]
  },
  {
   "cell_type": "code",
   "execution_count": 3,
   "metadata": {},
   "outputs": [
    {
     "name": "stdout",
     "output_type": "stream",
     "text": [
      "a\n",
      "b\n",
      "c\n",
      "24\n"
     ]
    }
   ],
   "source": [
    "# Parsing a list with a while loop\n",
    "\n",
    "i = 0\n",
    "l = ['a', 'b', 'c']\n",
    "\n",
    "while i <= (len(l) - 1):\n",
    "    print(l[i])\n",
    "    i += 1\n",
    "\n",
    "# Factorial calc\n",
    "N = 4  # Read user-entered number\n",
    "total = N\n",
    "# Initialize the loop variable\n",
    "i = total - 1\n",
    "\n",
    "while i > 1:\n",
    "    # Set total to total * (i)\n",
    "    # Decrement i\n",
    "    total *= i\n",
    "    i -= 1\n",
    "\n",
    "print(total)\n"
   ]
  },
  {
   "cell_type": "markdown",
   "metadata": {},
   "source": [
    "#### Finding the Greatest Common Divisor with Euclidean Algorithm (non-recursive)\n"
   ]
  },
  {
   "cell_type": "code",
   "execution_count": 24,
   "metadata": {},
   "outputs": [
    {
     "name": "stdout",
     "output_type": "stream",
     "text": [
      "\n",
      "\n",
      "GCD is 4\n"
     ]
    }
   ],
   "source": [
    "x = int(input('Enter first positive integer: '))\n",
    "print()\n",
    "\n",
    "y = int(input('Enter second positive integer: '))\n",
    "print()\n",
    "\n",
    "while x != y:\n",
    "    if x > y:\n",
    "        x = x - y\n",
    "    else:\n",
    "        y = y - x\n",
    "\n",
    "print('GCD is {}'.format(x))\n"
   ]
  },
  {
   "cell_type": "markdown",
   "metadata": {},
   "source": [
    "#### Computing Averages\n"
   ]
  },
  {
   "cell_type": "code",
   "execution_count": 32,
   "metadata": {},
   "outputs": [
    {
     "ename": "ZeroDivisionError",
     "evalue": "division by zero",
     "output_type": "error",
     "traceback": [
      "\u001b[1;31m---------------------------------------------------------------------------\u001b[0m",
      "\u001b[1;31mZeroDivisionError\u001b[0m                         Traceback (most recent call last)",
      "\u001b[1;32m~\\AppData\\Local\\Temp/ipykernel_15152/2757156798.py\u001b[0m in \u001b[0;36m<module>\u001b[1;34m\u001b[0m\n\u001b[0;32m      9\u001b[0m     \u001b[0mcurrentVal\u001b[0m \u001b[1;33m=\u001b[0m \u001b[0mint\u001b[0m\u001b[1;33m(\u001b[0m\u001b[0minput\u001b[0m\u001b[1;33m(\u001b[0m\u001b[1;34m\"Pass in a positive int or something 0 or lower to finish\"\u001b[0m\u001b[1;33m)\u001b[0m\u001b[1;33m)\u001b[0m\u001b[1;33m\u001b[0m\u001b[1;33m\u001b[0m\u001b[0m\n\u001b[0;32m     10\u001b[0m \u001b[1;33m\u001b[0m\u001b[0m\n\u001b[1;32m---> 11\u001b[1;33m \u001b[0mprint\u001b[0m\u001b[1;33m(\u001b[0m\u001b[1;34mf\"Average = {(sum / count):.3f}\"\u001b[0m\u001b[1;33m)\u001b[0m\u001b[1;33m\u001b[0m\u001b[1;33m\u001b[0m\u001b[0m\n\u001b[0m",
      "\u001b[1;31mZeroDivisionError\u001b[0m: division by zero"
     ]
    }
   ],
   "source": [
    "sum = 0\n",
    "count = 0\n",
    "\n",
    "currentVal = int(\n",
    "    input(\"Pass in a positive int or something 0 or lower to finish\"))\n",
    "\n",
    "while currentVal > 0:\n",
    "    sum += currentVal\n",
    "    count += 1\n",
    "    currentVal = int(\n",
    "        input(\"Pass in a positive int or something 0 or lower to finish\"))\n",
    "\n",
    "print(f\"Average = {(sum / count):.3f}\")\n"
   ]
  },
  {
   "cell_type": "markdown",
   "metadata": {},
   "source": [
    "#### Insect Growth\n"
   ]
  },
  {
   "cell_type": "code",
   "execution_count": 35,
   "metadata": {},
   "outputs": [
    {
     "name": "stdout",
     "output_type": "stream",
     "text": [
      "8 16 32 64 "
     ]
    }
   ],
   "source": [
    "'''\n",
    "Given positive integer num_insects, write a while loop that prints, then doubles, num_insects each iteration. Print values ≤ 100. Follow each number with a space.\n",
    "'''\n",
    "\n",
    "insects = int(input())\n",
    "total = 0\n",
    "\n",
    "while insects <= 100:\n",
    "    print(insects, end=\" \")\n",
    "    insects += insects\n"
   ]
  },
  {
   "cell_type": "markdown",
   "metadata": {},
   "source": [
    "### `for` Loops\n"
   ]
  },
  {
   "cell_type": "markdown",
   "metadata": {},
   "source": [
    "#### General\n"
   ]
  },
  {
   "cell_type": "code",
   "execution_count": 22,
   "metadata": {},
   "outputs": [
    {
     "name": "stdout",
     "output_type": "stream",
     "text": [
      "Hi, Ted!\n",
      "Hi, Bill!\n",
      "Hi, Stan!\n",
      "Hi, Janet!\n",
      "\n",
      "MTV is on 35\n",
      "CNN is on 28\n",
      "FOX is on 11\n",
      "NBC is on 4\n",
      "CBS is on 12\n",
      "\n",
      "1\n",
      "2\n",
      "3\n",
      "4\n",
      "\n",
      "t TACOCAT a TACOCAT c TACOCAT o TACOCAT c TACOCAT a TACOCAT T TACOCAT "
     ]
    }
   ],
   "source": [
    "nameSet = {'Bill', 'Ted', 'Stan', 'Janet'}\n",
    "\n",
    "for name in nameSet:\n",
    "    print(f\"Hi, {name}!\")\n",
    "\n",
    "print()\n",
    "\n",
    "channels = {\n",
    "    'MTV': 35,\n",
    "    'CNN': 28,\n",
    "    'FOX': 11,\n",
    "    'NBC': 4,\n",
    "    'CBS': 12\n",
    "}\n",
    "\n",
    "for c in channels:\n",
    "    print(f\"{c} is on {channels[c]}\")\n",
    "\n",
    "print()\n",
    "\n",
    "# You can loop over a string\n",
    "for num in \"1234\":\n",
    "    print(num)\n",
    "\n",
    "print()\n",
    "\n",
    "# There is also a reversed() method which can be used in this. Works on ordered iterables, too.\n",
    "for t in reversed(\"Tacocat\"):\n",
    "    print(t, end=\" TACOCAT \")\n"
   ]
  },
  {
   "cell_type": "code",
   "execution_count": 32,
   "metadata": {},
   "outputs": [
    {
     "name": "stdout",
     "output_type": "stream",
     "text": [
      "Pluto is 39.48 AUs from the Sun.\n",
      "Pluto is 39.48 AUs from the Sun.\n"
     ]
    }
   ],
   "source": [
    "# Using a for loop to track certain property in a dictionary\n",
    "\n",
    "# Measured in astronomical units (AUs)\n",
    "planetsDistSun = {\n",
    "    \"Mercury\": 0.39,\n",
    "    \"Venus\": 0.72,\n",
    "    \"Earth\": 1.00,\n",
    "    \"Mars\": 1.52,\n",
    "    \"Jupiter\": 5.20,\n",
    "    \"Saturn\": 9.58,\n",
    "    \"Uranus\": 19.20,\n",
    "    \"Neptune\": 30.05,\n",
    "    \"Pluto\": 39.48\n",
    "}\n",
    "\n",
    "farthestPlanetName = \"\"\n",
    "farthestPlanetDist = 0\n",
    "\n",
    "for planet in planetsDistSun:\n",
    "    dist = planetsDistSun[planet]\n",
    "\n",
    "    if dist > farthestPlanetDist:\n",
    "        farthestPlanetDist = dist\n",
    "        farthestPlanetName = planet\n",
    "\n",
    "print(f\"{farthestPlanetName} is {farthestPlanetDist} AUs from the Sun.\")\n",
    "\n",
    "# You could also just do this\n",
    "farthestPlanetName = max(planetsDistSun, key=planetsDistSun.get)\n",
    "farthestPlanetDist = planetsDistSun[farthestPlanetName]\n",
    "\n",
    "print(f\"{farthestPlanetName} is {farthestPlanetDist} AUs from the Sun.\")\n"
   ]
  },
  {
   "cell_type": "markdown",
   "metadata": {},
   "source": [
    "#### `range()` Function\n"
   ]
  },
  {
   "cell_type": "markdown",
   "metadata": {},
   "source": [
    "While loops are usually used for doing something a certain number of times/counting (using i).\n",
    "\n",
    "For loops are usually used for iterating over elements in an iterable.\n",
    "\n",
    "Range function allows for counting inside of `for` loops. It will start at a given int and increment until it reaches the end int (exclusive).\n"
   ]
  },
  {
   "cell_type": "code",
   "execution_count": 78,
   "metadata": {},
   "outputs": [
    {
     "name": "stdout",
     "output_type": "stream",
     "text": [
      "0 2 4 6 8 10 12 14 16 18 20 22 24 \n",
      "12 13 14 15 16 17 18 19 20 21 22 23 \n",
      "12 14 16 18 20 22 \n",
      "23 22 21 20 19 18 17 16 15 14 13 \n",
      "23 21 19 17 15 13 \n",
      "0 3 6 9 12 15 18 21 24 27 "
     ]
    }
   ],
   "source": [
    "'''\n",
    "RANGE FUNCTION:\n",
    "range(start, stop, interval) -> int args only\n",
    "\n",
    "The only mandatory param is the starting number.\n",
    "'''\n",
    "\n",
    "start = 12\n",
    "stop = 24\n",
    "\n",
    "# Prints each number from 0 to 12 (inclusive) mult'd by 2\n",
    "for i in range(start + 1):\n",
    "    print(i*2, end=\" \")\n",
    "\n",
    "print()\n",
    "\n",
    "# Prints numbers from 12 until it increments to 24 (prints up to 23)\n",
    "for i in range(start, stop):\n",
    "    print(i, end=\" \")\n",
    "\n",
    "step = 2\n",
    "print()\n",
    "\n",
    "# Prints numbers from 12 until 24 but skips every odd number\n",
    "for i in range(start, stop, step):\n",
    "    print(i, end=\" \")\n",
    "\n",
    "print()\n",
    "\n",
    "# Prints descending. The interval of -1 is required for it to decrement by 1\n",
    "for i in range(stop - 1, start, -1):\n",
    "    print(i, end=\" \")\n",
    "\n",
    "print()\n",
    "\n",
    "# Counts down from 23 until 12 (exclusive), skipping every other number (all odds since the sequence starts at an odd num)\n",
    "for i in range(stop - 1, start, -2):\n",
    "    print(i, end=\" \")\n",
    "\n",
    "print()\n",
    "\n",
    "# You can also do things like...\n",
    "for i in range(10):\n",
    "    print(i * 3, end=\" \")\n"
   ]
  },
  {
   "cell_type": "markdown",
   "metadata": {},
   "source": [
    "#### Nested loops\n"
   ]
  },
  {
   "cell_type": "code",
   "execution_count": 14,
   "metadata": {},
   "outputs": [
    {
     "name": "stdout",
     "output_type": "stream",
     "text": [
      "aa ab ac ad ae af ag ah ai aj ak al am an ao ap aq ar as at au av aw ax ay az ba bb bc bd be bf bg bh bi bj bk bl bm bn bo bp bq br bs bt bu bv bw bx by bz ca cb cc cd ce cf cg ch ci cj ck cl cm cn co cp cq cr cs ct cu cv cw cx cy cz da db dc dd de df dg dh di dj dk dl dm dn do dp dq dr ds dt du dv dw dx dy dz ea eb ec ed ee ef eg eh ei ej ek el em en eo ep eq er es et eu ev ew ex ey ez fa fb fc fd fe ff fg fh fi fj fk fl fm fn fo fp fq fr fs ft fu fv fw fx fy fz ga gb gc gd ge gf gg gh gi gj gk gl gm gn go gp gq gr gs gt gu gv gw gx gy gz ha hb hc hd he hf hg hh hi hj hk hl hm hn ho hp hq hr hs ht hu hv hw hx hy hz ia ib ic id ie if ig ih ii ij ik il im in io ip iq ir is it iu iv iw ix iy iz ja jb jc jd je jf jg jh ji jj jk jl jm jn jo jp jq jr js jt ju jv jw jx jy jz ka kb kc kd ke kf kg kh ki kj kk kl km kn ko kp kq kr ks kt ku kv kw kx ky kz la lb lc ld le lf lg lh li lj lk ll lm ln lo lp lq lr ls lt lu lv lw lx ly lz ma mb mc md me mf mg mh mi mj mk ml mm mn mo mp mq mr ms mt mu mv mw mx my mz na nb nc nd ne nf ng nh ni nj nk nl nm nn no np nq nr ns nt nu nv nw nx ny nz oa ob oc od oe of og oh oi oj ok ol om on oo op oq or os ot ou ov ow ox oy oz pa pb pc pd pe pf pg ph pi pj pk pl pm pn po pp pq pr ps pt pu pv pw px py pz qa qb qc qd qe qf qg qh qi qj qk ql qm qn qo qp qq qr qs qt qu qv qw qx qy qz ra rb rc rd re rf rg rh ri rj rk rl rm rn ro rp rq rr rs rt ru rv rw rx ry rz sa sb sc sd se sf sg sh si sj sk sl sm sn so sp sq sr ss st su sv sw sx sy sz ta tb tc td te tf tg th ti tj tk tl tm tn to tp tq tr ts tt tu tv tw tx ty tz ua ub uc ud ue uf ug uh ui uj uk ul um un uo up uq ur us ut uu uv uw ux uy uz va vb vc vd ve vf vg vh vi vj vk vl vm vn vo vp vq vr vs vt vu vv vw vx vy vz wa wb wc wd we wf wg wh wi wj wk wl wm wn wo wp wq wr ws wt wu wv ww wx wy wz xa xb xc xd xe xf xg xh xi xj xk xl xm xn xo xp xq xr xs xt xu xv xw xx xy xz ya yb yc yd ye yf yg yh yi yj yk yl ym yn yo yp yq yr ys yt yu yv yw yx yy yz za zb zc zd ze zf zg zh zi zj zk zl zm zn zo zp zq zr zs zt zu zv zw zx zy zz "
     ]
    }
   ],
   "source": [
    "# Print all 2 letter combinations sequentially\n",
    "letter1 = 'a'\n",
    "letter2 = '?'\n",
    "\n",
    "while letter1 <= 'z':\n",
    "    letter2 = 'a'\n",
    "    while letter2 <= 'z':\n",
    "        print(f\"{letter1}{letter2}\", end=' ')\n",
    "\n",
    "        # Converts char to numerical representation with \"ord()\", increments it by one, then casts back into char with \"chr()\"\n",
    "        letter2 = chr(ord(letter2) + 1)\n",
    "\n",
    "    letter1 = chr(ord(letter1) + 1)\n"
   ]
  },
  {
   "cell_type": "code",
   "execution_count": 38,
   "metadata": {},
   "outputs": [
    {
     "name": "stdout",
     "output_type": "stream",
     "text": [
      "* * * * \n",
      "* * * * \n",
      "FRONT\n",
      "1A 1B 1C \n",
      "2A 2B 2C \n",
      "3A 3B 3C \n",
      "4A 4B 4C \n",
      "5A 5B 5C \n",
      "BACK\n"
     ]
    }
   ],
   "source": [
    "# Prints a 4 x 2 grid of asterisks\n",
    "numRows = 2\n",
    "numCols = 4\n",
    "\n",
    "for row in range(numRows):\n",
    "    for col in range(numCols):\n",
    "        print('*', end=' ')\n",
    "    print()\n",
    "\n",
    "# Prints all theater seats based on given rows and cols\n",
    "numRows = 5\n",
    "numCols = 3\n",
    "currRow = 1\n",
    "currCol = 'A'\n",
    "\n",
    "print(\"FRONT\")\n",
    "\n",
    "for i in range(numRows):\n",
    "    currCol = 'A'\n",
    "    for j in range(numCols):\n",
    "        print(f\"{currRow}{currCol}\", end=' ')\n",
    "        currCol = chr(ord(currCol) + 1)\n",
    "    currRow += 1\n",
    "    print()\n",
    "\n",
    "print(\"BACK\")\n"
   ]
  },
  {
   "cell_type": "markdown",
   "metadata": {},
   "source": [
    "### Loop else\n"
   ]
  },
  {
   "cell_type": "markdown",
   "metadata": {},
   "source": [
    "Kinda like an if-else statement, but also not really. It will only execute when the loop itself fully executes (without any breaks).\n"
   ]
  },
  {
   "cell_type": "code",
   "execution_count": 26,
   "metadata": {},
   "outputs": [
    {
     "name": "stdout",
     "output_type": "stream",
     "text": [
      "0\n",
      "Choosing not to print all numbers between 0 and 2.\n",
      "\n",
      "0\n",
      "1\n",
      "2\n",
      "All numbers between 0 and 2 have been printed\n"
     ]
    }
   ],
   "source": [
    "i = 0\n",
    "\n",
    "while i < 3:  # Loop expression\n",
    "    # Loop body: Sub-statements to execute if\n",
    "    # the expression evaluated to True\n",
    "    print(i)\n",
    "    i += 1\n",
    "    if i == 1:\n",
    "        print(\"Choosing not to print all numbers between 0 and 2.\")\n",
    "        break\n",
    "\n",
    "else:\n",
    "    # Else body: Sub-statements to execute once\n",
    "    # if the expression evaluated to False\n",
    "    print(\"else block\")\n",
    "\n",
    "# Works with both types of loops\n",
    "print()\n",
    "\n",
    "for i in range(3):\n",
    "    # Loop body: Sub-statements to execute\n",
    "    # for each item in iterable\n",
    "    print(i)\n",
    "else:\n",
    "    # Else body: Sub-statements to execute\n",
    "    # once when loop completes\n",
    "    print(\"All numbers between 0 and 2 have been printed\")\n",
    "\n",
    "# Statements to execute after the loop\n"
   ]
  },
  {
   "cell_type": "code",
   "execution_count": 31,
   "metadata": {},
   "outputs": [
    {
     "name": "stdout",
     "output_type": "stream",
     "text": [
      "Bjorn is an acceptable Danish name. Congratulations.\n",
      "Goodbye.\n"
     ]
    }
   ],
   "source": [
    "# Fxn mercilessly stolen off of Stack Exchange from user \"Santosh\" (https://stackoverflow.com/questions/2460177/edit-distance-in-python)\n",
    "def edit_distance(s1, s2):\n",
    "    m = len(s1)+1\n",
    "    n = len(s2)+1\n",
    "\n",
    "    tbl = {}\n",
    "    for i in range(m):\n",
    "        tbl[i, 0] = i\n",
    "    for j in range(n):\n",
    "        tbl[0, j] = j\n",
    "    for i in range(1, m):\n",
    "        for j in range(1, n):\n",
    "            cost = 0 if s1[i-1] == s2[j-1] else 1\n",
    "            tbl[i, j] = min(tbl[i, j-1]+1, tbl[i-1, j]+1, tbl[i-1, j-1]+cost)\n",
    "\n",
    "    return tbl[i, j]\n",
    "\n",
    "\n",
    "# A few legal, acceptable Danish names\n",
    "legal_names = ['Thor', 'Bjork', 'Bailey', 'Anders', 'Bent', 'Bjarne', 'Bjorn',\n",
    "               'Claus', 'Emil', 'Finn', 'Jakob', 'Karen', 'Julie', 'Johanne', 'Anna', 'Anne',\n",
    "               'Bente', 'Eva', 'Helene', 'Ida', 'Inge', 'Susanne', 'Sofie', 'Rikkie', 'Pia',\n",
    "               'Torben', 'Soren', 'Rune', 'Rasmus', 'Per', 'Michael', 'Mads', 'Hanne',\n",
    "               'Dorte'\n",
    "               ]\n",
    "\n",
    "user_name = input('Enter desired name:\\n')\n",
    "if user_name in legal_names:\n",
    "    print('{} is an acceptable Danish name. Congratulations.'.format(user_name))\n",
    "else:\n",
    "    print('{} is not acceptable.'.format(user_name))\n",
    "    for name in legal_names:\n",
    "        if edit_distance(name, user_name) < 2:\n",
    "            print('You might consider: {},'.format(name), end=' ')\n",
    "            break\n",
    "    else:\n",
    "        print('No close matches were found.')\n",
    "print('Goodbye.')\n"
   ]
  },
  {
   "cell_type": "markdown",
   "metadata": {},
   "source": [
    "### Using `enumerate()` to get index and value\n"
   ]
  },
  {
   "cell_type": "code",
   "execution_count": 46,
   "metadata": {},
   "outputs": [
    {
     "name": "stdout",
     "output_type": "stream",
     "text": [
      "Element 0: 6\n",
      "Element 1: 9\n",
      "Element 2: 3\n",
      "\n",
      "Element 0: 6\n",
      "Element 1: 9\n",
      "Element 2: 3\n",
      "\n",
      "Element 0: 6\n",
      "Element 1: 9\n",
      "Element 2: 3\n"
     ]
    }
   ],
   "source": [
    "l = [6, 9, 3]\n",
    "\n",
    "# Printing values based off of given index to print both\n",
    "for i in range(len(l)):\n",
    "    print(f\"Element {i}: {l[i]}\")\n",
    "\n",
    "print()\n",
    "\n",
    "# Getting index based off of given value to print both\n",
    "for v in l:\n",
    "    # Uses index(val) (kinda like Java indexOf(val)) to get the index that a give value sits at\n",
    "    i = l.index(v)\n",
    "    print(f\"Element {i}: {v}\")\n",
    "\n",
    "print()\n",
    "\n",
    "# Storing both the index and the value with enumerate() func\n",
    "# Cleaner and way more readable. Yields a tuple with each iteration, then it is \"unpacked\" into the given tuple after \"for\"\n",
    "for (i, v) in enumerate(l):\n",
    "    print(f\"Element {i}: {v}\")\n"
   ]
  },
  {
   "cell_type": "markdown",
   "metadata": {},
   "source": [
    "## Functions\n"
   ]
  },
  {
   "cell_type": "markdown",
   "metadata": {},
   "source": [
    "### General\n"
   ]
  },
  {
   "cell_type": "markdown",
   "metadata": {},
   "source": [
    "You've already sorta got the jist of it. Functions are used to allow a commonly used function to be performed more simply and beautifully.\n"
   ]
  },
  {
   "cell_type": "code",
   "execution_count": 38,
   "metadata": {},
   "outputs": [
    {
     "name": "stdout",
     "output_type": "stream",
     "text": [
      "172863613 Quarters\n",
      "1 Dime\n",
      "1 Nickel\n",
      "1 Penny\n"
     ]
    }
   ],
   "source": [
    "def pluralize(num, hasY):\n",
    "    ending = \"\"\n",
    "\n",
    "    if num > 1:\n",
    "        if hasY == 0:\n",
    "            ending = \"s\"\n",
    "        else:\n",
    "            ending = \"ies\"\n",
    "\n",
    "    elif hasY == 1:\n",
    "        ending = \"y\"\n",
    "\n",
    "    return ending\n",
    "\n",
    "\n",
    "totalChange = int(input())\n",
    "numQtrs = totalChange // 25\n",
    "numDimes = (totalChange % 25) // 10\n",
    "numNickels = (((totalChange % 25) % 10)) // 5\n",
    "numPennies = ((((totalChange % 25) % 10)) % 5) // 1\n",
    "\n",
    "if totalChange <= 0:\n",
    "    print(\"No change\")\n",
    "else:\n",
    "    if numQtrs > 0:\n",
    "        print(f\"{numQtrs} Quarter{pluralize(numQtrs, 0)}\")\n",
    "\n",
    "    if numDimes > 0:\n",
    "        print(f\"{numDimes} Dime{pluralize(numDimes, 0)}\")\n",
    "\n",
    "    if numNickels > 0:\n",
    "        print(f\"{numNickels} Nickel{pluralize(numNickels, 0)}\")\n",
    "\n",
    "    if numPennies > 0:\n",
    "        print(f\"{numPennies} Penn{pluralize(numPennies, 1)}\")\n"
   ]
  },
  {
   "cell_type": "markdown",
   "metadata": {},
   "source": [
    "### Print Functions\n"
   ]
  },
  {
   "cell_type": "markdown",
   "metadata": {},
   "source": [
    "You can create **void functions** (functions that do not have return statements) and have them just print out stuff if you'd like. Print methods can return (like literally just saying `return`) if that's still needed, though.\n"
   ]
  },
  {
   "cell_type": "code",
   "execution_count": 43,
   "metadata": {},
   "outputs": [
    {
     "name": "stdout",
     "output_type": "stream",
     "text": [
      "All I do is print stuff.\n"
     ]
    }
   ],
   "source": [
    "def voidFunc():\n",
    "    print(\"All I do is print stuff.\")\n",
    "\n",
    "\n",
    "voidFunc()\n"
   ]
  },
  {
   "cell_type": "code",
   "execution_count": 42,
   "metadata": {},
   "outputs": [
    {
     "name": "stdout",
     "output_type": "stream",
     "text": [
      "~~~ We out here ~~~\n"
     ]
    }
   ],
   "source": [
    "def printItFancy(string):\n",
    "    print(f\"~~~ {string} ~~~\")\n",
    "\n",
    "\n",
    "printItFancy(\"We out here\")\n"
   ]
  },
  {
   "cell_type": "markdown",
   "metadata": {},
   "source": [
    "### Dynamic Typing\n"
   ]
  },
  {
   "cell_type": "markdown",
   "metadata": {},
   "source": [
    "**Dynamic Typing**: you can pass in any type of variable as an argument (string, int, etc.) and both can be accepted and utilized in the function\n"
   ]
  },
  {
   "cell_type": "code",
   "execution_count": 44,
   "metadata": {},
   "outputs": [
    {
     "name": "stdout",
     "output_type": "stream",
     "text": [
      "3\n",
      "your mom!\n"
     ]
    }
   ],
   "source": [
    "def add(x, y):\n",
    "    return x + y\n",
    "\n",
    "\n",
    "print(add(1, 2))\n",
    "print(add(\"Your \", \"mom!\"))\n",
    "\n",
    "# Kinda works in the same vein as 1 * 2 or 'a' * 2. Apparently ZyBooks wants to call this flexibility polymorphism.\n"
   ]
  },
  {
   "cell_type": "markdown",
   "metadata": {},
   "source": [
    "Python uses duck typing, a form of dynamic typing based on the maxim \"If a bird walks, swims, and quacks like a duck, then call it a duck.\" For example, if an object can be concatenated, sliced, indexed, and converted to lower case, doing everything that a string can do, then treat the object like a string.\n"
   ]
  },
  {
   "cell_type": "markdown",
   "metadata": {},
   "source": [
    "### Mathematical Functions\n"
   ]
  },
  {
   "cell_type": "code",
   "execution_count": 47,
   "metadata": {},
   "outputs": [
    {
     "name": "stdout",
     "output_type": "stream",
     "text": [
      "-40.0\n",
      "-40\n"
     ]
    }
   ],
   "source": [
    "def celsiusToFahrenheit(tempCelsius):\n",
    "    return tempCelsius * (9 / 5) + 32\n",
    "\n",
    "\n",
    "celsius = -40\n",
    "fahrenheit = celsiusToFahrenheit(celsius)\n",
    "\n",
    "print(fahrenheit)\n"
   ]
  },
  {
   "cell_type": "markdown",
   "metadata": {},
   "source": [
    "### Function Stubs\n"
   ]
  },
  {
   "cell_type": "markdown",
   "metadata": {},
   "source": [
    "**What the heck even are function stubs?**\n",
    "\n",
    "They are typically used for incremental development. They are a defined function but the definitions are not written yet. It allows the program behavior to be cap'd, kinda like planning a route on a before going on a drive.\n",
    "\n",
    "You can just have the program `return` or you can use the `pass` keyword, which has the purpose of being a placeholder.\n"
   ]
  },
  {
   "cell_type": "code",
   "execution_count": 50,
   "metadata": {},
   "outputs": [
    {
     "name": "stdout",
     "output_type": "stream",
     "text": [
      "None 2\n"
     ]
    }
   ],
   "source": [
    "def mathsFunc():\n",
    "    return 1+1\n",
    "\n",
    "\n",
    "def futureFunc():\n",
    "    pass\n",
    "\n",
    "\n",
    "test = futureFunc()\n",
    "print(test, mathsFunc())\n"
   ]
  },
  {
   "cell_type": "markdown",
   "metadata": {},
   "source": [
    "A good practice is to have a stub return -1 to alert the user to the missing definition. You can also print a message notifying that the function needs to be completed.\n"
   ]
  },
  {
   "cell_type": "code",
   "execution_count": 52,
   "metadata": {},
   "outputs": [
    {
     "name": "stdout",
     "output_type": "stream",
     "text": [
      "FIXME: finish futureFunc\n",
      "-1 2\n"
     ]
    }
   ],
   "source": [
    "def mathsFunc():\n",
    "    return 1+1\n",
    "\n",
    "\n",
    "def futureFunc():\n",
    "    print(\"FIXME: finish futureFunc\")\n",
    "    return -1\n",
    "\n",
    "\n",
    "test = futureFunc()\n",
    "print(test, mathsFunc())\n"
   ]
  },
  {
   "cell_type": "markdown",
   "metadata": {},
   "source": [
    "You can also raise a `NotImplementedError` to... well... throw an error when a function is called that hasn't been implemented. **This will stop program execution!**\n"
   ]
  },
  {
   "cell_type": "code",
   "execution_count": 54,
   "metadata": {},
   "outputs": [
    {
     "ename": "NotImplementedError",
     "evalue": "",
     "output_type": "error",
     "traceback": [
      "\u001b[1;31m---------------------------------------------------------------------------\u001b[0m",
      "\u001b[1;31mNotImplementedError\u001b[0m                       Traceback (most recent call last)",
      "\u001b[1;32m~\\AppData\\Local\\Temp/ipykernel_16284/4126883663.py\u001b[0m in \u001b[0;36m<module>\u001b[1;34m\u001b[0m\n\u001b[0;32m      2\u001b[0m     \u001b[1;32mraise\u001b[0m \u001b[0mNotImplementedError\u001b[0m\u001b[1;33m\u001b[0m\u001b[1;33m\u001b[0m\u001b[0m\n\u001b[0;32m      3\u001b[0m \u001b[1;33m\u001b[0m\u001b[0m\n\u001b[1;32m----> 4\u001b[1;33m \u001b[0mt\u001b[0m \u001b[1;33m=\u001b[0m \u001b[0mneverFinishedFunc\u001b[0m\u001b[1;33m(\u001b[0m\u001b[1;33m)\u001b[0m\u001b[1;33m\u001b[0m\u001b[1;33m\u001b[0m\u001b[0m\n\u001b[0m",
      "\u001b[1;32m~\\AppData\\Local\\Temp/ipykernel_16284/4126883663.py\u001b[0m in \u001b[0;36mneverFinishedFunc\u001b[1;34m()\u001b[0m\n\u001b[0;32m      1\u001b[0m \u001b[1;32mdef\u001b[0m \u001b[0mneverFinishedFunc\u001b[0m\u001b[1;33m(\u001b[0m\u001b[1;33m)\u001b[0m\u001b[1;33m:\u001b[0m\u001b[1;33m\u001b[0m\u001b[1;33m\u001b[0m\u001b[0m\n\u001b[1;32m----> 2\u001b[1;33m     \u001b[1;32mraise\u001b[0m \u001b[0mNotImplementedError\u001b[0m\u001b[1;33m\u001b[0m\u001b[1;33m\u001b[0m\u001b[0m\n\u001b[0m\u001b[0;32m      3\u001b[0m \u001b[1;33m\u001b[0m\u001b[0m\n\u001b[0;32m      4\u001b[0m \u001b[0mt\u001b[0m \u001b[1;33m=\u001b[0m \u001b[0mneverFinishedFunc\u001b[0m\u001b[1;33m(\u001b[0m\u001b[1;33m)\u001b[0m\u001b[1;33m\u001b[0m\u001b[1;33m\u001b[0m\u001b[0m\n",
      "\u001b[1;31mNotImplementedError\u001b[0m: "
     ]
    }
   ],
   "source": [
    "def neverFinishedFunc():\n",
    "    raise NotImplementedError\n",
    "\n",
    "\n",
    "t = neverFinishedFunc()\n"
   ]
  },
  {
   "cell_type": "markdown",
   "metadata": {},
   "source": [
    "### Functions are Objects (woah)\n"
   ]
  },
  {
   "cell_type": "markdown",
   "metadata": {},
   "source": [
    "Python just be weird like that. They each have a type, identity, and value apparently. They are also compiled upon evaluation by the Python interpreter.\n",
    "\n",
    "This also means that you can make a statement assigning a variable to a function!\n"
   ]
  },
  {
   "cell_type": "code",
   "execution_count": 71,
   "metadata": {},
   "outputs": [
    {
     "name": "stdout",
     "output_type": "stream",
     "text": [
      "Noice!\n",
      "Noice!\n"
     ]
    }
   ],
   "source": [
    "def example():\n",
    "    print(\"Noice!\")\n",
    "\n",
    "\n",
    "example()\n",
    "\n",
    "f = example\n",
    "\n",
    "f()\n"
   ]
  },
  {
   "cell_type": "code",
   "execution_count": 69,
   "metadata": {},
   "outputs": [
    {
     "name": "stdout",
     "output_type": "stream",
     "text": [
      "   .-\"-.\n",
      " _/.-.-.\\_\n",
      "( ( o o ) )\n",
      " |/  \"  \\|  OOK OOK\n",
      "  \\ .-. /\n",
      "  /`\"\"\"`\\\n",
      "     |\n",
      "   --|--\n",
      "  /  |  \\\n",
      "@    |    @\n",
      "     |\n",
      "    /|\\\n",
      "   @   @\n"
     ]
    }
   ],
   "source": [
    "def print_human_head():\n",
    "    print('   ||||| ')\n",
    "    print('   o   o')\n",
    "    print('     >')\n",
    "    print('   ooooo')\n",
    "    return\n",
    "\n",
    "\n",
    "def print_monkey_head():\n",
    "    print('   .-\"-.')\n",
    "    print(' _/.-.-.\\\\_')\n",
    "    print('( ( o o ) )')\n",
    "    print(' |/  \"  \\\\|  OOK OOK')\n",
    "    print('  \\\\ .-. /')\n",
    "    print('  /`\"\"\"`\\\\')\n",
    "    return\n",
    "\n",
    "\n",
    "def print_figure(face):\n",
    "    face()  # Print the face\n",
    "    print('     |')\n",
    "    print('   --|--')\n",
    "    print('  /  |  \\\\')\n",
    "    print('@    |    @')\n",
    "    print('     |')\n",
    "    print('    /|\\\\')\n",
    "    print('   @   @')\n",
    "    return\n",
    "\n",
    "\n",
    "choice = int(input('Enter \"1\" to draw monkey, \"2\" for human: '))\n",
    "\n",
    "if choice == 1:\n",
    "    print_figure(print_monkey_head)\n",
    "elif choice == 2:\n",
    "    print_figure(print_human_head)\n"
   ]
  },
  {
   "cell_type": "markdown",
   "metadata": {},
   "source": [
    "### Scope/Scope Resolution\n"
   ]
  },
  {
   "cell_type": "markdown",
   "metadata": {},
   "source": [
    "360 no scope\n",
    "\n",
    "Anyway, vars, data, etc. can only be used from the lowest level they are defined (i.e. iterating variables like `i`, variables in functions, etc.)\n",
    "\n",
    "You can define things globally with the `global` keyword.\n"
   ]
  },
  {
   "cell_type": "code",
   "execution_count": 1,
   "metadata": {},
   "outputs": [
    {
     "name": "stdout",
     "output_type": "stream",
     "text": [
      "look-ie there\n"
     ]
    }
   ],
   "source": [
    "def coolFunc():\n",
    "    global globalVariable  # cannot assign it in the same line it is defined.\n",
    "    globalVariable = \"look-ie there\"\n",
    "\n",
    "\n",
    "# Function must be called since Python uses lazy/JIT compilation (I think that's why??). This sets the memory aside for the globalVariable.\n",
    "coolFunc()\n",
    "print(globalVariable)\n"
   ]
  },
  {
   "cell_type": "markdown",
   "metadata": {},
   "source": [
    "#### Namespaces\n"
   ]
  },
  {
   "cell_type": "markdown",
   "metadata": {},
   "source": [
    "A namespaces maps a name to objects, which is tracked by the Almighty Interpreter of Pythonis. The namespace is also just a normal 'ol dictionary, too!\n",
    "\n",
    "Current namespaces can be viewed with the `globals()` and `locals()` functions.\n",
    "\n",
    "Functions calls create new local namespaces for tracking it's own scope.\n"
   ]
  },
  {
   "cell_type": "code",
   "execution_count": 3,
   "metadata": {},
   "outputs": [
    {
     "name": "stdout",
     "output_type": "stream",
     "text": [
      "{'__name__': '__main__', '__doc__': 'Automatically created module for IPython interactive environment', '__package__': None, '__loader__': None, '__spec__': None, '__builtin__': <module 'builtins' (built-in)>, '__builtins__': <module 'builtins' (built-in)>, '_ih': ['', 'def coolFunc():\\n    global globalVariable # cannot assign it in the same line it is defined.\\n    globalVariable = \"look-ie there\"\\n\\ncoolFunc() # Function must be called since Python uses lazy/JIT compilation (I think that\\'s why??). This sets the memory aside for the globalVariable.\\nprint(globalVariable)', 'x = 1\\ny = x\\n\\nprint(globals())\\nprint(locals())', 'x = 1\\ny = x\\n\\nprint(globals())\\nprint(\"\\\\n\", locals())'], '_oh': {}, '_dh': ['e:\\\\Ethan\\\\Documents\\\\Code\\\\Python Projects\\\\C859\\\\notebooks'], 'In': ['', 'def coolFunc():\\n    global globalVariable # cannot assign it in the same line it is defined.\\n    globalVariable = \"look-ie there\"\\n\\ncoolFunc() # Function must be called since Python uses lazy/JIT compilation (I think that\\'s why??). This sets the memory aside for the globalVariable.\\nprint(globalVariable)', 'x = 1\\ny = x\\n\\nprint(globals())\\nprint(locals())', 'x = 1\\ny = x\\n\\nprint(globals())\\nprint(\"\\\\n\", locals())'], 'Out': {}, 'get_ipython': <bound method InteractiveShell.get_ipython of <ipykernel.zmqshell.ZMQInteractiveShell object at 0x00000272F2427940>>, 'exit': <IPython.core.autocall.ZMQExitAutocall object at 0x00000272F24CA700>, 'quit': <IPython.core.autocall.ZMQExitAutocall object at 0x00000272F24CA700>, '_': '', '__': '', '___': '', 'site': <module 'site' from 'C:\\\\Users\\\\Ethan\\\\anaconda3\\\\lib\\\\site.py'>, 'os': <module 'os' from 'C:\\\\Users\\\\Ethan\\\\anaconda3\\\\lib\\\\os.py'>, 'sys': <module 'sys' (built-in)>, '__vsc_ipynb_file__': 'e:\\\\Ethan\\\\Documents\\\\Code\\\\Python Projects\\\\C859\\\\notebooks\\\\zybooks-journey.ipynb', '_i': 'x = 1\\ny = x\\n\\nprint(globals())\\nprint(locals())', '_ii': 'def coolFunc():\\n    global globalVariable # cannot assign it in the same line it is defined.\\n    globalVariable = \"look-ie there\"\\n\\ncoolFunc() # Function must be called since Python uses lazy/JIT compilation (I think that\\'s why??). This sets the memory aside for the globalVariable.\\nprint(globalVariable)', '_iii': '', '_i1': 'def coolFunc():\\n    global globalVariable # cannot assign it in the same line it is defined.\\n    globalVariable = \"look-ie there\"\\n\\ncoolFunc() # Function must be called since Python uses lazy/JIT compilation (I think that\\'s why??). This sets the memory aside for the globalVariable.\\nprint(globalVariable)', 'coolFunc': <function coolFunc at 0x00000272F253B040>, 'globalVariable': 'look-ie there', '_i2': 'x = 1\\ny = x\\n\\nprint(globals())\\nprint(locals())', 'x': 1, 'y': 1, '_i3': 'x = 1\\ny = x\\n\\nprint(globals())\\nprint(\"\\\\n\", locals())'}\n",
      "\n",
      " {'__name__': '__main__', '__doc__': 'Automatically created module for IPython interactive environment', '__package__': None, '__loader__': None, '__spec__': None, '__builtin__': <module 'builtins' (built-in)>, '__builtins__': <module 'builtins' (built-in)>, '_ih': ['', 'def coolFunc():\\n    global globalVariable # cannot assign it in the same line it is defined.\\n    globalVariable = \"look-ie there\"\\n\\ncoolFunc() # Function must be called since Python uses lazy/JIT compilation (I think that\\'s why??). This sets the memory aside for the globalVariable.\\nprint(globalVariable)', 'x = 1\\ny = x\\n\\nprint(globals())\\nprint(locals())', 'x = 1\\ny = x\\n\\nprint(globals())\\nprint(\"\\\\n\", locals())'], '_oh': {}, '_dh': ['e:\\\\Ethan\\\\Documents\\\\Code\\\\Python Projects\\\\C859\\\\notebooks'], 'In': ['', 'def coolFunc():\\n    global globalVariable # cannot assign it in the same line it is defined.\\n    globalVariable = \"look-ie there\"\\n\\ncoolFunc() # Function must be called since Python uses lazy/JIT compilation (I think that\\'s why??). This sets the memory aside for the globalVariable.\\nprint(globalVariable)', 'x = 1\\ny = x\\n\\nprint(globals())\\nprint(locals())', 'x = 1\\ny = x\\n\\nprint(globals())\\nprint(\"\\\\n\", locals())'], 'Out': {}, 'get_ipython': <bound method InteractiveShell.get_ipython of <ipykernel.zmqshell.ZMQInteractiveShell object at 0x00000272F2427940>>, 'exit': <IPython.core.autocall.ZMQExitAutocall object at 0x00000272F24CA700>, 'quit': <IPython.core.autocall.ZMQExitAutocall object at 0x00000272F24CA700>, '_': '', '__': '', '___': '', 'site': <module 'site' from 'C:\\\\Users\\\\Ethan\\\\anaconda3\\\\lib\\\\site.py'>, 'os': <module 'os' from 'C:\\\\Users\\\\Ethan\\\\anaconda3\\\\lib\\\\os.py'>, 'sys': <module 'sys' (built-in)>, '__vsc_ipynb_file__': 'e:\\\\Ethan\\\\Documents\\\\Code\\\\Python Projects\\\\C859\\\\notebooks\\\\zybooks-journey.ipynb', '_i': 'x = 1\\ny = x\\n\\nprint(globals())\\nprint(locals())', '_ii': 'def coolFunc():\\n    global globalVariable # cannot assign it in the same line it is defined.\\n    globalVariable = \"look-ie there\"\\n\\ncoolFunc() # Function must be called since Python uses lazy/JIT compilation (I think that\\'s why??). This sets the memory aside for the globalVariable.\\nprint(globalVariable)', '_iii': '', '_i1': 'def coolFunc():\\n    global globalVariable # cannot assign it in the same line it is defined.\\n    globalVariable = \"look-ie there\"\\n\\ncoolFunc() # Function must be called since Python uses lazy/JIT compilation (I think that\\'s why??). This sets the memory aside for the globalVariable.\\nprint(globalVariable)', 'coolFunc': <function coolFunc at 0x00000272F253B040>, 'globalVariable': 'look-ie there', '_i2': 'x = 1\\ny = x\\n\\nprint(globals())\\nprint(locals())', 'x': 1, 'y': 1, '_i3': 'x = 1\\ny = x\\n\\nprint(globals())\\nprint(\"\\\\n\", locals())'}\n"
     ]
    }
   ],
   "source": [
    "x = 1\n",
    "y = x\n",
    "\n",
    "print(globals())\n",
    "print(\"\\n\", locals())\n"
   ]
  },
  {
   "cell_type": "markdown",
   "metadata": {},
   "source": [
    "### Arguments\n"
   ]
  },
  {
   "cell_type": "markdown",
   "metadata": {},
   "source": [
    "Object references are passed whenever supplied as arguments to functions (instead of creating a duplicate variable, the reference is just handed over.):\n",
    "\n",
    "If the object is **immutable**, like a string or int, modifications result in a new object being created and leave the original object unchanged.\n",
    "\n",
    "If the object is **mutable**, like a list or dictionary, modifications can be seen outside of the function's scope. This means it won't need to be returned!\n"
   ]
  },
  {
   "cell_type": "code",
   "execution_count": 25,
   "metadata": {},
   "outputs": [
    {
     "name": "stdout",
     "output_type": "stream",
     "text": [
      "Original string: Wow\n",
      "Original list: [1, 2, 3]\n",
      "String after passing in function: Wow\n",
      "List after passing in function: [1, 2, 3, 'dog']\n",
      "This should be unchanged: [1, 2, 3, 'dog']\n"
     ]
    }
   ],
   "source": [
    "def changeStr(inputString):\n",
    "    inputString += \"!\"\n",
    "    return inputString\n",
    "\n",
    "\n",
    "def changeList(inputList):\n",
    "    inputList.append('dog')\n",
    "\n",
    "\n",
    "myString = \"Wow\"\n",
    "myList = [1, 2, 3]\n",
    "\n",
    "print(\"Original string:\", myString)\n",
    "print(\"Original list:\", myList)\n",
    "\n",
    "changeStr(myString)\n",
    "changeList(myList)\n",
    "\n",
    "print(\"String after passing in function:\", myString)\n",
    "print(\"List after passing in function:\", myList)\n",
    "\n",
    "\n",
    "# You can protect your mutable objects from changes in functions by passing in copies\n",
    "\n",
    "# The [:] creates a copy of the object. It can't be stored in a variable or anything since nothing is returned, so... an object is made, changed, and becomes garbage\n",
    "changeList(myList[:])\n",
    "print(\"This should be unchanged:\", myList)   # Notice how it is unchanged\n"
   ]
  },
  {
   "cell_type": "code",
   "execution_count": null,
   "metadata": {},
   "outputs": [],
   "source": [
    "# Create a function that swaps the first and the last elements of a list.\n",
    "\n",
    "def swap(input_list):\n",
    "    temp = input_list[0]\n",
    "    input_list[0] = input_list[-1]\n",
    "    input_list[-1] = temp\n",
    "\n",
    "\n",
    "# Program receives comma-separated values like 5,4,12,19\n",
    "values_list = input().split(',')\n",
    "swap(values_list)\n",
    "\n",
    "print(values_list)\n"
   ]
  },
  {
   "cell_type": "markdown",
   "metadata": {},
   "source": [
    "### Keyword Args and Default Params\n"
   ]
  },
  {
   "cell_type": "markdown",
   "metadata": {},
   "source": [
    "You can explicitly state what parameter is being passed in when making a function call (see below):\n"
   ]
  },
  {
   "cell_type": "code",
   "execution_count": 35,
   "metadata": {},
   "outputs": [
    {
     "name": "stdout",
     "output_type": "stream",
     "text": [
      "Ta Mere No, thank you 12\n",
      "Birdie 11001011 yes\n"
     ]
    }
   ],
   "source": [
    "def funkyFunc(name, date, age):\n",
    "    print(name, date, age)\n",
    "\n",
    "\n",
    "funkyFunc(age=12, date=\"No, thank you\", name=\"Ta Mere\")\n",
    "\n",
    "# Each keyword must have a positional argument, i.e. they all must be defined UNLESS the one with the positional arg is LAST. Even then, it must be in order\n",
    "funkyFunc(\"Birdie\", \"11001011\", age=\"yes\")\n"
   ]
  },
  {
   "cell_type": "markdown",
   "metadata": {},
   "source": [
    "Default param values can be set, but it must be the last one UNLESS you want each one after a given arg to be assigned a default value.\n"
   ]
  },
  {
   "cell_type": "code",
   "execution_count": 38,
   "metadata": {},
   "outputs": [
    {
     "name": "stdout",
     "output_type": "stream",
     "text": [
      "Test 1197 89\n"
     ]
    }
   ],
   "source": [
    "def funkyFunc(name, date, age=89):\n",
    "    print(name, date, age)\n",
    "\n",
    "\n",
    "funkyFunc(\"Test\", \"1197\")\n"
   ]
  },
  {
   "cell_type": "markdown",
   "metadata": {},
   "source": [
    "One common error with default values is setting an empty list as a default value. See below for more details.\n"
   ]
  },
  {
   "cell_type": "code",
   "execution_count": 57,
   "metadata": {},
   "outputs": [
    {
     "name": "stdout",
     "output_type": "stream",
     "text": [
      "First swap; ([-1, 'b', 'c', 'd'], ['a'])\n",
      "Second swap (with second arg): ([1, 'b', 'c', 'd'], [-1, 2, 3, 4])\n",
      "Third swap: (['a', 'b', 'c', 'd'], [1])\n"
     ]
    }
   ],
   "source": [
    "# This one will create a list object that will persist\n",
    "def swapBetweenLists(list1, list2=[-1]):\n",
    "    # Swaps the first elements of two given lists.\n",
    "    temp = list1[0]\n",
    "    list1[0] = list2[0]\n",
    "    list2[0] = temp\n",
    "\n",
    "    return list1, list2\n",
    "\n",
    "\n",
    "myList = ['a', 'b', 'c', 'd']\n",
    "mySecondList = [1, 2, 3, 4]\n",
    "\n",
    "print(\"First swap;\", swapBetweenLists(myList))\n",
    "print(\"Second swap (with second arg):\", swapBetweenLists(myList, mySecondList))\n",
    "print(\"Third swap:\", swapBetweenLists(myList))\n"
   ]
  },
  {
   "cell_type": "code",
   "execution_count": 56,
   "metadata": {},
   "outputs": [
    {
     "name": "stdout",
     "output_type": "stream",
     "text": [
      "\n",
      "**CORRECTED** First swap; ([-1, 'b', 'c', 'd'], ['a'])\n",
      "**CORRECTED** Second swap (with second arg): ([1, 'b', 'c', 'd'], [-1, 2, 3, 4])\n",
      "**CORRECTED** Third swap: ([-1, 'b', 'c', 'd'], [1])\n",
      "**CORRECTED** Fourth swap: ([-1, 'b', 'c', 'd'], [-1])\n"
     ]
    }
   ],
   "source": [
    "# This one corrects the bug and only creates a list if one has not been made\n",
    "def swapBetweenLists(list1, list2=None):\n",
    "    # Swaps the first elements of two given lists.\n",
    "    # If a list was not presented, create a list to use by default\n",
    "    if list2 == None:\n",
    "        list2 = [-1]\n",
    "\n",
    "    temp = list1[0]\n",
    "    list1[0] = list2[0]\n",
    "    list2[0] = temp\n",
    "\n",
    "    return list1, list2\n",
    "\n",
    "\n",
    "myList = ['a', 'b', 'c', 'd']\n",
    "mySecondList = [1, 2, 3, 4]\n",
    "\n",
    "print()\n",
    "print(\"**CORRECTED** First swap;\", swapBetweenLists(myList))\n",
    "print(\"**CORRECTED** Second swap (with second arg):\",\n",
    "      swapBetweenLists(myList, mySecondList))\n",
    "print(\"**CORRECTED** Third swap:\", swapBetweenLists(myList))\n",
    "print(\"**CORRECTED** Fourth swap:\", swapBetweenLists(myList))\n"
   ]
  },
  {
   "cell_type": "markdown",
   "metadata": {},
   "source": [
    "You can also mix it all together\n"
   ]
  },
  {
   "cell_type": "code",
   "execution_count": 60,
   "metadata": {},
   "outputs": [
    {
     "name": "stdout",
     "output_type": "stream",
     "text": [
      "1/30/2012\n",
      "1/1/2000\n",
      "4/1/2012\n"
     ]
    }
   ],
   "source": [
    "# Most of this was copied straight out of ZyBooks. Yay!!\n",
    "def print_date(day=1, month=1, year=2000, style=0):\n",
    "    if style == 0:\n",
    "        print(f\"{month}/{day}/{year}\")\n",
    "    elif style == 1:\n",
    "        print(f\"{day}/{month}/{year}\")\n",
    "    else:\n",
    "        print(style, \"was provided for the style. Please provide either 1 or 0.\")\n",
    "\n",
    "\n",
    "print_date(day=30, year=2012)   # Defaults:        month=1,            style=0\n",
    "print_date(style=1)             # Defaults: day=1, month=1, year=2000\n",
    "print_date(year=2012, month=4)  # Defaults: day=1,                     style=0\n"
   ]
  },
  {
   "cell_type": "code",
   "execution_count": 74,
   "metadata": {},
   "outputs": [
    {
     "name": "stdout",
     "output_type": "stream",
     "text": [
      "Cost per diner: 14.52\n",
      "Cost per diner: 19.06\n"
     ]
    }
   ],
   "source": [
    "def split_check(bill, people, tax_percentage=0.09, tip_percentage=0.15):\n",
    "    total_cost = bill + (bill * tax_percentage) + (bill * tip_percentage)\n",
    "    return total_cost / people\n",
    "\n",
    "\n",
    "bill = 23.42\n",
    "people = 2\n",
    "\n",
    "# Cost per diner at the default tax and tip percentages\n",
    "print('Cost per diner:', round(split_check(bill, people), 2))\n",
    "\n",
    "bill = 270.18\n",
    "people = 18\n",
    "new_tax_percentage = .07\n",
    "new_tip_percentage = .20\n",
    "\n",
    "# Cost per diner at different tax and tip percentages\n",
    "print('Cost per diner:', round(split_check(\n",
    "    bill, people, new_tax_percentage, new_tip_percentage), 2))\n"
   ]
  },
  {
   "cell_type": "markdown",
   "metadata": {},
   "source": [
    "### Arbitrary Args\n"
   ]
  },
  {
   "cell_type": "markdown",
   "metadata": {},
   "source": [
    "Sometimes you just have no clue how many arguments will be provided. You can use:\n",
    "\n",
    "- `*args` - all args passed into this guy will be stored as a tuple\n",
    "- `**kwargs` - short for keyword arguments. Similar behavior to \\*args but allows you to keyword what you are providing. Creates a dictionary.\n",
    "\n",
    "The names \"args\" and \"kwargs\" are just standard practice, the number of *'s is the only thing that matters. So `*applications`or`\\*\\*dogs` also works.\n"
   ]
  },
  {
   "cell_type": "code",
   "execution_count": 87,
   "metadata": {},
   "outputs": [
    {
     "name": "stdout",
     "output_type": "stream",
     "text": [
      "A tuple of all of my arbitrary arguments: (3, 4, 5, 6)\n",
      "Ham on Rye\n",
      "   sauce1: relish\n",
      "   topping1: lettuce\n",
      "Turkey on Sourdough\n",
      "   sauce1: catsup\n",
      "   topping1: onion\n",
      "   topping2: tomato\n",
      "Ham on \n",
      "   sauce1: relish\n",
      "   topping1: lettuce\n"
     ]
    }
   ],
   "source": [
    "# The magic of \"*args\"\n",
    "\n",
    "def endlessArgs(arg1, arg2, *args):\n",
    "    return args\n",
    "\n",
    "\n",
    "print(\"A tuple of all of my arbitrary arguments:\", endlessArgs(1, 2, 3, 4, 5, 6))\n",
    "\n",
    "# The majesty of \"**kwargs\"\n",
    "\n",
    "\n",
    "def printSandwich(bread, meat, **kwargs):\n",
    "    print('{} on {}'.format(meat, bread))\n",
    "    for category, extra in kwargs.items():\n",
    "        print('   {}: {}'.format(category, extra))\n",
    "\n",
    "\n",
    "printSandwich(\"Rye\", \"Ham\", sauce1=\"relish\", topping1=\"lettuce\")\n",
    "printSandwich(\"Sourdough\", \"Turkey\", sauce1=\"catsup\",\n",
    "              topping1=\"onion\", topping2=\"tomato\")\n",
    "\n",
    "# Both can be combined to create something glorious\n",
    "\n",
    "\n",
    "# The order must be *args, **kwargs if they are used this way. You can also change the name of \"args\" or \"kwargs\" to anything\n",
    "def printSandwich(bread, meat, *otherMeats, **toppings):\n",
    "    if otherMeats:\n",
    "        print(f'{meat}{\", \".join(otherMeats)} on {bread}')\n",
    "    else:\n",
    "        print('{} on {}'.format(meat, bread))\n",
    "    for category, extra in toppings.items():\n",
    "        print('   {}: {}'.format(category, extra))\n",
    "\n",
    "\n",
    "printSandwich(\"Rye\", \"Ham\", sauce1=\"relish\", topping1=\"lettuce\")\n"
   ]
  },
  {
   "cell_type": "code",
   "execution_count": 88,
   "metadata": {},
   "outputs": [
    {
     "name": "stdout",
     "output_type": "stream",
     "text": [
      "notepad.exe\n",
      "Powerpoint.exe --file=pres.ppt --start=True --slide=3\n"
     ]
    }
   ],
   "source": [
    "def gen_command(application, **kwargs):\n",
    "    command = application\n",
    "\n",
    "    for argument in kwargs:\n",
    "        command += ' --{}={}'.format(argument, kwargs[argument])\n",
    "    return command\n",
    "\n",
    "\n",
    "print(gen_command('notepad.exe'))  # No options\n",
    "print(gen_command('Powerpoint.exe', file='pres.ppt', start=True, slide=3))\n"
   ]
  },
  {
   "cell_type": "markdown",
   "metadata": {},
   "source": [
    "### Multiple Func Outputs\n"
   ]
  },
  {
   "cell_type": "markdown",
   "metadata": {},
   "source": [
    "You literally did it a little bit earlier but you can just do stuff like `return result1, result2` and it will give you a tuple.\n",
    "\n",
    "You can unpack the returned result (if it's a tuple) by making the expression `value1, value2 = multiOutFunc(args)`. This does not require parentheses but they can be included if desired.\n"
   ]
  },
  {
   "cell_type": "code",
   "execution_count": 13,
   "metadata": {},
   "outputs": [
    {
     "name": "stdout",
     "output_type": "stream",
     "text": [
      "Average score: 85.75\n",
      "Standard deviation: 12.64\n"
     ]
    }
   ],
   "source": [
    "def getGradeStats(scores):\n",
    "    mean = sum(scores) / len(scores)\n",
    "\n",
    "    temp = 0\n",
    "    for score in scores:\n",
    "        temp += (score - mean) ** 2\n",
    "\n",
    "    stdDev = (temp/len(scores)) ** 0.5\n",
    "\n",
    "    return mean, stdDev\n",
    "\n",
    "\n",
    "studentScores = [99, 100, 78, 91, 67, 84, 83, 82, 88, 100, 98, 59]\n",
    "\n",
    "# Unpack the returned tuple into two variables\n",
    "calculatedMean, calculatedStdDev = getGradeStats(studentScores)\n",
    "\n",
    "print(\"Average score:\", round(calculatedMean, 2))\n",
    "print(\"Standard deviation:\", round(calculatedStdDev, 2))\n"
   ]
  },
  {
   "cell_type": "markdown",
   "metadata": {},
   "source": [
    "Returning as different types (lists, etc.) can be performed by insinuating that what is being returned is the desired type, i.e. `return [val1, val2]`. You can also mix it to where a tuple AND a list are returned (`return a, b, [c, d]`)\n",
    "\n",
    "It can be unpacked the same way, stored in a variable, passed into another function, and more.\n"
   ]
  },
  {
   "cell_type": "code",
   "execution_count": 9,
   "metadata": {},
   "outputs": [
    {
     "name": "stdout",
     "output_type": "stream",
     "text": [
      "Min: 59 Max: 100\n"
     ]
    }
   ],
   "source": [
    "def getMinMaxScore(scores):\n",
    "    return [min(scores), max(scores)]\n",
    "\n",
    "\n",
    "studentScores = [99, 100, 78, 91, 67, 84, 83, 82, 88, 100, 98, 59]\n",
    "\n",
    "# Unpack the returned tuple into two variables\n",
    "minScore, maxScore = getMinMaxScore(studentScores)\n",
    "\n",
    "print(\"Min:\", minScore, \"Max:\", maxScore)\n"
   ]
  },
  {
   "cell_type": "markdown",
   "metadata": {},
   "source": [
    "### Docstrings and the `help()` function\n"
   ]
  },
  {
   "cell_type": "markdown",
   "metadata": {},
   "source": [
    "Docstrings allow you to document what the heck a function does.\n",
    "\n",
    "It is good practice to keep docstrings for simple functions one line, while explaining the more complicated ones clearly. It is also best practice to not have blank lines before or after a docstring\n"
   ]
  },
  {
   "cell_type": "code",
   "execution_count": 21,
   "metadata": {},
   "outputs": [
    {
     "name": "stdout",
     "output_type": "stream",
     "text": [
      "Help on function exFunc in module __main__:\n",
      "\n",
      "exFunc()\n",
      "    This is a docstring\n",
      "    This will also be printed when help(exFunc) is executed\n",
      "    Put something helpful in this.\n",
      "\n"
     ]
    }
   ],
   "source": [
    "def exFunc():\n",
    "    \"\"\"This is a docstring\n",
    "    This will also be printed when help(exFunc) is executed\n",
    "    Put something helpful in this.\n",
    "    \"\"\"\n",
    "\n",
    "\n",
    "help(exFunc)\n"
   ]
  },
  {
   "cell_type": "markdown",
   "metadata": {},
   "source": [
    "More complicated functions should be formatted consistently.\n"
   ]
  },
  {
   "cell_type": "code",
   "execution_count": 23,
   "metadata": {},
   "outputs": [
    {
     "name": "stdout",
     "output_type": "stream",
     "text": [
      "Help on function ticketPrice in module __main__:\n",
      "\n",
      "ticketPrice(origin, destination, coach=True, first_class=False)\n",
      "    Calculates the price of a ticket between two airports.\n",
      "    Only one of coach or first_class must be True.\n",
      "    \n",
      "    Arguments:\n",
      "    origin -- string representing code of origin airport\n",
      "    destination -- string representing code of destination airport\n",
      "    \n",
      "    Optional keyword arguments:\n",
      "    coach -- Boolean. True if ticket cost priced for a coach class ticket (default True)\n",
      "    first_class -- Boolean. True if ticket cost priced for a first class ticket (default False)\n",
      "\n"
     ]
    }
   ],
   "source": [
    "\n",
    "def ticketPrice(origin, destination, coach=True, first_class=False):\n",
    "    \"\"\"Calculates the price of a ticket between two airports.\n",
    "    Only one of coach or first_class must be True.\n",
    "\n",
    "    Arguments:\n",
    "    origin -- string representing code of origin airport\n",
    "    destination -- string representing code of destination airport\n",
    "\n",
    "    Optional keyword arguments:\n",
    "    coach -- Boolean. True if ticket cost priced for a coach class ticket (default True)\n",
    "    first_class -- Boolean. True if ticket cost priced for a first class ticket (default False)\n",
    "\n",
    "    \"\"\"\n",
    "    # Function body statements ...\n",
    "\n",
    "\n",
    "help(ticketPrice)\n"
   ]
  },
  {
   "cell_type": "code",
   "execution_count": 24,
   "metadata": {},
   "outputs": [
    {
     "name": "stdout",
     "output_type": "stream",
     "text": [
      "Help on module __main__:\n",
      "\n",
      "NAME\n",
      "    __main__ - Automatically created module for IPython interactive environment\n",
      "\n",
      "FUNCTIONS\n",
      "    exFunc()\n",
      "        This is a docstring\n",
      "        This will also be printed when help(exFunc) is executed\n",
      "        Put something helpful in this.\n",
      "    \n",
      "    getGradeStats(scores)\n",
      "    \n",
      "    getMinMaxScore(scores)\n",
      "    \n",
      "    ticketPrice(origin, destination, coach=True, first_class=False)\n",
      "        Calculates the price of a ticket between two airports.\n",
      "        Only one of coach or first_class must be True.\n",
      "        \n",
      "        Arguments:\n",
      "        origin -- string representing code of origin airport\n",
      "        destination -- string representing code of destination airport\n",
      "        \n",
      "        Optional keyword arguments:\n",
      "        coach -- Boolean. True if ticket cost priced for a coach class ticket (default True)\n",
      "        first_class -- Boolean. True if ticket cost priced for a first class ticket (default False)\n",
      "\n",
      "DATA\n",
      "    In = ['', 'def getGradeStats(scores):\\n    mean = sum(scores...n)\\npri...\n",
      "    Out = {14: '\\nThis is a docstring\\n\\nThis will also be printed when he...\n",
      "    __ = ''\n",
      "    ___ = ''\n",
      "    __vsc_ipynb_file__ = r'e:\\Ethan\\Documents\\Code\\Python Projects\\C859\\no...\n",
      "    calculatedMean = 85.75\n",
      "    calculatedStdDev = 12.636751956100111\n",
      "    exit = <IPython.core.autocall.ZMQExitAutocall object>\n",
      "    maxScore = 100\n",
      "    minScore = 59\n",
      "    quit = <IPython.core.autocall.ZMQExitAutocall object>\n",
      "    studentScores = [99, 100, 78, 91, 67, 84, 83, 82, 88, 100, 98, 59]\n",
      "\n",
      "FILE\n",
      "    (built-in)\n",
      "\n",
      "\n"
     ]
    }
   ],
   "source": [
    "help(__name__)\n"
   ]
  },
  {
   "cell_type": "markdown",
   "metadata": {},
   "source": [
    "### Unit Tests\n"
   ]
  },
  {
   "cell_type": "markdown",
   "metadata": {},
   "source": [
    "This is where it gets good...\n",
    "\n",
    "Unit tests evaluate func's to see if it's named correctly and returns the correct type and returns the correct value.\n",
    "\n",
    "`if __name__ == '__main__'` is used to keep the main function's code separate from another function's so each function can be tested (why would you test the function you are operating out of if it's not explicitly what you want to do, right?).\n"
   ]
  },
  {
   "cell_type": "code",
   "execution_count": 27,
   "metadata": {},
   "outputs": [
    {
     "name": "stdout",
     "output_type": "stream",
     "text": [
      "0.5444646098003629 lbs\n"
     ]
    }
   ],
   "source": [
    "def kiloToPounds(kilos):\n",
    "    # This statement intentionally has an error.\n",
    "    return (kilos / 2.204)  # should be '*' not '/'\n",
    "\n",
    "\n",
    "if __name__ == '__main__':\n",
    "    kilos = float(input())\n",
    "\n",
    "    pounds = kiloToPounds(kilos)\n",
    "    print(pounds, \"lbs\")\n"
   ]
  },
  {
   "cell_type": "markdown",
   "metadata": {},
   "source": [
    "This allows you to create testing code that won't be used when importing the function but will still exist for future updates!\n"
   ]
  },
  {
   "cell_type": "markdown",
   "metadata": {},
   "source": [
    "## Command-line Things\n"
   ]
  },
  {
   "cell_type": "markdown",
   "metadata": {},
   "source": [
    "### Arguments\n"
   ]
  },
  {
   "cell_type": "markdown",
   "metadata": {},
   "source": [
    "Sometimes you might want to run a Python script with arguments in a text document. To do that you can do something like:\n",
    "\n",
    "`python program.py arguments.txt` --> This will be stored automatically into the list `sys.argv` (inside of the \"sys\" module)\n",
    "\n",
    "- Consists of one string element for each argument supplied -- separated by whitespace\n",
    "- This includes EVERYTHING after \"python\", to include the path of the program\n"
   ]
  },
  {
   "cell_type": "code",
   "execution_count": 9,
   "metadata": {},
   "outputs": [
    {
     "name": "stdout",
     "output_type": "stream",
     "text": [
      "You are --ip=127.0.0.1 and happen to be --stdin=9003 year(s) old.\n",
      "You are working out of 'C:\\Users\\Ethan\\anaconda3\\lib\\site-packages\\ipykernel_launcher.py'\n",
      "11 arguments have been passed (everything after 'python')!\n"
     ]
    }
   ],
   "source": [
    "import sys\n",
    "\n",
    "operatingDir = sys.argv[0]\n",
    "name = sys.argv[1]\n",
    "# you can also cast this as an int to validate it's a numeral\n",
    "age = sys.argv[2]\n",
    "\n",
    "print(f\"You are {name} and happen to be {age} year(s) old.\")\n",
    "print(f\"You are working out of '{operatingDir}'\")\n",
    "print(f\"{len(sys.argv)} arguments have been passed (everything after 'python')!\")\n"
   ]
  },
  {
   "cell_type": "markdown",
   "metadata": {},
   "source": [
    "It's good practice to check the length to ensure enough args have been provided. You don't want to try throw any `IndexError`'s now, do ya?\n",
    "\n",
    "This can also sorta be used to ignore too many arguments.\n"
   ]
  },
  {
   "cell_type": "code",
   "execution_count": 14,
   "metadata": {},
   "outputs": [
    {
     "name": "stdout",
     "output_type": "stream",
     "text": [
      "Usage: python dummyProg.py name age\n",
      "\n"
     ]
    },
    {
     "ename": "SystemExit",
     "evalue": "1",
     "output_type": "error",
     "traceback": [
      "An exception has occurred, use %tb to see the full traceback.\n",
      "\u001b[1;31mSystemExit\u001b[0m\u001b[1;31m:\u001b[0m 1\n"
     ]
    }
   ],
   "source": [
    "# Printing a usage message in case too many args are supplied.\n",
    "if len(sys.argv) != 3:\n",
    "    print(\"Usage: python dummyProg.py name age\\n\")\n",
    "    sys.exit(1)     # Exit the program and indicate an error with 1\n",
    "\n",
    "operatingDir = sys.argv[0]\n",
    "name = sys.argv[1]\n",
    "age = int(sys.argv[2])\n",
    "\n",
    "print(f\"You are {name} and happen to be {age} year(s) old.\")\n",
    "\n",
    "# You can pass in a string literal with spaces as a single argument by surrounding it in quotes.\n",
    "'''\n",
    "cmd --> python dummyProg.py \"First Last\" 12\n",
    "\n",
    "Output: You are First Last and happen to be 12 year(s) old.\n",
    "'''\n"
   ]
  },
  {
   "cell_type": "markdown",
   "metadata": {},
   "source": [
    "## Exceptions\n"
   ]
  },
  {
   "cell_type": "markdown",
   "metadata": {},
   "source": [
    "### `try` and `except`\n"
   ]
  },
  {
   "cell_type": "markdown",
   "metadata": {},
   "source": [
    "Try-except blocks are basically try-catch\n"
   ]
  },
  {
   "cell_type": "code",
   "execution_count": 6,
   "metadata": {},
   "outputs": [
    {
     "name": "stdout",
     "output_type": "stream",
     "text": [
      "32134\n"
     ]
    }
   ],
   "source": [
    "userInput = input()\n",
    "\n",
    "try:\n",
    "    intInput = int(userInput)\n",
    "    print(intInput + 2)\n",
    "except:\n",
    "    print(\"Please provide an integer\")\n"
   ]
  },
  {
   "cell_type": "markdown",
   "metadata": {},
   "source": [
    "You can have multiple handlers!\n"
   ]
  },
  {
   "cell_type": "code",
   "execution_count": 21,
   "metadata": {},
   "outputs": [
    {
     "name": "stdout",
     "output_type": "stream",
     "text": [
      "Invalid height entered. Must be > 0.\n"
     ]
    }
   ],
   "source": [
    "user_input = ''\n",
    "while user_input != 'q':\n",
    "    try:\n",
    "        weight = int(input(\"Enter weight (in pounds): \"))\n",
    "        height = int(input(\"Enter height (in inches): \"))\n",
    "\n",
    "        bmi = (float(weight) / float(height * height)) * 703\n",
    "        print('BMI:', bmi)\n",
    "        print('(CDC: 18.6-24.9 normal)\\n')  # Source www.cdc.gov\n",
    "    except ValueError:\n",
    "        print('Could not calculate health info.\\n')\n",
    "    except ZeroDivisionError:\n",
    "        print('Invalid height entered. Must be > 0.')\n",
    "    except (AttributeError, IOError):\n",
    "        # Handles both errors\n",
    "        print(\"How did you make this happen?\")\n",
    "    except:\n",
    "        # Handles every other error\n",
    "        print(\"Something went terribly wrong\")\n",
    "\n",
    "    user_input = input(\"Enter any key ('q' to quit): \")\n"
   ]
  },
  {
   "cell_type": "markdown",
   "metadata": {},
   "source": [
    "### Raising Exceptions\n"
   ]
  },
  {
   "cell_type": "code",
   "execution_count": 70,
   "metadata": {},
   "outputs": [
    {
     "ename": "ZeroDivisionError",
     "evalue": "Stop putting in zeros",
     "output_type": "error",
     "traceback": [
      "\u001b[1;31m---------------------------------------------------------------------------\u001b[0m",
      "\u001b[1;31mZeroDivisionError\u001b[0m                         Traceback (most recent call last)",
      "\u001b[1;32m~\\AppData\\Local\\Temp/ipykernel_15484/895953314.py\u001b[0m in \u001b[0;36m<module>\u001b[1;34m\u001b[0m\n\u001b[0;32m      5\u001b[0m \u001b[1;33m\u001b[0m\u001b[0m\n\u001b[0;32m      6\u001b[0m \u001b[1;32mif\u001b[0m \u001b[0mnum\u001b[0m \u001b[1;33m==\u001b[0m \u001b[1;34m'0'\u001b[0m\u001b[1;33m:\u001b[0m\u001b[1;33m\u001b[0m\u001b[1;33m\u001b[0m\u001b[0m\n\u001b[1;32m----> 7\u001b[1;33m         \u001b[1;32mraise\u001b[0m \u001b[0mZeroDivisionError\u001b[0m\u001b[1;33m(\u001b[0m\u001b[1;34m\"Stop putting in zeros\"\u001b[0m\u001b[1;33m)\u001b[0m\u001b[1;33m\u001b[0m\u001b[1;33m\u001b[0m\u001b[0m\n\u001b[0m\u001b[0;32m      8\u001b[0m \u001b[1;33m\u001b[0m\u001b[0m\n\u001b[0;32m      9\u001b[0m \u001b[1;32mtry\u001b[0m\u001b[1;33m:\u001b[0m\u001b[1;33m\u001b[0m\u001b[1;33m\u001b[0m\u001b[0m\n",
      "\u001b[1;31mZeroDivisionError\u001b[0m: Stop putting in zeros"
     ]
    }
   ],
   "source": [
    "num = input()\n",
    "\n",
    "if not num.isdigit():\n",
    "    raise ValueError(\"Please stop putting in non-digits.\")\n",
    "\n",
    "if num == '0':\n",
    "    raise ZeroDivisionError(\"Stop putting in zeros\")\n",
    "\n",
    "try:\n",
    "    num = int(num)\n",
    "    num /= num\n",
    "    print(num)\n",
    "except:\n",
    "    print(\"oops\")\n"
   ]
  },
  {
   "cell_type": "markdown",
   "metadata": {},
   "source": [
    "You can carry exceptions in a way\n"
   ]
  },
  {
   "cell_type": "code",
   "execution_count": 73,
   "metadata": {},
   "outputs": [
    {
     "name": "stdout",
     "output_type": "stream",
     "text": [
      "Error: num less than 10\n",
      "Something else\n"
     ]
    }
   ],
   "source": [
    "try:\n",
    "    # Any raises in here will automatically go to the except block (if there is one)\n",
    "    num = 10 / 12\n",
    "    if num < 10:\n",
    "        # This will get carried into the except block!\n",
    "        raise ValueError(\"num less than 10\")\n",
    "    if num > 10:\n",
    "        raise ValueError(\"num greater than 10\")\n",
    "except ValueError as excpt:\n",
    "    print(f\"Error: {excpt}\")\n",
    "    print(\"Something else\")\n",
    "except:\n",
    "    print(\"Wow... how?\")\n"
   ]
  },
  {
   "cell_type": "markdown",
   "metadata": {},
   "source": [
    "### Exceptions + Functions\n"
   ]
  },
  {
   "cell_type": "code",
   "execution_count": 82,
   "metadata": {},
   "outputs": [
    {
     "name": "stdout",
     "output_type": "stream",
     "text": [
      "n\n",
      "o\n",
      "Error: I cannot take no for an answer.\n",
      "Please try again.\n"
     ]
    }
   ],
   "source": [
    "# Take a guess as to how this will be done\n",
    "def getInput():\n",
    "    # Put whatever logic, etc you want in here.\n",
    "    # Use the error raised to tell the programmer how they messed up.\n",
    "    value = input(\"Please provide some input.\")\n",
    "    if value.lower() == \"no\":\n",
    "        # Execution will cause immediate exit and looks for an exception handler\n",
    "        raise ValueError(\"I cannot take no for an answer.\")\n",
    "    return value\n",
    "\n",
    "\n",
    "userInput = \"\"\n",
    "while userInput != \"q\":\n",
    "    try:\n",
    "        print(getInput())\n",
    "\n",
    "    # Pulled from the function!\n",
    "    except ValueError as excpt:\n",
    "        print(f\"Error: {excpt}\")\n",
    "        print(\"Please try again.\")\n",
    "    except:\n",
    "        print(\"Uh oh.\")\n",
    "\n",
    "    userInput = input(\"Enter any key ('q' to quit)\")\n"
   ]
  },
  {
   "cell_type": "markdown",
   "metadata": {},
   "source": [
    "### Using `finally` to Cleanup\n"
   ]
  },
  {
   "cell_type": "code",
   "execution_count": 104,
   "metadata": {},
   "outputs": [
    {
     "name": "stdout",
     "output_type": "stream",
     "text": [
      "Howdy y'all.\n",
      "I will always execute.\n"
     ]
    }
   ],
   "source": [
    "import random\n",
    "\n",
    "try:\n",
    "    randomNum = random.randint(0, 5)\n",
    "    if randomNum == 5:\n",
    "        raise ValueError(\"Howdy\")\n",
    "\n",
    "# This can be done with any error, btw. ValueError is just kinda versatile.\n",
    "except ValueError as excpt:\n",
    "    print(excpt, \"y'all.\")\n",
    "\n",
    "finally:\n",
    "    # Typically this is used for cleanup actions, not just messing around.\n",
    "    print(\"I will always execute.\")\n",
    "    # fileVar.close(), etc. Usually the good stuff like that will go here.\n"
   ]
  },
  {
   "cell_type": "code",
   "execution_count": 107,
   "metadata": {},
   "outputs": [
    {
     "name": "stdout",
     "output_type": "stream",
     "text": [
      "Opening C:\\Users\\Ethan\\Desktop\\Utils\\Imagers\\imager_1.5.exe\n",
      "Could not read number from C:\\Users\\Ethan\\Desktop\\Utils\\Imagers\\imager_1.5.exe\n",
      "Closing C:\\Users\\Ethan\\Desktop\\Utils\\Imagers\\imager_1.5.exe\n",
      "Numbers found: \n"
     ]
    }
   ],
   "source": [
    "nums = []\n",
    "rd_nums = -1\n",
    "my_file = input('Enter file name: ')\n",
    "\n",
    "try:\n",
    "    print('Opening', my_file)\n",
    "    rd_nums = open(my_file, 'r')  # Might cause IOError\n",
    "\n",
    "    for line in rd_nums:\n",
    "        nums.append(int(line))  # Might cause ValueError\n",
    "except IOError:\n",
    "    print('Could not find', my_file)\n",
    "except ValueError:\n",
    "    print('Could not read number from', my_file)\n",
    "finally:\n",
    "    print('Closing', my_file)\n",
    "    if rd_nums != -1:\n",
    "        rd_nums.close()\n",
    "    print('Numbers found:', ' '.join([str(n) for n in nums]))\n"
   ]
  },
  {
   "cell_type": "markdown",
   "metadata": {},
   "source": [
    "### Custom Exceptions\n"
   ]
  },
  {
   "cell_type": "markdown",
   "metadata": {},
   "source": [
    "It's good practice to have the word \"Error\" at the end, i.e. IOError, ValueError, etc.\n"
   ]
  },
  {
   "cell_type": "code",
   "execution_count": 108,
   "metadata": {},
   "outputs": [
    {
     "ename": "LessThanZeroError",
     "evalue": "my_num must be greater than 0",
     "output_type": "error",
     "traceback": [
      "\u001b[1;31m---------------------------------------------------------------------------\u001b[0m",
      "\u001b[1;31mLessThanZeroError\u001b[0m                         Traceback (most recent call last)",
      "\u001b[1;32m~\\AppData\\Local\\Temp/ipykernel_15484/3768235934.py\u001b[0m in \u001b[0;36m<module>\u001b[1;34m\u001b[0m\n\u001b[0;32m      7\u001b[0m \u001b[1;33m\u001b[0m\u001b[0m\n\u001b[0;32m      8\u001b[0m \u001b[1;32mif\u001b[0m \u001b[0mmy_num\u001b[0m \u001b[1;33m<\u001b[0m \u001b[1;36m0\u001b[0m\u001b[1;33m:\u001b[0m\u001b[1;33m\u001b[0m\u001b[1;33m\u001b[0m\u001b[0m\n\u001b[1;32m----> 9\u001b[1;33m     \u001b[1;32mraise\u001b[0m \u001b[0mLessThanZeroError\u001b[0m\u001b[1;33m(\u001b[0m\u001b[1;34m'my_num must be greater than 0'\u001b[0m\u001b[1;33m)\u001b[0m\u001b[1;33m\u001b[0m\u001b[1;33m\u001b[0m\u001b[0m\n\u001b[0m\u001b[0;32m     10\u001b[0m \u001b[1;32melse\u001b[0m\u001b[1;33m:\u001b[0m\u001b[1;33m\u001b[0m\u001b[1;33m\u001b[0m\u001b[0m\n\u001b[0;32m     11\u001b[0m     \u001b[0mprint\u001b[0m\u001b[1;33m(\u001b[0m\u001b[1;34m'my_num:'\u001b[0m\u001b[1;33m,\u001b[0m \u001b[0mmy_num\u001b[0m\u001b[1;33m)\u001b[0m\u001b[1;33m\u001b[0m\u001b[1;33m\u001b[0m\u001b[0m\n",
      "\u001b[1;31mLessThanZeroError\u001b[0m: my_num must be greater than 0"
     ]
    }
   ],
   "source": [
    "# Define a custom exception type\n",
    "class LessThanZeroError(Exception):\n",
    "    # Class constructor\n",
    "    def __init__(self, value):\n",
    "        self.value = value\n",
    "\n",
    "# You can also define errors as such. Class require at least one statement. It can also be indented underneath the stub.\n",
    "\n",
    "\n",
    "class ErroneousError(Exception):\n",
    "    pass\n",
    "\n",
    "\n",
    "my_num = int(input('Enter number: '))\n",
    "\n",
    "if my_num < 0:\n",
    "    raise LessThanZeroError('my_num must be greater than 0')\n",
    "else:\n",
    "    print('my_num:', my_num)\n"
   ]
  },
  {
   "cell_type": "markdown",
   "metadata": {},
   "source": [
    "## Files\n"
   ]
  },
  {
   "cell_type": "markdown",
   "metadata": {},
   "source": [
    "### Reading/Opening Files\n"
   ]
  },
  {
   "cell_type": "markdown",
   "metadata": {},
   "source": [
    "The default mode for `open('path')` is to only allow reading of the file. You can specify it with `open('path', 'r')`, as well.\n"
   ]
  },
  {
   "cell_type": "code",
   "execution_count": 37,
   "metadata": {},
   "outputs": [
    {
     "name": "stdout",
     "output_type": "stream",
     "text": [
      "The type is: <class '_io.TextIOWrapper'>\n",
      "All file contents:\n",
      " def greet():\n",
      "    return \"Hello\"\n",
      "\n",
      "List of all file contents:\n",
      " ['number = 1\\n', \"letter = 'c'\\n\", 'string = \"Too late!\"\\n', 'dataList = [1, 2, 3, 4]']\n",
      "\n",
      "Just a couple lines of a large file:\n",
      " {\n",
      "     \"version\": \"4.7.2.1\",\n",
      "\n"
     ]
    }
   ],
   "source": [
    "# Use the open() function to store a TextIOWrapper object\n",
    "# For full paths, you have to escape the backslashes!\n",
    "openFileLong = open(\n",
    "    'C:\\\\Users\\\\Ethan\\\\Downloads\\\\STG-backups-FF-95.0.2\\\\auto-stg-backup-day-of-month-01@drive4ik.json')\n",
    "openFileShort = open('data.py')\n",
    "openFileOther = open('testingimports.py')\n",
    "print(\"The type is:\", type(openFileShort))\n",
    "\n",
    "# Use the file.read() method to display the contents of a file\n",
    "# The maximum number of bytes to read can be put into the parens, i.e. file.read(500) returns the first 500 bytes.\n",
    "print('All file contents:\\n', openFileOther.read())\n",
    "\n",
    "# file.readlines() returns a list of all of the contents for the file.\n",
    "# This also accepts an argument to limit the amount of bytes read\n",
    "print('List of all file contents:\\n', openFileShort.readlines())\n",
    "\n",
    "print()\n",
    "\n",
    "# file.readline() returns a single line of the file. Really useful for huge files that you don't want to load entirely into memory.\n",
    "print('Just a couple lines of a large file:\\n',\n",
    "      openFileLong.readline(), openFileLong.readline())\n",
    "\n",
    "# Just like with Java scanners, ALWAYS CLOSE YOUR FILES. This will also prevent any reads/writes.\n",
    "openFileLong.close()\n",
    "openFileShort.close()\n",
    "openFileOther.close()\n"
   ]
  },
  {
   "cell_type": "code",
   "execution_count": 40,
   "metadata": {},
   "outputs": [
    {
     "name": "stdout",
     "output_type": "stream",
     "text": [
      "number = 1 letter = 'c' string = \"Too late!\" dataList = [1, 2, 3, 4] "
     ]
    }
   ],
   "source": [
    "openFileShort = open('data.py')\n",
    "\n",
    "# Another way you can iterate over each line is with for loops:\n",
    "for line in openFileShort:\n",
    "    print(line.replace(\"\\n\", \"\"), end=\" \")\n",
    "\n",
    "openFileShort.close()\n"
   ]
  },
  {
   "cell_type": "markdown",
   "metadata": {},
   "source": [
    "### Writing Files\n"
   ]
  },
  {
   "cell_type": "markdown",
   "metadata": {},
   "source": [
    "You can use `file.write()` to write a string argument to a file. This requires that you open up a file for writing using `open('path', 'w')`. If the file at the given path does not exist, it will be created. This will also overwrite the file's contents.\n"
   ]
  },
  {
   "cell_type": "code",
   "execution_count": 56,
   "metadata": {},
   "outputs": [
    {
     "name": "stdout",
     "output_type": "stream",
     "text": [
      "File cannot be read when opened like this.\n"
     ]
    }
   ],
   "source": [
    "f = open('writtenWithPython.txt', 'w')\n",
    "\n",
    "f.write(\"This is a string.\\n\")\n",
    "f.write(str(59420549) + \"\\n\")\n",
    "\n",
    "f.write(\"This will all \")\n",
    "f.write(\"be on the same line!\\n\")\n",
    "\n",
    "try:\n",
    "    f.read()\n",
    "except:\n",
    "    print(\"File cannot be read when opened like this.\")\n",
    "\n",
    "f.close()  # Nothing will happen to the file until it is closed.\n"
   ]
  },
  {
   "cell_type": "markdown",
   "metadata": {},
   "source": [
    "There is an argument that allows you to open a file for appending strings onto, which can be done like so. If the given file does not exist, it will also be created.\n"
   ]
  },
  {
   "cell_type": "code",
   "execution_count": 59,
   "metadata": {},
   "outputs": [
    {
     "name": "stdout",
     "output_type": "stream",
     "text": [
      "File cannot be read when opened like this.\n"
     ]
    }
   ],
   "source": [
    "f = open('writtenWithPython.txt', 'a')\n",
    "\n",
    "i = 0 if i > 9 else i\n",
    "f.write(f\"{i}\")\n",
    "i += 1\n",
    "\n",
    "try:\n",
    "    f.read()\n",
    "except:\n",
    "    print(\"File cannot be read when opened like this.\")\n",
    "\n",
    "f.close()\n"
   ]
  },
  {
   "cell_type": "markdown",
   "metadata": {},
   "source": [
    "There are updated modes that allow more functionality, like reading and writing.\n"
   ]
  },
  {
   "cell_type": "code",
   "execution_count": 60,
   "metadata": {},
   "outputs": [
    {
     "name": "stdout",
     "output_type": "stream",
     "text": [
      "Enter a number between 1 - 3 or -1 to quit\n",
      "ing.\n",
      "59420549\n",
      "This will all be on the same line!\n",
      "123\n",
      "ing.\n",
      "59420549\n",
      "This will all be on the same line!\n",
      "123\n"
     ]
    }
   ],
   "source": [
    "choice = 0\n",
    "\n",
    "while choice != -1:\n",
    "\n",
    "    if choice == 1:\n",
    "        # This allows reading and writing a file at the same time.\n",
    "        f = open('writtenWithPython.txt', 'r+')\n",
    "\n",
    "        f.write(\"\\nNew stuff\\n\")\n",
    "        content = f.read()\n",
    "        print(content)\n",
    "\n",
    "        f.close()\n",
    "    elif choice == 2:\n",
    "        # This allows reading and writing a file at the same time.\n",
    "        f = open('writtenWithPython.txt', 'w+')\n",
    "\n",
    "        f.write(\"I wrote this.\\n\")\n",
    "        content = f.read()\n",
    "        print(content)\n",
    "\n",
    "        f.close()\n",
    "    elif choice == 3:\n",
    "        # This allows reading and append to a file at the same time.\n",
    "        f = open('writtenWithPython.txt', 'a+')\n",
    "\n",
    "        f.write(\"I appended this.\\n\")\n",
    "        content = f.read()\n",
    "        print(content)\n",
    "\n",
    "        f.close()\n",
    "    else:\n",
    "        print(\"Enter a number between 1 - 3 or -1 to quit\")\n",
    "\n",
    "    choice = int(input(\"Enter a number between 1 - 3 or -1 to quit\"))\n"
   ]
  },
  {
   "cell_type": "markdown",
   "metadata": {},
   "source": [
    "**NOTE:** Writing anything but a new line will store it into a buffer. Once a newline character is put into the buffer, the buffer will be emptied onto the file on the disk.\n"
   ]
  },
  {
   "cell_type": "code",
   "execution_count": 99,
   "metadata": {},
   "outputs": [
    {
     "name": "stdout",
     "output_type": "stream",
     "text": [
      "\n"
     ]
    }
   ],
   "source": [
    "import os\n",
    "\n",
    "# There is also an argument for the buffer size in bytes\n",
    "f = open('writtenWithPython.txt', 'w+', buffering=100)\n",
    "f.write(\"s\" * 20)\n",
    "print(f.read())\n",
    "\n",
    "# This flushes the buffer and writes to disk.\n",
    "f.flush()\n",
    "\n",
    "f.write(\"s\" * 101)\n",
    "print(f.read())\n",
    "\n",
    "# This also flushes the buffer\n",
    "os.fsync(f.fileno())\n",
    "\n",
    "# This ALSO flushes the buffer\n",
    "f.close()\n"
   ]
  },
  {
   "cell_type": "markdown",
   "metadata": {},
   "source": [
    "### Interacting with File Systems\n"
   ]
  },
  {
   "cell_type": "markdown",
   "metadata": {},
   "source": [
    "Using the `os` module you can view file info, get a file in another directory, and more.\n"
   ]
  },
  {
   "cell_type": "markdown",
   "metadata": {},
   "source": [
    "**NOTE:** The path representations may differ between OS's. Unix-based/Linux will use '/' separators and Windows will use '\\\\\\\\' separators. You can work around this by joining using `os.path.join('subdir', 'file.jpg')` and it will return the path according to the OS.\n",
    "\n",
    "Try to never hardcode a file path.\n"
   ]
  },
  {
   "cell_type": "code",
   "execution_count": 112,
   "metadata": {},
   "outputs": [
    {
     "name": "stdout",
     "output_type": "stream",
     "text": [
      "logs\\2077\\4\\20\\log.txt\n",
      "logs\\2077\\4\\21\\log.txt\n",
      "logs\\2077\\4\\22\\log.txt\n",
      "logs\\2077\\4\\23\\log.txt\n",
      "logs\\2077\\4\\24\\log.txt\n",
      "logs\\2077\\4\\25\\log.txt\n",
      "logs\\2077\\4\\26\\log.txt\n"
     ]
    }
   ],
   "source": [
    "import os\n",
    "import datetime\n",
    "\n",
    "today = datetime.date(2077, 4, 20)\n",
    "\n",
    "# \"Create\" paths for a weeks worth of logs based on whichever operating system is being ran.\n",
    "for i in range(7):\n",
    "    year = str(today.year)\n",
    "    month = str(today.month)\n",
    "    day = str(today.day)\n",
    "\n",
    "    # Create path string, which could be used to create a file.\n",
    "    path = os.path.join('logs', year, month, day, 'log.txt')\n",
    "    print(path)\n",
    "\n",
    "    # EX: f = open(path, 'w')\n",
    "    # EX: f.write(logInfo)\n",
    "    # EX: f.close()\n",
    "\n",
    "    # Increment what day it is.\n",
    "    today += datetime.timedelta(days=1)\n"
   ]
  },
  {
   "cell_type": "markdown",
   "metadata": {},
   "source": [
    "You can also join the paths using `str.split(os.path.sep)`.\n"
   ]
  },
  {
   "cell_type": "code",
   "execution_count": 121,
   "metadata": {},
   "outputs": [
    {
     "name": "stdout",
     "output_type": "stream",
     "text": [
      "['C:', 'Users', 'Person', 'Desktop', 'Junk']\n",
      "This is not a file\n"
     ]
    }
   ],
   "source": [
    "import os\n",
    "\n",
    "tokens = \"C:\\\\Users\\\\Person\\\\Desktop\\\\Junk\".split(os.path.sep)\n",
    "print(tokens)\n"
   ]
  },
  {
   "cell_type": "markdown",
   "metadata": {},
   "source": [
    "Path methods and `os.walk()`\n"
   ]
  },
  {
   "cell_type": "code",
   "execution_count": 138,
   "metadata": {},
   "outputs": [
    {
     "name": "stdout",
     "output_type": "stream",
     "text": [
      "C:\\Users\\Person\\Desktop\\Junk\n",
      "('C:\\\\Users\\\\Person\\\\Desktop', 'Junk')\n",
      "False\n",
      "This is not a file\n",
      "262144 bytes\n",
      "C:\\Users\\Public contains subdirectories: ['AccountPictures', 'Desktop', 'Documents', 'Downloads', 'Libraries', 'Music', 'Pictures', 'Videos'] and files: ['desktop.ini']\n",
      "C:\\Users\\Public\\AccountPictures contains subdirectories: ['S-1-5-21-3412712366-3941435854-1510684273-1001'] and files: ['desktop.ini']\n",
      "C:\\Users\\Public\\AccountPictures\\S-1-5-21-3412712366-3941435854-1510684273-1001 contains subdirectories: [] and files: ['{8397909C-4928-4C31-97B4-7F5C2898CE6D}-Image1080.jpg', '{8397909C-4928-4C31-97B4-7F5C2898CE6D}-Image192.jpg', '{8397909C-4928-4C31-97B4-7F5C2898CE6D}-Image208.jpg', '{8397909C-4928-4C31-97B4-7F5C2898CE6D}-Image240.jpg', '{8397909C-4928-4C31-97B4-7F5C2898CE6D}-Image32.jpg', '{8397909C-4928-4C31-97B4-7F5C2898CE6D}-Image40.jpg', '{8397909C-4928-4C31-97B4-7F5C2898CE6D}-Image424.jpg', '{8397909C-4928-4C31-97B4-7F5C2898CE6D}-Image448.jpg', '{8397909C-4928-4C31-97B4-7F5C2898CE6D}-Image48.jpg', '{8397909C-4928-4C31-97B4-7F5C2898CE6D}-Image64.jpg', '{8397909C-4928-4C31-97B4-7F5C2898CE6D}-Image96.jpg']\n",
      "C:\\Users\\Public\\Desktop contains subdirectories: [] and files: ['desktop.ini']\n",
      "C:\\Users\\Public\\Documents contains subdirectories: ['Hyper-V', 'My Music', 'My Pictures', 'My Videos'] and files: ['desktop.ini']\n",
      "C:\\Users\\Public\\Downloads contains subdirectories: [] and files: ['desktop.ini']\n",
      "C:\\Users\\Public\\Libraries contains subdirectories: [] and files: ['desktop.ini', 'RecordedTV.library-ms']\n",
      "C:\\Users\\Public\\Music contains subdirectories: [] and files: ['desktop.ini']\n",
      "C:\\Users\\Public\\Pictures contains subdirectories: [] and files: ['desktop.ini']\n",
      "C:\\Users\\Public\\Videos contains subdirectories: [] and files: ['desktop.ini']\n"
     ]
    }
   ],
   "source": [
    "import os\n",
    "\n",
    "p = os.path.join(\"C:\\\\\", \"Users\", \"Person\", \"Desktop\", \"Junk\")\n",
    "print(p)\n",
    "\n",
    "# Splits the path into a tuple (head, tail). Useful for getting the last folder for filename.\n",
    "print(os.path.split(p))\n",
    "\n",
    "# Returns true if path exists.\n",
    "print(os.path.exists(p))\n",
    "\n",
    "# Returns true if existing file, otherwise false (non-existent or directory)\n",
    "if os.path.isfile(p):\n",
    "    print(\"This is a file\")\n",
    "else:\n",
    "    print(\"This is not a file\")\n",
    "\n",
    "# Returns path's size in bytes.\n",
    "print(os.path.getsize(\"C:\\\\Users\\\\Default\\\\NTUSER.DAT\"), \"bytes\")\n",
    "\n",
    "# 'Walks' dir tree and visits each subdirectory. Returns a \"generator\" object\n",
    "for dirname, subdirs, files in os.walk(\"C:\\\\Users\\\\Public\"):\n",
    "    print(f\"{dirname} contains subdirectories: {subdirs} and files: {files}\")\n"
   ]
  },
  {
   "cell_type": "markdown",
   "metadata": {},
   "source": [
    "### Binary Data\n"
   ]
  },
  {
   "cell_type": "markdown",
   "metadata": {},
   "source": [
    "Some files are just a sequence of bytes that aren't encoded into UTF-8 or ASCII. This includes PDFs, images, videos, etc. When it is opened up in notepad, etc, it get displayed as incomprehensible raw bytes.\n",
    "\n",
    "Bytes objects represent byte values, i.e. binary data read from a file. They are immutable like strings and are made with the `byte()` function.\n"
   ]
  },
  {
   "cell_type": "code",
   "execution_count": 179,
   "metadata": {},
   "outputs": [
    {
     "name": "stdout",
     "output_type": "stream",
     "text": [
      "b'B'\n",
      "b'\\x00\\x00\\x00\\x00\\x00\\x00\\x00\\x00\\x00\\x00' => Length: 10\n",
      "b'This is a bytes literal' <class 'bytes'>\n",
      "f\\da\\fd\\c\n",
      "b'123456789 is the same as 123456789'\n"
     ]
    }
   ],
   "source": [
    "# Encode a by sequence using ASCII\n",
    "print(bytes(\"\\x42\", 'ascii'))\n",
    "\n",
    "# A sequence of 10 bytes. All are set to 0\n",
    "a = bytes(10)\n",
    "print(a, \"=> Length:\", len(a))\n",
    "\n",
    "b = b\"This is a bytes literal\"\n",
    "print(b, type(b))\n",
    "\n",
    "# A sequence of bytes with the given values\n",
    "c = bytes([255, 15, 162])\n",
    "print(c)\n",
    "\n",
    "print(b'123456789 is the same as \\x31\\x32\\x33\\x34\\x35\\x36\\x37\\x38\\x39')\n"
   ]
  },
  {
   "cell_type": "markdown",
   "metadata": {},
   "source": [
    "You can open files in binary mode!\n"
   ]
  },
  {
   "cell_type": "markdown",
   "metadata": {},
   "source": [
    "Programs can also access files using a binary file mode by adding a \"b\" character to the end of the mode string in a call to open(), as in open('myfile.txt', 'rb'). When using binary file mode \"b\" on a Windows computer, newline characters \"\\n\" in the file are not automatically mapped to the Windows format \"\\r\\n\". In normal text mode, i.e., when not using the \"b\" binary mode, Python performs this translation of line-endings as a helpful feature, easing compatibility issues between Windows and other operating systems. In binary mode, the translation is not done because inserting additional characters would corrupt the binary data. On non-Windows systems, newline characters are not translated when using binary mode.\n"
   ]
  },
  {
   "cell_type": "code",
   "execution_count": 195,
   "metadata": {},
   "outputs": [],
   "source": [
    "# Adding the 'b' is the magic step\n",
    "f = open('writtenWithPython.txt', 'wb')\n",
    "\n",
    "# Appends the hex value for \"B\" in ASCII\n",
    "f.write(b'\\x42')\n",
    "\n",
    "# You can do anything prefaced with the bytes object thingy\n",
    "f.write(b' test')\n",
    "\n",
    "f.close()\n"
   ]
  },
  {
   "cell_type": "code",
   "execution_count": 196,
   "metadata": {},
   "outputs": [
    {
     "ename": "FileNotFoundError",
     "evalue": "[Errno 2] No such file or directory: 'ball.bmp'",
     "output_type": "error",
     "traceback": [
      "\u001b[1;31m---------------------------------------------------------------------------\u001b[0m",
      "\u001b[1;31mFileNotFoundError\u001b[0m                         Traceback (most recent call last)",
      "\u001b[1;32m~\\AppData\\Local\\Temp/ipykernel_864/3206737250.py\u001b[0m in \u001b[0;36m<module>\u001b[1;34m\u001b[0m\n\u001b[0;32m      1\u001b[0m \u001b[1;34m'''DUMMY EXAMPLE CODE'''\u001b[0m\u001b[1;33m\u001b[0m\u001b[1;33m\u001b[0m\u001b[0m\n\u001b[0;32m      2\u001b[0m \u001b[1;33m\u001b[0m\u001b[0m\n\u001b[1;32m----> 3\u001b[1;33m \u001b[0mf\u001b[0m \u001b[1;33m=\u001b[0m \u001b[0mopen\u001b[0m\u001b[1;33m(\u001b[0m\u001b[1;34m'ball.bmp'\u001b[0m\u001b[1;33m,\u001b[0m \u001b[1;34m'rb'\u001b[0m\u001b[1;33m)\u001b[0m  \u001b[1;31m# Open in binary mode using 'b'\u001b[0m\u001b[1;33m\u001b[0m\u001b[1;33m\u001b[0m\u001b[0m\n\u001b[0m\u001b[0;32m      4\u001b[0m \u001b[1;33m\u001b[0m\u001b[0m\n\u001b[0;32m      5\u001b[0m \u001b[1;31m# Read image binary data\u001b[0m\u001b[1;33m\u001b[0m\u001b[1;33m\u001b[0m\u001b[0m\n",
      "\u001b[1;31mFileNotFoundError\u001b[0m: [Errno 2] No such file or directory: 'ball.bmp'"
     ]
    }
   ],
   "source": [
    "'''DUMMY EXAMPLE CODE'''\n",
    "\n",
    "import struct\n",
    "f = open('ball.bmp', 'rb')  # Open in binary mode using 'b'\n",
    "\n",
    "# Read image binary data\n",
    "contents = f.read()\n",
    "\n",
    "print('Contents of ball.bmp:\\n')\n",
    "print(contents)\n",
    "\n",
    "f.close()\n",
    "\n",
    "# First 14 bytes are a header for BMPs: \"BMb\\xe6\\x00\\x00\\x00\\x00\\x00\\x006\\x04\\x00\\x00\".\n",
    "# The first 2 bytes \"BM\" indicates the type of bitmap. The following 4 bytes \"b\\xe6\\x00\\x00\"\n",
    "# indicates the size of the bitmap. The sequence \"6\\x04\\x00\\x00\" indicates where in the file\n",
    "# the RGB (red-green-blue) values for each pixel in the image are stored.\n",
    "\n",
    "'''Altering a BMP DUMMY CODE'''\n",
    "\n",
    "# struct module lets you pack/unpack sequences of bytes\n",
    "\n",
    "ball_file = open('ball.bmp', 'rb')\n",
    "ball_data = ball_file.read()\n",
    "ball_file.close()\n",
    "\n",
    "# BMP image file format stores location\n",
    "# of pixel RGB values in bytes 10-14\n",
    "pixel_data_loc = ball_data[10:14]\n",
    "\n",
    "# Converts byte sequence into integer object\n",
    "pixel_data_loc = struct.unpack('<L', pixel_data_loc)[0]\n",
    "\n",
    "# Create sequence of 3000 red, green, and yellow pixels each\n",
    "new_pixels = b'\\x01'*3000 + b'\\x02'*3000 + b'\\x03'*3000\n",
    "\n",
    "# Overwrite pixels in image with new pixels\n",
    "new_ball_data = ball_data[:pixel_data_loc] + \\\n",
    "    new_pixels + \\\n",
    "    ball_data[pixel_data_loc + len(new_pixels):]\n",
    "\n",
    "# Write new image\n",
    "new_ball_file = open('new_ball.bmp', 'wb')\n",
    "new_ball_file.write(new_ball_data)\n",
    "new_ball_file.close()\n"
   ]
  },
  {
   "cell_type": "markdown",
   "metadata": {},
   "source": [
    "The first argument to struct.pack() is a format string that describes how the following arguments should be converted into bytes. The \"<\" character indicates the byte-order, or endianness, of the conversion, which determines whether the most-significant or least-significant byte is placed first in the byte sequence. \">\" places the most-significant byte first (big-endian), and \"<\" sets the least-significant byte first. The \"h\" character in the format strings above describe the type of object being converted, which most importantly determines how many bytes are used when packing the value. \"h\" describes the value being converted as a 2-byte integer; other common format characters are \"b\" for a 1-byte integer, \"I\" for a 4-byte integer, and \"s\" for a string. Explore the links at the end of the section for more information on the struct module.\n"
   ]
  },
  {
   "cell_type": "code",
   "execution_count": 198,
   "metadata": {},
   "outputs": [
    {
     "name": "stdout",
     "output_type": "stream",
     "text": [
      "Result of packing 5: b'\\x00\\x05'\n",
      "Result of packing 256: b'\\x01\\x00'\n",
      "Result of packing 5 and 256: b'\\x00\\x05\\x01\\x00'\n",
      "Result of unpacking '\\x00\\x05': (5,)\n",
      "Result of unpacking '\\x01\\x00': (256,)\n",
      "Result of unpacking '\\x00\\x05\\x01\\x00': (5, 256)\n"
     ]
    }
   ],
   "source": [
    "import struct\n",
    "\n",
    "# Packing\n",
    "print('Result of packing 5:', end=' ')\n",
    "print(struct.pack('>h', 5))\n",
    "\n",
    "print('Result of packing 256:', end=' ')\n",
    "print(struct.pack('>h', 256))\n",
    "\n",
    "print('Result of packing 5 and 256:', end=' ')\n",
    "print(struct.pack('>hh', 5, 256))\n",
    "\n",
    "\n",
    "# Unpacking\n",
    "# Below the repr() function is used, which returns a string representation of an object.\n",
    "print('Result of unpacking {}:'.format(repr('\\x00\\x05')), end=' ')\n",
    "print(struct.unpack('>h', b'\\x00\\x05'))\n",
    "\n",
    "\n",
    "print('Result of unpacking {}:'.format(repr('\\x01\\x00')), end=' ')\n",
    "print(struct.unpack('>h', b'\\x01\\x00'))\n",
    "\n",
    "print('Result of unpacking {}:'.format(repr('\\x00\\x05\\x01\\x00')), end=' ')\n",
    "print(struct.unpack('>hh', b'\\x00\\x05\\x01\\x00'))\n"
   ]
  },
  {
   "cell_type": "markdown",
   "metadata": {},
   "source": [
    "### Cmd-line Args and Files\n"
   ]
  },
  {
   "cell_type": "markdown",
   "metadata": {},
   "source": [
    "A program can use command-line args to specify the location of an input/output file.\n"
   ]
  },
  {
   "cell_type": "code",
   "execution_count": 200,
   "metadata": {},
   "outputs": [
    {
     "name": "stdout",
     "output_type": "stream",
     "text": [
      "Usage: C:\\Users\\Ethan\\anaconda3\\lib\\site-packages\\ipykernel_launcher.py input_file\n"
     ]
    },
    {
     "ename": "SystemExit",
     "evalue": "1",
     "output_type": "error",
     "traceback": [
      "An exception has occurred, use %tb to see the full traceback.\n",
      "\u001b[1;31mSystemExit\u001b[0m\u001b[1;31m:\u001b[0m 1\n"
     ]
    },
    {
     "name": "stderr",
     "output_type": "stream",
     "text": [
      "C:\\Users\\Ethan\\anaconda3\\lib\\site-packages\\IPython\\core\\interactiveshell.py:3452: UserWarning: To exit: use 'exit', 'quit', or Ctrl-D.\n",
      "  warn(\"To exit: use 'exit', 'quit', or Ctrl-D.\", stacklevel=1)\n"
     ]
    }
   ],
   "source": [
    "# run with \"python scriptname.py args1 args2\"\n",
    "import sys\n",
    "import os\n",
    "\n",
    "if len(sys.argv) != 2:\n",
    "    print(f'Usage: {sys.argv[0]} input_file')\n",
    "    sys.exit(1)\n",
    "\n",
    "print(f'Opening file {sys.argv[1]}')\n",
    "\n",
    "if not os.path.exists(sys.argv[1]):\n",
    "    print(\"File does not exist.\")\n",
    "    sys.exit(1)\n",
    "\n",
    "file = open(sys.argv[1], 'r')\n",
    "\n",
    "# Do stuff with file\n",
    "\n",
    "file.close()\n"
   ]
  },
  {
   "cell_type": "markdown",
   "metadata": {},
   "source": [
    "### \"With\" Statements\n"
   ]
  },
  {
   "cell_type": "markdown",
   "metadata": {},
   "source": [
    "Can be used to open a file, execute statements on the file, then automatically close the file.\n",
    "\n",
    "It is GOOD PRACTICE to use these.\n"
   ]
  },
  {
   "cell_type": "code",
   "execution_count": 1,
   "metadata": {},
   "outputs": [],
   "source": [
    "with open('data.py', 'a+') as file:\n",
    "    file.write('\\ntest = \"another string\"')\n",
    "    file.write('\\nprint(test)')\n"
   ]
  },
  {
   "cell_type": "markdown",
   "metadata": {},
   "source": [
    "### CSV Files\n"
   ]
  },
  {
   "cell_type": "markdown",
   "metadata": {},
   "source": [
    "Example CSV formatting:\n",
    "\n",
    "name,date,timein,timeout\n",
    "Dan,Feb22,1330,1345\n",
    "Steve,Feb22,1332,1335\n",
    "Sasha,Feb22,1501,1600\n",
    "\n",
    "The text above shows rows foreach newline and columns for each comma.\n",
    "\n",
    "Python has a standard library called `csv` that can be used to write/read CSV files. To do so, a \"reader\" object is required that will pass a file object created with `open()`. The object will be iterable, allowing a for loop to be used to return each row as a string list (row), each element being an item in that index/column.\n"
   ]
  },
  {
   "cell_type": "markdown",
   "metadata": {},
   "source": [
    "Reading...\n"
   ]
  },
  {
   "cell_type": "code",
   "execution_count": 23,
   "metadata": {},
   "outputs": [
    {
     "name": "stdout",
     "output_type": "stream",
     "text": [
      "['Name', 'Date', 'Time in', 'Time out']\n",
      "['Dan', '22 Feb', '1300', '1323']\n",
      "['Steve', '22 Feb', '1333', '1337']\n",
      "['Sasha', '22 Feb', '1520', '1530']\n",
      "['Daniel', '23 Feb', '0930', '1230']\n",
      "['Birdie', '23 Feb', '1030', '1430']\n",
      "['Daniel', '23 Feb', '0934', '1230']\n",
      "['Birdie', '23 Feb', '1030', '1430']\n",
      "[]\n",
      "Dan was in for 23 minutes.\n",
      "Steve was in for 4 minutes.\n",
      "Sasha was in for 10 minutes.\n",
      "Daniel was in for 3 hours and -4 minutes.\n",
      "Birdie was in for 4 hours.\n"
     ]
    }
   ],
   "source": [
    "import csv\n",
    "\n",
    "# Dict to store total time spent in facility\n",
    "presence = {}\n",
    "\n",
    "with open('testCsv.csv', 'r') as f:\n",
    "    reader = csv.reader(f, delimiter=',')\n",
    "    firstRow = True\n",
    "\n",
    "    for row in reader:\n",
    "        print(row)\n",
    "        # Skip the first row/headers\n",
    "        if firstRow:\n",
    "            firstRow = False\n",
    "            continue\n",
    "\n",
    "        # Unpacking the list\n",
    "        if row:\n",
    "            name, day, timeIn, timeOut = row\n",
    "\n",
    "        # FIXME: Below will not work for overnighters. Stop being lazy\n",
    "\n",
    "        # Get last two digits of each time\n",
    "        # FIXME: Having a higher number first returns negative number of minutes\n",
    "        minutesPresent = (int(timeOut) % 100) - (int(timeIn) % 100)\n",
    "\n",
    "        # Get first two digits of each time\n",
    "        hoursPresent = (int(timeOut) // 100) - (int(timeIn) // 100)\n",
    "        timePresent = (hoursPresent, minutesPresent)\n",
    "\n",
    "        presence[name] = timePresent\n",
    "\n",
    "\n",
    "for name, time in presence.items():\n",
    "    if time[0] == 0:\n",
    "        print(f\"{name} was in for {time[1]} minutes.\")\n",
    "    elif time[1] == 0:\n",
    "        print(f\"{name} was in for {time[0]} hours.\")\n",
    "    else:\n",
    "        print(f\"{name} was in for {time[0]} hours and {time[1]} minutes.\")\n"
   ]
  },
  {
   "cell_type": "markdown",
   "metadata": {},
   "source": [
    "Writing...\n"
   ]
  },
  {
   "cell_type": "code",
   "execution_count": 17,
   "metadata": {},
   "outputs": [],
   "source": [
    "import csv\n",
    "\n",
    "newData1 = [\"Daniel\", \"23 Feb\", \"0930\", \"1230\"]\n",
    "newData2 = [\"Birdie\", \"23 Feb\", \"1030\", \"1430\"]\n",
    "\n",
    "with open(\"testCsv.csv\", \"a\") as f:\n",
    "    # Create writer object\n",
    "    writer = csv.writer(f)\n",
    "\n",
    "    # Writing is performed with .writerow() method\n",
    "    writer.writerow(newData1)\n",
    "    writer.writerow(newData2)\n",
    "\n",
    "    # You can also pass a list of iterables to write with .writerows() -- plural.\n",
    "    writer.writerows([newData1, newData2])\n",
    "\n",
    "    reader = csv.reader(f, delimiter=\",\")\n"
   ]
  },
  {
   "cell_type": "markdown",
   "metadata": {},
   "source": [
    "## Classes\n"
   ]
  },
  {
   "cell_type": "markdown",
   "metadata": {},
   "source": [
    "### Objects\n"
   ]
  },
  {
   "cell_type": "markdown",
   "metadata": {},
   "source": [
    "Lower level things - kind of like materials, e.g. wood, stone, plastic, fabric, aluminum, etc.\n",
    "\n",
    "Higher level things - items made of lower level things (objects), e.g. cars, tables, stools, blankets, etc.\n",
    "\n",
    "In programming **objects** are groups of data (variables) and operations (functions or methods) that can be performed on that data. With OOP, programs are thought of as objects, not variable and functions.\n"
   ]
  },
  {
   "cell_type": "markdown",
   "metadata": {},
   "source": [
    "### Abstraction/Information Hiding\n"
   ]
  },
  {
   "cell_type": "markdown",
   "metadata": {},
   "source": [
    "Abstraction occurs when you interact with an object at a higher level, like the Windows HAL, in order to allow low-level details remain hidden. This can be like something with a car, where the driver doesn't know EXACTLY how the combustion engine works or what order the pistons fire in, nor the mL measurement of the fuel going through the carburetor and how much the air/gas flow is changed based on throttle. The just know that, when the gas pedal is pushed down, the car accelerates. The user also does not need to manually move any parts other than that pedal, as well.\n",
    "\n",
    "To relate this with programming, the car would be an example of an object and pushing the gas pedal would be a method. This supports abstraction by hiding most functions, like increasing carburetor airflow, and variables, like the drop-rate of gas, behind certain user-focused functions.\n",
    "\n",
    "An **abstract data type (ADT)** is a data type that is created and updated for specific, well-defined operations. A class, such as one for a car, can be used to implement ADT.\n"
   ]
  },
  {
   "cell_type": "markdown",
   "metadata": {},
   "source": [
    "### Grouping Data/Class Creation\n"
   ]
  },
  {
   "cell_type": "code",
   "execution_count": 7,
   "metadata": {},
   "outputs": [
    {
     "name": "stdout",
     "output_type": "stream",
     "text": [
      "I cast Storm Crow for 1U!\n",
      "Storm Crow has a manaValue of 2\n"
     ]
    }
   ],
   "source": [
    "class MagicCard:\n",
    "    # This will define what happens when the class is instantiated/the initial state of a new instance.\n",
    "    # This is the \"class constructor\" or \"constructor method.\"\n",
    "    def __init__(self):\n",
    "        # The \"self\" parameter will refer to the instance that was created, not a global instance\n",
    "        self.name = \"\"\n",
    "        self.manaCost = \"\"\n",
    "        self.type = \"\"\n",
    "        self.powerToughness = ()\n",
    "        self.rarity = \"\"\n",
    "        self.oracleText = \"\"\n",
    "\n",
    "    # Other functions can be defined as follows\n",
    "    def getManaValue(self):\n",
    "        # self.manaCost should always be formatted as \"X{C}\" where \"X\" is the total generic mana cost and \"{C}\" is each color in the mana cost.\n",
    "        return int(self.manaCost[0]) + len(self.manaCost[:1])\n",
    "\n",
    "\n",
    "# To use a class, it must be instantiated.\n",
    "card1 = MagicCard()\n",
    "\n",
    "# Use \"dot notation\"/\"member operators\"/\"attribute reference operators\"/the \".\" character to access attribs\n",
    "card1.name = \"Storm Crow\"\n",
    "card1.manaCost = \"1U\"\n",
    "\n",
    "print(f\"I cast {card1.name} for {card1.manaCost}!\")\n",
    "print(f\"{card1.name} has a mana value of {card1.getManaValue()}\")\n"
   ]
  },
  {
   "cell_type": "markdown",
   "metadata": {},
   "source": [
    "### Instance Methods\n"
   ]
  },
  {
   "cell_type": "markdown",
   "metadata": {},
   "source": [
    "Functions defined within classes are instance methods. They usually require self-referencing (param is \"self\") so that it will be bound to only its own instance.\n"
   ]
  },
  {
   "cell_type": "code",
   "execution_count": null,
   "metadata": {},
   "outputs": [],
   "source": [
    "class MagicCard:\n",
    "    # This will define what happens when the class is instantiated/the initial state of a new instance.\n",
    "    # This is the \"class constructor\" or \"constructor method.\"\n",
    "    def __init__(self):\n",
    "        # The \"self\" parameter will refer to the instance that was created, not a global instance\n",
    "        self.name = \"\"\n",
    "        self.manaCost = \"\"\n",
    "        self.type = \"\"\n",
    "        self.powerToughness = ()\n",
    "        self.rarity = \"\"\n",
    "        self.oracleText = \"\"\n",
    "        self.keywords = []\n",
    "        self.tapped = False\n",
    "\n",
    "    # Other functions can be defined as follows. This will be referred to as an \"instance method.\"\n",
    "    # Using \"self\" is required to keep the function operating in the instance it is being called for\n",
    "    def getManaValue(self):\n",
    "\n",
    "        # self.manaCost should always be formatted as \"X{C}\" where \"X\" is the total generic mana cost and \"{C}\" is each color in the mana cost.\n",
    "        return int(self.manaCost[0]) + len(self.manaCost[:1])\n",
    "\n",
    "    def attack(self, playerObject):\n",
    "        # Reference to non-existent class for example's sake.\n",
    "        playerObject.attack(self.name)\n",
    "\n",
    "        if \"vigilance\" not in self.keywords:\n",
    "            self.tapped = True\n"
   ]
  },
  {
   "cell_type": "markdown",
   "metadata": {},
   "source": [
    "### Class and Instance Object Types\n"
   ]
  },
  {
   "cell_type": "markdown",
   "metadata": {},
   "source": [
    "Class objects (`MagicCard`) are the \"factory\" used to make instance objects (`card1`).\n",
    "\n",
    "Class attributes are shared among ALL instances of the class (`cardBack`). It is defined within the class' scope.\n",
    "\n",
    "- Creating these can help prevent collisions with other global functions/variables\n",
    "\n",
    "Instance attributes are unique to each instance (`self.name` or `card1.name`)\n",
    "\n",
    "Instance and class namespaces are linked. If something is not found in the instance namespace, the class' will be searched.\n"
   ]
  },
  {
   "cell_type": "code",
   "execution_count": 11,
   "metadata": {},
   "outputs": [
    {
     "name": "stdout",
     "output_type": "stream",
     "text": [
      "cardBack.png cardBack.png\n"
     ]
    }
   ],
   "source": [
    "# Class object\n",
    "class MagicCard:\n",
    "    # This tab-level is only Class scope\n",
    "    # This tab-level is at least Instance scope if inside of class constructor\n",
    "\n",
    "    # Class attribute\n",
    "    cardBack = \"cardBack.png\"\n",
    "\n",
    "    # This will define what happens when the class is instantiated/the initial state of a new instance.\n",
    "    # This is the \"class constructor\" or \"constructor method.\"\n",
    "    def __init__(self):\n",
    "        # The \"self\" parameter will refer to the instance that was created, not a global instance\n",
    "        self.name = \"\"\n",
    "        self.manaCost = \"\"\n",
    "        self.type = \"\"\n",
    "        self.powerToughness = ()\n",
    "        self.rarity = \"\"\n",
    "        self.oracleText = \"\"\n",
    "        self.keywords = []\n",
    "        self.tapped = False\n",
    "\n",
    "    # Other functions can be defined as follows. This will be referred to as an \"instance method.\"\n",
    "    # Using \"self\" is required to keep the function operating in the instance it is being called for\n",
    "    def getManaValue(self):\n",
    "\n",
    "        # self.manaCost should always be formatted as \"X{C}\" where \"X\" is the total generic mana cost and \"{C}\" is each color in the mana cost.\n",
    "        return int(self.manaCost[0]) + len(self.manaCost[:1])\n",
    "\n",
    "    def attack(self, playerObject):\n",
    "        # Reference to non-existent class for example's sake.\n",
    "        playerObject.attack(self.name)\n",
    "\n",
    "        if \"vigilance\" not in self.keywords:\n",
    "            self.tapped = True\n",
    "\n",
    "\n",
    "# Instance object\n",
    "card1 = MagicCard()\n",
    "card1.name = \"Demonic Tutor\"\n",
    "print(MagicCard.cardBack, card1.cardBack)\n"
   ]
  },
  {
   "cell_type": "markdown",
   "metadata": {},
   "source": [
    "### Class Constructors\n"
   ]
  },
  {
   "cell_type": "markdown",
   "metadata": {},
   "source": [
    "The `def __init__(self):` thing can have more than just one param. See below.\n"
   ]
  },
  {
   "cell_type": "code",
   "execution_count": 15,
   "metadata": {},
   "outputs": [
    {
     "name": "stdout",
     "output_type": "stream",
     "text": [
      "I cast Ajani's Pridemate for 1W\n"
     ]
    }
   ],
   "source": [
    "\n",
    "class MagicCard:\n",
    "    cardBack = \"cardBack.png\"\n",
    "\n",
    "    # You can set up default param values with \"variable=value\" syntax\n",
    "    def __init__(self, cardName=None, manaCost=0):\n",
    "        self.name = cardName\n",
    "        self.manaCost = manaCost.upper()\n",
    "        self.type = \"\"\n",
    "        self.powerToughness = ()\n",
    "        self.rarity = \"\"\n",
    "        self.oracleText = \"\"\n",
    "        self.keywords = []\n",
    "        self.tapped = False\n",
    "        self.zone = 0\n",
    "        # 0 = library\n",
    "        # 1 = hand\n",
    "        # 2 = stack\n",
    "        # 3 = battlefield\n",
    "        # 4 = graveyard\n",
    "        # 5 = exile\n",
    "        # 6 = command\n",
    "\n",
    "    def getManaValue(self):\n",
    "        # self.manaCost should always be formatted as \"X{C}\" where \"X\" is the total generic mana cost and \"{C}\" is each color in the mana cost.\n",
    "        return int(self.manaCost[0]) + len(self.manaCost[:1])\n",
    "\n",
    "    def attack(self, playerObject):\n",
    "        pass\n",
    "\n",
    "\n",
    "card1 = MagicCard(\"Ajani's Pridemate\", \"1W\")\n",
    "\n",
    "print(\"I cast\", card1.name, \"for\", card1.manaCost)\n"
   ]
  },
  {
   "cell_type": "markdown",
   "metadata": {},
   "source": [
    "### Class Interfaces\n"
   ]
  },
  {
   "cell_type": "markdown",
   "metadata": {},
   "source": [
    "A class interface has methods that can be called to access, modify, or create a class instance. It is good practice to keep the implementation (functions and variables) of a class separate from the interface, as well.\n",
    "\n",
    "**Basically**, you don't want to create an object of a class, then manually modify everything. If anything needs to be modified, make it a function for the user!\n"
   ]
  },
  {
   "cell_type": "code",
   "execution_count": 52,
   "metadata": {},
   "outputs": [
    {
     "name": "stdout",
     "output_type": "stream",
     "text": [
      "I cast Vampire Nighthawk for 1BB\n",
      "\n",
      "Vampire Nighthawk\t1BB\n",
      "Creature - Vampire Shaman\n",
      "Flying Deathtouch Lifelink\n",
      "(2, 3)\n",
      "I cast Child of Night for 1B\n",
      "\n",
      "Child of Night\t1B\n",
      "Creature - Vampire\n",
      "Lifelink\n",
      "(2, 1)\n",
      "Vampire Nighthawk blocks Child of Night\n",
      "0 4\n"
     ]
    }
   ],
   "source": [
    "\n",
    "class MagicCard:\n",
    "    cardBack = \"cardBack.png\"\n",
    "    keywordBank = {\"deathtouch\", \"lifelink\", \"flying\", \"...\"}\n",
    "\n",
    "    # You can set up default param values with \"variable=value\" syntax\n",
    "    def __init__(self, cardName=None, oracleText=\"\", manaCost=None, powerToughness=(None, None), typeline=None, zone=0):\n",
    "        self.name = cardName\n",
    "        self.manaCost = manaCost.upper()\n",
    "        self.typeline = typeline\n",
    "        self.powerToughness = powerToughness\n",
    "        self.oracleText = oracleText\n",
    "        self.keywords = MagicCard._generateKeywords(self)\n",
    "        self.tapped = False\n",
    "        self.zone = zone\n",
    "        # 0 = library\n",
    "        # 1 = hand\n",
    "        # 2 = stack\n",
    "        # 3 = battlefield\n",
    "        # 4 = graveyard\n",
    "        # 5 = exile\n",
    "        # 6 = command\n",
    "\n",
    "    def getManaValue(self):\n",
    "        return int(self.manaCost[0]) + len(self.manaCost[:1])\n",
    "\n",
    "    def attack(self, playerObject):\n",
    "        pass\n",
    "\n",
    "    # Class interface example. Only really used by the programmer to do a certain thing. It is good practice to prepend an underscore\n",
    "    def _generateKeywords(self):\n",
    "        temp = []\n",
    "\n",
    "        for token in self.oracleText.split():\n",
    "            if token.lower() in MagicCard.keywordBank:\n",
    "                temp.append(token)\n",
    "\n",
    "        return temp\n",
    "\n",
    "\n",
    "card1 = MagicCard(\n",
    "    cardName=\"Vampire Nighthawk\",\n",
    "    oracleText=\"Flying Deathtouch Lifelink\",\n",
    "    manaCost=\"1BB\",\n",
    "    powerToughness=(2, 3),\n",
    "    typeline=\"Creature - Vampire Shaman\"\n",
    ")\n",
    "\n",
    "print(\"I cast\", card1.name, \"for\", card1.manaCost)\n",
    "print(f\"\\n{card1}\")\n"
   ]
  },
  {
   "cell_type": "markdown",
   "metadata": {},
   "source": [
    "A class may also contain methods used internally that a user of the class need not access. For example, consider if the RaceTime class contains a separate method \\_diff_time() used by print_time() and print_pace() to find the total number of minutes to complete the race. A programmer using the RaceTime class does not need to use the \\_diff_time() function directly; thus, \\_diff_time() does not need to be a part of the class interface. Good practice is to prepend an underscore to methods only used internally by a class. The underscore is a widely recognized convention, but otherwise has no special syntactic meaning. A programmer could still call the method, e.g. time1.\\_diff_time(), though such usage should be unnecessary if the class interface is well-designed.\n",
    "\n",
    "Programmers commonly refer to separating an object's interface from its implementation (internal methods and variables); the user of an object need only know the object's interface.\n",
    "\n",
    "Internal methods used by the class should start with an underscore in their name.\n"
   ]
  },
  {
   "cell_type": "markdown",
   "metadata": {},
   "source": [
    "### Class customization\n"
   ]
  },
  {
   "cell_type": "markdown",
   "metadata": {},
   "source": [
    "You can change how certain things will work, such as when you are trying to print the class as a string or if you are performing comparisons on two of the same object.\n"
   ]
  },
  {
   "cell_type": "code",
   "execution_count": 60,
   "metadata": {},
   "outputs": [
    {
     "name": "stdout",
     "output_type": "stream",
     "text": [
      "I cast Vampire Nighthawk for 1BB\n",
      "\n",
      "Vampire Nighthawk\t1BB\n",
      "Creature - Vampire Shaman\n",
      "Flying Deathtouch Lifelink\n",
      "(2, 3)\n",
      "\n",
      "I cast Child of Night for 1B\n",
      "\n",
      "Child of Night\t1B\n",
      "Creature - Vampire\n",
      "Lifelink\n",
      "(2, 1)\n",
      "Vampire Nighthawk blocks Child of Night\n",
      "0 4\n"
     ]
    }
   ],
   "source": [
    "\n",
    "class MagicCard:\n",
    "    cardBack = \"cardBack.png\"\n",
    "    keywordBank = {\"deathtouch\", \"lifelink\", \"flying\", \"...\"}\n",
    "\n",
    "    # You can set up default param values with \"variable=value\" syntax\n",
    "    def __init__(self, cardName=None, oracleText=\"\", manaCost=None, powerToughness=(None, None), typeline=None, zone=0):\n",
    "        self.name = cardName\n",
    "        self.manaCost = manaCost.upper()\n",
    "        self.typeline = typeline\n",
    "        self.powerToughness = powerToughness\n",
    "        self.oracleText = oracleText\n",
    "        self.keywords = MagicCard._generateKeywords(self)\n",
    "        self.tapped = False\n",
    "        self.zone = zone\n",
    "        # 0 = library\n",
    "        # 1 = hand\n",
    "        # 2 = stack\n",
    "        # 3 = battlefield\n",
    "        # 4 = graveyard\n",
    "        # 5 = exile\n",
    "        # 6 = command\n",
    "\n",
    "    # You can determine what will happen when a certain operation will be performed on a class, such as when it's treated as a string (during printing, etc.)\n",
    "    def __str__(self):\n",
    "        return f\"{self.name}\\t{self.manaCost}\\n{self.typeline}\\n{self.oracleText}\\n{self.powerToughness}\"\n",
    "\n",
    "    # You can also overload operators to change how they would function! This is also called \"rich comparison methods\"\n",
    "    def __lt__(self, other):\n",
    "        # FIXME: This probably is not a great way to do it and it gets too complicated when factoring in deathtouch, first strike, etc.\n",
    "        if self.powerToughness[1] < other.powerToughness[0]:\n",
    "            # Move to graveyard\n",
    "            return True\n",
    "\n",
    "    def __gt__(self, other):\n",
    "        if self.powerToughness[0] > other.powerToughness[1]:\n",
    "            # Move to graveyard\n",
    "            return True\n",
    "\n",
    "    def moveZones(self, newZone):\n",
    "        self.zone = newZone\n",
    "\n",
    "    def getManaValue(self):\n",
    "        return int(self.manaCost[0]) + len(self.manaCost[:1])\n",
    "\n",
    "    def _generateKeywords(self):\n",
    "        temp = []\n",
    "        for token in self.oracleText.split():\n",
    "            if token.lower() in MagicCard.keywordBank:\n",
    "                temp.append(token)\n",
    "        return temp\n",
    "\n",
    "\n",
    "card1 = MagicCard(\n",
    "    cardName=\"Vampire Nighthawk\",\n",
    "    oracleText=\"Flying Deathtouch Lifelink\",\n",
    "    manaCost=\"1BB\",\n",
    "    powerToughness=(2, 3),\n",
    "    typeline=\"Creature - Vampire Shaman\"\n",
    ")\n",
    "\n",
    "card2 = MagicCard(\n",
    "    cardName=\"Child of Night\",\n",
    "    oracleText=\"Lifelink\",\n",
    "    manaCost=\"1B\",\n",
    "    powerToughness=(2, 1),\n",
    "    typeline=\"Creature - Vampire\"\n",
    ")\n",
    "\n",
    "print(\"I cast\", card1.name, \"for\", card1.manaCost)\n",
    "print(f\"\\n{card1}\")\n",
    "\n",
    "print(\"\\nI cast\", card2.name, \"for\", card2.manaCost)\n",
    "print(f\"\\n{card2}\")\n",
    "\n",
    "print(card1.name, \"blocks\", card2.name)\n",
    "\n",
    "# Perform the overloaded operation\n",
    "if card1 < card2:\n",
    "    card1.moveZones(4)\n",
    "\n",
    "if card1 > card2:\n",
    "    card2.moveZones(4)\n",
    "\n",
    "print(card1.zone, card2.zone)\n"
   ]
  },
  {
   "cell_type": "markdown",
   "metadata": {},
   "source": [
    "Rich comparison method ---> Overloaded operator\n",
    "\n",
    "`__lt__(self, other)` ---> less-than (<)\n",
    "\n",
    "`__le__(self, other)` ---> less-than or equal-to (<=)\n",
    "\n",
    "`__gt__(self, other)` ---> greater-than (>)\n",
    "\n",
    "`__ge__(self, other)` ---> greater-than or equal-to (>=)\n",
    "\n",
    "`__eq__(self, other)` ---> equal to (==)\n",
    "\n",
    "`__ne__(self, other)` ---> not-equal to (!=)\n"
   ]
  },
  {
   "cell_type": "markdown",
   "metadata": {},
   "source": [
    "### More Operator Overloading\n"
   ]
  },
  {
   "cell_type": "markdown",
   "metadata": {},
   "source": [
    "Numeric operators (+, -, \\*, /) can be overloaded with class customization techniques, too. Overloaded operations will be executed whenever the left side of the operator is an object of the given class, which could potentially cause errors (`ClassObjectExample1 + 2` instead of `ClassObjectExample1 + ClassObjectExample2`).\n",
    "\n",
    "Issues like the one described above can be worked out/prevented with the `isinstance()` function and used in an `if` statement as detailed below since a boolean will be returned based on if the variables match the given types.\n",
    "\n",
    "`__add__(self, other)` --> Add (+)\n",
    "\n",
    "`__sub__(self, other)` --> Subtract (-)\n",
    "\n",
    "`__mul__(self, other)` --> Multiply (\\*)\n",
    "\n",
    "`__truediv__(self, other)` --> Divide (/)\n",
    "\n",
    "`__floordiv__(self, other)` --> Floored division (//)\n",
    "\n",
    "`__mod__(self, other)` --> Modulus (%)\n",
    "\n",
    "`__pow__(self, other)` --> Exponentiation (\\*\\*)\n",
    "\n",
    "`__and__(self, other)` --> \"and\" logical operator\n",
    "\n",
    "`__or__(self, other)` --> \"or\" logical operator\n",
    "\n",
    "`__abs__(self)` --> Absolute value (abs())\n",
    "\n",
    "`__int__(self)` --> Convert to integer (int())\n",
    "\n",
    "`__float__(self)` --> Convert to floating point (float())\n"
   ]
  },
  {
   "cell_type": "code",
   "execution_count": 4,
   "metadata": {},
   "outputs": [
    {
     "name": "stdout",
     "output_type": "stream",
     "text": [
      "Time difference: 09:10\n"
     ]
    }
   ],
   "source": [
    "# Copied from ZyBooks\n",
    "\n",
    "class Time24:\n",
    "    def __init__(self, hours, minutes):\n",
    "        self.hours = hours\n",
    "        self.minutes = minutes\n",
    "\n",
    "    def __str__(self):\n",
    "        return '{:02d}:{:02d}'.format(self.hours, self.minutes)\n",
    "\n",
    "    def __gt__(self, other):\n",
    "        if self.hours > other.hours:\n",
    "            return True\n",
    "        else:\n",
    "            if self.hours == other.hours:\n",
    "                if self.minutes > other.minutes:\n",
    "                    return True\n",
    "        return False\n",
    "\n",
    "    # Overload the subtraction operator\n",
    "    def __sub__(self, other):\n",
    "        if isinstance(other, int):  # right op is integer\n",
    "            return Time24(self.hours - other, self.minutes)\n",
    "\n",
    "        if isinstance(other, Time24):  # right op is Time24\n",
    "            if self > other:\n",
    "                larger = self\n",
    "                smaller = other\n",
    "            else:\n",
    "                larger = other\n",
    "                smaller = self\n",
    "\n",
    "            hrs = larger.hours - smaller.hours\n",
    "            mins = larger.minutes - smaller.minutes\n",
    "            if mins < 0:\n",
    "                mins += 60\n",
    "                hrs -= 1\n",
    "\n",
    "            # Check if times wrap to new day\n",
    "            if hrs > 12:\n",
    "                hrs = 24 - (hrs + 1)\n",
    "                mins = 60 - mins\n",
    "\n",
    "            # Return new Time24 instance\n",
    "            return Time24(hrs, mins)\n",
    "\n",
    "        print('{} unsupported'.format(type(other)))\n",
    "        raise NotImplementedError\n",
    "\n",
    "\n",
    "t1 = \"10:30\"  # input('Enter time1 (hours:minutes): ')\n",
    "tokens = t1.split(':')\n",
    "time1 = Time24(int(tokens[0]), int(tokens[1]))\n",
    "\n",
    "t2 = \"19:40\"  # input('Enter time2 (hours:minutes): ')\n",
    "tokens = t2.split(':')\n",
    "time2 = Time24(int(tokens[0]), int(tokens[1]))\n",
    "\n",
    "print('Time difference:', time1 - time2)\n"
   ]
  },
  {
   "cell_type": "markdown",
   "metadata": {},
   "source": [
    "### Memory Allocation and Garbage Collection\n"
   ]
  },
  {
   "cell_type": "markdown",
   "metadata": {},
   "source": [
    "**Memory Allocation:** Python allocates memory for you! The Python runtime will request memory from the OS and then uses it!\n",
    "\n",
    "**Garbage Collection:** objects are deallocated automatically by the Python runtime. When an object is not being referenced by any other variables, it becomes a candidate for such destruction. \"Reference count\" is an int counter that shows how many variables reference an object, which may signify to the runtime to collect some garbage if it's set to 0. It doesn't happen immediately but it does happen at some point.\n"
   ]
  },
  {
   "cell_type": "markdown",
   "metadata": {},
   "source": [
    "## Recursion\n"
   ]
  },
  {
   "cell_type": "markdown",
   "metadata": {},
   "source": [
    "Functions calling other functions, even itself, make them **recursive functions**.\n"
   ]
  },
  {
   "cell_type": "code",
   "execution_count": 3,
   "metadata": {},
   "outputs": [
    {
     "name": "stdout",
     "output_type": "stream",
     "text": [
      "5\n",
      "4\n",
      "3\n",
      "2\n",
      "1\n",
      "Go!\n"
     ]
    }
   ],
   "source": [
    "def countDown(count):\n",
    "    if count == 0:\n",
    "        print(\"Go!\")\n",
    "    else:\n",
    "        print(count)\n",
    "        countDown(count - 1)\n",
    "\n",
    "\n",
    "countDown(5)\n"
   ]
  },
  {
   "cell_type": "markdown",
   "metadata": {},
   "source": [
    "### Recursive Search\n"
   ]
  },
  {
   "cell_type": "markdown",
   "metadata": {},
   "source": [
    "Some algorithms have distinct steps:\n",
    "\n",
    "- Make instant hot cocoa\n",
    "\n",
    "  - Get cup\n",
    "\n",
    "  - Get milk\n",
    "\n",
    "  - Milk >> cup\n",
    "\n",
    "  - Get microwave\n",
    "\n",
    "  - Cup >> microwave\n",
    "\n",
    "  - Turn on microwave\n",
    "\n",
    "  - Get powder\n",
    "\n",
    "  - Powder >> cup of warm milk\n",
    "\n",
    "  - Stir\n",
    "\n",
    "  - Enjoy\n",
    "\n",
    "Some have recursive steps, or consist of the same thing being done in a reduced scope:\n",
    "\n",
    "- _Mow_ the lawn\n",
    "  - _Mow_ frontyard\n",
    "    - _Mow_ left front\n",
    "    - _Mow_ right front\n",
    "  - _Mow_ backyard\n",
    "    - _Mow_ left back\n",
    "    - _Mow_ right back\n"
   ]
  },
  {
   "cell_type": "markdown",
   "metadata": {},
   "source": [
    "### Binary Search\n"
   ]
  },
  {
   "cell_type": "markdown",
   "metadata": {},
   "source": [
    "Playing a guessing game of trying to find a hidden number is a really good example of this algorithm:\n",
    "\n",
    "**Guess a hidden number from 0-100. The only hints are \"higher\" or \"lower.\"** The best way to do this would not be to brute force starting at 0, 1, 2, ..., nor to move up by 10's until you hear lower, then decrement down from the highest know number. A better way, instead, is to choose the midpoint, then the 1/4 mark if it's lower than mid point and 3/4 mark if it's higher.\n",
    "\n",
    "Ex. Num is 32:\n",
    "\n",
    "Guess 1: 50 (lower)\n",
    "\n",
    "    range becomes 0-49 - midpoint round up to 25 ((0 + 49) / 2)\n",
    "\n",
    "Guess 2: 25 (higher)\n",
    "\n",
    "    range becomes 26-49 - midpoint rounds up to 38 ((26 + 49) / 2)\n",
    "\n",
    "Guess 3: 38 (lower)\n",
    "\n",
    "    range becomes 26-37 - midpoint rounds up to 32 ((26 + 37) / 2)\n"
   ]
  },
  {
   "cell_type": "code",
   "execution_count": 5,
   "metadata": {},
   "outputs": [
    {
     "name": "stdout",
     "output_type": "stream",
     "text": [
      "Choose a number from 0 to 100 and I will guess it.\n",
      "Answer with:\n",
      "l (you number is lower)\n",
      "h (you number is higher)\n",
      "y (guess is correct)\n",
      "Nailed it!\n"
     ]
    }
   ],
   "source": [
    "def find(low, high):\n",
    "    mid = (low + high) // 2\n",
    "    answer = input(f\"Is it {mid}? (l/h/y):\")\n",
    "\n",
    "    if answer != \"l\" and answer != \"h\":\n",
    "        print(\"Nailed it!\")\n",
    "    else:\n",
    "        if answer == \"l\":\n",
    "            find(low, mid)\n",
    "        else:\n",
    "            find(mid+1, high)\n",
    "\n",
    "\n",
    "print(\"Choose a number from 0 to 100 and I will guess it.\")\n",
    "print(\"Answer with:\\nl (you number is lower)\\nh (you number is higher)\\ny (guess is correct)\")\n",
    "\n",
    "find(0, 100)\n"
   ]
  },
  {
   "cell_type": "markdown",
   "metadata": {},
   "source": [
    "Recursive patterns require **base cases**, which will be checked for with `if` or `elif` statements. The `else` statement will have the recursive call(s). When performing searches, imagine that the program is looking through a window that it makes smaller to refine the search more and more.\n"
   ]
  },
  {
   "cell_type": "markdown",
   "metadata": {},
   "source": [
    "## Labs\n"
   ]
  },
  {
   "cell_type": "markdown",
   "metadata": {},
   "source": [
    "### Divide by x\n"
   ]
  },
  {
   "cell_type": "code",
   "execution_count": 16,
   "metadata": {},
   "outputs": [
    {
     "name": "stdout",
     "output_type": "stream",
     "text": [
      "1 0 0\n"
     ]
    }
   ],
   "source": [
    "'''\n",
    "Write a program using integers user_num and x as input, and output user_num divided by x three times.\n",
    "Ex: If the input is:\n",
    "2000\n",
    "2\n",
    "\n",
    "Then the output is:\n",
    "500 500 250\n",
    "'''\n",
    "\n",
    "user_num = int(input())\n",
    "x = int(input())\n",
    "once = user_num // x\n",
    "twice = once // x\n",
    "thrice = twice // x\n",
    "\n",
    "print(once, twice, thrice)\n"
   ]
  },
  {
   "cell_type": "markdown",
   "metadata": {},
   "source": [
    "### Expression for burning calories during workout\n"
   ]
  },
  {
   "cell_type": "code",
   "execution_count": null,
   "metadata": {},
   "outputs": [],
   "source": [
    "''' Women: Calories = ((Age x 0.074) - (Weight x 0.05741) + (Heart Rate x 0.4472) - 20.4022) x Time / 4.184 '''\n",
    "''' Men: Calories = ((Age x 0.2017) + (Weight x 0.09036) + (Heart Rate x 0.6309) - 55.0969) x Time / 4.184 '''\n",
    "''' Write a program using inputs age (years), weight (pounds), heart rate (beats per minute), and time (minutes), respectively. Output calories burned for women and men. '''\n",
    "age = int(input(\"Please provide an age in years:\"))\n",
    "weight = int(input(\"Please provide a weight in pounds:\"))\n",
    "heartRate = int(input(\"Please provide a heart rate in BPM:\"))\n",
    "time = int(input(\"Please input a time in minutes:\"))\n",
    "\n",
    "femaleCals = ((age * 0.074) - (weight * 0.05741) +\n",
    "              (heartRate * 0.4472) - 20.4022) * time / 4.184\n",
    "maleCals = ((age * 0.2017) + (weight * 0.09036) +\n",
    "            (heartRate * 0.6309) - 55.0969) * time / 4.184\n",
    "\n",
    "print('Women: {:.2f} calories'.format(femaleCals))\n",
    "print('Men: {:.2f} calories'.format(maleCals))\n"
   ]
  },
  {
   "cell_type": "markdown",
   "metadata": {},
   "source": [
    "### Using math funcs\n"
   ]
  },
  {
   "cell_type": "code",
   "execution_count": null,
   "metadata": {},
   "outputs": [],
   "source": [
    "import math\n",
    "x = float(input())\n",
    "y = float(input())\n",
    "z = float(input())\n",
    "\n",
    "value1 = x ** z\n",
    "value2 = math.pow(x, (y ** z))\n",
    "value3 = math.fabs(x - y)\n",
    "value4 = math.sqrt(x ** z)\n",
    "\n",
    "print('{:.2f} {:.2f} {:.2f} {:.2f}'.format(value1, value2, value3, value4))\n"
   ]
  },
  {
   "cell_type": "markdown",
   "metadata": {},
   "source": [
    "### Musical note frequencies\n"
   ]
  },
  {
   "cell_type": "code",
   "execution_count": null,
   "metadata": {},
   "outputs": [],
   "source": [
    "''' \n",
    "On a piano, a key has a frequency, say f0. Each higher key (black or white) has a frequency of f0 * r^n where n is the distance (number of keys) from that key, and r is 2^(1/12).\n",
    "Given an initial key frequency, output that frequency and the next 4 higher key frequencies.\n",
    "'''\n",
    "import math\n",
    "frequency = int(input())\n",
    "r = math.pow(2, (1/12))\n",
    "# TODO:LOOPS, GIMME LOOPS\n",
    "value1 = frequency\n",
    "value2 = frequency * (r ** 1)\n",
    "value3 = frequency * (r ** 2)\n",
    "value4 = frequency * (r ** 3)\n",
    "value5 = frequency * (r ** 4)\n",
    "\n",
    "print('{:.2f} {:.2f} {:.2f} {:.2f} {:.2f}'.format(\n",
    "    value1, value2, value3, value4, value5))\n"
   ]
  },
  {
   "cell_type": "markdown",
   "metadata": {},
   "source": [
    "### Caffeine Levels Throughout a Day\n"
   ]
  },
  {
   "cell_type": "code",
   "execution_count": null,
   "metadata": {},
   "outputs": [],
   "source": [
    "'''\n",
    "A half-life is the amount of time it takes for a substance or entity to fall to \n",
    "half its original value. Caffeine has a half-life of about 6 hours in humans. \n",
    "Given caffeine amount (in mg) as input, output the caffeine level after 6, 12, \n",
    "and 24 hours.\n",
    "'''\n",
    "\n",
    "caffeine_mg = float(input())\n",
    "sixHoursAfter = caffeine_mg / 2\n",
    "twelveHoursAfter = sixHoursAfter / 2\n",
    "twentyFourHoursAfter = twelveHoursAfter / 4\n",
    "\n",
    "print(f'After 6 hours: {sixHoursAfter:.2f} mg')\n",
    "print(f'After 12 hours: {twelveHoursAfter:.2f} mg')\n",
    "print(f'After 24 hours: {twentyFourHoursAfter:.2f} mg')\n"
   ]
  },
  {
   "cell_type": "markdown",
   "metadata": {},
   "source": [
    "### Real Estate Summary\n"
   ]
  },
  {
   "cell_type": "code",
   "execution_count": null,
   "metadata": {},
   "outputs": [],
   "source": [
    "currentPrice = int(input())\n",
    "lastMonthPrice = int(input())\n",
    "\n",
    "print(f\"This house is ${currentPrice}. The change is ${currentPrice - lastMonthPrice} since last month.\\nThe estimated monthly mortgage is ${(currentPrice * 0.051) / 12:.2f}.\")\n"
   ]
  },
  {
   "cell_type": "markdown",
   "metadata": {},
   "source": [
    "### Simple Stats\n"
   ]
  },
  {
   "cell_type": "code",
   "execution_count": null,
   "metadata": {},
   "outputs": [],
   "source": [
    "'''\n",
    "Given 4 floating-point numbers. Use a string formatting expression with conversion specifiers to output their product and their average as integers (rounded), then as floating-point numbers.\n",
    "'''\n",
    "\n",
    "num1 = float(input())\n",
    "num2 = float(input())\n",
    "num3 = float(input())\n",
    "num4 = float(input())\n",
    "\n",
    "numsProduct = num1 * num2 * num3 * num4\n",
    "numsAvg = (num1 + num2 + num3 + num4) / 4\n",
    "\n",
    "print(f\"{round(numsProduct)}\", f\"{round(numsAvg)}\")\n",
    "print(f\"{numsProduct:.3f}\", f\"{numsAvg:.3f}\")\n"
   ]
  },
  {
   "cell_type": "markdown",
   "metadata": {},
   "source": [
    "### Interstate Highway Numbers\n"
   ]
  },
  {
   "cell_type": "markdown",
   "metadata": {},
   "source": [
    "US Interstates are numbered 1-99. Even numbers go East/West (I-90, I-80, etc.), odd numbers go North/South (I-25, I-5, etc.). Auxiliary highways are numbers 100-999 and the right-most digits indicate which interstate they service (I-405 services I-5, etc.).\n",
    "\n",
    "Given a highway number, indicate if it is primary or auxiliary, then if it's auxiliary, indicate the primary interstate it serves. Also note if the primary runs N, E, S, or W\n"
   ]
  },
  {
   "cell_type": "code",
   "execution_count": null,
   "metadata": {},
   "outputs": [],
   "source": [
    "highwayNum = int(input())\n",
    "direction = \"east/west\" if (highwayNum % 2 == 0) else \"north/south\"\n",
    "\n",
    "# Highways numbers cannot be negative, 1000+, or be over 99 and end with a 0 (there is no I-0)\n",
    "if (0 >= highwayNum > 999) or (highwayNum % 100 == 0):\n",
    "    print(f\"{highwayNum} is not a valid interstate highway number.\")\n",
    "elif highwayNum > 99:\n",
    "    print(\n",
    "        f\"I-{highwayNum} is auxiliary, serving I-{highwayNum % 100}, going {direction}.\")\n",
    "else:\n",
    "    print(f\"I-{highwayNum} is primary, going {direction}.\")\n"
   ]
  },
  {
   "cell_type": "markdown",
   "metadata": {},
   "source": [
    "### Seasons\n"
   ]
  },
  {
   "cell_type": "markdown",
   "metadata": {},
   "source": [
    "Write a program that takes a date as input and outputs the date's season. The input is a string to represent the month and an int to represent the day.\n"
   ]
  },
  {
   "cell_type": "code",
   "execution_count": null,
   "metadata": {},
   "outputs": [],
   "source": [
    "'''\n",
    "The dates for each season are:\n",
    "Spring: March 20 - June 20\n",
    "Summer: June 21 - September 21\n",
    "Autumn: September 22 - December 20\n",
    "Winter: December 21 - March 19\n",
    "'''\n",
    "\n",
    "\n",
    "def checkValidDateRange(month, day):\n",
    "\n",
    "    months31DaysLong = {\"January\", \"March\", \"May\",\n",
    "                        \"July\", \"August\", \"October\", \"December\"}\n",
    "    months30DaysLong = {\"April\", \"June\", \"September\", \"November\"}\n",
    "\n",
    "    if 0 < day < 32:\n",
    "        if (month in months31DaysLong) and (day < 32):\n",
    "            return True\n",
    "\n",
    "        if (month in months30DaysLong) and (day < 31):\n",
    "            return True\n",
    "\n",
    "        if (month == \"February\") and (day <= 28):\n",
    "            return True\n",
    "\n",
    "    return False\n",
    "\n",
    "\n",
    "inputMonth = input()\n",
    "inputDay = int(input())\n",
    "output = \"Invalid\"\n",
    "springMonths = {\"March\", \"April\", \"May\", \"June\"}\n",
    "summerMonths = {\"June\", \"July\", \"August\", \"September\"}\n",
    "autumnMonths = {\"September\", \"October\", \"November\", \"December\"}\n",
    "winterMonths = {\"December\", \"January\", \"February\", \"March\"}\n",
    "\n",
    "\n",
    "# Really obvious bug where the only the strings in the nested if block will produce valid results\n",
    "if (inputMonth in springMonths):\n",
    "    if ((inputMonth == \"March\" and inputDay >= 20) or (inputMonth == \"June\" and inputDay <= 20)) and checkValidDateRange(inputMonth, inputDay):\n",
    "        output = \"Spring\"\n",
    "    elif checkValidDateRange(inputMonth, inputDay):\n",
    "        output = \"Spring\"\n",
    "\n",
    "if (inputMonth in summerMonths):\n",
    "    if ((inputMonth == \"June\" and inputDay >= 21) or (inputMonth == \"September\" and inputDay <= 21)) and checkValidDateRange(inputMonth, inputDay):\n",
    "        output = \"Summer\"\n",
    "    elif checkValidDateRange(inputMonth, inputDay):\n",
    "        output = \"Summer\"\n",
    "\n",
    "if (inputMonth in autumnMonths):\n",
    "    if ((inputMonth == \"September\" and inputDay >= 22) or (inputMonth == \"December\" and inputDay <= 20)) and checkValidDateRange(inputMonth, inputDay):\n",
    "        output = \"Autumn\"\n",
    "    elif checkValidDateRange(inputMonth, inputDay):\n",
    "        output = \"Autumn\"\n",
    "\n",
    "if (inputMonth in winterMonths):\n",
    "    if ((inputMonth == \"December\" and inputDay >= 21) or (inputMonth == \"March\" and inputDay <= 19)) and checkValidDateRange(inputMonth, inputDay):\n",
    "        output = \"Winter\"\n",
    "    elif checkValidDateRange(inputMonth, inputDay):\n",
    "        output = \"Winter\"\n",
    "\n",
    "print(output)\n"
   ]
  },
  {
   "cell_type": "markdown",
   "metadata": {},
   "source": [
    "### Leap Year\n"
   ]
  },
  {
   "cell_type": "markdown",
   "metadata": {},
   "source": [
    "A year in the modern Gregorian Calendar consists of 365 days. In reality, the earth takes longer to rotate around the sun. To account for the difference in time, every 4 years, a leap year takes place. A leap year is when a year has 366 days: An extra day, February 29th. The requirements for a given year to be a leap year are:\n",
    "\n",
    "1. The year must be divisible by 4\n",
    "\n",
    "2. If the year is a century year (1700, 1800, etc.), the year must be evenly divisible by 400\n",
    "\n",
    "Some example leap years are 1600, 1712, and 2016.\n",
    "\n",
    "Write a program that takes in a year and determines whether that year is a leap year.\n"
   ]
  },
  {
   "cell_type": "code",
   "execution_count": null,
   "metadata": {},
   "outputs": [],
   "source": [
    "year = int(input())\n",
    "\n",
    "isLeapYear = False\n",
    "\n",
    "if year % 4 == 0 and year % 10 != 0:\n",
    "    isLeapYear = True\n",
    "elif year % 10 == 0 and year % 400 == 0:\n",
    "    isLeapYear = True\n",
    "\n",
    "if isLeapYear:\n",
    "    print(f\"{year} - leap year\")\n",
    "else:\n",
    "    print(f\"{year} - not a leap year\")\n"
   ]
  },
  {
   "cell_type": "markdown",
   "metadata": {},
   "source": [
    "### Golf Scores\n"
   ]
  },
  {
   "cell_type": "markdown",
   "metadata": {},
   "source": [
    "Golf scores record the number of strokes used to get the ball in the hole. The expected number of strokes varies from hole to hole and is called par (i.e. 3, 4, or 5). Each score's name is based on the actual strokes taken compared to par:\n",
    "\n",
    "- \"Eagle\": number of strokes is two less than par\n",
    "- \"Birdie\": number of strokes is one less than par\n",
    "- \"Par\": number of strokes equals par\n",
    "- \"Bogey\": number of strokes is one more than par\n",
    "\n",
    "Given two integers that represent par and the number of strokes used, write a program that prints the appropriate score name. Print \"Error\" if par is not 3, 4, or 5.\n"
   ]
  },
  {
   "cell_type": "code",
   "execution_count": null,
   "metadata": {},
   "outputs": [],
   "source": [
    "par = int(input())\n",
    "strokes = int(input())\n",
    "\n",
    "# Par can only be 3, 4, or 5\n",
    "if 3 <= par <= 5:\n",
    "    if strokes > par:\n",
    "        result = \"Bogey\"\n",
    "    elif strokes == par:\n",
    "        result = \"Par\"\n",
    "    elif strokes == par - 1:\n",
    "        result = \"Birdie\"\n",
    "    elif strokes == par - 2:\n",
    "        result = \"Eagle\"\n",
    "else:\n",
    "    result = \"Error\"\n",
    "\n",
    "print(result)\n"
   ]
  },
  {
   "cell_type": "markdown",
   "metadata": {},
   "source": [
    "Write a program that takes in a positive integer as input, and outputs a string of 1's and 0's representing the integer in binary. For an integer x, the algorithm is:\n",
    "\n",
    "_As long as x is greater than 0_\n",
    "\n",
    "- _Output x % 2 (remainder is either 0 or 1)_\n",
    "- _x = x // 2_\n",
    "\n",
    "Note: The above algorithm outputs the 0's and 1's in reverse order. You will need to write a second function to reverse the string. _(Unless you are cool)_\n",
    "\n",
    "Your program must define and call the following two functions. The function integer_to_reverse_binary() should return a string of 1's and 0's representing the integer in binary (in reverse. The function reverse_string() should return a string representing the input string in reverse.\n",
    "\n",
    "`def integer_to_reverse_binary(integer_value)`\n",
    "\n",
    "`def reverse_string(input_string)`\n"
   ]
  },
  {
   "cell_type": "markdown",
   "metadata": {},
   "source": [
    "### Convert to Binary\n"
   ]
  },
  {
   "cell_type": "markdown",
   "metadata": {},
   "source": [
    "Write a program that takes in a positive integer as input, and outputs a string of 1's and 0's representing the integer in binary. For an integer x, the algorithm is:\n",
    "\n",
    "As long as x is greater than 0\n",
    "\n",
    "- Output x modulo 2 (remainder is either 0 or 1)\n",
    "- Assign x with x divided by 2\n"
   ]
  },
  {
   "cell_type": "code",
   "execution_count": 16,
   "metadata": {},
   "outputs": [
    {
     "name": "stdout",
     "output_type": "stream",
     "text": [
      "10011\n"
     ]
    }
   ],
   "source": [
    "decimal = 19\n",
    "binary = \"\"\n",
    "\n",
    "# Dividing will never result in a result less than 0 unless the given number is casted as an int each time the loop iterates\n",
    "while int(decimal) > 0:\n",
    "    # Storing the binary-conversion string this way prevents it from having to be reversed later on.\n",
    "    # This works because it adds the old string to the end of the new string instead of doing it the other way around.\n",
    "    binary = str(int(decimal % 2)) + binary\n",
    "    decimal /= 2\n",
    "\n",
    "print(binary)\n"
   ]
  },
  {
   "cell_type": "markdown",
   "metadata": {},
   "source": [
    "### Password Modifier\n"
   ]
  },
  {
   "cell_type": "markdown",
   "metadata": {},
   "source": [
    "Many user-created passwords are simple and easy to guess. Write a program that takes a simple password and makes it stronger by replacing characters using the key below, and by appending \"!\" to the end of the input string.\n",
    "\n",
    "- i becomes 1\n",
    "- a becomes @\n",
    "- m becomes M\n",
    "- B becomes 8\n",
    "- s becomes $\n"
   ]
  },
  {
   "cell_type": "code",
   "execution_count": 1,
   "metadata": {},
   "outputs": [
    {
     "name": "stdout",
     "output_type": "stream",
     "text": [
      "Myp@$$word!\n"
     ]
    }
   ],
   "source": [
    "word = input()\n",
    "password = ''\n",
    "\n",
    "for c in word:\n",
    "    if c == 'i':\n",
    "        password += '1'\n",
    "    elif c == 'a':\n",
    "        password += '@'\n",
    "    elif c == 'm':\n",
    "        password += 'M'\n",
    "    elif c == 'B':\n",
    "        password += '8'\n",
    "    elif c == 's':\n",
    "        password += '$'\n",
    "    else:\n",
    "        password += c\n",
    "\n",
    "password += '!'\n",
    "\n",
    "print(password)\n"
   ]
  },
  {
   "cell_type": "markdown",
   "metadata": {},
   "source": [
    "### Brute Force Equation Solver\n"
   ]
  },
  {
   "cell_type": "markdown",
   "metadata": {},
   "source": [
    "Numerous engineering and scientific applications require finding solutions to a set of equations. Ex: 8x + 7y = 38 and 3x - 5y = -1 have a solution x = 3, y = 2. Given integer coefficients of two linear equations with variables x and y, use brute force to find an integer solution for x and y in the range -10 to 10.\n",
    "\n",
    "Ex: If the input is:\n",
    "\n",
    "`8`\n",
    "\n",
    "`7`\n",
    "\n",
    "`38`\n",
    "\n",
    "`3`\n",
    "\n",
    "`-5`\n",
    "\n",
    "`-1`\n",
    "\n",
    "Then the output is:\n",
    "\n",
    "`x = 3 , y = 2`\n",
    "\n",
    "Use this brute force approach:\n",
    "\n",
    "`For every value of x from -10 to 10`\n",
    "\n",
    "      For every value of y from -10 to 10\n",
    "\n",
    "            Check if the current x and y satisfy both equations. If so, output the solution, and finish.\n",
    "\n",
    "Ex: If no solution is found, output:\n",
    "\n",
    "`There is no solution`\n",
    "\n",
    "You can assume the two equations have no more than one solution.\n"
   ]
  },
  {
   "cell_type": "code",
   "execution_count": 6,
   "metadata": {},
   "outputs": [
    {
     "name": "stdout",
     "output_type": "stream",
     "text": [
      "There is no solution\n"
     ]
    }
   ],
   "source": [
    "''' Read in first equation, ax + by = c '''\n",
    "a = int(input())\n",
    "b = int(input())\n",
    "c = int(input())\n",
    "\n",
    "''' Read in second equation, dx + ey = f '''\n",
    "d = int(input())\n",
    "e = int(input())\n",
    "f = int(input())\n",
    "\n",
    "firstResult = False\n",
    "secondResult = False\n",
    "\n",
    "for x in range(-10, 10):\n",
    "    for y in range(-10, 10):\n",
    "        if (a * x + b * y == c) and (d * x + e * y == f):\n",
    "            firstResult = x\n",
    "            secondResult = y\n",
    "\n",
    "\n",
    "if firstResult and secondResult:\n",
    "    print(f\"x = {firstResult} , y = {secondResult}\")\n",
    "else:\n",
    "    print(\"There is no solution\")\n"
   ]
  },
  {
   "cell_type": "markdown",
   "metadata": {},
   "source": [
    "### Adjust values in a list by normalizing\n"
   ]
  },
  {
   "cell_type": "markdown",
   "metadata": {},
   "source": [
    "When analyzing data sets, such as data for human heights or for human weights, a common step is to adjust the data. This adjustment can be done by normalizing to values between 0 and 1, or throwing away outliers.\n",
    "\n",
    "For this program, adjust the values by dividing all values by the largest value. The input begins with an integer indicating the number of floating-point values that follow.\n",
    "\n",
    "Output each floating-point value with two digits after the decimal point, which can be achieved as follows:\n",
    "print('{:.2f}'.format(your_value))\n",
    "\n",
    "Ex: If the input is:\n",
    "\n",
    "`5`\n",
    "\n",
    "`30.0`\n",
    "\n",
    "`50.0`\n",
    "\n",
    "`10.0`\n",
    "\n",
    "`100.0`\n",
    "\n",
    "`65.0`\n",
    "\n",
    "the output is:\n",
    "\n",
    "`0.30`\n",
    "\n",
    "`0.50`\n",
    "\n",
    "`0.10`\n",
    "\n",
    "`1.00`\n",
    "\n",
    "`0.65`\n",
    "\n",
    "The 5 indicates that there are five floating-point values in the list, namely 30.0, 50.0, 10.0, 100.0, and 65.0. 100.0 is the largest value in the list, so each value is divided by 100.0.\n"
   ]
  },
  {
   "cell_type": "code",
   "execution_count": 23,
   "metadata": {},
   "outputs": [
    {
     "name": "stdout",
     "output_type": "stream",
     "text": [
      "1.00\n"
     ]
    }
   ],
   "source": [
    "numFloats = int(input())\n",
    "floatDict = {}\n",
    "\n",
    "for i in range(numFloats):\n",
    "    floatDict[i] = float(input())\n",
    "\n",
    "dictMax = max(floatDict.values())\n",
    "\n",
    "for i in floatDict:\n",
    "    floatDict[i] /= dictMax\n",
    "    print(f\"{floatDict[i]:.2f}\")\n"
   ]
  },
  {
   "cell_type": "markdown",
   "metadata": {},
   "source": [
    "### Driving Costs\n"
   ]
  },
  {
   "cell_type": "markdown",
   "metadata": {},
   "source": [
    "Write a program with a car's miles/gallon and gas dollars/gallon (both floats) as input, and output the gas cost for 10 miles, 50 miles, and 400 miles.\n",
    "\n",
    "Output each floating-point value with two digits after the decimal point, which can be achieved as follows:\n",
    "\n",
    "`print('{:.2f}'.format(your_value))`\n",
    "\n",
    "Your program must define and call the following driving_cost() function. Given input parameters driven_miles, miles_per_gallon, and dollars_per_gallon, the function returns the dollar cost to drive those miles.\n",
    "\n",
    "`def driving_cost(driven_miles, miles_per_gallon, dollars_per_gallon)`\n",
    "\n",
    "Your program should call the function three times to determine the gas cost for 10 miles, 50 miles, and 400 miles.\n"
   ]
  },
  {
   "cell_type": "code",
   "execution_count": 28,
   "metadata": {},
   "outputs": [
    {
     "ename": "ValueError",
     "evalue": "could not convert string to float: 'i hate this'",
     "output_type": "error",
     "traceback": [
      "\u001b[1;31m---------------------------------------------------------------------------\u001b[0m",
      "\u001b[1;31mValueError\u001b[0m                                Traceback (most recent call last)",
      "\u001b[1;32m~\\AppData\\Local\\Temp/ipykernel_6408/3841387957.py\u001b[0m in \u001b[0;36m<module>\u001b[1;34m\u001b[0m\n\u001b[0;32m      4\u001b[0m \u001b[1;32mif\u001b[0m \u001b[0m__name__\u001b[0m \u001b[1;33m==\u001b[0m \u001b[1;34m'__main__'\u001b[0m\u001b[1;33m:\u001b[0m\u001b[1;33m\u001b[0m\u001b[1;33m\u001b[0m\u001b[0m\n\u001b[0;32m      5\u001b[0m     \u001b[1;31m# Type your code here.\u001b[0m\u001b[1;33m\u001b[0m\u001b[1;33m\u001b[0m\u001b[0m\n\u001b[1;32m----> 6\u001b[1;33m     \u001b[0minput_mpg\u001b[0m \u001b[1;33m=\u001b[0m \u001b[0mfloat\u001b[0m\u001b[1;33m(\u001b[0m\u001b[0minput\u001b[0m\u001b[1;33m(\u001b[0m\u001b[1;33m)\u001b[0m\u001b[1;33m)\u001b[0m\u001b[1;33m\u001b[0m\u001b[1;33m\u001b[0m\u001b[0m\n\u001b[0m\u001b[0;32m      7\u001b[0m     \u001b[0minput_price\u001b[0m \u001b[1;33m=\u001b[0m \u001b[0mfloat\u001b[0m\u001b[1;33m(\u001b[0m\u001b[0minput\u001b[0m\u001b[1;33m(\u001b[0m\u001b[1;33m)\u001b[0m\u001b[1;33m)\u001b[0m\u001b[1;33m\u001b[0m\u001b[1;33m\u001b[0m\u001b[0m\n\u001b[0;32m      8\u001b[0m     \u001b[0mprint\u001b[0m\u001b[1;33m(\u001b[0m\u001b[1;34mf\"{driving_cost(10, input_mpg, input_price):.2f}\"\u001b[0m\u001b[1;33m)\u001b[0m\u001b[1;33m\u001b[0m\u001b[1;33m\u001b[0m\u001b[0m\n",
      "\u001b[1;31mValueError\u001b[0m: could not convert string to float: 'i hate this'"
     ]
    }
   ],
   "source": [
    "def driving_cost(driven_miles, miles_per_gallon, dollars_per_gallon):\n",
    "    return (driven_miles / miles_per_gallon) * dollars_per_gallon\n",
    "\n",
    "\n",
    "if __name__ == '__main__':\n",
    "    # Type your code here.\n",
    "    input_mpg = float(input())\n",
    "    input_price = float(input())\n",
    "    print(f\"{driving_cost(10, input_mpg, input_price):.2f}\")\n",
    "    print(f\"{driving_cost(50, input_mpg, input_price):.2f}\")\n",
    "    print(f\"{driving_cost(400, input_mpg, input_price):.2f}\")\n"
   ]
  },
  {
   "cell_type": "markdown",
   "metadata": {},
   "source": [
    "### Step Counter\n"
   ]
  },
  {
   "cell_type": "markdown",
   "metadata": {},
   "source": [
    "A pedometer treats walking 1 step as walking 2.5 feet. Define a function named feet_to_steps that takes a float as a parameter, representing the number of feet walked, and returns an integer that represents the number of steps walked. Then, write a main program that reads the number of feet walked as an input, calls function feet_to_steps() with the input as an argument, and outputs the number of steps.\n",
    "\n",
    "Use floating-point arithmetic to perform the conversion.\n"
   ]
  },
  {
   "cell_type": "code",
   "execution_count": 1,
   "metadata": {},
   "outputs": [
    {
     "name": "stdout",
     "output_type": "stream",
     "text": [
      "60\n"
     ]
    }
   ],
   "source": [
    "def feet_to_steps(user_feet):\n",
    "    return int(user_feet / 2.5)\n",
    "\n",
    "\n",
    "if __name__ == '__main__':\n",
    "    feet_traveled = float(input())\n",
    "    print(feet_to_steps(feet_traveled))\n"
   ]
  },
  {
   "cell_type": "markdown",
   "metadata": {},
   "source": [
    "### Convert to Binary... Again\n"
   ]
  },
  {
   "cell_type": "code",
   "execution_count": 20,
   "metadata": {},
   "outputs": [
    {
     "name": "stdout",
     "output_type": "stream",
     "text": [
      "10011\n"
     ]
    }
   ],
   "source": [
    "def reverse_string(input_string):\n",
    "    # This is annoying that this has to exist since this can be done without another function.\n",
    "    reversed_string = \"\"\n",
    "    for c in input_string:\n",
    "        reversed_string = c + reversed_string\n",
    "    return reversed_string\n",
    "\n",
    "\n",
    "def integer_to_reverse_binary(integer_value):\n",
    "    reverse_value = \"\"\n",
    "    while integer_value > 0:\n",
    "        # You can mitigate the need for reversing this string just by doing x = str(x % 2) + x\n",
    "        reverse_value += str(integer_value % 2)\n",
    "        integer_value = integer_value // 2\n",
    "\n",
    "    return reverse_string(reverse_value)\n",
    "\n",
    "\n",
    "if __name__ == \"__main__\":\n",
    "    print(integer_to_reverse_binary(int(input())))\n"
   ]
  },
  {
   "cell_type": "markdown",
   "metadata": {},
   "source": [
    "### Swap Values\n"
   ]
  },
  {
   "cell_type": "code",
   "execution_count": 23,
   "metadata": {},
   "outputs": [
    {
     "name": "stdout",
     "output_type": "stream",
     "text": [
      "420 69\n"
     ]
    }
   ],
   "source": [
    "def swapValues(val1, val2):\n",
    "    return val2, val1\n",
    "\n",
    "\n",
    "if __name__ == '__main__':\n",
    "    # Type your code here. Your code must call the function.\n",
    "    swap1, swap2 = swapValues(69, 420)\n",
    "    print(swap1, swap2)\n"
   ]
  },
  {
   "cell_type": "markdown",
   "metadata": {},
   "source": [
    "### Name Format\n"
   ]
  },
  {
   "cell_type": "code",
   "execution_count": 1,
   "metadata": {},
   "outputs": [
    {
     "name": "stdout",
     "output_type": "stream",
     "text": [
      "Sayers, E.R.\n"
     ]
    }
   ],
   "source": [
    "def printNameFormat(name):\n",
    "    nameList = name.split()\n",
    "\n",
    "    if len(nameList) == 2:\n",
    "        print(f\"{nameList[1]}, {(nameList[0])[0]}.\")\n",
    "\n",
    "    if len(nameList) == 3:\n",
    "        print(f\"{nameList[2]}, {(nameList[0])[0]}.{(nameList[1])[0]}.\")\n",
    "\n",
    "\n",
    "printNameFormat(\"Every Rainbow Sayers\")\n"
   ]
  },
  {
   "cell_type": "markdown",
   "metadata": {},
   "source": [
    "### Count Chars\n"
   ]
  },
  {
   "cell_type": "code",
   "execution_count": 3,
   "metadata": {},
   "outputs": [
    {
     "name": "stdout",
     "output_type": "stream",
     "text": [
      "1\n"
     ]
    }
   ],
   "source": [
    "def countChar(string):\n",
    "    count = 0\n",
    "    targetChar = string[0]\n",
    "    searchString = string[1:]\n",
    "    for c in searchString:\n",
    "        if c == targetChar:\n",
    "            count += 1\n",
    "\n",
    "    return count\n",
    "\n",
    "\n",
    "inputString = \"n Monday\"\n",
    "\n",
    "print(countChar(inputString))\n"
   ]
  },
  {
   "cell_type": "markdown",
   "metadata": {},
   "source": [
    "### Mad Lib w/ Loops\n"
   ]
  },
  {
   "cell_type": "code",
   "execution_count": 8,
   "metadata": {},
   "outputs": [
    {
     "name": "stdout",
     "output_type": "stream",
     "text": [
      "Eating 1 test a day keeps the doctor away.\n",
      "Eating 2 test a day keeps the doctor away.\n",
      "Eating f f a day keeps the doctor away.\n"
     ]
    },
    {
     "ename": "ValueError",
     "evalue": "too many values to unpack (expected 2)",
     "output_type": "error",
     "traceback": [
      "\u001b[1;31m---------------------------------------------------------------------------\u001b[0m",
      "\u001b[1;31mValueError\u001b[0m                                Traceback (most recent call last)",
      "\u001b[1;32m~\\AppData\\Local\\Temp/ipykernel_19260/2355877191.py\u001b[0m in \u001b[0;36m<module>\u001b[1;34m\u001b[0m\n\u001b[0;32m      9\u001b[0m         \u001b[0mi\u001b[0m \u001b[1;33m=\u001b[0m \u001b[0minput\u001b[0m\u001b[1;33m(\u001b[0m\u001b[1;33m)\u001b[0m\u001b[1;33m\u001b[0m\u001b[1;33m\u001b[0m\u001b[0m\n\u001b[0;32m     10\u001b[0m \u001b[1;33m\u001b[0m\u001b[0m\n\u001b[1;32m---> 11\u001b[1;33m \u001b[0mmain\u001b[0m\u001b[1;33m(\u001b[0m\u001b[1;33m)\u001b[0m\u001b[1;33m\u001b[0m\u001b[1;33m\u001b[0m\u001b[0m\n\u001b[0m",
      "\u001b[1;32m~\\AppData\\Local\\Temp/ipykernel_19260/2355877191.py\u001b[0m in \u001b[0;36mmain\u001b[1;34m()\u001b[0m\n\u001b[0;32m      5\u001b[0m     \u001b[1;32mwhile\u001b[0m \u001b[1;34m\"quit\"\u001b[0m \u001b[1;32mnot\u001b[0m \u001b[1;32min\u001b[0m \u001b[0mi\u001b[0m\u001b[1;33m:\u001b[0m\u001b[1;33m\u001b[0m\u001b[1;33m\u001b[0m\u001b[0m\n\u001b[0;32m      6\u001b[0m         \u001b[0mstring\u001b[0m\u001b[1;33m,\u001b[0m \u001b[0mnum\u001b[0m \u001b[1;33m=\u001b[0m \u001b[1;33m(\u001b[0m\u001b[0mquit\u001b[0m\u001b[1;33m,\u001b[0m \u001b[1;36m0\u001b[0m\u001b[1;33m)\u001b[0m\u001b[1;33m\u001b[0m\u001b[1;33m\u001b[0m\u001b[0m\n\u001b[1;32m----> 7\u001b[1;33m         \u001b[0mstring\u001b[0m\u001b[1;33m,\u001b[0m \u001b[0mnum\u001b[0m \u001b[1;33m=\u001b[0m \u001b[0mi\u001b[0m\u001b[1;33m.\u001b[0m\u001b[0msplit\u001b[0m\u001b[1;33m(\u001b[0m\u001b[1;33m)\u001b[0m\u001b[1;33m\u001b[0m\u001b[1;33m\u001b[0m\u001b[0m\n\u001b[0m\u001b[0;32m      8\u001b[0m         \u001b[0mprint\u001b[0m\u001b[1;33m(\u001b[0m\u001b[1;34mf\"Eating {num} {string} a day keeps the doctor away.\"\u001b[0m\u001b[1;33m)\u001b[0m\u001b[1;33m\u001b[0m\u001b[1;33m\u001b[0m\u001b[0m\n\u001b[0;32m      9\u001b[0m         \u001b[0mi\u001b[0m \u001b[1;33m=\u001b[0m \u001b[0minput\u001b[0m\u001b[1;33m(\u001b[0m\u001b[1;33m)\u001b[0m\u001b[1;33m\u001b[0m\u001b[1;33m\u001b[0m\u001b[0m\n",
      "\u001b[1;31mValueError\u001b[0m: too many values to unpack (expected 2)"
     ]
    }
   ],
   "source": [
    "def main():\n",
    "\n",
    "    i = input()\n",
    "\n",
    "    while \"quit\" not in i:\n",
    "        string, num = (quit, 0)\n",
    "        string, num = i.split()\n",
    "        print(f\"Eating {num} {string} a day keeps the doctor away.\")\n",
    "        i = input()\n",
    "\n",
    "\n",
    "main()\n"
   ]
  },
  {
   "cell_type": "markdown",
   "metadata": {},
   "source": [
    "### Remove non-alphabetical characters\n"
   ]
  },
  {
   "cell_type": "code",
   "execution_count": 10,
   "metadata": {},
   "outputs": [
    {
     "name": "stdout",
     "output_type": "stream",
     "text": [
      "fdaiojgidfoajpfiodajoipfdjpouewiurygrtw\n"
     ]
    }
   ],
   "source": [
    "def removeNonAlpha(string):\n",
    "    alphaString = \"\"\n",
    "\n",
    "    for c in string:\n",
    "        if c.isalnum() and not c.isdigit():\n",
    "            alphaString += c\n",
    "\n",
    "    return alphaString\n",
    "\n",
    "\n",
    "userString = \"fdaiojgidfoajpfiod ajoipfdjpou3e0w29 iur3410-954818y4=1854=90854= g8rtw=8\"\n",
    "\n",
    "print(removeNonAlpha(userString))\n"
   ]
  },
  {
   "cell_type": "markdown",
   "metadata": {},
   "source": [
    "### Varied Input Data Amounts\n"
   ]
  },
  {
   "cell_type": "markdown",
   "metadata": {},
   "source": [
    "Statistics are often calculated with varying amounts of input data. Write a program that takes any number of integers as input, and outputs the average and max.\n",
    "\n",
    "Ex: If the input is:\n",
    "\n",
    "`15 20 0 5`\n",
    "\n",
    "the output is:\n",
    "\n",
    "`10 20`\n",
    "\n",
    "Note: For output, round the average to the nearest integer.\n"
   ]
  },
  {
   "cell_type": "code",
   "execution_count": 21,
   "metadata": {},
   "outputs": [
    {
     "name": "stdout",
     "output_type": "stream",
     "text": [
      "10 10\n"
     ]
    }
   ],
   "source": [
    "userList = input().split()\n",
    "numList = [int(i) for i in userList]\n",
    "\n",
    "print(round(sum(numList) / len(numList)), max(numList))\n"
   ]
  },
  {
   "cell_type": "markdown",
   "metadata": {},
   "source": [
    "### Filter and Sort List\n"
   ]
  },
  {
   "cell_type": "markdown",
   "metadata": {},
   "source": [
    "Write a program that gets a list of integers from input, and outputs non-negative integers in ascending order (lowest to highest).\n",
    "\n",
    "Ex: If the input is:\n",
    "\n",
    "`10 -7 4 39 -6 12 2`\n",
    "\n",
    "the output is:\n",
    "\n",
    "`2 4 10 12 39`\n",
    "\n",
    "For coding simplicity, follow every output value by a space. Do not end with newline.\n"
   ]
  },
  {
   "cell_type": "code",
   "execution_count": 22,
   "metadata": {},
   "outputs": [
    {
     "name": "stdout",
     "output_type": "stream",
     "text": [
      "2 5 10 "
     ]
    }
   ],
   "source": [
    "userList = input().split()\n",
    "numList = [int(i) for i in userList if int(i) >= 0]\n",
    "numList.sort()\n",
    "\n",
    "for num in numList:\n",
    "    print(num, end=\" \")\n"
   ]
  },
  {
   "cell_type": "markdown",
   "metadata": {},
   "source": [
    "### Elements in Range\n"
   ]
  },
  {
   "cell_type": "markdown",
   "metadata": {},
   "source": [
    "Write a program that first gets a list of integers from input. That list is followed by two more integers representing lower and upper bounds of a range. Your program should output all integers from the list that are within that range (inclusive of the bounds).\n",
    "\n",
    "Ex: If the input is:\n",
    "\n",
    "`25 51 0 200 33`\n",
    "`0 50`\n",
    "\n",
    "the output is:\n",
    "\n",
    "`25 0 33 `\n",
    "\n",
    "The bounds are 0-50, so 51 and 200 are out of range and thus not output.\n",
    "\n",
    "For coding simplicity, follow each output integer by a space, even the last one. Do not end with newline.\n"
   ]
  },
  {
   "cell_type": "code",
   "execution_count": 41,
   "metadata": {},
   "outputs": [
    {
     "name": "stdout",
     "output_type": "stream",
     "text": [
      "10 "
     ]
    }
   ],
   "source": [
    "userList = input().split()\n",
    "bounds = input().split()\n",
    "\n",
    "numBounds = [int(i) for i in bounds]\n",
    "numList = [int(i) for i in userList if numBounds[0] <= int(i) <= numBounds[1]]\n",
    "\n",
    "for num in numList:\n",
    "    print(num, end=\" \")\n"
   ]
  },
  {
   "cell_type": "markdown",
   "metadata": {},
   "source": [
    "### Contact List\n"
   ]
  },
  {
   "cell_type": "code",
   "execution_count": 50,
   "metadata": {},
   "outputs": [
    {
     "name": "stdout",
     "output_type": "stream",
     "text": [
      "[('Joe', '123-5432'), ('Linda', '983-4123'), ('Frank', '867-5309')]\n",
      "{'Joe': '123-5432', 'Linda': '983-4123', 'Frank': '867-5309'}\n",
      "867-5309\n"
     ]
    }
   ],
   "source": [
    "def main():\n",
    "    inputList = input().split()\n",
    "    userRequest = input()\n",
    "\n",
    "    contactDict = generateDictFromTuplePair(inputList)\n",
    "    print(contactDict[userRequest])\n",
    "\n",
    "\n",
    "def generateDictFromTuplePair(userList):\n",
    "    tupleList = []\n",
    "    for i in range(len(userList)):\n",
    "        if userList:\n",
    "            tupleList.append((userList.pop(0), userList.pop(0)))\n",
    "\n",
    "    d = dict(tupleList)\n",
    "    return d\n",
    "\n",
    "\n",
    "if __name__ == \"__main__\":\n",
    "    main()\n"
   ]
  },
  {
   "cell_type": "markdown",
   "metadata": {},
   "source": [
    "### Check if List is Sorted\n"
   ]
  },
  {
   "cell_type": "code",
   "execution_count": 2,
   "metadata": {},
   "outputs": [
    {
     "name": "stdout",
     "output_type": "stream",
     "text": [
      "Not sorted\n",
      "Sorted\n"
     ]
    }
   ],
   "source": [
    "# seems super easy, just see if givenList == sorted(givenList)\n",
    "def isSorted(nums):\n",
    "    return True if nums == sorted(nums) else False\n",
    "\n",
    "\n",
    "if __name__ == '__main__':\n",
    "    # Test out-of-order example\n",
    "    nums1 = [5, 6, 7, 8, 3]\n",
    "    if isSorted(nums1):\n",
    "        print('Sorted')\n",
    "    else:\n",
    "        print('Not sorted')\n",
    "\n",
    "    # Test in-order example\n",
    "    nums2 = [5, 6, 7, 8, 10]\n",
    "    if isSorted(nums2):\n",
    "        print('Sorted')\n",
    "    else:\n",
    "        print('Not sorted')\n"
   ]
  },
  {
   "cell_type": "markdown",
   "metadata": {},
   "source": [
    "### Fat-burning Heart Rate\n"
   ]
  },
  {
   "cell_type": "markdown",
   "metadata": {},
   "source": [
    "Write a program that calculates an adult's fat-burning heart rate, which is 70% of the difference between 220 and the person's age respectively. Complete fat_burning_heart_rate() to calculate the fat burning heart rate.\n",
    "\n",
    "The adult's age must be between the ages of 18 and 75 inclusive. If the age entered is not in this range, raise a `ValueError` exception in `get_age()` with the message \"Invalid age.\" Handle the exception in `__main__` and print the `ValueError` message along with \"Could not calculate heart rate info.\"\n",
    "\n",
    "Ex: If the input is:\n",
    "\n",
    "`35`\n",
    "\n",
    "the output is:\n",
    "\n",
    "`Fat burning heart rate for a 35 year-old: 129.5 bpm`\n",
    "\n",
    "If the input is:\n",
    "\n",
    "`17`\n",
    "\n",
    "the output is:\n",
    "\n",
    "`Invalid age.`\n",
    "\n",
    "`Could not calculate heart rate info.`\n"
   ]
  },
  {
   "cell_type": "code",
   "execution_count": 127,
   "metadata": {},
   "outputs": [
    {
     "name": "stdout",
     "output_type": "stream",
     "text": [
      "Invalid age.\n",
      "Could not calculate heart rate info.\n"
     ]
    }
   ],
   "source": [
    "def get_age():\n",
    "    age = int(input())\n",
    "\n",
    "    if 17 < age <= 75:\n",
    "        return age\n",
    "    else:\n",
    "        raise ValueError(\"Invalid age.\")\n",
    "\n",
    "\n",
    "def fat_burning_heart_rate(age):\n",
    "    heart_rate = 0.7 * (220 - age)\n",
    "    return heart_rate\n",
    "\n",
    "\n",
    "if __name__ == \"__main__\":\n",
    "    try:\n",
    "        age = get_age()\n",
    "        rate = fat_burning_heart_rate(age)\n",
    "        print(\n",
    "            f\"Fat burning heart rate for a {age} year-old: {round(rate, 1)} bpm\")\n",
    "\n",
    "    except ValueError as excpt:\n",
    "        print(excpt)\n",
    "        print(\"Could not calculate heart rate info.\")\n"
   ]
  },
  {
   "cell_type": "markdown",
   "metadata": {},
   "source": [
    "### Exception Handling to Detect Int vs. String\n"
   ]
  },
  {
   "cell_type": "markdown",
   "metadata": {},
   "source": [
    "The given program reads a list of single-word first names and ages (ending with -1), and outputs that list with the age incremented. The program fails and throws an exception if the second input on a line is a string rather than an integer. At FIXME in the code, add try and except blocks to catch the ValueError exception and output 0 for the age.\n",
    "\n",
    "Ex: If the input is:\n",
    "\n",
    "`Lee 18`\n",
    "\n",
    "`Lua 21`\n",
    "\n",
    "`Mary Beth 19`\n",
    "\n",
    "`Stu 33`\n",
    "\n",
    "`-1`\n",
    "\n",
    "then the output is:\n",
    "\n",
    "`Lee 19`\n",
    "\n",
    "`Lua 22`\n",
    "\n",
    "`Mary 0`\n",
    "\n",
    "`Stu 34`\n"
   ]
  },
  {
   "cell_type": "code",
   "execution_count": 4,
   "metadata": {},
   "outputs": [
    {
     "name": "stdout",
     "output_type": "stream",
     "text": [
      "Steve 20\n",
      "Mary 0\n"
     ]
    }
   ],
   "source": [
    "# Split input into 2 parts: name and age\n",
    "parts = input().split()\n",
    "name = parts[0]\n",
    "\n",
    "while name != '-1':\n",
    "\n",
    "    try:\n",
    "        age = int(parts[1]) + 1\n",
    "        print(f'{name} {age}')\n",
    "    except ValueError:\n",
    "        print(f'{name} 0')\n",
    "\n",
    "    # Get next line\n",
    "    parts = input().split()\n",
    "    name = parts[0]\n"
   ]
  },
  {
   "cell_type": "markdown",
   "metadata": {},
   "source": [
    "### Exceptions with Lists\n"
   ]
  },
  {
   "cell_type": "markdown",
   "metadata": {},
   "source": [
    "Given a list of 10 names, complete the program that outputs the name specified by the list index entered by the user. Use a try block to output the name and an except block to catch any IndexError. Output the message from the exception object if an IndexError is caught. Output the first element in the list if the invalid index is negative or the last element if the invalid index is positive.\n",
    "\n",
    "Note: Python allows using a negative index to access a list, as long as the magnitude of the index is smaller than the size of the list.\n",
    "\n",
    "Ex: If the input of the program is:\n",
    "\n",
    "`5`\n",
    "\n",
    "the program outputs:\n",
    "\n",
    "`Name: Jane`\n",
    "\n",
    "Ex: If the input of the program is:\n",
    "\n",
    "`12`\n",
    "\n",
    "the program outputs:\n",
    "\n",
    "`Exception! list index out of range`\n",
    "\n",
    "`The closest name is: Johnny`\n",
    "\n",
    "Ex: If the input of the program is:\n",
    "\n",
    "`-2`\n",
    "\n",
    "the program outputs:\n",
    "\n",
    "`Name: Tyrese`\n",
    "\n",
    "Ex: If the input of the program is:\n",
    "\n",
    "`-15`\n",
    "\n",
    "the program outputs:\n",
    "\n",
    "`Exception! list index out of range`\n",
    "\n",
    "`The closest name is: Ryley`\n"
   ]
  },
  {
   "cell_type": "code",
   "execution_count": 31,
   "metadata": {},
   "outputs": [
    {
     "name": "stdout",
     "output_type": "stream",
     "text": [
      "Exception! list index out of range\n",
      "The closest name is: Johnny\n"
     ]
    }
   ],
   "source": [
    "names = ['Ryley', 'Edan', 'Reagan', 'Henry', 'Caius',\n",
    "         'Jane', 'Guto', 'Sonya', 'Tyrese', 'Johnny']\n",
    "index = int(input())\n",
    "\n",
    "try:\n",
    "    # Is there ever a good reason to use an if statement for this?\n",
    "    if abs(index) <= len(names):\n",
    "        print(f\"Name: {names[index]}\")\n",
    "    else:\n",
    "        raise IndexError\n",
    "except IndexError:\n",
    "    print(\"Exception! list index out of range\")\n",
    "    print(\n",
    "        f\"The closest name is: {names[0] if index < -(len(names)) else names[-1]}\")\n"
   ]
  },
  {
   "cell_type": "markdown",
   "metadata": {},
   "source": [
    "### Student info not found - custom exceptions\n"
   ]
  },
  {
   "cell_type": "markdown",
   "metadata": {},
   "source": [
    "Given a main program that searches for the ID or the name of a student from a dictionary, complete the find_ID() and the find_name() functions that return the corresponding information of a student. Then, insert a try/except statement in main() to catch any exceptions thrown by find_ID() or find_name(), and output the exception message. Each entry of the dictionary contains the name (key) and the ID (value) of a student.\n",
    "\n",
    "Function find_ID() takes two parameters, a student's name and a dictionary. Function find_ID() returns the ID associated with the student's name if the name is in the dictionary. Otherwise, the function throws a custom exception type, `StudentInfoError`, with the message \"Student ID not found for studentName\", where studentName is the name of the student.\n",
    "\n",
    "Function find_name() takes two parameters, a student's ID and a dictionary. Function find_name() returns the name associated with the student's ID if the ID is in the dictionary. Otherwise, the function throws a custom exception type, `StudentInfoError`, with the message \"Student name not found for studentID\", where studentID is the ID of the student.\n",
    "\n",
    "The main program takes two inputs from a user: a user choice of finding the ID or the name of a student (int), and the ID or the name of a student (string). If the user choice is 0, find_ID() is invoked with the student's name as one of the arguments. If the user choice is 1, find_name() is invoked with the student's ID as one of the arguments. The main program finally outputs the result of the search or a message if an exception is caught.\n",
    "\n",
    "Note: `StudentInfoError` is defined in the program as a custom exception type. `StudentInfoError` has an attribute to store an exception message.\n",
    "\n",
    "Ex: If the input of the program is:\n",
    "\n",
    "`0`\n",
    "\n",
    "`Reagan`\n",
    "\n",
    "and the contents of dictionary are:\n",
    "\n",
    "`'Reagan' : 'rebradshaw835',`\n",
    "\n",
    "`'Ryley' : 'rbarber894',`\n",
    "\n",
    "`'Peyton' : 'pstott885',`\n",
    "\n",
    "`'Tyrese' : 'tmayo945',`\n",
    "\n",
    "`'Caius' : 'ccharlton329'`\n",
    "\n",
    "the output of the program is:\n",
    "\n",
    "`rebradshaw835`\n",
    "\n",
    "Ex: If the input of the program is:\n",
    "\n",
    "`0`\n",
    "\n",
    "`Mcauley`\n",
    "\n",
    "the program outputs an exception message:\n",
    "\n",
    "`Student ID not found for Mcauley`\n",
    "\n",
    "Ex: If the input of the program is:\n",
    "\n",
    "`1`\n",
    "\n",
    "`rebradshaw835`\n",
    "\n",
    "the output of the program is:\n",
    "\n",
    "`Reagan`\n",
    "\n",
    "Ex: If the input of the program is:\n",
    "\n",
    "`1`\n",
    "\n",
    "`mpreston272`\n",
    "\n",
    "the program outputs an exception message:\n",
    "\n",
    "`Student name not found for mpreston272`\n"
   ]
  },
  {
   "cell_type": "code",
   "execution_count": 52,
   "metadata": {},
   "outputs": [
    {
     "name": "stdout",
     "output_type": "stream",
     "text": [
      "Student name not found for 1\n"
     ]
    }
   ],
   "source": [
    "# Define custom exception\n",
    "class StudentInfoError(Exception):\n",
    "    def __init__(self, message):\n",
    "        self.message = message  # Initialize the exception message\n",
    "\n",
    "\n",
    "def find_ID(name, info):\n",
    "    if name in info:\n",
    "        studentID = info[name]\n",
    "    else:\n",
    "        raise StudentInfoError(f\"Student ID not found for {name}\")\n",
    "    return studentID\n",
    "\n",
    "\n",
    "def find_name(ID, info):\n",
    "    #itemsList = list(info.items())\n",
    "\n",
    "    for key, value in info.items():\n",
    "        if value == ID:\n",
    "            return key\n",
    "\n",
    "    raise StudentInfoError(f\"Student name not found for {ID}\")\n",
    "\n",
    "\n",
    "if __name__ == '__main__':\n",
    "    # Dictionary of student names and IDs\n",
    "    student_info = {\n",
    "        'Reagan': 'rebradshaw835',\n",
    "        'Ryley': 'rbarber894',\n",
    "        'Peyton': 'pstott885',\n",
    "        'Tyrese': 'tmayo945',\n",
    "        'Caius': 'ccharlton329'\n",
    "    }\n",
    "\n",
    "    userChoice = input()    # Read search option from user. 0: find_ID(), 1: find_name()\n",
    "\n",
    "    try:\n",
    "        if userChoice == \"0\":\n",
    "            name = input()\n",
    "            result = find_ID(name, student_info)\n",
    "        else:\n",
    "            ID = input()\n",
    "            result = find_name(ID, student_info)\n",
    "        print(result)\n",
    "    except StudentInfoError as excpt:\n",
    "        print(excpt)\n"
   ]
  },
  {
   "cell_type": "markdown",
   "metadata": {},
   "source": [
    "### Guess the Random Number\n"
   ]
  },
  {
   "cell_type": "markdown",
   "metadata": {},
   "source": [
    "Given the code that reads a list of integers, complete the `number_guess()` function, which should choose a random number between 1 and 100 by calling `random.randint()` and then output if the guessed number is too low, too high, or correct.\n",
    "\n",
    "Import the random module to use the `random.seed()` and `random.randint()` functions.\n",
    "\n",
    "- random.seed(seed_value) seeds the random number generator using the given seed_value.\n",
    "- random.randint(a, b) returns a random number between a and b (inclusive).\n",
    "\n",
    "For testing purposes, use the seed value 900, which will cause the computer to choose the same random number every time the program runs.\n",
    "\n",
    "Ex: If the input is:\n",
    "\n",
    "`32 45 48 80`\n",
    "\n",
    "the output is:\n",
    "\n",
    "`32 is too low. Random number was 80.`\n",
    "\n",
    "`45 is too high. Random number was 30.`\n",
    "\n",
    "`48 is correct!`\n",
    "\n",
    "`80 is too low. Random number was 97.`\n"
   ]
  },
  {
   "cell_type": "code",
   "execution_count": 28,
   "metadata": {},
   "outputs": [
    {
     "name": "stdout",
     "output_type": "stream",
     "text": [
      "81 is too high. Random number was 80.\n"
     ]
    }
   ],
   "source": [
    "import random\n",
    "\n",
    "\n",
    "def number_guess(num):\n",
    "    rand = random.randint(1, 100)\n",
    "    # TODO: Read numbers and compare to random number\n",
    "    if num == rand:\n",
    "        print(f\"{num} is correct!\")\n",
    "    elif num > rand:\n",
    "        print(f\"{num} is too high. Random number was {rand}.\")\n",
    "    else:\n",
    "        print(f\"{num} is too low. Random number was {rand}.\")\n",
    "\n",
    "\n",
    "if __name__ == \"__main__\":\n",
    "    # Use the seed 900 to get the same pseudo random numbers every time\n",
    "    random.seed(900)\n",
    "\n",
    "    # Convert the string tokens into integers\n",
    "    user_input = input()\n",
    "    tokens = user_input.split()\n",
    "    for token in tokens:\n",
    "        num = int(token)\n",
    "        number_guess(num)\n"
   ]
  },
  {
   "cell_type": "markdown",
   "metadata": {},
   "source": [
    "### Quadratic Formula\n"
   ]
  },
  {
   "cell_type": "markdown",
   "metadata": {},
   "source": [
    "x1 = (-b **+** sqrt(b\\*\\*2 - 4\\*a\\*c)) / 2\\*a\n",
    "\n",
    "                OR\n",
    "\n",
    "x2 = (-b **-** sqrt(b\\*\\*2 - 4\\*a\\*c)) / 2\\*a\n",
    "\n",
    "Implement the quadratic_formula() function. The function takes 3 arguments, a, b, and c, and computes the two results of the quadratic formula:\n",
    "\n",
    "The quadratic_formula() function returns the tuple `(x1, x2)`. Ex: When a = 1, b = -5, and c = 6, quadratic_formula() returns (3, 2).\n",
    "\n",
    "Code provided in main.py reads a single input line containing values for a, b, and c, separated by spaces. Each input is converted to a float and passed to the quadratic_formula() function.\n",
    "\n",
    "Ex: If the input is:\n",
    "\n",
    "`2 -3 -77`\n",
    "\n",
    "the output is:\n",
    "\n",
    "`Solutions to 2x^2 + -3x + -77 = 0`\n",
    "`x1 = 7`\n",
    "\n",
    "`x2 = -5.50`\n"
   ]
  },
  {
   "cell_type": "code",
   "execution_count": 32,
   "metadata": {},
   "outputs": [
    {
     "name": "stdout",
     "output_type": "stream",
     "text": [
      "Solutions to 2x^2 + -3x + -77 = 0\n",
      "x1 = 7\n",
      "x2 = -5.50\n"
     ]
    }
   ],
   "source": [
    "import math\n",
    "\n",
    "\n",
    "def quadratic_formula(a, b, c):\n",
    "    x1 = ((-b + math.sqrt(b**2 - (4*a*c))) / (2 * a))\n",
    "    x2 = ((-b - math.sqrt(b**2 - (4*a*c))) / (2 * a))\n",
    "\n",
    "    return (x1, x2)\n",
    "\n",
    "\n",
    "def print_number(number, prefix_str):\n",
    "    if float(int(number)) == number:\n",
    "        print(\"{}{:.0f}\".format(prefix_str, number))\n",
    "    else:\n",
    "        print(\"{}{:.2f}\".format(prefix_str, number))\n",
    "\n",
    "\n",
    "if __name__ == \"__main__\":\n",
    "    input_line = input()\n",
    "    split_line = input_line.split(\" \")\n",
    "    a = float(split_line[0])\n",
    "    b = float(split_line[1])\n",
    "    c = float(split_line[2])\n",
    "    solution = quadratic_formula(a, b, c)\n",
    "    print(\"Solutions to {:.0f}x^2 + {:.0f}x + {:.0f} = 0\".format(a, b, c))\n",
    "    print_number(solution[0], \"x1 = \")\n",
    "    print_number(solution[1], \"x2 = \")\n"
   ]
  },
  {
   "cell_type": "markdown",
   "metadata": {},
   "source": [
    "### Words in a Range (Lists)\n"
   ]
  },
  {
   "cell_type": "markdown",
   "metadata": {},
   "source": [
    "Write a program that first reads in the name of an input file, followed by two strings representing the lower and upper bounds of a search range. The file should be read using the file.readlines() method. The input file contains a list of alphabetical, ten-letter strings, each on a separate line. Your program should output all strings from the list that are within that range (inclusive of the bounds).\n",
    "\n",
    "Ex: If the input is:\n",
    "\n",
    "`input1.txt`\n",
    "\n",
    "`ammoniated`\n",
    "\n",
    "`millennium`\n",
    "\n",
    "and the contents of input1.txt are:\n",
    "\n",
    "`aspiration`\n",
    "\n",
    "`classified`\n",
    "\n",
    "`federation`\n",
    "\n",
    "`graduation`\n",
    "\n",
    "`millennium`\n",
    "\n",
    "`philosophy`\n",
    "\n",
    "`quadratics`\n",
    "\n",
    "`transcript`\n",
    "\n",
    "`wilderness`\n",
    "\n",
    "`zoologists`\n",
    "\n",
    "the output is:\n",
    "\n",
    "`aspiration`\n",
    "\n",
    "`classified`\n",
    "\n",
    "`federation`\n",
    "\n",
    "`graduation`\n",
    "\n",
    "`millennium`\n",
    "\n",
    "Notes:\n",
    "\n",
    "- There is a newline at the end of the output.\n",
    "- All input files are hosted in the zyLab and file names can be directly referred to. input1.txt is available to download so that the contents of the file can be seen.\n",
    "- In the tests, the first word input always comes alphabetically before the second word input.\n"
   ]
  },
  {
   "cell_type": "code",
   "execution_count": 5,
   "metadata": {},
   "outputs": [
    {
     "name": "stdout",
     "output_type": "stream",
     "text": [
      "['aspiration\\n', 'classified\\n', 'federation\\n', 'graduation\\n', 'millennium\\n', 'philosophy\\n', 'quadratics\\n', 'transcript\\n', 'wilderness\\n', 'zoologists\\n']\n",
      "aspiration\n",
      "classified\n",
      "federation\n",
      "graduation\n",
      "millennium\n"
     ]
    }
   ],
   "source": [
    "inputFile = 'input1.txt'  # input()\n",
    "lowerBounds = 'ammoniated'  # input()\n",
    "upperBounds = 'millennium'  # input()\n",
    "\n",
    "with open(inputFile, 'r') as file:\n",
    "    contents = file.readlines()\n",
    "\n",
    "    print(contents)\n",
    "\n",
    "    stringsInRange = [i for i in contents if (\n",
    "        lowerBounds+'\\n' <= i <= upperBounds+'\\n')]\n",
    "    # FIXME: Does not print upperBound inclusively.\n",
    "\n",
    "    for string in stringsInRange:\n",
    "        print(string, end=\"\")\n"
   ]
  },
  {
   "cell_type": "markdown",
   "metadata": {},
   "source": [
    "### Sorting TV Shows (Dicts and Lists)\n"
   ]
  },
  {
   "cell_type": "markdown",
   "metadata": {},
   "source": [
    "Write a program that first reads in the name of an input file and then reads the input file using the `file.readlines()` method. The input file contains an unsorted list of number of seasons followed by the corresponding TV show. Your program should put the contents of the input file into a dictionary where the number of seasons are the keys, and a list of TV shows are the values (since multiple shows could have the same number of seasons).\n",
    "\n",
    "Sort the dictionary by key (least to greatest) and output the results to a file named output_keys.txt. Separate multiple TV shows associated with the same key with a semicolon (;), ordering by appearance in the input file. Next, sort the dictionary by values (alphabetical order), and output the results to a file named output_titles.txt.\n",
    "\n",
    "Ex: If the input is:\n",
    "\n",
    "`file1.txt`\n",
    "\n",
    "and the contents of file1.txt are:\n",
    "\n",
    "`20`\n",
    "\n",
    "`Gunsmoke`\n",
    "\n",
    "`30`\n",
    "\n",
    "`The Simpsons`\n",
    "\n",
    "`10`\n",
    "\n",
    "`Will & Grace`\n",
    "\n",
    "`14`\n",
    "\n",
    "`Dallas`\n",
    "\n",
    "`20`\n",
    "\n",
    "`Law & Order`\n",
    "\n",
    "`12`\n",
    "\n",
    "`Murder, She Wrote`\n",
    "\n",
    "the file output_keys.txt should contain:\n",
    "\n",
    "`10: Will & Grace`\n",
    "\n",
    "`12: Murder, She Wrote`\n",
    "\n",
    "`14: Dallas`\n",
    "\n",
    "`20: Gunsmoke; Law & Order`\n",
    "\n",
    "`30: The Simpsons`\n",
    "\n",
    "and the file output_titles.txt should contain:\n",
    "\n",
    "`Dallas`\n",
    "\n",
    "`Gunsmoke`\n",
    "\n",
    "`Law & Order`\n",
    "\n",
    "`Murder, She Wrote`\n",
    "\n",
    "`The Simpsons`\n",
    "\n",
    "`Will & Grace`\n",
    "\n",
    "Note: There is a newline at the end of each output file, and file1.txt is available to download.\n"
   ]
  },
  {
   "cell_type": "code",
   "execution_count": 46,
   "metadata": {},
   "outputs": [
    {
     "name": "stdout",
     "output_type": "stream",
     "text": [
      "['Dallas', 'Gunsmoke', 'Law & Order', 'Murder, She Wrote', 'The Simpsons', 'Will & Grace']\n"
     ]
    }
   ],
   "source": [
    "import os\n",
    "\n",
    "fileName = \"file1.txt\"  # input()\n",
    "\n",
    "with open(fileName, 'r') as f:\n",
    "    contents = f.readlines()\n",
    "\n",
    "tvShowDict = {}\n",
    "\n",
    "while len(contents) > 0:\n",
    "    seasons = int(contents.pop(0)[:-1])\n",
    "    tvShow = contents.pop(0)\n",
    "    if seasons in tvShowDict:\n",
    "        tvShowDict[seasons] = tvShowDict[seasons].replace(\"\\n\", f\"; {tvShow}\")\n",
    "    else:\n",
    "        tvShowDict[seasons] = tvShow\n",
    "\n",
    "# This sorts the list of tuples from the dict_items object, then converts it back to a dict\n",
    "sortedDict = dict(sorted(tvShowDict.items()))\n",
    "\n",
    "with open('output_keys.txt', 'w') as f:\n",
    "    for key, value in sortedDict.items():\n",
    "        f.write(f\"{key}: {value}\")\n",
    "\n",
    "with open('output_titles.txt', 'w') as f:\n",
    "    values = sortedDict.values()\n",
    "    showList = []\n",
    "\n",
    "    for value in values:\n",
    "        value = value.strip()\n",
    "\n",
    "        if \";\" in value:\n",
    "            temp = value.split(\"; \")\n",
    "            for t in temp:\n",
    "                showList.append(t)\n",
    "        else:\n",
    "            showList.append(value)\n",
    "\n",
    "    sortedList = sorted(showList)\n",
    "\n",
    "    print(sortedList)\n",
    "\n",
    "    for show in sortedList:\n",
    "        f.write(show+\"\\n\")\n"
   ]
  },
  {
   "cell_type": "markdown",
   "metadata": {},
   "source": [
    "### Course Grade\n"
   ]
  },
  {
   "cell_type": "markdown",
   "metadata": {},
   "source": [
    "Write a program that reads the student information from a tab separated values (tsv) file. The program then creates a text file that records the course grades of the students. Each row of the tsv file contains the Last Name, First Name, Midterm1 score, Midterm2 score, and the Final score of a student. A sample of the student information is provided in StudentInfo.tsv. Assume the number of students is at least 1 and at most 20.\n",
    "\n",
    "The program performs the following tasks:\n",
    "\n",
    "- Read the file name of the tsv file from the user.\n",
    "- Open the tsv file and read the student information.\n",
    "- Compute the average exam score of each student.\n",
    "- Assign a letter grade to each student based on the average exam score in the following scale:\n",
    "  - A: 90 =< x\n",
    "  - B: 80 =< x < 90\n",
    "  - C: 70 =< x < 80\n",
    "  - D: 60 =< x < 70\n",
    "  - F: x < 60\n",
    "- Compute the average of each exam.\n",
    "- Output the last names, first names, exam scores, and letter grades of the students into a text file named report.txt. Output one student per row and separate the values with a tab character.\n",
    "- Output the average of each exam, with two digits after the decimal point, at the end of report.txt. Hint: Use the format specification to set the precision of the output.\n"
   ]
  },
  {
   "cell_type": "code",
   "execution_count": 8,
   "metadata": {},
   "outputs": [],
   "source": [
    "import csv\n",
    "\n",
    "fileName = \"StudentInfo.tsv\"  # input()\n",
    "outputFile = \"report.txt\"\n",
    "contentList = []\n",
    "examSums = []\n",
    "\n",
    "# Entries per row are as follows: \"FirstName    LastName    MidtermScore1    MidtermScore2    FinalScore\"\n",
    "with open(fileName, \"r\") as f:\n",
    "    reader = csv.reader(f, delimiter=\"\\t\")\n",
    "    for row in reader:\n",
    "        contentList.append(row)\n",
    "\n",
    "with open(outputFile, \"w\") as f:\n",
    "\n",
    "    studentCount = 0\n",
    "    tempDict = {}\n",
    "    # Iterate over each row in the file contents\n",
    "    for row in contentList:\n",
    "        studentCount += 1\n",
    "\n",
    "        gradeList = [int(i) for i in row[2:]]\n",
    "        studentAvg = sum(gradeList) / len(gradeList)\n",
    "\n",
    "        if studentAvg >= 90:\n",
    "            studentGrade = \"A\"\n",
    "        elif studentAvg >= 80:\n",
    "            studentGrade = \"B\"\n",
    "        elif studentAvg >= 70:\n",
    "            studentGrade = \"C\"\n",
    "        elif studentAvg >= 60:\n",
    "            studentGrade = \"D\"\n",
    "        else:\n",
    "            studentGrade = \"F\"\n",
    "\n",
    "        # Compute score totals for each exam. Create new key,val pair if it hasn't already been made.\n",
    "        for index, grade in enumerate(gradeList):\n",
    "            if index in tempDict:\n",
    "                tempDict[index] += grade\n",
    "            else:\n",
    "                tempDict[index] = grade\n",
    "\n",
    "        # Iterate over and write each element of the selected row to desired formatting\n",
    "        for item in row:\n",
    "            f.write(item+\"\\t\")\n",
    "\n",
    "        # Write student grade to end of given row and create a new line.\n",
    "        f.write(studentGrade+\"\\n\")\n",
    "\n",
    "    examSums = list(tempDict.values())\n",
    "\n",
    "    # Write newline to separate individual grades from averages\n",
    "    f.write(\"\\n\")\n",
    "\n",
    "    # Write \"Averages\" string\n",
    "    f.write(f\"Averages: \")\n",
    "\n",
    "    # Calculate average of each midterm exam\n",
    "    for index, value in enumerate(examSums[:-1]):\n",
    "        avg = value / studentCount\n",
    "        f.write(f\"midterm{index+1} {avg:.2f}, \")\n",
    "\n",
    "    # Calculate average of final exam\n",
    "    f.write(f\"final {(examSums[-1] / studentCount):.2f}\\n\")\n"
   ]
  },
  {
   "cell_type": "markdown",
   "metadata": {},
   "source": [
    "### File Name Change\n"
   ]
  },
  {
   "cell_type": "markdown",
   "metadata": {},
   "source": [
    "A photographer is organizing a photo collection about the national parks in the US and would like to annotate the information about each of the photos into a separate set of files. Write a program that reads the name of a text file containing a list of photo file names. The program then reads the photo file names from the text file, replaces the \"\\_photo.jpg\" portion of the file names with \"\\_info.txt\", and outputs the modified file names.\n",
    "\n",
    "Assume the unchanged portion of the photo file names contains only letters and numbers, and the text file stores one photo file name per line. If the text file is empty, the program produces no output.\n",
    "\n",
    "Ex: If the input of the program is:\n",
    "\n",
    "`ParkPhotos.txt`\n",
    "\n",
    "and the contents of `ParkPhotos.txt` are:\n",
    "\n",
    "`Acadia2003_photo.jpg`\n",
    "\n",
    "`AmericanSamoa1989_photo.jpg`\n",
    "\n",
    "the output of the program is:\n",
    "\n",
    "`Acadia2003_info.txt`\n",
    "\n",
    "`AmericanSamoa1989_info.txt`\n"
   ]
  },
  {
   "cell_type": "code",
   "execution_count": 11,
   "metadata": {},
   "outputs": [
    {
     "name": "stdout",
     "output_type": "stream",
     "text": [
      "Acadia2003_info.txt\n",
      "AmericanSamoa1989_info.txt\n",
      "BlackCanyonoftheGunnison1983_info.txt\n",
      "CarlsbadCaverns2010_info.txt\n",
      "CraterLake1996_info.txt\n",
      "GrandCanyon1996_info.txt\n",
      "IndianaDunes1987_info.txt\n",
      "LakeClark2009_info.txt\n",
      "Redwood1980_info.txt\n",
      "VirginIslands2007_info.txt\n",
      "Voyageurs2006_info.txt\n",
      "WrangellStElias1987_info.txt\n"
     ]
    }
   ],
   "source": [
    "fileName = \"ParkPhotos.txt\"  # input()\n",
    "replaceValue = \"_photo.jpg\"\n",
    "newValue = \"_info.txt\"\n",
    "\n",
    "with open(fileName, \"r\") as f:\n",
    "    contents = f.readlines()\n",
    "\n",
    "    for item in contents:\n",
    "        replaced = item.replace(replaceValue, newValue)\n",
    "        print(replaced, end=\"\")\n"
   ]
  },
  {
   "cell_type": "markdown",
   "metadata": {},
   "source": [
    "### Car Values (Classes)\n"
   ]
  },
  {
   "cell_type": "markdown",
   "metadata": {},
   "source": [
    "Complete the Car class by creating an attribute `purchase_price` (type int) and the method `print_info()` that outputs the car's information.\n",
    "\n",
    "Ex: If the input is:\n",
    "\n",
    "`2011`\n",
    "\n",
    "`18000`\n",
    "\n",
    "`2018`\n",
    "\n",
    "where 2011 is the car's model year, 18000 is the purchase price, and 2018 is the current year, then `print_info()` outputs:\n",
    "\n",
    "`Car's information:`\n",
    "\n",
    "      Model year: 2011\n",
    "\n",
    "      Purchase price: 18000\n",
    "\n",
    "      Current value: 5770\n",
    "\n",
    "_Note: `print_info()` should use three spaces for indentation._\n"
   ]
  },
  {
   "cell_type": "code",
   "execution_count": 7,
   "metadata": {},
   "outputs": [
    {
     "name": "stdout",
     "output_type": "stream",
     "text": [
      "Car's information:\n",
      "   Model year: 2010\n",
      "   Purchase price: 24000\n",
      "   Current value: 3414\n"
     ]
    }
   ],
   "source": [
    "class Car:\n",
    "    def __init__(self):\n",
    "        self.model_year = 0\n",
    "        self.purchase_price = 0\n",
    "        self.current_value = 0\n",
    "\n",
    "    def calc_current_value(self, current_year):\n",
    "        depreciation_rate = 0.15\n",
    "        # Car depreciation formula\n",
    "        car_age = current_year - self.model_year\n",
    "        self.current_value = round(\n",
    "            self.purchase_price * (1 - depreciation_rate) ** car_age)\n",
    "\n",
    "    def print_info(self):\n",
    "        print(\"Car's information:\")\n",
    "        print(f\"   Model year: {self.model_year}\")\n",
    "        print(f\"   Purchase price: {self.purchase_price}\")\n",
    "        print(f\"   Current value: {self.current_value}\")\n",
    "\n",
    "\n",
    "if __name__ == \"__main__\":\n",
    "    year = 2010  # int(input())\n",
    "    price = 24000  # int(input())\n",
    "    current_year = 2022  # int(input())\n",
    "\n",
    "    my_car = Car()\n",
    "    my_car.model_year = year\n",
    "    my_car.purchase_price = price\n",
    "    my_car.calc_current_value(current_year)\n",
    "    my_car.print_info()\n"
   ]
  },
  {
   "cell_type": "markdown",
   "metadata": {},
   "source": [
    "### Nutritional Information (Classes & Constructors)\n"
   ]
  },
  {
   "cell_type": "markdown",
   "metadata": {},
   "source": [
    "Complete the `FoodItem` class by adding a constructor to initialize a food item. The constructor should initialize the name (a string) to \"None\" and all other instance attributes to 0.0 by default. If the constructor is called with a food name, grams of fat, grams of carbohydrates, and grams of protein, the constructor should assign each instance attribute with the appropriate parameter value.\n",
    "\n",
    "The given program accepts as input a food item name, fat, carbs, and protein and the number of servings. The program creates a food item using the constructor parameters' default values and a food item using the input values. The program outputs the nutritional information and calories per serving for both food items.\n",
    "\n",
    "Ex: If the input is:\n",
    "\n",
    "`M&M's`\n",
    "\n",
    "`10.0`\n",
    "\n",
    "`34.0`\n",
    "\n",
    "`2.0`\n",
    "\n",
    "`1.0`\n",
    "\n",
    "where M&M's is the food name, 10.0 is the grams of fat, 34.0 is the grams of carbohydrates, 2.0 is the grams of protein, and 1.0 is the number of servings, the output is:\n",
    "\n",
    "`Nutritional information per serving of None`\n",
    "\n",
    "        Fat: 0.00 g\n",
    "\n",
    "        Carbohydrates: 0.00 g\n",
    "\n",
    "        Protein: 0.00`\n",
    "\n",
    "`Number of calories for 1.00 serving(s): 0.00`\n",
    "\n",
    "`Nutritional information per serving of M&M's:`\n",
    "\n",
    "                Fat: 10.00 g\n",
    "\n",
    "                Carbohydrates: 34.00 g\n",
    "\n",
    "                Protein: 2.00 g\n",
    "\n",
    "`Number of calories for 1.00 serving(s): 234.00`\n"
   ]
  },
  {
   "cell_type": "code",
   "execution_count": null,
   "metadata": {},
   "outputs": [],
   "source": [
    "class FoodItem:\n",
    "    # TODO: Define constructor with parameters to initialize instance\n",
    "    #       attributes (name, fat, carbs, protein)\n",
    "    def __init__(self, name=\"None\", fat=0.0, carbs=0.0, protein=0.0):\n",
    "        self.name = name\n",
    "        self.fat = fat\n",
    "        self.carbs = carbs\n",
    "        self.protein = protein\n",
    "\n",
    "    def get_calories(self, num_servings):\n",
    "        # Calorie formula\n",
    "        calories = ((self.fat * 9) + (self.carbs * 4) +\n",
    "                    (self.protein * 4)) * num_servings\n",
    "        return calories\n",
    "\n",
    "    def print_info(self):\n",
    "        print('Nutritional information per serving of {}:'.format(self.name))\n",
    "        print('   Fat: {:.2f} g'.format(self.fat))\n",
    "        print('   Carbohydrates: {:.2f} g'.format(self.carbs))\n",
    "        print('   Protein: {:.2f} g'.format(self.protein))\n",
    "\n",
    "\n",
    "if __name__ == \"__main__\":\n",
    "\n",
    "    food_item1 = FoodItem()\n",
    "\n",
    "    item_name = input()\n",
    "    amount_fat = float(input())\n",
    "    amount_carbs = float(input())\n",
    "    amount_protein = float(input())\n",
    "\n",
    "    food_item2 = FoodItem(item_name, amount_fat, amount_carbs, amount_protein)\n",
    "\n",
    "    num_servings = float(input())\n",
    "\n",
    "    food_item1.print_info()\n",
    "    print('Number of calories for {:.2f} serving(s): {:.2f}'.format(num_servings,\n",
    "                                                                    food_item1.get_calories(num_servings)))\n",
    "\n",
    "    print()\n",
    "\n",
    "    food_item2.print_info()\n",
    "    print('Number of calories for {:.2f} serving(s): {:.2f}'.format(num_servings,\n",
    "                                                                    food_item2.get_calories(num_servings)))\n"
   ]
  },
  {
   "cell_type": "markdown",
   "metadata": {},
   "source": [
    "### Artwork Label (Classes & Constructors)\n"
   ]
  },
  {
   "cell_type": "markdown",
   "metadata": {},
   "source": [
    "Define the Artist class with a constructor to initialize an artist's information and a `print_info()` method. The constructor should by default initialize the artist's name to \"None\" and the years of birth and death to 0. `print_info()` should display _Artist Name_, born _XXXX_ if the year of death is -1 or _Artist Name (XXXX-YYYY)_ otherwise.\n",
    "\n",
    "Define the Artwork class with a constructor to initialize an artwork's information and a `print_info()` method. The constructor should by default initialize the title to \"None\", the year created to 0, and the artist to use the Artist default constructor parameter values.\n",
    "\n",
    "Ex: If the input is:\n",
    "\n",
    "`Pablo Picasso`\n",
    "\n",
    "`1881`\n",
    "\n",
    "`1973`\n",
    "\n",
    "`Three Musicians`\n",
    "\n",
    "`1921`\n",
    "\n",
    "the output is:\n",
    "\n",
    "`Artist: Pablo Picasso (1881-1973)`\n",
    "\n",
    "`Title: Three Musicians, 1921`\n",
    "\n",
    "If the input is:\n",
    "\n",
    "`Brice Marden`\n",
    "\n",
    "`1938`\n",
    "\n",
    "`-1`\n",
    "\n",
    "`Distant Muses `\n",
    "\n",
    "`2000`\n",
    "\n",
    "the output is:\n",
    "\n",
    "`Artist: Brice Marden, born 1938`\n",
    "\n",
    "`Title: Distant Muses, 2000`\n"
   ]
  },
  {
   "cell_type": "code",
   "execution_count": 8,
   "metadata": {},
   "outputs": [
    {
     "name": "stdout",
     "output_type": "stream",
     "text": [
      "Artist: ethan born 1000\n",
      "Title: test, 1001\n"
     ]
    }
   ],
   "source": [
    "class Artist:\n",
    "    def __init__(self, name=\"None\", birth_year=0, death_year=0):\n",
    "        self.name = name\n",
    "        self.birth_year = birth_year\n",
    "        self.death_year = death_year\n",
    "\n",
    "    def print_info(self):\n",
    "        if self.death_year == -1:\n",
    "            print(f\"Artist: {self.name}, born {self.birth_year}\")\n",
    "        else:\n",
    "            print(f\"Artist: {self.name} ({self.birth_year}-{self.death_year})\")\n",
    "\n",
    "\n",
    "class Artwork:\n",
    "    def __init__(self, title=\"None\", year_created=0, artist=None):\n",
    "        self.title = title\n",
    "        self.year_created = year_created\n",
    "        self.artist = artist\n",
    "\n",
    "    def print_info(self):\n",
    "        Artist.print_info(self.artist)\n",
    "        print(f\"Title: {self.title}, {self.year_created}\")\n",
    "\n",
    "\n",
    "if __name__ == \"__main__\":\n",
    "    user_artist_name = input()\n",
    "    user_birth_year = int(input())\n",
    "    user_death_year = int(input())\n",
    "    user_title = input()\n",
    "    user_year_created = int(input())\n",
    "\n",
    "    user_artist = Artist(user_artist_name, user_birth_year, user_death_year)\n",
    "\n",
    "    new_artwork = Artwork(user_title, user_year_created, user_artist)\n",
    "\n",
    "    new_artwork.print_info()\n"
   ]
  },
  {
   "cell_type": "markdown",
   "metadata": {},
   "source": [
    "### Triangle Area Comparison (Classes)\n"
   ]
  },
  {
   "cell_type": "markdown",
   "metadata": {},
   "source": [
    "Given class `Triangle`, complete the program to read and set the base and height of triangle1 and triangle2, determine which triangle's area is larger, and output the larger triangle's info, making use of `Triangle`'s relevant methods.\n",
    "\n",
    "Ex: If the input is:\n",
    "\n",
    "`3.0`\n",
    "\n",
    "`4.0`\n",
    "\n",
    "`4.0`\n",
    "\n",
    "`5.0`\n",
    "\n",
    "where 3.0 is triangle1's base, 4.0 is triangle1's height, 4.0 is triangle2's base, and 5.0 is triangle2's height, the output is:\n",
    "\n",
    "Triangle with larger area:\n",
    "\n",
    "`Base: 4.00`\n",
    "\n",
    "`Height: 5.00`\n",
    "\n",
    "`Area: 10.00`\n"
   ]
  },
  {
   "cell_type": "code",
   "execution_count": null,
   "metadata": {},
   "outputs": [],
   "source": [
    "class Triangle:\n",
    "    def __init__(self):\n",
    "        self.base = 0\n",
    "        self.height = 0\n",
    "\n",
    "    def set_base(self, user_base):\n",
    "        self.base = user_base\n",
    "\n",
    "    def set_height(self, user_height):\n",
    "        self.height = user_height\n",
    "\n",
    "    def get_area(self):\n",
    "        area = 0.5 * self.base * self.height\n",
    "        return area\n",
    "\n",
    "    def print_info(self):\n",
    "        print('Base: {:.2f}'.format(self.base))\n",
    "        print('Height: {:.2f}'.format(self.height))\n",
    "        print('Area: {:.2f}'.format(self.get_area()))\n",
    "\n",
    "\n",
    "if __name__ == \"__main__\":\n",
    "    triangle1 = Triangle()\n",
    "    triangle2 = Triangle()\n",
    "\n",
    "    triangle1.set_base(float(input()))\n",
    "    triangle1.set_height(float(input()))\n",
    "\n",
    "    triangle2.set_base(float(input()))\n",
    "    triangle2.set_height(float(input()))\n",
    "\n",
    "    print('Triangle with larger area:')\n",
    "\n",
    "    if triangle1.get_area() > triangle2.get_area():\n",
    "        triangle1.print_info()\n",
    "    else:\n",
    "        triangle2.print_info()\n"
   ]
  },
  {
   "cell_type": "markdown",
   "metadata": {},
   "source": [
    "### Winning Team (Classes)\n"
   ]
  },
  {
   "cell_type": "markdown",
   "metadata": {},
   "source": [
    "Complete the Team class implementation. For the instance method `get_win_percentage()`, the formula is:\n",
    "\n",
    "`team_wins / (team_wins + team_losses)`\n",
    "\n",
    "_Note: Use floating-point division._\n",
    "\n",
    "Ex: If the input is:\n",
    "\n",
    "`Ravens`\n",
    "\n",
    "`13`\n",
    "\n",
    "`3 `\n",
    "\n",
    "where Ravens is the team's name, 13 is the number of team wins, and 3 is the number of team losses, the output is:\n",
    "\n",
    "`Congratulations, Team Ravens has a winning average!`\n",
    "\n",
    "If the input is Angels 80 82, the output is:\n",
    "\n",
    "`Team Angels has a losing average.`\n"
   ]
  },
  {
   "cell_type": "code",
   "execution_count": 7,
   "metadata": {},
   "outputs": [
    {
     "name": "stdout",
     "output_type": "stream",
     "text": [
      "Congratulations, Team r has a winning average!\n"
     ]
    }
   ],
   "source": [
    "class Team:\n",
    "    def __init__(self):\n",
    "        self.team_name = 'none'\n",
    "        self.team_wins = 0\n",
    "        self.team_losses = 0\n",
    "\n",
    "    def get_win_percentage(self):\n",
    "        return float(self.team_wins / (self.team_losses + self.team_wins))\n",
    "\n",
    "\n",
    "if __name__ == \"__main__\":\n",
    "\n",
    "    team = Team()\n",
    "\n",
    "    team_name = input()\n",
    "    team_wins = int(input())\n",
    "    team_losses = int(input())\n",
    "\n",
    "    team.team_name = team_name\n",
    "    team.team_wins = team_wins\n",
    "    team.team_losses = team_losses\n",
    "\n",
    "    if team.get_win_percentage() >= 0.5:\n",
    "        print('Congratulations, Team', team.team_name, 'has a winning average!')\n",
    "    else:\n",
    "        print('Team', team.team_name, 'has a losing average.')\n"
   ]
  },
  {
   "cell_type": "markdown",
   "metadata": {},
   "source": [
    "### Vending Machine\n"
   ]
  },
  {
   "cell_type": "markdown",
   "metadata": {},
   "source": [
    "Given two integers as user inputs that represent the number of drinks to buy and the number of bottles to restock, create a VendingMachine object that performs the following operations:\n",
    "\n",
    "- Purchases input number of drinks\n",
    "- Restocks input number of bottles\n",
    "- Reports inventory\n",
    "\n",
    "A VendingMachine's initial inventory is 20 drinks.\n",
    "\n",
    "Ex: If the input is:\n",
    "\n",
    "`5`\n",
    "`2`\n",
    "\n",
    "the output is:\n",
    "\n",
    "`Inventory: 17 bottles`\n"
   ]
  },
  {
   "cell_type": "code",
   "execution_count": null,
   "metadata": {},
   "outputs": [],
   "source": [
    "class VendingMachine:\n",
    "    def __init__(self):\n",
    "        self.bottles = 20\n",
    "\n",
    "    def purchase(self, amount):\n",
    "        self.bottles = self.bottles - amount\n",
    "\n",
    "    def restock(self, amount):\n",
    "        self.bottles = self.bottles + amount\n",
    "\n",
    "    def get_inventory(self):\n",
    "        return self.bottles\n",
    "\n",
    "    def report(self):\n",
    "        print('Inventory: {} bottles'.format(self.bottles))\n",
    "\n",
    "\n",
    "if __name__ == \"__main__\":\n",
    "    vend = VendingMachine()\n",
    "    vend.purchase(int(input()))\n",
    "    vend.restock(int(input()))\n",
    "    vend.report()\n"
   ]
  },
  {
   "cell_type": "markdown",
   "metadata": {},
   "source": [
    "## Fun\n"
   ]
  },
  {
   "cell_type": "markdown",
   "metadata": {},
   "source": [
    "### Number games\n"
   ]
  },
  {
   "cell_type": "code",
   "execution_count": null,
   "metadata": {},
   "outputs": [],
   "source": [
    "num = int(input('Enter 2 digit number:\\n'))\n",
    "result = num * (3 * 7 * 13 * 37)\n",
    "print(result)\n",
    "\n",
    "num = int(input('Enter 3 digit number:\\n'))\n",
    "result = num * (7 * 11 * 13)\n",
    "print(result)\n",
    "\n",
    "num = int(input('Enter 5 digit number:\\n'))\n",
    "result = num * (11 * 9091)\n",
    "print(result)\n"
   ]
  },
  {
   "cell_type": "code",
   "execution_count": null,
   "metadata": {},
   "outputs": [],
   "source": [
    "num_in_tens = int(input('Enter the tens digit:\\n'))\n",
    "num_in_ones = int(input('Enter the ones digit:\\n'))\n",
    "\n",
    "num_in = num_in_tens*10 + num_in_ones\n",
    "\n",
    "print('You entered', num_in)\n",
    "print(num_in, '* 11 is', num_in*11)\n",
    "\n",
    "num_out_hundreds = num_in_tens + ((num_in_tens + num_in_ones) // 10)\n",
    "num_out_tens = (num_in_tens + num_in_ones) % 10\n",
    "num_out_ones = num_in_ones\n",
    "\n",
    "print('An easy mental way to find the answer is:')\n",
    "print(num_in_tens, ',', num_in_tens, '+', num_in_ones, ',', num_in_ones)\n",
    "\n",
    "# Build num_out from its digits:\n",
    "num_out = str(num_out_hundreds) + str(num_out_tens) + str(num_out_ones)\n",
    "\n",
    "# Note this line will generate an error until the above program is complete.\n",
    "print(num_out)\n"
   ]
  },
  {
   "cell_type": "markdown",
   "metadata": {},
   "source": [
    "### Change Calc\n"
   ]
  },
  {
   "cell_type": "code",
   "execution_count": null,
   "metadata": {},
   "outputs": [],
   "source": [
    "def pluralize(num, hasY):\n",
    "    ending = \"\"\n",
    "\n",
    "    if num > 1:\n",
    "        if hasY == 0:\n",
    "            ending = \"s\"\n",
    "        else:\n",
    "            ending = \"ies\"\n",
    "\n",
    "    elif hasY == 1:\n",
    "        ending = \"y\"\n",
    "\n",
    "    return ending\n",
    "\n",
    "\n",
    "totalChange = int(input())\n",
    "numQtrs = totalChange // 25\n",
    "numDimes = (totalChange % 25) // 10\n",
    "numNickels = (((totalChange % 25) % 10)) // 5\n",
    "numPennies = ((((totalChange % 25) % 10)) % 5) // 1\n",
    "\n",
    "if totalChange <= 0:\n",
    "    print(\"No change\")\n",
    "\n",
    "if numQtrs > 0:\n",
    "    print(f\"{numQtrs} Quarter{pluralize(numQtrs, 0)}\")\n",
    "\n",
    "if numDimes > 0:\n",
    "    print(f\"{numDimes} Dime{pluralize(numDimes, 0)}\")\n",
    "\n",
    "if numNickels > 0:\n",
    "    print(f\"{numNickels} Nickel{pluralize(numNickels, 0)}\")\n",
    "\n",
    "if numPennies > 0:\n",
    "    print(f\"{numPennies} Penn{pluralize(numPennies, 1)}\")\n"
   ]
  },
  {
   "cell_type": "markdown",
   "metadata": {},
   "source": [
    "### Mad Libs\n"
   ]
  },
  {
   "cell_type": "code",
   "execution_count": null,
   "metadata": {},
   "outputs": [],
   "source": [
    "# A 'Mad Libs' style game where user enters nouns,\n",
    "# verbs, etc., and then a story using those words is ouput.\n",
    "\n",
    "# Get user's words\n",
    "relative = input('Enter a type of relative: ')\n",
    "print()\n",
    "\n",
    "food = input('Enter a type of food: ')\n",
    "print()\n",
    "\n",
    "adjective = input('Enter an adjective: ')\n",
    "print()\n",
    "\n",
    "period = input('Enter a time period: ')\n",
    "print()\n",
    "\n",
    "# Tell the story\n",
    "print('My', relative, 'says eating', food)\n",
    "print('will make me more', adjective)\n",
    "print('so now I eat them every', period)\n"
   ]
  },
  {
   "cell_type": "markdown",
   "metadata": {},
   "source": [
    "### Test Score Statistics\n"
   ]
  },
  {
   "cell_type": "code",
   "execution_count": null,
   "metadata": {},
   "outputs": [],
   "source": [
    "# Program to calculate statistics from student test scores.\n",
    "midterm_scores = [99.5, 78.25, 76, 58.5, 50, 87.5, 91, 68, 50]\n",
    "final_scores = [55, 62, 50, 98.75, 80, 76.5, 85.25]\n",
    "\n",
    "# Combine the scores into a single list\n",
    "all_scores = midterm_scores + final_scores\n",
    "\n",
    "num_midterm_scores = len(midterm_scores)\n",
    "num_final_scores = len(final_scores)\n",
    "\n",
    "print(num_midterm_scores, 'students took the midterm.')\n",
    "print(num_final_scores, 'students took the final.')\n",
    "\n",
    "# Calculate the number of students that took the midterm but not the final\n",
    "dropped_students = num_midterm_scores - num_final_scores\n",
    "print(dropped_students, 'students must have dropped the class.')\n",
    "\n",
    "lowest_final = min(final_scores)\n",
    "highest_final = max(final_scores)\n",
    "\n",
    "print('\\nFinal scores ranged from', lowest_final, 'to', highest_final)\n",
    "\n",
    "print(\"\\nAverages:\")\n",
    "print(\"Midterm: {:.2f} Final: {:.2f}\".format(\n",
    "    (sum(midterm_scores) / num_midterm_scores), (sum(final_scores) / num_final_scores)))\n"
   ]
  },
  {
   "cell_type": "markdown",
   "metadata": {},
   "source": [
    "### Poorly Written Grade Calculator\n"
   ]
  },
  {
   "cell_type": "code",
   "execution_count": null,
   "metadata": {},
   "outputs": [],
   "source": [
    "exam1 = float(input('Enter score on Exam 1 (out of 100):\\n')) / 100\n",
    "exam2 = float(input('Enter score on Exam 2 (out of 100):\\n')) / 100\n",
    "exam3 = float(input('Enter score on Exam 3 (out of 100):\\n')) / 100\n",
    "assignment1 = float(input('Enter score on Assignment 1 (out of 50):\\n')) / 50\n",
    "assignment2 = float(input('Enter score on Assignment 2 (out of 50):\\n')) / 50\n",
    "assignment3 = float(input('Enter score on Assignment 3 (out of 50):\\n')) / 50\n",
    "assignment4 = float(input('Enter score on Assignment 4 (out of 50):\\n')) / 50\n",
    "\n",
    "examAvg = (exam1 + exam2 + exam3) / 3\n",
    "assignmentAvg = (assignment1 + assignment2 + assignment3 + assignment4) / 4\n",
    "\n",
    "overallGrade = ((0.6 * examAvg) + (0.4 * assignmentAvg)) * 100\n",
    "\n",
    "print('Your overall grade is: {:.2f}'.format(overallGrade))\n"
   ]
  },
  {
   "cell_type": "markdown",
   "metadata": {},
   "source": [
    "### Various \"Health Data\" Things\n"
   ]
  },
  {
   "cell_type": "code",
   "execution_count": null,
   "metadata": {},
   "outputs": [],
   "source": [
    "user_age_years = int(input('enter your age in years:\\n'))\n",
    "\n",
    "user_age_days = user_age_years * 365\n",
    "user_age_minutes = user_age_years * 525600\n",
    "user_age_seconds = user_age_minutes * 60\n",
    "user_avg_heartbeats = user_age_minutes * 72\n",
    "user_avg_sneezes = user_age_days * 3\n",
    "\n",
    "# Rough approximation of calories burned per day\n",
    "user_total_calories = user_age_days * 2700\n",
    "\n",
    "if(user_age_years > 40):\n",
    "    print('Wow, you are pretty frickin\\' old.')\n",
    "\n",
    "print(f'You are at least {user_age_days:,} days old.')\n",
    "print(f'You are at least {user_age_minutes:,} minutes old.')\n",
    "print(f'You are at least {user_age_seconds:,} seconds old.')\n",
    "print(f'Your heart has beat somewhere around {user_avg_heartbeats:,} times.')\n",
    "print(f'You have probably sneezed something like {user_avg_sneezes:,} times.')\n",
    "print(\n",
    "    f'You might have burned somewhere {user_total_calories:,} calories in your lifetime, which is approximately {user_total_calories/4:,.0f} slices of pizza.')\n"
   ]
  },
  {
   "cell_type": "markdown",
   "metadata": {},
   "source": [
    "### Dice statistics\n"
   ]
  },
  {
   "cell_type": "code",
   "execution_count": 21,
   "metadata": {},
   "outputs": [
    {
     "name": "stdout",
     "output_type": "stream",
     "text": [
      "2 : 7\n",
      "3 : 16\n",
      "4 : 11\n",
      "5 : 25\n",
      "6 : 25\n",
      "7 : 38\n",
      "8 : 30\n",
      "9 : 19\n",
      "10 : 18\n",
      "11 : 9\n",
      "12 : 2\n",
      "2:  *******\n",
      "3:  ****************\n",
      "4:  ***********\n",
      "5:  *************************\n",
      "6:  *************************\n",
      "7:  **************************************\n",
      "8:  ******************************\n",
      "9:  *******************\n",
      "10: ******************\n",
      "11: *********\n",
      "12: **\n"
     ]
    }
   ],
   "source": [
    "import random\n",
    "\n",
    "\n",
    "def getHistogram(dictionary):\n",
    "    hist = {}\n",
    "\n",
    "    for key, val in dictionary.items():\n",
    "        print(key, ':', val)\n",
    "        hist[key] = (\"*\" * val)\n",
    "\n",
    "    return hist\n",
    "\n",
    "\n",
    "numSixes = 0\n",
    "numSevens = 0\n",
    "numRolls = 200\n",
    "\n",
    "# Create template dict\n",
    "rollResults = {2: 0, 3: 0, 4: 0, 5: 0, 6: 0,\n",
    "               7: 0, 8: 0, 9: 0, 10: 0, 11: 0, 12: 0}\n",
    "\n",
    "if numRolls >= 1:\n",
    "    for i in range(numRolls):\n",
    "        die1 = random.randint(1, 6)\n",
    "        die2 = random.randint(1, 6)\n",
    "        rollTotal = die1 + die2\n",
    "\n",
    "        rollResults[rollTotal] = rollResults.get(rollTotal) + 1\n",
    "        #print(f'Roll {i} is {rollTotal} ({die1} + {die2})')\n",
    "\n",
    "    # Uses .items() method to get iterable obj that can be referenced like you would with enumerate() func\n",
    "    # for result, quantity in rollResults.items():\n",
    "    #    print(f\"{result} was rolled {quantity} time(s).\")\n",
    "\n",
    "    # Prints histogram of data\n",
    "    for result, quantity in getHistogram(rollResults).items():\n",
    "        if result < 10:\n",
    "            print(f\"{result}:  {quantity}\")\n",
    "        else:\n",
    "            print(f\"{result}: {quantity}\")\n"
   ]
  },
  {
   "cell_type": "markdown",
   "metadata": {},
   "source": [
    "### Calculate Gas Volume\n"
   ]
  },
  {
   "cell_type": "code",
   "execution_count": 26,
   "metadata": {},
   "outputs": [
    {
     "name": "stdout",
     "output_type": "stream",
     "text": [
      "Gas volume: 22.698481533 m^3\n"
     ]
    }
   ],
   "source": [
    "gas_const = 8.3144621\n",
    "\n",
    "\n",
    "def compute_gas_volume(pressure, temperature, moles):\n",
    "    # PV = nRT --> V = (nRT)/P\n",
    "    volume = (moles * gas_const * temperature) / pressure\n",
    "    return volume\n",
    "\n",
    "\n",
    "gas_pressure = 100.0\n",
    "gas_moles = 1.0\n",
    "gas_temperature = 273.0\n",
    "gas_volume = 0.0\n",
    "\n",
    "gas_volume = compute_gas_volume(gas_pressure, gas_temperature, gas_moles)\n",
    "print('Gas volume:', gas_volume, 'm^3')\n"
   ]
  },
  {
   "cell_type": "markdown",
   "metadata": {},
   "source": [
    "### Hangman (copied from ZyBooks)\n"
   ]
  },
  {
   "cell_type": "code",
   "execution_count": null,
   "metadata": {},
   "outputs": [],
   "source": [
    "word = 'onomatopoeia'\n",
    "num_guesses = 10\n",
    "\n",
    "hidden_word = '-' * len(word)\n",
    "\n",
    "guess = 1\n",
    "\n",
    "while guess <= num_guesses and '-' in hidden_word:\n",
    "    print(hidden_word)\n",
    "    user_input = input('Enter a character (guess #{}): '.format(guess))\n",
    "\n",
    "    if len(user_input) == 1:\n",
    "        # Count the number of times the character occurs in the word\n",
    "        num_occurrences = word.count(user_input)\n",
    "\n",
    "        # Replace the appropriate position(s) in hidden_word with the actual character.\n",
    "        position = -1\n",
    "        for occurrence in range(num_occurrences):\n",
    "            # Find the position of the next occurrence\n",
    "            position = word.find(user_input, position+1)\n",
    "            # Rebuild the hidden word string\n",
    "            hidden_word = hidden_word[:position] + \\\n",
    "                user_input + hidden_word[position+1:]\n",
    "\n",
    "        guess += 1\n",
    "\n",
    "if not '-' in hidden_word:\n",
    "    print('Winner!', end=' ')\n",
    "else:\n",
    "    print('Loser!', end=' ')\n",
    "\n",
    "print('The word was {}.'.format(word))\n"
   ]
  }
 ],
 "metadata": {
  "interpreter": {
   "hash": "3d99d9eb2277144527de8d4eac28345056b6e76b04b7dd1ea1ada924da721680"
  },
  "kernelspec": {
   "display_name": "Python 3.10.0 64-bit",
   "language": "python",
   "name": "python3"
  },
  "language_info": {
   "codemirror_mode": {
    "name": "ipython",
    "version": 3
   },
   "file_extension": ".py",
   "mimetype": "text/x-python",
   "name": "python",
   "nbconvert_exporter": "python",
   "pygments_lexer": "ipython3",
   "version": "3.10.0"
  },
  "orig_nbformat": 4
 },
 "nbformat": 4,
 "nbformat_minor": 2
}
