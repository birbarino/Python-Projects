{
 "cells": [
  {
   "cell_type": "markdown",
   "metadata": {},
   "source": [
    "## Analyze A/B Test Results\n",
    "\n",
    "This project will assure you have mastered the subjects covered in the statistics lessons.  The hope is to have this project be as comprehensive of these topics as possible.  Good luck!\n",
    "\n",
    "Corresponding with this notebook is a slide deck where you will need to update all the portions in red.  Completing the notebook will provide all the results needed for the slides.  **Correctly completing the slides is a required part of the project.**\n",
    "\n",
    "## Table of Contents\n",
    "- [Introduction](#intro)\n",
    "- [Part I - Descriptive Statistics](#descriptive)\n",
    "- [Part II - Probability](#probability)\n",
    "- [Part III - Experimentation](#experimentation)\n",
    "- [Part IV - Algorithms](#algorithms)\n",
    "\n",
    "\n",
    "<a id='intro'></a>\n",
    "### Introduction\n",
    "\n",
    "A/B tests are very commonly performed by data analysts and data scientists.  For this project, you will be working to understand the results of an A/B test run by an e-commerce website.  Your goal is to work through this notebook to help the company understand if they should implement the new page, keep the old page, or perhaps run the experiment longer to make their decision.\n",
    "\n",
    "**As you work through this notebook, follow along in the classroom and answer the corresponding quiz questions associated with each question.** The labels for each classroom concept are provided for each question.  This will assure you are on the right track as you work through the project, and you can feel more confident in your final submission meeting the criteria.  As a final check, assure you meet all the criteria on the [RUBRIC](https://review.udacity.com/#!/projects/37e27304-ad47-4eb0-a1ab-8c12f60e43d0/rubric).\n",
    "\n",
    "<a id='descriptive'></a>\n",
    "#### Part I - Descriptive Statistics\n",
    "\n",
    "To get started, let's import our libraries."
   ]
  },
  {
   "cell_type": "code",
   "execution_count": 298,
   "metadata": {
    "collapsed": true
   },
   "outputs": [],
   "source": [
    "import pandas as pd\n",
    "import numpy as np\n",
    "import random\n",
    "import matplotlib.pyplot as plt\n",
    "%matplotlib inline\n",
    "#We are setting the seed to assure you get the same answers on quizzes as we set up\n",
    "random.seed(0)"
   ]
  },
  {
   "cell_type": "markdown",
   "metadata": {},
   "source": [
    "For each of the parts of question `1` notice links to [pandas documentation](https://pandas.pydata.org/) is provided to assist with answering the questions.  Though there are other ways you could solve the questions, the documentation is provided to assist you with one fast way to find the answer to each question.\n",
    "\n",
    "\n",
    "`1.a)` Now, read in the `ab_data.csv` data. Store it in `df`. Read in the dataset and take a look at the top few rows here. **This question is completed for you**:"
   ]
  },
  {
   "cell_type": "code",
   "execution_count": 299,
   "metadata": {
    "collapsed": true
   },
   "outputs": [
    {
     "data": {
      "text/html": [
       "<div>\n",
       "<style scoped>\n",
       "    .dataframe tbody tr th:only-of-type {\n",
       "        vertical-align: middle;\n",
       "    }\n",
       "\n",
       "    .dataframe tbody tr th {\n",
       "        vertical-align: top;\n",
       "    }\n",
       "\n",
       "    .dataframe thead th {\n",
       "        text-align: right;\n",
       "    }\n",
       "</style>\n",
       "<table border=\"1\" class=\"dataframe\">\n",
       "  <thead>\n",
       "    <tr style=\"text-align: right;\">\n",
       "      <th></th>\n",
       "      <th>country</th>\n",
       "      <th>group</th>\n",
       "      <th>converted</th>\n",
       "    </tr>\n",
       "  </thead>\n",
       "  <tbody>\n",
       "    <tr>\n",
       "      <th>0</th>\n",
       "      <td>UK</td>\n",
       "      <td>control</td>\n",
       "      <td>0</td>\n",
       "    </tr>\n",
       "    <tr>\n",
       "      <th>1</th>\n",
       "      <td>US</td>\n",
       "      <td>treatment</td>\n",
       "      <td>1</td>\n",
       "    </tr>\n",
       "    <tr>\n",
       "      <th>2</th>\n",
       "      <td>UK</td>\n",
       "      <td>treatment</td>\n",
       "      <td>0</td>\n",
       "    </tr>\n",
       "    <tr>\n",
       "      <th>3</th>\n",
       "      <td>UK</td>\n",
       "      <td>control</td>\n",
       "      <td>0</td>\n",
       "    </tr>\n",
       "    <tr>\n",
       "      <th>4</th>\n",
       "      <td>UK</td>\n",
       "      <td>treatment</td>\n",
       "      <td>0</td>\n",
       "    </tr>\n",
       "  </tbody>\n",
       "</table>\n",
       "</div>"
      ],
      "text/plain": [
       "  country      group  converted\n",
       "0      UK    control          0\n",
       "1      US  treatment          1\n",
       "2      UK  treatment          0\n",
       "3      UK    control          0\n",
       "4      UK  treatment          0"
      ]
     },
     "execution_count": 299,
     "metadata": {},
     "output_type": "execute_result"
    }
   ],
   "source": [
    "df = pd.read_csv('ab_data.csv')\n",
    "df.head()"
   ]
  },
  {
   "cell_type": "markdown",
   "metadata": {},
   "source": [
    "`b)` Use the below cell to find the number of rows in the dataset. [Helpful  Pandas Link](https://pandas.pydata.org/docs/reference/api/pandas.DataFrame.shape.html#pandas.DataFrame.shape)"
   ]
  },
  {
   "cell_type": "code",
   "execution_count": 300,
   "metadata": {
    "collapsed": true
   },
   "outputs": [
    {
     "name": "stdout",
     "output_type": "stream",
     "text": [
      "There are 69889 rows and 3 columns\n"
     ]
    }
   ],
   "source": [
    "rows, cols = df.shape\n",
    "\n",
    "print(\"There are\", rows, \"rows and\", cols, \"columns\")"
   ]
  },
  {
   "cell_type": "markdown",
   "metadata": {
    "collapsed": true
   },
   "source": [
    "`c)` The proportion of users converted.  [Helpful  Pandas Link](https://pandas.pydata.org/docs/reference/api/pandas.DataFrame.mean.html)"
   ]
  },
  {
   "cell_type": "code",
   "execution_count": 301,
   "metadata": {
    "collapsed": true
   },
   "outputs": [
    {
     "name": "stdout",
     "output_type": "stream",
     "text": [
      "Mean users converted: 0.13047832992316388\n"
     ]
    }
   ],
   "source": [
    "print(\"Mean users converted:\", df['converted'].mean())"
   ]
  },
  {
   "cell_type": "markdown",
   "metadata": {},
   "source": [
    "`d)` Do any of the rows have missing values? [Helpful Pandas Link One](https://pandas.pydata.org/docs/reference/api/pandas.DataFrame.isnull.html) and [Helpful Pandas Link Two](https://pandas.pydata.org/docs/reference/api/pandas.DataFrame.sum.html)"
   ]
  },
  {
   "cell_type": "code",
   "execution_count": 302,
   "metadata": {
    "collapsed": true
   },
   "outputs": [
    {
     "name": "stdout",
     "output_type": "stream",
     "text": [
      "No null (missing) values\n"
     ]
    }
   ],
   "source": [
    "if df.isnull().any().all():\n",
    "    print('Null values present')\n",
    "else:\n",
    "    print('No null (missing) values')"
   ]
  },
  {
   "cell_type": "markdown",
   "metadata": {},
   "source": [
    "`e)` How many customers are from each country? Build a bar chart to show the count of visits from each country."
   ]
  },
  {
   "cell_type": "code",
   "execution_count": 303,
   "metadata": {},
   "outputs": [
    {
     "data": {
      "text/plain": [
       "country\n",
       "US    48850\n",
       "UK    17551\n",
       "CA     3488\n",
       "Name: count, dtype: int64"
      ]
     },
     "execution_count": 303,
     "metadata": {},
     "output_type": "execute_result"
    }
   ],
   "source": [
    "# number of visitors from each country - pull the necessary code from the next cell to provide just the counts\n",
    "df['country'].value_counts()"
   ]
  },
  {
   "cell_type": "code",
   "execution_count": 304,
   "metadata": {},
   "outputs": [
    {
     "data": {
      "image/png": "[encoded data removed]",
      "text/plain": [
       "<Figure size 640x480 with 1 Axes>"
      ]
     },
     "metadata": {},
     "output_type": "display_data"
    }
   ],
   "source": [
    "# bar chart of results - this part is done for you\n",
    "df['country'].value_counts().plot(kind='bar');\n",
    "plt.title('Number of Visits From Each Country');\n",
    "plt.ylabel('Count of Visits');\n",
    "plt.show();"
   ]
  },
  {
   "cell_type": "markdown",
   "metadata": {},
   "source": [
    "`f)` Recognize that all of your columns are of a **categorical data type** with the exception of one.  Which column is not **categorical**? [Helpful Pandas Link](https://pandas.pydata.org/docs/reference/api/pandas.DataFrame.info.html)"
   ]
  },
  {
   "cell_type": "code",
   "execution_count": 305,
   "metadata": {},
   "outputs": [
    {
     "name": "stdout",
     "output_type": "stream",
     "text": [
      "<class 'pandas.core.frame.DataFrame'>\n",
      "RangeIndex: 69889 entries, 0 to 69888\n",
      "Data columns (total 3 columns):\n",
      " #   Column     Non-Null Count  Dtype \n",
      "---  ------     --------------  ----- \n",
      " 0   country    69889 non-null  object\n",
      " 1   group      69889 non-null  object\n",
      " 2   converted  69889 non-null  int64 \n",
      "dtypes: int64(1), object(2)\n",
      "memory usage: 1.6+ MB\n"
     ]
    }
   ],
   "source": [
    "df.info()  # the only one that is not 'object' (which is technically a categorical data type) is 'converted' (which is an integer)."
   ]
  },
  {
   "cell_type": "code",
   "execution_count": 306,
   "metadata": {},
   "outputs": [
    {
     "data": {
      "text/plain": [
       "'converted'"
      ]
     },
     "execution_count": 306,
     "metadata": {},
     "output_type": "execute_result"
    }
   ],
   "source": [
    "# Technically, none of them are of type \"category.\" Regardless, the answer is 'converted' \n",
    "\n",
    "df.select_dtypes(exclude=['category','object']).columns[0]  # select only columns that are not of dtype 'object' or 'category' (none of them are 'category')"
   ]
  },
  {
   "cell_type": "markdown",
   "metadata": {},
   "source": [
    "`g)` What are the possible values of the `converted` column?  Does it make sense that these values are the only possible values? Why or why not? \n",
    "\n",
    "**Here you can use one of the functions you used in an earlier question**."
   ]
  },
  {
   "cell_type": "code",
   "execution_count": 307,
   "metadata": {},
   "outputs": [
    {
     "data": {
      "text/plain": [
       "converted\n",
       "0    60770\n",
       "1     9119\n",
       "Name: count, dtype: int64"
      ]
     },
     "execution_count": 307,
     "metadata": {},
     "output_type": "execute_result"
    }
   ],
   "source": [
    "df.converted.value_counts()\n",
    "\n",
    "# values are 0 and 1\n",
    "# It does make sense that these values are the only possible values as users either pay or don't pay for the product (user conversion)\n",
    "# While this could be just a boolean over an int, I find it clever to use 0s or 1s to make taking the mean literally be a probability \n",
    "# calculation of converted_count/total."
   ]
  },
  {
   "cell_type": "markdown",
   "metadata": {},
   "source": [
    "<a id='probability'></a>\n",
    "#### Part II - Probability\n",
    "\n",
    "`1.` Now that you have had a chance to learn more about the dataset, let's look more at how different factors are related to `converting`.\n",
    "\n",
    "`a)` What is the probability of an individual converting regardless of the page they receive or the country they are from? Simply, what is the chance of conversion in the dataset?"
   ]
  },
  {
   "cell_type": "code",
   "execution_count": 308,
   "metadata": {
    "collapsed": true
   },
   "outputs": [
    {
     "name": "stdout",
     "output_type": "stream",
     "text": [
      "Probability of anyone in population converting: 0.13047832992316388\n"
     ]
    }
   ],
   "source": [
    "p_all_convrate = df['converted'].mean()\n",
    "print(\"Probability of anyone in population converting:\", p_all_convrate)"
   ]
  },
  {
   "cell_type": "markdown",
   "metadata": {},
   "source": [
    "`b)` Given that an individual was in the `control` group, what is the probability they converted? **This question is completed for you**"
   ]
  },
  {
   "cell_type": "code",
   "execution_count": 309,
   "metadata": {
    "collapsed": true
   },
   "outputs": [
    {
     "name": "stdout",
     "output_type": "stream",
     "text": [
      "Probability of 'control' group member converting: 0.1052540515600669\n"
     ]
    }
   ],
   "source": [
    "p_control_convrate = df.query('group == \"control\"')['converted'].mean()\n",
    "print(\"Probability of 'control' group member converting:\", p_control_convrate)"
   ]
  },
  {
   "cell_type": "markdown",
   "metadata": {},
   "source": [
    "`c)` Given that an individual was in the `treatment` group, what is the probability they converted?"
   ]
  },
  {
   "cell_type": "code",
   "execution_count": 310,
   "metadata": {},
   "outputs": [
    {
     "name": "stdout",
     "output_type": "stream",
     "text": [
      "Probability of 'treatment' group member converting: 0.15532078043793132\n"
     ]
    }
   ],
   "source": [
    "p_treatment_convrate = df.query('group == \"treatment\"')['converted'].mean()\n",
    "print(\"Probability of 'treatment' group member converting:\", p_treatment_convrate)"
   ]
  },
  {
   "cell_type": "markdown",
   "metadata": {},
   "source": [
    "`d)` Do you see evidence that the treatment is related to higher `converted` rates?"
   ]
  },
  {
   "cell_type": "code",
   "execution_count": 311,
   "metadata": {},
   "outputs": [
    {
     "data": {
      "text/plain": [
       "np.True_"
      ]
     },
     "execution_count": 311,
     "metadata": {},
     "output_type": "execute_result"
    }
   ],
   "source": [
    "p_treatment_convrate > p_control_convrate"
   ]
  },
  {
   "cell_type": "markdown",
   "metadata": {},
   "source": [
    "`e)` What is the probability that an individual was in the `treatment`?"
   ]
  },
  {
   "cell_type": "code",
   "execution_count": 312,
   "metadata": {
    "collapsed": true
   },
   "outputs": [
    {
     "name": "stdout",
     "output_type": "stream",
     "text": [
      "Probability user was in treatment group: 0.5038131894861853\n"
     ]
    }
   ],
   "source": [
    "print(\"Probability user was in treatment group:\", df[df['group'] == 'treatment'].group.count() / df.group.count())"
   ]
  },
  {
   "cell_type": "markdown",
   "metadata": {},
   "source": [
    "`f)` What is the probability that an individual was from Canada `CA`?"
   ]
  },
  {
   "cell_type": "code",
   "execution_count": 313,
   "metadata": {},
   "outputs": [
    {
     "name": "stdout",
     "output_type": "stream",
     "text": [
      "Probability user was from Canada: 0.04990771079855199\n"
     ]
    }
   ],
   "source": [
    "print(\"Probability user was from Canada:\", df[df['country'] == 'CA'].group.count() / df.group.count())\n"
   ]
  },
  {
   "cell_type": "markdown",
   "metadata": {},
   "source": [
    "`g)` Given that an individual was in the `US`, what was the probability that they `converted`? **This question is completed for you**\n",
    "\n",
    "$P(\\text{converted} == 1|\\text{country} ==\\text{\"US\"})$\n",
    "\n"
   ]
  },
  {
   "cell_type": "code",
   "execution_count": 314,
   "metadata": {},
   "outputs": [
    {
     "name": "stdout",
     "output_type": "stream",
     "text": [
      "US conversion rate: 0.13277379733879222\n"
     ]
    }
   ],
   "source": [
    "us_convrate = df.query('country == \"US\"')['converted'].mean()\n",
    "print(\"US conversion rate:\", us_convrate)"
   ]
  },
  {
   "cell_type": "markdown",
   "metadata": {},
   "source": [
    "`h)` Given that an individual was in the `UK`, what was the probability that they `converted`? \n",
    "\n",
    "$P(\\text{converted} == 1|\\text{country} ==\\text{\"UK\"})$"
   ]
  },
  {
   "cell_type": "code",
   "execution_count": 315,
   "metadata": {},
   "outputs": [
    {
     "name": "stdout",
     "output_type": "stream",
     "text": [
      "UK conversion rate: 0.12512107572218106\n"
     ]
    }
   ],
   "source": [
    "uk_convrate = df.query('country == \"UK\"')['converted'].mean()\n",
    "print(\"UK conversion rate:\", uk_convrate)\n"
   ]
  },
  {
   "cell_type": "markdown",
   "metadata": {},
   "source": [
    "`i)` Do you see evidence that the `converted` rate might differ from one country to the next?"
   ]
  },
  {
   "cell_type": "code",
   "execution_count": 316,
   "metadata": {},
   "outputs": [
    {
     "name": "stdout",
     "output_type": "stream",
     "text": [
      "True\n",
      "\n"
     ]
    }
   ],
   "source": [
    "ca_convrate = df.query('country == \"CA\"')['converted'].mean()\n",
    "print(ca_convrate != us_convrate != uk_convrate)\n",
    "\n",
    "# Because none of them are equal, that means that each country has a different conversion rate (in this population)"
   ]
  },
  {
   "cell_type": "markdown",
   "metadata": {},
   "source": [
    "`j)` Consider the table below, fill in the conversion rates below to look at how conversion by country and treatment group vary.  The `US` column is done for you, and two methods for calculating the probabilities are shown - **COMPLETE THE REST OF THE TABLE**.  Does it appear that there could be an interaction between how country and treatment impact conversion?\n",
    "\n",
    "These two values that are filled in can be written as:\n",
    "\n",
    "$P(\\text{converted} == 1|(\\text{country} ==\\text{\"US\" AND }\\text{group} ==\\text{\"control\"})) = 10.7\\%$\n",
    "\n",
    "$P(\\text{converted} == 1|(\\text{country} ==\\text{\"US\" AND }\\text{group} ==\\text{\"treatment\"})) = 15.8\\%$\n",
    "\n",
    "|             | US          | UK          | CA          |\n",
    "| ----------- | ----------- | ----------- | ----------- |\n",
    "| Control     | 10.7%       |  %          |  %          |\n",
    "| Treatment   | 15.8%       |  %          |  %          |"
   ]
  },
  {
   "cell_type": "code",
   "execution_count": 317,
   "metadata": {},
   "outputs": [
    {
     "name": "stdout",
     "output_type": "stream",
     "text": [
      "0.10731404958677686\n",
      "0.1577687626774848\n"
     ]
    }
   ],
   "source": [
    "# Method 1  - explicitly calculate each probability\n",
    "print(df.query('country == \"US\" and group == \"control\" and converted == 1').shape[0]/df.query('country == \"US\" and group == \"control\"').shape[0]) \n",
    "print(df.query('country == \"US\" and group == \"treatment\" and converted == 1').shape[0]/df.query('country == \"US\" and group == \"treatment\"').shape[0])"
   ]
  },
  {
   "cell_type": "code",
   "execution_count": 318,
   "metadata": {},
   "outputs": [
    {
     "data": {
      "text/plain": [
       "group\n",
       "control      0.107314\n",
       "treatment    0.157769\n",
       "Name: converted, dtype: float64"
      ]
     },
     "execution_count": 318,
     "metadata": {},
     "output_type": "execute_result"
    }
   ],
   "source": [
    "# Method 2 - quickly calculate using `groupby`\n",
    "df.query('country == \"US\"').groupby('group')['converted'].mean()"
   ]
  },
  {
   "cell_type": "markdown",
   "metadata": {},
   "source": [
    "\n",
    "\n",
    "|             | US          | UK          | CA          |\n",
    "| ----------- | ----------- | ----------- | ----------- |\n",
    "| Control     | 10.7%       |  10.2%          |  9.4%          |\n",
    "| Treatment   | 15.8%       |  14.9%          |  15.4%          |\n",
    "| $\\Delta$ Conv. Rate | +5.1% | +4.7% | +6.0% |\n",
    "\n",
    "Based on the table above, it does appear that the treatment has a positive impact on conversion rate. However, due to the sample size, I do not believe that we can state the visitor's country plays a statistically significant role just based on this data. The sample size for CA users is significantly smaller than the US by a magnitude of 14 times. For the UK, it is nearly 3 times the size of the US' sample size. If there was less of a disparity in population sizes, or if bootstrap sampling was performed for the smaller UK and CA populations in lieu of more visitors, I would be more comfortable stating if country of residence may or may not have an effect on conversion rate"
   ]
  },
  {
   "cell_type": "code",
   "execution_count": 319,
   "metadata": {},
   "outputs": [
    {
     "name": "stdout",
     "output_type": "stream",
     "text": [
      "country\n",
      "US    48850\n",
      "UK    17551\n",
      "CA     3488\n",
      "Name: count, dtype: int64\n",
      "US has 2.78 times more visitors than UK \n",
      "US has 14.01 times more visitors than CA\n",
      "UK has 35.93% the visitor count of the US \n"
     ]
    }
   ],
   "source": [
    "df_counts = df['country'].value_counts()\n",
    "\n",
    "print(df_counts)\n",
    "print(\"US has \" + str(round(df_counts.iloc[0]/df_counts.iloc[1], 2)) + \" times more visitors than UK \")  # US / UK\n",
    "print(\"US has \" + str(round(df_counts.iloc[0]/df_counts.iloc[2], 2)) + \" times more visitors than CA\")  # US / CA\n",
    "print(\"UK has \" + str(round(df_counts.iloc[1]/df_counts.iloc[0], 4)* 100) + \"% the visitor count of the US \")  # UK / US as percent (.36x the # visitors isn't as readable)"
   ]
  },
  {
   "cell_type": "code",
   "execution_count": 320,
   "metadata": {},
   "outputs": [
    {
     "data": {
      "text/plain": [
       "country  group    \n",
       "US       treatment    24650\n",
       "         control      24200\n",
       "UK       control       8795\n",
       "         treatment     8756\n",
       "CA       treatment     1805\n",
       "         control       1683\n",
       "Name: count, dtype: int64"
      ]
     },
     "execution_count": 320,
     "metadata": {},
     "output_type": "execute_result"
    }
   ],
   "source": [
    "df[['country', 'group']].value_counts()"
   ]
  },
  {
   "cell_type": "code",
   "execution_count": 321,
   "metadata": {},
   "outputs": [
    {
     "data": {
      "text/plain": [
       "group\n",
       "control      0.101649\n",
       "treatment    0.148698\n",
       "Name: converted, dtype: float64"
      ]
     },
     "execution_count": 321,
     "metadata": {},
     "output_type": "execute_result"
    }
   ],
   "source": [
    "df.query('country == \"UK\"').groupby('group')['converted'].mean()"
   ]
  },
  {
   "cell_type": "code",
   "execution_count": 322,
   "metadata": {},
   "outputs": [
    {
     "data": {
      "text/plain": [
       "group\n",
       "control      0.094474\n",
       "treatment    0.154017\n",
       "Name: converted, dtype: float64"
      ]
     },
     "execution_count": 322,
     "metadata": {},
     "output_type": "execute_result"
    }
   ],
   "source": [
    "df.query('country == \"CA\"').groupby('group')['converted'].mean()\n"
   ]
  },
  {
   "cell_type": "markdown",
   "metadata": {},
   "source": [
    "<a id='experimentation'></a>\n",
    "### Part III - Experimentation\n",
    "\n",
    "`1.` Consider you need to make the decision just based on all the data provided.  If you want to assume that the control page is better unless the treatment page proves to be definitely better at a Type I error rate of 5%, you state your null and alternative hypotheses in terms of **$p_{control}$** and **$p_{treatment}$** as:  \n",
    "\n",
    "$H_{0}: p_{control} >= p_{treatment}$\n",
    "\n",
    "$H_{1}: p_{control} < p_{treatment}$\n",
    "\n",
    "Which is equivalent to:\n",
    "\n",
    "$H_{0}: p_{treatment} - p_{control} <= 0$\n",
    "\n",
    "$H_{1}: p_{treatment} - p_{control} > 0$\n",
    "\n",
    "\n",
    "Where  \n",
    "* **$p_{control}$** is the `converted` rate for the control page\n",
    "* **$p_{treatment}$** `converted` rate for the treatment page\n",
    "\n",
    "**Note for this experiment we are not looking at differences associated with country.**"
   ]
  },
  {
   "cell_type": "markdown",
   "metadata": {},
   "source": [
    "Assume under the null hypothesis, $p_{treatment}$ and $p_{control}$ both have \"true\" success rates equal to the **converted** success rate regardless of page - that is $p_{treatment}$ and $p_{control}$ are equal. Furthermore, assume they are equal to the **converted** rate in `df` regardless of the page. **These are set in the first cell below.**<br><br>\n",
    "\n",
    "* Use a sample size for each page equal to the ones in `df`. **These are also set below.**  <br><br>\n",
    "\n",
    "* Perform the sampling distribution for the difference in `converted` between the two pages over 500 iterations of calculating an estimate from the null.  <br><br>\n",
    "\n",
    "* Use the cells below to provide the necessary parts of this simulation.  \n",
    "\n",
    "If this doesn't make complete sense right now, don't worry - you are going to work through the problems below to complete this problem.  You can use **Quiz 4** in the classroom to make sure you are on the right track.<br><br>"
   ]
  },
  {
   "cell_type": "markdown",
   "metadata": {},
   "source": [
    "`a)` The **convert rate** for $p_{treatment}$ under the null.  The **convert rate** for $p_{control}$ under the null. The sample size for the `control` and the sample size for the `treatment` are from the original dataset. **All of these values are set below, and set the stage for the simulations you will run for the rest of this section.**"
   ]
  },
  {
   "cell_type": "code",
   "execution_count": 323,
   "metadata": {
    "collapsed": true
   },
   "outputs": [],
   "source": [
    "p_control_treatment_null  = df['converted'].mean()\n",
    "n_treatment = df.query('group == \"treatment\"').shape[0]\n",
    "n_control = df.query('group == \"control\"').shape[0]"
   ]
  },
  {
   "cell_type": "code",
   "execution_count": 324,
   "metadata": {},
   "outputs": [
    {
     "data": {
      "text/plain": [
       "(35211, 34678)"
      ]
     },
     "execution_count": 324,
     "metadata": {},
     "output_type": "execute_result"
    }
   ],
   "source": [
    "(n_treatment, n_control)"
   ]
  },
  {
   "cell_type": "markdown",
   "metadata": {},
   "source": [
    "`b)` Use the results from part `a)` to simulate `n_treatment` transactions with a convert rate of `p_treatment_null`.  Store these $n_{treatment}$ 1's and 0's in a `list` of **treatment_converted**.  It should look something like the following (the 0's and and 1's **don't** need to be the same): \n",
    "\n",
    "`[0, 0, 1, 1, 0, ....]` "
   ]
  },
  {
   "cell_type": "code",
   "execution_count": 325,
   "metadata": {
    "collapsed": true
   },
   "outputs": [],
   "source": [
    "treatment_converted = df.sample(n_treatment, replace=True)['converted'].to_list()"
   ]
  },
  {
   "cell_type": "code",
   "execution_count": 326,
   "metadata": {},
   "outputs": [
    {
     "data": {
      "text/plain": [
       "np.float64(0.1320326034477862)"
      ]
     },
     "execution_count": 326,
     "metadata": {},
     "output_type": "execute_result"
    }
   ],
   "source": [
    "p_treatment_null = np.mean(treatment_converted)\n",
    "p_treatment_null"
   ]
  },
  {
   "cell_type": "code",
   "execution_count": 327,
   "metadata": {},
   "outputs": [
    {
     "name": "stdout",
     "output_type": "stream",
     "text": [
      "[0, 0, 0, 1, 0, 0, 0, 0, 0, 0]\n",
      "{0, 1}\n",
      "True\n"
     ]
    }
   ],
   "source": [
    "print(treatment_converted[:10])  # confirming we got back what was expected\n",
    "print(set(treatment_converted))  # ensuring there are more than just 0's in there\n",
    "print(n_treatment == len(treatment_converted))  # ensure treatment_converted is n_treatment in length"
   ]
  },
  {
   "cell_type": "markdown",
   "metadata": {},
   "source": [
    "`c)` Use the results from part `a)` to simulate `n_control` transactions with a convert rate of `p_control_null`.  Store these $n_{treatment}$ 1's and 0's in a `list` of **control_converted**.  It should look something like the following (the 0's and and 1's **don't** need to be exactly the same): \n",
    "\n",
    "`[0, 0, 1, 1, 0, ....]` "
   ]
  },
  {
   "cell_type": "code",
   "execution_count": 328,
   "metadata": {
    "collapsed": true
   },
   "outputs": [],
   "source": [
    "control_converted = df.sample(n_control, replace=True)['converted'].to_list()"
   ]
  },
  {
   "cell_type": "code",
   "execution_count": 329,
   "metadata": {},
   "outputs": [
    {
     "data": {
      "text/plain": [
       "np.float64(0.12829459599746237)"
      ]
     },
     "execution_count": 329,
     "metadata": {},
     "output_type": "execute_result"
    }
   ],
   "source": [
    "p_control_null = np.mean(control_converted)\n",
    "p_control_null"
   ]
  },
  {
   "cell_type": "markdown",
   "metadata": {},
   "source": [
    "`d)` Find the estimate for $p_{treatment}$ - $p_{control}$ under the null using the simulated values from part `(b)` and `(c)`."
   ]
  },
  {
   "cell_type": "code",
   "execution_count": 330,
   "metadata": {
    "collapsed": true
   },
   "outputs": [
    {
     "name": "stdout",
     "output_type": "stream",
     "text": [
      "0.0037380074503238214\n"
     ]
    }
   ],
   "source": [
    "est_diff_treatment_control = p_treatment_null - p_control_null\n",
    "print(est_diff_treatment_control)"
   ]
  },
  {
   "cell_type": "markdown",
   "metadata": {},
   "source": [
    "`e)` Simulate 500 $p_{treatment}$ - $p_{control}$ values using this same process as `b)`- `d)` similarly to the one you calculated in parts **a. through g.** above.  Store all 500 values in an numpy array called **p_diffs**.  This array should look similar to the below **(the values will not match AND this will likely take a bit of time to run)**:\n",
    "\n",
    "`[0.001, -0.003, 0.002, ...]`"
   ]
  },
  {
   "cell_type": "code",
   "execution_count": 331,
   "metadata": {
    "collapsed": true
   },
   "outputs": [],
   "source": [
    "p_diffs = []\n",
    " \n",
    "for _ in range(500):\n",
    "    # simulate the treatment and control converted arrays\n",
    "    treatment_converted = df.sample(n_treatment, replace=True)['converted'].to_list()\n",
    "    control_converted = df.sample(n_control, replace=True)['converted'].to_list()\n",
    "\n",
    "    # calculate p_treatment and p_control under the null\n",
    "    p_treatment_null = np.mean(treatment_converted)\n",
    "    p_control_null = np.mean(control_converted)\n",
    "\n",
    "    # calculate the difference between p_treatment_null and p_control_null\n",
    "    # add p_diff to the p_diffs array\n",
    "    p_diffs.append(p_treatment_null - p_control_null)"
   ]
  },
  {
   "cell_type": "markdown",
   "metadata": {},
   "source": [
    "`f)` Plot a histogram of the **p_diffs**.  Does this plot look like what you expected?  Use the matching problem in the classroom to assure you fully understand what was computed here."
   ]
  },
  {
   "cell_type": "code",
   "execution_count": 332,
   "metadata": {
    "collapsed": true
   },
   "outputs": [
    {
     "data": {
      "image/png": "[encoded data removed]",
      "text/plain": [
       "<Figure size 640x480 with 1 Axes>"
      ]
     },
     "metadata": {},
     "output_type": "display_data"
    }
   ],
   "source": [
    "p_diffs = pd.Series(p_diffs)\n",
    "p_diffs.hist(bins=20);"
   ]
  },
  {
   "cell_type": "markdown",
   "metadata": {},
   "source": [
    "`g)` What proportion of the **p_diffs** are greater than the difference observed between `treatment` and `control` in `df`?"
   ]
  },
  {
   "cell_type": "code",
   "execution_count": 333,
   "metadata": {
    "collapsed": true
   },
   "outputs": [
    {
     "data": {
      "text/plain": [
       "np.float64(0.0)"
      ]
     },
     "execution_count": 333,
     "metadata": {},
     "output_type": "execute_result"
    }
   ],
   "source": [
    "observed_diff = df.query('group == \"treatment\"')['converted'].mean() - df.query('group == \"control\"')['converted'].mean()\n",
    "\n",
    "(p_diffs > observed_diff).mean()"
   ]
  },
  {
   "cell_type": "markdown",
   "metadata": {},
   "source": [
    "`h)` In words, explain what you just computed in part `g)`  What is this value called in scientific studies?  What does this value mean in terms of whether or not there is a difference between the new and old pages using our Type I error rate of 0.05?"
   ]
  },
  {
   "cell_type": "markdown",
   "metadata": {},
   "source": [
    "**My answer**: In part `g`, the p-value was computed. This value is the probability of obtaining the observed statistic, or one that's more extreme, while assuming that the null hypothesis is true. Essentially, I like to think of it as the likelihood that the value could show up in a reality where the null hypothesis is true. In this case, it was less than the Type I error rate of 0.05, therefore we reject the null hypothesis as there is a statistically significant difference between the conversion rates for the new page versus the old page."
   ]
  },
  {
   "cell_type": "markdown",
   "metadata": {},
   "source": [
    "<a id='algorithms'></a>\n",
    "### Part IV - Algorithms\n",
    "\n",
    "`1.` In this final part, you will see that the result you acheived in the previous A/B test can also be acheived by performing regression.  All the code needed for the modeling and results of the modeling for sections `b) - f)` have been completed for you. \n",
    "\n",
    "**You will need to complete sections `a)` and `g)`.**  \n",
    "\n",
    "**Then use the code from `1.` to assist with the question `2.`   You should be able to modify the code to assist in answering each of question 2's parts.**<br><br>\n",
    "\n",
    "`a)` Since each row is either a conversion or no conversion, what type of regression should you be performing in this case?"
   ]
  },
  {
   "cell_type": "markdown",
   "metadata": {},
   "source": [
    "**Your Answer Here**"
   ]
  },
  {
   "cell_type": "markdown",
   "metadata": {},
   "source": [
    "The goal is to use **statsmodels** to fit the regression model you specified in part `a)` to see if there is a significant difference in conversion based on which page a customer receives.  \n",
    "\n",
    "`b)` However, you first need to create a column for the intercept, and create a dummy variable column for which page each user received.  Add an **intercept** column, as well as an **ab_page** column, which is 1 when an individual receives the **treatment** and 0 if **control**.\n",
    "\n",
    "It may be helpful to look at the [get_dummies documentation](https://pandas.pydata.org/docs/reference/api/pandas.get_dummies.html) to encode the `ab_page` column.\n",
    "\n",
    "Below you can see an example of the new columns that will need to be added (The order of columns is not important.): **This question is completed for you**\n",
    "\n",
    "##### Example DataFrame\n",
    "| intercept   | group       | ab_page     | converted   |\n",
    "| ----------- | ----------- | ----------- | ----------- |\n",
    "| 1           |  control    |  0          |  0          |\n",
    "| 1           |  treatment  |  1          |  0          |\n",
    "| 1           |  treatment  |  1          |  0          |\n",
    "| 1           |  control    |  0          |  0          |\n",
    "| 1           |  treatment  |  1          |  1          |\n",
    "| 1           |  treatment  |  1          |  1          |\n",
    "| 1           |  treatment  |  1          |  0          |\n",
    "| 1           |  control    |  0          |  1          |"
   ]
  },
  {
   "cell_type": "code",
   "execution_count": 335,
   "metadata": {
    "collapsed": true
   },
   "outputs": [
    {
     "data": {
      "text/html": [
       "<div>\n",
       "<style scoped>\n",
       "    .dataframe tbody tr th:only-of-type {\n",
       "        vertical-align: middle;\n",
       "    }\n",
       "\n",
       "    .dataframe tbody tr th {\n",
       "        vertical-align: top;\n",
       "    }\n",
       "\n",
       "    .dataframe thead th {\n",
       "        text-align: right;\n",
       "    }\n",
       "</style>\n",
       "<table border=\"1\" class=\"dataframe\">\n",
       "  <thead>\n",
       "    <tr style=\"text-align: right;\">\n",
       "      <th></th>\n",
       "      <th>country</th>\n",
       "      <th>group</th>\n",
       "      <th>converted</th>\n",
       "      <th>intercept</th>\n",
       "      <th>ab_page</th>\n",
       "    </tr>\n",
       "  </thead>\n",
       "  <tbody>\n",
       "    <tr>\n",
       "      <th>0</th>\n",
       "      <td>UK</td>\n",
       "      <td>control</td>\n",
       "      <td>0</td>\n",
       "      <td>1</td>\n",
       "      <td>0</td>\n",
       "    </tr>\n",
       "    <tr>\n",
       "      <th>1</th>\n",
       "      <td>US</td>\n",
       "      <td>treatment</td>\n",
       "      <td>1</td>\n",
       "      <td>1</td>\n",
       "      <td>1</td>\n",
       "    </tr>\n",
       "    <tr>\n",
       "      <th>2</th>\n",
       "      <td>UK</td>\n",
       "      <td>treatment</td>\n",
       "      <td>0</td>\n",
       "      <td>1</td>\n",
       "      <td>1</td>\n",
       "    </tr>\n",
       "    <tr>\n",
       "      <th>3</th>\n",
       "      <td>UK</td>\n",
       "      <td>control</td>\n",
       "      <td>0</td>\n",
       "      <td>1</td>\n",
       "      <td>0</td>\n",
       "    </tr>\n",
       "    <tr>\n",
       "      <th>4</th>\n",
       "      <td>UK</td>\n",
       "      <td>treatment</td>\n",
       "      <td>0</td>\n",
       "      <td>1</td>\n",
       "      <td>1</td>\n",
       "    </tr>\n",
       "  </tbody>\n",
       "</table>\n",
       "</div>"
      ],
      "text/plain": [
       "  country      group  converted  intercept  ab_page\n",
       "0      UK    control          0          1        0\n",
       "1      US  treatment          1          1        1\n",
       "2      UK  treatment          0          1        1\n",
       "3      UK    control          0          1        0\n",
       "4      UK  treatment          0          1        1"
      ]
     },
     "execution_count": 335,
     "metadata": {},
     "output_type": "execute_result"
    }
   ],
   "source": [
    "df['intercept'] = 1\n",
    "df['ab_page'] = pd.get_dummies(df['group'], dtype=int)['treatment']\n",
    "df.head()"
   ]
  },
  {
   "cell_type": "markdown",
   "metadata": {},
   "source": [
    "`c)`  Create your `X` matrix and `y` response column that will be passed to your model, where you are testing if there is a difference in `treatment` vs. `control`. **This question is completed for you**"
   ]
  },
  {
   "cell_type": "code",
   "execution_count": 336,
   "metadata": {
    "collapsed": true
   },
   "outputs": [],
   "source": [
    "X = df[['intercept', 'ab_page']]\n",
    "y = df['converted']"
   ]
  },
  {
   "cell_type": "markdown",
   "metadata": {},
   "source": [
    "`d)` Use **statsmodels** to import and fit your regression model on the `X` and `y` from part `c)`. \n",
    "\n",
    "You can find the [statsmodels documentation to assist with this exercise here](https://www.statsmodels.org/stable/discretemod.html).  **This question is completed for you**"
   ]
  },
  {
   "cell_type": "code",
   "execution_count": 337,
   "metadata": {},
   "outputs": [
    {
     "name": "stdout",
     "output_type": "stream",
     "text": [
      "Optimization terminated successfully.\n",
      "         Current function value: 0.384516\n",
      "         Iterations 6\n"
     ]
    }
   ],
   "source": [
    "import statsmodels.api as sm\n",
    "\n",
    "# Logit Model\n",
    "logit_mod = sm.Logit(y, X)\n",
    "logit_res = logit_mod.fit()"
   ]
  },
  {
   "cell_type": "markdown",
   "metadata": {},
   "source": [
    "`e)` Provide the summary of your model below. **This question is completed for you**"
   ]
  },
  {
   "cell_type": "code",
   "execution_count": 338,
   "metadata": {
    "collapsed": true
   },
   "outputs": [
    {
     "name": "stdout",
     "output_type": "stream",
     "text": [
      "                           Logit Regression Results                           \n",
      "==============================================================================\n",
      "Dep. Variable:              converted   No. Observations:                69889\n",
      "Model:                          Logit   Df Residuals:                    69887\n",
      "Method:                           MLE   Df Model:                            1\n",
      "Date:                Fri, 27 Jun 2025   Pseudo R-squ.:                0.007175\n",
      "Time:                        21:00:20   Log-Likelihood:                -26873.\n",
      "converged:                       True   LL-Null:                       -27068.\n",
      "Covariance Type:            nonrobust   LLR p-value:                 1.810e-86\n",
      "==============================================================================\n",
      "                 coef    std err          z      P>|z|      [0.025      0.975]\n",
      "------------------------------------------------------------------------------\n",
      "intercept     -2.1402      0.017   -122.305      0.000      -2.174      -2.106\n",
      "ab_page        0.4467      0.023     19.539      0.000       0.402       0.492\n",
      "==============================================================================\n"
     ]
    }
   ],
   "source": [
    "print(logit_res.summary())"
   ]
  },
  {
   "cell_type": "markdown",
   "metadata": {},
   "source": [
    "`f)` What is the p-value associated with **ab_page**? Does it lead you to the same conclusion you drew in the **Experiment** section."
   ]
  },
  {
   "cell_type": "markdown",
   "metadata": {},
   "source": [
    "**My answer**: The p-value is 0.0, which indicates that the variation in web pages is statistically significant. This is the same conclusion as what was drawn during the experiment."
   ]
  },
  {
   "cell_type": "markdown",
   "metadata": {},
   "source": [
    "`2. a)` Now you will want to create two new columns as dummy variables for `US` and `UK`.  Again, use `get_dummies` to add these columns.  The dataframe you create should include at least the following columns (If both columns for `US` and `UK` are `0` this represents `CA`.  The order of rows and columns is not important for you to match - it is just to illustrate how columns should connect to one another.):\n",
    "\n",
    "##### Example DataFrame\n",
    "| intercept   | group       | ab_page     | converted   | country     |  US         | UK          |\n",
    "| ----------- | ----------- | ----------- | ----------- | ----------- | ----------- | ----------- |\n",
    "| 1           |  control    |  0          |  0          |  US         |  1          |  0          |\n",
    "| 1           |  treatment  |  1          |  0          |  UK         |  0          |  1          |\n",
    "| 1           |  treatment  |  1          |  0          |  US         |  1          |  0          |\n",
    "| 1           |  control    |  0          |  0          |  US         |  1          |  0          |\n",
    "| 1           |  treatment  |  1          |  1          |  CA         |  0          |  0          |\n",
    "| 1           |  treatment  |  1          |  1          |  UK         |  0          |  1          |\n",
    "| 1           |  treatment  |  1          |  0          |  US         |  1          |  0          |\n",
    "| 1           |  control    |  0          |  1          |  US         |  1          |  0          |"
   ]
  },
  {
   "cell_type": "code",
   "execution_count": 339,
   "metadata": {
    "collapsed": true
   },
   "outputs": [
    {
     "data": {
      "text/html": [
       "<div>\n",
       "<style scoped>\n",
       "    .dataframe tbody tr th:only-of-type {\n",
       "        vertical-align: middle;\n",
       "    }\n",
       "\n",
       "    .dataframe tbody tr th {\n",
       "        vertical-align: top;\n",
       "    }\n",
       "\n",
       "    .dataframe thead th {\n",
       "        text-align: right;\n",
       "    }\n",
       "</style>\n",
       "<table border=\"1\" class=\"dataframe\">\n",
       "  <thead>\n",
       "    <tr style=\"text-align: right;\">\n",
       "      <th></th>\n",
       "      <th>country</th>\n",
       "      <th>group</th>\n",
       "      <th>converted</th>\n",
       "      <th>intercept</th>\n",
       "      <th>ab_page</th>\n",
       "      <th>US</th>\n",
       "      <th>UK</th>\n",
       "    </tr>\n",
       "  </thead>\n",
       "  <tbody>\n",
       "    <tr>\n",
       "      <th>0</th>\n",
       "      <td>UK</td>\n",
       "      <td>control</td>\n",
       "      <td>0</td>\n",
       "      <td>1</td>\n",
       "      <td>0</td>\n",
       "      <td>1</td>\n",
       "      <td>0</td>\n",
       "    </tr>\n",
       "    <tr>\n",
       "      <th>1</th>\n",
       "      <td>US</td>\n",
       "      <td>treatment</td>\n",
       "      <td>1</td>\n",
       "      <td>1</td>\n",
       "      <td>1</td>\n",
       "      <td>0</td>\n",
       "      <td>1</td>\n",
       "    </tr>\n",
       "    <tr>\n",
       "      <th>2</th>\n",
       "      <td>UK</td>\n",
       "      <td>treatment</td>\n",
       "      <td>0</td>\n",
       "      <td>1</td>\n",
       "      <td>1</td>\n",
       "      <td>1</td>\n",
       "      <td>0</td>\n",
       "    </tr>\n",
       "    <tr>\n",
       "      <th>3</th>\n",
       "      <td>UK</td>\n",
       "      <td>control</td>\n",
       "      <td>0</td>\n",
       "      <td>1</td>\n",
       "      <td>0</td>\n",
       "      <td>1</td>\n",
       "      <td>0</td>\n",
       "    </tr>\n",
       "    <tr>\n",
       "      <th>4</th>\n",
       "      <td>UK</td>\n",
       "      <td>treatment</td>\n",
       "      <td>0</td>\n",
       "      <td>1</td>\n",
       "      <td>1</td>\n",
       "      <td>1</td>\n",
       "      <td>0</td>\n",
       "    </tr>\n",
       "  </tbody>\n",
       "</table>\n",
       "</div>"
      ],
      "text/plain": [
       "  country      group  converted  intercept  ab_page  US  UK\n",
       "0      UK    control          0          1        0   1   0\n",
       "1      US  treatment          1          1        1   0   1\n",
       "2      UK  treatment          0          1        1   1   0\n",
       "3      UK    control          0          1        0   1   0\n",
       "4      UK  treatment          0          1        1   1   0"
      ]
     },
     "execution_count": 339,
     "metadata": {},
     "output_type": "execute_result"
    }
   ],
   "source": [
    "df[['CA', 'US', 'UK']] = pd.get_dummies(df['country'], dtype=int)\n",
    "df = df.drop('CA', axis=1)  # drop CA to set as baseline\n",
    "\n",
    "df.head()"
   ]
  },
  {
   "cell_type": "markdown",
   "metadata": {},
   "source": [
    "`b)`  Create your `X` matrix and `y` response column that will be passed to your model, where you are testing if there is \n",
    "* a difference in `converted` between `treatment` vs. `control`\n",
    "* a difference in `converted` between `US`, `UK`, and `CA`"
   ]
  },
  {
   "cell_type": "code",
   "execution_count": 340,
   "metadata": {},
   "outputs": [],
   "source": [
    "X = df[['intercept', 'ab_page', 'US', 'UK']]\n",
    "y = df['converted']"
   ]
  },
  {
   "cell_type": "markdown",
   "metadata": {},
   "source": [
    "`c)` Use **statsmodels** to import and fit your regression model on the `X` and `y` from part `b)`. \n",
    "You can find the [statsmodels documentation to assist with this exercise here](https://www.statsmodels.org/stable/discretemod.html)."
   ]
  },
  {
   "cell_type": "code",
   "execution_count": 341,
   "metadata": {},
   "outputs": [
    {
     "name": "stdout",
     "output_type": "stream",
     "text": [
      "Optimization terminated successfully.\n",
      "         Current function value: 0.384463\n",
      "         Iterations 6\n"
     ]
    }
   ],
   "source": [
    "logit_mod = sm.Logit(y, X)\n",
    "logit_res = logit_mod.fit()"
   ]
  },
  {
   "cell_type": "markdown",
   "metadata": {},
   "source": [
    "`d)` Provide the summary of your model below."
   ]
  },
  {
   "cell_type": "code",
   "execution_count": 343,
   "metadata": {},
   "outputs": [
    {
     "data": {
      "text/html": [
       "<table class=\"simpletable\">\n",
       "<tr>\n",
       "        <td>Model:</td>              <td>Logit</td>           <td>Method:</td>          <td>MLE</td>   \n",
       "</tr>\n",
       "<tr>\n",
       "  <td>Dependent Variable:</td>     <td>converted</td>    <td>Pseudo R-squared:</td>    <td>0.007</td>  \n",
       "</tr>\n",
       "<tr>\n",
       "         <td>Date:</td>        <td>2025-06-27 21:09</td>       <td>AIC:</td>        <td>53747.4949</td>\n",
       "</tr>\n",
       "<tr>\n",
       "   <td>No. Observations:</td>        <td>69889</td>            <td>BIC:</td>        <td>53784.1135</td>\n",
       "</tr>\n",
       "<tr>\n",
       "       <td>Df Model:</td>              <td>3</td>         <td>Log-Likelihood:</td>    <td>-26870.</td> \n",
       "</tr>\n",
       "<tr>\n",
       "     <td>Df Residuals:</td>          <td>69885</td>          <td>LL-Null:</td>        <td>-27068.</td> \n",
       "</tr>\n",
       "<tr>\n",
       "      <td>Converged:</td>           <td>1.0000</td>        <td>LLR p-value:</td>    <td>1.7779e-85</td>\n",
       "</tr>\n",
       "<tr>\n",
       "    <td>No. Iterations:</td>        <td>6.0000</td>           <td>Scale:</td>         <td>1.0000</td>  \n",
       "</tr>\n",
       "</table>\n",
       "<table class=\"simpletable\">\n",
       "<tr>\n",
       "      <td></td>       <th>Coef.</th>  <th>Std.Err.</th>     <th>z</th>     <th>P>|z|</th> <th>[0.025</th>  <th>0.975]</th> \n",
       "</tr>\n",
       "<tr>\n",
       "  <th>intercept</th> <td>-2.1930</td>  <td>0.0531</td>  <td>-41.3083</td> <td>0.0000</td> <td>-2.2970</td> <td>-2.0889</td>\n",
       "</tr>\n",
       "<tr>\n",
       "  <th>ab_page</th>   <td>0.4466</td>   <td>0.0229</td>   <td>19.5338</td> <td>0.0000</td> <td>0.4018</td>  <td>0.4914</td> \n",
       "</tr>\n",
       "<tr>\n",
       "  <th>US</th>        <td>0.0067</td>   <td>0.0562</td>   <td>0.1196</td>  <td>0.9048</td> <td>-0.1033</td> <td>0.1168</td> \n",
       "</tr>\n",
       "<tr>\n",
       "  <th>UK</th>        <td>0.0727</td>   <td>0.0530</td>   <td>1.3718</td>  <td>0.1701</td> <td>-0.0312</td> <td>0.1766</td> \n",
       "</tr>\n",
       "</table><br/>\n"
      ],
      "text/latex": [
       "\\begin{table}\n",
       "\\caption{Results: Logit}\n",
       "\\label{}\n",
       "\\begin{center}\n",
       "\\begin{tabular}{llll}\n",
       "\\hline\n",
       "Model:              & Logit            & Method:           & MLE         \\\\\n",
       "Dependent Variable: & converted        & Pseudo R-squared: & 0.007       \\\\\n",
       "Date:               & 2025-06-27 21:09 & AIC:              & 53747.4949  \\\\\n",
       "No. Observations:   & 69889            & BIC:              & 53784.1135  \\\\\n",
       "Df Model:           & 3                & Log-Likelihood:   & -26870.     \\\\\n",
       "Df Residuals:       & 69885            & LL-Null:          & -27068.     \\\\\n",
       "Converged:          & 1.0000           & LLR p-value:      & 1.7779e-85  \\\\\n",
       "No. Iterations:     & 6.0000           & Scale:            & 1.0000      \\\\\n",
       "\\hline\n",
       "\\end{tabular}\n",
       "\\end{center}\n",
       "\n",
       "\\begin{center}\n",
       "\\begin{tabular}{lrrrrrr}\n",
       "\\hline\n",
       "          &   Coef. & Std.Err. &        z & P$> |$z$|$ &  [0.025 &  0.975]  \\\\\n",
       "\\hline\n",
       "intercept & -2.1930 &   0.0531 & -41.3083 &      0.0000 & -2.2970 & -2.0889  \\\\\n",
       "ab\\_page  &  0.4466 &   0.0229 &  19.5338 &      0.0000 &  0.4018 &  0.4914  \\\\\n",
       "US        &  0.0067 &   0.0562 &   0.1196 &      0.9048 & -0.1033 &  0.1168  \\\\\n",
       "UK        &  0.0727 &   0.0530 &   1.3718 &      0.1701 & -0.0312 &  0.1766  \\\\\n",
       "\\hline\n",
       "\\end{tabular}\n",
       "\\end{center}\n",
       "\\end{table}\n",
       "\\bigskip\n"
      ],
      "text/plain": [
       "<class 'statsmodels.iolib.summary2.Summary'>\n",
       "\"\"\"\n",
       "                         Results: Logit\n",
       "=================================================================\n",
       "Model:              Logit            Method:           MLE       \n",
       "Dependent Variable: converted        Pseudo R-squared: 0.007     \n",
       "Date:               2025-06-27 21:09 AIC:              53747.4949\n",
       "No. Observations:   69889            BIC:              53784.1135\n",
       "Df Model:           3                Log-Likelihood:   -26870.   \n",
       "Df Residuals:       69885            LL-Null:          -27068.   \n",
       "Converged:          1.0000           LLR p-value:      1.7779e-85\n",
       "No. Iterations:     6.0000           Scale:            1.0000    \n",
       "------------------------------------------------------------------\n",
       "              Coef.   Std.Err.     z      P>|z|    [0.025   0.975]\n",
       "------------------------------------------------------------------\n",
       "intercept    -2.1930    0.0531  -41.3083  0.0000  -2.2970  -2.0889\n",
       "ab_page       0.4466    0.0229   19.5338  0.0000   0.4018   0.4914\n",
       "US            0.0067    0.0562    0.1196  0.9048  -0.1033   0.1168\n",
       "UK            0.0727    0.0530    1.3718  0.1701  -0.0312   0.1766\n",
       "=================================================================\n",
       "\n",
       "\"\"\""
      ]
     },
     "execution_count": 343,
     "metadata": {},
     "output_type": "execute_result"
    }
   ],
   "source": [
    "logit_res.summary2()"
   ]
  },
  {
   "cell_type": "markdown",
   "metadata": {},
   "source": [
    "`e)` What do the `p-values` associated with `US` and `UK` suggest in relation to how they impact `converted`? "
   ]
  },
  {
   "cell_type": "markdown",
   "metadata": {},
   "source": [
    "**My answer**: Both p-values for the US and UK are greater than `0.05`, which suggests that they do not impact conversion rate in a manner that is statistically significant."
   ]
  },
  {
   "cell_type": "markdown",
   "metadata": {},
   "source": []
  }
 ],
 "metadata": {
  "kernelspec": {
   "display_name": "Python 3",
   "language": "python",
   "name": "python3"
  },
  "language_info": {
   "codemirror_mode": {
    "name": "ipython",
    "version": 3
   },
   "file_extension": ".py",
   "mimetype": "text/x-python",
   "name": "python",
   "nbconvert_exporter": "python",
   "pygments_lexer": "ipython3",
   "version": "3.10.7"
  }
 },
 "nbformat": 4,
 "nbformat_minor": 2
}
