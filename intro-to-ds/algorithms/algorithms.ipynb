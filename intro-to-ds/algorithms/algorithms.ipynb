{
 "cells": [
  {
   "cell_type": "markdown",
   "id": "1e73f173",
   "metadata": {},
   "source": [
    "# Intro"
   ]
  },
  {
   "cell_type": "markdown",
   "id": "de0f4347",
   "metadata": {},
   "source": [
    "## Intro to Machine Learning"
   ]
  },
  {
   "cell_type": "markdown",
   "id": "1888018a",
   "metadata": {},
   "source": [
    "### Supervised\n",
    "Input data is used to predict a label for that data. Predict a label based on inputs.\n",
    "- Examples: Transaction data to label certain transactions as fraudulent\n",
    "\n",
    "### Unsupervised\n",
    "Clustering data based on common characteristics.\n",
    "- No labels, they just get clumped together\n",
    "- Grouping customer segments\n",
    "- Grouping docs by topic"
   ]
  },
  {
   "cell_type": "markdown",
   "id": "45ef38d0",
   "metadata": {},
   "source": [
    "## Why Linear Regression"
   ]
  },
  {
   "cell_type": "markdown",
   "id": "a6d2642c",
   "metadata": {},
   "source": [
    "### Interpretability\n",
    "LinReg models have clear levers for how the changes in the inputs might impact the result... depending on the number of conditions.\n",
    "- LinReg is about isolating those components.\n",
    "\n",
    "### Computational Efficiency\n",
    "Vs. deep learning, LinReg or Logistic Regression (LogReg) can find a solution faster and with less resources\n",
    "\n",
    "### Usefulness in Controlled Situations\n",
    "When used in a real world scenario, it's often for experimental things, especially where high levels of control over variables is needed.\n",
    "- Due to their simplicity, linreg/logreg models have limitations in the kinds of relationships b/w vars that can be captured.\n",
    "- Still enable control over most of the vars and focus on answering specific questions.\n",
    "- Lots of assumptions that might make results unactionable (assumptions are somewhat simplifying the problem)"
   ]
  },
  {
   "cell_type": "markdown",
   "id": "e3f8817f",
   "metadata": {},
   "source": [
    "# Regression"
   ]
  },
  {
   "cell_type": "markdown",
   "id": "3a14446d",
   "metadata": {},
   "source": [
    "# Multiple Linear Regression"
   ]
  },
  {
   "cell_type": "markdown",
   "id": "f60dc883",
   "metadata": {},
   "source": [
    "# Logistic Regression"
   ]
  },
  {
   "cell_type": "markdown",
   "id": "b86e1cc7",
   "metadata": {},
   "source": []
  }
 ],
 "metadata": {
  "language_info": {
   "name": "python"
  }
 },
 "nbformat": 4,
 "nbformat_minor": 5
}
