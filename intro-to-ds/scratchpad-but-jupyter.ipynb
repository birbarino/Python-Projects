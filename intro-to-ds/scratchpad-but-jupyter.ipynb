{
 "cells": [
  {
   "cell_type": "code",
   "execution_count": 3,
   "id": "1cf480cc",
   "metadata": {},
   "outputs": [
    {
     "name": "stdout",
     "output_type": "stream",
     "text": [
      "5.75 [0.69314718 1.09861229 1.94591015 1.60943791 2.07944154 2.30258509\n",
      " 1.60943791 1.79175947] [-0.41614684 -0.9899925   0.75390225  0.28366219 -0.14550003 -0.83907153\n",
      "  0.28366219  0.96017029]\n"
     ]
    }
   ],
   "source": [
    "import numpy as np \n",
    "\n",
    "counts = [2, 3, 7, 5, 8, 10, 5, 6]\n",
    "mean = np.mean(counts)\n",
    "logs = np.log(counts)\n",
    "cosines = np.cos(counts)\n",
    "print(mean, logs, cosines)"
   ]
  },
  {
   "cell_type": "code",
   "execution_count": null,
   "id": "517c928a",
   "metadata": {},
   "outputs": [],
   "source": []
  }
 ],
 "metadata": {
  "kernelspec": {
   "display_name": "Python 3",
   "language": "python",
   "name": "python3"
  },
  "language_info": {
   "codemirror_mode": {
    "name": "ipython",
    "version": 3
   },
   "file_extension": ".py",
   "mimetype": "text/x-python",
   "name": "python",
   "nbconvert_exporter": "python",
   "pygments_lexer": "ipython3",
   "version": "3.10.7"
  }
 },
 "nbformat": 4,
 "nbformat_minor": 5
}
