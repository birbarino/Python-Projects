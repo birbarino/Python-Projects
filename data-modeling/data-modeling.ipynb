{
 "cells": [
  {
   "cell_type": "markdown",
   "id": "9a142d8c",
   "metadata": {},
   "source": [
    "# Data Modeling"
   ]
  },
  {
   "cell_type": "markdown",
   "id": "9c0c3e2c",
   "metadata": {},
   "source": [
    "## Relational Databases"
   ]
  },
  {
   "cell_type": "markdown",
   "id": "c6f93f4a",
   "metadata": {},
   "source": [
    "Benefits of using a relational DB:\n",
    "- Writing in SQL\n",
    "- Modeling the data, not queries\n",
    "- Joining\n",
    "- Aggregations and analytics\n",
    "- Secondary indexes available - help with quick searching\n",
    "- Smaller data volumes\n",
    "- ACID transactions\n",
    "- Easier to change to business requirements\n",
    "\n",
    "When not to use RDBs\n",
    "- Large amounts of data\n",
    "- Need fast reads\n",
    "- Need to store many formats\n",
    "- Need flexible schema\n",
    "- Need high availability/distribution (RDBs have a single worker/processor)\n",
    "- Need horizontal scalability - adding mroe machines/nodes to increase performance"
   ]
  },
  {
   "cell_type": "markdown",
   "id": "884a9985",
   "metadata": {},
   "source": [
    "### ACID Transactions"
   ]
  },
  {
   "cell_type": "markdown",
   "id": "78df955d",
   "metadata": {},
   "source": [
    "Ensures data integrity\n",
    "\n",
    "Guarantee validity event when errors or power failures occur!\n",
    "- Atomicity\n",
    "  - the whole transaction is processed or nothing at all, i.e. moving money out of checking into savings\n",
    "- Consistency\n",
    "  - transactions that follow constraints/rules are written to the DB, otherwise they are not, i.e. not entering ints into a boolean row\n",
    "- Isolation\n",
    "  - transactions are processed securely and independently. Order of transactions does not matter\n",
    "  - Other queries cannot touch data until first is done processing\n",
    "- Durability\n",
    "  - completed transactions are saved to DB in case of failure\n",
    "    - Committed transactions remain committed - effects are recorded in non-volatile storage\n",
    "    - "
   ]
  },
  {
   "cell_type": "markdown",
   "id": "6cf7aa21",
   "metadata": {},
   "source": [
    "### Playing with PSQL using `psycopg2` lib in Python"
   ]
  },
  {
   "cell_type": "code",
   "execution_count": 12,
   "id": "fae8e9b4",
   "metadata": {},
   "outputs": [],
   "source": [
    "import psycopg2\n",
    "import getpass"
   ]
  },
  {
   "cell_type": "code",
   "execution_count": null,
   "id": "a59d7117",
   "metadata": {},
   "outputs": [],
   "source": [
    "user = \"postgres\"\n",
    "passwd = getpass.getpass(prompt=f'Enter password for user {user}')\n",
    "try: \n",
    "    conn = psycopg2.connect(f\"host=127.0.0.1 dbname=data-modeling user={user} password={passwd}\")\n",
    "except psycopg2.Error as e: \n",
    "    print(\"Error: Could not make connection to the Postgres database\")\n",
    "    print(e)"
   ]
  },
  {
   "cell_type": "code",
   "execution_count": 14,
   "id": "73b0d953",
   "metadata": {},
   "outputs": [],
   "source": [
    "try: \n",
    "    cur = conn.cursor()\n",
    "except psycopg2.Error as e: \n",
    "    print(\"Error: Could not get curser to the Database\")\n",
    "    print(e)"
   ]
  },
  {
   "cell_type": "code",
   "execution_count": 15,
   "id": "4d2b1e98",
   "metadata": {},
   "outputs": [],
   "source": [
    "conn.autocommit = True\n",
    "\n",
    "try: \n",
    "    cur.execute(\"CREATE TABLE IF NOT EXISTS songs (song_title text, artist_name text, year text, album_name text, single bool);\")\n",
    "except psycopg2.Error as e: \n",
    "    print(\"Error: Issue creating table\")\n",
    "    print (e)"
   ]
  },
  {
   "cell_type": "code",
   "execution_count": 16,
   "id": "e5927df8",
   "metadata": {},
   "outputs": [],
   "source": [
    "try: \n",
    "    cur.execute(\"INSERT INTO songs \\\n",
    "                 VALUES ('Across the Universe', 'The Beatles', '1970', 'Let It Be', 'False')\")\n",
    "except psycopg2.Error as e: \n",
    "    print(\"Error: Inserting Rows\")\n",
    "    print (e)\n",
    "    \n",
    "try: \n",
    "    cur.execute(\"INSERT INTO songs \\\n",
    "                  VALUES ('Think For Yourself', 'The Beatles', '1965', 'Rubber Soul', 'False')\")\n",
    "except psycopg2.Error as e: \n",
    "    print(\"Error: Inserting Rows\")\n",
    "    print (e)"
   ]
  },
  {
   "cell_type": "code",
   "execution_count": 17,
   "id": "88e0a776",
   "metadata": {},
   "outputs": [
    {
     "name": "stdout",
     "output_type": "stream",
     "text": [
      "('Across the Universe', 'The Beatles', '1970', 'Let It Be', False)\n",
      "('Think For Yourself', 'The Beatles', '1965', 'Rubber Soul', False)\n",
      "('Across the Universe', 'The Beatles', '1970', 'Let It Be', False)\n",
      "('Think For Yourself', 'The Beatles', '1965', 'Rubber Soul', False)\n"
     ]
    }
   ],
   "source": [
    "## TO-DO: Finish the SELECT * Statement \n",
    "try: \n",
    "    cur.execute(\"SELECT * FROM songs;\")\n",
    "except psycopg2.Error as e: \n",
    "    print(\"Error: select *\")\n",
    "    print (e)\n",
    "\n",
    "row = cur.fetchone()\n",
    "while row:\n",
    "   print(row)\n",
    "   row = cur.fetchone()"
   ]
  },
  {
   "cell_type": "code",
   "execution_count": 18,
   "id": "313a44d3",
   "metadata": {},
   "outputs": [],
   "source": [
    "cur.close()\n",
    "conn.close()"
   ]
  },
  {
   "cell_type": "markdown",
   "id": "aa17f2bc",
   "metadata": {},
   "source": [
    "### this is an h3"
   ]
  },
  {
   "cell_type": "markdown",
   "id": "297a9a4b",
   "metadata": {},
   "source": []
  }
 ],
 "metadata": {
  "kernelspec": {
   "display_name": "Python 3",
   "language": "python",
   "name": "python3"
  },
  "language_info": {
   "codemirror_mode": {
    "name": "ipython",
    "version": 3
   },
   "file_extension": ".py",
   "mimetype": "text/x-python",
   "name": "python",
   "nbconvert_exporter": "python",
   "pygments_lexer": "ipython3",
   "version": "3.10.7"
  }
 },
 "nbformat": 4,
 "nbformat_minor": 5
}
