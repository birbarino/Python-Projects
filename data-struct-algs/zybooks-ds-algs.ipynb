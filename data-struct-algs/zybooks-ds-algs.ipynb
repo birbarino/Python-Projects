{
 "cells": [
  {
   "cell_type": "markdown",
   "metadata": {},
   "source": [
    "# C949 - Data Structures and Algorithms\n"
   ]
  },
  {
   "cell_type": "markdown",
   "metadata": {},
   "source": [
    "## 1. Intro"
   ]
  },
  {
   "cell_type": "markdown",
   "metadata": {},
   "source": [
    "### 1.1 Data Structures"
   ]
  },
  {
   "cell_type": "markdown",
   "metadata": {},
   "source": [
    "Some different types of DS's\n",
    "- <u>Record</u>: Stores subitems (fields) with a name associated with each subitem (like a key val pairs, I imagine?)\n",
    "- <u>Array</u>: Ordered list of items. Each item is directly accessible based on positional index\n",
    "  - Adding to the end of an array requires no items to be shifted in terms of their positional indices, but adding an item anywhere else in the list, including the beginning, requires higher-indexed items to be shifted.\n",
    "- <u>Linked list</u>: Ordered list of items in nodes, node stores pointer to next node\n",
    "- <u>Binary tree</u>: Each node stores data and has up to 2 (bi-) children (left and right child)\n",
    "- <u>Hash table</u>: Unordered items located by mapping/hashing each item to a location in an array\n",
    "- <u>Heap</u>: \n",
    "  - <u>Max-heap</u>: Tree where a parent node has a key >= child node keys\n",
    "  - <u>Min-heap</u>: Tree where parent node has a key <= child node keys\n",
    "- <u>Graph</u>: Represents cnxns among items. Consists of vertices connected by edges. **Vertex** represents an item in a graph, **edge** represents the connection between two vertices."
   ]
  },
  {
   "cell_type": "markdown",
   "metadata": {},
   "source": [
    "### 1.3 Algorithms"
   ]
  },
  {
   "cell_type": "code",
   "execution_count": 2,
   "metadata": {},
   "source": [
    "### 1.11 Python: Greedy Algorithms"
   ]
  },
  {
   "cell_type": "markdown",
   "metadata": {},
   "source": [
    "## Labs"
   ]
  },
  {
   "cell_type": "markdown",
   "metadata": {},
   "source": [
    "### 1.7 Intro to Data Structures"
   ]
  },
  {
   "cell_type": "markdown",
   "metadata": {},
   "source": []
  },
  {
   "cell_type": "code",
   "execution_count": null,
   "metadata": {},
   "outputs": [],
   "source": []
  }
 ],
 "metadata": {
  "kernelspec": {
   "display_name": "Python 3",
   "language": "python",
   "name": "python3"
  },
  "language_info": {
   "codemirror_mode": {
    "name": "ipython",
    "version": 3
   },
   "file_extension": ".py",
   "mimetype": "text/x-python",
   "name": "python",
   "nbconvert_exporter": "python",
   "pygments_lexer": "ipython3",
   "version": "3.13.0"
  }
 },
 "nbformat": 4,
 "nbformat_minor": 2
}
